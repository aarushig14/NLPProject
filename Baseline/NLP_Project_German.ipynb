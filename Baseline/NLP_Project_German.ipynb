{
  "nbformat": 4,
  "nbformat_minor": 0,
  "metadata": {
    "colab": {
      "name": "NLP_Project (1).ipynb",
      "provenance": [],
      "collapsed_sections": []
    },
    "kernelspec": {
      "name": "python3",
      "display_name": "Python 3"
    },
    "language_info": {
      "name": "python"
    },
    "accelerator": "GPU",
    "widgets": {
      "application/vnd.jupyter.widget-state+json": {
        "8822b1c6459d44149c9711f40bff192a": {
          "model_module": "@jupyter-widgets/controls",
          "model_name": "HBoxModel",
          "model_module_version": "1.5.0",
          "state": {
            "_view_name": "HBoxView",
            "_dom_classes": [],
            "_model_name": "HBoxModel",
            "_view_module": "@jupyter-widgets/controls",
            "_model_module_version": "1.5.0",
            "_view_count": null,
            "_view_module_version": "1.5.0",
            "box_style": "",
            "layout": "IPY_MODEL_a7480c30afab4be19865d9f313fb4d23",
            "_model_module": "@jupyter-widgets/controls",
            "children": [
              "IPY_MODEL_7445dc03d0b746d0bf24d9103960a81b",
              "IPY_MODEL_d8ef8dba579b40a9b3021d20eeea95fc",
              "IPY_MODEL_394810501d1b491ea09ef55da83c71f9"
            ]
          }
        },
        "a7480c30afab4be19865d9f313fb4d23": {
          "model_module": "@jupyter-widgets/base",
          "model_name": "LayoutModel",
          "model_module_version": "1.2.0",
          "state": {
            "_view_name": "LayoutView",
            "grid_template_rows": null,
            "right": null,
            "justify_content": null,
            "_view_module": "@jupyter-widgets/base",
            "overflow": null,
            "_model_module_version": "1.2.0",
            "_view_count": null,
            "flex_flow": null,
            "width": null,
            "min_width": null,
            "border": null,
            "align_items": null,
            "bottom": null,
            "_model_module": "@jupyter-widgets/base",
            "top": null,
            "grid_column": null,
            "overflow_y": null,
            "overflow_x": null,
            "grid_auto_flow": null,
            "grid_area": null,
            "grid_template_columns": null,
            "flex": null,
            "_model_name": "LayoutModel",
            "justify_items": null,
            "grid_row": null,
            "max_height": null,
            "align_content": null,
            "visibility": null,
            "align_self": null,
            "height": null,
            "min_height": null,
            "padding": null,
            "grid_auto_rows": null,
            "grid_gap": null,
            "max_width": null,
            "order": null,
            "_view_module_version": "1.2.0",
            "grid_template_areas": null,
            "object_position": null,
            "object_fit": null,
            "grid_auto_columns": null,
            "margin": null,
            "display": null,
            "left": null
          }
        },
        "7445dc03d0b746d0bf24d9103960a81b": {
          "model_module": "@jupyter-widgets/controls",
          "model_name": "HTMLModel",
          "model_module_version": "1.5.0",
          "state": {
            "_view_name": "HTMLView",
            "style": "IPY_MODEL_a1cab4cec90e419bb9edf98694bb8029",
            "_dom_classes": [],
            "description": "",
            "_model_name": "HTMLModel",
            "placeholder": "​",
            "_view_module": "@jupyter-widgets/controls",
            "_model_module_version": "1.5.0",
            "value": "Downloading: 100%",
            "_view_count": null,
            "_view_module_version": "1.5.0",
            "description_tooltip": null,
            "_model_module": "@jupyter-widgets/controls",
            "layout": "IPY_MODEL_2ad029e2d9ef490f89b880bbb96fecb5"
          }
        },
        "d8ef8dba579b40a9b3021d20eeea95fc": {
          "model_module": "@jupyter-widgets/controls",
          "model_name": "FloatProgressModel",
          "model_module_version": "1.5.0",
          "state": {
            "_view_name": "ProgressView",
            "style": "IPY_MODEL_b1d316ff632d47efad82c2f0c7b8142f",
            "_dom_classes": [],
            "description": "",
            "_model_name": "FloatProgressModel",
            "bar_style": "success",
            "max": 995526,
            "_view_module": "@jupyter-widgets/controls",
            "_model_module_version": "1.5.0",
            "value": 995526,
            "_view_count": null,
            "_view_module_version": "1.5.0",
            "orientation": "horizontal",
            "min": 0,
            "description_tooltip": null,
            "_model_module": "@jupyter-widgets/controls",
            "layout": "IPY_MODEL_016ab6f4da954244b176f0179df087a3"
          }
        },
        "394810501d1b491ea09ef55da83c71f9": {
          "model_module": "@jupyter-widgets/controls",
          "model_name": "HTMLModel",
          "model_module_version": "1.5.0",
          "state": {
            "_view_name": "HTMLView",
            "style": "IPY_MODEL_cf373a34e6494b058620f5f2f061c0f9",
            "_dom_classes": [],
            "description": "",
            "_model_name": "HTMLModel",
            "placeholder": "​",
            "_view_module": "@jupyter-widgets/controls",
            "_model_module_version": "1.5.0",
            "value": " 972k/972k [00:00&lt;00:00, 2.10MB/s]",
            "_view_count": null,
            "_view_module_version": "1.5.0",
            "description_tooltip": null,
            "_model_module": "@jupyter-widgets/controls",
            "layout": "IPY_MODEL_1003023dd5fc4bec99e26b7c1cf869c7"
          }
        },
        "a1cab4cec90e419bb9edf98694bb8029": {
          "model_module": "@jupyter-widgets/controls",
          "model_name": "DescriptionStyleModel",
          "model_module_version": "1.5.0",
          "state": {
            "_view_name": "StyleView",
            "_model_name": "DescriptionStyleModel",
            "description_width": "",
            "_view_module": "@jupyter-widgets/base",
            "_model_module_version": "1.5.0",
            "_view_count": null,
            "_view_module_version": "1.2.0",
            "_model_module": "@jupyter-widgets/controls"
          }
        },
        "2ad029e2d9ef490f89b880bbb96fecb5": {
          "model_module": "@jupyter-widgets/base",
          "model_name": "LayoutModel",
          "model_module_version": "1.2.0",
          "state": {
            "_view_name": "LayoutView",
            "grid_template_rows": null,
            "right": null,
            "justify_content": null,
            "_view_module": "@jupyter-widgets/base",
            "overflow": null,
            "_model_module_version": "1.2.0",
            "_view_count": null,
            "flex_flow": null,
            "width": null,
            "min_width": null,
            "border": null,
            "align_items": null,
            "bottom": null,
            "_model_module": "@jupyter-widgets/base",
            "top": null,
            "grid_column": null,
            "overflow_y": null,
            "overflow_x": null,
            "grid_auto_flow": null,
            "grid_area": null,
            "grid_template_columns": null,
            "flex": null,
            "_model_name": "LayoutModel",
            "justify_items": null,
            "grid_row": null,
            "max_height": null,
            "align_content": null,
            "visibility": null,
            "align_self": null,
            "height": null,
            "min_height": null,
            "padding": null,
            "grid_auto_rows": null,
            "grid_gap": null,
            "max_width": null,
            "order": null,
            "_view_module_version": "1.2.0",
            "grid_template_areas": null,
            "object_position": null,
            "object_fit": null,
            "grid_auto_columns": null,
            "margin": null,
            "display": null,
            "left": null
          }
        },
        "b1d316ff632d47efad82c2f0c7b8142f": {
          "model_module": "@jupyter-widgets/controls",
          "model_name": "ProgressStyleModel",
          "model_module_version": "1.5.0",
          "state": {
            "_view_name": "StyleView",
            "_model_name": "ProgressStyleModel",
            "description_width": "",
            "_view_module": "@jupyter-widgets/base",
            "_model_module_version": "1.5.0",
            "_view_count": null,
            "_view_module_version": "1.2.0",
            "bar_color": null,
            "_model_module": "@jupyter-widgets/controls"
          }
        },
        "016ab6f4da954244b176f0179df087a3": {
          "model_module": "@jupyter-widgets/base",
          "model_name": "LayoutModel",
          "model_module_version": "1.2.0",
          "state": {
            "_view_name": "LayoutView",
            "grid_template_rows": null,
            "right": null,
            "justify_content": null,
            "_view_module": "@jupyter-widgets/base",
            "overflow": null,
            "_model_module_version": "1.2.0",
            "_view_count": null,
            "flex_flow": null,
            "width": null,
            "min_width": null,
            "border": null,
            "align_items": null,
            "bottom": null,
            "_model_module": "@jupyter-widgets/base",
            "top": null,
            "grid_column": null,
            "overflow_y": null,
            "overflow_x": null,
            "grid_auto_flow": null,
            "grid_area": null,
            "grid_template_columns": null,
            "flex": null,
            "_model_name": "LayoutModel",
            "justify_items": null,
            "grid_row": null,
            "max_height": null,
            "align_content": null,
            "visibility": null,
            "align_self": null,
            "height": null,
            "min_height": null,
            "padding": null,
            "grid_auto_rows": null,
            "grid_gap": null,
            "max_width": null,
            "order": null,
            "_view_module_version": "1.2.0",
            "grid_template_areas": null,
            "object_position": null,
            "object_fit": null,
            "grid_auto_columns": null,
            "margin": null,
            "display": null,
            "left": null
          }
        },
        "cf373a34e6494b058620f5f2f061c0f9": {
          "model_module": "@jupyter-widgets/controls",
          "model_name": "DescriptionStyleModel",
          "model_module_version": "1.5.0",
          "state": {
            "_view_name": "StyleView",
            "_model_name": "DescriptionStyleModel",
            "description_width": "",
            "_view_module": "@jupyter-widgets/base",
            "_model_module_version": "1.5.0",
            "_view_count": null,
            "_view_module_version": "1.2.0",
            "_model_module": "@jupyter-widgets/controls"
          }
        },
        "1003023dd5fc4bec99e26b7c1cf869c7": {
          "model_module": "@jupyter-widgets/base",
          "model_name": "LayoutModel",
          "model_module_version": "1.2.0",
          "state": {
            "_view_name": "LayoutView",
            "grid_template_rows": null,
            "right": null,
            "justify_content": null,
            "_view_module": "@jupyter-widgets/base",
            "overflow": null,
            "_model_module_version": "1.2.0",
            "_view_count": null,
            "flex_flow": null,
            "width": null,
            "min_width": null,
            "border": null,
            "align_items": null,
            "bottom": null,
            "_model_module": "@jupyter-widgets/base",
            "top": null,
            "grid_column": null,
            "overflow_y": null,
            "overflow_x": null,
            "grid_auto_flow": null,
            "grid_area": null,
            "grid_template_columns": null,
            "flex": null,
            "_model_name": "LayoutModel",
            "justify_items": null,
            "grid_row": null,
            "max_height": null,
            "align_content": null,
            "visibility": null,
            "align_self": null,
            "height": null,
            "min_height": null,
            "padding": null,
            "grid_auto_rows": null,
            "grid_gap": null,
            "max_width": null,
            "order": null,
            "_view_module_version": "1.2.0",
            "grid_template_areas": null,
            "object_position": null,
            "object_fit": null,
            "grid_auto_columns": null,
            "margin": null,
            "display": null,
            "left": null
          }
        },
        "dd8d86aaa2cf4a7aa261b2e35c602d57": {
          "model_module": "@jupyter-widgets/controls",
          "model_name": "HBoxModel",
          "model_module_version": "1.5.0",
          "state": {
            "_view_name": "HBoxView",
            "_dom_classes": [],
            "_model_name": "HBoxModel",
            "_view_module": "@jupyter-widgets/controls",
            "_model_module_version": "1.5.0",
            "_view_count": null,
            "_view_module_version": "1.5.0",
            "box_style": "",
            "layout": "IPY_MODEL_26ff7f11f916485d8d96e8a1a30fab8b",
            "_model_module": "@jupyter-widgets/controls",
            "children": [
              "IPY_MODEL_2c2a1786f3264b7fb815a69adeeab2f0",
              "IPY_MODEL_ab8625d78f354750ae5fc47fa61f7175",
              "IPY_MODEL_f327bc4d1aac435a9f6ff1c3286a5387"
            ]
          }
        },
        "26ff7f11f916485d8d96e8a1a30fab8b": {
          "model_module": "@jupyter-widgets/base",
          "model_name": "LayoutModel",
          "model_module_version": "1.2.0",
          "state": {
            "_view_name": "LayoutView",
            "grid_template_rows": null,
            "right": null,
            "justify_content": null,
            "_view_module": "@jupyter-widgets/base",
            "overflow": null,
            "_model_module_version": "1.2.0",
            "_view_count": null,
            "flex_flow": null,
            "width": null,
            "min_width": null,
            "border": null,
            "align_items": null,
            "bottom": null,
            "_model_module": "@jupyter-widgets/base",
            "top": null,
            "grid_column": null,
            "overflow_y": null,
            "overflow_x": null,
            "grid_auto_flow": null,
            "grid_area": null,
            "grid_template_columns": null,
            "flex": null,
            "_model_name": "LayoutModel",
            "justify_items": null,
            "grid_row": null,
            "max_height": null,
            "align_content": null,
            "visibility": null,
            "align_self": null,
            "height": null,
            "min_height": null,
            "padding": null,
            "grid_auto_rows": null,
            "grid_gap": null,
            "max_width": null,
            "order": null,
            "_view_module_version": "1.2.0",
            "grid_template_areas": null,
            "object_position": null,
            "object_fit": null,
            "grid_auto_columns": null,
            "margin": null,
            "display": null,
            "left": null
          }
        },
        "2c2a1786f3264b7fb815a69adeeab2f0": {
          "model_module": "@jupyter-widgets/controls",
          "model_name": "HTMLModel",
          "model_module_version": "1.5.0",
          "state": {
            "_view_name": "HTMLView",
            "style": "IPY_MODEL_93b8bd11fafa49208cad3956b3716028",
            "_dom_classes": [],
            "description": "",
            "_model_name": "HTMLModel",
            "placeholder": "​",
            "_view_module": "@jupyter-widgets/controls",
            "_model_module_version": "1.5.0",
            "value": "Downloading: 100%",
            "_view_count": null,
            "_view_module_version": "1.5.0",
            "description_tooltip": null,
            "_model_module": "@jupyter-widgets/controls",
            "layout": "IPY_MODEL_a1980d5095ba486c8a278243ad5a031c"
          }
        },
        "ab8625d78f354750ae5fc47fa61f7175": {
          "model_module": "@jupyter-widgets/controls",
          "model_name": "FloatProgressModel",
          "model_module_version": "1.5.0",
          "state": {
            "_view_name": "ProgressView",
            "style": "IPY_MODEL_248479d5e22c4ae69356b1ca8c80737d",
            "_dom_classes": [],
            "description": "",
            "_model_name": "FloatProgressModel",
            "bar_style": "success",
            "max": 29,
            "_view_module": "@jupyter-widgets/controls",
            "_model_module_version": "1.5.0",
            "value": 29,
            "_view_count": null,
            "_view_module_version": "1.5.0",
            "orientation": "horizontal",
            "min": 0,
            "description_tooltip": null,
            "_model_module": "@jupyter-widgets/controls",
            "layout": "IPY_MODEL_e234e576267b4a159354712150bed4e2"
          }
        },
        "f327bc4d1aac435a9f6ff1c3286a5387": {
          "model_module": "@jupyter-widgets/controls",
          "model_name": "HTMLModel",
          "model_module_version": "1.5.0",
          "state": {
            "_view_name": "HTMLView",
            "style": "IPY_MODEL_19caeea6b4e5422993c42dacde03cda3",
            "_dom_classes": [],
            "description": "",
            "_model_name": "HTMLModel",
            "placeholder": "​",
            "_view_module": "@jupyter-widgets/controls",
            "_model_module_version": "1.5.0",
            "value": " 29.0/29.0 [00:00&lt;00:00, 808B/s]",
            "_view_count": null,
            "_view_module_version": "1.5.0",
            "description_tooltip": null,
            "_model_module": "@jupyter-widgets/controls",
            "layout": "IPY_MODEL_cbdd82e99ed1453cbe0b67d54a6fc1e6"
          }
        },
        "93b8bd11fafa49208cad3956b3716028": {
          "model_module": "@jupyter-widgets/controls",
          "model_name": "DescriptionStyleModel",
          "model_module_version": "1.5.0",
          "state": {
            "_view_name": "StyleView",
            "_model_name": "DescriptionStyleModel",
            "description_width": "",
            "_view_module": "@jupyter-widgets/base",
            "_model_module_version": "1.5.0",
            "_view_count": null,
            "_view_module_version": "1.2.0",
            "_model_module": "@jupyter-widgets/controls"
          }
        },
        "a1980d5095ba486c8a278243ad5a031c": {
          "model_module": "@jupyter-widgets/base",
          "model_name": "LayoutModel",
          "model_module_version": "1.2.0",
          "state": {
            "_view_name": "LayoutView",
            "grid_template_rows": null,
            "right": null,
            "justify_content": null,
            "_view_module": "@jupyter-widgets/base",
            "overflow": null,
            "_model_module_version": "1.2.0",
            "_view_count": null,
            "flex_flow": null,
            "width": null,
            "min_width": null,
            "border": null,
            "align_items": null,
            "bottom": null,
            "_model_module": "@jupyter-widgets/base",
            "top": null,
            "grid_column": null,
            "overflow_y": null,
            "overflow_x": null,
            "grid_auto_flow": null,
            "grid_area": null,
            "grid_template_columns": null,
            "flex": null,
            "_model_name": "LayoutModel",
            "justify_items": null,
            "grid_row": null,
            "max_height": null,
            "align_content": null,
            "visibility": null,
            "align_self": null,
            "height": null,
            "min_height": null,
            "padding": null,
            "grid_auto_rows": null,
            "grid_gap": null,
            "max_width": null,
            "order": null,
            "_view_module_version": "1.2.0",
            "grid_template_areas": null,
            "object_position": null,
            "object_fit": null,
            "grid_auto_columns": null,
            "margin": null,
            "display": null,
            "left": null
          }
        },
        "248479d5e22c4ae69356b1ca8c80737d": {
          "model_module": "@jupyter-widgets/controls",
          "model_name": "ProgressStyleModel",
          "model_module_version": "1.5.0",
          "state": {
            "_view_name": "StyleView",
            "_model_name": "ProgressStyleModel",
            "description_width": "",
            "_view_module": "@jupyter-widgets/base",
            "_model_module_version": "1.5.0",
            "_view_count": null,
            "_view_module_version": "1.2.0",
            "bar_color": null,
            "_model_module": "@jupyter-widgets/controls"
          }
        },
        "e234e576267b4a159354712150bed4e2": {
          "model_module": "@jupyter-widgets/base",
          "model_name": "LayoutModel",
          "model_module_version": "1.2.0",
          "state": {
            "_view_name": "LayoutView",
            "grid_template_rows": null,
            "right": null,
            "justify_content": null,
            "_view_module": "@jupyter-widgets/base",
            "overflow": null,
            "_model_module_version": "1.2.0",
            "_view_count": null,
            "flex_flow": null,
            "width": null,
            "min_width": null,
            "border": null,
            "align_items": null,
            "bottom": null,
            "_model_module": "@jupyter-widgets/base",
            "top": null,
            "grid_column": null,
            "overflow_y": null,
            "overflow_x": null,
            "grid_auto_flow": null,
            "grid_area": null,
            "grid_template_columns": null,
            "flex": null,
            "_model_name": "LayoutModel",
            "justify_items": null,
            "grid_row": null,
            "max_height": null,
            "align_content": null,
            "visibility": null,
            "align_self": null,
            "height": null,
            "min_height": null,
            "padding": null,
            "grid_auto_rows": null,
            "grid_gap": null,
            "max_width": null,
            "order": null,
            "_view_module_version": "1.2.0",
            "grid_template_areas": null,
            "object_position": null,
            "object_fit": null,
            "grid_auto_columns": null,
            "margin": null,
            "display": null,
            "left": null
          }
        },
        "19caeea6b4e5422993c42dacde03cda3": {
          "model_module": "@jupyter-widgets/controls",
          "model_name": "DescriptionStyleModel",
          "model_module_version": "1.5.0",
          "state": {
            "_view_name": "StyleView",
            "_model_name": "DescriptionStyleModel",
            "description_width": "",
            "_view_module": "@jupyter-widgets/base",
            "_model_module_version": "1.5.0",
            "_view_count": null,
            "_view_module_version": "1.2.0",
            "_model_module": "@jupyter-widgets/controls"
          }
        },
        "cbdd82e99ed1453cbe0b67d54a6fc1e6": {
          "model_module": "@jupyter-widgets/base",
          "model_name": "LayoutModel",
          "model_module_version": "1.2.0",
          "state": {
            "_view_name": "LayoutView",
            "grid_template_rows": null,
            "right": null,
            "justify_content": null,
            "_view_module": "@jupyter-widgets/base",
            "overflow": null,
            "_model_module_version": "1.2.0",
            "_view_count": null,
            "flex_flow": null,
            "width": null,
            "min_width": null,
            "border": null,
            "align_items": null,
            "bottom": null,
            "_model_module": "@jupyter-widgets/base",
            "top": null,
            "grid_column": null,
            "overflow_y": null,
            "overflow_x": null,
            "grid_auto_flow": null,
            "grid_area": null,
            "grid_template_columns": null,
            "flex": null,
            "_model_name": "LayoutModel",
            "justify_items": null,
            "grid_row": null,
            "max_height": null,
            "align_content": null,
            "visibility": null,
            "align_self": null,
            "height": null,
            "min_height": null,
            "padding": null,
            "grid_auto_rows": null,
            "grid_gap": null,
            "max_width": null,
            "order": null,
            "_view_module_version": "1.2.0",
            "grid_template_areas": null,
            "object_position": null,
            "object_fit": null,
            "grid_auto_columns": null,
            "margin": null,
            "display": null,
            "left": null
          }
        },
        "b7a77fdf93544961908327bfddfd69a5": {
          "model_module": "@jupyter-widgets/controls",
          "model_name": "HBoxModel",
          "model_module_version": "1.5.0",
          "state": {
            "_view_name": "HBoxView",
            "_dom_classes": [],
            "_model_name": "HBoxModel",
            "_view_module": "@jupyter-widgets/controls",
            "_model_module_version": "1.5.0",
            "_view_count": null,
            "_view_module_version": "1.5.0",
            "box_style": "",
            "layout": "IPY_MODEL_3b3db24b7e5141d5bda1e0a471be7a77",
            "_model_module": "@jupyter-widgets/controls",
            "children": [
              "IPY_MODEL_92c4f0716e4442bda921b2e4101b294c",
              "IPY_MODEL_f02ea2e26b384277b9a3797d1709ee67",
              "IPY_MODEL_a7d66a124c444d1393dfa2c60795ee8b"
            ]
          }
        },
        "3b3db24b7e5141d5bda1e0a471be7a77": {
          "model_module": "@jupyter-widgets/base",
          "model_name": "LayoutModel",
          "model_module_version": "1.2.0",
          "state": {
            "_view_name": "LayoutView",
            "grid_template_rows": null,
            "right": null,
            "justify_content": null,
            "_view_module": "@jupyter-widgets/base",
            "overflow": null,
            "_model_module_version": "1.2.0",
            "_view_count": null,
            "flex_flow": null,
            "width": null,
            "min_width": null,
            "border": null,
            "align_items": null,
            "bottom": null,
            "_model_module": "@jupyter-widgets/base",
            "top": null,
            "grid_column": null,
            "overflow_y": null,
            "overflow_x": null,
            "grid_auto_flow": null,
            "grid_area": null,
            "grid_template_columns": null,
            "flex": null,
            "_model_name": "LayoutModel",
            "justify_items": null,
            "grid_row": null,
            "max_height": null,
            "align_content": null,
            "visibility": null,
            "align_self": null,
            "height": null,
            "min_height": null,
            "padding": null,
            "grid_auto_rows": null,
            "grid_gap": null,
            "max_width": null,
            "order": null,
            "_view_module_version": "1.2.0",
            "grid_template_areas": null,
            "object_position": null,
            "object_fit": null,
            "grid_auto_columns": null,
            "margin": null,
            "display": null,
            "left": null
          }
        },
        "92c4f0716e4442bda921b2e4101b294c": {
          "model_module": "@jupyter-widgets/controls",
          "model_name": "HTMLModel",
          "model_module_version": "1.5.0",
          "state": {
            "_view_name": "HTMLView",
            "style": "IPY_MODEL_90a99c22f14647628f7ea7e02fe9e99e",
            "_dom_classes": [],
            "description": "",
            "_model_name": "HTMLModel",
            "placeholder": "​",
            "_view_module": "@jupyter-widgets/controls",
            "_model_module_version": "1.5.0",
            "value": "Downloading: 100%",
            "_view_count": null,
            "_view_module_version": "1.5.0",
            "description_tooltip": null,
            "_model_module": "@jupyter-widgets/controls",
            "layout": "IPY_MODEL_17781228c9a84beca13cf3e2ec4643c5"
          }
        },
        "f02ea2e26b384277b9a3797d1709ee67": {
          "model_module": "@jupyter-widgets/controls",
          "model_name": "FloatProgressModel",
          "model_module_version": "1.5.0",
          "state": {
            "_view_name": "ProgressView",
            "style": "IPY_MODEL_25333bc11e274212927aef3b23772da9",
            "_dom_classes": [],
            "description": "",
            "_model_name": "FloatProgressModel",
            "bar_style": "success",
            "max": 1961828,
            "_view_module": "@jupyter-widgets/controls",
            "_model_module_version": "1.5.0",
            "value": 1961828,
            "_view_count": null,
            "_view_module_version": "1.5.0",
            "orientation": "horizontal",
            "min": 0,
            "description_tooltip": null,
            "_model_module": "@jupyter-widgets/controls",
            "layout": "IPY_MODEL_3fa2e8f938eb4510b9fb376dfa8f8086"
          }
        },
        "a7d66a124c444d1393dfa2c60795ee8b": {
          "model_module": "@jupyter-widgets/controls",
          "model_name": "HTMLModel",
          "model_module_version": "1.5.0",
          "state": {
            "_view_name": "HTMLView",
            "style": "IPY_MODEL_40000a9ee2ce482eb31758697fc0293c",
            "_dom_classes": [],
            "description": "",
            "_model_name": "HTMLModel",
            "placeholder": "​",
            "_view_module": "@jupyter-widgets/controls",
            "_model_module_version": "1.5.0",
            "value": " 1.87M/1.87M [00:00&lt;00:00, 2.15MB/s]",
            "_view_count": null,
            "_view_module_version": "1.5.0",
            "description_tooltip": null,
            "_model_module": "@jupyter-widgets/controls",
            "layout": "IPY_MODEL_4c29a6dddf2b43908fa1f3f7f40b4471"
          }
        },
        "90a99c22f14647628f7ea7e02fe9e99e": {
          "model_module": "@jupyter-widgets/controls",
          "model_name": "DescriptionStyleModel",
          "model_module_version": "1.5.0",
          "state": {
            "_view_name": "StyleView",
            "_model_name": "DescriptionStyleModel",
            "description_width": "",
            "_view_module": "@jupyter-widgets/base",
            "_model_module_version": "1.5.0",
            "_view_count": null,
            "_view_module_version": "1.2.0",
            "_model_module": "@jupyter-widgets/controls"
          }
        },
        "17781228c9a84beca13cf3e2ec4643c5": {
          "model_module": "@jupyter-widgets/base",
          "model_name": "LayoutModel",
          "model_module_version": "1.2.0",
          "state": {
            "_view_name": "LayoutView",
            "grid_template_rows": null,
            "right": null,
            "justify_content": null,
            "_view_module": "@jupyter-widgets/base",
            "overflow": null,
            "_model_module_version": "1.2.0",
            "_view_count": null,
            "flex_flow": null,
            "width": null,
            "min_width": null,
            "border": null,
            "align_items": null,
            "bottom": null,
            "_model_module": "@jupyter-widgets/base",
            "top": null,
            "grid_column": null,
            "overflow_y": null,
            "overflow_x": null,
            "grid_auto_flow": null,
            "grid_area": null,
            "grid_template_columns": null,
            "flex": null,
            "_model_name": "LayoutModel",
            "justify_items": null,
            "grid_row": null,
            "max_height": null,
            "align_content": null,
            "visibility": null,
            "align_self": null,
            "height": null,
            "min_height": null,
            "padding": null,
            "grid_auto_rows": null,
            "grid_gap": null,
            "max_width": null,
            "order": null,
            "_view_module_version": "1.2.0",
            "grid_template_areas": null,
            "object_position": null,
            "object_fit": null,
            "grid_auto_columns": null,
            "margin": null,
            "display": null,
            "left": null
          }
        },
        "25333bc11e274212927aef3b23772da9": {
          "model_module": "@jupyter-widgets/controls",
          "model_name": "ProgressStyleModel",
          "model_module_version": "1.5.0",
          "state": {
            "_view_name": "StyleView",
            "_model_name": "ProgressStyleModel",
            "description_width": "",
            "_view_module": "@jupyter-widgets/base",
            "_model_module_version": "1.5.0",
            "_view_count": null,
            "_view_module_version": "1.2.0",
            "bar_color": null,
            "_model_module": "@jupyter-widgets/controls"
          }
        },
        "3fa2e8f938eb4510b9fb376dfa8f8086": {
          "model_module": "@jupyter-widgets/base",
          "model_name": "LayoutModel",
          "model_module_version": "1.2.0",
          "state": {
            "_view_name": "LayoutView",
            "grid_template_rows": null,
            "right": null,
            "justify_content": null,
            "_view_module": "@jupyter-widgets/base",
            "overflow": null,
            "_model_module_version": "1.2.0",
            "_view_count": null,
            "flex_flow": null,
            "width": null,
            "min_width": null,
            "border": null,
            "align_items": null,
            "bottom": null,
            "_model_module": "@jupyter-widgets/base",
            "top": null,
            "grid_column": null,
            "overflow_y": null,
            "overflow_x": null,
            "grid_auto_flow": null,
            "grid_area": null,
            "grid_template_columns": null,
            "flex": null,
            "_model_name": "LayoutModel",
            "justify_items": null,
            "grid_row": null,
            "max_height": null,
            "align_content": null,
            "visibility": null,
            "align_self": null,
            "height": null,
            "min_height": null,
            "padding": null,
            "grid_auto_rows": null,
            "grid_gap": null,
            "max_width": null,
            "order": null,
            "_view_module_version": "1.2.0",
            "grid_template_areas": null,
            "object_position": null,
            "object_fit": null,
            "grid_auto_columns": null,
            "margin": null,
            "display": null,
            "left": null
          }
        },
        "40000a9ee2ce482eb31758697fc0293c": {
          "model_module": "@jupyter-widgets/controls",
          "model_name": "DescriptionStyleModel",
          "model_module_version": "1.5.0",
          "state": {
            "_view_name": "StyleView",
            "_model_name": "DescriptionStyleModel",
            "description_width": "",
            "_view_module": "@jupyter-widgets/base",
            "_model_module_version": "1.5.0",
            "_view_count": null,
            "_view_module_version": "1.2.0",
            "_model_module": "@jupyter-widgets/controls"
          }
        },
        "4c29a6dddf2b43908fa1f3f7f40b4471": {
          "model_module": "@jupyter-widgets/base",
          "model_name": "LayoutModel",
          "model_module_version": "1.2.0",
          "state": {
            "_view_name": "LayoutView",
            "grid_template_rows": null,
            "right": null,
            "justify_content": null,
            "_view_module": "@jupyter-widgets/base",
            "overflow": null,
            "_model_module_version": "1.2.0",
            "_view_count": null,
            "flex_flow": null,
            "width": null,
            "min_width": null,
            "border": null,
            "align_items": null,
            "bottom": null,
            "_model_module": "@jupyter-widgets/base",
            "top": null,
            "grid_column": null,
            "overflow_y": null,
            "overflow_x": null,
            "grid_auto_flow": null,
            "grid_area": null,
            "grid_template_columns": null,
            "flex": null,
            "_model_name": "LayoutModel",
            "justify_items": null,
            "grid_row": null,
            "max_height": null,
            "align_content": null,
            "visibility": null,
            "align_self": null,
            "height": null,
            "min_height": null,
            "padding": null,
            "grid_auto_rows": null,
            "grid_gap": null,
            "max_width": null,
            "order": null,
            "_view_module_version": "1.2.0",
            "grid_template_areas": null,
            "object_position": null,
            "object_fit": null,
            "grid_auto_columns": null,
            "margin": null,
            "display": null,
            "left": null
          }
        },
        "7f3c8a45ae7e4ae19321274c3d18ef8c": {
          "model_module": "@jupyter-widgets/controls",
          "model_name": "HBoxModel",
          "model_module_version": "1.5.0",
          "state": {
            "_view_name": "HBoxView",
            "_dom_classes": [],
            "_model_name": "HBoxModel",
            "_view_module": "@jupyter-widgets/controls",
            "_model_module_version": "1.5.0",
            "_view_count": null,
            "_view_module_version": "1.5.0",
            "box_style": "",
            "layout": "IPY_MODEL_c8409ca4956d42498fb47c98ba32f70d",
            "_model_module": "@jupyter-widgets/controls",
            "children": [
              "IPY_MODEL_51f4fb05e494496cbf496fc406513af4",
              "IPY_MODEL_8e22a47f7cf84f6bad5396ae6f2f31c3",
              "IPY_MODEL_726e29ff7b4d44028e27676bebdb363f"
            ]
          }
        },
        "c8409ca4956d42498fb47c98ba32f70d": {
          "model_module": "@jupyter-widgets/base",
          "model_name": "LayoutModel",
          "model_module_version": "1.2.0",
          "state": {
            "_view_name": "LayoutView",
            "grid_template_rows": null,
            "right": null,
            "justify_content": null,
            "_view_module": "@jupyter-widgets/base",
            "overflow": null,
            "_model_module_version": "1.2.0",
            "_view_count": null,
            "flex_flow": null,
            "width": null,
            "min_width": null,
            "border": null,
            "align_items": null,
            "bottom": null,
            "_model_module": "@jupyter-widgets/base",
            "top": null,
            "grid_column": null,
            "overflow_y": null,
            "overflow_x": null,
            "grid_auto_flow": null,
            "grid_area": null,
            "grid_template_columns": null,
            "flex": null,
            "_model_name": "LayoutModel",
            "justify_items": null,
            "grid_row": null,
            "max_height": null,
            "align_content": null,
            "visibility": null,
            "align_self": null,
            "height": null,
            "min_height": null,
            "padding": null,
            "grid_auto_rows": null,
            "grid_gap": null,
            "max_width": null,
            "order": null,
            "_view_module_version": "1.2.0",
            "grid_template_areas": null,
            "object_position": null,
            "object_fit": null,
            "grid_auto_columns": null,
            "margin": null,
            "display": null,
            "left": null
          }
        },
        "51f4fb05e494496cbf496fc406513af4": {
          "model_module": "@jupyter-widgets/controls",
          "model_name": "HTMLModel",
          "model_module_version": "1.5.0",
          "state": {
            "_view_name": "HTMLView",
            "style": "IPY_MODEL_05ab161ac2694686a8b5fea3a941822e",
            "_dom_classes": [],
            "description": "",
            "_model_name": "HTMLModel",
            "placeholder": "​",
            "_view_module": "@jupyter-widgets/controls",
            "_model_module_version": "1.5.0",
            "value": "Downloading: 100%",
            "_view_count": null,
            "_view_module_version": "1.5.0",
            "description_tooltip": null,
            "_model_module": "@jupyter-widgets/controls",
            "layout": "IPY_MODEL_9a31b483a0f44bd9a5c0e4cbacee8810"
          }
        },
        "8e22a47f7cf84f6bad5396ae6f2f31c3": {
          "model_module": "@jupyter-widgets/controls",
          "model_name": "FloatProgressModel",
          "model_module_version": "1.5.0",
          "state": {
            "_view_name": "ProgressView",
            "style": "IPY_MODEL_2e4e9206f1674848967f79dcfdafd20f",
            "_dom_classes": [],
            "description": "",
            "_model_name": "FloatProgressModel",
            "bar_style": "success",
            "max": 625,
            "_view_module": "@jupyter-widgets/controls",
            "_model_module_version": "1.5.0",
            "value": 625,
            "_view_count": null,
            "_view_module_version": "1.5.0",
            "orientation": "horizontal",
            "min": 0,
            "description_tooltip": null,
            "_model_module": "@jupyter-widgets/controls",
            "layout": "IPY_MODEL_37cdbcb52db54a048ab07ea62f0db672"
          }
        },
        "726e29ff7b4d44028e27676bebdb363f": {
          "model_module": "@jupyter-widgets/controls",
          "model_name": "HTMLModel",
          "model_module_version": "1.5.0",
          "state": {
            "_view_name": "HTMLView",
            "style": "IPY_MODEL_c3945b64e356482b86c166ba63c17ddb",
            "_dom_classes": [],
            "description": "",
            "_model_name": "HTMLModel",
            "placeholder": "​",
            "_view_module": "@jupyter-widgets/controls",
            "_model_module_version": "1.5.0",
            "value": " 625/625 [00:00&lt;00:00, 15.4kB/s]",
            "_view_count": null,
            "_view_module_version": "1.5.0",
            "description_tooltip": null,
            "_model_module": "@jupyter-widgets/controls",
            "layout": "IPY_MODEL_8e40484205d14fb189055be053c8ba32"
          }
        },
        "05ab161ac2694686a8b5fea3a941822e": {
          "model_module": "@jupyter-widgets/controls",
          "model_name": "DescriptionStyleModel",
          "model_module_version": "1.5.0",
          "state": {
            "_view_name": "StyleView",
            "_model_name": "DescriptionStyleModel",
            "description_width": "",
            "_view_module": "@jupyter-widgets/base",
            "_model_module_version": "1.5.0",
            "_view_count": null,
            "_view_module_version": "1.2.0",
            "_model_module": "@jupyter-widgets/controls"
          }
        },
        "9a31b483a0f44bd9a5c0e4cbacee8810": {
          "model_module": "@jupyter-widgets/base",
          "model_name": "LayoutModel",
          "model_module_version": "1.2.0",
          "state": {
            "_view_name": "LayoutView",
            "grid_template_rows": null,
            "right": null,
            "justify_content": null,
            "_view_module": "@jupyter-widgets/base",
            "overflow": null,
            "_model_module_version": "1.2.0",
            "_view_count": null,
            "flex_flow": null,
            "width": null,
            "min_width": null,
            "border": null,
            "align_items": null,
            "bottom": null,
            "_model_module": "@jupyter-widgets/base",
            "top": null,
            "grid_column": null,
            "overflow_y": null,
            "overflow_x": null,
            "grid_auto_flow": null,
            "grid_area": null,
            "grid_template_columns": null,
            "flex": null,
            "_model_name": "LayoutModel",
            "justify_items": null,
            "grid_row": null,
            "max_height": null,
            "align_content": null,
            "visibility": null,
            "align_self": null,
            "height": null,
            "min_height": null,
            "padding": null,
            "grid_auto_rows": null,
            "grid_gap": null,
            "max_width": null,
            "order": null,
            "_view_module_version": "1.2.0",
            "grid_template_areas": null,
            "object_position": null,
            "object_fit": null,
            "grid_auto_columns": null,
            "margin": null,
            "display": null,
            "left": null
          }
        },
        "2e4e9206f1674848967f79dcfdafd20f": {
          "model_module": "@jupyter-widgets/controls",
          "model_name": "ProgressStyleModel",
          "model_module_version": "1.5.0",
          "state": {
            "_view_name": "StyleView",
            "_model_name": "ProgressStyleModel",
            "description_width": "",
            "_view_module": "@jupyter-widgets/base",
            "_model_module_version": "1.5.0",
            "_view_count": null,
            "_view_module_version": "1.2.0",
            "bar_color": null,
            "_model_module": "@jupyter-widgets/controls"
          }
        },
        "37cdbcb52db54a048ab07ea62f0db672": {
          "model_module": "@jupyter-widgets/base",
          "model_name": "LayoutModel",
          "model_module_version": "1.2.0",
          "state": {
            "_view_name": "LayoutView",
            "grid_template_rows": null,
            "right": null,
            "justify_content": null,
            "_view_module": "@jupyter-widgets/base",
            "overflow": null,
            "_model_module_version": "1.2.0",
            "_view_count": null,
            "flex_flow": null,
            "width": null,
            "min_width": null,
            "border": null,
            "align_items": null,
            "bottom": null,
            "_model_module": "@jupyter-widgets/base",
            "top": null,
            "grid_column": null,
            "overflow_y": null,
            "overflow_x": null,
            "grid_auto_flow": null,
            "grid_area": null,
            "grid_template_columns": null,
            "flex": null,
            "_model_name": "LayoutModel",
            "justify_items": null,
            "grid_row": null,
            "max_height": null,
            "align_content": null,
            "visibility": null,
            "align_self": null,
            "height": null,
            "min_height": null,
            "padding": null,
            "grid_auto_rows": null,
            "grid_gap": null,
            "max_width": null,
            "order": null,
            "_view_module_version": "1.2.0",
            "grid_template_areas": null,
            "object_position": null,
            "object_fit": null,
            "grid_auto_columns": null,
            "margin": null,
            "display": null,
            "left": null
          }
        },
        "c3945b64e356482b86c166ba63c17ddb": {
          "model_module": "@jupyter-widgets/controls",
          "model_name": "DescriptionStyleModel",
          "model_module_version": "1.5.0",
          "state": {
            "_view_name": "StyleView",
            "_model_name": "DescriptionStyleModel",
            "description_width": "",
            "_view_module": "@jupyter-widgets/base",
            "_model_module_version": "1.5.0",
            "_view_count": null,
            "_view_module_version": "1.2.0",
            "_model_module": "@jupyter-widgets/controls"
          }
        },
        "8e40484205d14fb189055be053c8ba32": {
          "model_module": "@jupyter-widgets/base",
          "model_name": "LayoutModel",
          "model_module_version": "1.2.0",
          "state": {
            "_view_name": "LayoutView",
            "grid_template_rows": null,
            "right": null,
            "justify_content": null,
            "_view_module": "@jupyter-widgets/base",
            "overflow": null,
            "_model_module_version": "1.2.0",
            "_view_count": null,
            "flex_flow": null,
            "width": null,
            "min_width": null,
            "border": null,
            "align_items": null,
            "bottom": null,
            "_model_module": "@jupyter-widgets/base",
            "top": null,
            "grid_column": null,
            "overflow_y": null,
            "overflow_x": null,
            "grid_auto_flow": null,
            "grid_area": null,
            "grid_template_columns": null,
            "flex": null,
            "_model_name": "LayoutModel",
            "justify_items": null,
            "grid_row": null,
            "max_height": null,
            "align_content": null,
            "visibility": null,
            "align_self": null,
            "height": null,
            "min_height": null,
            "padding": null,
            "grid_auto_rows": null,
            "grid_gap": null,
            "max_width": null,
            "order": null,
            "_view_module_version": "1.2.0",
            "grid_template_areas": null,
            "object_position": null,
            "object_fit": null,
            "grid_auto_columns": null,
            "margin": null,
            "display": null,
            "left": null
          }
        },
        "a44b0ce9f1d84de7888a60c991a59764": {
          "model_module": "@jupyter-widgets/controls",
          "model_name": "HBoxModel",
          "model_module_version": "1.5.0",
          "state": {
            "_view_name": "HBoxView",
            "_dom_classes": [],
            "_model_name": "HBoxModel",
            "_view_module": "@jupyter-widgets/controls",
            "_model_module_version": "1.5.0",
            "_view_count": null,
            "_view_module_version": "1.5.0",
            "box_style": "",
            "layout": "IPY_MODEL_4a33436eb1a94be48508a98629981eee",
            "_model_module": "@jupyter-widgets/controls",
            "children": [
              "IPY_MODEL_4da9b826df1340f889a085529cd6fd10",
              "IPY_MODEL_98829b86582c466ca75d95824291b011",
              "IPY_MODEL_14f45f6ff9b1417db102777c1a0b7624"
            ]
          }
        },
        "4a33436eb1a94be48508a98629981eee": {
          "model_module": "@jupyter-widgets/base",
          "model_name": "LayoutModel",
          "model_module_version": "1.2.0",
          "state": {
            "_view_name": "LayoutView",
            "grid_template_rows": null,
            "right": null,
            "justify_content": null,
            "_view_module": "@jupyter-widgets/base",
            "overflow": null,
            "_model_module_version": "1.2.0",
            "_view_count": null,
            "flex_flow": null,
            "width": null,
            "min_width": null,
            "border": null,
            "align_items": null,
            "bottom": null,
            "_model_module": "@jupyter-widgets/base",
            "top": null,
            "grid_column": null,
            "overflow_y": null,
            "overflow_x": null,
            "grid_auto_flow": null,
            "grid_area": null,
            "grid_template_columns": null,
            "flex": null,
            "_model_name": "LayoutModel",
            "justify_items": null,
            "grid_row": null,
            "max_height": null,
            "align_content": null,
            "visibility": null,
            "align_self": null,
            "height": null,
            "min_height": null,
            "padding": null,
            "grid_auto_rows": null,
            "grid_gap": null,
            "max_width": null,
            "order": null,
            "_view_module_version": "1.2.0",
            "grid_template_areas": null,
            "object_position": null,
            "object_fit": null,
            "grid_auto_columns": null,
            "margin": null,
            "display": null,
            "left": null
          }
        },
        "4da9b826df1340f889a085529cd6fd10": {
          "model_module": "@jupyter-widgets/controls",
          "model_name": "HTMLModel",
          "model_module_version": "1.5.0",
          "state": {
            "_view_name": "HTMLView",
            "style": "IPY_MODEL_f685df4e26f34b5fa84b7fe87364eeab",
            "_dom_classes": [],
            "description": "",
            "_model_name": "HTMLModel",
            "placeholder": "​",
            "_view_module": "@jupyter-widgets/controls",
            "_model_module_version": "1.5.0",
            "value": "Downloading: 100%",
            "_view_count": null,
            "_view_module_version": "1.5.0",
            "description_tooltip": null,
            "_model_module": "@jupyter-widgets/controls",
            "layout": "IPY_MODEL_8de6cd5ac5f14ac1af949825bd4c1138"
          }
        },
        "98829b86582c466ca75d95824291b011": {
          "model_module": "@jupyter-widgets/controls",
          "model_name": "FloatProgressModel",
          "model_module_version": "1.5.0",
          "state": {
            "_view_name": "ProgressView",
            "style": "IPY_MODEL_0d957f012c83473091896c818c16e392",
            "_dom_classes": [],
            "description": "",
            "_model_name": "FloatProgressModel",
            "bar_style": "success",
            "max": 714314041,
            "_view_module": "@jupyter-widgets/controls",
            "_model_module_version": "1.5.0",
            "value": 714314041,
            "_view_count": null,
            "_view_module_version": "1.5.0",
            "orientation": "horizontal",
            "min": 0,
            "description_tooltip": null,
            "_model_module": "@jupyter-widgets/controls",
            "layout": "IPY_MODEL_89b4108810114abc97b9897ffd5cb127"
          }
        },
        "14f45f6ff9b1417db102777c1a0b7624": {
          "model_module": "@jupyter-widgets/controls",
          "model_name": "HTMLModel",
          "model_module_version": "1.5.0",
          "state": {
            "_view_name": "HTMLView",
            "style": "IPY_MODEL_d217d4050bbb4c6fa68d05f93cea6c62",
            "_dom_classes": [],
            "description": "",
            "_model_name": "HTMLModel",
            "placeholder": "​",
            "_view_module": "@jupyter-widgets/controls",
            "_model_module_version": "1.5.0",
            "value": " 681M/681M [00:22&lt;00:00, 34.1MB/s]",
            "_view_count": null,
            "_view_module_version": "1.5.0",
            "description_tooltip": null,
            "_model_module": "@jupyter-widgets/controls",
            "layout": "IPY_MODEL_7eeefe776e8d4a6cb6e43b9dba9bd804"
          }
        },
        "f685df4e26f34b5fa84b7fe87364eeab": {
          "model_module": "@jupyter-widgets/controls",
          "model_name": "DescriptionStyleModel",
          "model_module_version": "1.5.0",
          "state": {
            "_view_name": "StyleView",
            "_model_name": "DescriptionStyleModel",
            "description_width": "",
            "_view_module": "@jupyter-widgets/base",
            "_model_module_version": "1.5.0",
            "_view_count": null,
            "_view_module_version": "1.2.0",
            "_model_module": "@jupyter-widgets/controls"
          }
        },
        "8de6cd5ac5f14ac1af949825bd4c1138": {
          "model_module": "@jupyter-widgets/base",
          "model_name": "LayoutModel",
          "model_module_version": "1.2.0",
          "state": {
            "_view_name": "LayoutView",
            "grid_template_rows": null,
            "right": null,
            "justify_content": null,
            "_view_module": "@jupyter-widgets/base",
            "overflow": null,
            "_model_module_version": "1.2.0",
            "_view_count": null,
            "flex_flow": null,
            "width": null,
            "min_width": null,
            "border": null,
            "align_items": null,
            "bottom": null,
            "_model_module": "@jupyter-widgets/base",
            "top": null,
            "grid_column": null,
            "overflow_y": null,
            "overflow_x": null,
            "grid_auto_flow": null,
            "grid_area": null,
            "grid_template_columns": null,
            "flex": null,
            "_model_name": "LayoutModel",
            "justify_items": null,
            "grid_row": null,
            "max_height": null,
            "align_content": null,
            "visibility": null,
            "align_self": null,
            "height": null,
            "min_height": null,
            "padding": null,
            "grid_auto_rows": null,
            "grid_gap": null,
            "max_width": null,
            "order": null,
            "_view_module_version": "1.2.0",
            "grid_template_areas": null,
            "object_position": null,
            "object_fit": null,
            "grid_auto_columns": null,
            "margin": null,
            "display": null,
            "left": null
          }
        },
        "0d957f012c83473091896c818c16e392": {
          "model_module": "@jupyter-widgets/controls",
          "model_name": "ProgressStyleModel",
          "model_module_version": "1.5.0",
          "state": {
            "_view_name": "StyleView",
            "_model_name": "ProgressStyleModel",
            "description_width": "",
            "_view_module": "@jupyter-widgets/base",
            "_model_module_version": "1.5.0",
            "_view_count": null,
            "_view_module_version": "1.2.0",
            "bar_color": null,
            "_model_module": "@jupyter-widgets/controls"
          }
        },
        "89b4108810114abc97b9897ffd5cb127": {
          "model_module": "@jupyter-widgets/base",
          "model_name": "LayoutModel",
          "model_module_version": "1.2.0",
          "state": {
            "_view_name": "LayoutView",
            "grid_template_rows": null,
            "right": null,
            "justify_content": null,
            "_view_module": "@jupyter-widgets/base",
            "overflow": null,
            "_model_module_version": "1.2.0",
            "_view_count": null,
            "flex_flow": null,
            "width": null,
            "min_width": null,
            "border": null,
            "align_items": null,
            "bottom": null,
            "_model_module": "@jupyter-widgets/base",
            "top": null,
            "grid_column": null,
            "overflow_y": null,
            "overflow_x": null,
            "grid_auto_flow": null,
            "grid_area": null,
            "grid_template_columns": null,
            "flex": null,
            "_model_name": "LayoutModel",
            "justify_items": null,
            "grid_row": null,
            "max_height": null,
            "align_content": null,
            "visibility": null,
            "align_self": null,
            "height": null,
            "min_height": null,
            "padding": null,
            "grid_auto_rows": null,
            "grid_gap": null,
            "max_width": null,
            "order": null,
            "_view_module_version": "1.2.0",
            "grid_template_areas": null,
            "object_position": null,
            "object_fit": null,
            "grid_auto_columns": null,
            "margin": null,
            "display": null,
            "left": null
          }
        },
        "d217d4050bbb4c6fa68d05f93cea6c62": {
          "model_module": "@jupyter-widgets/controls",
          "model_name": "DescriptionStyleModel",
          "model_module_version": "1.5.0",
          "state": {
            "_view_name": "StyleView",
            "_model_name": "DescriptionStyleModel",
            "description_width": "",
            "_view_module": "@jupyter-widgets/base",
            "_model_module_version": "1.5.0",
            "_view_count": null,
            "_view_module_version": "1.2.0",
            "_model_module": "@jupyter-widgets/controls"
          }
        },
        "7eeefe776e8d4a6cb6e43b9dba9bd804": {
          "model_module": "@jupyter-widgets/base",
          "model_name": "LayoutModel",
          "model_module_version": "1.2.0",
          "state": {
            "_view_name": "LayoutView",
            "grid_template_rows": null,
            "right": null,
            "justify_content": null,
            "_view_module": "@jupyter-widgets/base",
            "overflow": null,
            "_model_module_version": "1.2.0",
            "_view_count": null,
            "flex_flow": null,
            "width": null,
            "min_width": null,
            "border": null,
            "align_items": null,
            "bottom": null,
            "_model_module": "@jupyter-widgets/base",
            "top": null,
            "grid_column": null,
            "overflow_y": null,
            "overflow_x": null,
            "grid_auto_flow": null,
            "grid_area": null,
            "grid_template_columns": null,
            "flex": null,
            "_model_name": "LayoutModel",
            "justify_items": null,
            "grid_row": null,
            "max_height": null,
            "align_content": null,
            "visibility": null,
            "align_self": null,
            "height": null,
            "min_height": null,
            "padding": null,
            "grid_auto_rows": null,
            "grid_gap": null,
            "max_width": null,
            "order": null,
            "_view_module_version": "1.2.0",
            "grid_template_areas": null,
            "object_position": null,
            "object_fit": null,
            "grid_auto_columns": null,
            "margin": null,
            "display": null,
            "left": null
          }
        }
      }
    }
  },
  "cells": [
    {
      "cell_type": "code",
      "metadata": {
        "id": "1d8CZB1Ok8Pr"
      },
      "source": [
        "import nltk\n",
        "import matplotlib.pyplot as plt\n",
        "import pandas as pd\n",
        "import collections\n",
        "import numpy as np\n",
        "import re\n",
        "from nltk.corpus import stopwords\n",
        "import copy\n",
        "import torch"
      ],
      "execution_count": 65,
      "outputs": []
    },
    {
      "cell_type": "code",
      "metadata": {
        "colab": {
          "base_uri": "https://localhost:8080/"
        },
        "id": "kE9pSBpDYdrW",
        "outputId": "74c17706-0ebc-47b4-d25f-b64f2db7c5a6"
      },
      "source": [
        "if torch.cuda.is_available():    \n",
        "    device = torch.device(\"cuda\")\n",
        "else:\n",
        "    device = torch.device(\"cpu\")\n",
        "print(device)"
      ],
      "execution_count": 66,
      "outputs": [
        {
          "output_type": "stream",
          "name": "stdout",
          "text": [
            "cuda\n"
          ]
        }
      ]
    },
    {
      "cell_type": "code",
      "metadata": {
        "colab": {
          "base_uri": "https://localhost:8080/"
        },
        "id": "6n-pSxvaRNZk",
        "outputId": "00729799-5bc1-4bcc-f956-9d17dc90253b"
      },
      "source": [
        "nltk.download('stopwords')"
      ],
      "execution_count": 67,
      "outputs": [
        {
          "output_type": "stream",
          "name": "stdout",
          "text": [
            "[nltk_data] Downloading package stopwords to /root/nltk_data...\n",
            "[nltk_data]   Package stopwords is already up-to-date!\n"
          ]
        },
        {
          "output_type": "execute_result",
          "data": {
            "text/plain": [
              "True"
            ]
          },
          "metadata": {},
          "execution_count": 67
        }
      ]
    },
    {
      "cell_type": "code",
      "metadata": {
        "colab": {
          "base_uri": "https://localhost:8080/"
        },
        "id": "cLyrJ1tclbOz",
        "outputId": "6a6bf940-c8c6-4118-d435-3e4cacf27a89"
      },
      "source": [
        "from google.colab import drive\n",
        "drive.mount('/content/gdrive')"
      ],
      "execution_count": 68,
      "outputs": [
        {
          "output_type": "stream",
          "name": "stdout",
          "text": [
            "Drive already mounted at /content/gdrive; to attempt to forcibly remount, call drive.mount(\"/content/gdrive\", force_remount=True).\n"
          ]
        }
      ]
    },
    {
      "cell_type": "markdown",
      "metadata": {
        "id": "Xw1T9b8mZ5H4"
      },
      "source": [
        "ENGLISH DATASET ANALYSIS"
      ]
    },
    {
      "cell_type": "code",
      "metadata": {
        "id": "sU2DHLVtbaOd"
      },
      "source": [
        "ENGLISH_HOF = []\n",
        "ENGLISH_NOT = []"
      ],
      "execution_count": 69,
      "outputs": []
    },
    {
      "cell_type": "code",
      "metadata": {
        "colab": {
          "base_uri": "https://localhost:8080/",
          "height": 255
        },
        "id": "eWTYYAd4q_bO",
        "outputId": "90f62824-f734-47bf-bfea-7ebd5e4fef89"
      },
      "source": [
        "english_df_2019 = pd.read_csv('/content/gdrive/My Drive/NLP Project/data/2019/english_dataset/english_dataset_2019.csv', error_bad_lines=False)\n",
        "english_df_2019 = english_df_2019.drop(columns=['task_2', 'task_3'])\n",
        "print(english_df_2019.shape)\n",
        "labels = collections.Counter(english_df_2019['task_1'])\n",
        "ENGLISH_HOF.append(labels['HOF'])\n",
        "ENGLISH_NOT.append(labels['NOT'])\n",
        "print(labels)\n",
        "print(english_df_2019.columns)\n",
        "english_df_2019.head()"
      ],
      "execution_count": 70,
      "outputs": [
        {
          "output_type": "stream",
          "name": "stdout",
          "text": [
            "(5852, 3)\n",
            "Counter({'NOT': 3591, 'HOF': 2261})\n",
            "Index(['text_id', 'text', 'task_1'], dtype='object')\n"
          ]
        },
        {
          "output_type": "execute_result",
          "data": {
            "text/html": [
              "<div>\n",
              "<style scoped>\n",
              "    .dataframe tbody tr th:only-of-type {\n",
              "        vertical-align: middle;\n",
              "    }\n",
              "\n",
              "    .dataframe tbody tr th {\n",
              "        vertical-align: top;\n",
              "    }\n",
              "\n",
              "    .dataframe thead th {\n",
              "        text-align: right;\n",
              "    }\n",
              "</style>\n",
              "<table border=\"1\" class=\"dataframe\">\n",
              "  <thead>\n",
              "    <tr style=\"text-align: right;\">\n",
              "      <th></th>\n",
              "      <th>text_id</th>\n",
              "      <th>text</th>\n",
              "      <th>task_1</th>\n",
              "    </tr>\n",
              "  </thead>\n",
              "  <tbody>\n",
              "    <tr>\n",
              "      <th>0</th>\n",
              "      <td>hasoc_en_1</td>\n",
              "      <td>#DhoniKeepsTheGlove | WATCH: Sports Minister K...</td>\n",
              "      <td>NOT</td>\n",
              "    </tr>\n",
              "    <tr>\n",
              "      <th>1</th>\n",
              "      <td>hasoc_en_2</td>\n",
              "      <td>@politico No. We should remember very clearly ...</td>\n",
              "      <td>HOF</td>\n",
              "    </tr>\n",
              "    <tr>\n",
              "      <th>2</th>\n",
              "      <td>hasoc_en_3</td>\n",
              "      <td>@cricketworldcup Guess who would be the winner...</td>\n",
              "      <td>NOT</td>\n",
              "    </tr>\n",
              "    <tr>\n",
              "      <th>3</th>\n",
              "      <td>hasoc_en_4</td>\n",
              "      <td>Corbyn is too politically intellectual for #Bo...</td>\n",
              "      <td>NOT</td>\n",
              "    </tr>\n",
              "    <tr>\n",
              "      <th>4</th>\n",
              "      <td>hasoc_en_5</td>\n",
              "      <td>All the best to #TeamIndia for another swimmin...</td>\n",
              "      <td>NOT</td>\n",
              "    </tr>\n",
              "  </tbody>\n",
              "</table>\n",
              "</div>"
            ],
            "text/plain": [
              "      text_id                                               text task_1\n",
              "0  hasoc_en_1  #DhoniKeepsTheGlove | WATCH: Sports Minister K...    NOT\n",
              "1  hasoc_en_2  @politico No. We should remember very clearly ...    HOF\n",
              "2  hasoc_en_3  @cricketworldcup Guess who would be the winner...    NOT\n",
              "3  hasoc_en_4  Corbyn is too politically intellectual for #Bo...    NOT\n",
              "4  hasoc_en_5  All the best to #TeamIndia for another swimmin...    NOT"
            ]
          },
          "metadata": {},
          "execution_count": 70
        }
      ]
    },
    {
      "cell_type": "code",
      "metadata": {
        "colab": {
          "base_uri": "https://localhost:8080/",
          "height": 255
        },
        "id": "97PzLqQJYg4z",
        "outputId": "19dbf540-6a6d-4ff1-9517-a926fdbdba06"
      },
      "source": [
        "english_df_2020 = pd.read_csv('/content/gdrive/My Drive/NLP Project/data/2020/english_dataset/english_dataset_2020.csv', error_bad_lines=False)\n",
        "english_df_2020 = english_df_2020.drop(columns=['task2'])\n",
        "print(english_df_2020.shape)\n",
        "print(english_df_2020.columns)\n",
        "labels = collections.Counter(english_df_2020['task1'])\n",
        "ENGLISH_HOF.append(labels['HOF'])\n",
        "ENGLISH_NOT.append(labels['NOT'])\n",
        "print(labels)\n",
        "english_df_2020.head()"
      ],
      "execution_count": 71,
      "outputs": [
        {
          "output_type": "stream",
          "name": "stdout",
          "text": [
            "(3708, 4)\n",
            "Index(['tweet_id', 'text', 'task1', 'ID'], dtype='object')\n",
            "Counter({'HOF': 1856, 'NOT': 1852})\n"
          ]
        },
        {
          "output_type": "execute_result",
          "data": {
            "text/html": [
              "<div>\n",
              "<style scoped>\n",
              "    .dataframe tbody tr th:only-of-type {\n",
              "        vertical-align: middle;\n",
              "    }\n",
              "\n",
              "    .dataframe tbody tr th {\n",
              "        vertical-align: top;\n",
              "    }\n",
              "\n",
              "    .dataframe thead th {\n",
              "        text-align: right;\n",
              "    }\n",
              "</style>\n",
              "<table border=\"1\" class=\"dataframe\">\n",
              "  <thead>\n",
              "    <tr style=\"text-align: right;\">\n",
              "      <th></th>\n",
              "      <th>tweet_id</th>\n",
              "      <th>text</th>\n",
              "      <th>task1</th>\n",
              "      <th>ID</th>\n",
              "    </tr>\n",
              "  </thead>\n",
              "  <tbody>\n",
              "    <tr>\n",
              "      <th>0</th>\n",
              "      <td>1.123757e+18</td>\n",
              "      <td>hate wen females hit ah nigga with tht bro ___...</td>\n",
              "      <td>HOF</td>\n",
              "      <td>hasoc_2020_en_2574</td>\n",
              "    </tr>\n",
              "    <tr>\n",
              "      <th>1</th>\n",
              "      <td>1.123733e+18</td>\n",
              "      <td>RT @airjunebug: When you're from the Bay but y...</td>\n",
              "      <td>HOF</td>\n",
              "      <td>hasoc_2020_en_3627</td>\n",
              "    </tr>\n",
              "    <tr>\n",
              "      <th>2</th>\n",
              "      <td>1.123734e+18</td>\n",
              "      <td>RT @DonaldJTrumpJr: Dear Democrats: The Americ...</td>\n",
              "      <td>NOT</td>\n",
              "      <td>hasoc_2020_en_3108</td>\n",
              "    </tr>\n",
              "    <tr>\n",
              "      <th>3</th>\n",
              "      <td>1.126951e+18</td>\n",
              "      <td>RT @SheLoveTimothy: He ainÕt on drugs he just ...</td>\n",
              "      <td>HOF</td>\n",
              "      <td>hasoc_2020_en_3986</td>\n",
              "    </tr>\n",
              "    <tr>\n",
              "      <th>4</th>\n",
              "      <td>1.126864e+18</td>\n",
              "      <td>RT @TavianJordan: Summer Ô19 IÕm coming for yo...</td>\n",
              "      <td>NOT</td>\n",
              "      <td>hasoc_2020_en_5152</td>\n",
              "    </tr>\n",
              "  </tbody>\n",
              "</table>\n",
              "</div>"
            ],
            "text/plain": [
              "       tweet_id  ...                  ID\n",
              "0  1.123757e+18  ...  hasoc_2020_en_2574\n",
              "1  1.123733e+18  ...  hasoc_2020_en_3627\n",
              "2  1.123734e+18  ...  hasoc_2020_en_3108\n",
              "3  1.126951e+18  ...  hasoc_2020_en_3986\n",
              "4  1.126864e+18  ...  hasoc_2020_en_5152\n",
              "\n",
              "[5 rows x 4 columns]"
            ]
          },
          "metadata": {},
          "execution_count": 71
        }
      ]
    },
    {
      "cell_type": "code",
      "metadata": {
        "colab": {
          "base_uri": "https://localhost:8080/",
          "height": 255
        },
        "id": "ODMjZEVTcfQx",
        "outputId": "05215f15-f56c-43f1-d994-6816c8b3b610"
      },
      "source": [
        "english_df_2019t = pd.read_csv('/content/gdrive/My Drive/NLP Project/data/2019/english_dataset/english_dataset_test_2019.csv', error_bad_lines=False)\n",
        "print(english_df_2019t.columns)\n",
        "english_df_2019t = english_df_2019t.drop(columns=['task_2', 'task_3'])\n",
        "print(english_df_2019t.shape)\n",
        "labels = collections.Counter(english_df_2019t['task_1'])\n",
        "ENGLISH_HOF.append(labels['HOF'])\n",
        "ENGLISH_NOT.append(labels['NOT'])\n",
        "print(labels)\n",
        "english_df_2019t.head()"
      ],
      "execution_count": 72,
      "outputs": [
        {
          "output_type": "stream",
          "name": "stdout",
          "text": [
            "Index(['text_id', 'text', 'task_1', 'task_2', 'task_3'], dtype='object')\n",
            "(1153, 3)\n",
            "Counter({'NOT': 865, 'HOF': 288})\n"
          ]
        },
        {
          "output_type": "execute_result",
          "data": {
            "text/html": [
              "<div>\n",
              "<style scoped>\n",
              "    .dataframe tbody tr th:only-of-type {\n",
              "        vertical-align: middle;\n",
              "    }\n",
              "\n",
              "    .dataframe tbody tr th {\n",
              "        vertical-align: top;\n",
              "    }\n",
              "\n",
              "    .dataframe thead th {\n",
              "        text-align: right;\n",
              "    }\n",
              "</style>\n",
              "<table border=\"1\" class=\"dataframe\">\n",
              "  <thead>\n",
              "    <tr style=\"text-align: right;\">\n",
              "      <th></th>\n",
              "      <th>text_id</th>\n",
              "      <th>text</th>\n",
              "      <th>task_1</th>\n",
              "    </tr>\n",
              "  </thead>\n",
              "  <tbody>\n",
              "    <tr>\n",
              "      <th>0</th>\n",
              "      <td>hasoc_en_902</td>\n",
              "      <td>West Bengal Doctor Crisis: Protesting doctors ...</td>\n",
              "      <td>NOT</td>\n",
              "    </tr>\n",
              "    <tr>\n",
              "      <th>1</th>\n",
              "      <td>hasoc_en_416</td>\n",
              "      <td>68.5 million people have been forced to leave ...</td>\n",
              "      <td>NOT</td>\n",
              "    </tr>\n",
              "    <tr>\n",
              "      <th>2</th>\n",
              "      <td>hasoc_en_207</td>\n",
              "      <td>You came, you saw .... we will look after the ...</td>\n",
              "      <td>NOT</td>\n",
              "    </tr>\n",
              "    <tr>\n",
              "      <th>3</th>\n",
              "      <td>hasoc_en_595</td>\n",
              "      <td>We'll get Brexit delivered by October 31st.   ...</td>\n",
              "      <td>NOT</td>\n",
              "    </tr>\n",
              "    <tr>\n",
              "      <th>4</th>\n",
              "      <td>hasoc_en_568</td>\n",
              "      <td>Fuck you. Go back to the dark ages you cow @IB...</td>\n",
              "      <td>HOF</td>\n",
              "    </tr>\n",
              "  </tbody>\n",
              "</table>\n",
              "</div>"
            ],
            "text/plain": [
              "        text_id                                               text task_1\n",
              "0  hasoc_en_902  West Bengal Doctor Crisis: Protesting doctors ...    NOT\n",
              "1  hasoc_en_416  68.5 million people have been forced to leave ...    NOT\n",
              "2  hasoc_en_207  You came, you saw .... we will look after the ...    NOT\n",
              "3  hasoc_en_595  We'll get Brexit delivered by October 31st.   ...    NOT\n",
              "4  hasoc_en_568  Fuck you. Go back to the dark ages you cow @IB...    HOF"
            ]
          },
          "metadata": {},
          "execution_count": 72
        }
      ]
    },
    {
      "cell_type": "code",
      "metadata": {
        "colab": {
          "base_uri": "https://localhost:8080/",
          "height": 255
        },
        "id": "zhnpp6XVco1e",
        "outputId": "27e98605-1392-4f94-90c4-02626ca89ce5"
      },
      "source": [
        "english_df_2020t = pd.read_csv('/content/gdrive/My Drive/NLP Project/data/2020/english_dataset/english_dataset_test_2020.csv', error_bad_lines=False)\n",
        "english_df_2020t = english_df_2020t.drop(columns=['task2'])\n",
        "print(english_df_2020t.shape)\n",
        "print(english_df_2020t.columns)\n",
        "labels = collections.Counter(english_df_2020t['task1'])\n",
        "ENGLISH_HOF.append(labels['HOF'])\n",
        "ENGLISH_NOT.append(labels['NOT'])\n",
        "print(labels)\n",
        "english_df_2020t.head()"
      ],
      "execution_count": 73,
      "outputs": [
        {
          "output_type": "stream",
          "name": "stdout",
          "text": [
            "(814, 4)\n",
            "Index(['tweet_id', 'text', 'task1', 'ID'], dtype='object')\n",
            "Counter({'HOF': 423, 'NOT': 391})\n"
          ]
        },
        {
          "output_type": "execute_result",
          "data": {
            "text/html": [
              "<div>\n",
              "<style scoped>\n",
              "    .dataframe tbody tr th:only-of-type {\n",
              "        vertical-align: middle;\n",
              "    }\n",
              "\n",
              "    .dataframe tbody tr th {\n",
              "        vertical-align: top;\n",
              "    }\n",
              "\n",
              "    .dataframe thead th {\n",
              "        text-align: right;\n",
              "    }\n",
              "</style>\n",
              "<table border=\"1\" class=\"dataframe\">\n",
              "  <thead>\n",
              "    <tr style=\"text-align: right;\">\n",
              "      <th></th>\n",
              "      <th>tweet_id</th>\n",
              "      <th>text</th>\n",
              "      <th>task1</th>\n",
              "      <th>ID</th>\n",
              "    </tr>\n",
              "  </thead>\n",
              "  <tbody>\n",
              "    <tr>\n",
              "      <th>0</th>\n",
              "      <td>1130081762154090497</td>\n",
              "      <td>RT @delmiyaa: Samini resetting the show and mo...</td>\n",
              "      <td>NOT</td>\n",
              "      <td>hasoc_2020_en_2713</td>\n",
              "    </tr>\n",
              "    <tr>\n",
              "      <th>1</th>\n",
              "      <td>1130048316807491584</td>\n",
              "      <td>@Swxnsea how do you know that he’s left?</td>\n",
              "      <td>HOF</td>\n",
              "      <td>hasoc_2020_en_3874</td>\n",
              "    </tr>\n",
              "    <tr>\n",
              "      <th>2</th>\n",
              "      <td>1123657766143504386</td>\n",
              "      <td>Tried to get Divock Origi on a free seeing as ...</td>\n",
              "      <td>NOT</td>\n",
              "      <td>hasoc_2020_en_281</td>\n",
              "    </tr>\n",
              "    <tr>\n",
              "      <th>3</th>\n",
              "      <td>1126782963042013186</td>\n",
              "      <td>RT @nutclusteruwu: that....is yalls stupid whi...</td>\n",
              "      <td>HOF</td>\n",
              "      <td>hasoc_2020_en_2026</td>\n",
              "    </tr>\n",
              "    <tr>\n",
              "      <th>4</th>\n",
              "      <td>1130159113529434113</td>\n",
              "      <td>&amp;amp; IT DID. But a bitch got big girls things...</td>\n",
              "      <td>HOF</td>\n",
              "      <td>hasoc_2020_en_4023</td>\n",
              "    </tr>\n",
              "  </tbody>\n",
              "</table>\n",
              "</div>"
            ],
            "text/plain": [
              "              tweet_id  ...                  ID\n",
              "0  1130081762154090497  ...  hasoc_2020_en_2713\n",
              "1  1130048316807491584  ...  hasoc_2020_en_3874\n",
              "2  1123657766143504386  ...   hasoc_2020_en_281\n",
              "3  1126782963042013186  ...  hasoc_2020_en_2026\n",
              "4  1130159113529434113  ...  hasoc_2020_en_4023\n",
              "\n",
              "[5 rows x 4 columns]"
            ]
          },
          "metadata": {},
          "execution_count": 73
        }
      ]
    },
    {
      "cell_type": "code",
      "metadata": {
        "colab": {
          "base_uri": "https://localhost:8080/",
          "height": 415
        },
        "id": "FPrpbla7dAHK",
        "outputId": "4b50675a-391e-4ac3-b36b-2ccf8773bd6d"
      },
      "source": [
        "barWidth = 0.25\n",
        "br1 = np.arange(len(ENGLISH_HOF))\n",
        "br2 = [x + barWidth for x in br1]\n",
        "plt.bar(br1, ENGLISH_HOF, width=barWidth, label='HOF')\n",
        "plt.bar(br2, ENGLISH_NOT, width=barWidth, label='NOT')\n",
        "plt.legend()\n",
        "plt.xlabel('English Dataset')\n",
        "plt.ylabel('Count')\n",
        "plt.xticks([r + barWidth for r in range(len(br1))],\n",
        "        ['train 2019', 'train 2020', 'test 2019', 'test 2020'])"
      ],
      "execution_count": 74,
      "outputs": [
        {
          "output_type": "execute_result",
          "data": {
            "text/plain": [
              "([<matplotlib.axis.XTick at 0x7f488a445890>,\n",
              "  <matplotlib.axis.XTick at 0x7f488a445850>,\n",
              "  <matplotlib.axis.XTick at 0x7f488a445450>,\n",
              "  <matplotlib.axis.XTick at 0x7f488a402610>],\n",
              " [Text(0, 0, 'train 2019'),\n",
              "  Text(0, 0, 'train 2020'),\n",
              "  Text(0, 0, 'test 2019'),\n",
              "  Text(0, 0, 'test 2020')])"
            ]
          },
          "metadata": {},
          "execution_count": 74
        },
        {
          "output_type": "display_data",
          "data": {
            "image/png": "[encoded data removed]",
            "text/plain": [
              "<Figure size 432x288 with 1 Axes>"
            ]
          },
          "metadata": {
            "needs_background": "light"
          }
        }
      ]
    },
    {
      "cell_type": "markdown",
      "metadata": {
        "id": "53B0-lnL18sP"
      },
      "source": [
        "SPANISH DATASET ANALYSIS"
      ]
    },
    {
      "cell_type": "code",
      "metadata": {
        "id": "uRcUrwSc1-jO"
      },
      "source": [
        "SPANISH_HOF = []\n",
        "SPANISH_NOT = []"
      ],
      "execution_count": 75,
      "outputs": []
    },
    {
      "cell_type": "code",
      "metadata": {
        "colab": {
          "base_uri": "https://localhost:8080/",
          "height": 255
        },
        "id": "VbyKHUy02CJk",
        "outputId": "fff0feb8-c155-4bc2-d7fd-ec535abfa601"
      },
      "source": [
        "spanish_df_2019 = pd.read_csv('/content/gdrive/My Drive/NLP Project/data/spanish_dataset/spanish_dataset.csv', error_bad_lines=False)\n",
        "# spanish_df_2019 = spanish_df_2019.drop(columns=['task_2'])\n",
        "print(spanish_df_2019.shape)\n",
        "labels = collections.Counter(spanish_df_2019['HS'])\n",
        "SPANISH_HOF.append(labels[1])\n",
        "SPANISH_NOT.append(labels[0])\n",
        "print(labels)\n",
        "print(spanish_df_2019.columns)\n",
        "spanish_df_2019.head()"
      ],
      "execution_count": 76,
      "outputs": [
        {
          "output_type": "stream",
          "name": "stdout",
          "text": [
            "(4450, 3)\n",
            "Counter({0: 2617, 1: 1833})\n",
            "Index(['id', 'text', 'HS'], dtype='object')\n"
          ]
        },
        {
          "output_type": "execute_result",
          "data": {
            "text/html": [
              "<div>\n",
              "<style scoped>\n",
              "    .dataframe tbody tr th:only-of-type {\n",
              "        vertical-align: middle;\n",
              "    }\n",
              "\n",
              "    .dataframe tbody tr th {\n",
              "        vertical-align: top;\n",
              "    }\n",
              "\n",
              "    .dataframe thead th {\n",
              "        text-align: right;\n",
              "    }\n",
              "</style>\n",
              "<table border=\"1\" class=\"dataframe\">\n",
              "  <thead>\n",
              "    <tr style=\"text-align: right;\">\n",
              "      <th></th>\n",
              "      <th>id</th>\n",
              "      <th>text</th>\n",
              "      <th>HS</th>\n",
              "    </tr>\n",
              "  </thead>\n",
              "  <tbody>\n",
              "    <tr>\n",
              "      <th>0</th>\n",
              "      <td>20001</td>\n",
              "      <td>Easyjet quiere duplicar el número de mujeres p...</td>\n",
              "      <td>1</td>\n",
              "    </tr>\n",
              "    <tr>\n",
              "      <th>1</th>\n",
              "      <td>20002</td>\n",
              "      <td>El gobierno debe crear un control estricto de ...</td>\n",
              "      <td>1</td>\n",
              "    </tr>\n",
              "    <tr>\n",
              "      <th>2</th>\n",
              "      <td>20003</td>\n",
              "      <td>Yo veo a mujeres destruidas por acoso laboral ...</td>\n",
              "      <td>0</td>\n",
              "    </tr>\n",
              "    <tr>\n",
              "      <th>3</th>\n",
              "      <td>20004</td>\n",
              "      <td>— Yo soy respetuoso con los demás, sólamente l...</td>\n",
              "      <td>0</td>\n",
              "    </tr>\n",
              "    <tr>\n",
              "      <th>4</th>\n",
              "      <td>20007</td>\n",
              "      <td>Antonio Caballero y como ser de mal gusto e ig...</td>\n",
              "      <td>0</td>\n",
              "    </tr>\n",
              "  </tbody>\n",
              "</table>\n",
              "</div>"
            ],
            "text/plain": [
              "      id                                               text  HS\n",
              "0  20001  Easyjet quiere duplicar el número de mujeres p...   1\n",
              "1  20002  El gobierno debe crear un control estricto de ...   1\n",
              "2  20003  Yo veo a mujeres destruidas por acoso laboral ...   0\n",
              "3  20004  — Yo soy respetuoso con los demás, sólamente l...   0\n",
              "4  20007  Antonio Caballero y como ser de mal gusto e ig...   0"
            ]
          },
          "metadata": {},
          "execution_count": 76
        }
      ]
    },
    {
      "cell_type": "code",
      "metadata": {
        "colab": {
          "base_uri": "https://localhost:8080/",
          "height": 255
        },
        "id": "BHXT3eSs2jVc",
        "outputId": "a8d327a2-a31d-45f0-aea6-42c5a5e60b75"
      },
      "source": [
        "spanish_df_2019t = pd.read_csv('/content/gdrive/My Drive/NLP Project/data/spanish_dataset/spanish_dataset_test.csv', error_bad_lines=False)\n",
        "# spanish_df_2019 = spanish_df_2019.drop(columns=['task_2'])\n",
        "print(spanish_df_2019t.shape)\n",
        "labels = collections.Counter(spanish_df_2019t['task_1'])\n",
        "SPANISH_HOF.append(labels[1])\n",
        "SPANISH_NOT.append(labels[0])\n",
        "print(labels)\n",
        "print(spanish_df_2019t.columns)\n",
        "spanish_df_2019t.head()"
      ],
      "execution_count": 77,
      "outputs": [
        {
          "output_type": "stream",
          "name": "stdout",
          "text": [
            "(500, 3)\n",
            "Counter({0: 278, 1: 222})\n",
            "Index(['id', 'text', 'task_1'], dtype='object')\n"
          ]
        },
        {
          "output_type": "execute_result",
          "data": {
            "text/html": [
              "<div>\n",
              "<style scoped>\n",
              "    .dataframe tbody tr th:only-of-type {\n",
              "        vertical-align: middle;\n",
              "    }\n",
              "\n",
              "    .dataframe tbody tr th {\n",
              "        vertical-align: top;\n",
              "    }\n",
              "\n",
              "    .dataframe thead th {\n",
              "        text-align: right;\n",
              "    }\n",
              "</style>\n",
              "<table border=\"1\" class=\"dataframe\">\n",
              "  <thead>\n",
              "    <tr style=\"text-align: right;\">\n",
              "      <th></th>\n",
              "      <th>id</th>\n",
              "      <th>text</th>\n",
              "      <th>task_1</th>\n",
              "    </tr>\n",
              "  </thead>\n",
              "  <tbody>\n",
              "    <tr>\n",
              "      <th>0</th>\n",
              "      <td>20005</td>\n",
              "      <td>Me estoy comiendo la picada árabe más rica de ...</td>\n",
              "      <td>0</td>\n",
              "    </tr>\n",
              "    <tr>\n",
              "      <th>1</th>\n",
              "      <td>20006</td>\n",
              "      <td>@Haryachyzaychyk Callate zorra y mama duro! 😍</td>\n",
              "      <td>1</td>\n",
              "    </tr>\n",
              "    <tr>\n",
              "      <th>2</th>\n",
              "      <td>20011</td>\n",
              "      <td>Acabo de escuchar a Casado diciendo que hay DE...</td>\n",
              "      <td>0</td>\n",
              "    </tr>\n",
              "    <tr>\n",
              "      <th>3</th>\n",
              "      <td>20019</td>\n",
              "      <td>Y NADIE SE HA PREGUNTADO LO QUE LE VA A COSTAR...</td>\n",
              "      <td>1</td>\n",
              "    </tr>\n",
              "    <tr>\n",
              "      <th>4</th>\n",
              "      <td>20033</td>\n",
              "      <td>@Fed_Durand Callate come sobra, más zorra son ...</td>\n",
              "      <td>1</td>\n",
              "    </tr>\n",
              "  </tbody>\n",
              "</table>\n",
              "</div>"
            ],
            "text/plain": [
              "      id                                               text  task_1\n",
              "0  20005  Me estoy comiendo la picada árabe más rica de ...       0\n",
              "1  20006      @Haryachyzaychyk Callate zorra y mama duro! 😍       1\n",
              "2  20011  Acabo de escuchar a Casado diciendo que hay DE...       0\n",
              "3  20019  Y NADIE SE HA PREGUNTADO LO QUE LE VA A COSTAR...       1\n",
              "4  20033  @Fed_Durand Callate come sobra, más zorra son ...       1"
            ]
          },
          "metadata": {},
          "execution_count": 77
        }
      ]
    },
    {
      "cell_type": "code",
      "metadata": {
        "colab": {
          "base_uri": "https://localhost:8080/",
          "height": 330
        },
        "id": "7ePmQxEe2458",
        "outputId": "ebc3ee1e-1537-4978-bd96-5b85cb1ebeab"
      },
      "source": [
        "barWidth = 0.25\n",
        "br1 = np.arange(len(SPANISH_HOF))\n",
        "br2 = [x + barWidth for x in br1]\n",
        "plt.bar(br1, SPANISH_HOF, width=barWidth, label='HOF')\n",
        "plt.bar(br2, SPANISH_NOT, width=barWidth, label='NOT')\n",
        "plt.legend()\n",
        "plt.xlabel('Spanish Dataset')\n",
        "plt.ylabel('Count')\n",
        "plt.xticks([r + barWidth for r in range(len(br1))],\n",
        "        ['train 2018', 'test 2018'])"
      ],
      "execution_count": 78,
      "outputs": [
        {
          "output_type": "execute_result",
          "data": {
            "text/plain": [
              "([<matplotlib.axis.XTick at 0x7f488a4b2590>,\n",
              "  <matplotlib.axis.XTick at 0x7f488a4b21d0>],\n",
              " [Text(0, 0, 'train 2018'), Text(0, 0, 'test 2018')])"
            ]
          },
          "metadata": {},
          "execution_count": 78
        },
        {
          "output_type": "display_data",
          "data": {
            "image/png": "[encoded data removed]",
            "text/plain": [
              "<Figure size 432x288 with 1 Axes>"
            ]
          },
          "metadata": {
            "needs_background": "light"
          }
        }
      ]
    },
    {
      "cell_type": "markdown",
      "metadata": {
        "id": "blgR0e9zfR2L"
      },
      "source": [
        "GERMAN DATASET ANALYSIS"
      ]
    },
    {
      "cell_type": "code",
      "metadata": {
        "id": "1JxibtZMdUwk"
      },
      "source": [
        "GERMAN_HOF = []\n",
        "GERMAN_NOT = []"
      ],
      "execution_count": 79,
      "outputs": []
    },
    {
      "cell_type": "code",
      "metadata": {
        "colab": {
          "base_uri": "https://localhost:8080/",
          "height": 255
        },
        "id": "30kn7DrQfWJF",
        "outputId": "4c01f137-7d3f-4b28-fe36-29168680469f"
      },
      "source": [
        "german_df_2019 = pd.read_csv('/content/gdrive/My Drive/NLP Project/data/2019/german_dataset/german_dataset_2019.csv', error_bad_lines=False)\n",
        "german_df_2019 = german_df_2019.drop(columns=['task_2'])\n",
        "print(german_df_2019.shape)\n",
        "labels = collections.Counter(german_df_2019['task_1'])\n",
        "GERMAN_HOF.append(labels['HOF'])\n",
        "GERMAN_NOT.append(labels['NOT'])\n",
        "print(labels)\n",
        "print(german_df_2019.columns)\n",
        "german_df_2019.head()"
      ],
      "execution_count": 80,
      "outputs": [
        {
          "output_type": "stream",
          "name": "stdout",
          "text": [
            "(3819, 3)\n",
            "Counter({'NOT': 3412, 'HOF': 407})\n",
            "Index(['text_id', 'text', 'task_1'], dtype='object')\n"
          ]
        },
        {
          "output_type": "execute_result",
          "data": {
            "text/html": [
              "<div>\n",
              "<style scoped>\n",
              "    .dataframe tbody tr th:only-of-type {\n",
              "        vertical-align: middle;\n",
              "    }\n",
              "\n",
              "    .dataframe tbody tr th {\n",
              "        vertical-align: top;\n",
              "    }\n",
              "\n",
              "    .dataframe thead th {\n",
              "        text-align: right;\n",
              "    }\n",
              "</style>\n",
              "<table border=\"1\" class=\"dataframe\">\n",
              "  <thead>\n",
              "    <tr style=\"text-align: right;\">\n",
              "      <th></th>\n",
              "      <th>text_id</th>\n",
              "      <th>text</th>\n",
              "      <th>task_1</th>\n",
              "    </tr>\n",
              "  </thead>\n",
              "  <tbody>\n",
              "    <tr>\n",
              "      <th>0</th>\n",
              "      <td>hasoc_de_1</td>\n",
              "      <td>Frank Rennicke – Ich bin stolz https://t.co/Cm...</td>\n",
              "      <td>NOT</td>\n",
              "    </tr>\n",
              "    <tr>\n",
              "      <th>1</th>\n",
              "      <td>hasoc_de_2</td>\n",
              "      <td>ANSEHEN.....und danach bitte TEILEN...TEILEN.....</td>\n",
              "      <td>NOT</td>\n",
              "    </tr>\n",
              "    <tr>\n",
              "      <th>2</th>\n",
              "      <td>hasoc_de_3</td>\n",
              "      <td>#Koeln Mohamed erkennt kein deutsches Recht so...</td>\n",
              "      <td>NOT</td>\n",
              "    </tr>\n",
              "    <tr>\n",
              "      <th>3</th>\n",
              "      <td>hasoc_de_4</td>\n",
              "      <td>#SaudiArabien ist eine brutale islamische Dikt...</td>\n",
              "      <td>NOT</td>\n",
              "    </tr>\n",
              "    <tr>\n",
              "      <th>4</th>\n",
              "      <td>hasoc_de_5</td>\n",
              "      <td>Bundespolizei #München hat im 1. Quartal 2019 ...</td>\n",
              "      <td>NOT</td>\n",
              "    </tr>\n",
              "  </tbody>\n",
              "</table>\n",
              "</div>"
            ],
            "text/plain": [
              "      text_id                                               text task_1\n",
              "0  hasoc_de_1  Frank Rennicke – Ich bin stolz https://t.co/Cm...    NOT\n",
              "1  hasoc_de_2  ANSEHEN.....und danach bitte TEILEN...TEILEN.....    NOT\n",
              "2  hasoc_de_3  #Koeln Mohamed erkennt kein deutsches Recht so...    NOT\n",
              "3  hasoc_de_4  #SaudiArabien ist eine brutale islamische Dikt...    NOT\n",
              "4  hasoc_de_5  Bundespolizei #München hat im 1. Quartal 2019 ...    NOT"
            ]
          },
          "metadata": {},
          "execution_count": 80
        }
      ]
    },
    {
      "cell_type": "code",
      "metadata": {
        "colab": {
          "base_uri": "https://localhost:8080/",
          "height": 255
        },
        "id": "dLEXsy4Dfdu1",
        "outputId": "dbbf12b4-d336-491b-bee8-7985dbae9707"
      },
      "source": [
        "german_df_2020 = pd.read_csv('/content/gdrive/My Drive/NLP Project/data/2020/german_dataset/german_dataset_2020.csv', error_bad_lines=False)\n",
        "print(german_df_2020.columns)\n",
        "german_df_2020 = german_df_2020.drop(columns=['task2'])\n",
        "print(german_df_2020.shape)\n",
        "labels = collections.Counter(german_df_2020['task1'])\n",
        "GERMAN_HOF.append(labels['HOF'])\n",
        "GERMAN_NOT.append(labels['NOT'])\n",
        "print(labels)\n",
        "german_df_2020.head()"
      ],
      "execution_count": 81,
      "outputs": [
        {
          "output_type": "stream",
          "name": "stdout",
          "text": [
            "Index(['tweet_id', 'text', 'task1', 'task2', 'ID'], dtype='object')\n",
            "(2373, 4)\n",
            "Counter({'NOT': 1700, 'HOF': 673})\n"
          ]
        },
        {
          "output_type": "execute_result",
          "data": {
            "text/html": [
              "<div>\n",
              "<style scoped>\n",
              "    .dataframe tbody tr th:only-of-type {\n",
              "        vertical-align: middle;\n",
              "    }\n",
              "\n",
              "    .dataframe tbody tr th {\n",
              "        vertical-align: top;\n",
              "    }\n",
              "\n",
              "    .dataframe thead th {\n",
              "        text-align: right;\n",
              "    }\n",
              "</style>\n",
              "<table border=\"1\" class=\"dataframe\">\n",
              "  <thead>\n",
              "    <tr style=\"text-align: right;\">\n",
              "      <th></th>\n",
              "      <th>tweet_id</th>\n",
              "      <th>text</th>\n",
              "      <th>task1</th>\n",
              "      <th>ID</th>\n",
              "    </tr>\n",
              "  </thead>\n",
              "  <tbody>\n",
              "    <tr>\n",
              "      <th>0</th>\n",
              "      <td>1.133389e+18</td>\n",
              "      <td>Deutsche rothaarige porno reife deutsche fraue...</td>\n",
              "      <td>NOT</td>\n",
              "      <td>hasoc_2020_de_2684</td>\n",
              "    </tr>\n",
              "    <tr>\n",
              "      <th>1</th>\n",
              "      <td>1.127135e+18</td>\n",
              "      <td>RT @NDRinfo: Die deutsche Klimaaktivistin Luis...</td>\n",
              "      <td>NOT</td>\n",
              "      <td>hasoc_2020_de_1042</td>\n",
              "    </tr>\n",
              "    <tr>\n",
              "      <th>2</th>\n",
              "      <td>1.128897e+18</td>\n",
              "      <td>@ruhrbahn jeden Morgen eine neue „Fahrzeugstör...</td>\n",
              "      <td>NOT</td>\n",
              "      <td>hasoc_2020_de_774</td>\n",
              "    </tr>\n",
              "    <tr>\n",
              "      <th>3</th>\n",
              "      <td>1.123577e+18</td>\n",
              "      <td>@Junge_Freiheit Die Inkas hatten sich schon dä...</td>\n",
              "      <td>NOT</td>\n",
              "      <td>hasoc_2020_de_559</td>\n",
              "    </tr>\n",
              "    <tr>\n",
              "      <th>4</th>\n",
              "      <td>1.128744e+18</td>\n",
              "      <td>RT @technosteron: leute die 'boar' schreiben l...</td>\n",
              "      <td>HOF</td>\n",
              "      <td>hasoc_2020_de_1969</td>\n",
              "    </tr>\n",
              "  </tbody>\n",
              "</table>\n",
              "</div>"
            ],
            "text/plain": [
              "       tweet_id  ...                  ID\n",
              "0  1.133389e+18  ...  hasoc_2020_de_2684\n",
              "1  1.127135e+18  ...  hasoc_2020_de_1042\n",
              "2  1.128897e+18  ...   hasoc_2020_de_774\n",
              "3  1.123577e+18  ...   hasoc_2020_de_559\n",
              "4  1.128744e+18  ...  hasoc_2020_de_1969\n",
              "\n",
              "[5 rows x 4 columns]"
            ]
          },
          "metadata": {},
          "execution_count": 81
        }
      ]
    },
    {
      "cell_type": "code",
      "metadata": {
        "colab": {
          "base_uri": "https://localhost:8080/",
          "height": 255
        },
        "id": "qUVbhTHPfm9q",
        "outputId": "c8f1782b-b302-4cb3-b350-2c3506bd1b62"
      },
      "source": [
        "german_df_2019t = pd.read_csv('/content/gdrive/My Drive/NLP Project/data/2020/german_dataset/german_dataset_test_2020.csv', error_bad_lines=False)\n",
        "print(german_df_2019t.columns)\n",
        "german_df_2019t = german_df_2019t.drop(columns=['task2'])\n",
        "print(german_df_2019t.shape)\n",
        "labels = collections.Counter(german_df_2019t['task1'])\n",
        "GERMAN_HOF.append(labels['HOF'])\n",
        "GERMAN_NOT.append(labels['NOT'])\n",
        "print(labels)\n",
        "german_df_2019t.head()"
      ],
      "execution_count": 82,
      "outputs": [
        {
          "output_type": "stream",
          "name": "stdout",
          "text": [
            "Index(['tweet_id', 'text', 'task1', 'task2', 'ID'], dtype='object')\n",
            "(526, 4)\n",
            "Counter({'NOT': 392, 'HOF': 134})\n"
          ]
        },
        {
          "output_type": "execute_result",
          "data": {
            "text/html": [
              "<div>\n",
              "<style scoped>\n",
              "    .dataframe tbody tr th:only-of-type {\n",
              "        vertical-align: middle;\n",
              "    }\n",
              "\n",
              "    .dataframe tbody tr th {\n",
              "        vertical-align: top;\n",
              "    }\n",
              "\n",
              "    .dataframe thead th {\n",
              "        text-align: right;\n",
              "    }\n",
              "</style>\n",
              "<table border=\"1\" class=\"dataframe\">\n",
              "  <thead>\n",
              "    <tr style=\"text-align: right;\">\n",
              "      <th></th>\n",
              "      <th>tweet_id</th>\n",
              "      <th>text</th>\n",
              "      <th>task1</th>\n",
              "      <th>ID</th>\n",
              "    </tr>\n",
              "  </thead>\n",
              "  <tbody>\n",
              "    <tr>\n",
              "      <th>0</th>\n",
              "      <td>1129095874242650112</td>\n",
              "      <td>@derCarsti Boykottieren hört sich besser an. 💙💙</td>\n",
              "      <td>NOT</td>\n",
              "      <td>hasoc_2020_de_1053</td>\n",
              "    </tr>\n",
              "    <tr>\n",
              "      <th>1</th>\n",
              "      <td>1129004308396236800</td>\n",
              "      <td>RT @ibikus31: Es wird spekuliert, ob Merkel ei...</td>\n",
              "      <td>NOT</td>\n",
              "      <td>hasoc_2020_de_671</td>\n",
              "    </tr>\n",
              "    <tr>\n",
              "      <th>2</th>\n",
              "      <td>1130896929355907080</td>\n",
              "      <td>Hat #Hitler wirklich den Krieg in der Wüste ve...</td>\n",
              "      <td>NOT</td>\n",
              "      <td>hasoc_2020_de_2977</td>\n",
              "    </tr>\n",
              "    <tr>\n",
              "      <th>3</th>\n",
              "      <td>1132251534329307136</td>\n",
              "      <td>RT @Beatrix_vStorch: #May tritt in UK unter Tr...</td>\n",
              "      <td>NOT</td>\n",
              "      <td>hasoc_2020_de_1746</td>\n",
              "    </tr>\n",
              "    <tr>\n",
              "      <th>4</th>\n",
              "      <td>1124941869115498496</td>\n",
              "      <td>@justmeDoro Eher nicht. Das Gänse hauen wieder...</td>\n",
              "      <td>NOT</td>\n",
              "      <td>hasoc_2020_de_2416</td>\n",
              "    </tr>\n",
              "  </tbody>\n",
              "</table>\n",
              "</div>"
            ],
            "text/plain": [
              "              tweet_id  ...                  ID\n",
              "0  1129095874242650112  ...  hasoc_2020_de_1053\n",
              "1  1129004308396236800  ...   hasoc_2020_de_671\n",
              "2  1130896929355907080  ...  hasoc_2020_de_2977\n",
              "3  1132251534329307136  ...  hasoc_2020_de_1746\n",
              "4  1124941869115498496  ...  hasoc_2020_de_2416\n",
              "\n",
              "[5 rows x 4 columns]"
            ]
          },
          "metadata": {},
          "execution_count": 82
        }
      ]
    },
    {
      "cell_type": "code",
      "metadata": {
        "colab": {
          "base_uri": "https://localhost:8080/",
          "height": 255
        },
        "id": "e91sAGZSfprT",
        "outputId": "f28338d9-40a6-45b7-fc4d-6d1760112883"
      },
      "source": [
        "german_df_2020t = pd.read_csv('/content/gdrive/My Drive/NLP Project/data/2020/english_dataset/english_dataset_test_2020.csv', error_bad_lines=False)\n",
        "german_df_2020t = german_df_2020t.drop(columns=['task2'])\n",
        "print(german_df_2020t.shape)\n",
        "print(german_df_2020t.columns)\n",
        "labels = collections.Counter(german_df_2020t['task1'])\n",
        "GERMAN_HOF.append(labels['HOF'])\n",
        "GERMAN_NOT.append(labels['NOT'])\n",
        "print(labels)\n",
        "german_df_2020t.head()"
      ],
      "execution_count": 83,
      "outputs": [
        {
          "output_type": "stream",
          "name": "stdout",
          "text": [
            "(814, 4)\n",
            "Index(['tweet_id', 'text', 'task1', 'ID'], dtype='object')\n",
            "Counter({'HOF': 423, 'NOT': 391})\n"
          ]
        },
        {
          "output_type": "execute_result",
          "data": {
            "text/html": [
              "<div>\n",
              "<style scoped>\n",
              "    .dataframe tbody tr th:only-of-type {\n",
              "        vertical-align: middle;\n",
              "    }\n",
              "\n",
              "    .dataframe tbody tr th {\n",
              "        vertical-align: top;\n",
              "    }\n",
              "\n",
              "    .dataframe thead th {\n",
              "        text-align: right;\n",
              "    }\n",
              "</style>\n",
              "<table border=\"1\" class=\"dataframe\">\n",
              "  <thead>\n",
              "    <tr style=\"text-align: right;\">\n",
              "      <th></th>\n",
              "      <th>tweet_id</th>\n",
              "      <th>text</th>\n",
              "      <th>task1</th>\n",
              "      <th>ID</th>\n",
              "    </tr>\n",
              "  </thead>\n",
              "  <tbody>\n",
              "    <tr>\n",
              "      <th>0</th>\n",
              "      <td>1130081762154090497</td>\n",
              "      <td>RT @delmiyaa: Samini resetting the show and mo...</td>\n",
              "      <td>NOT</td>\n",
              "      <td>hasoc_2020_en_2713</td>\n",
              "    </tr>\n",
              "    <tr>\n",
              "      <th>1</th>\n",
              "      <td>1130048316807491584</td>\n",
              "      <td>@Swxnsea how do you know that he’s left?</td>\n",
              "      <td>HOF</td>\n",
              "      <td>hasoc_2020_en_3874</td>\n",
              "    </tr>\n",
              "    <tr>\n",
              "      <th>2</th>\n",
              "      <td>1123657766143504386</td>\n",
              "      <td>Tried to get Divock Origi on a free seeing as ...</td>\n",
              "      <td>NOT</td>\n",
              "      <td>hasoc_2020_en_281</td>\n",
              "    </tr>\n",
              "    <tr>\n",
              "      <th>3</th>\n",
              "      <td>1126782963042013186</td>\n",
              "      <td>RT @nutclusteruwu: that....is yalls stupid whi...</td>\n",
              "      <td>HOF</td>\n",
              "      <td>hasoc_2020_en_2026</td>\n",
              "    </tr>\n",
              "    <tr>\n",
              "      <th>4</th>\n",
              "      <td>1130159113529434113</td>\n",
              "      <td>&amp;amp; IT DID. But a bitch got big girls things...</td>\n",
              "      <td>HOF</td>\n",
              "      <td>hasoc_2020_en_4023</td>\n",
              "    </tr>\n",
              "  </tbody>\n",
              "</table>\n",
              "</div>"
            ],
            "text/plain": [
              "              tweet_id  ...                  ID\n",
              "0  1130081762154090497  ...  hasoc_2020_en_2713\n",
              "1  1130048316807491584  ...  hasoc_2020_en_3874\n",
              "2  1123657766143504386  ...   hasoc_2020_en_281\n",
              "3  1126782963042013186  ...  hasoc_2020_en_2026\n",
              "4  1130159113529434113  ...  hasoc_2020_en_4023\n",
              "\n",
              "[5 rows x 4 columns]"
            ]
          },
          "metadata": {},
          "execution_count": 83
        }
      ]
    },
    {
      "cell_type": "code",
      "metadata": {
        "colab": {
          "base_uri": "https://localhost:8080/",
          "height": 415
        },
        "id": "fUmKTe_8ftay",
        "outputId": "575eee82-c988-49f0-914b-124e94b2708b"
      },
      "source": [
        "barWidth = 0.25\n",
        "br1 = np.arange(len(GERMAN_HOF))\n",
        "br2 = [x + barWidth for x in br1]\n",
        "plt.bar(br1, GERMAN_HOF, width=barWidth, label='HOF')\n",
        "plt.bar(br2, GERMAN_NOT, width=barWidth, label='NOT')\n",
        "plt.legend()\n",
        "plt.xlabel('German Dataset')\n",
        "plt.ylabel('Count')\n",
        "plt.xticks([r + barWidth for r in range(len(br1))],\n",
        "        ['train 2019', 'train 2020', 'test 2019', 'test 2020'])"
      ],
      "execution_count": 84,
      "outputs": [
        {
          "output_type": "execute_result",
          "data": {
            "text/plain": [
              "([<matplotlib.axis.XTick at 0x7f488a044cd0>,\n",
              "  <matplotlib.axis.XTick at 0x7f488a044c90>,\n",
              "  <matplotlib.axis.XTick at 0x7f488a0449d0>,\n",
              "  <matplotlib.axis.XTick at 0x7f488a007310>],\n",
              " [Text(0, 0, 'train 2019'),\n",
              "  Text(0, 0, 'train 2020'),\n",
              "  Text(0, 0, 'test 2019'),\n",
              "  Text(0, 0, 'test 2020')])"
            ]
          },
          "metadata": {},
          "execution_count": 84
        },
        {
          "output_type": "display_data",
          "data": {
            "image/png": "[encoded data removed]",
            "text/plain": [
              "<Figure size 432x288 with 1 Axes>"
            ]
          },
          "metadata": {
            "needs_background": "light"
          }
        }
      ]
    },
    {
      "cell_type": "markdown",
      "metadata": {
        "id": "iQawXY3di4l5"
      },
      "source": [
        "HINDI DATASET ANALYSIS"
      ]
    },
    {
      "cell_type": "code",
      "metadata": {
        "id": "S7CBxZkHiw38"
      },
      "source": [
        "HINDI_HOF = []\n",
        "HINDI_NOT = []"
      ],
      "execution_count": 85,
      "outputs": []
    },
    {
      "cell_type": "code",
      "metadata": {
        "colab": {
          "base_uri": "https://localhost:8080/",
          "height": 255
        },
        "id": "YlOk7cXUi-cO",
        "outputId": "9a180533-f04b-4f59-ccf4-c1f9c526bfd8"
      },
      "source": [
        "hindi_df_2019 = pd.read_csv('/content/gdrive/My Drive/NLP Project/data/2019/hindi_dataset/hindi_dataset_2019.csv', error_bad_lines=False)\n",
        "hindi_df_2019 = hindi_df_2019.drop(columns=['task_2', 'task_3'])\n",
        "print(hindi_df_2019.shape)\n",
        "labels = collections.Counter(hindi_df_2019['task_1'])\n",
        "HINDI_HOF.append(labels['HOF'])\n",
        "HINDI_NOT.append(labels['NOT'])\n",
        "print(labels)\n",
        "print(hindi_df_2019.columns)\n",
        "hindi_df_2019.head()"
      ],
      "execution_count": 86,
      "outputs": [
        {
          "output_type": "stream",
          "name": "stdout",
          "text": [
            "(4665, 3)\n",
            "Counter({'HOF': 2469, 'NOT': 2196})\n",
            "Index(['text_id', 'text', 'task_1'], dtype='object')\n"
          ]
        },
        {
          "output_type": "execute_result",
          "data": {
            "text/html": [
              "<div>\n",
              "<style scoped>\n",
              "    .dataframe tbody tr th:only-of-type {\n",
              "        vertical-align: middle;\n",
              "    }\n",
              "\n",
              "    .dataframe tbody tr th {\n",
              "        vertical-align: top;\n",
              "    }\n",
              "\n",
              "    .dataframe thead th {\n",
              "        text-align: right;\n",
              "    }\n",
              "</style>\n",
              "<table border=\"1\" class=\"dataframe\">\n",
              "  <thead>\n",
              "    <tr style=\"text-align: right;\">\n",
              "      <th></th>\n",
              "      <th>text_id</th>\n",
              "      <th>text</th>\n",
              "      <th>task_1</th>\n",
              "    </tr>\n",
              "  </thead>\n",
              "  <tbody>\n",
              "    <tr>\n",
              "      <th>0</th>\n",
              "      <td>hasoc_hi_5556</td>\n",
              "      <td>बांग्लादेश की शानदार वापसी, भारत को 314 रन पर ...</td>\n",
              "      <td>NOT</td>\n",
              "    </tr>\n",
              "    <tr>\n",
              "      <th>1</th>\n",
              "      <td>hasoc_hi_5648</td>\n",
              "      <td>सब रंडी नाच देखने मे व्यस्त जैसे ही कोई #शांती...</td>\n",
              "      <td>HOF</td>\n",
              "    </tr>\n",
              "    <tr>\n",
              "      <th>2</th>\n",
              "      <td>hasoc_hi_164</td>\n",
              "      <td>तुम जैसे हरामियों के लिए बस जूतों की कमी है शु...</td>\n",
              "      <td>HOF</td>\n",
              "    </tr>\n",
              "    <tr>\n",
              "      <th>3</th>\n",
              "      <td>hasoc_hi_3530</td>\n",
              "      <td>बीजेपी MLA आकाश विजयवर्गीय जेल से रिहा, जमानत ...</td>\n",
              "      <td>NOT</td>\n",
              "    </tr>\n",
              "    <tr>\n",
              "      <th>4</th>\n",
              "      <td>hasoc_hi_5206</td>\n",
              "      <td>चमकी बुखार: विधानसभा परिसर में आरजेडी का प्रदर...</td>\n",
              "      <td>NOT</td>\n",
              "    </tr>\n",
              "  </tbody>\n",
              "</table>\n",
              "</div>"
            ],
            "text/plain": [
              "         text_id                                               text task_1\n",
              "0  hasoc_hi_5556  बांग्लादेश की शानदार वापसी, भारत को 314 रन पर ...    NOT\n",
              "1  hasoc_hi_5648  सब रंडी नाच देखने मे व्यस्त जैसे ही कोई #शांती...    HOF\n",
              "2   hasoc_hi_164  तुम जैसे हरामियों के लिए बस जूतों की कमी है शु...    HOF\n",
              "3  hasoc_hi_3530  बीजेपी MLA आकाश विजयवर्गीय जेल से रिहा, जमानत ...    NOT\n",
              "4  hasoc_hi_5206  चमकी बुखार: विधानसभा परिसर में आरजेडी का प्रदर...    NOT"
            ]
          },
          "metadata": {},
          "execution_count": 86
        }
      ]
    },
    {
      "cell_type": "code",
      "metadata": {
        "colab": {
          "base_uri": "https://localhost:8080/",
          "height": 255
        },
        "id": "WRhsISVAjAyZ",
        "outputId": "954b00de-c782-4ebe-9e41-89ddb9ede30d"
      },
      "source": [
        "hindi_df_2020 = pd.read_csv('/content/gdrive/My Drive/NLP Project/data/2020/hindi_dataset/hindi_dataset_2020.csv', error_bad_lines=False)\n",
        "print(hindi_df_2020.columns)\n",
        "hindi_df_2020 = hindi_df_2020.drop(columns=['task2'])\n",
        "print(hindi_df_2020.shape)\n",
        "labels = collections.Counter(hindi_df_2020['task1'])\n",
        "HINDI_HOF.append(labels['HOF'])\n",
        "HINDI_NOT.append(labels['NOT'])\n",
        "print(labels)\n",
        "hindi_df_2020.head()"
      ],
      "execution_count": 87,
      "outputs": [
        {
          "output_type": "stream",
          "name": "stdout",
          "text": [
            "Index(['tweet_id', 'text', 'task1', 'task2', 'ID'], dtype='object')\n",
            "(2963, 4)\n",
            "Counter({'NOT': 2116, 'HOF': 847})\n"
          ]
        },
        {
          "output_type": "execute_result",
          "data": {
            "text/html": [
              "<div>\n",
              "<style scoped>\n",
              "    .dataframe tbody tr th:only-of-type {\n",
              "        vertical-align: middle;\n",
              "    }\n",
              "\n",
              "    .dataframe tbody tr th {\n",
              "        vertical-align: top;\n",
              "    }\n",
              "\n",
              "    .dataframe thead th {\n",
              "        text-align: right;\n",
              "    }\n",
              "</style>\n",
              "<table border=\"1\" class=\"dataframe\">\n",
              "  <thead>\n",
              "    <tr style=\"text-align: right;\">\n",
              "      <th></th>\n",
              "      <th>tweet_id</th>\n",
              "      <th>text</th>\n",
              "      <th>task1</th>\n",
              "      <th>ID</th>\n",
              "    </tr>\n",
              "  </thead>\n",
              "  <tbody>\n",
              "    <tr>\n",
              "      <th>0</th>\n",
              "      <td>1.127755e+18</td>\n",
              "      <td>1 आदमीं को मारने पर गोडसे आतंकी हो सके है तो\\n...</td>\n",
              "      <td>HOF</td>\n",
              "      <td>hasoc_2020_hi_2250</td>\n",
              "    </tr>\n",
              "    <tr>\n",
              "      <th>1</th>\n",
              "      <td>1.123579e+18</td>\n",
              "      <td>RT @Vishesh4: @jawaharyadavbjp जवाहर यादव, अगर...</td>\n",
              "      <td>NOT</td>\n",
              "      <td>hasoc_2020_hi_381</td>\n",
              "    </tr>\n",
              "    <tr>\n",
              "      <th>2</th>\n",
              "      <td>1.127750e+18</td>\n",
              "      <td>RT @FunKeyBaat: #भगवा वस्त्र पहन कर मतदान नही ...</td>\n",
              "      <td>HOF</td>\n",
              "      <td>hasoc_2020_hi_1510</td>\n",
              "    </tr>\n",
              "    <tr>\n",
              "      <th>3</th>\n",
              "      <td>1.127661e+18</td>\n",
              "      <td>Yey nina khothani labafazi benu phambili Finis...</td>\n",
              "      <td>HOF</td>\n",
              "      <td>hasoc_2020_hi_1010</td>\n",
              "    </tr>\n",
              "    <tr>\n",
              "      <th>4</th>\n",
              "      <td>1.123487e+18</td>\n",
              "      <td>RT @Rajeshbhanjan2: जब भी कोई सिकुलर कोंग्रेसी...</td>\n",
              "      <td>HOF</td>\n",
              "      <td>hasoc_2020_hi_331</td>\n",
              "    </tr>\n",
              "  </tbody>\n",
              "</table>\n",
              "</div>"
            ],
            "text/plain": [
              "       tweet_id  ...                  ID\n",
              "0  1.127755e+18  ...  hasoc_2020_hi_2250\n",
              "1  1.123579e+18  ...   hasoc_2020_hi_381\n",
              "2  1.127750e+18  ...  hasoc_2020_hi_1510\n",
              "3  1.127661e+18  ...  hasoc_2020_hi_1010\n",
              "4  1.123487e+18  ...   hasoc_2020_hi_331\n",
              "\n",
              "[5 rows x 4 columns]"
            ]
          },
          "metadata": {},
          "execution_count": 87
        }
      ]
    },
    {
      "cell_type": "code",
      "metadata": {
        "colab": {
          "base_uri": "https://localhost:8080/",
          "height": 255
        },
        "id": "ZEl4r9DRjDIo",
        "outputId": "e28f78ce-1c36-48ab-a2eb-d2952a766aa3"
      },
      "source": [
        "hindi_df_2019t = pd.read_csv('/content/gdrive/My Drive/NLP Project/data/2020/hindi_dataset/hindi_dataset_test_2020.csv', error_bad_lines=False)\n",
        "print(hindi_df_2019t.columns)\n",
        "hindi_df_2019t = hindi_df_2019t.drop(columns=['task2'])\n",
        "print(hindi_df_2019t.shape)\n",
        "labels = collections.Counter(hindi_df_2019t['task1'])\n",
        "HINDI_HOF.append(labels['HOF'])\n",
        "HINDI_NOT.append(labels['NOT'])\n",
        "print(labels)\n",
        "hindi_df_2019t.head()"
      ],
      "execution_count": 88,
      "outputs": [
        {
          "output_type": "stream",
          "name": "stdout",
          "text": [
            "Index(['tweet_id', 'text', 'task1', 'task2', 'ID'], dtype='object')\n",
            "(663, 4)\n",
            "Counter({'NOT': 466, 'HOF': 197})\n"
          ]
        },
        {
          "output_type": "execute_result",
          "data": {
            "text/html": [
              "<div>\n",
              "<style scoped>\n",
              "    .dataframe tbody tr th:only-of-type {\n",
              "        vertical-align: middle;\n",
              "    }\n",
              "\n",
              "    .dataframe tbody tr th {\n",
              "        vertical-align: top;\n",
              "    }\n",
              "\n",
              "    .dataframe thead th {\n",
              "        text-align: right;\n",
              "    }\n",
              "</style>\n",
              "<table border=\"1\" class=\"dataframe\">\n",
              "  <thead>\n",
              "    <tr style=\"text-align: right;\">\n",
              "      <th></th>\n",
              "      <th>tweet_id</th>\n",
              "      <th>text</th>\n",
              "      <th>task1</th>\n",
              "      <th>ID</th>\n",
              "    </tr>\n",
              "  </thead>\n",
              "  <tbody>\n",
              "    <tr>\n",
              "      <th>0</th>\n",
              "      <td>1127781647783301120</td>\n",
              "      <td>@Kinjal_Dubey_ इसके लिए तैयारी हो रखी है\\nआपको...</td>\n",
              "      <td>HOF</td>\n",
              "      <td>hasoc_2020_hi_1938</td>\n",
              "    </tr>\n",
              "    <tr>\n",
              "      <th>1</th>\n",
              "      <td>1127492853171535872</td>\n",
              "      <td>RT @pratimamishra04: दिल्ली के मुख्यमंत्री @Ar...</td>\n",
              "      <td>NOT</td>\n",
              "      <td>hasoc_2020_hi_1201</td>\n",
              "    </tr>\n",
              "    <tr>\n",
              "      <th>2</th>\n",
              "      <td>1123638375896903681</td>\n",
              "      <td>RT @nishantdabre2: आज एक तरफ खुशी है, तो एक तर...</td>\n",
              "      <td>NOT</td>\n",
              "      <td>hasoc_2020_hi_1628</td>\n",
              "    </tr>\n",
              "    <tr>\n",
              "      <th>3</th>\n",
              "      <td>1127496460310683648</td>\n",
              "      <td>@BJP4India @HardeepSPuri जिस कुनबे के लोग :-\\n...</td>\n",
              "      <td>NOT</td>\n",
              "      <td>hasoc_2020_hi_3257</td>\n",
              "    </tr>\n",
              "    <tr>\n",
              "      <th>4</th>\n",
              "      <td>1127667277535399937</td>\n",
              "      <td>@manakgupta बादल....😂😂😂</td>\n",
              "      <td>NOT</td>\n",
              "      <td>hasoc_2020_hi_4133</td>\n",
              "    </tr>\n",
              "  </tbody>\n",
              "</table>\n",
              "</div>"
            ],
            "text/plain": [
              "              tweet_id  ...                  ID\n",
              "0  1127781647783301120  ...  hasoc_2020_hi_1938\n",
              "1  1127492853171535872  ...  hasoc_2020_hi_1201\n",
              "2  1123638375896903681  ...  hasoc_2020_hi_1628\n",
              "3  1127496460310683648  ...  hasoc_2020_hi_3257\n",
              "4  1127667277535399937  ...  hasoc_2020_hi_4133\n",
              "\n",
              "[5 rows x 4 columns]"
            ]
          },
          "metadata": {},
          "execution_count": 88
        }
      ]
    },
    {
      "cell_type": "code",
      "metadata": {
        "colab": {
          "base_uri": "https://localhost:8080/",
          "height": 255
        },
        "id": "prjeFkM-jFsx",
        "outputId": "e69be845-616b-4510-8170-cb3589e3d950"
      },
      "source": [
        "hindi_df_2020t = pd.read_csv('/content/gdrive/My Drive/NLP Project/data/2020/hindi_dataset/hindi_dataset_test_2020.csv', error_bad_lines=False)\n",
        "hindi_df_2020t = hindi_df_2020t.drop(columns=['task2'])\n",
        "print(hindi_df_2020t.shape)\n",
        "print(hindi_df_2020t.columns)\n",
        "labels = collections.Counter(hindi_df_2020t['task1'])\n",
        "HINDI_HOF.append(labels['HOF'])\n",
        "HINDI_NOT.append(labels['NOT'])\n",
        "print(labels)\n",
        "hindi_df_2020t.head()"
      ],
      "execution_count": 89,
      "outputs": [
        {
          "output_type": "stream",
          "name": "stdout",
          "text": [
            "(663, 4)\n",
            "Index(['tweet_id', 'text', 'task1', 'ID'], dtype='object')\n",
            "Counter({'NOT': 466, 'HOF': 197})\n"
          ]
        },
        {
          "output_type": "execute_result",
          "data": {
            "text/html": [
              "<div>\n",
              "<style scoped>\n",
              "    .dataframe tbody tr th:only-of-type {\n",
              "        vertical-align: middle;\n",
              "    }\n",
              "\n",
              "    .dataframe tbody tr th {\n",
              "        vertical-align: top;\n",
              "    }\n",
              "\n",
              "    .dataframe thead th {\n",
              "        text-align: right;\n",
              "    }\n",
              "</style>\n",
              "<table border=\"1\" class=\"dataframe\">\n",
              "  <thead>\n",
              "    <tr style=\"text-align: right;\">\n",
              "      <th></th>\n",
              "      <th>tweet_id</th>\n",
              "      <th>text</th>\n",
              "      <th>task1</th>\n",
              "      <th>ID</th>\n",
              "    </tr>\n",
              "  </thead>\n",
              "  <tbody>\n",
              "    <tr>\n",
              "      <th>0</th>\n",
              "      <td>1127781647783301120</td>\n",
              "      <td>@Kinjal_Dubey_ इसके लिए तैयारी हो रखी है\\nआपको...</td>\n",
              "      <td>HOF</td>\n",
              "      <td>hasoc_2020_hi_1938</td>\n",
              "    </tr>\n",
              "    <tr>\n",
              "      <th>1</th>\n",
              "      <td>1127492853171535872</td>\n",
              "      <td>RT @pratimamishra04: दिल्ली के मुख्यमंत्री @Ar...</td>\n",
              "      <td>NOT</td>\n",
              "      <td>hasoc_2020_hi_1201</td>\n",
              "    </tr>\n",
              "    <tr>\n",
              "      <th>2</th>\n",
              "      <td>1123638375896903681</td>\n",
              "      <td>RT @nishantdabre2: आज एक तरफ खुशी है, तो एक तर...</td>\n",
              "      <td>NOT</td>\n",
              "      <td>hasoc_2020_hi_1628</td>\n",
              "    </tr>\n",
              "    <tr>\n",
              "      <th>3</th>\n",
              "      <td>1127496460310683648</td>\n",
              "      <td>@BJP4India @HardeepSPuri जिस कुनबे के लोग :-\\n...</td>\n",
              "      <td>NOT</td>\n",
              "      <td>hasoc_2020_hi_3257</td>\n",
              "    </tr>\n",
              "    <tr>\n",
              "      <th>4</th>\n",
              "      <td>1127667277535399937</td>\n",
              "      <td>@manakgupta बादल....😂😂😂</td>\n",
              "      <td>NOT</td>\n",
              "      <td>hasoc_2020_hi_4133</td>\n",
              "    </tr>\n",
              "  </tbody>\n",
              "</table>\n",
              "</div>"
            ],
            "text/plain": [
              "              tweet_id  ...                  ID\n",
              "0  1127781647783301120  ...  hasoc_2020_hi_1938\n",
              "1  1127492853171535872  ...  hasoc_2020_hi_1201\n",
              "2  1123638375896903681  ...  hasoc_2020_hi_1628\n",
              "3  1127496460310683648  ...  hasoc_2020_hi_3257\n",
              "4  1127667277535399937  ...  hasoc_2020_hi_4133\n",
              "\n",
              "[5 rows x 4 columns]"
            ]
          },
          "metadata": {},
          "execution_count": 89
        }
      ]
    },
    {
      "cell_type": "code",
      "metadata": {
        "colab": {
          "base_uri": "https://localhost:8080/",
          "height": 415
        },
        "id": "qdyLEHXMjHyZ",
        "outputId": "d30efac3-6948-4b2f-8a9c-19c6c1fbb924"
      },
      "source": [
        "barWidth = 0.25\n",
        "br1 = np.arange(len(HINDI_HOF))\n",
        "br2 = [x + barWidth for x in br1]\n",
        "plt.bar(br1, HINDI_HOF, width=barWidth, label='HOF')\n",
        "plt.bar(br2, HINDI_NOT, width=barWidth, label='NOT')\n",
        "plt.legend()\n",
        "plt.xlabel('Hindi Dataset')\n",
        "plt.ylabel('Count')\n",
        "plt.xticks([r + barWidth for r in range(len(br1))],\n",
        "        ['train 2019', 'train 2020', 'test 2019', 'test 2020'])"
      ],
      "execution_count": 90,
      "outputs": [
        {
          "output_type": "execute_result",
          "data": {
            "text/plain": [
              "([<matplotlib.axis.XTick at 0x7f4889e75390>,\n",
              "  <matplotlib.axis.XTick at 0x7f4889e75350>,\n",
              "  <matplotlib.axis.XTick at 0x7f4889e75050>,\n",
              "  <matplotlib.axis.XTick at 0x7f4889e374d0>],\n",
              " [Text(0, 0, 'train 2019'),\n",
              "  Text(0, 0, 'train 2020'),\n",
              "  Text(0, 0, 'test 2019'),\n",
              "  Text(0, 0, 'test 2020')])"
            ]
          },
          "metadata": {},
          "execution_count": 90
        },
        {
          "output_type": "display_data",
          "data": {
            "image/png": "[encoded data removed]",
            "text/plain": [
              "<Figure size 432x288 with 1 Axes>"
            ]
          },
          "metadata": {
            "needs_background": "light"
          }
        }
      ]
    },
    {
      "cell_type": "markdown",
      "metadata": {
        "id": "IyljbtiPkyKB"
      },
      "source": [
        "COLLECTIVE DATASET ANALYSIS"
      ]
    },
    {
      "cell_type": "code",
      "metadata": {
        "id": "jOYTAnFKjJ2s"
      },
      "source": [
        "total_hof = [np.sum(ENGLISH_HOF), np.sum(GERMAN_HOF), np.sum(SPANISH_HOF), np.sum(HINDI_HOF)]\n",
        "total_not = [np.sum(ENGLISH_NOT), np.sum(GERMAN_NOT), np.sum(SPANISH_HOF), np.sum(HINDI_NOT)]"
      ],
      "execution_count": 91,
      "outputs": []
    },
    {
      "cell_type": "code",
      "metadata": {
        "colab": {
          "base_uri": "https://localhost:8080/",
          "height": 499
        },
        "id": "8PueQWqemx8j",
        "outputId": "aa641839-e4b8-4ee8-fb46-2473269c8ee9"
      },
      "source": [
        "labels = ['English', 'German', 'Spanish', 'Hindi']\n",
        "fig, ax = plt.subplots(figsize=(10, 8), subplot_kw=dict(aspect=\"equal\"))\n",
        "\n",
        "def func(pct, allvals):\n",
        "    absolute = int(round(pct/100.*np.sum(allvals)))\n",
        "    return \"{:.1f}%\\n({:d})\".format(pct, absolute)\n",
        "\n",
        "wedges, texts, autotexts = ax.pie(total_hof, autopct=lambda pct: func(pct, total_hof),textprops=dict(color=\"w\"), labels=labels)\n",
        "ax.legend(wedges, labels,\n",
        "          title=\"Language\",\n",
        "          loc=\"center left\",\n",
        "          bbox_to_anchor=(1, 0, 0.5, 1))\n",
        "plt.setp(autotexts, size=15, weight=\"bold\")\n",
        "ax.set_title(\"Hate Tweets\")"
      ],
      "execution_count": 92,
      "outputs": [
        {
          "output_type": "execute_result",
          "data": {
            "text/plain": [
              "Text(0.5, 1.0, 'Hate Tweets')"
            ]
          },
          "metadata": {},
          "execution_count": 92
        },
        {
          "output_type": "display_data",
          "data": {
            "image/png": "[encoded data removed]",
            "text/plain": [
              "<Figure size 720x576 with 1 Axes>"
            ]
          },
          "metadata": {}
        }
      ]
    },
    {
      "cell_type": "code",
      "metadata": {
        "colab": {
          "base_uri": "https://localhost:8080/",
          "height": 499
        },
        "id": "nmbIbWwFnMpF",
        "outputId": "34d745f0-2844-4e59-ca67-0631a4d51a67"
      },
      "source": [
        "fig, ax = plt.subplots(figsize=(10, 8), subplot_kw=dict(aspect=\"equal\"))\n",
        "\n",
        "def func(pct, allvals):\n",
        "    absolute = int(round(pct/100.*np.sum(allvals)))\n",
        "    return \"{:.1f}%\\n({:d})\".format(pct, absolute)\n",
        "\n",
        "wedges, texts, autotexts = ax.pie(total_not, autopct=lambda pct: func(pct, total_not),textprops=dict(color=\"w\"), labels=labels)\n",
        "ax.legend(wedges, labels,\n",
        "          title=\"Language\",\n",
        "          loc=\"center left\",\n",
        "          bbox_to_anchor=(1, 0, 0.5, 1))\n",
        "plt.setp(autotexts, size=15, weight=\"bold\")\n",
        "ax.set_title(\"Not Hate Tweets\")"
      ],
      "execution_count": 93,
      "outputs": [
        {
          "output_type": "execute_result",
          "data": {
            "text/plain": [
              "Text(0.5, 1.0, 'Not Hate Tweets')"
            ]
          },
          "metadata": {},
          "execution_count": 93
        },
        {
          "output_type": "display_data",
          "data": {
            "image/png": "[encoded data removed]",
            "text/plain": [
              "<Figure size 720x576 with 1 Axes>"
            ]
          },
          "metadata": {}
        }
      ]
    },
    {
      "cell_type": "code",
      "metadata": {
        "colab": {
          "base_uri": "https://localhost:8080/",
          "height": 499
        },
        "id": "3I9wi4jUsHPG",
        "outputId": "5249750f-d906-4f5a-8bc1-45428279f7f9"
      },
      "source": [
        "data = [a + b for a, b in zip(total_hof, total_not)]\n",
        "fig, ax = plt.subplots(figsize=(10, 8), subplot_kw=dict(aspect=\"equal\"))\n",
        "\n",
        "def func(pct, allvals):\n",
        "    absolute = int(round(pct/100.*np.sum(allvals)))\n",
        "    return \"{:.1f}%\\n({:d})\".format(pct, absolute)\n",
        "\n",
        "wedges, texts, autotexts = ax.pie(data, autopct=lambda pct: func(pct, data),textprops=dict(color=\"w\"), labels=labels)\n",
        "ax.legend(wedges, labels,\n",
        "          title=\"Language\",\n",
        "          loc=\"center left\",\n",
        "          bbox_to_anchor=(1, 0, 0.5, 1))\n",
        "plt.setp(autotexts, size=15, weight=\"bold\")\n",
        "ax.set_title(\"Language Distribution of Datasets\")"
      ],
      "execution_count": 94,
      "outputs": [
        {
          "output_type": "execute_result",
          "data": {
            "text/plain": [
              "Text(0.5, 1.0, 'Language Distribution of Datasets')"
            ]
          },
          "metadata": {},
          "execution_count": 94
        },
        {
          "output_type": "display_data",
          "data": {
            "image/png": "[encoded data removed]",
            "text/plain": [
              "<Figure size 720x576 with 1 Axes>"
            ]
          },
          "metadata": {}
        }
      ]
    },
    {
      "cell_type": "markdown",
      "metadata": {
        "id": "a0pnHzf-tGc8"
      },
      "source": [
        "CLEANING OF DATA - Remove STOP WORDS"
      ]
    },
    {
      "cell_type": "code",
      "metadata": {
        "id": "6N5-c_QFsZaY"
      },
      "source": [
        "def modify_tweets(data):\n",
        "  # print(data.columns)\n",
        "  modified_tweets = []\n",
        "  for text in data:\n",
        "\n",
        "      #To remove @AnyName from the tweets\n",
        "      text=re.sub(r\"@[a-zA-z0-9]*\\s+\",\"\",text) \n",
        "      text=re.sub(r\"@[a-zA-z0-9]*:\",\"\",text)\n",
        "      text=re.sub(r\"@[a-zA-z0-9]*\",\"\",text)  \n",
        "      text=re.sub(r\"@[a-zA-z0-9]*$\",\"\",text)\n",
        "      \n",
        "      #To remove links\n",
        "      text=re.sub(r\"^https://t.co/[a-zA-Z0-9]*\\s+\",\" \",text)    \n",
        "      text=re.sub(r\"\\s+https://t.co/[a-zA-Z0-9]*\\s+\",\" \",text)  \n",
        "      text=re.sub(r\"\\s+https://t.co/[a-zA-Z0-9]*$\",\" \",text)    \n",
        "      \n",
        "      #To Convert all the tweets to low.\n",
        "      # text=text.lower() \n",
        "      \n",
        "      #To remove the shorthands\n",
        "      text=re.sub(r\"that's\",\"that is \",text)\n",
        "      text=re.sub(r\"there's\",\"there is \",text)\n",
        "      text=re.sub(r\"what's\",\"what is \",text)\n",
        "      text=re.sub(r\"where's\",\"where is \",text)\n",
        "      text=re.sub(r\"it's\",\"it is \",text)\n",
        "      text=re.sub(r\"who's\",\"who is \",text)\n",
        "      text=re.sub(r\"i'm\",\"i am \",text)\n",
        "      text=re.sub(r\"she's\",\"she is \",text)\n",
        "      text=re.sub(r\"he's\",\"he is \",text)\n",
        "      text=re.sub(r\"they're\",\"they are \",text)\n",
        "      text=re.sub(r\"who're\",\"who are \",text)\n",
        "      text=re.sub(r\"ain't\",\"am not \",text)\n",
        "      text=re.sub(r\"wouldn't\",\"would not \",text)\n",
        "      text=re.sub(r\"shouldn't\",\"should not \",text)\n",
        "      text=re.sub(r\"can't\",\"cannot \",text)\n",
        "      text=re.sub(r\"couldn't\",\"could not \",text)\n",
        "      text=re.sub(r\"won't\",\"will not \",text)\n",
        "      \n",
        "      #To remove the single character\n",
        "      text=re.sub(r\"\\s+[a-z]\\s+\",\" \",text)\n",
        "      text=re.sub(r\"\\s+[a-z]$\",\" \",text)\n",
        "      text=re.sub(r\"^[a-z]\\s+\",\" \",text)\n",
        "      \n",
        "      #To remove non-word character\n",
        "      text=re.sub(r\"^[「人間はいわば感情に左右される生き物である」]*\\s+\",\" \",text)\n",
        "      text=re.sub(r\"\\s+[「人間はいわば感情に左右される生き物である」]*\\s+\",\" \",text)\n",
        "      text=re.sub(r\"\\s+[「人間はいわば感情に左右される生き物である」]*$\",\" \",text)\n",
        "      text=re.sub(r\"[!@$,%^&*\\\"><]*\",\"\",text)\n",
        "      text=re.sub(r\"\\.\",\" \",text)\n",
        "      \n",
        "      #To remove duplicate spaces\n",
        "      text=re.sub(r\"\\s+\",\" \",text)\n",
        "      \n",
        "      #To remove digits \n",
        "      text=re.sub(r\"\\d\",\" \",text)\n",
        "      \n",
        "      #To remove non-word characters\n",
        "      text=re.sub(r\"\\W\",\" \",text)\n",
        "      \n",
        "      modified_tweets.append(text)\n",
        "  return modified_tweets"
      ],
      "execution_count": 95,
      "outputs": []
    },
    {
      "cell_type": "code",
      "metadata": {
        "colab": {
          "base_uri": "https://localhost:8080/"
        },
        "id": "UitFLOWxuaXM",
        "outputId": "47bd1107-bdbf-415a-ff72-1e488112a110"
      },
      "source": [
        "print(english_df_2019.head(1)['text'])\n",
        "english_df_2019['text'] = modify_tweets(english_df_2019['text'])\n",
        "print(english_df_2019.head(1)['text'])\n",
        "\n",
        "print(english_df_2019t.head(1)['text'])\n",
        "english_df_2019t['text'] = modify_tweets(english_df_2019t['text'])\n",
        "print(english_df_2019t.head(1)['text'])\n",
        "\n",
        "print(english_df_2020.head(1)['text'])\n",
        "english_df_2020['text'] = modify_tweets(english_df_2020['text'])\n",
        "print(english_df_2020.head(1)['text'])\n",
        "\n",
        "print(english_df_2020t.head(1)['text'])\n",
        "english_df_2020t['text'] = modify_tweets(english_df_2020t['text'])\n",
        "print(english_df_2020t.head(1)['text'])"
      ],
      "execution_count": 96,
      "outputs": [
        {
          "output_type": "stream",
          "name": "stdout",
          "text": [
            "0    #DhoniKeepsTheGlove | WATCH: Sports Minister K...\n",
            "Name: text, dtype: object\n",
            "0     DhoniKeepsTheGlove   WATCH  Sports Minister K...\n",
            "Name: text, dtype: object\n",
            "0    West Bengal Doctor Crisis: Protesting doctors ...\n",
            "Name: text, dtype: object\n",
            "0    West Bengal Doctor Crisis  Protesting doctors ...\n",
            "Name: text, dtype: object\n",
            "0    hate wen females hit ah nigga with tht bro ___...\n",
            "Name: text, dtype: object\n",
            "0    hate wen females hit ah nigga with tht bro ___...\n",
            "Name: text, dtype: object\n",
            "0    RT @delmiyaa: Samini resetting the show and mo...\n",
            "Name: text, dtype: object\n",
            "0    RT Samini resetting the show and moving things...\n",
            "Name: text, dtype: object\n"
          ]
        }
      ]
    },
    {
      "cell_type": "code",
      "metadata": {
        "colab": {
          "base_uri": "https://localhost:8080/"
        },
        "id": "auKn-9nVvt1j",
        "outputId": "b1264fb4-7c5d-47a0-db1b-47279490dac7"
      },
      "source": [
        "print(german_df_2019.head(1)['text'])\n",
        "german_df_2019['text'] = modify_tweets(german_df_2019['text'])\n",
        "print(german_df_2019.head(1)['text'])\n",
        "\n",
        "print(german_df_2019t.head(1)['text'])\n",
        "german_df_2019t['text'] = modify_tweets(german_df_2019t['text'])\n",
        "print(german_df_2019t.head(1)['text'])\n",
        "\n",
        "print(german_df_2020.head(1)['text'])\n",
        "german_df_2020['text'] = modify_tweets(german_df_2020['text'])\n",
        "print(german_df_2020.head(1)['text'])\n",
        "\n",
        "print(german_df_2020t.head(1)['text'])\n",
        "german_df_2020t['text'] = modify_tweets(german_df_2020t['text'])\n",
        "print(german_df_2020t.head(1)['text'])"
      ],
      "execution_count": 97,
      "outputs": [
        {
          "output_type": "stream",
          "name": "stdout",
          "text": [
            "0    Frank Rennicke – Ich bin stolz https://t.co/Cm...\n",
            "Name: text, dtype: object\n",
            "0    Frank Rennicke   Ich bin stolz \n",
            "Name: text, dtype: object\n",
            "0    @derCarsti Boykottieren hört sich besser an. 💙💙\n",
            "Name: text, dtype: object\n",
            "0    Boykottieren hört sich besser an   \n",
            "Name: text, dtype: object\n",
            "0    Deutsche rothaarige porno reife deutsche fraue...\n",
            "Name: text, dtype: object\n",
            "0    Deutsche rothaarige porno reife deutsche fraue...\n",
            "Name: text, dtype: object\n",
            "0    RT @delmiyaa: Samini resetting the show and mo...\n",
            "Name: text, dtype: object\n",
            "0    RT Samini resetting the show and moving things...\n",
            "Name: text, dtype: object\n"
          ]
        }
      ]
    },
    {
      "cell_type": "code",
      "metadata": {
        "colab": {
          "base_uri": "https://localhost:8080/"
        },
        "id": "yRMIKlWG3pqK",
        "outputId": "ef4ce490-fa9c-4c46-d1fb-1768360e7a5a"
      },
      "source": [
        "print(spanish_df_2019.head(1)['text'])\n",
        "spanish_df_2019['text'] = modify_tweets(spanish_df_2019['text'])\n",
        "print(spanish_df_2019.head(1)['text'])\n",
        "\n",
        "print(spanish_df_2019t.head(1)['text'])\n",
        "spanish_df_2019t['text'] = modify_tweets(spanish_df_2019t['text'])\n",
        "print(spanish_df_2019t.head(1)['text'])"
      ],
      "execution_count": 98,
      "outputs": [
        {
          "output_type": "stream",
          "name": "stdout",
          "text": [
            "0    Easyjet quiere duplicar el número de mujeres p...\n",
            "Name: text, dtype: object\n",
            "0    Easyjet quiere duplicar el número de mujeres p...\n",
            "Name: text, dtype: object\n",
            "0    Me estoy comiendo la picada árabe más rica de ...\n",
            "Name: text, dtype: object\n",
            "0    Me estoy comiendo la picada árabe más rica de ...\n",
            "Name: text, dtype: object\n"
          ]
        }
      ]
    },
    {
      "cell_type": "code",
      "metadata": {
        "colab": {
          "base_uri": "https://localhost:8080/"
        },
        "id": "OL58CKBqxNpL",
        "outputId": "c6fb1846-b2cc-4e92-924c-c67b9a583c94"
      },
      "source": [
        "def modify_hindi_tweets(data):\n",
        "  # print(data.columns)\n",
        "  modified_tweets = []\n",
        "  for text in data:\n",
        "\n",
        "      #To remove @AnyName from the tweets\n",
        "      text=re.sub(r\"@[a-zA-z0-9]*\\s+\",\"\",text) \n",
        "      text=re.sub(r\"@[a-zA-z0-9]*:\",\"\",text)\n",
        "      text=re.sub(r\"@[a-zA-z0-9]*\",\"\",text)  \n",
        "      text=re.sub(r\"@[a-zA-z0-9]*$\",\"\",text)\n",
        "      \n",
        "      #To remove links\n",
        "      text=re.sub(r\"^https://t.co/[a-zA-Z0-9]*\\s+\",\" \",text)    \n",
        "      text=re.sub(r\"\\s+https://t.co/[a-zA-Z0-9]*\\s+\",\" \",text)  \n",
        "      text=re.sub(r\"\\s+https://t.co/[a-zA-Z0-9]*$\",\" \",text) \n",
        "\n",
        "      #To remove duplicate spaces\n",
        "      text=re.sub(r\"\\s+\",\" \",text)\n",
        "      \n",
        "      #To remove digits \n",
        "      text=re.sub(r\"\\d\",\" \",text)\n",
        "      \n",
        "      #To remove non-word characters\n",
        "      text=re.sub(r\"\\#\",\" \",text)\n",
        "    \n",
        "      modified_tweets.append(text)\n",
        "  return modified_tweets\n",
        "\n",
        "print(hindi_df_2019.head(1)['text'])\n",
        "l = modify_hindi_tweets(hindi_df_2019['text'])\n",
        "print(l[0])\n",
        "hindi_df_2019['text'] = l\n",
        "print(hindi_df_2019.head(1)['text'])\n",
        "\n",
        "print(hindi_df_2019t.head(1)['text'])\n",
        "hindi_df_2019t['text'] = modify_hindi_tweets(hindi_df_2019t['text'])\n",
        "print(hindi_df_2019t.head(1)['text'])\n",
        "\n",
        "print(hindi_df_2020.head(1)['text'])\n",
        "hindi_df_2020['text'] = modify_hindi_tweets(hindi_df_2020['text'])\n",
        "print(hindi_df_2020.head(1)['text'])\n",
        "\n",
        "print(hindi_df_2020t.head(1)['text'])\n",
        "hindi_df_2020t['text'] = modify_hindi_tweets(hindi_df_2020t['text'])\n",
        "print(hindi_df_2020t.head(1)['text'])"
      ],
      "execution_count": 99,
      "outputs": [
        {
          "output_type": "stream",
          "name": "stdout",
          "text": [
            "0    बांग्लादेश की शानदार वापसी, भारत को 314 रन पर ...\n",
            "Name: text, dtype: object\n",
            "बांग्लादेश की शानदार वापसी, भारत को     रन पर रोका  INDvBAN  CWC  \n",
            "0    बांग्लादेश की शानदार वापसी, भारत को     रन पर ...\n",
            "Name: text, dtype: object\n",
            "0    @Kinjal_Dubey_ इसके लिए तैयारी हो रखी है\\nआपको...\n",
            "Name: text, dtype: object\n",
            "0    इसके लिए तैयारी हो रखी है आपको जान देने की जरू...\n",
            "Name: text, dtype: object\n",
            "0    1 आदमीं को मारने पर गोडसे आतंकी हो सके है तो\\n...\n",
            "Name: text, dtype: object\n",
            "0      आदमीं को मारने पर गोडसे आतंकी हो सके है तो  ...\n",
            "Name: text, dtype: object\n",
            "0    @Kinjal_Dubey_ इसके लिए तैयारी हो रखी है\\nआपको...\n",
            "Name: text, dtype: object\n",
            "0    इसके लिए तैयारी हो रखी है आपको जान देने की जरू...\n",
            "Name: text, dtype: object\n"
          ]
        }
      ]
    },
    {
      "cell_type": "markdown",
      "metadata": {
        "id": "kJsOtGiO6u_S"
      },
      "source": [
        "BERT BASED MODEL FOR ENGLISH"
      ]
    },
    {
      "cell_type": "code",
      "metadata": {
        "colab": {
          "base_uri": "https://localhost:8080/"
        },
        "id": "IDerpFAzMcwA",
        "outputId": "011d6a26-4309-4450-803e-81b5ca07caac"
      },
      "source": [
        "!pip install transformers"
      ],
      "execution_count": 100,
      "outputs": [
        {
          "output_type": "stream",
          "name": "stdout",
          "text": [
            "Requirement already satisfied: transformers in /usr/local/lib/python3.7/dist-packages (4.11.3)\n",
            "Requirement already satisfied: packaging>=20.0 in /usr/local/lib/python3.7/dist-packages (from transformers) (21.0)\n",
            "Requirement already satisfied: huggingface-hub>=0.0.17 in /usr/local/lib/python3.7/dist-packages (from transformers) (0.0.19)\n",
            "Requirement already satisfied: regex!=2019.12.17 in /usr/local/lib/python3.7/dist-packages (from transformers) (2019.12.20)\n",
            "Requirement already satisfied: tqdm>=4.27 in /usr/local/lib/python3.7/dist-packages (from transformers) (4.62.3)\n",
            "Requirement already satisfied: importlib-metadata in /usr/local/lib/python3.7/dist-packages (from transformers) (4.8.1)\n",
            "Requirement already satisfied: filelock in /usr/local/lib/python3.7/dist-packages (from transformers) (3.3.0)\n",
            "Requirement already satisfied: tokenizers<0.11,>=0.10.1 in /usr/local/lib/python3.7/dist-packages (from transformers) (0.10.3)\n",
            "Requirement already satisfied: requests in /usr/local/lib/python3.7/dist-packages (from transformers) (2.23.0)\n",
            "Requirement already satisfied: sacremoses in /usr/local/lib/python3.7/dist-packages (from transformers) (0.0.46)\n",
            "Requirement already satisfied: numpy>=1.17 in /usr/local/lib/python3.7/dist-packages (from transformers) (1.19.5)\n",
            "Requirement already satisfied: pyyaml>=5.1 in /usr/local/lib/python3.7/dist-packages (from transformers) (6.0)\n",
            "Requirement already satisfied: typing-extensions in /usr/local/lib/python3.7/dist-packages (from huggingface-hub>=0.0.17->transformers) (3.7.4.3)\n",
            "Requirement already satisfied: pyparsing>=2.0.2 in /usr/local/lib/python3.7/dist-packages (from packaging>=20.0->transformers) (2.4.7)\n",
            "Requirement already satisfied: zipp>=0.5 in /usr/local/lib/python3.7/dist-packages (from importlib-metadata->transformers) (3.6.0)\n",
            "Requirement already satisfied: urllib3!=1.25.0,!=1.25.1,<1.26,>=1.21.1 in /usr/local/lib/python3.7/dist-packages (from requests->transformers) (1.24.3)\n",
            "Requirement already satisfied: chardet<4,>=3.0.2 in /usr/local/lib/python3.7/dist-packages (from requests->transformers) (3.0.4)\n",
            "Requirement already satisfied: certifi>=2017.4.17 in /usr/local/lib/python3.7/dist-packages (from requests->transformers) (2021.5.30)\n",
            "Requirement already satisfied: idna<3,>=2.5 in /usr/local/lib/python3.7/dist-packages (from requests->transformers) (2.10)\n",
            "Requirement already satisfied: joblib in /usr/local/lib/python3.7/dist-packages (from sacremoses->transformers) (1.0.1)\n",
            "Requirement already satisfied: click in /usr/local/lib/python3.7/dist-packages (from sacremoses->transformers) (7.1.2)\n",
            "Requirement already satisfied: six in /usr/local/lib/python3.7/dist-packages (from sacremoses->transformers) (1.15.0)\n"
          ]
        }
      ]
    },
    {
      "cell_type": "code",
      "metadata": {
        "id": "E_3cDsBvK_HH"
      },
      "source": [
        "train_data = german_df_2019.copy()\n",
        "test_data = german_df_2019t.copy()\n",
        "labels = {'HOF': 1, 'NOT': 0}"
      ],
      "execution_count": 101,
      "outputs": []
    },
    {
      "cell_type": "code",
      "metadata": {
        "id": "dwVob3XRW3yV"
      },
      "source": [
        "train_data['task_1'] = train_data['task_1'].apply(lambda x: labels[x])\n",
        "test_data['task1'] = test_data['task1'].apply(lambda x: labels[x])"
      ],
      "execution_count": 102,
      "outputs": []
    },
    {
      "cell_type": "code",
      "metadata": {
        "id": "Q9s4lW_c6uML",
        "colab": {
          "base_uri": "https://localhost:8080/",
          "height": 162,
          "referenced_widgets": [
            "8822b1c6459d44149c9711f40bff192a",
            "a7480c30afab4be19865d9f313fb4d23",
            "7445dc03d0b746d0bf24d9103960a81b",
            "d8ef8dba579b40a9b3021d20eeea95fc",
            "394810501d1b491ea09ef55da83c71f9",
            "a1cab4cec90e419bb9edf98694bb8029",
            "2ad029e2d9ef490f89b880bbb96fecb5",
            "b1d316ff632d47efad82c2f0c7b8142f",
            "016ab6f4da954244b176f0179df087a3",
            "cf373a34e6494b058620f5f2f061c0f9",
            "1003023dd5fc4bec99e26b7c1cf869c7",
            "dd8d86aaa2cf4a7aa261b2e35c602d57",
            "26ff7f11f916485d8d96e8a1a30fab8b",
            "2c2a1786f3264b7fb815a69adeeab2f0",
            "ab8625d78f354750ae5fc47fa61f7175",
            "f327bc4d1aac435a9f6ff1c3286a5387",
            "93b8bd11fafa49208cad3956b3716028",
            "a1980d5095ba486c8a278243ad5a031c",
            "248479d5e22c4ae69356b1ca8c80737d",
            "e234e576267b4a159354712150bed4e2",
            "19caeea6b4e5422993c42dacde03cda3",
            "cbdd82e99ed1453cbe0b67d54a6fc1e6",
            "b7a77fdf93544961908327bfddfd69a5",
            "3b3db24b7e5141d5bda1e0a471be7a77",
            "92c4f0716e4442bda921b2e4101b294c",
            "f02ea2e26b384277b9a3797d1709ee67",
            "a7d66a124c444d1393dfa2c60795ee8b",
            "90a99c22f14647628f7ea7e02fe9e99e",
            "17781228c9a84beca13cf3e2ec4643c5",
            "25333bc11e274212927aef3b23772da9",
            "3fa2e8f938eb4510b9fb376dfa8f8086",
            "40000a9ee2ce482eb31758697fc0293c",
            "4c29a6dddf2b43908fa1f3f7f40b4471",
            "7f3c8a45ae7e4ae19321274c3d18ef8c",
            "c8409ca4956d42498fb47c98ba32f70d",
            "51f4fb05e494496cbf496fc406513af4",
            "8e22a47f7cf84f6bad5396ae6f2f31c3",
            "726e29ff7b4d44028e27676bebdb363f",
            "05ab161ac2694686a8b5fea3a941822e",
            "9a31b483a0f44bd9a5c0e4cbacee8810",
            "2e4e9206f1674848967f79dcfdafd20f",
            "37cdbcb52db54a048ab07ea62f0db672",
            "c3945b64e356482b86c166ba63c17ddb",
            "8e40484205d14fb189055be053c8ba32"
          ]
        },
        "outputId": "e8bd4d59-04f7-469f-ef64-d57bf8356bc4"
      },
      "source": [
        "from transformers import BertTokenizer\n",
        "\n",
        "\n",
        "tokenizer = BertTokenizer.from_pretrained('bert-base-multilingual-cased')\n",
        "\n",
        "max_length = 0\n",
        "for sentence in train_data['text']:\n",
        "    #print(sentence)\n",
        "    length = len(tokenizer.tokenize(sentence))\n",
        "    if length > max_length:\n",
        "        max_length  = length\n",
        "print(\"max token length in train_data is: \",max_length)"
      ],
      "execution_count": 103,
      "outputs": [
        {
          "output_type": "display_data",
          "data": {
            "application/vnd.jupyter.widget-view+json": {
              "model_id": "8822b1c6459d44149c9711f40bff192a",
              "version_minor": 0,
              "version_major": 2
            },
            "text/plain": [
              "Downloading:   0%|          | 0.00/972k [00:00<?, ?B/s]"
            ]
          },
          "metadata": {}
        },
        {
          "output_type": "display_data",
          "data": {
            "application/vnd.jupyter.widget-view+json": {
              "model_id": "dd8d86aaa2cf4a7aa261b2e35c602d57",
              "version_minor": 0,
              "version_major": 2
            },
            "text/plain": [
              "Downloading:   0%|          | 0.00/29.0 [00:00<?, ?B/s]"
            ]
          },
          "metadata": {}
        },
        {
          "output_type": "display_data",
          "data": {
            "application/vnd.jupyter.widget-view+json": {
              "model_id": "b7a77fdf93544961908327bfddfd69a5",
              "version_minor": 0,
              "version_major": 2
            },
            "text/plain": [
              "Downloading:   0%|          | 0.00/1.87M [00:00<?, ?B/s]"
            ]
          },
          "metadata": {}
        },
        {
          "output_type": "display_data",
          "data": {
            "application/vnd.jupyter.widget-view+json": {
              "model_id": "7f3c8a45ae7e4ae19321274c3d18ef8c",
              "version_minor": 0,
              "version_major": 2
            },
            "text/plain": [
              "Downloading:   0%|          | 0.00/625 [00:00<?, ?B/s]"
            ]
          },
          "metadata": {}
        },
        {
          "output_type": "stream",
          "name": "stdout",
          "text": [
            "max token length in train_data is:  132\n"
          ]
        }
      ]
    },
    {
      "cell_type": "code",
      "metadata": {
        "colab": {
          "base_uri": "https://localhost:8080/"
        },
        "id": "0QAjCwSuLNDS",
        "outputId": "ccbf14e7-a37d-49a7-b840-caa94ce26c96"
      },
      "source": [
        "def encoder_generator(documents):\n",
        "    \n",
        "    doc_index = []\n",
        "    input_ids = []\n",
        "    attention_masks =[]\n",
        "\n",
        "    for index,doc in enumerate(documents):\n",
        "        \n",
        "        doc_index.append(index)\n",
        "        \n",
        "        encoded_dict = tokenizer.encode_plus(doc,\n",
        "                                             add_special_tokens=True,\n",
        "                                             max_length=128,\n",
        "                                             pad_to_max_length=True,\n",
        "                                             truncation = True,\n",
        "                                             return_attention_mask=True,\n",
        "                                             return_tensors='pt')\n",
        "        input_ids.append(encoded_dict['input_ids'])\n",
        "\n",
        "        attention_masks.append(encoded_dict['attention_mask'])\n",
        "\n",
        "    input_ids = torch.cat(input_ids,dim=0)\n",
        "    attention_masks = torch.cat(attention_masks,dim=0)\n",
        "    sent_index = torch.tensor(doc_index)\n",
        "\n",
        "    return sent_index,input_ids,attention_masks\n",
        "\n",
        "sent_index,input_ids,attention_masks = encoder_generator(list(train_data['text']))\n",
        "test_sent_index,test_input_ids,test_attention_masks = encoder_generator(list(test_data['text']))\n",
        "print('Original: ', train_data['text'][0])\n",
        "print('Token IDs:', input_ids[0])"
      ],
      "execution_count": 104,
      "outputs": [
        {
          "output_type": "stream",
          "name": "stderr",
          "text": [
            "/usr/local/lib/python3.7/dist-packages/transformers/tokenization_utils_base.py:2217: FutureWarning: The `pad_to_max_length` argument is deprecated and will be removed in a future version, use `padding=True` or `padding='longest'` to pad to the longest sequence in the batch, or use `padding='max_length'` to pad to a max length. In this case, you can give a specific length with `max_length` (e.g. `max_length=45`) or leave max_length to None to pad to the maximal input size of the model (e.g. 512 for Bert).\n",
            "  FutureWarning,\n"
          ]
        },
        {
          "output_type": "stream",
          "name": "stdout",
          "text": [
            "Original:  Frank Rennicke   Ich bin stolz \n",
            "Token IDs: tensor([  101, 11872, 52712, 71609, 10112, 21023, 16292, 47264, 48275,   102,\n",
            "            0,     0,     0,     0,     0,     0,     0,     0,     0,     0,\n",
            "            0,     0,     0,     0,     0,     0,     0,     0,     0,     0,\n",
            "            0,     0,     0,     0,     0,     0,     0,     0,     0,     0,\n",
            "            0,     0,     0,     0,     0,     0,     0,     0,     0,     0,\n",
            "            0,     0,     0,     0,     0,     0,     0,     0,     0,     0,\n",
            "            0,     0,     0,     0,     0,     0,     0,     0,     0,     0,\n",
            "            0,     0,     0,     0,     0,     0,     0,     0,     0,     0,\n",
            "            0,     0,     0,     0,     0,     0,     0,     0,     0,     0,\n",
            "            0,     0,     0,     0,     0,     0,     0,     0,     0,     0,\n",
            "            0,     0,     0,     0,     0,     0,     0,     0,     0,     0,\n",
            "            0,     0,     0,     0,     0,     0,     0,     0,     0,     0,\n",
            "            0,     0,     0,     0,     0,     0,     0,     0])\n"
          ]
        }
      ]
    },
    {
      "cell_type": "code",
      "metadata": {
        "colab": {
          "base_uri": "https://localhost:8080/"
        },
        "id": "4GBpW5JTURwr",
        "outputId": "9380332f-48c7-4d21-d49f-27ed36a5d509"
      },
      "source": [
        "from torch.utils.data import TensorDataset,random_split\n",
        "\n",
        "dataset = TensorDataset(input_ids,attention_masks,torch.tensor(train_data['task_1']))\n",
        "test_dataset = TensorDataset(test_sent_index,test_input_ids,test_attention_masks,torch.tensor(test_data['task1']))\n",
        "\n",
        "train_size = int(0.8*len(dataset))\n",
        "\n",
        "val_size = len(dataset)-train_size\n",
        "\n",
        "train_dataset,val_dataset = random_split(dataset,[train_size,val_size])\n",
        "\n",
        "print('train data samples is {}'.format(len(train_dataset)))\n",
        "print(\"valid data samples is {}\".format(len(val_dataset)))\n",
        "print(\"test data samples is {}\".format(len(test_dataset)))"
      ],
      "execution_count": 105,
      "outputs": [
        {
          "output_type": "stream",
          "name": "stdout",
          "text": [
            "train data samples is 3055\n",
            "valid data samples is 764\n",
            "test data samples is 526\n"
          ]
        }
      ]
    },
    {
      "cell_type": "code",
      "metadata": {
        "id": "Jo_Tlyy1YFBJ"
      },
      "source": [
        "\n",
        "from torch.utils.data import DataLoader,RandomSampler,SequentialSampler\n",
        "\n",
        "bs=8\n",
        "\n",
        "train_data_loader = DataLoader(train_dataset,\n",
        "                              sampler=RandomSampler(train_dataset),\n",
        "                              batch_size=bs)\n",
        "valid_data_loader = DataLoader(val_dataset,\n",
        "                              sampler=SequentialSampler(val_dataset),\n",
        "                              batch_size=bs)\n",
        "test_data_loader = DataLoader(test_dataset,\n",
        "                            sampler=SequentialSampler(test_dataset),\n",
        "                            batch_size=bs)"
      ],
      "execution_count": 106,
      "outputs": []
    },
    {
      "cell_type": "code",
      "metadata": {
        "colab": {
          "base_uri": "https://localhost:8080/",
          "height": 1000,
          "referenced_widgets": [
            "a44b0ce9f1d84de7888a60c991a59764",
            "4a33436eb1a94be48508a98629981eee",
            "4da9b826df1340f889a085529cd6fd10",
            "98829b86582c466ca75d95824291b011",
            "14f45f6ff9b1417db102777c1a0b7624",
            "f685df4e26f34b5fa84b7fe87364eeab",
            "8de6cd5ac5f14ac1af949825bd4c1138",
            "0d957f012c83473091896c818c16e392",
            "89b4108810114abc97b9897ffd5cb127",
            "d217d4050bbb4c6fa68d05f93cea6c62",
            "7eeefe776e8d4a6cb6e43b9dba9bd804"
          ]
        },
        "id": "-1RWKobQYZhx",
        "outputId": "2ad282ad-e4e5-48ad-81cd-b15623bd5f23"
      },
      "source": [
        "from transformers import BertForSequenceClassification, AdamW\n",
        "\n",
        "\n",
        "model = BertForSequenceClassification.from_pretrained('bert-base-multilingual-cased',\n",
        "                                                     num_labels=2,\n",
        "                                                     output_attentions=False,\n",
        "                                                     output_hidden_states=False,\n",
        "                                                     )\n",
        "model.cuda()"
      ],
      "execution_count": 107,
      "outputs": [
        {
          "output_type": "display_data",
          "data": {
            "application/vnd.jupyter.widget-view+json": {
              "model_id": "a44b0ce9f1d84de7888a60c991a59764",
              "version_minor": 0,
              "version_major": 2
            },
            "text/plain": [
              "Downloading:   0%|          | 0.00/681M [00:00<?, ?B/s]"
            ]
          },
          "metadata": {}
        },
        {
          "output_type": "stream",
          "name": "stderr",
          "text": [
            "Some weights of the model checkpoint at bert-base-multilingual-cased were not used when initializing BertForSequenceClassification: ['cls.predictions.bias', 'cls.seq_relationship.bias', 'cls.predictions.transform.dense.bias', 'cls.predictions.transform.LayerNorm.weight', 'cls.predictions.transform.LayerNorm.bias', 'cls.seq_relationship.weight', 'cls.predictions.decoder.weight', 'cls.predictions.transform.dense.weight']\n",
            "- This IS expected if you are initializing BertForSequenceClassification from the checkpoint of a model trained on another task or with another architecture (e.g. initializing a BertForSequenceClassification model from a BertForPreTraining model).\n",
            "- This IS NOT expected if you are initializing BertForSequenceClassification from the checkpoint of a model that you expect to be exactly identical (initializing a BertForSequenceClassification model from a BertForSequenceClassification model).\n",
            "Some weights of BertForSequenceClassification were not initialized from the model checkpoint at bert-base-multilingual-cased and are newly initialized: ['classifier.weight', 'classifier.bias']\n",
            "You should probably TRAIN this model on a down-stream task to be able to use it for predictions and inference.\n"
          ]
        },
        {
          "output_type": "execute_result",
          "data": {
            "text/plain": [
              "BertForSequenceClassification(\n",
              "  (bert): BertModel(\n",
              "    (embeddings): BertEmbeddings(\n",
              "      (word_embeddings): Embedding(119547, 768, padding_idx=0)\n",
              "      (position_embeddings): Embedding(512, 768)\n",
              "      (token_type_embeddings): Embedding(2, 768)\n",
              "      (LayerNorm): LayerNorm((768,), eps=1e-12, elementwise_affine=True)\n",
              "      (dropout): Dropout(p=0.1, inplace=False)\n",
              "    )\n",
              "    (encoder): BertEncoder(\n",
              "      (layer): ModuleList(\n",
              "        (0): BertLayer(\n",
              "          (attention): BertAttention(\n",
              "            (self): BertSelfAttention(\n",
              "              (query): Linear(in_features=768, out_features=768, bias=True)\n",
              "              (key): Linear(in_features=768, out_features=768, bias=True)\n",
              "              (value): Linear(in_features=768, out_features=768, bias=True)\n",
              "              (dropout): Dropout(p=0.1, inplace=False)\n",
              "            )\n",
              "            (output): BertSelfOutput(\n",
              "              (dense): Linear(in_features=768, out_features=768, bias=True)\n",
              "              (LayerNorm): LayerNorm((768,), eps=1e-12, elementwise_affine=True)\n",
              "              (dropout): Dropout(p=0.1, inplace=False)\n",
              "            )\n",
              "          )\n",
              "          (intermediate): BertIntermediate(\n",
              "            (dense): Linear(in_features=768, out_features=3072, bias=True)\n",
              "          )\n",
              "          (output): BertOutput(\n",
              "            (dense): Linear(in_features=3072, out_features=768, bias=True)\n",
              "            (LayerNorm): LayerNorm((768,), eps=1e-12, elementwise_affine=True)\n",
              "            (dropout): Dropout(p=0.1, inplace=False)\n",
              "          )\n",
              "        )\n",
              "        (1): BertLayer(\n",
              "          (attention): BertAttention(\n",
              "            (self): BertSelfAttention(\n",
              "              (query): Linear(in_features=768, out_features=768, bias=True)\n",
              "              (key): Linear(in_features=768, out_features=768, bias=True)\n",
              "              (value): Linear(in_features=768, out_features=768, bias=True)\n",
              "              (dropout): Dropout(p=0.1, inplace=False)\n",
              "            )\n",
              "            (output): BertSelfOutput(\n",
              "              (dense): Linear(in_features=768, out_features=768, bias=True)\n",
              "              (LayerNorm): LayerNorm((768,), eps=1e-12, elementwise_affine=True)\n",
              "              (dropout): Dropout(p=0.1, inplace=False)\n",
              "            )\n",
              "          )\n",
              "          (intermediate): BertIntermediate(\n",
              "            (dense): Linear(in_features=768, out_features=3072, bias=True)\n",
              "          )\n",
              "          (output): BertOutput(\n",
              "            (dense): Linear(in_features=3072, out_features=768, bias=True)\n",
              "            (LayerNorm): LayerNorm((768,), eps=1e-12, elementwise_affine=True)\n",
              "            (dropout): Dropout(p=0.1, inplace=False)\n",
              "          )\n",
              "        )\n",
              "        (2): BertLayer(\n",
              "          (attention): BertAttention(\n",
              "            (self): BertSelfAttention(\n",
              "              (query): Linear(in_features=768, out_features=768, bias=True)\n",
              "              (key): Linear(in_features=768, out_features=768, bias=True)\n",
              "              (value): Linear(in_features=768, out_features=768, bias=True)\n",
              "              (dropout): Dropout(p=0.1, inplace=False)\n",
              "            )\n",
              "            (output): BertSelfOutput(\n",
              "              (dense): Linear(in_features=768, out_features=768, bias=True)\n",
              "              (LayerNorm): LayerNorm((768,), eps=1e-12, elementwise_affine=True)\n",
              "              (dropout): Dropout(p=0.1, inplace=False)\n",
              "            )\n",
              "          )\n",
              "          (intermediate): BertIntermediate(\n",
              "            (dense): Linear(in_features=768, out_features=3072, bias=True)\n",
              "          )\n",
              "          (output): BertOutput(\n",
              "            (dense): Linear(in_features=3072, out_features=768, bias=True)\n",
              "            (LayerNorm): LayerNorm((768,), eps=1e-12, elementwise_affine=True)\n",
              "            (dropout): Dropout(p=0.1, inplace=False)\n",
              "          )\n",
              "        )\n",
              "        (3): BertLayer(\n",
              "          (attention): BertAttention(\n",
              "            (self): BertSelfAttention(\n",
              "              (query): Linear(in_features=768, out_features=768, bias=True)\n",
              "              (key): Linear(in_features=768, out_features=768, bias=True)\n",
              "              (value): Linear(in_features=768, out_features=768, bias=True)\n",
              "              (dropout): Dropout(p=0.1, inplace=False)\n",
              "            )\n",
              "            (output): BertSelfOutput(\n",
              "              (dense): Linear(in_features=768, out_features=768, bias=True)\n",
              "              (LayerNorm): LayerNorm((768,), eps=1e-12, elementwise_affine=True)\n",
              "              (dropout): Dropout(p=0.1, inplace=False)\n",
              "            )\n",
              "          )\n",
              "          (intermediate): BertIntermediate(\n",
              "            (dense): Linear(in_features=768, out_features=3072, bias=True)\n",
              "          )\n",
              "          (output): BertOutput(\n",
              "            (dense): Linear(in_features=3072, out_features=768, bias=True)\n",
              "            (LayerNorm): LayerNorm((768,), eps=1e-12, elementwise_affine=True)\n",
              "            (dropout): Dropout(p=0.1, inplace=False)\n",
              "          )\n",
              "        )\n",
              "        (4): BertLayer(\n",
              "          (attention): BertAttention(\n",
              "            (self): BertSelfAttention(\n",
              "              (query): Linear(in_features=768, out_features=768, bias=True)\n",
              "              (key): Linear(in_features=768, out_features=768, bias=True)\n",
              "              (value): Linear(in_features=768, out_features=768, bias=True)\n",
              "              (dropout): Dropout(p=0.1, inplace=False)\n",
              "            )\n",
              "            (output): BertSelfOutput(\n",
              "              (dense): Linear(in_features=768, out_features=768, bias=True)\n",
              "              (LayerNorm): LayerNorm((768,), eps=1e-12, elementwise_affine=True)\n",
              "              (dropout): Dropout(p=0.1, inplace=False)\n",
              "            )\n",
              "          )\n",
              "          (intermediate): BertIntermediate(\n",
              "            (dense): Linear(in_features=768, out_features=3072, bias=True)\n",
              "          )\n",
              "          (output): BertOutput(\n",
              "            (dense): Linear(in_features=3072, out_features=768, bias=True)\n",
              "            (LayerNorm): LayerNorm((768,), eps=1e-12, elementwise_affine=True)\n",
              "            (dropout): Dropout(p=0.1, inplace=False)\n",
              "          )\n",
              "        )\n",
              "        (5): BertLayer(\n",
              "          (attention): BertAttention(\n",
              "            (self): BertSelfAttention(\n",
              "              (query): Linear(in_features=768, out_features=768, bias=True)\n",
              "              (key): Linear(in_features=768, out_features=768, bias=True)\n",
              "              (value): Linear(in_features=768, out_features=768, bias=True)\n",
              "              (dropout): Dropout(p=0.1, inplace=False)\n",
              "            )\n",
              "            (output): BertSelfOutput(\n",
              "              (dense): Linear(in_features=768, out_features=768, bias=True)\n",
              "              (LayerNorm): LayerNorm((768,), eps=1e-12, elementwise_affine=True)\n",
              "              (dropout): Dropout(p=0.1, inplace=False)\n",
              "            )\n",
              "          )\n",
              "          (intermediate): BertIntermediate(\n",
              "            (dense): Linear(in_features=768, out_features=3072, bias=True)\n",
              "          )\n",
              "          (output): BertOutput(\n",
              "            (dense): Linear(in_features=3072, out_features=768, bias=True)\n",
              "            (LayerNorm): LayerNorm((768,), eps=1e-12, elementwise_affine=True)\n",
              "            (dropout): Dropout(p=0.1, inplace=False)\n",
              "          )\n",
              "        )\n",
              "        (6): BertLayer(\n",
              "          (attention): BertAttention(\n",
              "            (self): BertSelfAttention(\n",
              "              (query): Linear(in_features=768, out_features=768, bias=True)\n",
              "              (key): Linear(in_features=768, out_features=768, bias=True)\n",
              "              (value): Linear(in_features=768, out_features=768, bias=True)\n",
              "              (dropout): Dropout(p=0.1, inplace=False)\n",
              "            )\n",
              "            (output): BertSelfOutput(\n",
              "              (dense): Linear(in_features=768, out_features=768, bias=True)\n",
              "              (LayerNorm): LayerNorm((768,), eps=1e-12, elementwise_affine=True)\n",
              "              (dropout): Dropout(p=0.1, inplace=False)\n",
              "            )\n",
              "          )\n",
              "          (intermediate): BertIntermediate(\n",
              "            (dense): Linear(in_features=768, out_features=3072, bias=True)\n",
              "          )\n",
              "          (output): BertOutput(\n",
              "            (dense): Linear(in_features=3072, out_features=768, bias=True)\n",
              "            (LayerNorm): LayerNorm((768,), eps=1e-12, elementwise_affine=True)\n",
              "            (dropout): Dropout(p=0.1, inplace=False)\n",
              "          )\n",
              "        )\n",
              "        (7): BertLayer(\n",
              "          (attention): BertAttention(\n",
              "            (self): BertSelfAttention(\n",
              "              (query): Linear(in_features=768, out_features=768, bias=True)\n",
              "              (key): Linear(in_features=768, out_features=768, bias=True)\n",
              "              (value): Linear(in_features=768, out_features=768, bias=True)\n",
              "              (dropout): Dropout(p=0.1, inplace=False)\n",
              "            )\n",
              "            (output): BertSelfOutput(\n",
              "              (dense): Linear(in_features=768, out_features=768, bias=True)\n",
              "              (LayerNorm): LayerNorm((768,), eps=1e-12, elementwise_affine=True)\n",
              "              (dropout): Dropout(p=0.1, inplace=False)\n",
              "            )\n",
              "          )\n",
              "          (intermediate): BertIntermediate(\n",
              "            (dense): Linear(in_features=768, out_features=3072, bias=True)\n",
              "          )\n",
              "          (output): BertOutput(\n",
              "            (dense): Linear(in_features=3072, out_features=768, bias=True)\n",
              "            (LayerNorm): LayerNorm((768,), eps=1e-12, elementwise_affine=True)\n",
              "            (dropout): Dropout(p=0.1, inplace=False)\n",
              "          )\n",
              "        )\n",
              "        (8): BertLayer(\n",
              "          (attention): BertAttention(\n",
              "            (self): BertSelfAttention(\n",
              "              (query): Linear(in_features=768, out_features=768, bias=True)\n",
              "              (key): Linear(in_features=768, out_features=768, bias=True)\n",
              "              (value): Linear(in_features=768, out_features=768, bias=True)\n",
              "              (dropout): Dropout(p=0.1, inplace=False)\n",
              "            )\n",
              "            (output): BertSelfOutput(\n",
              "              (dense): Linear(in_features=768, out_features=768, bias=True)\n",
              "              (LayerNorm): LayerNorm((768,), eps=1e-12, elementwise_affine=True)\n",
              "              (dropout): Dropout(p=0.1, inplace=False)\n",
              "            )\n",
              "          )\n",
              "          (intermediate): BertIntermediate(\n",
              "            (dense): Linear(in_features=768, out_features=3072, bias=True)\n",
              "          )\n",
              "          (output): BertOutput(\n",
              "            (dense): Linear(in_features=3072, out_features=768, bias=True)\n",
              "            (LayerNorm): LayerNorm((768,), eps=1e-12, elementwise_affine=True)\n",
              "            (dropout): Dropout(p=0.1, inplace=False)\n",
              "          )\n",
              "        )\n",
              "        (9): BertLayer(\n",
              "          (attention): BertAttention(\n",
              "            (self): BertSelfAttention(\n",
              "              (query): Linear(in_features=768, out_features=768, bias=True)\n",
              "              (key): Linear(in_features=768, out_features=768, bias=True)\n",
              "              (value): Linear(in_features=768, out_features=768, bias=True)\n",
              "              (dropout): Dropout(p=0.1, inplace=False)\n",
              "            )\n",
              "            (output): BertSelfOutput(\n",
              "              (dense): Linear(in_features=768, out_features=768, bias=True)\n",
              "              (LayerNorm): LayerNorm((768,), eps=1e-12, elementwise_affine=True)\n",
              "              (dropout): Dropout(p=0.1, inplace=False)\n",
              "            )\n",
              "          )\n",
              "          (intermediate): BertIntermediate(\n",
              "            (dense): Linear(in_features=768, out_features=3072, bias=True)\n",
              "          )\n",
              "          (output): BertOutput(\n",
              "            (dense): Linear(in_features=3072, out_features=768, bias=True)\n",
              "            (LayerNorm): LayerNorm((768,), eps=1e-12, elementwise_affine=True)\n",
              "            (dropout): Dropout(p=0.1, inplace=False)\n",
              "          )\n",
              "        )\n",
              "        (10): BertLayer(\n",
              "          (attention): BertAttention(\n",
              "            (self): BertSelfAttention(\n",
              "              (query): Linear(in_features=768, out_features=768, bias=True)\n",
              "              (key): Linear(in_features=768, out_features=768, bias=True)\n",
              "              (value): Linear(in_features=768, out_features=768, bias=True)\n",
              "              (dropout): Dropout(p=0.1, inplace=False)\n",
              "            )\n",
              "            (output): BertSelfOutput(\n",
              "              (dense): Linear(in_features=768, out_features=768, bias=True)\n",
              "              (LayerNorm): LayerNorm((768,), eps=1e-12, elementwise_affine=True)\n",
              "              (dropout): Dropout(p=0.1, inplace=False)\n",
              "            )\n",
              "          )\n",
              "          (intermediate): BertIntermediate(\n",
              "            (dense): Linear(in_features=768, out_features=3072, bias=True)\n",
              "          )\n",
              "          (output): BertOutput(\n",
              "            (dense): Linear(in_features=3072, out_features=768, bias=True)\n",
              "            (LayerNorm): LayerNorm((768,), eps=1e-12, elementwise_affine=True)\n",
              "            (dropout): Dropout(p=0.1, inplace=False)\n",
              "          )\n",
              "        )\n",
              "        (11): BertLayer(\n",
              "          (attention): BertAttention(\n",
              "            (self): BertSelfAttention(\n",
              "              (query): Linear(in_features=768, out_features=768, bias=True)\n",
              "              (key): Linear(in_features=768, out_features=768, bias=True)\n",
              "              (value): Linear(in_features=768, out_features=768, bias=True)\n",
              "              (dropout): Dropout(p=0.1, inplace=False)\n",
              "            )\n",
              "            (output): BertSelfOutput(\n",
              "              (dense): Linear(in_features=768, out_features=768, bias=True)\n",
              "              (LayerNorm): LayerNorm((768,), eps=1e-12, elementwise_affine=True)\n",
              "              (dropout): Dropout(p=0.1, inplace=False)\n",
              "            )\n",
              "          )\n",
              "          (intermediate): BertIntermediate(\n",
              "            (dense): Linear(in_features=768, out_features=3072, bias=True)\n",
              "          )\n",
              "          (output): BertOutput(\n",
              "            (dense): Linear(in_features=3072, out_features=768, bias=True)\n",
              "            (LayerNorm): LayerNorm((768,), eps=1e-12, elementwise_affine=True)\n",
              "            (dropout): Dropout(p=0.1, inplace=False)\n",
              "          )\n",
              "        )\n",
              "      )\n",
              "    )\n",
              "    (pooler): BertPooler(\n",
              "      (dense): Linear(in_features=768, out_features=768, bias=True)\n",
              "      (activation): Tanh()\n",
              "    )\n",
              "  )\n",
              "  (dropout): Dropout(p=0.1, inplace=False)\n",
              "  (classifier): Linear(in_features=768, out_features=2, bias=True)\n",
              ")"
            ]
          },
          "metadata": {},
          "execution_count": 107
        }
      ]
    },
    {
      "cell_type": "code",
      "metadata": {
        "id": "fYvvdD7WYp4W"
      },
      "source": [
        "optimizer = AdamW(model.parameters(),lr=2e-5,eps=1e-8)\n",
        "\n",
        "from transformers import get_linear_schedule_with_warmup\n",
        "\n",
        "epochs=10\n",
        "total_steps = len(train_data_loader) * epochs\n",
        "\n",
        "scheduler = get_linear_schedule_with_warmup(optimizer,\n",
        "                                           num_warmup_steps=0,\n",
        "                                           num_training_steps=total_steps)"
      ],
      "execution_count": 108,
      "outputs": []
    },
    {
      "cell_type": "code",
      "metadata": {
        "id": "Zar_F0wvZAqW"
      },
      "source": [
        "import numpy as np\n",
        "\n",
        "def predictions_labels(preds,labels):\n",
        "    pred = np.argmax(preds,axis=1).flatten()\n",
        "    label = labels.flatten()\n",
        "    return pred,label"
      ],
      "execution_count": 109,
      "outputs": []
    },
    {
      "cell_type": "code",
      "metadata": {
        "id": "tMockGVvZ_70"
      },
      "source": [
        "import random\n",
        "import numpy as np\n",
        "import time\n",
        "from sklearn.metrics import classification_report,accuracy_score,f1_score\n",
        "\n",
        "total_t0 = time.time()\n",
        "\n",
        "seed_val = 42\n",
        "\n",
        "random.seed(seed_val)\n",
        "np.random.seed(seed_val)\n",
        "torch.manual_seed(seed_val)\n",
        "torch.cuda.manual_seed_all(seed_val)"
      ],
      "execution_count": 110,
      "outputs": []
    },
    {
      "cell_type": "code",
      "metadata": {
        "id": "ZE8SM8GgaDWi"
      },
      "source": [
        "\n",
        "def categorical_accuracy(preds, y):\n",
        "    \"\"\"\n",
        "    Returns accuracy per batch, i.e. if you get 8/10 right, this returns 0.8, NOT 8\n",
        "    \"\"\"\n",
        "    max_preds = preds.argmax(dim = 1, keepdim = True) # get the index of the max probability\n",
        "    correct = max_preds.squeeze(1).eq(y)\n",
        "    return correct.sum() / torch.FloatTensor([y.shape[0]]).cuda()\n",
        "\n",
        "def predictions_labels(preds,labels):\n",
        "    pred = np.argmax(preds,axis=1).flatten()\n",
        "    label = labels.flatten()\n",
        "    return pred,label"
      ],
      "execution_count": 111,
      "outputs": []
    },
    {
      "cell_type": "code",
      "metadata": {
        "id": "8P6HcfvvaGDc"
      },
      "source": [
        "def train():\n",
        "    total_train_loss = 0\n",
        "    total_train_acc = 0\n",
        "    \n",
        "    model.train() # set model in train mode for batchnorm and dropout layers in bert model\n",
        "    \n",
        "    for step,batch in enumerate(train_data_loader):\n",
        "        b_input_ids = batch[0].to(device)\n",
        "        b_input_mask = batch[1].to(device)\n",
        "        b_labels = batch[2].to(device)\n",
        "        model.zero_grad()\n",
        "            \n",
        "        output = model(b_input_ids,\n",
        "                            attention_mask=b_input_mask,\n",
        "                            labels=b_labels.long())\n",
        "        loss = output.loss\n",
        "        logits = output.logits\n",
        "\n",
        "        total_train_loss+=loss.item()\n",
        "        total_train_acc+=categorical_accuracy(logits,b_labels).item()\n",
        "            \n",
        "        loss.backward()\n",
        "            \n",
        "        torch.nn.utils.clip_grad_norm_(model.parameters(),1.0)\n",
        "            \n",
        "        optimizer.step()\n",
        "            \n",
        "        scheduler.step() #go ahead and update the learning rate\n",
        "            \n",
        "    avg_train_loss = total_train_loss/len(train_data_loader)\n",
        "    avg_train_acc = total_train_acc/len(train_data_loader)\n",
        "    \n",
        "    return avg_train_loss,avg_train_acc"
      ],
      "execution_count": 112,
      "outputs": []
    },
    {
      "cell_type": "code",
      "metadata": {
        "id": "5tcyaXn3aJk8"
      },
      "source": [
        "\n",
        "def evaluate():\n",
        "    model.eval()\n",
        "        \n",
        "    total_eval_accuracy = 0\n",
        "    total_eval_loss = 0\n",
        "    number_of_eval_steps= 0\n",
        "    \n",
        "    all_true_labels = []\n",
        "    all_pred_labels = []\n",
        "\n",
        "    for batch in valid_data_loader:\n",
        "        b_input_ids = batch[0].to(device)\n",
        "        b_input_mask = batch[1].to(device)\n",
        "        b_labels = batch[2].to(device)\n",
        "\n",
        "        with torch.no_grad():\n",
        "\n",
        "            output = model(b_input_ids,\n",
        "                                attention_mask= b_input_mask,\n",
        "                                labels = b_labels.long())\n",
        "        loss = output.loss\n",
        "        logits = output.logits\n",
        "\n",
        "        total_eval_loss+=loss.item()\n",
        "\n",
        "        logits = logits.detach().cpu().numpy()\n",
        "\n",
        "        label_ids = b_labels.to('cpu').numpy()\n",
        "\n",
        "        pred,true = predictions_labels(logits,label_ids)\n",
        "        \n",
        "        all_pred_labels.extend(pred)\n",
        "        all_true_labels.extend(true)\n",
        "\n",
        "    print(classification_report(all_pred_labels,all_true_labels))\n",
        "    avg_val_accuracy = accuracy_score(all_pred_labels,all_true_labels)\n",
        "    macro_f1_score = f1_score(all_pred_labels,all_true_labels,average='macro')\n",
        "    \n",
        "    avg_val_loss = total_eval_loss/len(valid_data_loader)\n",
        "\n",
        "    print(\"accuracy = {0:.2f}\".format(avg_val_accuracy))\n",
        "    \n",
        "    return avg_val_loss,avg_val_accuracy,macro_f1_score"
      ],
      "execution_count": 113,
      "outputs": []
    },
    {
      "cell_type": "code",
      "metadata": {
        "id": "j6wjOO5aaNiI"
      },
      "source": [
        "\n",
        "import time\n",
        "def epoch_time(start_time, end_time):\n",
        "    elapsed_time = end_time - start_time\n",
        "    elapsed_mins = int(elapsed_time / 60)\n",
        "    elapsed_secs = int(elapsed_time - (elapsed_mins * 60))\n",
        "    return elapsed_mins, elapsed_secs"
      ],
      "execution_count": 114,
      "outputs": []
    },
    {
      "cell_type": "code",
      "metadata": {
        "id": "8L6WXN3qaXzW",
        "colab": {
          "base_uri": "https://localhost:8080/"
        },
        "outputId": "16351fb0-d4bb-4fd0-d8b4-8be97c24708e"
      },
      "source": [
        "epochs = 10\n",
        "\n",
        "best_macro_f1 = float('0')\n",
        "\n",
        "for epoch in range(epochs):\n",
        "    \n",
        "    start_time = time.time()\n",
        "    train_loss,train_acc = train()\n",
        "    valid_loss,valid_acc,macro_f1 = evaluate()\n",
        "    \n",
        "    end_time = time.time()\n",
        "        \n",
        "    epoch_mins, epoch_secs = epoch_time(start_time, end_time)\n",
        "        \n",
        "    if macro_f1 > best_macro_f1:\n",
        "        best_macro_f1 = macro_f1\n",
        "        torch.save(model,'model_english_task_a.pt')\n",
        "    \n",
        "    print(f'Epoch: {epoch+1:02} | Epoch Time: {epoch_mins}m {epoch_secs}s')\n",
        "    print(f'\\tTrain Loss: {train_loss:.3f} | Train Acc: {train_acc*100:.2f}%')\n",
        "    print(f'\\t Val. Loss: {valid_loss:.3f} |  Val. Acc: {valid_acc*100:.2f}%')"
      ],
      "execution_count": 115,
      "outputs": [
        {
          "output_type": "stream",
          "name": "stderr",
          "text": [
            "/usr/local/lib/python3.7/dist-packages/sklearn/metrics/_classification.py:1272: UndefinedMetricWarning: Recall and F-score are ill-defined and being set to 0.0 in labels with no true samples. Use `zero_division` parameter to control this behavior.\n",
            "  _warn_prf(average, modifier, msg_start, len(result))\n"
          ]
        },
        {
          "output_type": "stream",
          "name": "stdout",
          "text": [
            "              precision    recall  f1-score   support\n",
            "\n",
            "           0       1.00      0.88      0.94       764\n",
            "           1       0.00      0.00      0.00         0\n",
            "\n",
            "    accuracy                           0.88       764\n",
            "   macro avg       0.50      0.44      0.47       764\n",
            "weighted avg       1.00      0.88      0.94       764\n",
            "\n",
            "accuracy = 0.88\n",
            "Epoch: 01 | Epoch Time: 3m 4s\n",
            "\tTrain Loss: 0.365 | Train Acc: 89.45%\n",
            "\t Val. Loss: 0.452 |  Val. Acc: 88.35%\n",
            "              precision    recall  f1-score   support\n",
            "\n",
            "           0       1.00      0.88      0.94       764\n",
            "           1       0.00      0.00      0.00         0\n",
            "\n",
            "    accuracy                           0.88       764\n",
            "   macro avg       0.50      0.44      0.47       764\n",
            "weighted avg       1.00      0.88      0.94       764\n",
            "\n",
            "accuracy = 0.88\n",
            "Epoch: 02 | Epoch Time: 3m 4s\n",
            "\tTrain Loss: 0.348 | Train Acc: 89.59%\n",
            "\t Val. Loss: 0.365 |  Val. Acc: 88.35%\n",
            "              precision    recall  f1-score   support\n",
            "\n",
            "           0       1.00      0.88      0.94       764\n",
            "           1       0.00      0.00      0.00         0\n",
            "\n",
            "    accuracy                           0.88       764\n",
            "   macro avg       0.50      0.44      0.47       764\n",
            "weighted avg       1.00      0.88      0.94       764\n",
            "\n",
            "accuracy = 0.88\n",
            "Epoch: 03 | Epoch Time: 3m 4s\n",
            "\tTrain Loss: 0.347 | Train Acc: 89.59%\n",
            "\t Val. Loss: 0.378 |  Val. Acc: 88.35%\n",
            "              precision    recall  f1-score   support\n",
            "\n",
            "           0       1.00      0.88      0.94       764\n",
            "           1       0.00      0.00      0.00         0\n",
            "\n",
            "    accuracy                           0.88       764\n",
            "   macro avg       0.50      0.44      0.47       764\n",
            "weighted avg       1.00      0.88      0.94       764\n",
            "\n",
            "accuracy = 0.88\n",
            "Epoch: 04 | Epoch Time: 3m 4s\n",
            "\tTrain Loss: 0.341 | Train Acc: 89.59%\n",
            "\t Val. Loss: 0.440 |  Val. Acc: 88.35%\n",
            "              precision    recall  f1-score   support\n",
            "\n",
            "           0       0.99      0.88      0.93       754\n",
            "           1       0.01      0.10      0.02        10\n",
            "\n",
            "    accuracy                           0.87       764\n",
            "   macro avg       0.50      0.49      0.48       764\n",
            "weighted avg       0.97      0.87      0.92       764\n",
            "\n",
            "accuracy = 0.87\n",
            "Epoch: 05 | Epoch Time: 3m 3s\n",
            "\tTrain Loss: 0.327 | Train Acc: 89.49%\n",
            "\t Val. Loss: 0.367 |  Val. Acc: 87.30%\n",
            "              precision    recall  f1-score   support\n",
            "\n",
            "           0       0.93      0.89      0.91       704\n",
            "           1       0.17      0.25      0.20        60\n",
            "\n",
            "    accuracy                           0.84       764\n",
            "   macro avg       0.55      0.57      0.56       764\n",
            "weighted avg       0.87      0.84      0.86       764\n",
            "\n",
            "accuracy = 0.84\n",
            "Epoch: 06 | Epoch Time: 3m 3s\n",
            "\tTrain Loss: 0.279 | Train Acc: 91.49%\n",
            "\t Val. Loss: 0.576 |  Val. Acc: 84.42%\n",
            "              precision    recall  f1-score   support\n",
            "\n",
            "           0       0.93      0.89      0.91       706\n",
            "           1       0.16      0.24      0.19        58\n",
            "\n",
            "    accuracy                           0.84       764\n",
            "   macro avg       0.55      0.57      0.55       764\n",
            "weighted avg       0.88      0.84      0.86       764\n",
            "\n",
            "accuracy = 0.84\n",
            "Epoch: 07 | Epoch Time: 3m 2s\n",
            "\tTrain Loss: 0.203 | Train Acc: 94.34%\n",
            "\t Val. Loss: 0.731 |  Val. Acc: 84.42%\n",
            "              precision    recall  f1-score   support\n",
            "\n",
            "           0       0.95      0.89      0.92       725\n",
            "           1       0.09      0.21      0.12        39\n",
            "\n",
            "    accuracy                           0.85       764\n",
            "   macro avg       0.52      0.55      0.52       764\n",
            "weighted avg       0.91      0.85      0.88       764\n",
            "\n",
            "accuracy = 0.85\n",
            "Epoch: 08 | Epoch Time: 3m 2s\n",
            "\tTrain Loss: 0.159 | Train Acc: 96.01%\n",
            "\t Val. Loss: 0.770 |  Val. Acc: 85.34%\n",
            "              precision    recall  f1-score   support\n",
            "\n",
            "           0       0.95      0.89      0.92       719\n",
            "           1       0.10      0.20      0.13        45\n",
            "\n",
            "    accuracy                           0.85       764\n",
            "   macro avg       0.52      0.54      0.53       764\n",
            "weighted avg       0.90      0.85      0.87       764\n",
            "\n",
            "accuracy = 0.85\n",
            "Epoch: 09 | Epoch Time: 3m 1s\n",
            "\tTrain Loss: 0.122 | Train Acc: 97.38%\n",
            "\t Val. Loss: 0.837 |  Val. Acc: 84.82%\n",
            "              precision    recall  f1-score   support\n",
            "\n",
            "           0       0.94      0.89      0.92       717\n",
            "           1       0.10      0.19      0.13        47\n",
            "\n",
            "    accuracy                           0.85       764\n",
            "   macro avg       0.52      0.54      0.52       764\n",
            "weighted avg       0.89      0.85      0.87       764\n",
            "\n",
            "accuracy = 0.85\n",
            "Epoch: 10 | Epoch Time: 3m 1s\n",
            "\tTrain Loss: 0.107 | Train Acc: 97.91%\n",
            "\t Val. Loss: 0.838 |  Val. Acc: 84.55%\n"
          ]
        }
      ]
    },
    {
      "cell_type": "code",
      "metadata": {
        "id": "p6CC2m4HaZ3r",
        "colab": {
          "base_uri": "https://localhost:8080/"
        },
        "outputId": "75c75351-e870-4790-bc33-017ad09bd787"
      },
      "source": [
        "del model\n",
        "import gc\n",
        "gc.collect()\n",
        "\n",
        "model = torch.load('model_english_task_a.pt')\n",
        "model = model.to(device)\n",
        "\n",
        "def evaluate_test():\n",
        "    model.eval()\n",
        "        \n",
        "    total_eval_accuracy = 0\n",
        "    total_eval_loss = 0\n",
        "    number_of_eval_steps= 0\n",
        "    \n",
        "    all_true_labels = []\n",
        "    all_pred_labels = []\n",
        "    \n",
        "    all_sentence_id=[]\n",
        "\n",
        "    for batch in test_data_loader:\n",
        "        b_sentence_id = batch[0].to(device)\n",
        "        b_input_ids = batch[1].to(device)\n",
        "        b_input_mask = batch[2].to(device)\n",
        "        b_labels = batch[3].to(device)\n",
        "\n",
        "        sent_ids = b_sentence_id.to('cpu').numpy()\n",
        "        all_sentence_id.extend(sent_ids)\n",
        "        \n",
        "        with torch.no_grad():\n",
        "\n",
        "            output = model(b_input_ids,\n",
        "                                attention_mask= b_input_mask,\n",
        "                                labels = b_labels.long())\n",
        "            \n",
        "        loss = output.loss\n",
        "        logits = output.logits\n",
        "        \n",
        "        total_eval_loss+=loss.item()\n",
        "\n",
        "        logits = logits.detach().cpu().numpy()\n",
        "\n",
        "        label_ids = b_labels.to('cpu').numpy()\n",
        "        \n",
        "\n",
        "        pred,true = predictions_labels(logits,label_ids)\n",
        "        \n",
        "        all_pred_labels.extend(pred)\n",
        "        \n",
        "        all_true_labels.extend(true)\n",
        "\n",
        "    print(classification_report(all_pred_labels,all_true_labels))\n",
        "    avg_val_accuracy = accuracy_score(all_pred_labels,all_true_labels)\n",
        "    \n",
        "    avg_val_loss = total_eval_loss/len(valid_data_loader)\n",
        "\n",
        "    print(\"accuracy = {0:.2f}\".format(avg_val_accuracy))\n",
        "    \n",
        "    return avg_val_loss,avg_val_accuracy,all_sentence_id,all_pred_labels\n",
        "\n",
        "valid_loss,valid_acc,all_sentence_id,all_pred_labels = evaluate_test()"
      ],
      "execution_count": 116,
      "outputs": [
        {
          "output_type": "stream",
          "name": "stdout",
          "text": [
            "              precision    recall  f1-score   support\n",
            "\n",
            "           0       0.89      0.79      0.84       438\n",
            "           1       0.33      0.50      0.40        88\n",
            "\n",
            "    accuracy                           0.75       526\n",
            "   macro avg       0.61      0.65      0.62       526\n",
            "weighted avg       0.79      0.75      0.76       526\n",
            "\n",
            "accuracy = 0.75\n"
          ]
        }
      ]
    },
    {
      "cell_type": "code",
      "metadata": {
        "id": "fb3lwerArgIx"
      },
      "source": [
        ""
      ],
      "execution_count": null,
      "outputs": []
    }
  ]
}