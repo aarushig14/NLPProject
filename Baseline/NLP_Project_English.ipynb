{
  "nbformat": 4,
  "nbformat_minor": 0,
  "metadata": {
    "colab": {
      "name": "NLP Project",
      "provenance": [],
      "collapsed_sections": []
    },
    "kernelspec": {
      "name": "python3",
      "display_name": "Python 3"
    },
    "language_info": {
      "name": "python"
    },
    "accelerator": "GPU",
    "widgets": {
      "application/vnd.jupyter.widget-state+json": {
        "f55d6dcb13f1481ba9d08221695cc073": {
          "model_module": "@jupyter-widgets/controls",
          "model_name": "HBoxModel",
          "model_module_version": "1.5.0",
          "state": {
            "_view_name": "HBoxView",
            "_dom_classes": [],
            "_model_name": "HBoxModel",
            "_view_module": "@jupyter-widgets/controls",
            "_model_module_version": "1.5.0",
            "_view_count": null,
            "_view_module_version": "1.5.0",
            "box_style": "",
            "layout": "IPY_MODEL_49e6d1623d2043f5b535a156b5d48864",
            "_model_module": "@jupyter-widgets/controls",
            "children": [
              "IPY_MODEL_25618e169b3f417d9b107c66b3a63b71",
              "IPY_MODEL_52ca0bc8ef7d456cb32ebf6f98dc0b31",
              "IPY_MODEL_e666087e50724b00b93c2468fa0b044b"
            ]
          }
        },
        "49e6d1623d2043f5b535a156b5d48864": {
          "model_module": "@jupyter-widgets/base",
          "model_name": "LayoutModel",
          "model_module_version": "1.2.0",
          "state": {
            "_view_name": "LayoutView",
            "grid_template_rows": null,
            "right": null,
            "justify_content": null,
            "_view_module": "@jupyter-widgets/base",
            "overflow": null,
            "_model_module_version": "1.2.0",
            "_view_count": null,
            "flex_flow": null,
            "width": null,
            "min_width": null,
            "border": null,
            "align_items": null,
            "bottom": null,
            "_model_module": "@jupyter-widgets/base",
            "top": null,
            "grid_column": null,
            "overflow_y": null,
            "overflow_x": null,
            "grid_auto_flow": null,
            "grid_area": null,
            "grid_template_columns": null,
            "flex": null,
            "_model_name": "LayoutModel",
            "justify_items": null,
            "grid_row": null,
            "max_height": null,
            "align_content": null,
            "visibility": null,
            "align_self": null,
            "height": null,
            "min_height": null,
            "padding": null,
            "grid_auto_rows": null,
            "grid_gap": null,
            "max_width": null,
            "order": null,
            "_view_module_version": "1.2.0",
            "grid_template_areas": null,
            "object_position": null,
            "object_fit": null,
            "grid_auto_columns": null,
            "margin": null,
            "display": null,
            "left": null
          }
        },
        "25618e169b3f417d9b107c66b3a63b71": {
          "model_module": "@jupyter-widgets/controls",
          "model_name": "HTMLModel",
          "model_module_version": "1.5.0",
          "state": {
            "_view_name": "HTMLView",
            "style": "IPY_MODEL_916f6d2d59ac43b2932d5f0d1b975ff0",
            "_dom_classes": [],
            "description": "",
            "_model_name": "HTMLModel",
            "placeholder": "​",
            "_view_module": "@jupyter-widgets/controls",
            "_model_module_version": "1.5.0",
            "value": "Downloading: 100%",
            "_view_count": null,
            "_view_module_version": "1.5.0",
            "description_tooltip": null,
            "_model_module": "@jupyter-widgets/controls",
            "layout": "IPY_MODEL_693e7108da6e42d788631063a44bb08b"
          }
        },
        "52ca0bc8ef7d456cb32ebf6f98dc0b31": {
          "model_module": "@jupyter-widgets/controls",
          "model_name": "FloatProgressModel",
          "model_module_version": "1.5.0",
          "state": {
            "_view_name": "ProgressView",
            "style": "IPY_MODEL_efed27b0e48845b8bc7f21dc68433582",
            "_dom_classes": [],
            "description": "",
            "_model_name": "FloatProgressModel",
            "bar_style": "success",
            "max": 231508,
            "_view_module": "@jupyter-widgets/controls",
            "_model_module_version": "1.5.0",
            "value": 231508,
            "_view_count": null,
            "_view_module_version": "1.5.0",
            "orientation": "horizontal",
            "min": 0,
            "description_tooltip": null,
            "_model_module": "@jupyter-widgets/controls",
            "layout": "IPY_MODEL_8d168cade48e45e1b0b4148f044f5f1e"
          }
        },
        "e666087e50724b00b93c2468fa0b044b": {
          "model_module": "@jupyter-widgets/controls",
          "model_name": "HTMLModel",
          "model_module_version": "1.5.0",
          "state": {
            "_view_name": "HTMLView",
            "style": "IPY_MODEL_214d96e2f0224ebe834c107e6bcb2dd1",
            "_dom_classes": [],
            "description": "",
            "_model_name": "HTMLModel",
            "placeholder": "​",
            "_view_module": "@jupyter-widgets/controls",
            "_model_module_version": "1.5.0",
            "value": " 226k/226k [00:00&lt;00:00, 700kB/s]",
            "_view_count": null,
            "_view_module_version": "1.5.0",
            "description_tooltip": null,
            "_model_module": "@jupyter-widgets/controls",
            "layout": "IPY_MODEL_12e28ba7a66b400385f04278a5a2ba47"
          }
        },
        "916f6d2d59ac43b2932d5f0d1b975ff0": {
          "model_module": "@jupyter-widgets/controls",
          "model_name": "DescriptionStyleModel",
          "model_module_version": "1.5.0",
          "state": {
            "_view_name": "StyleView",
            "_model_name": "DescriptionStyleModel",
            "description_width": "",
            "_view_module": "@jupyter-widgets/base",
            "_model_module_version": "1.5.0",
            "_view_count": null,
            "_view_module_version": "1.2.0",
            "_model_module": "@jupyter-widgets/controls"
          }
        },
        "693e7108da6e42d788631063a44bb08b": {
          "model_module": "@jupyter-widgets/base",
          "model_name": "LayoutModel",
          "model_module_version": "1.2.0",
          "state": {
            "_view_name": "LayoutView",
            "grid_template_rows": null,
            "right": null,
            "justify_content": null,
            "_view_module": "@jupyter-widgets/base",
            "overflow": null,
            "_model_module_version": "1.2.0",
            "_view_count": null,
            "flex_flow": null,
            "width": null,
            "min_width": null,
            "border": null,
            "align_items": null,
            "bottom": null,
            "_model_module": "@jupyter-widgets/base",
            "top": null,
            "grid_column": null,
            "overflow_y": null,
            "overflow_x": null,
            "grid_auto_flow": null,
            "grid_area": null,
            "grid_template_columns": null,
            "flex": null,
            "_model_name": "LayoutModel",
            "justify_items": null,
            "grid_row": null,
            "max_height": null,
            "align_content": null,
            "visibility": null,
            "align_self": null,
            "height": null,
            "min_height": null,
            "padding": null,
            "grid_auto_rows": null,
            "grid_gap": null,
            "max_width": null,
            "order": null,
            "_view_module_version": "1.2.0",
            "grid_template_areas": null,
            "object_position": null,
            "object_fit": null,
            "grid_auto_columns": null,
            "margin": null,
            "display": null,
            "left": null
          }
        },
        "efed27b0e48845b8bc7f21dc68433582": {
          "model_module": "@jupyter-widgets/controls",
          "model_name": "ProgressStyleModel",
          "model_module_version": "1.5.0",
          "state": {
            "_view_name": "StyleView",
            "_model_name": "ProgressStyleModel",
            "description_width": "",
            "_view_module": "@jupyter-widgets/base",
            "_model_module_version": "1.5.0",
            "_view_count": null,
            "_view_module_version": "1.2.0",
            "bar_color": null,
            "_model_module": "@jupyter-widgets/controls"
          }
        },
        "8d168cade48e45e1b0b4148f044f5f1e": {
          "model_module": "@jupyter-widgets/base",
          "model_name": "LayoutModel",
          "model_module_version": "1.2.0",
          "state": {
            "_view_name": "LayoutView",
            "grid_template_rows": null,
            "right": null,
            "justify_content": null,
            "_view_module": "@jupyter-widgets/base",
            "overflow": null,
            "_model_module_version": "1.2.0",
            "_view_count": null,
            "flex_flow": null,
            "width": null,
            "min_width": null,
            "border": null,
            "align_items": null,
            "bottom": null,
            "_model_module": "@jupyter-widgets/base",
            "top": null,
            "grid_column": null,
            "overflow_y": null,
            "overflow_x": null,
            "grid_auto_flow": null,
            "grid_area": null,
            "grid_template_columns": null,
            "flex": null,
            "_model_name": "LayoutModel",
            "justify_items": null,
            "grid_row": null,
            "max_height": null,
            "align_content": null,
            "visibility": null,
            "align_self": null,
            "height": null,
            "min_height": null,
            "padding": null,
            "grid_auto_rows": null,
            "grid_gap": null,
            "max_width": null,
            "order": null,
            "_view_module_version": "1.2.0",
            "grid_template_areas": null,
            "object_position": null,
            "object_fit": null,
            "grid_auto_columns": null,
            "margin": null,
            "display": null,
            "left": null
          }
        },
        "214d96e2f0224ebe834c107e6bcb2dd1": {
          "model_module": "@jupyter-widgets/controls",
          "model_name": "DescriptionStyleModel",
          "model_module_version": "1.5.0",
          "state": {
            "_view_name": "StyleView",
            "_model_name": "DescriptionStyleModel",
            "description_width": "",
            "_view_module": "@jupyter-widgets/base",
            "_model_module_version": "1.5.0",
            "_view_count": null,
            "_view_module_version": "1.2.0",
            "_model_module": "@jupyter-widgets/controls"
          }
        },
        "12e28ba7a66b400385f04278a5a2ba47": {
          "model_module": "@jupyter-widgets/base",
          "model_name": "LayoutModel",
          "model_module_version": "1.2.0",
          "state": {
            "_view_name": "LayoutView",
            "grid_template_rows": null,
            "right": null,
            "justify_content": null,
            "_view_module": "@jupyter-widgets/base",
            "overflow": null,
            "_model_module_version": "1.2.0",
            "_view_count": null,
            "flex_flow": null,
            "width": null,
            "min_width": null,
            "border": null,
            "align_items": null,
            "bottom": null,
            "_model_module": "@jupyter-widgets/base",
            "top": null,
            "grid_column": null,
            "overflow_y": null,
            "overflow_x": null,
            "grid_auto_flow": null,
            "grid_area": null,
            "grid_template_columns": null,
            "flex": null,
            "_model_name": "LayoutModel",
            "justify_items": null,
            "grid_row": null,
            "max_height": null,
            "align_content": null,
            "visibility": null,
            "align_self": null,
            "height": null,
            "min_height": null,
            "padding": null,
            "grid_auto_rows": null,
            "grid_gap": null,
            "max_width": null,
            "order": null,
            "_view_module_version": "1.2.0",
            "grid_template_areas": null,
            "object_position": null,
            "object_fit": null,
            "grid_auto_columns": null,
            "margin": null,
            "display": null,
            "left": null
          }
        },
        "9770d08dba1240fd9a12ccc67ea437a2": {
          "model_module": "@jupyter-widgets/controls",
          "model_name": "HBoxModel",
          "model_module_version": "1.5.0",
          "state": {
            "_view_name": "HBoxView",
            "_dom_classes": [],
            "_model_name": "HBoxModel",
            "_view_module": "@jupyter-widgets/controls",
            "_model_module_version": "1.5.0",
            "_view_count": null,
            "_view_module_version": "1.5.0",
            "box_style": "",
            "layout": "IPY_MODEL_8df9ec74a25043859e99e2939bf63bb9",
            "_model_module": "@jupyter-widgets/controls",
            "children": [
              "IPY_MODEL_52663d2b6e304180b79639463a8b4435",
              "IPY_MODEL_66bbf9f87c8f4989b3a8100ca447b2ae",
              "IPY_MODEL_70731e77d6924b7dbc1b7d54e5cb55e5"
            ]
          }
        },
        "8df9ec74a25043859e99e2939bf63bb9": {
          "model_module": "@jupyter-widgets/base",
          "model_name": "LayoutModel",
          "model_module_version": "1.2.0",
          "state": {
            "_view_name": "LayoutView",
            "grid_template_rows": null,
            "right": null,
            "justify_content": null,
            "_view_module": "@jupyter-widgets/base",
            "overflow": null,
            "_model_module_version": "1.2.0",
            "_view_count": null,
            "flex_flow": null,
            "width": null,
            "min_width": null,
            "border": null,
            "align_items": null,
            "bottom": null,
            "_model_module": "@jupyter-widgets/base",
            "top": null,
            "grid_column": null,
            "overflow_y": null,
            "overflow_x": null,
            "grid_auto_flow": null,
            "grid_area": null,
            "grid_template_columns": null,
            "flex": null,
            "_model_name": "LayoutModel",
            "justify_items": null,
            "grid_row": null,
            "max_height": null,
            "align_content": null,
            "visibility": null,
            "align_self": null,
            "height": null,
            "min_height": null,
            "padding": null,
            "grid_auto_rows": null,
            "grid_gap": null,
            "max_width": null,
            "order": null,
            "_view_module_version": "1.2.0",
            "grid_template_areas": null,
            "object_position": null,
            "object_fit": null,
            "grid_auto_columns": null,
            "margin": null,
            "display": null,
            "left": null
          }
        },
        "52663d2b6e304180b79639463a8b4435": {
          "model_module": "@jupyter-widgets/controls",
          "model_name": "HTMLModel",
          "model_module_version": "1.5.0",
          "state": {
            "_view_name": "HTMLView",
            "style": "IPY_MODEL_ed5f776dea4b4b1e90b15022a7b86ac3",
            "_dom_classes": [],
            "description": "",
            "_model_name": "HTMLModel",
            "placeholder": "​",
            "_view_module": "@jupyter-widgets/controls",
            "_model_module_version": "1.5.0",
            "value": "Downloading: 100%",
            "_view_count": null,
            "_view_module_version": "1.5.0",
            "description_tooltip": null,
            "_model_module": "@jupyter-widgets/controls",
            "layout": "IPY_MODEL_1545b11a1c064285b8304952e573666e"
          }
        },
        "66bbf9f87c8f4989b3a8100ca447b2ae": {
          "model_module": "@jupyter-widgets/controls",
          "model_name": "FloatProgressModel",
          "model_module_version": "1.5.0",
          "state": {
            "_view_name": "ProgressView",
            "style": "IPY_MODEL_278e07d1eb8f486287efbe6d55d89338",
            "_dom_classes": [],
            "description": "",
            "_model_name": "FloatProgressModel",
            "bar_style": "success",
            "max": 28,
            "_view_module": "@jupyter-widgets/controls",
            "_model_module_version": "1.5.0",
            "value": 28,
            "_view_count": null,
            "_view_module_version": "1.5.0",
            "orientation": "horizontal",
            "min": 0,
            "description_tooltip": null,
            "_model_module": "@jupyter-widgets/controls",
            "layout": "IPY_MODEL_a3fa283cf8334ddca0ebac8dcbcb6451"
          }
        },
        "70731e77d6924b7dbc1b7d54e5cb55e5": {
          "model_module": "@jupyter-widgets/controls",
          "model_name": "HTMLModel",
          "model_module_version": "1.5.0",
          "state": {
            "_view_name": "HTMLView",
            "style": "IPY_MODEL_f59f00410a314fecb207203175ea8a12",
            "_dom_classes": [],
            "description": "",
            "_model_name": "HTMLModel",
            "placeholder": "​",
            "_view_module": "@jupyter-widgets/controls",
            "_model_module_version": "1.5.0",
            "value": " 28.0/28.0 [00:00&lt;00:00, 483B/s]",
            "_view_count": null,
            "_view_module_version": "1.5.0",
            "description_tooltip": null,
            "_model_module": "@jupyter-widgets/controls",
            "layout": "IPY_MODEL_a29e5961f0a247da93e19bda6bbe0ec5"
          }
        },
        "ed5f776dea4b4b1e90b15022a7b86ac3": {
          "model_module": "@jupyter-widgets/controls",
          "model_name": "DescriptionStyleModel",
          "model_module_version": "1.5.0",
          "state": {
            "_view_name": "StyleView",
            "_model_name": "DescriptionStyleModel",
            "description_width": "",
            "_view_module": "@jupyter-widgets/base",
            "_model_module_version": "1.5.0",
            "_view_count": null,
            "_view_module_version": "1.2.0",
            "_model_module": "@jupyter-widgets/controls"
          }
        },
        "1545b11a1c064285b8304952e573666e": {
          "model_module": "@jupyter-widgets/base",
          "model_name": "LayoutModel",
          "model_module_version": "1.2.0",
          "state": {
            "_view_name": "LayoutView",
            "grid_template_rows": null,
            "right": null,
            "justify_content": null,
            "_view_module": "@jupyter-widgets/base",
            "overflow": null,
            "_model_module_version": "1.2.0",
            "_view_count": null,
            "flex_flow": null,
            "width": null,
            "min_width": null,
            "border": null,
            "align_items": null,
            "bottom": null,
            "_model_module": "@jupyter-widgets/base",
            "top": null,
            "grid_column": null,
            "overflow_y": null,
            "overflow_x": null,
            "grid_auto_flow": null,
            "grid_area": null,
            "grid_template_columns": null,
            "flex": null,
            "_model_name": "LayoutModel",
            "justify_items": null,
            "grid_row": null,
            "max_height": null,
            "align_content": null,
            "visibility": null,
            "align_self": null,
            "height": null,
            "min_height": null,
            "padding": null,
            "grid_auto_rows": null,
            "grid_gap": null,
            "max_width": null,
            "order": null,
            "_view_module_version": "1.2.0",
            "grid_template_areas": null,
            "object_position": null,
            "object_fit": null,
            "grid_auto_columns": null,
            "margin": null,
            "display": null,
            "left": null
          }
        },
        "278e07d1eb8f486287efbe6d55d89338": {
          "model_module": "@jupyter-widgets/controls",
          "model_name": "ProgressStyleModel",
          "model_module_version": "1.5.0",
          "state": {
            "_view_name": "StyleView",
            "_model_name": "ProgressStyleModel",
            "description_width": "",
            "_view_module": "@jupyter-widgets/base",
            "_model_module_version": "1.5.0",
            "_view_count": null,
            "_view_module_version": "1.2.0",
            "bar_color": null,
            "_model_module": "@jupyter-widgets/controls"
          }
        },
        "a3fa283cf8334ddca0ebac8dcbcb6451": {
          "model_module": "@jupyter-widgets/base",
          "model_name": "LayoutModel",
          "model_module_version": "1.2.0",
          "state": {
            "_view_name": "LayoutView",
            "grid_template_rows": null,
            "right": null,
            "justify_content": null,
            "_view_module": "@jupyter-widgets/base",
            "overflow": null,
            "_model_module_version": "1.2.0",
            "_view_count": null,
            "flex_flow": null,
            "width": null,
            "min_width": null,
            "border": null,
            "align_items": null,
            "bottom": null,
            "_model_module": "@jupyter-widgets/base",
            "top": null,
            "grid_column": null,
            "overflow_y": null,
            "overflow_x": null,
            "grid_auto_flow": null,
            "grid_area": null,
            "grid_template_columns": null,
            "flex": null,
            "_model_name": "LayoutModel",
            "justify_items": null,
            "grid_row": null,
            "max_height": null,
            "align_content": null,
            "visibility": null,
            "align_self": null,
            "height": null,
            "min_height": null,
            "padding": null,
            "grid_auto_rows": null,
            "grid_gap": null,
            "max_width": null,
            "order": null,
            "_view_module_version": "1.2.0",
            "grid_template_areas": null,
            "object_position": null,
            "object_fit": null,
            "grid_auto_columns": null,
            "margin": null,
            "display": null,
            "left": null
          }
        },
        "f59f00410a314fecb207203175ea8a12": {
          "model_module": "@jupyter-widgets/controls",
          "model_name": "DescriptionStyleModel",
          "model_module_version": "1.5.0",
          "state": {
            "_view_name": "StyleView",
            "_model_name": "DescriptionStyleModel",
            "description_width": "",
            "_view_module": "@jupyter-widgets/base",
            "_model_module_version": "1.5.0",
            "_view_count": null,
            "_view_module_version": "1.2.0",
            "_model_module": "@jupyter-widgets/controls"
          }
        },
        "a29e5961f0a247da93e19bda6bbe0ec5": {
          "model_module": "@jupyter-widgets/base",
          "model_name": "LayoutModel",
          "model_module_version": "1.2.0",
          "state": {
            "_view_name": "LayoutView",
            "grid_template_rows": null,
            "right": null,
            "justify_content": null,
            "_view_module": "@jupyter-widgets/base",
            "overflow": null,
            "_model_module_version": "1.2.0",
            "_view_count": null,
            "flex_flow": null,
            "width": null,
            "min_width": null,
            "border": null,
            "align_items": null,
            "bottom": null,
            "_model_module": "@jupyter-widgets/base",
            "top": null,
            "grid_column": null,
            "overflow_y": null,
            "overflow_x": null,
            "grid_auto_flow": null,
            "grid_area": null,
            "grid_template_columns": null,
            "flex": null,
            "_model_name": "LayoutModel",
            "justify_items": null,
            "grid_row": null,
            "max_height": null,
            "align_content": null,
            "visibility": null,
            "align_self": null,
            "height": null,
            "min_height": null,
            "padding": null,
            "grid_auto_rows": null,
            "grid_gap": null,
            "max_width": null,
            "order": null,
            "_view_module_version": "1.2.0",
            "grid_template_areas": null,
            "object_position": null,
            "object_fit": null,
            "grid_auto_columns": null,
            "margin": null,
            "display": null,
            "left": null
          }
        },
        "1000b30550fc41608e696b81b9cff718": {
          "model_module": "@jupyter-widgets/controls",
          "model_name": "HBoxModel",
          "model_module_version": "1.5.0",
          "state": {
            "_view_name": "HBoxView",
            "_dom_classes": [],
            "_model_name": "HBoxModel",
            "_view_module": "@jupyter-widgets/controls",
            "_model_module_version": "1.5.0",
            "_view_count": null,
            "_view_module_version": "1.5.0",
            "box_style": "",
            "layout": "IPY_MODEL_b3ef2debf9624a53b2c540a2a4d210d9",
            "_model_module": "@jupyter-widgets/controls",
            "children": [
              "IPY_MODEL_d9321f4c0f3c4161b9e0fae4c844fa88",
              "IPY_MODEL_e9ef9fbfc9304b78a57ac560882e02ab",
              "IPY_MODEL_849710d55ba747daab08d2f484a9c189"
            ]
          }
        },
        "b3ef2debf9624a53b2c540a2a4d210d9": {
          "model_module": "@jupyter-widgets/base",
          "model_name": "LayoutModel",
          "model_module_version": "1.2.0",
          "state": {
            "_view_name": "LayoutView",
            "grid_template_rows": null,
            "right": null,
            "justify_content": null,
            "_view_module": "@jupyter-widgets/base",
            "overflow": null,
            "_model_module_version": "1.2.0",
            "_view_count": null,
            "flex_flow": null,
            "width": null,
            "min_width": null,
            "border": null,
            "align_items": null,
            "bottom": null,
            "_model_module": "@jupyter-widgets/base",
            "top": null,
            "grid_column": null,
            "overflow_y": null,
            "overflow_x": null,
            "grid_auto_flow": null,
            "grid_area": null,
            "grid_template_columns": null,
            "flex": null,
            "_model_name": "LayoutModel",
            "justify_items": null,
            "grid_row": null,
            "max_height": null,
            "align_content": null,
            "visibility": null,
            "align_self": null,
            "height": null,
            "min_height": null,
            "padding": null,
            "grid_auto_rows": null,
            "grid_gap": null,
            "max_width": null,
            "order": null,
            "_view_module_version": "1.2.0",
            "grid_template_areas": null,
            "object_position": null,
            "object_fit": null,
            "grid_auto_columns": null,
            "margin": null,
            "display": null,
            "left": null
          }
        },
        "d9321f4c0f3c4161b9e0fae4c844fa88": {
          "model_module": "@jupyter-widgets/controls",
          "model_name": "HTMLModel",
          "model_module_version": "1.5.0",
          "state": {
            "_view_name": "HTMLView",
            "style": "IPY_MODEL_67923af6391548bfb48f8ec1e3130ec1",
            "_dom_classes": [],
            "description": "",
            "_model_name": "HTMLModel",
            "placeholder": "​",
            "_view_module": "@jupyter-widgets/controls",
            "_model_module_version": "1.5.0",
            "value": "Downloading: 100%",
            "_view_count": null,
            "_view_module_version": "1.5.0",
            "description_tooltip": null,
            "_model_module": "@jupyter-widgets/controls",
            "layout": "IPY_MODEL_48a95401fecf41c7ae98f68368869b23"
          }
        },
        "e9ef9fbfc9304b78a57ac560882e02ab": {
          "model_module": "@jupyter-widgets/controls",
          "model_name": "FloatProgressModel",
          "model_module_version": "1.5.0",
          "state": {
            "_view_name": "ProgressView",
            "style": "IPY_MODEL_71b1389692e04407b51507efe353eeeb",
            "_dom_classes": [],
            "description": "",
            "_model_name": "FloatProgressModel",
            "bar_style": "success",
            "max": 466062,
            "_view_module": "@jupyter-widgets/controls",
            "_model_module_version": "1.5.0",
            "value": 466062,
            "_view_count": null,
            "_view_module_version": "1.5.0",
            "orientation": "horizontal",
            "min": 0,
            "description_tooltip": null,
            "_model_module": "@jupyter-widgets/controls",
            "layout": "IPY_MODEL_c780f12e11934a6880c712bb41c81cfa"
          }
        },
        "849710d55ba747daab08d2f484a9c189": {
          "model_module": "@jupyter-widgets/controls",
          "model_name": "HTMLModel",
          "model_module_version": "1.5.0",
          "state": {
            "_view_name": "HTMLView",
            "style": "IPY_MODEL_b60311063a0d458f903dca395ad7f9d1",
            "_dom_classes": [],
            "description": "",
            "_model_name": "HTMLModel",
            "placeholder": "​",
            "_view_module": "@jupyter-widgets/controls",
            "_model_module_version": "1.5.0",
            "value": " 455k/455k [00:00&lt;00:00, 840kB/s]",
            "_view_count": null,
            "_view_module_version": "1.5.0",
            "description_tooltip": null,
            "_model_module": "@jupyter-widgets/controls",
            "layout": "IPY_MODEL_9a2cb64c34224c00a07d6b6197ee1ce6"
          }
        },
        "67923af6391548bfb48f8ec1e3130ec1": {
          "model_module": "@jupyter-widgets/controls",
          "model_name": "DescriptionStyleModel",
          "model_module_version": "1.5.0",
          "state": {
            "_view_name": "StyleView",
            "_model_name": "DescriptionStyleModel",
            "description_width": "",
            "_view_module": "@jupyter-widgets/base",
            "_model_module_version": "1.5.0",
            "_view_count": null,
            "_view_module_version": "1.2.0",
            "_model_module": "@jupyter-widgets/controls"
          }
        },
        "48a95401fecf41c7ae98f68368869b23": {
          "model_module": "@jupyter-widgets/base",
          "model_name": "LayoutModel",
          "model_module_version": "1.2.0",
          "state": {
            "_view_name": "LayoutView",
            "grid_template_rows": null,
            "right": null,
            "justify_content": null,
            "_view_module": "@jupyter-widgets/base",
            "overflow": null,
            "_model_module_version": "1.2.0",
            "_view_count": null,
            "flex_flow": null,
            "width": null,
            "min_width": null,
            "border": null,
            "align_items": null,
            "bottom": null,
            "_model_module": "@jupyter-widgets/base",
            "top": null,
            "grid_column": null,
            "overflow_y": null,
            "overflow_x": null,
            "grid_auto_flow": null,
            "grid_area": null,
            "grid_template_columns": null,
            "flex": null,
            "_model_name": "LayoutModel",
            "justify_items": null,
            "grid_row": null,
            "max_height": null,
            "align_content": null,
            "visibility": null,
            "align_self": null,
            "height": null,
            "min_height": null,
            "padding": null,
            "grid_auto_rows": null,
            "grid_gap": null,
            "max_width": null,
            "order": null,
            "_view_module_version": "1.2.0",
            "grid_template_areas": null,
            "object_position": null,
            "object_fit": null,
            "grid_auto_columns": null,
            "margin": null,
            "display": null,
            "left": null
          }
        },
        "71b1389692e04407b51507efe353eeeb": {
          "model_module": "@jupyter-widgets/controls",
          "model_name": "ProgressStyleModel",
          "model_module_version": "1.5.0",
          "state": {
            "_view_name": "StyleView",
            "_model_name": "ProgressStyleModel",
            "description_width": "",
            "_view_module": "@jupyter-widgets/base",
            "_model_module_version": "1.5.0",
            "_view_count": null,
            "_view_module_version": "1.2.0",
            "bar_color": null,
            "_model_module": "@jupyter-widgets/controls"
          }
        },
        "c780f12e11934a6880c712bb41c81cfa": {
          "model_module": "@jupyter-widgets/base",
          "model_name": "LayoutModel",
          "model_module_version": "1.2.0",
          "state": {
            "_view_name": "LayoutView",
            "grid_template_rows": null,
            "right": null,
            "justify_content": null,
            "_view_module": "@jupyter-widgets/base",
            "overflow": null,
            "_model_module_version": "1.2.0",
            "_view_count": null,
            "flex_flow": null,
            "width": null,
            "min_width": null,
            "border": null,
            "align_items": null,
            "bottom": null,
            "_model_module": "@jupyter-widgets/base",
            "top": null,
            "grid_column": null,
            "overflow_y": null,
            "overflow_x": null,
            "grid_auto_flow": null,
            "grid_area": null,
            "grid_template_columns": null,
            "flex": null,
            "_model_name": "LayoutModel",
            "justify_items": null,
            "grid_row": null,
            "max_height": null,
            "align_content": null,
            "visibility": null,
            "align_self": null,
            "height": null,
            "min_height": null,
            "padding": null,
            "grid_auto_rows": null,
            "grid_gap": null,
            "max_width": null,
            "order": null,
            "_view_module_version": "1.2.0",
            "grid_template_areas": null,
            "object_position": null,
            "object_fit": null,
            "grid_auto_columns": null,
            "margin": null,
            "display": null,
            "left": null
          }
        },
        "b60311063a0d458f903dca395ad7f9d1": {
          "model_module": "@jupyter-widgets/controls",
          "model_name": "DescriptionStyleModel",
          "model_module_version": "1.5.0",
          "state": {
            "_view_name": "StyleView",
            "_model_name": "DescriptionStyleModel",
            "description_width": "",
            "_view_module": "@jupyter-widgets/base",
            "_model_module_version": "1.5.0",
            "_view_count": null,
            "_view_module_version": "1.2.0",
            "_model_module": "@jupyter-widgets/controls"
          }
        },
        "9a2cb64c34224c00a07d6b6197ee1ce6": {
          "model_module": "@jupyter-widgets/base",
          "model_name": "LayoutModel",
          "model_module_version": "1.2.0",
          "state": {
            "_view_name": "LayoutView",
            "grid_template_rows": null,
            "right": null,
            "justify_content": null,
            "_view_module": "@jupyter-widgets/base",
            "overflow": null,
            "_model_module_version": "1.2.0",
            "_view_count": null,
            "flex_flow": null,
            "width": null,
            "min_width": null,
            "border": null,
            "align_items": null,
            "bottom": null,
            "_model_module": "@jupyter-widgets/base",
            "top": null,
            "grid_column": null,
            "overflow_y": null,
            "overflow_x": null,
            "grid_auto_flow": null,
            "grid_area": null,
            "grid_template_columns": null,
            "flex": null,
            "_model_name": "LayoutModel",
            "justify_items": null,
            "grid_row": null,
            "max_height": null,
            "align_content": null,
            "visibility": null,
            "align_self": null,
            "height": null,
            "min_height": null,
            "padding": null,
            "grid_auto_rows": null,
            "grid_gap": null,
            "max_width": null,
            "order": null,
            "_view_module_version": "1.2.0",
            "grid_template_areas": null,
            "object_position": null,
            "object_fit": null,
            "grid_auto_columns": null,
            "margin": null,
            "display": null,
            "left": null
          }
        },
        "fec9d414b5594e41baac4603b64a3f34": {
          "model_module": "@jupyter-widgets/controls",
          "model_name": "HBoxModel",
          "model_module_version": "1.5.0",
          "state": {
            "_view_name": "HBoxView",
            "_dom_classes": [],
            "_model_name": "HBoxModel",
            "_view_module": "@jupyter-widgets/controls",
            "_model_module_version": "1.5.0",
            "_view_count": null,
            "_view_module_version": "1.5.0",
            "box_style": "",
            "layout": "IPY_MODEL_85e00dddfbc544759fa8b8c04ce930da",
            "_model_module": "@jupyter-widgets/controls",
            "children": [
              "IPY_MODEL_9ceaa58e6c2e408a8dd54702acfef06f",
              "IPY_MODEL_cb0ee607c76d41ae89e19d9b20a0ab35",
              "IPY_MODEL_1ac6e1ac841141d09ce57ddb67d74d5d"
            ]
          }
        },
        "85e00dddfbc544759fa8b8c04ce930da": {
          "model_module": "@jupyter-widgets/base",
          "model_name": "LayoutModel",
          "model_module_version": "1.2.0",
          "state": {
            "_view_name": "LayoutView",
            "grid_template_rows": null,
            "right": null,
            "justify_content": null,
            "_view_module": "@jupyter-widgets/base",
            "overflow": null,
            "_model_module_version": "1.2.0",
            "_view_count": null,
            "flex_flow": null,
            "width": null,
            "min_width": null,
            "border": null,
            "align_items": null,
            "bottom": null,
            "_model_module": "@jupyter-widgets/base",
            "top": null,
            "grid_column": null,
            "overflow_y": null,
            "overflow_x": null,
            "grid_auto_flow": null,
            "grid_area": null,
            "grid_template_columns": null,
            "flex": null,
            "_model_name": "LayoutModel",
            "justify_items": null,
            "grid_row": null,
            "max_height": null,
            "align_content": null,
            "visibility": null,
            "align_self": null,
            "height": null,
            "min_height": null,
            "padding": null,
            "grid_auto_rows": null,
            "grid_gap": null,
            "max_width": null,
            "order": null,
            "_view_module_version": "1.2.0",
            "grid_template_areas": null,
            "object_position": null,
            "object_fit": null,
            "grid_auto_columns": null,
            "margin": null,
            "display": null,
            "left": null
          }
        },
        "9ceaa58e6c2e408a8dd54702acfef06f": {
          "model_module": "@jupyter-widgets/controls",
          "model_name": "HTMLModel",
          "model_module_version": "1.5.0",
          "state": {
            "_view_name": "HTMLView",
            "style": "IPY_MODEL_ec62a0b01450439492fb3b17006ff4db",
            "_dom_classes": [],
            "description": "",
            "_model_name": "HTMLModel",
            "placeholder": "​",
            "_view_module": "@jupyter-widgets/controls",
            "_model_module_version": "1.5.0",
            "value": "Downloading: 100%",
            "_view_count": null,
            "_view_module_version": "1.5.0",
            "description_tooltip": null,
            "_model_module": "@jupyter-widgets/controls",
            "layout": "IPY_MODEL_e08ed3e33ba64685906d57f997d7d1b9"
          }
        },
        "cb0ee607c76d41ae89e19d9b20a0ab35": {
          "model_module": "@jupyter-widgets/controls",
          "model_name": "FloatProgressModel",
          "model_module_version": "1.5.0",
          "state": {
            "_view_name": "ProgressView",
            "style": "IPY_MODEL_1a41339d9fbc457ca948bbd57f30c2e8",
            "_dom_classes": [],
            "description": "",
            "_model_name": "FloatProgressModel",
            "bar_style": "success",
            "max": 570,
            "_view_module": "@jupyter-widgets/controls",
            "_model_module_version": "1.5.0",
            "value": 570,
            "_view_count": null,
            "_view_module_version": "1.5.0",
            "orientation": "horizontal",
            "min": 0,
            "description_tooltip": null,
            "_model_module": "@jupyter-widgets/controls",
            "layout": "IPY_MODEL_bdb72a4949764e2db2b6be4e90e57a8e"
          }
        },
        "1ac6e1ac841141d09ce57ddb67d74d5d": {
          "model_module": "@jupyter-widgets/controls",
          "model_name": "HTMLModel",
          "model_module_version": "1.5.0",
          "state": {
            "_view_name": "HTMLView",
            "style": "IPY_MODEL_3dd37ce33b484d68b8e93b4d4be1832e",
            "_dom_classes": [],
            "description": "",
            "_model_name": "HTMLModel",
            "placeholder": "​",
            "_view_module": "@jupyter-widgets/controls",
            "_model_module_version": "1.5.0",
            "value": " 570/570 [00:00&lt;00:00, 14.7kB/s]",
            "_view_count": null,
            "_view_module_version": "1.5.0",
            "description_tooltip": null,
            "_model_module": "@jupyter-widgets/controls",
            "layout": "IPY_MODEL_2a303891b9724474ae8ec4953d667720"
          }
        },
        "ec62a0b01450439492fb3b17006ff4db": {
          "model_module": "@jupyter-widgets/controls",
          "model_name": "DescriptionStyleModel",
          "model_module_version": "1.5.0",
          "state": {
            "_view_name": "StyleView",
            "_model_name": "DescriptionStyleModel",
            "description_width": "",
            "_view_module": "@jupyter-widgets/base",
            "_model_module_version": "1.5.0",
            "_view_count": null,
            "_view_module_version": "1.2.0",
            "_model_module": "@jupyter-widgets/controls"
          }
        },
        "e08ed3e33ba64685906d57f997d7d1b9": {
          "model_module": "@jupyter-widgets/base",
          "model_name": "LayoutModel",
          "model_module_version": "1.2.0",
          "state": {
            "_view_name": "LayoutView",
            "grid_template_rows": null,
            "right": null,
            "justify_content": null,
            "_view_module": "@jupyter-widgets/base",
            "overflow": null,
            "_model_module_version": "1.2.0",
            "_view_count": null,
            "flex_flow": null,
            "width": null,
            "min_width": null,
            "border": null,
            "align_items": null,
            "bottom": null,
            "_model_module": "@jupyter-widgets/base",
            "top": null,
            "grid_column": null,
            "overflow_y": null,
            "overflow_x": null,
            "grid_auto_flow": null,
            "grid_area": null,
            "grid_template_columns": null,
            "flex": null,
            "_model_name": "LayoutModel",
            "justify_items": null,
            "grid_row": null,
            "max_height": null,
            "align_content": null,
            "visibility": null,
            "align_self": null,
            "height": null,
            "min_height": null,
            "padding": null,
            "grid_auto_rows": null,
            "grid_gap": null,
            "max_width": null,
            "order": null,
            "_view_module_version": "1.2.0",
            "grid_template_areas": null,
            "object_position": null,
            "object_fit": null,
            "grid_auto_columns": null,
            "margin": null,
            "display": null,
            "left": null
          }
        },
        "1a41339d9fbc457ca948bbd57f30c2e8": {
          "model_module": "@jupyter-widgets/controls",
          "model_name": "ProgressStyleModel",
          "model_module_version": "1.5.0",
          "state": {
            "_view_name": "StyleView",
            "_model_name": "ProgressStyleModel",
            "description_width": "",
            "_view_module": "@jupyter-widgets/base",
            "_model_module_version": "1.5.0",
            "_view_count": null,
            "_view_module_version": "1.2.0",
            "bar_color": null,
            "_model_module": "@jupyter-widgets/controls"
          }
        },
        "bdb72a4949764e2db2b6be4e90e57a8e": {
          "model_module": "@jupyter-widgets/base",
          "model_name": "LayoutModel",
          "model_module_version": "1.2.0",
          "state": {
            "_view_name": "LayoutView",
            "grid_template_rows": null,
            "right": null,
            "justify_content": null,
            "_view_module": "@jupyter-widgets/base",
            "overflow": null,
            "_model_module_version": "1.2.0",
            "_view_count": null,
            "flex_flow": null,
            "width": null,
            "min_width": null,
            "border": null,
            "align_items": null,
            "bottom": null,
            "_model_module": "@jupyter-widgets/base",
            "top": null,
            "grid_column": null,
            "overflow_y": null,
            "overflow_x": null,
            "grid_auto_flow": null,
            "grid_area": null,
            "grid_template_columns": null,
            "flex": null,
            "_model_name": "LayoutModel",
            "justify_items": null,
            "grid_row": null,
            "max_height": null,
            "align_content": null,
            "visibility": null,
            "align_self": null,
            "height": null,
            "min_height": null,
            "padding": null,
            "grid_auto_rows": null,
            "grid_gap": null,
            "max_width": null,
            "order": null,
            "_view_module_version": "1.2.0",
            "grid_template_areas": null,
            "object_position": null,
            "object_fit": null,
            "grid_auto_columns": null,
            "margin": null,
            "display": null,
            "left": null
          }
        },
        "3dd37ce33b484d68b8e93b4d4be1832e": {
          "model_module": "@jupyter-widgets/controls",
          "model_name": "DescriptionStyleModel",
          "model_module_version": "1.5.0",
          "state": {
            "_view_name": "StyleView",
            "_model_name": "DescriptionStyleModel",
            "description_width": "",
            "_view_module": "@jupyter-widgets/base",
            "_model_module_version": "1.5.0",
            "_view_count": null,
            "_view_module_version": "1.2.0",
            "_model_module": "@jupyter-widgets/controls"
          }
        },
        "2a303891b9724474ae8ec4953d667720": {
          "model_module": "@jupyter-widgets/base",
          "model_name": "LayoutModel",
          "model_module_version": "1.2.0",
          "state": {
            "_view_name": "LayoutView",
            "grid_template_rows": null,
            "right": null,
            "justify_content": null,
            "_view_module": "@jupyter-widgets/base",
            "overflow": null,
            "_model_module_version": "1.2.0",
            "_view_count": null,
            "flex_flow": null,
            "width": null,
            "min_width": null,
            "border": null,
            "align_items": null,
            "bottom": null,
            "_model_module": "@jupyter-widgets/base",
            "top": null,
            "grid_column": null,
            "overflow_y": null,
            "overflow_x": null,
            "grid_auto_flow": null,
            "grid_area": null,
            "grid_template_columns": null,
            "flex": null,
            "_model_name": "LayoutModel",
            "justify_items": null,
            "grid_row": null,
            "max_height": null,
            "align_content": null,
            "visibility": null,
            "align_self": null,
            "height": null,
            "min_height": null,
            "padding": null,
            "grid_auto_rows": null,
            "grid_gap": null,
            "max_width": null,
            "order": null,
            "_view_module_version": "1.2.0",
            "grid_template_areas": null,
            "object_position": null,
            "object_fit": null,
            "grid_auto_columns": null,
            "margin": null,
            "display": null,
            "left": null
          }
        },
        "76b90ab9dff54b0cab72e34a694b46b8": {
          "model_module": "@jupyter-widgets/controls",
          "model_name": "HBoxModel",
          "model_module_version": "1.5.0",
          "state": {
            "_view_name": "HBoxView",
            "_dom_classes": [],
            "_model_name": "HBoxModel",
            "_view_module": "@jupyter-widgets/controls",
            "_model_module_version": "1.5.0",
            "_view_count": null,
            "_view_module_version": "1.5.0",
            "box_style": "",
            "layout": "IPY_MODEL_2119f6f8db4b4e9999aa8e7fb8463e14",
            "_model_module": "@jupyter-widgets/controls",
            "children": [
              "IPY_MODEL_73b22abd3b2943b781e1d1a71a1795a5",
              "IPY_MODEL_233b2d2a780b440082d6a17329a79f98",
              "IPY_MODEL_5363c7cf84404bbf900ed24f42dad739"
            ]
          }
        },
        "2119f6f8db4b4e9999aa8e7fb8463e14": {
          "model_module": "@jupyter-widgets/base",
          "model_name": "LayoutModel",
          "model_module_version": "1.2.0",
          "state": {
            "_view_name": "LayoutView",
            "grid_template_rows": null,
            "right": null,
            "justify_content": null,
            "_view_module": "@jupyter-widgets/base",
            "overflow": null,
            "_model_module_version": "1.2.0",
            "_view_count": null,
            "flex_flow": null,
            "width": null,
            "min_width": null,
            "border": null,
            "align_items": null,
            "bottom": null,
            "_model_module": "@jupyter-widgets/base",
            "top": null,
            "grid_column": null,
            "overflow_y": null,
            "overflow_x": null,
            "grid_auto_flow": null,
            "grid_area": null,
            "grid_template_columns": null,
            "flex": null,
            "_model_name": "LayoutModel",
            "justify_items": null,
            "grid_row": null,
            "max_height": null,
            "align_content": null,
            "visibility": null,
            "align_self": null,
            "height": null,
            "min_height": null,
            "padding": null,
            "grid_auto_rows": null,
            "grid_gap": null,
            "max_width": null,
            "order": null,
            "_view_module_version": "1.2.0",
            "grid_template_areas": null,
            "object_position": null,
            "object_fit": null,
            "grid_auto_columns": null,
            "margin": null,
            "display": null,
            "left": null
          }
        },
        "73b22abd3b2943b781e1d1a71a1795a5": {
          "model_module": "@jupyter-widgets/controls",
          "model_name": "HTMLModel",
          "model_module_version": "1.5.0",
          "state": {
            "_view_name": "HTMLView",
            "style": "IPY_MODEL_665fe6bf9c9c4da7bd724dd868e86dc4",
            "_dom_classes": [],
            "description": "",
            "_model_name": "HTMLModel",
            "placeholder": "​",
            "_view_module": "@jupyter-widgets/controls",
            "_model_module_version": "1.5.0",
            "value": "Downloading: 100%",
            "_view_count": null,
            "_view_module_version": "1.5.0",
            "description_tooltip": null,
            "_model_module": "@jupyter-widgets/controls",
            "layout": "IPY_MODEL_32f34743546c4c0d9d49118cbb7bc04f"
          }
        },
        "233b2d2a780b440082d6a17329a79f98": {
          "model_module": "@jupyter-widgets/controls",
          "model_name": "FloatProgressModel",
          "model_module_version": "1.5.0",
          "state": {
            "_view_name": "ProgressView",
            "style": "IPY_MODEL_07974030dce9462bb54031db3c4dd28a",
            "_dom_classes": [],
            "description": "",
            "_model_name": "FloatProgressModel",
            "bar_style": "success",
            "max": 440473133,
            "_view_module": "@jupyter-widgets/controls",
            "_model_module_version": "1.5.0",
            "value": 440473133,
            "_view_count": null,
            "_view_module_version": "1.5.0",
            "orientation": "horizontal",
            "min": 0,
            "description_tooltip": null,
            "_model_module": "@jupyter-widgets/controls",
            "layout": "IPY_MODEL_a76d273fda0a4a54b5299737fa2a1d45"
          }
        },
        "5363c7cf84404bbf900ed24f42dad739": {
          "model_module": "@jupyter-widgets/controls",
          "model_name": "HTMLModel",
          "model_module_version": "1.5.0",
          "state": {
            "_view_name": "HTMLView",
            "style": "IPY_MODEL_ed330dadf43b4762971e337a93a09719",
            "_dom_classes": [],
            "description": "",
            "_model_name": "HTMLModel",
            "placeholder": "​",
            "_view_module": "@jupyter-widgets/controls",
            "_model_module_version": "1.5.0",
            "value": " 420M/420M [00:26&lt;00:00, 14.7MB/s]",
            "_view_count": null,
            "_view_module_version": "1.5.0",
            "description_tooltip": null,
            "_model_module": "@jupyter-widgets/controls",
            "layout": "IPY_MODEL_1efddca9e78846589077ade4b7103044"
          }
        },
        "665fe6bf9c9c4da7bd724dd868e86dc4": {
          "model_module": "@jupyter-widgets/controls",
          "model_name": "DescriptionStyleModel",
          "model_module_version": "1.5.0",
          "state": {
            "_view_name": "StyleView",
            "_model_name": "DescriptionStyleModel",
            "description_width": "",
            "_view_module": "@jupyter-widgets/base",
            "_model_module_version": "1.5.0",
            "_view_count": null,
            "_view_module_version": "1.2.0",
            "_model_module": "@jupyter-widgets/controls"
          }
        },
        "32f34743546c4c0d9d49118cbb7bc04f": {
          "model_module": "@jupyter-widgets/base",
          "model_name": "LayoutModel",
          "model_module_version": "1.2.0",
          "state": {
            "_view_name": "LayoutView",
            "grid_template_rows": null,
            "right": null,
            "justify_content": null,
            "_view_module": "@jupyter-widgets/base",
            "overflow": null,
            "_model_module_version": "1.2.0",
            "_view_count": null,
            "flex_flow": null,
            "width": null,
            "min_width": null,
            "border": null,
            "align_items": null,
            "bottom": null,
            "_model_module": "@jupyter-widgets/base",
            "top": null,
            "grid_column": null,
            "overflow_y": null,
            "overflow_x": null,
            "grid_auto_flow": null,
            "grid_area": null,
            "grid_template_columns": null,
            "flex": null,
            "_model_name": "LayoutModel",
            "justify_items": null,
            "grid_row": null,
            "max_height": null,
            "align_content": null,
            "visibility": null,
            "align_self": null,
            "height": null,
            "min_height": null,
            "padding": null,
            "grid_auto_rows": null,
            "grid_gap": null,
            "max_width": null,
            "order": null,
            "_view_module_version": "1.2.0",
            "grid_template_areas": null,
            "object_position": null,
            "object_fit": null,
            "grid_auto_columns": null,
            "margin": null,
            "display": null,
            "left": null
          }
        },
        "07974030dce9462bb54031db3c4dd28a": {
          "model_module": "@jupyter-widgets/controls",
          "model_name": "ProgressStyleModel",
          "model_module_version": "1.5.0",
          "state": {
            "_view_name": "StyleView",
            "_model_name": "ProgressStyleModel",
            "description_width": "",
            "_view_module": "@jupyter-widgets/base",
            "_model_module_version": "1.5.0",
            "_view_count": null,
            "_view_module_version": "1.2.0",
            "bar_color": null,
            "_model_module": "@jupyter-widgets/controls"
          }
        },
        "a76d273fda0a4a54b5299737fa2a1d45": {
          "model_module": "@jupyter-widgets/base",
          "model_name": "LayoutModel",
          "model_module_version": "1.2.0",
          "state": {
            "_view_name": "LayoutView",
            "grid_template_rows": null,
            "right": null,
            "justify_content": null,
            "_view_module": "@jupyter-widgets/base",
            "overflow": null,
            "_model_module_version": "1.2.0",
            "_view_count": null,
            "flex_flow": null,
            "width": null,
            "min_width": null,
            "border": null,
            "align_items": null,
            "bottom": null,
            "_model_module": "@jupyter-widgets/base",
            "top": null,
            "grid_column": null,
            "overflow_y": null,
            "overflow_x": null,
            "grid_auto_flow": null,
            "grid_area": null,
            "grid_template_columns": null,
            "flex": null,
            "_model_name": "LayoutModel",
            "justify_items": null,
            "grid_row": null,
            "max_height": null,
            "align_content": null,
            "visibility": null,
            "align_self": null,
            "height": null,
            "min_height": null,
            "padding": null,
            "grid_auto_rows": null,
            "grid_gap": null,
            "max_width": null,
            "order": null,
            "_view_module_version": "1.2.0",
            "grid_template_areas": null,
            "object_position": null,
            "object_fit": null,
            "grid_auto_columns": null,
            "margin": null,
            "display": null,
            "left": null
          }
        },
        "ed330dadf43b4762971e337a93a09719": {
          "model_module": "@jupyter-widgets/controls",
          "model_name": "DescriptionStyleModel",
          "model_module_version": "1.5.0",
          "state": {
            "_view_name": "StyleView",
            "_model_name": "DescriptionStyleModel",
            "description_width": "",
            "_view_module": "@jupyter-widgets/base",
            "_model_module_version": "1.5.0",
            "_view_count": null,
            "_view_module_version": "1.2.0",
            "_model_module": "@jupyter-widgets/controls"
          }
        },
        "1efddca9e78846589077ade4b7103044": {
          "model_module": "@jupyter-widgets/base",
          "model_name": "LayoutModel",
          "model_module_version": "1.2.0",
          "state": {
            "_view_name": "LayoutView",
            "grid_template_rows": null,
            "right": null,
            "justify_content": null,
            "_view_module": "@jupyter-widgets/base",
            "overflow": null,
            "_model_module_version": "1.2.0",
            "_view_count": null,
            "flex_flow": null,
            "width": null,
            "min_width": null,
            "border": null,
            "align_items": null,
            "bottom": null,
            "_model_module": "@jupyter-widgets/base",
            "top": null,
            "grid_column": null,
            "overflow_y": null,
            "overflow_x": null,
            "grid_auto_flow": null,
            "grid_area": null,
            "grid_template_columns": null,
            "flex": null,
            "_model_name": "LayoutModel",
            "justify_items": null,
            "grid_row": null,
            "max_height": null,
            "align_content": null,
            "visibility": null,
            "align_self": null,
            "height": null,
            "min_height": null,
            "padding": null,
            "grid_auto_rows": null,
            "grid_gap": null,
            "max_width": null,
            "order": null,
            "_view_module_version": "1.2.0",
            "grid_template_areas": null,
            "object_position": null,
            "object_fit": null,
            "grid_auto_columns": null,
            "margin": null,
            "display": null,
            "left": null
          }
        }
      }
    }
  },
  "cells": [
    {
      "cell_type": "code",
      "metadata": {
        "id": "1d8CZB1Ok8Pr"
      },
      "source": [
        "import nltk\n",
        "import matplotlib.pyplot as plt\n",
        "import pandas as pd\n",
        "import collections\n",
        "import numpy as np\n",
        "import re\n",
        "from nltk.corpus import stopwords\n",
        "import copy\n",
        "import torch"
      ],
      "execution_count": 1,
      "outputs": []
    },
    {
      "cell_type": "code",
      "metadata": {
        "colab": {
          "base_uri": "https://localhost:8080/"
        },
        "id": "kE9pSBpDYdrW",
        "outputId": "399939d1-4792-42b4-aef4-b7117901af75"
      },
      "source": [
        "if torch.cuda.is_available():    \n",
        "    device = torch.device(\"cuda\")\n",
        "else:\n",
        "    device = torch.device(\"cpu\")\n",
        "print(device)"
      ],
      "execution_count": 2,
      "outputs": [
        {
          "output_type": "stream",
          "name": "stdout",
          "text": [
            "cuda\n"
          ]
        }
      ]
    },
    {
      "cell_type": "code",
      "metadata": {
        "colab": {
          "base_uri": "https://localhost:8080/"
        },
        "id": "6n-pSxvaRNZk",
        "outputId": "c9dd99da-e856-46bf-dd50-4e15394ecaeb"
      },
      "source": [
        "nltk.download('stopwords')"
      ],
      "execution_count": 3,
      "outputs": [
        {
          "output_type": "stream",
          "name": "stdout",
          "text": [
            "[nltk_data] Downloading package stopwords to /root/nltk_data...\n",
            "[nltk_data]   Unzipping corpora/stopwords.zip.\n"
          ]
        },
        {
          "output_type": "execute_result",
          "data": {
            "text/plain": [
              "True"
            ]
          },
          "metadata": {},
          "execution_count": 3
        }
      ]
    },
    {
      "cell_type": "code",
      "metadata": {
        "colab": {
          "base_uri": "https://localhost:8080/"
        },
        "id": "cLyrJ1tclbOz",
        "outputId": "6db0968d-20fa-452e-c217-66334a557c71"
      },
      "source": [
        "from google.colab import drive\n",
        "drive.mount('/content/gdrive')"
      ],
      "execution_count": 4,
      "outputs": [
        {
          "output_type": "stream",
          "name": "stdout",
          "text": [
            "Mounted at /content/gdrive\n"
          ]
        }
      ]
    },
    {
      "cell_type": "markdown",
      "metadata": {
        "id": "Xw1T9b8mZ5H4"
      },
      "source": [
        "ENGLISH DATASET ANALYSIS"
      ]
    },
    {
      "cell_type": "code",
      "metadata": {
        "id": "sU2DHLVtbaOd"
      },
      "source": [
        "ENGLISH_HOF = []\n",
        "ENGLISH_NOT = []"
      ],
      "execution_count": 5,
      "outputs": []
    },
    {
      "cell_type": "code",
      "metadata": {
        "colab": {
          "base_uri": "https://localhost:8080/",
          "height": 255
        },
        "id": "eWTYYAd4q_bO",
        "outputId": "74743bea-c2c8-4522-fd6a-24ed3d154d48"
      },
      "source": [
        "english_df_2019 = pd.read_csv('/content/gdrive/My Drive/NLP Project/data/2019/english_dataset/english_dataset_2019.csv', error_bad_lines=False)\n",
        "english_df_2019 = english_df_2019.drop(columns=['task_2', 'task_3'])\n",
        "print(english_df_2019.shape)\n",
        "labels = collections.Counter(english_df_2019['task_1'])\n",
        "ENGLISH_HOF.append(labels['HOF'])\n",
        "ENGLISH_NOT.append(labels['NOT'])\n",
        "print(labels)\n",
        "print(english_df_2019.columns)\n",
        "english_df_2019.head()"
      ],
      "execution_count": 6,
      "outputs": [
        {
          "output_type": "stream",
          "name": "stdout",
          "text": [
            "(5852, 3)\n",
            "Counter({'NOT': 3591, 'HOF': 2261})\n",
            "Index(['text_id', 'text', 'task_1'], dtype='object')\n"
          ]
        },
        {
          "output_type": "execute_result",
          "data": {
            "text/html": [
              "<div>\n",
              "<style scoped>\n",
              "    .dataframe tbody tr th:only-of-type {\n",
              "        vertical-align: middle;\n",
              "    }\n",
              "\n",
              "    .dataframe tbody tr th {\n",
              "        vertical-align: top;\n",
              "    }\n",
              "\n",
              "    .dataframe thead th {\n",
              "        text-align: right;\n",
              "    }\n",
              "</style>\n",
              "<table border=\"1\" class=\"dataframe\">\n",
              "  <thead>\n",
              "    <tr style=\"text-align: right;\">\n",
              "      <th></th>\n",
              "      <th>text_id</th>\n",
              "      <th>text</th>\n",
              "      <th>task_1</th>\n",
              "    </tr>\n",
              "  </thead>\n",
              "  <tbody>\n",
              "    <tr>\n",
              "      <th>0</th>\n",
              "      <td>hasoc_en_1</td>\n",
              "      <td>#DhoniKeepsTheGlove | WATCH: Sports Minister K...</td>\n",
              "      <td>NOT</td>\n",
              "    </tr>\n",
              "    <tr>\n",
              "      <th>1</th>\n",
              "      <td>hasoc_en_2</td>\n",
              "      <td>@politico No. We should remember very clearly ...</td>\n",
              "      <td>HOF</td>\n",
              "    </tr>\n",
              "    <tr>\n",
              "      <th>2</th>\n",
              "      <td>hasoc_en_3</td>\n",
              "      <td>@cricketworldcup Guess who would be the winner...</td>\n",
              "      <td>NOT</td>\n",
              "    </tr>\n",
              "    <tr>\n",
              "      <th>3</th>\n",
              "      <td>hasoc_en_4</td>\n",
              "      <td>Corbyn is too politically intellectual for #Bo...</td>\n",
              "      <td>NOT</td>\n",
              "    </tr>\n",
              "    <tr>\n",
              "      <th>4</th>\n",
              "      <td>hasoc_en_5</td>\n",
              "      <td>All the best to #TeamIndia for another swimmin...</td>\n",
              "      <td>NOT</td>\n",
              "    </tr>\n",
              "  </tbody>\n",
              "</table>\n",
              "</div>"
            ],
            "text/plain": [
              "      text_id                                               text task_1\n",
              "0  hasoc_en_1  #DhoniKeepsTheGlove | WATCH: Sports Minister K...    NOT\n",
              "1  hasoc_en_2  @politico No. We should remember very clearly ...    HOF\n",
              "2  hasoc_en_3  @cricketworldcup Guess who would be the winner...    NOT\n",
              "3  hasoc_en_4  Corbyn is too politically intellectual for #Bo...    NOT\n",
              "4  hasoc_en_5  All the best to #TeamIndia for another swimmin...    NOT"
            ]
          },
          "metadata": {},
          "execution_count": 6
        }
      ]
    },
    {
      "cell_type": "code",
      "metadata": {
        "colab": {
          "base_uri": "https://localhost:8080/",
          "height": 255
        },
        "id": "97PzLqQJYg4z",
        "outputId": "5a050631-37aa-4001-b444-5530b4a54bff"
      },
      "source": [
        "english_df_2020 = pd.read_csv('/content/gdrive/My Drive/NLP Project/data/2020/english_dataset/english_dataset_2020.csv', error_bad_lines=False)\n",
        "english_df_2020 = english_df_2020.drop(columns=['task2'])\n",
        "print(english_df_2020.shape)\n",
        "print(english_df_2020.columns)\n",
        "labels = collections.Counter(english_df_2020['task1'])\n",
        "ENGLISH_HOF.append(labels['HOF'])\n",
        "ENGLISH_NOT.append(labels['NOT'])\n",
        "print(labels)\n",
        "english_df_2020.head()"
      ],
      "execution_count": 7,
      "outputs": [
        {
          "output_type": "stream",
          "name": "stdout",
          "text": [
            "(3708, 4)\n",
            "Index(['tweet_id', 'text', 'task1', 'ID'], dtype='object')\n",
            "Counter({'HOF': 1856, 'NOT': 1852})\n"
          ]
        },
        {
          "output_type": "execute_result",
          "data": {
            "text/html": [
              "<div>\n",
              "<style scoped>\n",
              "    .dataframe tbody tr th:only-of-type {\n",
              "        vertical-align: middle;\n",
              "    }\n",
              "\n",
              "    .dataframe tbody tr th {\n",
              "        vertical-align: top;\n",
              "    }\n",
              "\n",
              "    .dataframe thead th {\n",
              "        text-align: right;\n",
              "    }\n",
              "</style>\n",
              "<table border=\"1\" class=\"dataframe\">\n",
              "  <thead>\n",
              "    <tr style=\"text-align: right;\">\n",
              "      <th></th>\n",
              "      <th>tweet_id</th>\n",
              "      <th>text</th>\n",
              "      <th>task1</th>\n",
              "      <th>ID</th>\n",
              "    </tr>\n",
              "  </thead>\n",
              "  <tbody>\n",
              "    <tr>\n",
              "      <th>0</th>\n",
              "      <td>1.123757e+18</td>\n",
              "      <td>hate wen females hit ah nigga with tht bro ___...</td>\n",
              "      <td>HOF</td>\n",
              "      <td>hasoc_2020_en_2574</td>\n",
              "    </tr>\n",
              "    <tr>\n",
              "      <th>1</th>\n",
              "      <td>1.123733e+18</td>\n",
              "      <td>RT @airjunebug: When you're from the Bay but y...</td>\n",
              "      <td>HOF</td>\n",
              "      <td>hasoc_2020_en_3627</td>\n",
              "    </tr>\n",
              "    <tr>\n",
              "      <th>2</th>\n",
              "      <td>1.123734e+18</td>\n",
              "      <td>RT @DonaldJTrumpJr: Dear Democrats: The Americ...</td>\n",
              "      <td>NOT</td>\n",
              "      <td>hasoc_2020_en_3108</td>\n",
              "    </tr>\n",
              "    <tr>\n",
              "      <th>3</th>\n",
              "      <td>1.126951e+18</td>\n",
              "      <td>RT @SheLoveTimothy: He ainÕt on drugs he just ...</td>\n",
              "      <td>HOF</td>\n",
              "      <td>hasoc_2020_en_3986</td>\n",
              "    </tr>\n",
              "    <tr>\n",
              "      <th>4</th>\n",
              "      <td>1.126864e+18</td>\n",
              "      <td>RT @TavianJordan: Summer Ô19 IÕm coming for yo...</td>\n",
              "      <td>NOT</td>\n",
              "      <td>hasoc_2020_en_5152</td>\n",
              "    </tr>\n",
              "  </tbody>\n",
              "</table>\n",
              "</div>"
            ],
            "text/plain": [
              "       tweet_id  ...                  ID\n",
              "0  1.123757e+18  ...  hasoc_2020_en_2574\n",
              "1  1.123733e+18  ...  hasoc_2020_en_3627\n",
              "2  1.123734e+18  ...  hasoc_2020_en_3108\n",
              "3  1.126951e+18  ...  hasoc_2020_en_3986\n",
              "4  1.126864e+18  ...  hasoc_2020_en_5152\n",
              "\n",
              "[5 rows x 4 columns]"
            ]
          },
          "metadata": {},
          "execution_count": 7
        }
      ]
    },
    {
      "cell_type": "code",
      "metadata": {
        "colab": {
          "base_uri": "https://localhost:8080/",
          "height": 255
        },
        "id": "ODMjZEVTcfQx",
        "outputId": "c15771a9-b5cd-4373-b7a8-db971c9b0cf3"
      },
      "source": [
        "english_df_2019t = pd.read_csv('/content/gdrive/My Drive/NLP Project/data/2019/english_dataset/english_dataset_test_2019.csv', error_bad_lines=False)\n",
        "print(english_df_2019t.columns)\n",
        "english_df_2019t = english_df_2019t.drop(columns=['task_2', 'task_3'])\n",
        "print(english_df_2019t.shape)\n",
        "labels = collections.Counter(english_df_2019t['task_1'])\n",
        "ENGLISH_HOF.append(labels['HOF'])\n",
        "ENGLISH_NOT.append(labels['NOT'])\n",
        "print(labels)\n",
        "english_df_2019t.head()"
      ],
      "execution_count": 8,
      "outputs": [
        {
          "output_type": "stream",
          "name": "stdout",
          "text": [
            "Index(['text_id', 'text', 'task_1', 'task_2', 'task_3'], dtype='object')\n",
            "(1153, 3)\n",
            "Counter({'NOT': 865, 'HOF': 288})\n"
          ]
        },
        {
          "output_type": "execute_result",
          "data": {
            "text/html": [
              "<div>\n",
              "<style scoped>\n",
              "    .dataframe tbody tr th:only-of-type {\n",
              "        vertical-align: middle;\n",
              "    }\n",
              "\n",
              "    .dataframe tbody tr th {\n",
              "        vertical-align: top;\n",
              "    }\n",
              "\n",
              "    .dataframe thead th {\n",
              "        text-align: right;\n",
              "    }\n",
              "</style>\n",
              "<table border=\"1\" class=\"dataframe\">\n",
              "  <thead>\n",
              "    <tr style=\"text-align: right;\">\n",
              "      <th></th>\n",
              "      <th>text_id</th>\n",
              "      <th>text</th>\n",
              "      <th>task_1</th>\n",
              "    </tr>\n",
              "  </thead>\n",
              "  <tbody>\n",
              "    <tr>\n",
              "      <th>0</th>\n",
              "      <td>hasoc_en_902</td>\n",
              "      <td>West Bengal Doctor Crisis: Protesting doctors ...</td>\n",
              "      <td>NOT</td>\n",
              "    </tr>\n",
              "    <tr>\n",
              "      <th>1</th>\n",
              "      <td>hasoc_en_416</td>\n",
              "      <td>68.5 million people have been forced to leave ...</td>\n",
              "      <td>NOT</td>\n",
              "    </tr>\n",
              "    <tr>\n",
              "      <th>2</th>\n",
              "      <td>hasoc_en_207</td>\n",
              "      <td>You came, you saw .... we will look after the ...</td>\n",
              "      <td>NOT</td>\n",
              "    </tr>\n",
              "    <tr>\n",
              "      <th>3</th>\n",
              "      <td>hasoc_en_595</td>\n",
              "      <td>We'll get Brexit delivered by October 31st.   ...</td>\n",
              "      <td>NOT</td>\n",
              "    </tr>\n",
              "    <tr>\n",
              "      <th>4</th>\n",
              "      <td>hasoc_en_568</td>\n",
              "      <td>Fuck you. Go back to the dark ages you cow @IB...</td>\n",
              "      <td>HOF</td>\n",
              "    </tr>\n",
              "  </tbody>\n",
              "</table>\n",
              "</div>"
            ],
            "text/plain": [
              "        text_id                                               text task_1\n",
              "0  hasoc_en_902  West Bengal Doctor Crisis: Protesting doctors ...    NOT\n",
              "1  hasoc_en_416  68.5 million people have been forced to leave ...    NOT\n",
              "2  hasoc_en_207  You came, you saw .... we will look after the ...    NOT\n",
              "3  hasoc_en_595  We'll get Brexit delivered by October 31st.   ...    NOT\n",
              "4  hasoc_en_568  Fuck you. Go back to the dark ages you cow @IB...    HOF"
            ]
          },
          "metadata": {},
          "execution_count": 8
        }
      ]
    },
    {
      "cell_type": "code",
      "metadata": {
        "colab": {
          "base_uri": "https://localhost:8080/",
          "height": 255
        },
        "id": "zhnpp6XVco1e",
        "outputId": "7fffceb8-e05a-4fd2-fbb9-78bb7e069fc3"
      },
      "source": [
        "english_df_2020t = pd.read_csv('/content/gdrive/My Drive/NLP Project/data/2020/english_dataset/english_dataset_test_2020.csv', error_bad_lines=False)\n",
        "english_df_2020t = english_df_2020t.drop(columns=['task2'])\n",
        "print(english_df_2020t.shape)\n",
        "print(english_df_2020t.columns)\n",
        "labels = collections.Counter(english_df_2020t['task1'])\n",
        "ENGLISH_HOF.append(labels['HOF'])\n",
        "ENGLISH_NOT.append(labels['NOT'])\n",
        "print(labels)\n",
        "english_df_2020t.head()"
      ],
      "execution_count": 9,
      "outputs": [
        {
          "output_type": "stream",
          "name": "stdout",
          "text": [
            "(814, 4)\n",
            "Index(['tweet_id', 'text', 'task1', 'ID'], dtype='object')\n",
            "Counter({'HOF': 423, 'NOT': 391})\n"
          ]
        },
        {
          "output_type": "execute_result",
          "data": {
            "text/html": [
              "<div>\n",
              "<style scoped>\n",
              "    .dataframe tbody tr th:only-of-type {\n",
              "        vertical-align: middle;\n",
              "    }\n",
              "\n",
              "    .dataframe tbody tr th {\n",
              "        vertical-align: top;\n",
              "    }\n",
              "\n",
              "    .dataframe thead th {\n",
              "        text-align: right;\n",
              "    }\n",
              "</style>\n",
              "<table border=\"1\" class=\"dataframe\">\n",
              "  <thead>\n",
              "    <tr style=\"text-align: right;\">\n",
              "      <th></th>\n",
              "      <th>tweet_id</th>\n",
              "      <th>text</th>\n",
              "      <th>task1</th>\n",
              "      <th>ID</th>\n",
              "    </tr>\n",
              "  </thead>\n",
              "  <tbody>\n",
              "    <tr>\n",
              "      <th>0</th>\n",
              "      <td>1130081762154090497</td>\n",
              "      <td>RT @delmiyaa: Samini resetting the show and mo...</td>\n",
              "      <td>NOT</td>\n",
              "      <td>hasoc_2020_en_2713</td>\n",
              "    </tr>\n",
              "    <tr>\n",
              "      <th>1</th>\n",
              "      <td>1130048316807491584</td>\n",
              "      <td>@Swxnsea how do you know that he’s left?</td>\n",
              "      <td>HOF</td>\n",
              "      <td>hasoc_2020_en_3874</td>\n",
              "    </tr>\n",
              "    <tr>\n",
              "      <th>2</th>\n",
              "      <td>1123657766143504386</td>\n",
              "      <td>Tried to get Divock Origi on a free seeing as ...</td>\n",
              "      <td>NOT</td>\n",
              "      <td>hasoc_2020_en_281</td>\n",
              "    </tr>\n",
              "    <tr>\n",
              "      <th>3</th>\n",
              "      <td>1126782963042013186</td>\n",
              "      <td>RT @nutclusteruwu: that....is yalls stupid whi...</td>\n",
              "      <td>HOF</td>\n",
              "      <td>hasoc_2020_en_2026</td>\n",
              "    </tr>\n",
              "    <tr>\n",
              "      <th>4</th>\n",
              "      <td>1130159113529434113</td>\n",
              "      <td>&amp;amp; IT DID. But a bitch got big girls things...</td>\n",
              "      <td>HOF</td>\n",
              "      <td>hasoc_2020_en_4023</td>\n",
              "    </tr>\n",
              "  </tbody>\n",
              "</table>\n",
              "</div>"
            ],
            "text/plain": [
              "              tweet_id  ...                  ID\n",
              "0  1130081762154090497  ...  hasoc_2020_en_2713\n",
              "1  1130048316807491584  ...  hasoc_2020_en_3874\n",
              "2  1123657766143504386  ...   hasoc_2020_en_281\n",
              "3  1126782963042013186  ...  hasoc_2020_en_2026\n",
              "4  1130159113529434113  ...  hasoc_2020_en_4023\n",
              "\n",
              "[5 rows x 4 columns]"
            ]
          },
          "metadata": {},
          "execution_count": 9
        }
      ]
    },
    {
      "cell_type": "code",
      "metadata": {
        "colab": {
          "base_uri": "https://localhost:8080/",
          "height": 415
        },
        "id": "FPrpbla7dAHK",
        "outputId": "50640fc8-241d-4fea-b391-49ccc4b9abdf"
      },
      "source": [
        "barWidth = 0.25\n",
        "br1 = np.arange(len(ENGLISH_HOF))\n",
        "br2 = [x + barWidth for x in br1]\n",
        "plt.bar(br1, ENGLISH_HOF, width=barWidth, label='HOF')\n",
        "plt.bar(br2, ENGLISH_NOT, width=barWidth, label='NOT')\n",
        "plt.legend()\n",
        "plt.xlabel('English Dataset')\n",
        "plt.ylabel('Count')\n",
        "plt.xticks([r + barWidth for r in range(len(br1))],\n",
        "        ['train 2019', 'train 2020', 'test 2019', 'test 2020'])"
      ],
      "execution_count": 10,
      "outputs": [
        {
          "output_type": "execute_result",
          "data": {
            "text/plain": [
              "([<matplotlib.axis.XTick at 0x7ff1c4132f90>,\n",
              "  <matplotlib.axis.XTick at 0x7ff1c4132f50>,\n",
              "  <matplotlib.axis.XTick at 0x7ff1c4132b50>,\n",
              "  <matplotlib.axis.XTick at 0x7ff1c408edd0>],\n",
              " [Text(0, 0, 'train 2019'),\n",
              "  Text(0, 0, 'train 2020'),\n",
              "  Text(0, 0, 'test 2019'),\n",
              "  Text(0, 0, 'test 2020')])"
            ]
          },
          "metadata": {},
          "execution_count": 10
        },
        {
          "output_type": "display_data",
          "data": {
            "image/png": "[encoded data removed]",
            "text/plain": [
              "<Figure size 432x288 with 1 Axes>"
            ]
          },
          "metadata": {
            "needs_background": "light"
          }
        }
      ]
    },
    {
      "cell_type": "markdown",
      "metadata": {
        "id": "53B0-lnL18sP"
      },
      "source": [
        "SPANISH DATASET ANALYSIS"
      ]
    },
    {
      "cell_type": "code",
      "metadata": {
        "id": "uRcUrwSc1-jO"
      },
      "source": [
        "SPANISH_HOF = []\n",
        "SPANISH_NOT = []"
      ],
      "execution_count": 11,
      "outputs": []
    },
    {
      "cell_type": "code",
      "metadata": {
        "colab": {
          "base_uri": "https://localhost:8080/",
          "height": 255
        },
        "id": "VbyKHUy02CJk",
        "outputId": "5c8e3b0e-de76-4f34-8354-9178f372329a"
      },
      "source": [
        "spanish_df_2019 = pd.read_csv('/content/gdrive/My Drive/NLP Project/data/spanish_dataset/spanish_dataset.csv', error_bad_lines=False)\n",
        "# spanish_df_2019 = spanish_df_2019.drop(columns=['task_2'])\n",
        "print(spanish_df_2019.shape)\n",
        "labels = collections.Counter(spanish_df_2019['HS'])\n",
        "SPANISH_HOF.append(labels[1])\n",
        "SPANISH_NOT.append(labels[0])\n",
        "print(labels)\n",
        "print(spanish_df_2019.columns)\n",
        "spanish_df_2019.head()"
      ],
      "execution_count": 12,
      "outputs": [
        {
          "output_type": "stream",
          "name": "stdout",
          "text": [
            "(4450, 3)\n",
            "Counter({0: 2617, 1: 1833})\n",
            "Index(['id', 'text', 'HS'], dtype='object')\n"
          ]
        },
        {
          "output_type": "execute_result",
          "data": {
            "text/html": [
              "<div>\n",
              "<style scoped>\n",
              "    .dataframe tbody tr th:only-of-type {\n",
              "        vertical-align: middle;\n",
              "    }\n",
              "\n",
              "    .dataframe tbody tr th {\n",
              "        vertical-align: top;\n",
              "    }\n",
              "\n",
              "    .dataframe thead th {\n",
              "        text-align: right;\n",
              "    }\n",
              "</style>\n",
              "<table border=\"1\" class=\"dataframe\">\n",
              "  <thead>\n",
              "    <tr style=\"text-align: right;\">\n",
              "      <th></th>\n",
              "      <th>id</th>\n",
              "      <th>text</th>\n",
              "      <th>HS</th>\n",
              "    </tr>\n",
              "  </thead>\n",
              "  <tbody>\n",
              "    <tr>\n",
              "      <th>0</th>\n",
              "      <td>20001</td>\n",
              "      <td>Easyjet quiere duplicar el número de mujeres p...</td>\n",
              "      <td>1</td>\n",
              "    </tr>\n",
              "    <tr>\n",
              "      <th>1</th>\n",
              "      <td>20002</td>\n",
              "      <td>El gobierno debe crear un control estricto de ...</td>\n",
              "      <td>1</td>\n",
              "    </tr>\n",
              "    <tr>\n",
              "      <th>2</th>\n",
              "      <td>20003</td>\n",
              "      <td>Yo veo a mujeres destruidas por acoso laboral ...</td>\n",
              "      <td>0</td>\n",
              "    </tr>\n",
              "    <tr>\n",
              "      <th>3</th>\n",
              "      <td>20004</td>\n",
              "      <td>— Yo soy respetuoso con los demás, sólamente l...</td>\n",
              "      <td>0</td>\n",
              "    </tr>\n",
              "    <tr>\n",
              "      <th>4</th>\n",
              "      <td>20007</td>\n",
              "      <td>Antonio Caballero y como ser de mal gusto e ig...</td>\n",
              "      <td>0</td>\n",
              "    </tr>\n",
              "  </tbody>\n",
              "</table>\n",
              "</div>"
            ],
            "text/plain": [
              "      id                                               text  HS\n",
              "0  20001  Easyjet quiere duplicar el número de mujeres p...   1\n",
              "1  20002  El gobierno debe crear un control estricto de ...   1\n",
              "2  20003  Yo veo a mujeres destruidas por acoso laboral ...   0\n",
              "3  20004  — Yo soy respetuoso con los demás, sólamente l...   0\n",
              "4  20007  Antonio Caballero y como ser de mal gusto e ig...   0"
            ]
          },
          "metadata": {},
          "execution_count": 12
        }
      ]
    },
    {
      "cell_type": "code",
      "metadata": {
        "colab": {
          "base_uri": "https://localhost:8080/",
          "height": 255
        },
        "id": "BHXT3eSs2jVc",
        "outputId": "b96094d0-f36f-4fa0-b947-ae0bece3bbd0"
      },
      "source": [
        "spanish_df_2019t = pd.read_csv('/content/gdrive/My Drive/NLP Project/data/spanish_dataset/spanish_dataset_test.csv', error_bad_lines=False)\n",
        "# spanish_df_2019 = spanish_df_2019.drop(columns=['task_2'])\n",
        "print(spanish_df_2019t.shape)\n",
        "labels = collections.Counter(spanish_df_2019t['task_1'])\n",
        "SPANISH_HOF.append(labels[1])\n",
        "SPANISH_NOT.append(labels[0])\n",
        "print(labels)\n",
        "print(spanish_df_2019t.columns)\n",
        "spanish_df_2019t.head()"
      ],
      "execution_count": 13,
      "outputs": [
        {
          "output_type": "stream",
          "name": "stdout",
          "text": [
            "(500, 3)\n",
            "Counter({0: 278, 1: 222})\n",
            "Index(['id', 'text', 'task_1'], dtype='object')\n"
          ]
        },
        {
          "output_type": "execute_result",
          "data": {
            "text/html": [
              "<div>\n",
              "<style scoped>\n",
              "    .dataframe tbody tr th:only-of-type {\n",
              "        vertical-align: middle;\n",
              "    }\n",
              "\n",
              "    .dataframe tbody tr th {\n",
              "        vertical-align: top;\n",
              "    }\n",
              "\n",
              "    .dataframe thead th {\n",
              "        text-align: right;\n",
              "    }\n",
              "</style>\n",
              "<table border=\"1\" class=\"dataframe\">\n",
              "  <thead>\n",
              "    <tr style=\"text-align: right;\">\n",
              "      <th></th>\n",
              "      <th>id</th>\n",
              "      <th>text</th>\n",
              "      <th>task_1</th>\n",
              "    </tr>\n",
              "  </thead>\n",
              "  <tbody>\n",
              "    <tr>\n",
              "      <th>0</th>\n",
              "      <td>20005</td>\n",
              "      <td>Me estoy comiendo la picada árabe más rica de ...</td>\n",
              "      <td>0</td>\n",
              "    </tr>\n",
              "    <tr>\n",
              "      <th>1</th>\n",
              "      <td>20006</td>\n",
              "      <td>@Haryachyzaychyk Callate zorra y mama duro! 😍</td>\n",
              "      <td>1</td>\n",
              "    </tr>\n",
              "    <tr>\n",
              "      <th>2</th>\n",
              "      <td>20011</td>\n",
              "      <td>Acabo de escuchar a Casado diciendo que hay DE...</td>\n",
              "      <td>0</td>\n",
              "    </tr>\n",
              "    <tr>\n",
              "      <th>3</th>\n",
              "      <td>20019</td>\n",
              "      <td>Y NADIE SE HA PREGUNTADO LO QUE LE VA A COSTAR...</td>\n",
              "      <td>1</td>\n",
              "    </tr>\n",
              "    <tr>\n",
              "      <th>4</th>\n",
              "      <td>20033</td>\n",
              "      <td>@Fed_Durand Callate come sobra, más zorra son ...</td>\n",
              "      <td>1</td>\n",
              "    </tr>\n",
              "  </tbody>\n",
              "</table>\n",
              "</div>"
            ],
            "text/plain": [
              "      id                                               text  task_1\n",
              "0  20005  Me estoy comiendo la picada árabe más rica de ...       0\n",
              "1  20006      @Haryachyzaychyk Callate zorra y mama duro! 😍       1\n",
              "2  20011  Acabo de escuchar a Casado diciendo que hay DE...       0\n",
              "3  20019  Y NADIE SE HA PREGUNTADO LO QUE LE VA A COSTAR...       1\n",
              "4  20033  @Fed_Durand Callate come sobra, más zorra son ...       1"
            ]
          },
          "metadata": {},
          "execution_count": 13
        }
      ]
    },
    {
      "cell_type": "code",
      "metadata": {
        "colab": {
          "base_uri": "https://localhost:8080/",
          "height": 330
        },
        "id": "7ePmQxEe2458",
        "outputId": "ebca2873-266b-4c99-9d5b-fbc8e0e1d0c6"
      },
      "source": [
        "barWidth = 0.25\n",
        "br1 = np.arange(len(SPANISH_HOF))\n",
        "br2 = [x + barWidth for x in br1]\n",
        "plt.bar(br1, SPANISH_HOF, width=barWidth, label='HOF')\n",
        "plt.bar(br2, SPANISH_NOT, width=barWidth, label='NOT')\n",
        "plt.legend()\n",
        "plt.xlabel('Spanish Dataset')\n",
        "plt.ylabel('Count')\n",
        "plt.xticks([r + barWidth for r in range(len(br1))],\n",
        "        ['train 2018', 'test 2018'])"
      ],
      "execution_count": 14,
      "outputs": [
        {
          "output_type": "execute_result",
          "data": {
            "text/plain": [
              "([<matplotlib.axis.XTick at 0x7ff1c3ad3a50>,\n",
              "  <matplotlib.axis.XTick at 0x7ff1c3ad3a10>],\n",
              " [Text(0, 0, 'train 2018'), Text(0, 0, 'test 2018')])"
            ]
          },
          "metadata": {},
          "execution_count": 14
        },
        {
          "output_type": "display_data",
          "data": {
            "image/png": "[encoded data removed]",
            "text/plain": [
              "<Figure size 432x288 with 1 Axes>"
            ]
          },
          "metadata": {
            "needs_background": "light"
          }
        }
      ]
    },
    {
      "cell_type": "markdown",
      "metadata": {
        "id": "blgR0e9zfR2L"
      },
      "source": [
        "GERMAN DATASET ANALYSIS"
      ]
    },
    {
      "cell_type": "code",
      "metadata": {
        "id": "1JxibtZMdUwk"
      },
      "source": [
        "GERMAN_HOF = []\n",
        "GERMAN_NOT = []"
      ],
      "execution_count": 15,
      "outputs": []
    },
    {
      "cell_type": "code",
      "metadata": {
        "colab": {
          "base_uri": "https://localhost:8080/",
          "height": 255
        },
        "id": "30kn7DrQfWJF",
        "outputId": "04ae848f-43db-4eff-d11c-fdff10867775"
      },
      "source": [
        "german_df_2019 = pd.read_csv('/content/gdrive/My Drive/NLP Project/data/2019/german_dataset/german_dataset_2019.csv', error_bad_lines=False)\n",
        "german_df_2019 = german_df_2019.drop(columns=['task_2'])\n",
        "print(german_df_2019.shape)\n",
        "labels = collections.Counter(german_df_2019['task_1'])\n",
        "GERMAN_HOF.append(labels['HOF'])\n",
        "GERMAN_NOT.append(labels['NOT'])\n",
        "print(labels)\n",
        "print(german_df_2019.columns)\n",
        "german_df_2019.head()"
      ],
      "execution_count": 16,
      "outputs": [
        {
          "output_type": "stream",
          "name": "stdout",
          "text": [
            "(3819, 3)\n",
            "Counter({'NOT': 3412, 'HOF': 407})\n",
            "Index(['text_id', 'text', 'task_1'], dtype='object')\n"
          ]
        },
        {
          "output_type": "execute_result",
          "data": {
            "text/html": [
              "<div>\n",
              "<style scoped>\n",
              "    .dataframe tbody tr th:only-of-type {\n",
              "        vertical-align: middle;\n",
              "    }\n",
              "\n",
              "    .dataframe tbody tr th {\n",
              "        vertical-align: top;\n",
              "    }\n",
              "\n",
              "    .dataframe thead th {\n",
              "        text-align: right;\n",
              "    }\n",
              "</style>\n",
              "<table border=\"1\" class=\"dataframe\">\n",
              "  <thead>\n",
              "    <tr style=\"text-align: right;\">\n",
              "      <th></th>\n",
              "      <th>text_id</th>\n",
              "      <th>text</th>\n",
              "      <th>task_1</th>\n",
              "    </tr>\n",
              "  </thead>\n",
              "  <tbody>\n",
              "    <tr>\n",
              "      <th>0</th>\n",
              "      <td>hasoc_de_1</td>\n",
              "      <td>Frank Rennicke – Ich bin stolz https://t.co/Cm...</td>\n",
              "      <td>NOT</td>\n",
              "    </tr>\n",
              "    <tr>\n",
              "      <th>1</th>\n",
              "      <td>hasoc_de_2</td>\n",
              "      <td>ANSEHEN.....und danach bitte TEILEN...TEILEN.....</td>\n",
              "      <td>NOT</td>\n",
              "    </tr>\n",
              "    <tr>\n",
              "      <th>2</th>\n",
              "      <td>hasoc_de_3</td>\n",
              "      <td>#Koeln Mohamed erkennt kein deutsches Recht so...</td>\n",
              "      <td>NOT</td>\n",
              "    </tr>\n",
              "    <tr>\n",
              "      <th>3</th>\n",
              "      <td>hasoc_de_4</td>\n",
              "      <td>#SaudiArabien ist eine brutale islamische Dikt...</td>\n",
              "      <td>NOT</td>\n",
              "    </tr>\n",
              "    <tr>\n",
              "      <th>4</th>\n",
              "      <td>hasoc_de_5</td>\n",
              "      <td>Bundespolizei #München hat im 1. Quartal 2019 ...</td>\n",
              "      <td>NOT</td>\n",
              "    </tr>\n",
              "  </tbody>\n",
              "</table>\n",
              "</div>"
            ],
            "text/plain": [
              "      text_id                                               text task_1\n",
              "0  hasoc_de_1  Frank Rennicke – Ich bin stolz https://t.co/Cm...    NOT\n",
              "1  hasoc_de_2  ANSEHEN.....und danach bitte TEILEN...TEILEN.....    NOT\n",
              "2  hasoc_de_3  #Koeln Mohamed erkennt kein deutsches Recht so...    NOT\n",
              "3  hasoc_de_4  #SaudiArabien ist eine brutale islamische Dikt...    NOT\n",
              "4  hasoc_de_5  Bundespolizei #München hat im 1. Quartal 2019 ...    NOT"
            ]
          },
          "metadata": {},
          "execution_count": 16
        }
      ]
    },
    {
      "cell_type": "code",
      "metadata": {
        "colab": {
          "base_uri": "https://localhost:8080/",
          "height": 255
        },
        "id": "dLEXsy4Dfdu1",
        "outputId": "9e3c4e35-a44e-4e7d-e7b3-e73874110749"
      },
      "source": [
        "german_df_2020 = pd.read_csv('/content/gdrive/My Drive/NLP Project/data/2020/german_dataset/german_dataset_2020.csv', error_bad_lines=False)\n",
        "print(german_df_2020.columns)\n",
        "german_df_2020 = german_df_2020.drop(columns=['task2'])\n",
        "print(german_df_2020.shape)\n",
        "labels = collections.Counter(german_df_2020['task1'])\n",
        "GERMAN_HOF.append(labels['HOF'])\n",
        "GERMAN_NOT.append(labels['NOT'])\n",
        "print(labels)\n",
        "german_df_2020.head()"
      ],
      "execution_count": 17,
      "outputs": [
        {
          "output_type": "stream",
          "name": "stdout",
          "text": [
            "Index(['tweet_id', 'text', 'task1', 'task2', 'ID'], dtype='object')\n",
            "(2373, 4)\n",
            "Counter({'NOT': 1700, 'HOF': 673})\n"
          ]
        },
        {
          "output_type": "execute_result",
          "data": {
            "text/html": [
              "<div>\n",
              "<style scoped>\n",
              "    .dataframe tbody tr th:only-of-type {\n",
              "        vertical-align: middle;\n",
              "    }\n",
              "\n",
              "    .dataframe tbody tr th {\n",
              "        vertical-align: top;\n",
              "    }\n",
              "\n",
              "    .dataframe thead th {\n",
              "        text-align: right;\n",
              "    }\n",
              "</style>\n",
              "<table border=\"1\" class=\"dataframe\">\n",
              "  <thead>\n",
              "    <tr style=\"text-align: right;\">\n",
              "      <th></th>\n",
              "      <th>tweet_id</th>\n",
              "      <th>text</th>\n",
              "      <th>task1</th>\n",
              "      <th>ID</th>\n",
              "    </tr>\n",
              "  </thead>\n",
              "  <tbody>\n",
              "    <tr>\n",
              "      <th>0</th>\n",
              "      <td>1.133389e+18</td>\n",
              "      <td>Deutsche rothaarige porno reife deutsche fraue...</td>\n",
              "      <td>NOT</td>\n",
              "      <td>hasoc_2020_de_2684</td>\n",
              "    </tr>\n",
              "    <tr>\n",
              "      <th>1</th>\n",
              "      <td>1.127135e+18</td>\n",
              "      <td>RT @NDRinfo: Die deutsche Klimaaktivistin Luis...</td>\n",
              "      <td>NOT</td>\n",
              "      <td>hasoc_2020_de_1042</td>\n",
              "    </tr>\n",
              "    <tr>\n",
              "      <th>2</th>\n",
              "      <td>1.128897e+18</td>\n",
              "      <td>@ruhrbahn jeden Morgen eine neue „Fahrzeugstör...</td>\n",
              "      <td>NOT</td>\n",
              "      <td>hasoc_2020_de_774</td>\n",
              "    </tr>\n",
              "    <tr>\n",
              "      <th>3</th>\n",
              "      <td>1.123577e+18</td>\n",
              "      <td>@Junge_Freiheit Die Inkas hatten sich schon dä...</td>\n",
              "      <td>NOT</td>\n",
              "      <td>hasoc_2020_de_559</td>\n",
              "    </tr>\n",
              "    <tr>\n",
              "      <th>4</th>\n",
              "      <td>1.128744e+18</td>\n",
              "      <td>RT @technosteron: leute die 'boar' schreiben l...</td>\n",
              "      <td>HOF</td>\n",
              "      <td>hasoc_2020_de_1969</td>\n",
              "    </tr>\n",
              "  </tbody>\n",
              "</table>\n",
              "</div>"
            ],
            "text/plain": [
              "       tweet_id  ...                  ID\n",
              "0  1.133389e+18  ...  hasoc_2020_de_2684\n",
              "1  1.127135e+18  ...  hasoc_2020_de_1042\n",
              "2  1.128897e+18  ...   hasoc_2020_de_774\n",
              "3  1.123577e+18  ...   hasoc_2020_de_559\n",
              "4  1.128744e+18  ...  hasoc_2020_de_1969\n",
              "\n",
              "[5 rows x 4 columns]"
            ]
          },
          "metadata": {},
          "execution_count": 17
        }
      ]
    },
    {
      "cell_type": "code",
      "metadata": {
        "colab": {
          "base_uri": "https://localhost:8080/",
          "height": 255
        },
        "id": "qUVbhTHPfm9q",
        "outputId": "855c5d65-d8fa-4384-c8da-2ce02899cb8f"
      },
      "source": [
        "german_df_2019t = pd.read_csv('/content/gdrive/My Drive/NLP Project/data/2020/german_dataset/german_dataset_test_2020.csv', error_bad_lines=False)\n",
        "print(german_df_2019t.columns)\n",
        "german_df_2019t = german_df_2019t.drop(columns=['task2'])\n",
        "print(german_df_2019t.shape)\n",
        "labels = collections.Counter(german_df_2019t['task1'])\n",
        "GERMAN_HOF.append(labels['HOF'])\n",
        "GERMAN_NOT.append(labels['NOT'])\n",
        "print(labels)\n",
        "german_df_2019t.head()"
      ],
      "execution_count": 18,
      "outputs": [
        {
          "output_type": "stream",
          "name": "stdout",
          "text": [
            "Index(['tweet_id', 'text', 'task1', 'task2', 'ID'], dtype='object')\n",
            "(526, 4)\n",
            "Counter({'NOT': 392, 'HOF': 134})\n"
          ]
        },
        {
          "output_type": "execute_result",
          "data": {
            "text/html": [
              "<div>\n",
              "<style scoped>\n",
              "    .dataframe tbody tr th:only-of-type {\n",
              "        vertical-align: middle;\n",
              "    }\n",
              "\n",
              "    .dataframe tbody tr th {\n",
              "        vertical-align: top;\n",
              "    }\n",
              "\n",
              "    .dataframe thead th {\n",
              "        text-align: right;\n",
              "    }\n",
              "</style>\n",
              "<table border=\"1\" class=\"dataframe\">\n",
              "  <thead>\n",
              "    <tr style=\"text-align: right;\">\n",
              "      <th></th>\n",
              "      <th>tweet_id</th>\n",
              "      <th>text</th>\n",
              "      <th>task1</th>\n",
              "      <th>ID</th>\n",
              "    </tr>\n",
              "  </thead>\n",
              "  <tbody>\n",
              "    <tr>\n",
              "      <th>0</th>\n",
              "      <td>1129095874242650112</td>\n",
              "      <td>@derCarsti Boykottieren hört sich besser an. 💙💙</td>\n",
              "      <td>NOT</td>\n",
              "      <td>hasoc_2020_de_1053</td>\n",
              "    </tr>\n",
              "    <tr>\n",
              "      <th>1</th>\n",
              "      <td>1129004308396236800</td>\n",
              "      <td>RT @ibikus31: Es wird spekuliert, ob Merkel ei...</td>\n",
              "      <td>NOT</td>\n",
              "      <td>hasoc_2020_de_671</td>\n",
              "    </tr>\n",
              "    <tr>\n",
              "      <th>2</th>\n",
              "      <td>1130896929355907080</td>\n",
              "      <td>Hat #Hitler wirklich den Krieg in der Wüste ve...</td>\n",
              "      <td>NOT</td>\n",
              "      <td>hasoc_2020_de_2977</td>\n",
              "    </tr>\n",
              "    <tr>\n",
              "      <th>3</th>\n",
              "      <td>1132251534329307136</td>\n",
              "      <td>RT @Beatrix_vStorch: #May tritt in UK unter Tr...</td>\n",
              "      <td>NOT</td>\n",
              "      <td>hasoc_2020_de_1746</td>\n",
              "    </tr>\n",
              "    <tr>\n",
              "      <th>4</th>\n",
              "      <td>1124941869115498496</td>\n",
              "      <td>@justmeDoro Eher nicht. Das Gänse hauen wieder...</td>\n",
              "      <td>NOT</td>\n",
              "      <td>hasoc_2020_de_2416</td>\n",
              "    </tr>\n",
              "  </tbody>\n",
              "</table>\n",
              "</div>"
            ],
            "text/plain": [
              "              tweet_id  ...                  ID\n",
              "0  1129095874242650112  ...  hasoc_2020_de_1053\n",
              "1  1129004308396236800  ...   hasoc_2020_de_671\n",
              "2  1130896929355907080  ...  hasoc_2020_de_2977\n",
              "3  1132251534329307136  ...  hasoc_2020_de_1746\n",
              "4  1124941869115498496  ...  hasoc_2020_de_2416\n",
              "\n",
              "[5 rows x 4 columns]"
            ]
          },
          "metadata": {},
          "execution_count": 18
        }
      ]
    },
    {
      "cell_type": "code",
      "metadata": {
        "colab": {
          "base_uri": "https://localhost:8080/",
          "height": 255
        },
        "id": "e91sAGZSfprT",
        "outputId": "490f82ff-a913-43b0-9cde-21c406dfbf55"
      },
      "source": [
        "german_df_2020t = pd.read_csv('/content/gdrive/My Drive/NLP Project/data/2020/english_dataset/english_dataset_test_2020.csv', error_bad_lines=False)\n",
        "german_df_2020t = german_df_2020t.drop(columns=['task2'])\n",
        "print(german_df_2020t.shape)\n",
        "print(german_df_2020t.columns)\n",
        "labels = collections.Counter(german_df_2020t['task1'])\n",
        "GERMAN_HOF.append(labels['HOF'])\n",
        "GERMAN_NOT.append(labels['NOT'])\n",
        "print(labels)\n",
        "german_df_2020t.head()"
      ],
      "execution_count": 19,
      "outputs": [
        {
          "output_type": "stream",
          "name": "stdout",
          "text": [
            "(814, 4)\n",
            "Index(['tweet_id', 'text', 'task1', 'ID'], dtype='object')\n",
            "Counter({'HOF': 423, 'NOT': 391})\n"
          ]
        },
        {
          "output_type": "execute_result",
          "data": {
            "text/html": [
              "<div>\n",
              "<style scoped>\n",
              "    .dataframe tbody tr th:only-of-type {\n",
              "        vertical-align: middle;\n",
              "    }\n",
              "\n",
              "    .dataframe tbody tr th {\n",
              "        vertical-align: top;\n",
              "    }\n",
              "\n",
              "    .dataframe thead th {\n",
              "        text-align: right;\n",
              "    }\n",
              "</style>\n",
              "<table border=\"1\" class=\"dataframe\">\n",
              "  <thead>\n",
              "    <tr style=\"text-align: right;\">\n",
              "      <th></th>\n",
              "      <th>tweet_id</th>\n",
              "      <th>text</th>\n",
              "      <th>task1</th>\n",
              "      <th>ID</th>\n",
              "    </tr>\n",
              "  </thead>\n",
              "  <tbody>\n",
              "    <tr>\n",
              "      <th>0</th>\n",
              "      <td>1130081762154090497</td>\n",
              "      <td>RT @delmiyaa: Samini resetting the show and mo...</td>\n",
              "      <td>NOT</td>\n",
              "      <td>hasoc_2020_en_2713</td>\n",
              "    </tr>\n",
              "    <tr>\n",
              "      <th>1</th>\n",
              "      <td>1130048316807491584</td>\n",
              "      <td>@Swxnsea how do you know that he’s left?</td>\n",
              "      <td>HOF</td>\n",
              "      <td>hasoc_2020_en_3874</td>\n",
              "    </tr>\n",
              "    <tr>\n",
              "      <th>2</th>\n",
              "      <td>1123657766143504386</td>\n",
              "      <td>Tried to get Divock Origi on a free seeing as ...</td>\n",
              "      <td>NOT</td>\n",
              "      <td>hasoc_2020_en_281</td>\n",
              "    </tr>\n",
              "    <tr>\n",
              "      <th>3</th>\n",
              "      <td>1126782963042013186</td>\n",
              "      <td>RT @nutclusteruwu: that....is yalls stupid whi...</td>\n",
              "      <td>HOF</td>\n",
              "      <td>hasoc_2020_en_2026</td>\n",
              "    </tr>\n",
              "    <tr>\n",
              "      <th>4</th>\n",
              "      <td>1130159113529434113</td>\n",
              "      <td>&amp;amp; IT DID. But a bitch got big girls things...</td>\n",
              "      <td>HOF</td>\n",
              "      <td>hasoc_2020_en_4023</td>\n",
              "    </tr>\n",
              "  </tbody>\n",
              "</table>\n",
              "</div>"
            ],
            "text/plain": [
              "              tweet_id  ...                  ID\n",
              "0  1130081762154090497  ...  hasoc_2020_en_2713\n",
              "1  1130048316807491584  ...  hasoc_2020_en_3874\n",
              "2  1123657766143504386  ...   hasoc_2020_en_281\n",
              "3  1126782963042013186  ...  hasoc_2020_en_2026\n",
              "4  1130159113529434113  ...  hasoc_2020_en_4023\n",
              "\n",
              "[5 rows x 4 columns]"
            ]
          },
          "metadata": {},
          "execution_count": 19
        }
      ]
    },
    {
      "cell_type": "code",
      "metadata": {
        "colab": {
          "base_uri": "https://localhost:8080/",
          "height": 415
        },
        "id": "fUmKTe_8ftay",
        "outputId": "8b75dd7d-eb3c-4048-b39c-2ea1ef0cb375"
      },
      "source": [
        "barWidth = 0.25\n",
        "br1 = np.arange(len(GERMAN_HOF))\n",
        "br2 = [x + barWidth for x in br1]\n",
        "plt.bar(br1, GERMAN_HOF, width=barWidth, label='HOF')\n",
        "plt.bar(br2, GERMAN_NOT, width=barWidth, label='NOT')\n",
        "plt.legend()\n",
        "plt.xlabel('German Dataset')\n",
        "plt.ylabel('Count')\n",
        "plt.xticks([r + barWidth for r in range(len(br1))],\n",
        "        ['train 2019', 'train 2020', 'test 2019', 'test 2020'])"
      ],
      "execution_count": 20,
      "outputs": [
        {
          "output_type": "execute_result",
          "data": {
            "text/plain": [
              "([<matplotlib.axis.XTick at 0x7ff1c3a3f9d0>,\n",
              "  <matplotlib.axis.XTick at 0x7ff1c3a3f3d0>,\n",
              "  <matplotlib.axis.XTick at 0x7ff1c40a6590>,\n",
              "  <matplotlib.axis.XTick at 0x7ff1c37bb290>],\n",
              " [Text(0, 0, 'train 2019'),\n",
              "  Text(0, 0, 'train 2020'),\n",
              "  Text(0, 0, 'test 2019'),\n",
              "  Text(0, 0, 'test 2020')])"
            ]
          },
          "metadata": {},
          "execution_count": 20
        },
        {
          "output_type": "display_data",
          "data": {
            "image/png": "[encoded data removed]",
            "text/plain": [
              "<Figure size 432x288 with 1 Axes>"
            ]
          },
          "metadata": {
            "needs_background": "light"
          }
        }
      ]
    },
    {
      "cell_type": "markdown",
      "metadata": {
        "id": "iQawXY3di4l5"
      },
      "source": [
        "HINDI DATASET ANALYSIS"
      ]
    },
    {
      "cell_type": "code",
      "metadata": {
        "id": "S7CBxZkHiw38"
      },
      "source": [
        "HINDI_HOF = []\n",
        "HINDI_NOT = []"
      ],
      "execution_count": 21,
      "outputs": []
    },
    {
      "cell_type": "code",
      "metadata": {
        "colab": {
          "base_uri": "https://localhost:8080/",
          "height": 255
        },
        "id": "YlOk7cXUi-cO",
        "outputId": "aaebaddc-314d-499f-f6cb-472eae96d9e9"
      },
      "source": [
        "hindi_df_2019 = pd.read_csv('/content/gdrive/My Drive/NLP Project/data/2019/hindi_dataset/hindi_dataset_2019.csv', error_bad_lines=False)\n",
        "hindi_df_2019 = hindi_df_2019.drop(columns=['task_2', 'task_3'])\n",
        "print(hindi_df_2019.shape)\n",
        "labels = collections.Counter(hindi_df_2019['task_1'])\n",
        "HINDI_HOF.append(labels['HOF'])\n",
        "HINDI_NOT.append(labels['NOT'])\n",
        "print(labels)\n",
        "print(hindi_df_2019.columns)\n",
        "hindi_df_2019.head()"
      ],
      "execution_count": 22,
      "outputs": [
        {
          "output_type": "stream",
          "name": "stdout",
          "text": [
            "(4665, 3)\n",
            "Counter({'HOF': 2469, 'NOT': 2196})\n",
            "Index(['text_id', 'text', 'task_1'], dtype='object')\n"
          ]
        },
        {
          "output_type": "execute_result",
          "data": {
            "text/html": [
              "<div>\n",
              "<style scoped>\n",
              "    .dataframe tbody tr th:only-of-type {\n",
              "        vertical-align: middle;\n",
              "    }\n",
              "\n",
              "    .dataframe tbody tr th {\n",
              "        vertical-align: top;\n",
              "    }\n",
              "\n",
              "    .dataframe thead th {\n",
              "        text-align: right;\n",
              "    }\n",
              "</style>\n",
              "<table border=\"1\" class=\"dataframe\">\n",
              "  <thead>\n",
              "    <tr style=\"text-align: right;\">\n",
              "      <th></th>\n",
              "      <th>text_id</th>\n",
              "      <th>text</th>\n",
              "      <th>task_1</th>\n",
              "    </tr>\n",
              "  </thead>\n",
              "  <tbody>\n",
              "    <tr>\n",
              "      <th>0</th>\n",
              "      <td>hasoc_hi_5556</td>\n",
              "      <td>बांग्लादेश की शानदार वापसी, भारत को 314 रन पर ...</td>\n",
              "      <td>NOT</td>\n",
              "    </tr>\n",
              "    <tr>\n",
              "      <th>1</th>\n",
              "      <td>hasoc_hi_5648</td>\n",
              "      <td>सब रंडी नाच देखने मे व्यस्त जैसे ही कोई #शांती...</td>\n",
              "      <td>HOF</td>\n",
              "    </tr>\n",
              "    <tr>\n",
              "      <th>2</th>\n",
              "      <td>hasoc_hi_164</td>\n",
              "      <td>तुम जैसे हरामियों के लिए बस जूतों की कमी है शु...</td>\n",
              "      <td>HOF</td>\n",
              "    </tr>\n",
              "    <tr>\n",
              "      <th>3</th>\n",
              "      <td>hasoc_hi_3530</td>\n",
              "      <td>बीजेपी MLA आकाश विजयवर्गीय जेल से रिहा, जमानत ...</td>\n",
              "      <td>NOT</td>\n",
              "    </tr>\n",
              "    <tr>\n",
              "      <th>4</th>\n",
              "      <td>hasoc_hi_5206</td>\n",
              "      <td>चमकी बुखार: विधानसभा परिसर में आरजेडी का प्रदर...</td>\n",
              "      <td>NOT</td>\n",
              "    </tr>\n",
              "  </tbody>\n",
              "</table>\n",
              "</div>"
            ],
            "text/plain": [
              "         text_id                                               text task_1\n",
              "0  hasoc_hi_5556  बांग्लादेश की शानदार वापसी, भारत को 314 रन पर ...    NOT\n",
              "1  hasoc_hi_5648  सब रंडी नाच देखने मे व्यस्त जैसे ही कोई #शांती...    HOF\n",
              "2   hasoc_hi_164  तुम जैसे हरामियों के लिए बस जूतों की कमी है शु...    HOF\n",
              "3  hasoc_hi_3530  बीजेपी MLA आकाश विजयवर्गीय जेल से रिहा, जमानत ...    NOT\n",
              "4  hasoc_hi_5206  चमकी बुखार: विधानसभा परिसर में आरजेडी का प्रदर...    NOT"
            ]
          },
          "metadata": {},
          "execution_count": 22
        }
      ]
    },
    {
      "cell_type": "code",
      "metadata": {
        "colab": {
          "base_uri": "https://localhost:8080/",
          "height": 255
        },
        "id": "WRhsISVAjAyZ",
        "outputId": "99d90fe2-b4aa-4ef0-9e2e-9c95495084db"
      },
      "source": [
        "hindi_df_2020 = pd.read_csv('/content/gdrive/My Drive/NLP Project/data/2020/hindi_dataset/hindi_dataset_2020.csv', error_bad_lines=False)\n",
        "print(hindi_df_2020.columns)\n",
        "hindi_df_2020 = hindi_df_2020.drop(columns=['task2'])\n",
        "print(hindi_df_2020.shape)\n",
        "labels = collections.Counter(hindi_df_2020['task1'])\n",
        "HINDI_HOF.append(labels['HOF'])\n",
        "HINDI_NOT.append(labels['NOT'])\n",
        "print(labels)\n",
        "hindi_df_2020.head()"
      ],
      "execution_count": 23,
      "outputs": [
        {
          "output_type": "stream",
          "name": "stdout",
          "text": [
            "Index(['tweet_id', 'text', 'task1', 'task2', 'ID'], dtype='object')\n",
            "(2963, 4)\n",
            "Counter({'NOT': 2116, 'HOF': 847})\n"
          ]
        },
        {
          "output_type": "execute_result",
          "data": {
            "text/html": [
              "<div>\n",
              "<style scoped>\n",
              "    .dataframe tbody tr th:only-of-type {\n",
              "        vertical-align: middle;\n",
              "    }\n",
              "\n",
              "    .dataframe tbody tr th {\n",
              "        vertical-align: top;\n",
              "    }\n",
              "\n",
              "    .dataframe thead th {\n",
              "        text-align: right;\n",
              "    }\n",
              "</style>\n",
              "<table border=\"1\" class=\"dataframe\">\n",
              "  <thead>\n",
              "    <tr style=\"text-align: right;\">\n",
              "      <th></th>\n",
              "      <th>tweet_id</th>\n",
              "      <th>text</th>\n",
              "      <th>task1</th>\n",
              "      <th>ID</th>\n",
              "    </tr>\n",
              "  </thead>\n",
              "  <tbody>\n",
              "    <tr>\n",
              "      <th>0</th>\n",
              "      <td>1.127755e+18</td>\n",
              "      <td>1 आदमीं को मारने पर गोडसे आतंकी हो सके है तो\\n...</td>\n",
              "      <td>HOF</td>\n",
              "      <td>hasoc_2020_hi_2250</td>\n",
              "    </tr>\n",
              "    <tr>\n",
              "      <th>1</th>\n",
              "      <td>1.123579e+18</td>\n",
              "      <td>RT @Vishesh4: @jawaharyadavbjp जवाहर यादव, अगर...</td>\n",
              "      <td>NOT</td>\n",
              "      <td>hasoc_2020_hi_381</td>\n",
              "    </tr>\n",
              "    <tr>\n",
              "      <th>2</th>\n",
              "      <td>1.127750e+18</td>\n",
              "      <td>RT @FunKeyBaat: #भगवा वस्त्र पहन कर मतदान नही ...</td>\n",
              "      <td>HOF</td>\n",
              "      <td>hasoc_2020_hi_1510</td>\n",
              "    </tr>\n",
              "    <tr>\n",
              "      <th>3</th>\n",
              "      <td>1.127661e+18</td>\n",
              "      <td>Yey nina khothani labafazi benu phambili Finis...</td>\n",
              "      <td>HOF</td>\n",
              "      <td>hasoc_2020_hi_1010</td>\n",
              "    </tr>\n",
              "    <tr>\n",
              "      <th>4</th>\n",
              "      <td>1.123487e+18</td>\n",
              "      <td>RT @Rajeshbhanjan2: जब भी कोई सिकुलर कोंग्रेसी...</td>\n",
              "      <td>HOF</td>\n",
              "      <td>hasoc_2020_hi_331</td>\n",
              "    </tr>\n",
              "  </tbody>\n",
              "</table>\n",
              "</div>"
            ],
            "text/plain": [
              "       tweet_id  ...                  ID\n",
              "0  1.127755e+18  ...  hasoc_2020_hi_2250\n",
              "1  1.123579e+18  ...   hasoc_2020_hi_381\n",
              "2  1.127750e+18  ...  hasoc_2020_hi_1510\n",
              "3  1.127661e+18  ...  hasoc_2020_hi_1010\n",
              "4  1.123487e+18  ...   hasoc_2020_hi_331\n",
              "\n",
              "[5 rows x 4 columns]"
            ]
          },
          "metadata": {},
          "execution_count": 23
        }
      ]
    },
    {
      "cell_type": "code",
      "metadata": {
        "colab": {
          "base_uri": "https://localhost:8080/",
          "height": 255
        },
        "id": "ZEl4r9DRjDIo",
        "outputId": "39b41c58-15f4-4718-8d2b-3206e62e3193"
      },
      "source": [
        "hindi_df_2019t = pd.read_csv('/content/gdrive/My Drive/NLP Project/data/2020/hindi_dataset/hindi_dataset_test_2020.csv', error_bad_lines=False)\n",
        "print(hindi_df_2019t.columns)\n",
        "hindi_df_2019t = hindi_df_2019t.drop(columns=['task2'])\n",
        "print(hindi_df_2019t.shape)\n",
        "labels = collections.Counter(hindi_df_2019t['task1'])\n",
        "HINDI_HOF.append(labels['HOF'])\n",
        "HINDI_NOT.append(labels['NOT'])\n",
        "print(labels)\n",
        "hindi_df_2019t.head()"
      ],
      "execution_count": 24,
      "outputs": [
        {
          "output_type": "stream",
          "name": "stdout",
          "text": [
            "Index(['tweet_id', 'text', 'task1', 'task2', 'ID'], dtype='object')\n",
            "(663, 4)\n",
            "Counter({'NOT': 466, 'HOF': 197})\n"
          ]
        },
        {
          "output_type": "execute_result",
          "data": {
            "text/html": [
              "<div>\n",
              "<style scoped>\n",
              "    .dataframe tbody tr th:only-of-type {\n",
              "        vertical-align: middle;\n",
              "    }\n",
              "\n",
              "    .dataframe tbody tr th {\n",
              "        vertical-align: top;\n",
              "    }\n",
              "\n",
              "    .dataframe thead th {\n",
              "        text-align: right;\n",
              "    }\n",
              "</style>\n",
              "<table border=\"1\" class=\"dataframe\">\n",
              "  <thead>\n",
              "    <tr style=\"text-align: right;\">\n",
              "      <th></th>\n",
              "      <th>tweet_id</th>\n",
              "      <th>text</th>\n",
              "      <th>task1</th>\n",
              "      <th>ID</th>\n",
              "    </tr>\n",
              "  </thead>\n",
              "  <tbody>\n",
              "    <tr>\n",
              "      <th>0</th>\n",
              "      <td>1127781647783301120</td>\n",
              "      <td>@Kinjal_Dubey_ इसके लिए तैयारी हो रखी है\\nआपको...</td>\n",
              "      <td>HOF</td>\n",
              "      <td>hasoc_2020_hi_1938</td>\n",
              "    </tr>\n",
              "    <tr>\n",
              "      <th>1</th>\n",
              "      <td>1127492853171535872</td>\n",
              "      <td>RT @pratimamishra04: दिल्ली के मुख्यमंत्री @Ar...</td>\n",
              "      <td>NOT</td>\n",
              "      <td>hasoc_2020_hi_1201</td>\n",
              "    </tr>\n",
              "    <tr>\n",
              "      <th>2</th>\n",
              "      <td>1123638375896903681</td>\n",
              "      <td>RT @nishantdabre2: आज एक तरफ खुशी है, तो एक तर...</td>\n",
              "      <td>NOT</td>\n",
              "      <td>hasoc_2020_hi_1628</td>\n",
              "    </tr>\n",
              "    <tr>\n",
              "      <th>3</th>\n",
              "      <td>1127496460310683648</td>\n",
              "      <td>@BJP4India @HardeepSPuri जिस कुनबे के लोग :-\\n...</td>\n",
              "      <td>NOT</td>\n",
              "      <td>hasoc_2020_hi_3257</td>\n",
              "    </tr>\n",
              "    <tr>\n",
              "      <th>4</th>\n",
              "      <td>1127667277535399937</td>\n",
              "      <td>@manakgupta बादल....😂😂😂</td>\n",
              "      <td>NOT</td>\n",
              "      <td>hasoc_2020_hi_4133</td>\n",
              "    </tr>\n",
              "  </tbody>\n",
              "</table>\n",
              "</div>"
            ],
            "text/plain": [
              "              tweet_id  ...                  ID\n",
              "0  1127781647783301120  ...  hasoc_2020_hi_1938\n",
              "1  1127492853171535872  ...  hasoc_2020_hi_1201\n",
              "2  1123638375896903681  ...  hasoc_2020_hi_1628\n",
              "3  1127496460310683648  ...  hasoc_2020_hi_3257\n",
              "4  1127667277535399937  ...  hasoc_2020_hi_4133\n",
              "\n",
              "[5 rows x 4 columns]"
            ]
          },
          "metadata": {},
          "execution_count": 24
        }
      ]
    },
    {
      "cell_type": "code",
      "metadata": {
        "colab": {
          "base_uri": "https://localhost:8080/",
          "height": 255
        },
        "id": "prjeFkM-jFsx",
        "outputId": "ce22033d-8247-4ddd-ad8e-83c3b7c948c1"
      },
      "source": [
        "hindi_df_2020t = pd.read_csv('/content/gdrive/My Drive/NLP Project/data/2020/hindi_dataset/hindi_dataset_test_2020.csv', error_bad_lines=False)\n",
        "hindi_df_2020t = hindi_df_2020t.drop(columns=['task2'])\n",
        "print(hindi_df_2020t.shape)\n",
        "print(hindi_df_2020t.columns)\n",
        "labels = collections.Counter(hindi_df_2020t['task1'])\n",
        "HINDI_HOF.append(labels['HOF'])\n",
        "HINDI_NOT.append(labels['NOT'])\n",
        "print(labels)\n",
        "hindi_df_2020t.head()"
      ],
      "execution_count": 25,
      "outputs": [
        {
          "output_type": "stream",
          "name": "stdout",
          "text": [
            "(663, 4)\n",
            "Index(['tweet_id', 'text', 'task1', 'ID'], dtype='object')\n",
            "Counter({'NOT': 466, 'HOF': 197})\n"
          ]
        },
        {
          "output_type": "execute_result",
          "data": {
            "text/html": [
              "<div>\n",
              "<style scoped>\n",
              "    .dataframe tbody tr th:only-of-type {\n",
              "        vertical-align: middle;\n",
              "    }\n",
              "\n",
              "    .dataframe tbody tr th {\n",
              "        vertical-align: top;\n",
              "    }\n",
              "\n",
              "    .dataframe thead th {\n",
              "        text-align: right;\n",
              "    }\n",
              "</style>\n",
              "<table border=\"1\" class=\"dataframe\">\n",
              "  <thead>\n",
              "    <tr style=\"text-align: right;\">\n",
              "      <th></th>\n",
              "      <th>tweet_id</th>\n",
              "      <th>text</th>\n",
              "      <th>task1</th>\n",
              "      <th>ID</th>\n",
              "    </tr>\n",
              "  </thead>\n",
              "  <tbody>\n",
              "    <tr>\n",
              "      <th>0</th>\n",
              "      <td>1127781647783301120</td>\n",
              "      <td>@Kinjal_Dubey_ इसके लिए तैयारी हो रखी है\\nआपको...</td>\n",
              "      <td>HOF</td>\n",
              "      <td>hasoc_2020_hi_1938</td>\n",
              "    </tr>\n",
              "    <tr>\n",
              "      <th>1</th>\n",
              "      <td>1127492853171535872</td>\n",
              "      <td>RT @pratimamishra04: दिल्ली के मुख्यमंत्री @Ar...</td>\n",
              "      <td>NOT</td>\n",
              "      <td>hasoc_2020_hi_1201</td>\n",
              "    </tr>\n",
              "    <tr>\n",
              "      <th>2</th>\n",
              "      <td>1123638375896903681</td>\n",
              "      <td>RT @nishantdabre2: आज एक तरफ खुशी है, तो एक तर...</td>\n",
              "      <td>NOT</td>\n",
              "      <td>hasoc_2020_hi_1628</td>\n",
              "    </tr>\n",
              "    <tr>\n",
              "      <th>3</th>\n",
              "      <td>1127496460310683648</td>\n",
              "      <td>@BJP4India @HardeepSPuri जिस कुनबे के लोग :-\\n...</td>\n",
              "      <td>NOT</td>\n",
              "      <td>hasoc_2020_hi_3257</td>\n",
              "    </tr>\n",
              "    <tr>\n",
              "      <th>4</th>\n",
              "      <td>1127667277535399937</td>\n",
              "      <td>@manakgupta बादल....😂😂😂</td>\n",
              "      <td>NOT</td>\n",
              "      <td>hasoc_2020_hi_4133</td>\n",
              "    </tr>\n",
              "  </tbody>\n",
              "</table>\n",
              "</div>"
            ],
            "text/plain": [
              "              tweet_id  ...                  ID\n",
              "0  1127781647783301120  ...  hasoc_2020_hi_1938\n",
              "1  1127492853171535872  ...  hasoc_2020_hi_1201\n",
              "2  1123638375896903681  ...  hasoc_2020_hi_1628\n",
              "3  1127496460310683648  ...  hasoc_2020_hi_3257\n",
              "4  1127667277535399937  ...  hasoc_2020_hi_4133\n",
              "\n",
              "[5 rows x 4 columns]"
            ]
          },
          "metadata": {},
          "execution_count": 25
        }
      ]
    },
    {
      "cell_type": "code",
      "metadata": {
        "colab": {
          "base_uri": "https://localhost:8080/",
          "height": 415
        },
        "id": "qdyLEHXMjHyZ",
        "outputId": "58f378fc-e97c-4f43-b87c-36ef63fc453a"
      },
      "source": [
        "barWidth = 0.25\n",
        "br1 = np.arange(len(HINDI_HOF))\n",
        "br2 = [x + barWidth for x in br1]\n",
        "plt.bar(br1, HINDI_HOF, width=barWidth, label='HOF')\n",
        "plt.bar(br2, HINDI_NOT, width=barWidth, label='NOT')\n",
        "plt.legend()\n",
        "plt.xlabel('Hindi Dataset')\n",
        "plt.ylabel('Count')\n",
        "plt.xticks([r + barWidth for r in range(len(br1))],\n",
        "        ['train 2019', 'train 2020', 'test 2019', 'test 2020'])"
      ],
      "execution_count": 26,
      "outputs": [
        {
          "output_type": "execute_result",
          "data": {
            "text/plain": [
              "([<matplotlib.axis.XTick at 0x7ff1c36b61d0>,\n",
              "  <matplotlib.axis.XTick at 0x7ff1c36b6190>,\n",
              "  <matplotlib.axis.XTick at 0x7ff1c37f0d50>,\n",
              "  <matplotlib.axis.XTick at 0x7ff1c3672ed0>],\n",
              " [Text(0, 0, 'train 2019'),\n",
              "  Text(0, 0, 'train 2020'),\n",
              "  Text(0, 0, 'test 2019'),\n",
              "  Text(0, 0, 'test 2020')])"
            ]
          },
          "metadata": {},
          "execution_count": 26
        },
        {
          "output_type": "display_data",
          "data": {
            "image/png": "[encoded data removed]",
            "text/plain": [
              "<Figure size 432x288 with 1 Axes>"
            ]
          },
          "metadata": {
            "needs_background": "light"
          }
        }
      ]
    },
    {
      "cell_type": "markdown",
      "metadata": {
        "id": "IyljbtiPkyKB"
      },
      "source": [
        "COLLECTIVE DATASET ANALYSIS"
      ]
    },
    {
      "cell_type": "code",
      "metadata": {
        "id": "jOYTAnFKjJ2s"
      },
      "source": [
        "total_hof = [np.sum(ENGLISH_HOF), np.sum(GERMAN_HOF), np.sum(SPANISH_HOF), np.sum(HINDI_HOF)]\n",
        "total_not = [np.sum(ENGLISH_NOT), np.sum(GERMAN_NOT), np.sum(SPANISH_NOT), np.sum(HINDI_NOT)]"
      ],
      "execution_count": 153,
      "outputs": []
    },
    {
      "cell_type": "code",
      "metadata": {
        "colab": {
          "base_uri": "https://localhost:8080/",
          "height": 499
        },
        "id": "8PueQWqemx8j",
        "outputId": "813d9c7d-bd17-46a8-a79a-d656c09c6302"
      },
      "source": [
        "labels = ['English', 'German', 'Spanish', 'Hindi']\n",
        "fig, ax = plt.subplots(figsize=(10, 8), subplot_kw=dict(aspect=\"equal\"))\n",
        "\n",
        "def func(pct, allvals):\n",
        "    absolute = int(round(pct/100.*np.sum(allvals)))\n",
        "    return \"{:.1f}%\\n({:d})\".format(pct, absolute)\n",
        "\n",
        "wedges, texts, autotexts = ax.pie(total_hof, autopct=lambda pct: func(pct, total_hof),textprops=dict(color=\"w\"), labels=labels)\n",
        "ax.legend(wedges, labels,\n",
        "          title=\"Language\",\n",
        "          loc=\"center left\",\n",
        "          bbox_to_anchor=(1, 0, 0.5, 1))\n",
        "plt.setp(autotexts, size=15, weight=\"bold\")\n",
        "ax.set_title(\"Hate Tweets\")"
      ],
      "execution_count": 154,
      "outputs": [
        {
          "output_type": "execute_result",
          "data": {
            "text/plain": [
              "Text(0.5, 1.0, 'Hate Tweets')"
            ]
          },
          "metadata": {},
          "execution_count": 154
        },
        {
          "output_type": "display_data",
          "data": {
            "image/png": "[encoded data removed]",
            "text/plain": [
              "<Figure size 720x576 with 1 Axes>"
            ]
          },
          "metadata": {}
        }
      ]
    },
    {
      "cell_type": "code",
      "metadata": {
        "colab": {
          "base_uri": "https://localhost:8080/",
          "height": 499
        },
        "id": "nmbIbWwFnMpF",
        "outputId": "69a9cc1a-2c21-4bc6-fdb6-7e8d1dcf525a"
      },
      "source": [
        "fig, ax = plt.subplots(figsize=(10, 8), subplot_kw=dict(aspect=\"equal\"))\n",
        "\n",
        "def func(pct, allvals):\n",
        "    absolute = int(round(pct/100.*np.sum(allvals)))\n",
        "    return \"{:.1f}%\\n({:d})\".format(pct, absolute)\n",
        "\n",
        "wedges, texts, autotexts = ax.pie(total_not, autopct=lambda pct: func(pct, total_not),textprops=dict(color=\"w\"), labels=labels)\n",
        "ax.legend(wedges, labels,\n",
        "          title=\"Language\",\n",
        "          loc=\"center left\",\n",
        "          bbox_to_anchor=(1, 0, 0.5, 1))\n",
        "plt.setp(autotexts, size=15, weight=\"bold\")\n",
        "ax.set_title(\"Not Hate Tweets\")"
      ],
      "execution_count": 155,
      "outputs": [
        {
          "output_type": "execute_result",
          "data": {
            "text/plain": [
              "Text(0.5, 1.0, 'Not Hate Tweets')"
            ]
          },
          "metadata": {},
          "execution_count": 155
        },
        {
          "output_type": "display_data",
          "data": {
            "image/png": "[encoded data removed]",
            "text/plain": [
              "<Figure size 720x576 with 1 Axes>"
            ]
          },
          "metadata": {}
        }
      ]
    },
    {
      "cell_type": "code",
      "metadata": {
        "colab": {
          "base_uri": "https://localhost:8080/",
          "height": 499
        },
        "id": "3I9wi4jUsHPG",
        "outputId": "17f0e18c-fe77-45a8-e447-0fa1d341c2cc"
      },
      "source": [
        "data = [a + b for a, b in zip(total_hof, total_not)]\n",
        "fig, ax = plt.subplots(figsize=(10, 8), subplot_kw=dict(aspect=\"equal\"))\n",
        "\n",
        "def func(pct, allvals):\n",
        "    absolute = int(round(pct/100.*np.sum(allvals)))\n",
        "    return \"{:.1f}%\\n({:d})\".format(pct, absolute)\n",
        "\n",
        "wedges, texts, autotexts = ax.pie(data, autopct=lambda pct: func(pct, data),textprops=dict(color=\"w\"), labels=labels)\n",
        "ax.legend(wedges, labels,\n",
        "          title=\"Language\",\n",
        "          loc=\"center left\",\n",
        "          bbox_to_anchor=(1, 0, 0.5, 1))\n",
        "plt.setp(autotexts, size=15, weight=\"bold\")\n",
        "ax.set_title(\"Language Distribution of Datasets\")"
      ],
      "execution_count": 156,
      "outputs": [
        {
          "output_type": "execute_result",
          "data": {
            "text/plain": [
              "Text(0.5, 1.0, 'Language Distribution of Datasets')"
            ]
          },
          "metadata": {},
          "execution_count": 156
        },
        {
          "output_type": "display_data",
          "data": {
            "image/png": "[encoded data removed]",
            "text/plain": [
              "<Figure size 720x576 with 1 Axes>"
            ]
          },
          "metadata": {}
        }
      ]
    },
    {
      "cell_type": "markdown",
      "metadata": {
        "id": "a0pnHzf-tGc8"
      },
      "source": [
        "CLEANING OF DATA - Remove STOP WORDS"
      ]
    },
    {
      "cell_type": "code",
      "metadata": {
        "id": "6N5-c_QFsZaY"
      },
      "source": [
        "def modify_tweets(data):\n",
        "  # print(data.columns)\n",
        "  modified_tweets = []\n",
        "  for text in data:\n",
        "\n",
        "      #To remove @AnyName from the tweets\n",
        "      text=re.sub(r\"@[a-zA-z0-9]*\\s+\",\"\",text) \n",
        "      text=re.sub(r\"@[a-zA-z0-9]*:\",\"\",text)\n",
        "      text=re.sub(r\"@[a-zA-z0-9]*\",\"\",text)  \n",
        "      text=re.sub(r\"@[a-zA-z0-9]*$\",\"\",text)\n",
        "      \n",
        "      #To remove links\n",
        "      text=re.sub(r\"^https://t.co/[a-zA-Z0-9]*\\s+\",\" \",text)    \n",
        "      text=re.sub(r\"\\s+https://t.co/[a-zA-Z0-9]*\\s+\",\" \",text)  \n",
        "      text=re.sub(r\"\\s+https://t.co/[a-zA-Z0-9]*$\",\" \",text)    \n",
        "      \n",
        "      #To Convert all the tweets to low.\n",
        "      # text=text.lower() \n",
        "      \n",
        "      #To remove the shorthands\n",
        "      text=re.sub(r\"that's\",\"that is \",text)\n",
        "      text=re.sub(r\"there's\",\"there is \",text)\n",
        "      text=re.sub(r\"what's\",\"what is \",text)\n",
        "      text=re.sub(r\"where's\",\"where is \",text)\n",
        "      text=re.sub(r\"it's\",\"it is \",text)\n",
        "      text=re.sub(r\"who's\",\"who is \",text)\n",
        "      text=re.sub(r\"i'm\",\"i am \",text)\n",
        "      text=re.sub(r\"she's\",\"she is \",text)\n",
        "      text=re.sub(r\"he's\",\"he is \",text)\n",
        "      text=re.sub(r\"they're\",\"they are \",text)\n",
        "      text=re.sub(r\"who're\",\"who are \",text)\n",
        "      text=re.sub(r\"ain't\",\"am not \",text)\n",
        "      text=re.sub(r\"wouldn't\",\"would not \",text)\n",
        "      text=re.sub(r\"shouldn't\",\"should not \",text)\n",
        "      text=re.sub(r\"can't\",\"cannot \",text)\n",
        "      text=re.sub(r\"couldn't\",\"could not \",text)\n",
        "      text=re.sub(r\"won't\",\"will not \",text)\n",
        "      \n",
        "      #To remove the single character\n",
        "      text=re.sub(r\"\\s+[a-z]\\s+\",\" \",text)\n",
        "      text=re.sub(r\"\\s+[a-z]$\",\" \",text)\n",
        "      text=re.sub(r\"^[a-z]\\s+\",\" \",text)\n",
        "      \n",
        "      #To remove non-word character\n",
        "      text=re.sub(r\"^[「人間はいわば感情に左右される生き物である」]*\\s+\",\" \",text)\n",
        "      text=re.sub(r\"\\s+[「人間はいわば感情に左右される生き物である」]*\\s+\",\" \",text)\n",
        "      text=re.sub(r\"\\s+[「人間はいわば感情に左右される生き物である」]*$\",\" \",text)\n",
        "      text=re.sub(r\"[!@$,%^&*\\\"><]*\",\"\",text)\n",
        "      text=re.sub(r\"\\.\",\" \",text)\n",
        "      \n",
        "      #To remove duplicate spaces\n",
        "      text=re.sub(r\"\\s+\",\" \",text)\n",
        "      \n",
        "      #To remove digits \n",
        "      text=re.sub(r\"\\d\",\" \",text)\n",
        "      \n",
        "      #To remove non-word characters\n",
        "      text=re.sub(r\"\\W\",\" \",text)\n",
        "      \n",
        "      modified_tweets.append(text)\n",
        "  return modified_tweets"
      ],
      "execution_count": 31,
      "outputs": []
    },
    {
      "cell_type": "code",
      "metadata": {
        "colab": {
          "base_uri": "https://localhost:8080/"
        },
        "id": "UitFLOWxuaXM",
        "outputId": "e7def3b0-831d-4928-efe7-099fbbc08723"
      },
      "source": [
        "print(english_df_2019.head(1)['text'])\n",
        "english_df_2019['text'] = modify_tweets(english_df_2019['text'])\n",
        "print(english_df_2019.head(1)['text'])\n",
        "\n",
        "print(english_df_2019t.head(1)['text'])\n",
        "english_df_2019t['text'] = modify_tweets(english_df_2019t['text'])\n",
        "print(english_df_2019t.head(1)['text'])\n",
        "\n",
        "print(english_df_2020.head(1)['text'])\n",
        "english_df_2020['text'] = modify_tweets(english_df_2020['text'])\n",
        "print(english_df_2020.head(1)['text'])\n",
        "\n",
        "print(english_df_2020t.head(1)['text'])\n",
        "english_df_2020t['text'] = modify_tweets(english_df_2020t['text'])\n",
        "print(english_df_2020t.head(1)['text'])"
      ],
      "execution_count": 32,
      "outputs": [
        {
          "output_type": "stream",
          "name": "stdout",
          "text": [
            "0    #DhoniKeepsTheGlove | WATCH: Sports Minister K...\n",
            "Name: text, dtype: object\n",
            "0     DhoniKeepsTheGlove   WATCH  Sports Minister K...\n",
            "Name: text, dtype: object\n",
            "0    West Bengal Doctor Crisis: Protesting doctors ...\n",
            "Name: text, dtype: object\n",
            "0    West Bengal Doctor Crisis  Protesting doctors ...\n",
            "Name: text, dtype: object\n",
            "0    hate wen females hit ah nigga with tht bro ___...\n",
            "Name: text, dtype: object\n",
            "0    hate wen females hit ah nigga with tht bro ___...\n",
            "Name: text, dtype: object\n",
            "0    RT @delmiyaa: Samini resetting the show and mo...\n",
            "Name: text, dtype: object\n",
            "0    RT Samini resetting the show and moving things...\n",
            "Name: text, dtype: object\n"
          ]
        }
      ]
    },
    {
      "cell_type": "code",
      "metadata": {
        "colab": {
          "base_uri": "https://localhost:8080/"
        },
        "id": "auKn-9nVvt1j",
        "outputId": "68a333f7-3774-416c-80f0-a1d47aa61a2b"
      },
      "source": [
        "print(german_df_2019.head(1)['text'])\n",
        "german_df_2019['text'] = modify_tweets(german_df_2019['text'])\n",
        "print(german_df_2019.head(1)['text'])\n",
        "\n",
        "print(german_df_2019t.head(1)['text'])\n",
        "german_df_2019t['text'] = modify_tweets(german_df_2019t['text'])\n",
        "print(german_df_2019t.head(1)['text'])\n",
        "\n",
        "print(german_df_2020.head(1)['text'])\n",
        "german_df_2020['text'] = modify_tweets(german_df_2020['text'])\n",
        "print(german_df_2020.head(1)['text'])\n",
        "\n",
        "print(german_df_2020t.head(1)['text'])\n",
        "german_df_2020t['text'] = modify_tweets(german_df_2020t['text'])\n",
        "print(german_df_2020t.head(1)['text'])"
      ],
      "execution_count": 33,
      "outputs": [
        {
          "output_type": "stream",
          "name": "stdout",
          "text": [
            "0    Frank Rennicke – Ich bin stolz https://t.co/Cm...\n",
            "Name: text, dtype: object\n",
            "0    Frank Rennicke   Ich bin stolz \n",
            "Name: text, dtype: object\n",
            "0    @derCarsti Boykottieren hört sich besser an. 💙💙\n",
            "Name: text, dtype: object\n",
            "0    Boykottieren hört sich besser an   \n",
            "Name: text, dtype: object\n",
            "0    Deutsche rothaarige porno reife deutsche fraue...\n",
            "Name: text, dtype: object\n",
            "0    Deutsche rothaarige porno reife deutsche fraue...\n",
            "Name: text, dtype: object\n",
            "0    RT @delmiyaa: Samini resetting the show and mo...\n",
            "Name: text, dtype: object\n",
            "0    RT Samini resetting the show and moving things...\n",
            "Name: text, dtype: object\n"
          ]
        }
      ]
    },
    {
      "cell_type": "code",
      "metadata": {
        "colab": {
          "base_uri": "https://localhost:8080/"
        },
        "id": "yRMIKlWG3pqK",
        "outputId": "fed5f5f4-3acc-45b9-bf48-396b32921349"
      },
      "source": [
        "print(spanish_df_2019.head(1)['text'])\n",
        "spanish_df_2019['text'] = modify_tweets(spanish_df_2019['text'])\n",
        "print(spanish_df_2019.head(1)['text'])\n",
        "\n",
        "print(spanish_df_2019t.head(1)['text'])\n",
        "spanish_df_2019t['text'] = modify_tweets(spanish_df_2019t['text'])\n",
        "print(spanish_df_2019t.head(1)['text'])"
      ],
      "execution_count": 34,
      "outputs": [
        {
          "output_type": "stream",
          "name": "stdout",
          "text": [
            "0    Easyjet quiere duplicar el número de mujeres p...\n",
            "Name: text, dtype: object\n",
            "0    Easyjet quiere duplicar el número de mujeres p...\n",
            "Name: text, dtype: object\n",
            "0    Me estoy comiendo la picada árabe más rica de ...\n",
            "Name: text, dtype: object\n",
            "0    Me estoy comiendo la picada árabe más rica de ...\n",
            "Name: text, dtype: object\n"
          ]
        }
      ]
    },
    {
      "cell_type": "code",
      "metadata": {
        "colab": {
          "base_uri": "https://localhost:8080/"
        },
        "id": "OL58CKBqxNpL",
        "outputId": "a87db99c-8181-4a78-de27-9a487eb31e0d"
      },
      "source": [
        "def modify_hindi_tweets(data):\n",
        "  # print(data.columns)\n",
        "  modified_tweets = []\n",
        "  for text in data:\n",
        "\n",
        "      #To remove @AnyName from the tweets\n",
        "      text=re.sub(r\"@[a-zA-z0-9]*\\s+\",\"\",text) \n",
        "      text=re.sub(r\"@[a-zA-z0-9]*:\",\"\",text)\n",
        "      text=re.sub(r\"@[a-zA-z0-9]*\",\"\",text)  \n",
        "      text=re.sub(r\"@[a-zA-z0-9]*$\",\"\",text)\n",
        "      \n",
        "      #To remove links\n",
        "      text=re.sub(r\"^https://t.co/[a-zA-Z0-9]*\\s+\",\" \",text)    \n",
        "      text=re.sub(r\"\\s+https://t.co/[a-zA-Z0-9]*\\s+\",\" \",text)  \n",
        "      text=re.sub(r\"\\s+https://t.co/[a-zA-Z0-9]*$\",\" \",text) \n",
        "\n",
        "      #To remove duplicate spaces\n",
        "      text=re.sub(r\"\\s+\",\" \",text)\n",
        "      \n",
        "      #To remove digits \n",
        "      text=re.sub(r\"\\d\",\" \",text)\n",
        "      \n",
        "      #To remove non-word characters\n",
        "      text=re.sub(r\"\\#\",\" \",text)\n",
        "    \n",
        "      modified_tweets.append(text)\n",
        "  return modified_tweets\n",
        "\n",
        "print(hindi_df_2019.head(1)['text'])\n",
        "l = modify_hindi_tweets(hindi_df_2019['text'])\n",
        "print(l[0])\n",
        "hindi_df_2019['text'] = l\n",
        "print(hindi_df_2019.head(1)['text'])\n",
        "\n",
        "print(hindi_df_2019t.head(1)['text'])\n",
        "hindi_df_2019t['text'] = modify_hindi_tweets(hindi_df_2019t['text'])\n",
        "print(hindi_df_2019t.head(1)['text'])\n",
        "\n",
        "print(hindi_df_2020.head(1)['text'])\n",
        "hindi_df_2020['text'] = modify_hindi_tweets(hindi_df_2020['text'])\n",
        "print(hindi_df_2020.head(1)['text'])\n",
        "\n",
        "print(hindi_df_2020t.head(1)['text'])\n",
        "hindi_df_2020t['text'] = modify_hindi_tweets(hindi_df_2020t['text'])\n",
        "print(hindi_df_2020t.head(1)['text'])"
      ],
      "execution_count": 35,
      "outputs": [
        {
          "output_type": "stream",
          "name": "stdout",
          "text": [
            "0    बांग्लादेश की शानदार वापसी, भारत को 314 रन पर ...\n",
            "Name: text, dtype: object\n",
            "बांग्लादेश की शानदार वापसी, भारत को     रन पर रोका  INDvBAN  CWC  \n",
            "0    बांग्लादेश की शानदार वापसी, भारत को     रन पर ...\n",
            "Name: text, dtype: object\n",
            "0    @Kinjal_Dubey_ इसके लिए तैयारी हो रखी है\\nआपको...\n",
            "Name: text, dtype: object\n",
            "0    इसके लिए तैयारी हो रखी है आपको जान देने की जरू...\n",
            "Name: text, dtype: object\n",
            "0    1 आदमीं को मारने पर गोडसे आतंकी हो सके है तो\\n...\n",
            "Name: text, dtype: object\n",
            "0      आदमीं को मारने पर गोडसे आतंकी हो सके है तो  ...\n",
            "Name: text, dtype: object\n",
            "0    @Kinjal_Dubey_ इसके लिए तैयारी हो रखी है\\nआपको...\n",
            "Name: text, dtype: object\n",
            "0    इसके लिए तैयारी हो रखी है आपको जान देने की जरू...\n",
            "Name: text, dtype: object\n"
          ]
        }
      ]
    },
    {
      "cell_type": "markdown",
      "metadata": {
        "id": "kJsOtGiO6u_S"
      },
      "source": [
        "BERT BASED MODEL FOR ENGLISH"
      ]
    },
    {
      "cell_type": "code",
      "metadata": {
        "colab": {
          "base_uri": "https://localhost:8080/"
        },
        "id": "IDerpFAzMcwA",
        "outputId": "c4460717-6950-4150-a9b3-c50dc9c9704e"
      },
      "source": [
        "!pip install transformers"
      ],
      "execution_count": 36,
      "outputs": [
        {
          "output_type": "stream",
          "name": "stdout",
          "text": [
            "Collecting transformers\n",
            "  Downloading transformers-4.11.3-py3-none-any.whl (2.9 MB)\n",
            "\u001b[K     |████████████████████████████████| 2.9 MB 5.4 MB/s \n",
            "\u001b[?25hCollecting pyyaml>=5.1\n",
            "  Downloading PyYAML-6.0-cp37-cp37m-manylinux_2_5_x86_64.manylinux1_x86_64.manylinux_2_12_x86_64.manylinux2010_x86_64.whl (596 kB)\n",
            "\u001b[K     |████████████████████████████████| 596 kB 46.7 MB/s \n",
            "\u001b[?25hRequirement already satisfied: regex!=2019.12.17 in /usr/local/lib/python3.7/dist-packages (from transformers) (2019.12.20)\n",
            "Requirement already satisfied: requests in /usr/local/lib/python3.7/dist-packages (from transformers) (2.23.0)\n",
            "Requirement already satisfied: packaging>=20.0 in /usr/local/lib/python3.7/dist-packages (from transformers) (21.0)\n",
            "Requirement already satisfied: numpy>=1.17 in /usr/local/lib/python3.7/dist-packages (from transformers) (1.19.5)\n",
            "Collecting sacremoses\n",
            "  Downloading sacremoses-0.0.46-py3-none-any.whl (895 kB)\n",
            "\u001b[K     |████████████████████████████████| 895 kB 39.9 MB/s \n",
            "\u001b[?25hRequirement already satisfied: tqdm>=4.27 in /usr/local/lib/python3.7/dist-packages (from transformers) (4.62.3)\n",
            "Collecting huggingface-hub>=0.0.17\n",
            "  Downloading huggingface_hub-0.0.19-py3-none-any.whl (56 kB)\n",
            "\u001b[K     |████████████████████████████████| 56 kB 4.8 MB/s \n",
            "\u001b[?25hCollecting tokenizers<0.11,>=0.10.1\n",
            "  Downloading tokenizers-0.10.3-cp37-cp37m-manylinux_2_5_x86_64.manylinux1_x86_64.manylinux_2_12_x86_64.manylinux2010_x86_64.whl (3.3 MB)\n",
            "\u001b[K     |████████████████████████████████| 3.3 MB 33.8 MB/s \n",
            "\u001b[?25hRequirement already satisfied: filelock in /usr/local/lib/python3.7/dist-packages (from transformers) (3.3.0)\n",
            "Requirement already satisfied: importlib-metadata in /usr/local/lib/python3.7/dist-packages (from transformers) (4.8.1)\n",
            "Requirement already satisfied: typing-extensions in /usr/local/lib/python3.7/dist-packages (from huggingface-hub>=0.0.17->transformers) (3.7.4.3)\n",
            "Requirement already satisfied: pyparsing>=2.0.2 in /usr/local/lib/python3.7/dist-packages (from packaging>=20.0->transformers) (2.4.7)\n",
            "Requirement already satisfied: zipp>=0.5 in /usr/local/lib/python3.7/dist-packages (from importlib-metadata->transformers) (3.6.0)\n",
            "Requirement already satisfied: urllib3!=1.25.0,!=1.25.1,<1.26,>=1.21.1 in /usr/local/lib/python3.7/dist-packages (from requests->transformers) (1.24.3)\n",
            "Requirement already satisfied: idna<3,>=2.5 in /usr/local/lib/python3.7/dist-packages (from requests->transformers) (2.10)\n",
            "Requirement already satisfied: chardet<4,>=3.0.2 in /usr/local/lib/python3.7/dist-packages (from requests->transformers) (3.0.4)\n",
            "Requirement already satisfied: certifi>=2017.4.17 in /usr/local/lib/python3.7/dist-packages (from requests->transformers) (2021.5.30)\n",
            "Requirement already satisfied: six in /usr/local/lib/python3.7/dist-packages (from sacremoses->transformers) (1.15.0)\n",
            "Requirement already satisfied: joblib in /usr/local/lib/python3.7/dist-packages (from sacremoses->transformers) (1.0.1)\n",
            "Requirement already satisfied: click in /usr/local/lib/python3.7/dist-packages (from sacremoses->transformers) (7.1.2)\n",
            "Installing collected packages: pyyaml, tokenizers, sacremoses, huggingface-hub, transformers\n",
            "  Attempting uninstall: pyyaml\n",
            "    Found existing installation: PyYAML 3.13\n",
            "    Uninstalling PyYAML-3.13:\n",
            "      Successfully uninstalled PyYAML-3.13\n",
            "Successfully installed huggingface-hub-0.0.19 pyyaml-6.0 sacremoses-0.0.46 tokenizers-0.10.3 transformers-4.11.3\n"
          ]
        }
      ]
    },
    {
      "cell_type": "code",
      "metadata": {
        "id": "E_3cDsBvK_HH"
      },
      "source": [
        "train_data = english_df_2019.copy()\n",
        "test_data = english_df_2019t.copy()\n",
        "labels = {'HOF': 1, 'NOT': 0}"
      ],
      "execution_count": 37,
      "outputs": []
    },
    {
      "cell_type": "code",
      "metadata": {
        "id": "dwVob3XRW3yV"
      },
      "source": [
        "train_data['task_1'] = train_data['task_1'].apply(lambda x: labels[x])\n",
        "test_data['task_1'] = test_data['task_1'].apply(lambda x: labels[x])"
      ],
      "execution_count": 38,
      "outputs": []
    },
    {
      "cell_type": "code",
      "metadata": {
        "id": "Q9s4lW_c6uML",
        "colab": {
          "base_uri": "https://localhost:8080/",
          "height": 162,
          "referenced_widgets": [
            "f55d6dcb13f1481ba9d08221695cc073",
            "49e6d1623d2043f5b535a156b5d48864",
            "25618e169b3f417d9b107c66b3a63b71",
            "52ca0bc8ef7d456cb32ebf6f98dc0b31",
            "e666087e50724b00b93c2468fa0b044b",
            "916f6d2d59ac43b2932d5f0d1b975ff0",
            "693e7108da6e42d788631063a44bb08b",
            "efed27b0e48845b8bc7f21dc68433582",
            "8d168cade48e45e1b0b4148f044f5f1e",
            "214d96e2f0224ebe834c107e6bcb2dd1",
            "12e28ba7a66b400385f04278a5a2ba47",
            "9770d08dba1240fd9a12ccc67ea437a2",
            "8df9ec74a25043859e99e2939bf63bb9",
            "52663d2b6e304180b79639463a8b4435",
            "66bbf9f87c8f4989b3a8100ca447b2ae",
            "70731e77d6924b7dbc1b7d54e5cb55e5",
            "ed5f776dea4b4b1e90b15022a7b86ac3",
            "1545b11a1c064285b8304952e573666e",
            "278e07d1eb8f486287efbe6d55d89338",
            "a3fa283cf8334ddca0ebac8dcbcb6451",
            "f59f00410a314fecb207203175ea8a12",
            "a29e5961f0a247da93e19bda6bbe0ec5",
            "1000b30550fc41608e696b81b9cff718",
            "b3ef2debf9624a53b2c540a2a4d210d9",
            "d9321f4c0f3c4161b9e0fae4c844fa88",
            "e9ef9fbfc9304b78a57ac560882e02ab",
            "849710d55ba747daab08d2f484a9c189",
            "67923af6391548bfb48f8ec1e3130ec1",
            "48a95401fecf41c7ae98f68368869b23",
            "71b1389692e04407b51507efe353eeeb",
            "c780f12e11934a6880c712bb41c81cfa",
            "b60311063a0d458f903dca395ad7f9d1",
            "9a2cb64c34224c00a07d6b6197ee1ce6",
            "fec9d414b5594e41baac4603b64a3f34",
            "85e00dddfbc544759fa8b8c04ce930da",
            "9ceaa58e6c2e408a8dd54702acfef06f",
            "cb0ee607c76d41ae89e19d9b20a0ab35",
            "1ac6e1ac841141d09ce57ddb67d74d5d",
            "ec62a0b01450439492fb3b17006ff4db",
            "e08ed3e33ba64685906d57f997d7d1b9",
            "1a41339d9fbc457ca948bbd57f30c2e8",
            "bdb72a4949764e2db2b6be4e90e57a8e",
            "3dd37ce33b484d68b8e93b4d4be1832e",
            "2a303891b9724474ae8ec4953d667720"
          ]
        },
        "outputId": "a7f12c61-6d6d-45ae-cfd9-faaab19c7dbd"
      },
      "source": [
        "from transformers import BertTokenizer\n",
        "\n",
        "\n",
        "tokenizer = BertTokenizer.from_pretrained('bert-base-uncased')\n",
        "\n",
        "max_length = 0\n",
        "for sentence in train_data['text']:\n",
        "    #print(sentence)\n",
        "    length = len(tokenizer.tokenize(sentence))\n",
        "    if length > max_length:\n",
        "        max_length  = length\n",
        "print(\"max token length in train_data is: \",max_length)"
      ],
      "execution_count": 39,
      "outputs": [
        {
          "output_type": "display_data",
          "data": {
            "application/vnd.jupyter.widget-view+json": {
              "model_id": "f55d6dcb13f1481ba9d08221695cc073",
              "version_minor": 0,
              "version_major": 2
            },
            "text/plain": [
              "Downloading:   0%|          | 0.00/226k [00:00<?, ?B/s]"
            ]
          },
          "metadata": {}
        },
        {
          "output_type": "display_data",
          "data": {
            "application/vnd.jupyter.widget-view+json": {
              "model_id": "9770d08dba1240fd9a12ccc67ea437a2",
              "version_minor": 0,
              "version_major": 2
            },
            "text/plain": [
              "Downloading:   0%|          | 0.00/28.0 [00:00<?, ?B/s]"
            ]
          },
          "metadata": {}
        },
        {
          "output_type": "display_data",
          "data": {
            "application/vnd.jupyter.widget-view+json": {
              "model_id": "1000b30550fc41608e696b81b9cff718",
              "version_minor": 0,
              "version_major": 2
            },
            "text/plain": [
              "Downloading:   0%|          | 0.00/455k [00:00<?, ?B/s]"
            ]
          },
          "metadata": {}
        },
        {
          "output_type": "display_data",
          "data": {
            "application/vnd.jupyter.widget-view+json": {
              "model_id": "fec9d414b5594e41baac4603b64a3f34",
              "version_minor": 0,
              "version_major": 2
            },
            "text/plain": [
              "Downloading:   0%|          | 0.00/570 [00:00<?, ?B/s]"
            ]
          },
          "metadata": {}
        },
        {
          "output_type": "stream",
          "name": "stdout",
          "text": [
            "max token length in train_data is:  85\n"
          ]
        }
      ]
    },
    {
      "cell_type": "code",
      "metadata": {
        "colab": {
          "base_uri": "https://localhost:8080/"
        },
        "id": "0QAjCwSuLNDS",
        "outputId": "3b9545c2-68f5-4e7c-fcf4-cfba1908acd0"
      },
      "source": [
        "def encoder_generator(documents):\n",
        "    \n",
        "    doc_index = []\n",
        "    input_ids = []\n",
        "    attention_masks =[]\n",
        "\n",
        "    for index,doc in enumerate(documents):\n",
        "        \n",
        "        doc_index.append(index)\n",
        "        \n",
        "        encoded_dict = tokenizer.encode_plus(doc,\n",
        "                                             add_special_tokens=True,\n",
        "                                             max_length=128,\n",
        "                                             pad_to_max_length=True,\n",
        "                                             truncation = True,\n",
        "                                             return_attention_mask=True,\n",
        "                                             return_tensors='pt')\n",
        "        input_ids.append(encoded_dict['input_ids'])\n",
        "\n",
        "        attention_masks.append(encoded_dict['attention_mask'])\n",
        "\n",
        "    input_ids = torch.cat(input_ids,dim=0)\n",
        "    attention_masks = torch.cat(attention_masks,dim=0)\n",
        "    sent_index = torch.tensor(doc_index)\n",
        "\n",
        "    return sent_index,input_ids,attention_masks\n",
        "\n",
        "sent_index,input_ids,attention_masks = encoder_generator(list(train_data['text']))\n",
        "test_sent_index,test_input_ids,test_attention_masks = encoder_generator(list(test_data['text']))\n",
        "print('Original: ', train_data['text'][0])\n",
        "print('Token IDs:', input_ids[0])"
      ],
      "execution_count": 40,
      "outputs": [
        {
          "output_type": "stream",
          "name": "stderr",
          "text": [
            "/usr/local/lib/python3.7/dist-packages/transformers/tokenization_utils_base.py:2217: FutureWarning: The `pad_to_max_length` argument is deprecated and will be removed in a future version, use `padding=True` or `padding='longest'` to pad to the longest sequence in the batch, or use `padding='max_length'` to pad to a max length. In this case, you can give a specific length with `max_length` (e.g. `max_length=45`) or leave max_length to None to pad to the maximal input size of the model (e.g. 512 for Bert).\n",
            "  FutureWarning,\n"
          ]
        },
        {
          "output_type": "stream",
          "name": "stdout",
          "text": [
            "Original:   DhoniKeepsTheGlove   WATCH  Sports Minister Kiren Rijiju issues statement backing MS Dhoni over  Balidaan Badge  tells BCCI to take up the matter with ICC and keep government in the know as nation s pride is involved \n",
            "Token IDs: tensor([  101, 28144, 10698, 20553,  4523, 10760, 23296, 21818,  3422,  2998,\n",
            "         2704, 11382,  7389, 15544,  4478,  9103,  3314,  4861,  5150,  5796,\n",
            "        28144, 10698,  2058, 20222,  2850,  2319, 10780,  4136,  4647,  6895,\n",
            "         2000,  2202,  2039,  1996,  3043,  2007, 16461,  1998,  2562,  2231,\n",
            "         1999,  1996,  2113,  2004,  3842,  1055,  6620,  2003,  2920,   102,\n",
            "            0,     0,     0,     0,     0,     0,     0,     0,     0,     0,\n",
            "            0,     0,     0,     0,     0,     0,     0,     0,     0,     0,\n",
            "            0,     0,     0,     0,     0,     0,     0,     0,     0,     0,\n",
            "            0,     0,     0,     0,     0,     0,     0,     0,     0,     0,\n",
            "            0,     0,     0,     0,     0,     0,     0,     0,     0,     0,\n",
            "            0,     0,     0,     0,     0,     0,     0,     0,     0,     0,\n",
            "            0,     0,     0,     0,     0,     0,     0,     0,     0,     0,\n",
            "            0,     0,     0,     0,     0,     0,     0,     0])\n"
          ]
        }
      ]
    },
    {
      "cell_type": "code",
      "metadata": {
        "colab": {
          "base_uri": "https://localhost:8080/"
        },
        "id": "4GBpW5JTURwr",
        "outputId": "4b311df7-5a73-4097-dc00-81c5f880fc49"
      },
      "source": [
        "from torch.utils.data import TensorDataset,random_split\n",
        "\n",
        "dataset = TensorDataset(input_ids,attention_masks,torch.tensor(train_data['task_1']))\n",
        "test_dataset = TensorDataset(test_sent_index,test_input_ids,test_attention_masks,torch.tensor(test_data['task_1']))\n",
        "\n",
        "train_size = int(0.8*len(dataset))\n",
        "\n",
        "val_size = len(dataset)-train_size\n",
        "\n",
        "train_dataset,val_dataset = random_split(dataset,[train_size,val_size])\n",
        "\n",
        "print('train data samples is {}'.format(len(train_dataset)))\n",
        "print(\"valid data samples is {}\".format(len(val_dataset)))\n",
        "print(\"test data samples is {}\".format(len(test_dataset)))"
      ],
      "execution_count": 41,
      "outputs": [
        {
          "output_type": "stream",
          "name": "stdout",
          "text": [
            "train data samples is 4681\n",
            "valid data samples is 1171\n",
            "test data samples is 1153\n"
          ]
        }
      ]
    },
    {
      "cell_type": "code",
      "metadata": {
        "id": "Jo_Tlyy1YFBJ"
      },
      "source": [
        "\n",
        "from torch.utils.data import DataLoader,RandomSampler,SequentialSampler\n",
        "\n",
        "bs=8\n",
        "\n",
        "train_data_loader = DataLoader(train_dataset,\n",
        "                              sampler=RandomSampler(train_dataset),\n",
        "                              batch_size=bs)\n",
        "valid_data_loader = DataLoader(val_dataset,\n",
        "                              sampler=SequentialSampler(val_dataset),\n",
        "                              batch_size=bs)\n",
        "test_data_loader = DataLoader(test_dataset,\n",
        "                            sampler=SequentialSampler(test_dataset),\n",
        "                            batch_size=bs)"
      ],
      "execution_count": 42,
      "outputs": []
    },
    {
      "cell_type": "code",
      "metadata": {
        "colab": {
          "base_uri": "https://localhost:8080/",
          "height": 1000,
          "referenced_widgets": [
            "76b90ab9dff54b0cab72e34a694b46b8",
            "2119f6f8db4b4e9999aa8e7fb8463e14",
            "73b22abd3b2943b781e1d1a71a1795a5",
            "233b2d2a780b440082d6a17329a79f98",
            "5363c7cf84404bbf900ed24f42dad739",
            "665fe6bf9c9c4da7bd724dd868e86dc4",
            "32f34743546c4c0d9d49118cbb7bc04f",
            "07974030dce9462bb54031db3c4dd28a",
            "a76d273fda0a4a54b5299737fa2a1d45",
            "ed330dadf43b4762971e337a93a09719",
            "1efddca9e78846589077ade4b7103044"
          ]
        },
        "id": "-1RWKobQYZhx",
        "outputId": "28ce109b-4af5-4503-e101-e40a938f3e28"
      },
      "source": [
        "from transformers import BertForSequenceClassification, AdamW\n",
        "\n",
        "\n",
        "model = BertForSequenceClassification.from_pretrained('bert-base-uncased',\n",
        "                                                     num_labels=2,\n",
        "                                                     output_attentions=False,\n",
        "                                                     output_hidden_states=False,\n",
        "                                                     )\n",
        "model.cuda()"
      ],
      "execution_count": 43,
      "outputs": [
        {
          "output_type": "display_data",
          "data": {
            "application/vnd.jupyter.widget-view+json": {
              "model_id": "76b90ab9dff54b0cab72e34a694b46b8",
              "version_minor": 0,
              "version_major": 2
            },
            "text/plain": [
              "Downloading:   0%|          | 0.00/420M [00:00<?, ?B/s]"
            ]
          },
          "metadata": {}
        },
        {
          "output_type": "stream",
          "name": "stderr",
          "text": [
            "Some weights of the model checkpoint at bert-base-uncased were not used when initializing BertForSequenceClassification: ['cls.predictions.transform.dense.bias', 'cls.seq_relationship.bias', 'cls.predictions.decoder.weight', 'cls.predictions.transform.dense.weight', 'cls.predictions.transform.LayerNorm.bias', 'cls.seq_relationship.weight', 'cls.predictions.transform.LayerNorm.weight', 'cls.predictions.bias']\n",
            "- This IS expected if you are initializing BertForSequenceClassification from the checkpoint of a model trained on another task or with another architecture (e.g. initializing a BertForSequenceClassification model from a BertForPreTraining model).\n",
            "- This IS NOT expected if you are initializing BertForSequenceClassification from the checkpoint of a model that you expect to be exactly identical (initializing a BertForSequenceClassification model from a BertForSequenceClassification model).\n",
            "Some weights of BertForSequenceClassification were not initialized from the model checkpoint at bert-base-uncased and are newly initialized: ['classifier.bias', 'classifier.weight']\n",
            "You should probably TRAIN this model on a down-stream task to be able to use it for predictions and inference.\n"
          ]
        },
        {
          "output_type": "execute_result",
          "data": {
            "text/plain": [
              "BertForSequenceClassification(\n",
              "  (bert): BertModel(\n",
              "    (embeddings): BertEmbeddings(\n",
              "      (word_embeddings): Embedding(30522, 768, padding_idx=0)\n",
              "      (position_embeddings): Embedding(512, 768)\n",
              "      (token_type_embeddings): Embedding(2, 768)\n",
              "      (LayerNorm): LayerNorm((768,), eps=1e-12, elementwise_affine=True)\n",
              "      (dropout): Dropout(p=0.1, inplace=False)\n",
              "    )\n",
              "    (encoder): BertEncoder(\n",
              "      (layer): ModuleList(\n",
              "        (0): BertLayer(\n",
              "          (attention): BertAttention(\n",
              "            (self): BertSelfAttention(\n",
              "              (query): Linear(in_features=768, out_features=768, bias=True)\n",
              "              (key): Linear(in_features=768, out_features=768, bias=True)\n",
              "              (value): Linear(in_features=768, out_features=768, bias=True)\n",
              "              (dropout): Dropout(p=0.1, inplace=False)\n",
              "            )\n",
              "            (output): BertSelfOutput(\n",
              "              (dense): Linear(in_features=768, out_features=768, bias=True)\n",
              "              (LayerNorm): LayerNorm((768,), eps=1e-12, elementwise_affine=True)\n",
              "              (dropout): Dropout(p=0.1, inplace=False)\n",
              "            )\n",
              "          )\n",
              "          (intermediate): BertIntermediate(\n",
              "            (dense): Linear(in_features=768, out_features=3072, bias=True)\n",
              "          )\n",
              "          (output): BertOutput(\n",
              "            (dense): Linear(in_features=3072, out_features=768, bias=True)\n",
              "            (LayerNorm): LayerNorm((768,), eps=1e-12, elementwise_affine=True)\n",
              "            (dropout): Dropout(p=0.1, inplace=False)\n",
              "          )\n",
              "        )\n",
              "        (1): BertLayer(\n",
              "          (attention): BertAttention(\n",
              "            (self): BertSelfAttention(\n",
              "              (query): Linear(in_features=768, out_features=768, bias=True)\n",
              "              (key): Linear(in_features=768, out_features=768, bias=True)\n",
              "              (value): Linear(in_features=768, out_features=768, bias=True)\n",
              "              (dropout): Dropout(p=0.1, inplace=False)\n",
              "            )\n",
              "            (output): BertSelfOutput(\n",
              "              (dense): Linear(in_features=768, out_features=768, bias=True)\n",
              "              (LayerNorm): LayerNorm((768,), eps=1e-12, elementwise_affine=True)\n",
              "              (dropout): Dropout(p=0.1, inplace=False)\n",
              "            )\n",
              "          )\n",
              "          (intermediate): BertIntermediate(\n",
              "            (dense): Linear(in_features=768, out_features=3072, bias=True)\n",
              "          )\n",
              "          (output): BertOutput(\n",
              "            (dense): Linear(in_features=3072, out_features=768, bias=True)\n",
              "            (LayerNorm): LayerNorm((768,), eps=1e-12, elementwise_affine=True)\n",
              "            (dropout): Dropout(p=0.1, inplace=False)\n",
              "          )\n",
              "        )\n",
              "        (2): BertLayer(\n",
              "          (attention): BertAttention(\n",
              "            (self): BertSelfAttention(\n",
              "              (query): Linear(in_features=768, out_features=768, bias=True)\n",
              "              (key): Linear(in_features=768, out_features=768, bias=True)\n",
              "              (value): Linear(in_features=768, out_features=768, bias=True)\n",
              "              (dropout): Dropout(p=0.1, inplace=False)\n",
              "            )\n",
              "            (output): BertSelfOutput(\n",
              "              (dense): Linear(in_features=768, out_features=768, bias=True)\n",
              "              (LayerNorm): LayerNorm((768,), eps=1e-12, elementwise_affine=True)\n",
              "              (dropout): Dropout(p=0.1, inplace=False)\n",
              "            )\n",
              "          )\n",
              "          (intermediate): BertIntermediate(\n",
              "            (dense): Linear(in_features=768, out_features=3072, bias=True)\n",
              "          )\n",
              "          (output): BertOutput(\n",
              "            (dense): Linear(in_features=3072, out_features=768, bias=True)\n",
              "            (LayerNorm): LayerNorm((768,), eps=1e-12, elementwise_affine=True)\n",
              "            (dropout): Dropout(p=0.1, inplace=False)\n",
              "          )\n",
              "        )\n",
              "        (3): BertLayer(\n",
              "          (attention): BertAttention(\n",
              "            (self): BertSelfAttention(\n",
              "              (query): Linear(in_features=768, out_features=768, bias=True)\n",
              "              (key): Linear(in_features=768, out_features=768, bias=True)\n",
              "              (value): Linear(in_features=768, out_features=768, bias=True)\n",
              "              (dropout): Dropout(p=0.1, inplace=False)\n",
              "            )\n",
              "            (output): BertSelfOutput(\n",
              "              (dense): Linear(in_features=768, out_features=768, bias=True)\n",
              "              (LayerNorm): LayerNorm((768,), eps=1e-12, elementwise_affine=True)\n",
              "              (dropout): Dropout(p=0.1, inplace=False)\n",
              "            )\n",
              "          )\n",
              "          (intermediate): BertIntermediate(\n",
              "            (dense): Linear(in_features=768, out_features=3072, bias=True)\n",
              "          )\n",
              "          (output): BertOutput(\n",
              "            (dense): Linear(in_features=3072, out_features=768, bias=True)\n",
              "            (LayerNorm): LayerNorm((768,), eps=1e-12, elementwise_affine=True)\n",
              "            (dropout): Dropout(p=0.1, inplace=False)\n",
              "          )\n",
              "        )\n",
              "        (4): BertLayer(\n",
              "          (attention): BertAttention(\n",
              "            (self): BertSelfAttention(\n",
              "              (query): Linear(in_features=768, out_features=768, bias=True)\n",
              "              (key): Linear(in_features=768, out_features=768, bias=True)\n",
              "              (value): Linear(in_features=768, out_features=768, bias=True)\n",
              "              (dropout): Dropout(p=0.1, inplace=False)\n",
              "            )\n",
              "            (output): BertSelfOutput(\n",
              "              (dense): Linear(in_features=768, out_features=768, bias=True)\n",
              "              (LayerNorm): LayerNorm((768,), eps=1e-12, elementwise_affine=True)\n",
              "              (dropout): Dropout(p=0.1, inplace=False)\n",
              "            )\n",
              "          )\n",
              "          (intermediate): BertIntermediate(\n",
              "            (dense): Linear(in_features=768, out_features=3072, bias=True)\n",
              "          )\n",
              "          (output): BertOutput(\n",
              "            (dense): Linear(in_features=3072, out_features=768, bias=True)\n",
              "            (LayerNorm): LayerNorm((768,), eps=1e-12, elementwise_affine=True)\n",
              "            (dropout): Dropout(p=0.1, inplace=False)\n",
              "          )\n",
              "        )\n",
              "        (5): BertLayer(\n",
              "          (attention): BertAttention(\n",
              "            (self): BertSelfAttention(\n",
              "              (query): Linear(in_features=768, out_features=768, bias=True)\n",
              "              (key): Linear(in_features=768, out_features=768, bias=True)\n",
              "              (value): Linear(in_features=768, out_features=768, bias=True)\n",
              "              (dropout): Dropout(p=0.1, inplace=False)\n",
              "            )\n",
              "            (output): BertSelfOutput(\n",
              "              (dense): Linear(in_features=768, out_features=768, bias=True)\n",
              "              (LayerNorm): LayerNorm((768,), eps=1e-12, elementwise_affine=True)\n",
              "              (dropout): Dropout(p=0.1, inplace=False)\n",
              "            )\n",
              "          )\n",
              "          (intermediate): BertIntermediate(\n",
              "            (dense): Linear(in_features=768, out_features=3072, bias=True)\n",
              "          )\n",
              "          (output): BertOutput(\n",
              "            (dense): Linear(in_features=3072, out_features=768, bias=True)\n",
              "            (LayerNorm): LayerNorm((768,), eps=1e-12, elementwise_affine=True)\n",
              "            (dropout): Dropout(p=0.1, inplace=False)\n",
              "          )\n",
              "        )\n",
              "        (6): BertLayer(\n",
              "          (attention): BertAttention(\n",
              "            (self): BertSelfAttention(\n",
              "              (query): Linear(in_features=768, out_features=768, bias=True)\n",
              "              (key): Linear(in_features=768, out_features=768, bias=True)\n",
              "              (value): Linear(in_features=768, out_features=768, bias=True)\n",
              "              (dropout): Dropout(p=0.1, inplace=False)\n",
              "            )\n",
              "            (output): BertSelfOutput(\n",
              "              (dense): Linear(in_features=768, out_features=768, bias=True)\n",
              "              (LayerNorm): LayerNorm((768,), eps=1e-12, elementwise_affine=True)\n",
              "              (dropout): Dropout(p=0.1, inplace=False)\n",
              "            )\n",
              "          )\n",
              "          (intermediate): BertIntermediate(\n",
              "            (dense): Linear(in_features=768, out_features=3072, bias=True)\n",
              "          )\n",
              "          (output): BertOutput(\n",
              "            (dense): Linear(in_features=3072, out_features=768, bias=True)\n",
              "            (LayerNorm): LayerNorm((768,), eps=1e-12, elementwise_affine=True)\n",
              "            (dropout): Dropout(p=0.1, inplace=False)\n",
              "          )\n",
              "        )\n",
              "        (7): BertLayer(\n",
              "          (attention): BertAttention(\n",
              "            (self): BertSelfAttention(\n",
              "              (query): Linear(in_features=768, out_features=768, bias=True)\n",
              "              (key): Linear(in_features=768, out_features=768, bias=True)\n",
              "              (value): Linear(in_features=768, out_features=768, bias=True)\n",
              "              (dropout): Dropout(p=0.1, inplace=False)\n",
              "            )\n",
              "            (output): BertSelfOutput(\n",
              "              (dense): Linear(in_features=768, out_features=768, bias=True)\n",
              "              (LayerNorm): LayerNorm((768,), eps=1e-12, elementwise_affine=True)\n",
              "              (dropout): Dropout(p=0.1, inplace=False)\n",
              "            )\n",
              "          )\n",
              "          (intermediate): BertIntermediate(\n",
              "            (dense): Linear(in_features=768, out_features=3072, bias=True)\n",
              "          )\n",
              "          (output): BertOutput(\n",
              "            (dense): Linear(in_features=3072, out_features=768, bias=True)\n",
              "            (LayerNorm): LayerNorm((768,), eps=1e-12, elementwise_affine=True)\n",
              "            (dropout): Dropout(p=0.1, inplace=False)\n",
              "          )\n",
              "        )\n",
              "        (8): BertLayer(\n",
              "          (attention): BertAttention(\n",
              "            (self): BertSelfAttention(\n",
              "              (query): Linear(in_features=768, out_features=768, bias=True)\n",
              "              (key): Linear(in_features=768, out_features=768, bias=True)\n",
              "              (value): Linear(in_features=768, out_features=768, bias=True)\n",
              "              (dropout): Dropout(p=0.1, inplace=False)\n",
              "            )\n",
              "            (output): BertSelfOutput(\n",
              "              (dense): Linear(in_features=768, out_features=768, bias=True)\n",
              "              (LayerNorm): LayerNorm((768,), eps=1e-12, elementwise_affine=True)\n",
              "              (dropout): Dropout(p=0.1, inplace=False)\n",
              "            )\n",
              "          )\n",
              "          (intermediate): BertIntermediate(\n",
              "            (dense): Linear(in_features=768, out_features=3072, bias=True)\n",
              "          )\n",
              "          (output): BertOutput(\n",
              "            (dense): Linear(in_features=3072, out_features=768, bias=True)\n",
              "            (LayerNorm): LayerNorm((768,), eps=1e-12, elementwise_affine=True)\n",
              "            (dropout): Dropout(p=0.1, inplace=False)\n",
              "          )\n",
              "        )\n",
              "        (9): BertLayer(\n",
              "          (attention): BertAttention(\n",
              "            (self): BertSelfAttention(\n",
              "              (query): Linear(in_features=768, out_features=768, bias=True)\n",
              "              (key): Linear(in_features=768, out_features=768, bias=True)\n",
              "              (value): Linear(in_features=768, out_features=768, bias=True)\n",
              "              (dropout): Dropout(p=0.1, inplace=False)\n",
              "            )\n",
              "            (output): BertSelfOutput(\n",
              "              (dense): Linear(in_features=768, out_features=768, bias=True)\n",
              "              (LayerNorm): LayerNorm((768,), eps=1e-12, elementwise_affine=True)\n",
              "              (dropout): Dropout(p=0.1, inplace=False)\n",
              "            )\n",
              "          )\n",
              "          (intermediate): BertIntermediate(\n",
              "            (dense): Linear(in_features=768, out_features=3072, bias=True)\n",
              "          )\n",
              "          (output): BertOutput(\n",
              "            (dense): Linear(in_features=3072, out_features=768, bias=True)\n",
              "            (LayerNorm): LayerNorm((768,), eps=1e-12, elementwise_affine=True)\n",
              "            (dropout): Dropout(p=0.1, inplace=False)\n",
              "          )\n",
              "        )\n",
              "        (10): BertLayer(\n",
              "          (attention): BertAttention(\n",
              "            (self): BertSelfAttention(\n",
              "              (query): Linear(in_features=768, out_features=768, bias=True)\n",
              "              (key): Linear(in_features=768, out_features=768, bias=True)\n",
              "              (value): Linear(in_features=768, out_features=768, bias=True)\n",
              "              (dropout): Dropout(p=0.1, inplace=False)\n",
              "            )\n",
              "            (output): BertSelfOutput(\n",
              "              (dense): Linear(in_features=768, out_features=768, bias=True)\n",
              "              (LayerNorm): LayerNorm((768,), eps=1e-12, elementwise_affine=True)\n",
              "              (dropout): Dropout(p=0.1, inplace=False)\n",
              "            )\n",
              "          )\n",
              "          (intermediate): BertIntermediate(\n",
              "            (dense): Linear(in_features=768, out_features=3072, bias=True)\n",
              "          )\n",
              "          (output): BertOutput(\n",
              "            (dense): Linear(in_features=3072, out_features=768, bias=True)\n",
              "            (LayerNorm): LayerNorm((768,), eps=1e-12, elementwise_affine=True)\n",
              "            (dropout): Dropout(p=0.1, inplace=False)\n",
              "          )\n",
              "        )\n",
              "        (11): BertLayer(\n",
              "          (attention): BertAttention(\n",
              "            (self): BertSelfAttention(\n",
              "              (query): Linear(in_features=768, out_features=768, bias=True)\n",
              "              (key): Linear(in_features=768, out_features=768, bias=True)\n",
              "              (value): Linear(in_features=768, out_features=768, bias=True)\n",
              "              (dropout): Dropout(p=0.1, inplace=False)\n",
              "            )\n",
              "            (output): BertSelfOutput(\n",
              "              (dense): Linear(in_features=768, out_features=768, bias=True)\n",
              "              (LayerNorm): LayerNorm((768,), eps=1e-12, elementwise_affine=True)\n",
              "              (dropout): Dropout(p=0.1, inplace=False)\n",
              "            )\n",
              "          )\n",
              "          (intermediate): BertIntermediate(\n",
              "            (dense): Linear(in_features=768, out_features=3072, bias=True)\n",
              "          )\n",
              "          (output): BertOutput(\n",
              "            (dense): Linear(in_features=3072, out_features=768, bias=True)\n",
              "            (LayerNorm): LayerNorm((768,), eps=1e-12, elementwise_affine=True)\n",
              "            (dropout): Dropout(p=0.1, inplace=False)\n",
              "          )\n",
              "        )\n",
              "      )\n",
              "    )\n",
              "    (pooler): BertPooler(\n",
              "      (dense): Linear(in_features=768, out_features=768, bias=True)\n",
              "      (activation): Tanh()\n",
              "    )\n",
              "  )\n",
              "  (dropout): Dropout(p=0.1, inplace=False)\n",
              "  (classifier): Linear(in_features=768, out_features=2, bias=True)\n",
              ")"
            ]
          },
          "metadata": {},
          "execution_count": 43
        }
      ]
    },
    {
      "cell_type": "code",
      "metadata": {
        "id": "fYvvdD7WYp4W"
      },
      "source": [
        "optimizer = AdamW(model.parameters(),lr=2e-5,eps=1e-8)\n",
        "\n",
        "from transformers import get_linear_schedule_with_warmup\n",
        "\n",
        "epochs=10\n",
        "total_steps = len(train_data_loader) * epochs\n",
        "\n",
        "scheduler = get_linear_schedule_with_warmup(optimizer,\n",
        "                                           num_warmup_steps=0,\n",
        "                                           num_training_steps=total_steps)"
      ],
      "execution_count": 129,
      "outputs": []
    },
    {
      "cell_type": "code",
      "metadata": {
        "id": "Zar_F0wvZAqW"
      },
      "source": [
        "import numpy as np\n",
        "\n",
        "def predictions_labels(preds,labels):\n",
        "    pred = np.argmax(preds,axis=1).flatten()\n",
        "    label = labels.flatten()\n",
        "    return pred,label"
      ],
      "execution_count": 130,
      "outputs": []
    },
    {
      "cell_type": "code",
      "metadata": {
        "id": "tMockGVvZ_70"
      },
      "source": [
        "import random\n",
        "import numpy as np\n",
        "import time\n",
        "from sklearn.metrics import classification_report,accuracy_score,f1_score\n",
        "\n",
        "total_t0 = time.time()\n",
        "\n",
        "seed_val = 42\n",
        "\n",
        "random.seed(seed_val)\n",
        "np.random.seed(seed_val)\n",
        "torch.manual_seed(seed_val)\n",
        "torch.cuda.manual_seed_all(seed_val)"
      ],
      "execution_count": 131,
      "outputs": []
    },
    {
      "cell_type": "code",
      "metadata": {
        "id": "ZE8SM8GgaDWi"
      },
      "source": [
        "\n",
        "def categorical_accuracy(preds, y):\n",
        "    \"\"\"\n",
        "    Returns accuracy per batch, i.e. if you get 8/10 right, this returns 0.8, NOT 8\n",
        "    \"\"\"\n",
        "    max_preds = preds.argmax(dim = 1, keepdim = True) # get the index of the max probability\n",
        "    correct = max_preds.squeeze(1).eq(y)\n",
        "    return correct.sum() / torch.FloatTensor([y.shape[0]]).cuda()\n",
        "\n",
        "def predictions_labels(preds,labels):\n",
        "    pred = np.argmax(preds,axis=1).flatten()\n",
        "    label = labels.flatten()\n",
        "    return pred,label"
      ],
      "execution_count": 132,
      "outputs": []
    },
    {
      "cell_type": "code",
      "metadata": {
        "id": "8P6HcfvvaGDc"
      },
      "source": [
        "def train():\n",
        "    total_train_loss = 0\n",
        "    total_train_acc = 0\n",
        "    \n",
        "    model.train() # set model in train mode for batchnorm and dropout layers in bert model\n",
        "    \n",
        "    for step,batch in enumerate(train_data_loader):\n",
        "        b_input_ids = batch[0].to(device)\n",
        "        b_input_mask = batch[1].to(device)\n",
        "        b_labels = batch[2].to(device)\n",
        "        model.zero_grad()\n",
        "            \n",
        "        output = model(b_input_ids,\n",
        "                            attention_mask=b_input_mask,\n",
        "                            labels=b_labels.long())\n",
        "        loss = output.loss\n",
        "        logits = output.logits\n",
        "\n",
        "        total_train_loss+=loss.item()\n",
        "        total_train_acc+=categorical_accuracy(logits,b_labels).item()\n",
        "            \n",
        "        loss.backward()\n",
        "            \n",
        "        torch.nn.utils.clip_grad_norm_(model.parameters(),1.0)\n",
        "            \n",
        "        optimizer.step()\n",
        "            \n",
        "        scheduler.step() #go ahead and update the learning rate\n",
        "            \n",
        "    avg_train_loss = total_train_loss/len(train_data_loader)\n",
        "    avg_train_acc = total_train_acc/len(train_data_loader)\n",
        "    \n",
        "    return avg_train_loss,avg_train_acc"
      ],
      "execution_count": 143,
      "outputs": []
    },
    {
      "cell_type": "code",
      "metadata": {
        "id": "5tcyaXn3aJk8"
      },
      "source": [
        "\n",
        "def evaluate():\n",
        "    model.eval()\n",
        "        \n",
        "    total_eval_accuracy = 0\n",
        "    total_eval_loss = 0\n",
        "    number_of_eval_steps= 0\n",
        "    \n",
        "    all_true_labels = []\n",
        "    all_pred_labels = []\n",
        "\n",
        "    for batch in valid_data_loader:\n",
        "        b_input_ids = batch[0].to(device)\n",
        "        b_input_mask = batch[1].to(device)\n",
        "        b_labels = batch[2].to(device)\n",
        "\n",
        "        with torch.no_grad():\n",
        "\n",
        "            output = model(b_input_ids,\n",
        "                                attention_mask= b_input_mask,\n",
        "                                labels = b_labels.long())\n",
        "        loss = output.loss\n",
        "        logits = output.logits\n",
        "\n",
        "        total_eval_loss+=loss.item()\n",
        "\n",
        "        logits = logits.detach().cpu().numpy()\n",
        "\n",
        "        label_ids = b_labels.to('cpu').numpy()\n",
        "\n",
        "        pred,true = predictions_labels(logits,label_ids)\n",
        "        \n",
        "        all_pred_labels.extend(pred)\n",
        "        all_true_labels.extend(true)\n",
        "\n",
        "    print(classification_report(all_pred_labels,all_true_labels))\n",
        "    avg_val_accuracy = accuracy_score(all_pred_labels,all_true_labels)\n",
        "    macro_f1_score = f1_score(all_pred_labels,all_true_labels,average='macro')\n",
        "    \n",
        "    avg_val_loss = total_eval_loss/len(valid_data_loader)\n",
        "\n",
        "    print(\"accuracy = {0:.2f}\".format(avg_val_accuracy))\n",
        "    \n",
        "    return avg_val_loss,avg_val_accuracy,macro_f1_score"
      ],
      "execution_count": 150,
      "outputs": []
    },
    {
      "cell_type": "code",
      "metadata": {
        "id": "j6wjOO5aaNiI"
      },
      "source": [
        "\n",
        "import time\n",
        "def epoch_time(start_time, end_time):\n",
        "    elapsed_time = end_time - start_time\n",
        "    elapsed_mins = int(elapsed_time / 60)\n",
        "    elapsed_secs = int(elapsed_time - (elapsed_mins * 60))\n",
        "    return elapsed_mins, elapsed_secs"
      ],
      "execution_count": 151,
      "outputs": []
    },
    {
      "cell_type": "code",
      "metadata": {
        "colab": {
          "base_uri": "https://localhost:8080/"
        },
        "id": "8L6WXN3qaXzW",
        "outputId": "ebcf773a-b9ef-40cd-ec5e-327f73d905f6"
      },
      "source": [
        "epochs = 10\n",
        "\n",
        "best_macro_f1 = float('0')\n",
        "\n",
        "for epoch in range(epochs):\n",
        "    \n",
        "    start_time = time.time()\n",
        "    train_loss,train_acc = train()\n",
        "    valid_loss,valid_acc,macro_f1 = evaluate()\n",
        "    \n",
        "    end_time = time.time()\n",
        "        \n",
        "    epoch_mins, epoch_secs = epoch_time(start_time, end_time)\n",
        "        \n",
        "    if macro_f1 > best_macro_f1:\n",
        "        best_macro_f1 = macro_f1\n",
        "        torch.save(model,'model_english_task_a.pt')\n",
        "    \n",
        "    print(f'Epoch: {epoch+1:02} | Epoch Time: {epoch_mins}m {epoch_secs}s')\n",
        "    print(f'\\tTrain Loss: {train_loss:.3f} | Train Acc: {train_acc*100:.2f}%')\n",
        "    print(f'\\t Val. Loss: {valid_loss:.3f} |  Val. Acc: {valid_acc*100:.2f}%')"
      ],
      "execution_count": 152,
      "outputs": [
        {
          "output_type": "stream",
          "name": "stdout",
          "text": [
            "              precision    recall  f1-score   support\n",
            "\n",
            "           0       0.78      0.71      0.75       791\n",
            "           1       0.49      0.59      0.54       380\n",
            "\n",
            "    accuracy                           0.67      1171\n",
            "   macro avg       0.64      0.65      0.64      1171\n",
            "weighted avg       0.69      0.67      0.68      1171\n",
            "\n",
            "accuracy = 0.67\n",
            "Epoch: 01 | Epoch Time: 4m 17s\n",
            "\tTrain Loss: 0.317 | Train Acc: 88.67%\n",
            "\t Val. Loss: 1.195 |  Val. Acc: 67.12%\n",
            "              precision    recall  f1-score   support\n",
            "\n",
            "           0       0.61      0.75      0.67       589\n",
            "           1       0.67      0.52      0.58       582\n",
            "\n",
            "    accuracy                           0.63      1171\n",
            "   macro avg       0.64      0.63      0.63      1171\n",
            "weighted avg       0.64      0.63      0.63      1171\n",
            "\n",
            "accuracy = 0.63\n",
            "Epoch: 02 | Epoch Time: 4m 15s\n",
            "\tTrain Loss: 0.202 | Train Acc: 94.67%\n",
            "\t Val. Loss: 1.522 |  Val. Acc: 63.19%\n",
            "              precision    recall  f1-score   support\n",
            "\n",
            "           0       0.72      0.72      0.72       725\n",
            "           1       0.55      0.55      0.55       446\n",
            "\n",
            "    accuracy                           0.66      1171\n",
            "   macro avg       0.64      0.64      0.64      1171\n",
            "weighted avg       0.66      0.66      0.66      1171\n",
            "\n",
            "accuracy = 0.66\n",
            "Epoch: 03 | Epoch Time: 4m 14s\n",
            "\tTrain Loss: 0.126 | Train Acc: 96.93%\n",
            "\t Val. Loss: 1.986 |  Val. Acc: 65.58%\n",
            "              precision    recall  f1-score   support\n",
            "\n",
            "           0       0.73      0.70      0.72       750\n",
            "           1       0.51      0.54      0.53       421\n",
            "\n",
            "    accuracy                           0.65      1171\n",
            "   macro avg       0.62      0.62      0.62      1171\n",
            "weighted avg       0.65      0.65      0.65      1171\n",
            "\n",
            "accuracy = 0.65\n",
            "Epoch: 04 | Epoch Time: 4m 14s\n",
            "\tTrain Loss: 0.089 | Train Acc: 97.89%\n",
            "\t Val. Loss: 2.162 |  Val. Acc: 64.65%\n",
            "              precision    recall  f1-score   support\n",
            "\n",
            "           0       0.76      0.71      0.73       769\n",
            "           1       0.50      0.56      0.53       402\n",
            "\n",
            "    accuracy                           0.66      1171\n",
            "   macro avg       0.63      0.64      0.63      1171\n",
            "weighted avg       0.67      0.66      0.66      1171\n",
            "\n",
            "accuracy = 0.66\n",
            "Epoch: 05 | Epoch Time: 4m 15s\n",
            "\tTrain Loss: 0.062 | Train Acc: 98.63%\n",
            "\t Val. Loss: 2.271 |  Val. Acc: 65.93%\n",
            "              precision    recall  f1-score   support\n",
            "\n",
            "           0       0.70      0.72      0.71       698\n",
            "           1       0.57      0.54      0.55       473\n",
            "\n",
            "    accuracy                           0.65      1171\n",
            "   macro avg       0.63      0.63      0.63      1171\n",
            "weighted avg       0.64      0.65      0.64      1171\n",
            "\n",
            "accuracy = 0.65\n",
            "Epoch: 06 | Epoch Time: 4m 15s\n",
            "\tTrain Loss: 0.052 | Train Acc: 98.72%\n",
            "\t Val. Loss: 2.352 |  Val. Acc: 64.65%\n",
            "              precision    recall  f1-score   support\n",
            "\n",
            "           0       0.76      0.72      0.74       763\n",
            "           1       0.52      0.57      0.54       408\n",
            "\n",
            "    accuracy                           0.67      1171\n",
            "   macro avg       0.64      0.64      0.64      1171\n",
            "weighted avg       0.67      0.67      0.67      1171\n",
            "\n",
            "accuracy = 0.67\n",
            "Epoch: 07 | Epoch Time: 4m 14s\n",
            "\tTrain Loss: 0.040 | Train Acc: 98.83%\n",
            "\t Val. Loss: 2.495 |  Val. Acc: 66.61%\n",
            "              precision    recall  f1-score   support\n",
            "\n",
            "           0       0.73      0.72      0.73       731\n",
            "           1       0.55      0.56      0.56       440\n",
            "\n",
            "    accuracy                           0.66      1171\n",
            "   macro avg       0.64      0.64      0.64      1171\n",
            "weighted avg       0.66      0.66      0.66      1171\n",
            "\n",
            "accuracy = 0.66\n",
            "Epoch: 08 | Epoch Time: 4m 14s\n",
            "\tTrain Loss: 0.031 | Train Acc: 99.02%\n",
            "\t Val. Loss: 2.527 |  Val. Acc: 66.27%\n",
            "              precision    recall  f1-score   support\n",
            "\n",
            "           0       0.73      0.72      0.73       731\n",
            "           1       0.55      0.56      0.56       440\n",
            "\n",
            "    accuracy                           0.66      1171\n",
            "   macro avg       0.64      0.64      0.64      1171\n",
            "weighted avg       0.66      0.66      0.66      1171\n",
            "\n",
            "accuracy = 0.66\n",
            "Epoch: 09 | Epoch Time: 4m 15s\n",
            "\tTrain Loss: 0.033 | Train Acc: 99.02%\n",
            "\t Val. Loss: 2.527 |  Val. Acc: 66.27%\n",
            "              precision    recall  f1-score   support\n",
            "\n",
            "           0       0.73      0.72      0.73       731\n",
            "           1       0.55      0.56      0.56       440\n",
            "\n",
            "    accuracy                           0.66      1171\n",
            "   macro avg       0.64      0.64      0.64      1171\n",
            "weighted avg       0.66      0.66      0.66      1171\n",
            "\n",
            "accuracy = 0.66\n",
            "Epoch: 10 | Epoch Time: 4m 15s\n",
            "\tTrain Loss: 0.027 | Train Acc: 99.15%\n",
            "\t Val. Loss: 2.527 |  Val. Acc: 66.27%\n"
          ]
        }
      ]
    },
    {
      "cell_type": "code",
      "metadata": {
        "colab": {
          "base_uri": "https://localhost:8080/"
        },
        "id": "p6CC2m4HaZ3r",
        "outputId": "340558c0-2a7a-497f-f6dd-fe1b329c2156"
      },
      "source": [
        "del model\n",
        "import gc\n",
        "gc.collect()\n",
        "\n",
        "model = torch.load('model_english_task_a.pt')\n",
        "model = model.to(device)\n",
        "\n",
        "def evaluate_test():\n",
        "    model.eval()\n",
        "        \n",
        "    total_eval_accuracy = 0\n",
        "    total_eval_loss = 0\n",
        "    number_of_eval_steps= 0\n",
        "    \n",
        "    all_true_labels = []\n",
        "    all_pred_labels = []\n",
        "    \n",
        "    all_sentence_id=[]\n",
        "\n",
        "    for batch in test_data_loader:\n",
        "        b_sentence_id = batch[0].to(device)\n",
        "        b_input_ids = batch[1].to(device)\n",
        "        b_input_mask = batch[2].to(device)\n",
        "        b_labels = batch[3].to(device)\n",
        "\n",
        "        sent_ids = b_sentence_id.to('cpu').numpy()\n",
        "        all_sentence_id.extend(sent_ids)\n",
        "        \n",
        "        with torch.no_grad():\n",
        "\n",
        "            output = model(b_input_ids,\n",
        "                                attention_mask= b_input_mask,\n",
        "                                labels = b_labels.long())\n",
        "            \n",
        "        loss = output.loss\n",
        "        logits = output.logits\n",
        "        \n",
        "        total_eval_loss+=loss.item()\n",
        "\n",
        "        logits = logits.detach().cpu().numpy()\n",
        "\n",
        "        label_ids = b_labels.to('cpu').numpy()\n",
        "        \n",
        "\n",
        "        pred,true = predictions_labels(logits,label_ids)\n",
        "        \n",
        "        all_pred_labels.extend(pred)\n",
        "        \n",
        "        all_true_labels.extend(true)\n",
        "\n",
        "    print(classification_report(all_pred_labels,all_true_labels))\n",
        "    avg_val_accuracy = accuracy_score(all_pred_labels,all_true_labels)\n",
        "    \n",
        "    avg_val_loss = total_eval_loss/len(valid_data_loader)\n",
        "\n",
        "    print(\"accuracy = {0:.2f}\".format(avg_val_accuracy))\n",
        "    \n",
        "    return avg_val_loss,avg_val_accuracy,all_sentence_id,all_pred_labels\n",
        "\n",
        "valid_loss,valid_acc,all_sentence_id,all_pred_labels = evaluate_test()"
      ],
      "execution_count": 157,
      "outputs": [
        {
          "output_type": "stream",
          "name": "stdout",
          "text": [
            "              precision    recall  f1-score   support\n",
            "\n",
            "           0       0.80      0.89      0.84       771\n",
            "           1       0.72      0.54      0.61       382\n",
            "\n",
            "    accuracy                           0.78      1153\n",
            "   macro avg       0.76      0.72      0.73      1153\n",
            "weighted avg       0.77      0.78      0.77      1153\n",
            "\n",
            "accuracy = 0.78\n"
          ]
        }
      ]
    },
    {
      "cell_type": "code",
      "metadata": {
        "id": "AqPE5YyEq70r"
      },
      "source": [
        ""
      ],
      "execution_count": null,
      "outputs": []
    }
  ]
}