{
  "cells": [
    {
      "cell_type": "code",
      "execution_count": 1,
      "metadata": {
        "colab": {
          "base_uri": "https://localhost:8080/"
        },
        "id": "GQppe-XiVE6F",
        "outputId": "c00f68a5-42ca-4e08-a9c8-5f6f77d4dd66"
      },
      "outputs": [
        {
          "output_type": "stream",
          "name": "stdout",
          "text": [
            "Collecting transformers\n",
            "  Downloading transformers-4.13.0-py3-none-any.whl (3.3 MB)\n",
            "\u001b[K     |████████████████████████████████| 3.3 MB 8.5 MB/s \n",
            "\u001b[?25hCollecting pyyaml>=5.1\n",
            "  Downloading PyYAML-6.0-cp37-cp37m-manylinux_2_5_x86_64.manylinux1_x86_64.manylinux_2_12_x86_64.manylinux2010_x86_64.whl (596 kB)\n",
            "\u001b[K     |████████████████████████████████| 596 kB 54.7 MB/s \n",
            "\u001b[?25hRequirement already satisfied: numpy>=1.17 in /usr/local/lib/python3.7/dist-packages (from transformers) (1.19.5)\n",
            "Requirement already satisfied: importlib-metadata in /usr/local/lib/python3.7/dist-packages (from transformers) (4.8.2)\n",
            "Collecting tokenizers<0.11,>=0.10.1\n",
            "  Downloading tokenizers-0.10.3-cp37-cp37m-manylinux_2_5_x86_64.manylinux1_x86_64.manylinux_2_12_x86_64.manylinux2010_x86_64.whl (3.3 MB)\n",
            "\u001b[K     |████████████████████████████████| 3.3 MB 52.0 MB/s \n",
            "\u001b[?25hRequirement already satisfied: tqdm>=4.27 in /usr/local/lib/python3.7/dist-packages (from transformers) (4.62.3)\n",
            "Collecting huggingface-hub<1.0,>=0.1.0\n",
            "  Downloading huggingface_hub-0.2.1-py3-none-any.whl (61 kB)\n",
            "\u001b[K     |████████████████████████████████| 61 kB 390 kB/s \n",
            "\u001b[?25hRequirement already satisfied: regex!=2019.12.17 in /usr/local/lib/python3.7/dist-packages (from transformers) (2019.12.20)\n",
            "Collecting sacremoses\n",
            "  Downloading sacremoses-0.0.46-py3-none-any.whl (895 kB)\n",
            "\u001b[K     |████████████████████████████████| 895 kB 45.8 MB/s \n",
            "\u001b[?25hRequirement already satisfied: packaging>=20.0 in /usr/local/lib/python3.7/dist-packages (from transformers) (21.3)\n",
            "Requirement already satisfied: filelock in /usr/local/lib/python3.7/dist-packages (from transformers) (3.4.0)\n",
            "Requirement already satisfied: requests in /usr/local/lib/python3.7/dist-packages (from transformers) (2.23.0)\n",
            "Requirement already satisfied: typing-extensions>=3.7.4.3 in /usr/local/lib/python3.7/dist-packages (from huggingface-hub<1.0,>=0.1.0->transformers) (3.10.0.2)\n",
            "Requirement already satisfied: pyparsing!=3.0.5,>=2.0.2 in /usr/local/lib/python3.7/dist-packages (from packaging>=20.0->transformers) (3.0.6)\n",
            "Requirement already satisfied: zipp>=0.5 in /usr/local/lib/python3.7/dist-packages (from importlib-metadata->transformers) (3.6.0)\n",
            "Requirement already satisfied: urllib3!=1.25.0,!=1.25.1,<1.26,>=1.21.1 in /usr/local/lib/python3.7/dist-packages (from requests->transformers) (1.24.3)\n",
            "Requirement already satisfied: chardet<4,>=3.0.2 in /usr/local/lib/python3.7/dist-packages (from requests->transformers) (3.0.4)\n",
            "Requirement already satisfied: idna<3,>=2.5 in /usr/local/lib/python3.7/dist-packages (from requests->transformers) (2.10)\n",
            "Requirement already satisfied: certifi>=2017.4.17 in /usr/local/lib/python3.7/dist-packages (from requests->transformers) (2021.10.8)\n",
            "Requirement already satisfied: click in /usr/local/lib/python3.7/dist-packages (from sacremoses->transformers) (7.1.2)\n",
            "Requirement already satisfied: six in /usr/local/lib/python3.7/dist-packages (from sacremoses->transformers) (1.15.0)\n",
            "Requirement already satisfied: joblib in /usr/local/lib/python3.7/dist-packages (from sacremoses->transformers) (1.1.0)\n",
            "Installing collected packages: pyyaml, tokenizers, sacremoses, huggingface-hub, transformers\n",
            "  Attempting uninstall: pyyaml\n",
            "    Found existing installation: PyYAML 3.13\n",
            "    Uninstalling PyYAML-3.13:\n",
            "      Successfully uninstalled PyYAML-3.13\n",
            "Successfully installed huggingface-hub-0.2.1 pyyaml-6.0 sacremoses-0.0.46 tokenizers-0.10.3 transformers-4.13.0\n"
          ]
        }
      ],
      "source": [
        "!pip install transformers"
      ]
    },
    {
      "cell_type": "code",
      "execution_count": 2,
      "metadata": {
        "id": "1d8CZB1Ok8Pr"
      },
      "outputs": [],
      "source": [
        "import nltk\n",
        "import matplotlib.pyplot as plt\n",
        "import pandas as pd\n",
        "import collections\n",
        "import numpy as np\n",
        "import re\n",
        "from nltk.corpus import stopwords\n",
        "import copy\n",
        "import torch\n",
        "\n",
        "from torch.utils.data import TensorDataset,random_split\n",
        "from transformers import BertTokenizer\n",
        "from torch.utils.data import DataLoader,RandomSampler,SequentialSampler\n",
        "from transformers import BertForSequenceClassification, AdamW\n",
        "from transformers import get_linear_schedule_with_warmup\n",
        "import numpy as np\n",
        "import random\n",
        "import time\n",
        "from sklearn.metrics import classification_report,accuracy_score,f1_score\n",
        "\n",
        "FREEZE = False"
      ]
    },
    {
      "cell_type": "code",
      "execution_count": 3,
      "metadata": {
        "colab": {
          "base_uri": "https://localhost:8080/"
        },
        "id": "kE9pSBpDYdrW",
        "outputId": "e9643e65-b482-44f7-e9b5-4833ccf8b098"
      },
      "outputs": [
        {
          "output_type": "stream",
          "name": "stdout",
          "text": [
            "cuda\n"
          ]
        }
      ],
      "source": [
        "if torch.cuda.is_available():    \n",
        "    device = torch.device(\"cuda\")\n",
        "else:\n",
        "    device = torch.device(\"cpu\")\n",
        "print(device)"
      ]
    },
    {
      "cell_type": "code",
      "execution_count": 4,
      "metadata": {
        "colab": {
          "base_uri": "https://localhost:8080/"
        },
        "id": "6n-pSxvaRNZk",
        "outputId": "78e7b483-585a-404c-9c0c-4b78a2fc11ba"
      },
      "outputs": [
        {
          "output_type": "stream",
          "name": "stdout",
          "text": [
            "[nltk_data] Downloading package stopwords to /root/nltk_data...\n",
            "[nltk_data]   Unzipping corpora/stopwords.zip.\n"
          ]
        },
        {
          "output_type": "execute_result",
          "data": {
            "text/plain": [
              "True"
            ]
          },
          "metadata": {},
          "execution_count": 4
        }
      ],
      "source": [
        "nltk.download('stopwords')"
      ]
    },
    {
      "cell_type": "code",
      "execution_count": 5,
      "metadata": {
        "colab": {
          "base_uri": "https://localhost:8080/"
        },
        "id": "cLyrJ1tclbOz",
        "outputId": "cb92768e-263b-402c-9325-3e93c9dc6e56"
      },
      "outputs": [
        {
          "output_type": "stream",
          "name": "stdout",
          "text": [
            "Mounted at /content/gdrive\n"
          ]
        }
      ],
      "source": [
        "from google.colab import drive\n",
        "drive.mount('/content/gdrive')"
      ]
    },
    {
      "cell_type": "markdown",
      "source": [
        "## Dataset Preprocessing"
      ],
      "metadata": {
        "id": "ke1Hsylzq73U"
      }
    },
    {
      "cell_type": "markdown",
      "metadata": {
        "id": "1q3aKOJVkPcF"
      },
      "source": [
        "### FRENCH DATASET ANALYSIS"
      ]
    },
    {
      "cell_type": "code",
      "execution_count": 6,
      "metadata": {
        "id": "CKC26dfCkSSB"
      },
      "outputs": [],
      "source": [
        "FRENCH_HOF = []\n",
        "FRENCH_NOT = []"
      ]
    },
    {
      "cell_type": "code",
      "execution_count": 7,
      "metadata": {
        "colab": {
          "base_uri": "https://localhost:8080/",
          "height": 0
        },
        "id": "hMdfHbBvkVzO",
        "outputId": "06c71e4c-2804-4136-b5da-6a915b81109b"
      },
      "outputs": [
        {
          "output_type": "stream",
          "name": "stdout",
          "text": [
            "(199987, 2)\n",
            "(5000, 2)\n",
            "(4000, 3)\n",
            "    index  label                                               text\n",
            "0  139872      0  Oui, est complètement bloqué. Les salles de di...\n",
            "1   88338      0                          Qu'est-ce que je manque à\n",
            "2  144934      0  Haha! Merci mais je ne peux pas y aller, je su...\n",
            "3  148761      0  Homme ... je veux voir des transformateurs! Il...\n",
            "4  132693      0  vient d'atterrir! Pouah. Premier tour d'avion ...\n",
            "Counter({0: 3462, 1: 538})\n",
            "Index(['index', 'label', 'text'], dtype='object')\n"
          ]
        },
        {
          "output_type": "execute_result",
          "data": {
            "text/html": [
              "<div>\n",
              "<style scoped>\n",
              "    .dataframe tbody tr th:only-of-type {\n",
              "        vertical-align: middle;\n",
              "    }\n",
              "\n",
              "    .dataframe tbody tr th {\n",
              "        vertical-align: top;\n",
              "    }\n",
              "\n",
              "    .dataframe thead th {\n",
              "        text-align: right;\n",
              "    }\n",
              "</style>\n",
              "<table border=\"1\" class=\"dataframe\">\n",
              "  <thead>\n",
              "    <tr style=\"text-align: right;\">\n",
              "      <th></th>\n",
              "      <th>index</th>\n",
              "      <th>label</th>\n",
              "      <th>text</th>\n",
              "    </tr>\n",
              "  </thead>\n",
              "  <tbody>\n",
              "    <tr>\n",
              "      <th>0</th>\n",
              "      <td>139872</td>\n",
              "      <td>0</td>\n",
              "      <td>Oui, est complètement bloqué. Les salles de di...</td>\n",
              "    </tr>\n",
              "    <tr>\n",
              "      <th>1</th>\n",
              "      <td>88338</td>\n",
              "      <td>0</td>\n",
              "      <td>Qu'est-ce que je manque à</td>\n",
              "    </tr>\n",
              "    <tr>\n",
              "      <th>2</th>\n",
              "      <td>144934</td>\n",
              "      <td>0</td>\n",
              "      <td>Haha! Merci mais je ne peux pas y aller, je su...</td>\n",
              "    </tr>\n",
              "    <tr>\n",
              "      <th>3</th>\n",
              "      <td>148761</td>\n",
              "      <td>0</td>\n",
              "      <td>Homme ... je veux voir des transformateurs! Il...</td>\n",
              "    </tr>\n",
              "    <tr>\n",
              "      <th>4</th>\n",
              "      <td>132693</td>\n",
              "      <td>0</td>\n",
              "      <td>vient d'atterrir! Pouah. Premier tour d'avion ...</td>\n",
              "    </tr>\n",
              "  </tbody>\n",
              "</table>\n",
              "</div>"
            ],
            "text/plain": [
              "    index  label                                               text\n",
              "0  139872      0  Oui, est complètement bloqué. Les salles de di...\n",
              "1   88338      0                          Qu'est-ce que je manque à\n",
              "2  144934      0  Haha! Merci mais je ne peux pas y aller, je su...\n",
              "3  148761      0  Homme ... je veux voir des transformateurs! Il...\n",
              "4  132693      0  vient d'atterrir! Pouah. Premier tour d'avion ..."
            ]
          },
          "metadata": {},
          "execution_count": 7
        }
      ],
      "source": [
        "french_df_2019 = pd.read_csv('/content/gdrive/My Drive/NLP Project/data/french_tweets-003.csv', error_bad_lines=False)\n",
        "print(french_df_2019.shape)\n",
        "french_df_2019 = french_df_2019.sample(frac=0.025)\n",
        "print(french_df_2019.shape)\n",
        "from sklearn.model_selection import train_test_split\n",
        "french_df_2019, french_df_2019t = train_test_split(french_df_2019, test_size=0.2)\n",
        "\n",
        "french_df_2019.reset_index(inplace=True)\n",
        "french_df_2019t.reset_index(inplace=True)\n",
        "\n",
        "print(french_df_2019.shape)\n",
        "print(french_df_2019.head())\n",
        "labels = collections.Counter(french_df_2019['label'])\n",
        "FRENCH_HOF.append(labels[1])\n",
        "FRENCH_NOT.append(labels[0])\n",
        "print(labels)\n",
        "print(french_df_2019.columns)\n",
        "french_df_2019.head()"
      ]
    },
    {
      "cell_type": "code",
      "execution_count": 8,
      "metadata": {
        "colab": {
          "base_uri": "https://localhost:8080/"
        },
        "id": "Em9JiSol4jwh",
        "outputId": "1d92cb03-9536-479a-b4bd-9ab9439b23e8"
      },
      "outputs": [
        {
          "output_type": "stream",
          "name": "stdout",
          "text": [
            "Je mange un sandwich et je bois du jus d'orange! Je suppose que tu pourrais dire que je fais le petit déjeuner! Lol!\n",
            "Ils font toujours à l'er\n"
          ]
        }
      ],
      "source": [
        "print(french_df_2019[french_df_2019['label'] == 1]['text'].iloc[10])\n",
        "print(french_df_2019[french_df_2019['label'] == 0]['text'].iloc[10])"
      ]
    },
    {
      "cell_type": "code",
      "execution_count": 9,
      "metadata": {
        "colab": {
          "base_uri": "https://localhost:8080/",
          "height": 0
        },
        "id": "Rb65ud9lrAbm",
        "outputId": "f39a854e-1437-41df-bb62-c7599d11230f"
      },
      "outputs": [
        {
          "output_type": "stream",
          "name": "stdout",
          "text": [
            "(1000, 3)\n",
            "    index  label                                               text\n",
            "0   41200      0  Les chiots de dentelle et de dakota seront ici...\n",
            "1   11337      0  J'aimerais que le temps se soit arrêté ..........\n",
            "2   81268      0                              Le thé peut-il aider?\n",
            "3  193175      1  Oui, je peux le faire;) haha ​​ne trouve pas t...\n",
            "4  178219      1  Uhuhhhh. Le mot échoue. C'est un «naufrage dan...\n",
            "Counter({0: 879, 1: 121})\n",
            "Index(['index', 'label', 'text'], dtype='object')\n"
          ]
        },
        {
          "output_type": "execute_result",
          "data": {
            "text/html": [
              "<div>\n",
              "<style scoped>\n",
              "    .dataframe tbody tr th:only-of-type {\n",
              "        vertical-align: middle;\n",
              "    }\n",
              "\n",
              "    .dataframe tbody tr th {\n",
              "        vertical-align: top;\n",
              "    }\n",
              "\n",
              "    .dataframe thead th {\n",
              "        text-align: right;\n",
              "    }\n",
              "</style>\n",
              "<table border=\"1\" class=\"dataframe\">\n",
              "  <thead>\n",
              "    <tr style=\"text-align: right;\">\n",
              "      <th></th>\n",
              "      <th>index</th>\n",
              "      <th>label</th>\n",
              "      <th>text</th>\n",
              "    </tr>\n",
              "  </thead>\n",
              "  <tbody>\n",
              "    <tr>\n",
              "      <th>0</th>\n",
              "      <td>41200</td>\n",
              "      <td>0</td>\n",
              "      <td>Les chiots de dentelle et de dakota seront ici...</td>\n",
              "    </tr>\n",
              "    <tr>\n",
              "      <th>1</th>\n",
              "      <td>11337</td>\n",
              "      <td>0</td>\n",
              "      <td>J'aimerais que le temps se soit arrêté ..........</td>\n",
              "    </tr>\n",
              "    <tr>\n",
              "      <th>2</th>\n",
              "      <td>81268</td>\n",
              "      <td>0</td>\n",
              "      <td>Le thé peut-il aider?</td>\n",
              "    </tr>\n",
              "    <tr>\n",
              "      <th>3</th>\n",
              "      <td>193175</td>\n",
              "      <td>1</td>\n",
              "      <td>Oui, je peux le faire;) haha ​​ne trouve pas t...</td>\n",
              "    </tr>\n",
              "    <tr>\n",
              "      <th>4</th>\n",
              "      <td>178219</td>\n",
              "      <td>1</td>\n",
              "      <td>Uhuhhhh. Le mot échoue. C'est un «naufrage dan...</td>\n",
              "    </tr>\n",
              "  </tbody>\n",
              "</table>\n",
              "</div>"
            ],
            "text/plain": [
              "    index  label                                               text\n",
              "0   41200      0  Les chiots de dentelle et de dakota seront ici...\n",
              "1   11337      0  J'aimerais que le temps se soit arrêté ..........\n",
              "2   81268      0                              Le thé peut-il aider?\n",
              "3  193175      1  Oui, je peux le faire;) haha ​​ne trouve pas t...\n",
              "4  178219      1  Uhuhhhh. Le mot échoue. C'est un «naufrage dan..."
            ]
          },
          "metadata": {},
          "execution_count": 9
        }
      ],
      "source": [
        "print(french_df_2019t.shape)\n",
        "print(french_df_2019t.head())\n",
        "labels = collections.Counter(french_df_2019t['label'])\n",
        "FRENCH_HOF.append(labels[1])\n",
        "FRENCH_NOT.append(labels[0])\n",
        "print(labels)\n",
        "print(french_df_2019t.columns)\n",
        "french_df_2019t.head()"
      ]
    },
    {
      "cell_type": "code",
      "execution_count": 10,
      "metadata": {
        "colab": {
          "base_uri": "https://localhost:8080/",
          "height": 0
        },
        "id": "UgamPZIgrNiV",
        "outputId": "cd601729-7fa8-41d8-d906-d77283e65f9c"
      },
      "outputs": [
        {
          "output_type": "execute_result",
          "data": {
            "text/plain": [
              "([<matplotlib.axis.XTick at 0x7f1564c90b10>,\n",
              "  <matplotlib.axis.XTick at 0x7f1564c90b50>],\n",
              " [Text(0, 0, 'train 2019'), Text(0, 0, 'test 2019')])"
            ]
          },
          "metadata": {},
          "execution_count": 10
        },
        {
          "output_type": "display_data",
          "data": {
            "image/png": "[encoded data removed]",
            "text/plain": [
              "<Figure size 432x288 with 1 Axes>"
            ]
          },
          "metadata": {
            "needs_background": "light"
          }
        }
      ],
      "source": [
        "barWidth = 0.25\n",
        "br1 = np.arange(len(FRENCH_HOF))\n",
        "br2 = [x + barWidth for x in br1]\n",
        "plt.bar(br1, FRENCH_HOF, width=barWidth, label='HOF')\n",
        "plt.bar(br2, FRENCH_NOT, width=barWidth, label='NOT')\n",
        "plt.legend()\n",
        "plt.xlabel('French Dataset')\n",
        "plt.ylabel('Count')\n",
        "plt.xticks([r + barWidth for r in range(len(br1))],\n",
        "        ['train 2019', 'test 2019'])"
      ]
    },
    {
      "cell_type": "markdown",
      "metadata": {
        "id": "Xw1T9b8mZ5H4"
      },
      "source": [
        "###ENGLISH DATASET ANALYSIS"
      ]
    },
    {
      "cell_type": "code",
      "execution_count": 11,
      "metadata": {
        "id": "sU2DHLVtbaOd"
      },
      "outputs": [],
      "source": [
        "ENGLISH_HOF = []\n",
        "ENGLISH_NOT = []"
      ]
    },
    {
      "cell_type": "code",
      "execution_count": 12,
      "metadata": {
        "colab": {
          "base_uri": "https://localhost:8080/",
          "height": 0
        },
        "id": "eWTYYAd4q_bO",
        "outputId": "d1f150f0-2904-4bf5-ad8f-249b8b04a337"
      },
      "outputs": [
        {
          "output_type": "stream",
          "name": "stdout",
          "text": [
            "(5852, 3)\n",
            "Counter({'NOT': 3591, 'HOF': 2261})\n",
            "Index(['text_id', 'text', 'task_1'], dtype='object')\n"
          ]
        },
        {
          "output_type": "execute_result",
          "data": {
            "text/html": [
              "<div>\n",
              "<style scoped>\n",
              "    .dataframe tbody tr th:only-of-type {\n",
              "        vertical-align: middle;\n",
              "    }\n",
              "\n",
              "    .dataframe tbody tr th {\n",
              "        vertical-align: top;\n",
              "    }\n",
              "\n",
              "    .dataframe thead th {\n",
              "        text-align: right;\n",
              "    }\n",
              "</style>\n",
              "<table border=\"1\" class=\"dataframe\">\n",
              "  <thead>\n",
              "    <tr style=\"text-align: right;\">\n",
              "      <th></th>\n",
              "      <th>text_id</th>\n",
              "      <th>text</th>\n",
              "      <th>task_1</th>\n",
              "    </tr>\n",
              "  </thead>\n",
              "  <tbody>\n",
              "    <tr>\n",
              "      <th>0</th>\n",
              "      <td>hasoc_en_1</td>\n",
              "      <td>#DhoniKeepsTheGlove | WATCH: Sports Minister K...</td>\n",
              "      <td>NOT</td>\n",
              "    </tr>\n",
              "    <tr>\n",
              "      <th>1</th>\n",
              "      <td>hasoc_en_2</td>\n",
              "      <td>@politico No. We should remember very clearly ...</td>\n",
              "      <td>HOF</td>\n",
              "    </tr>\n",
              "    <tr>\n",
              "      <th>2</th>\n",
              "      <td>hasoc_en_3</td>\n",
              "      <td>@cricketworldcup Guess who would be the winner...</td>\n",
              "      <td>NOT</td>\n",
              "    </tr>\n",
              "    <tr>\n",
              "      <th>3</th>\n",
              "      <td>hasoc_en_4</td>\n",
              "      <td>Corbyn is too politically intellectual for #Bo...</td>\n",
              "      <td>NOT</td>\n",
              "    </tr>\n",
              "    <tr>\n",
              "      <th>4</th>\n",
              "      <td>hasoc_en_5</td>\n",
              "      <td>All the best to #TeamIndia for another swimmin...</td>\n",
              "      <td>NOT</td>\n",
              "    </tr>\n",
              "  </tbody>\n",
              "</table>\n",
              "</div>"
            ],
            "text/plain": [
              "      text_id                                               text task_1\n",
              "0  hasoc_en_1  #DhoniKeepsTheGlove | WATCH: Sports Minister K...    NOT\n",
              "1  hasoc_en_2  @politico No. We should remember very clearly ...    HOF\n",
              "2  hasoc_en_3  @cricketworldcup Guess who would be the winner...    NOT\n",
              "3  hasoc_en_4  Corbyn is too politically intellectual for #Bo...    NOT\n",
              "4  hasoc_en_5  All the best to #TeamIndia for another swimmin...    NOT"
            ]
          },
          "metadata": {},
          "execution_count": 12
        }
      ],
      "source": [
        "english_df_2019 = pd.read_csv('/content/gdrive/My Drive/NLP Project/data/2019/english_dataset/english_dataset_2019.csv', error_bad_lines=False)\n",
        "english_df_2019 = english_df_2019.drop(columns=['task_2', 'task_3'])\n",
        "print(english_df_2019.shape)\n",
        "labels = collections.Counter(english_df_2019['task_1'])\n",
        "ENGLISH_HOF.append(labels['HOF'])\n",
        "ENGLISH_NOT.append(labels['NOT'])\n",
        "print(labels)\n",
        "print(english_df_2019.columns)\n",
        "english_df_2019.head()"
      ]
    },
    {
      "cell_type": "code",
      "execution_count": 13,
      "metadata": {
        "id": "97PzLqQJYg4z"
      },
      "outputs": [],
      "source": [
        "# english_df_2020 = pd.read_csv('/content/gdrive/My Drive/NLP Project/data/2020/english_dataset/english_dataset_2020.csv', error_bad_lines=False)\n",
        "# english_df_2020 = english_df_2020.drop(columns=['task2'])\n",
        "# print(english_df_2020.shape)\n",
        "# print(english_df_2020.columns)\n",
        "# labels = collections.Counter(english_df_2020['task1'])\n",
        "# ENGLISH_HOF.append(labels['HOF'])\n",
        "# ENGLISH_NOT.append(labels['NOT'])\n",
        "# print(labels)\n",
        "# english_df_2020.head()"
      ]
    },
    {
      "cell_type": "code",
      "execution_count": 14,
      "metadata": {
        "colab": {
          "base_uri": "https://localhost:8080/",
          "height": 0
        },
        "id": "ODMjZEVTcfQx",
        "outputId": "46398506-7171-43db-8e0d-7bd8ae164251"
      },
      "outputs": [
        {
          "output_type": "stream",
          "name": "stdout",
          "text": [
            "Index(['text_id', 'text', 'task_1', 'task_2', 'task_3'], dtype='object')\n",
            "(1153, 3)\n",
            "Counter({'NOT': 865, 'HOF': 288})\n"
          ]
        },
        {
          "output_type": "execute_result",
          "data": {
            "text/html": [
              "<div>\n",
              "<style scoped>\n",
              "    .dataframe tbody tr th:only-of-type {\n",
              "        vertical-align: middle;\n",
              "    }\n",
              "\n",
              "    .dataframe tbody tr th {\n",
              "        vertical-align: top;\n",
              "    }\n",
              "\n",
              "    .dataframe thead th {\n",
              "        text-align: right;\n",
              "    }\n",
              "</style>\n",
              "<table border=\"1\" class=\"dataframe\">\n",
              "  <thead>\n",
              "    <tr style=\"text-align: right;\">\n",
              "      <th></th>\n",
              "      <th>text_id</th>\n",
              "      <th>text</th>\n",
              "      <th>task_1</th>\n",
              "    </tr>\n",
              "  </thead>\n",
              "  <tbody>\n",
              "    <tr>\n",
              "      <th>0</th>\n",
              "      <td>hasoc_en_902</td>\n",
              "      <td>West Bengal Doctor Crisis: Protesting doctors ...</td>\n",
              "      <td>NOT</td>\n",
              "    </tr>\n",
              "    <tr>\n",
              "      <th>1</th>\n",
              "      <td>hasoc_en_416</td>\n",
              "      <td>68.5 million people have been forced to leave ...</td>\n",
              "      <td>NOT</td>\n",
              "    </tr>\n",
              "    <tr>\n",
              "      <th>2</th>\n",
              "      <td>hasoc_en_207</td>\n",
              "      <td>You came, you saw .... we will look after the ...</td>\n",
              "      <td>NOT</td>\n",
              "    </tr>\n",
              "    <tr>\n",
              "      <th>3</th>\n",
              "      <td>hasoc_en_595</td>\n",
              "      <td>We'll get Brexit delivered by October 31st.   ...</td>\n",
              "      <td>NOT</td>\n",
              "    </tr>\n",
              "    <tr>\n",
              "      <th>4</th>\n",
              "      <td>hasoc_en_568</td>\n",
              "      <td>Fuck you. Go back to the dark ages you cow @IB...</td>\n",
              "      <td>HOF</td>\n",
              "    </tr>\n",
              "  </tbody>\n",
              "</table>\n",
              "</div>"
            ],
            "text/plain": [
              "        text_id                                               text task_1\n",
              "0  hasoc_en_902  West Bengal Doctor Crisis: Protesting doctors ...    NOT\n",
              "1  hasoc_en_416  68.5 million people have been forced to leave ...    NOT\n",
              "2  hasoc_en_207  You came, you saw .... we will look after the ...    NOT\n",
              "3  hasoc_en_595  We'll get Brexit delivered by October 31st.   ...    NOT\n",
              "4  hasoc_en_568  Fuck you. Go back to the dark ages you cow @IB...    HOF"
            ]
          },
          "metadata": {},
          "execution_count": 14
        }
      ],
      "source": [
        "english_df_2019t = pd.read_csv('/content/gdrive/My Drive/NLP Project/data/2019/english_dataset/english_dataset_test_2019.csv', error_bad_lines=False)\n",
        "print(english_df_2019t.columns)\n",
        "english_df_2019t = english_df_2019t.drop(columns=['task_2', 'task_3'])\n",
        "print(english_df_2019t.shape)\n",
        "labels = collections.Counter(english_df_2019t['task_1'])\n",
        "ENGLISH_HOF.append(labels['HOF'])\n",
        "ENGLISH_NOT.append(labels['NOT'])\n",
        "print(labels)\n",
        "english_df_2019t.head()"
      ]
    },
    {
      "cell_type": "code",
      "execution_count": 15,
      "metadata": {
        "id": "zhnpp6XVco1e"
      },
      "outputs": [],
      "source": [
        "# english_df_2020t = pd.read_csv('/content/gdrive/My Drive/NLP Project/data/2020/english_dataset/english_dataset_test_2020.csv', error_bad_lines=False)\n",
        "# english_df_2020t = english_df_2020t.drop(columns=['task2'])\n",
        "# print(english_df_2020t.shape)\n",
        "# print(english_df_2020t.columns)\n",
        "# labels = collections.Counter(english_df_2020t['task1'])\n",
        "# ENGLISH_HOF.append(labels['HOF'])\n",
        "# ENGLISH_NOT.append(labels['NOT'])\n",
        "# print(labels)\n",
        "# english_df_2020t.head()"
      ]
    },
    {
      "cell_type": "code",
      "execution_count": 16,
      "metadata": {
        "colab": {
          "base_uri": "https://localhost:8080/",
          "height": 0
        },
        "id": "FPrpbla7dAHK",
        "outputId": "b1040be8-3a8d-4baf-f084-f01bb2781a6c"
      },
      "outputs": [
        {
          "output_type": "execute_result",
          "data": {
            "text/plain": [
              "([<matplotlib.axis.XTick at 0x7f156dd60a50>,\n",
              "  <matplotlib.axis.XTick at 0x7f1565849d50>],\n",
              " [Text(0, 0, 'train 2019'), Text(0, 0, 'test 2019')])"
            ]
          },
          "metadata": {},
          "execution_count": 16
        },
        {
          "output_type": "display_data",
          "data": {
            "image/png": "[encoded data removed]",
            "text/plain": [
              "<Figure size 432x288 with 1 Axes>"
            ]
          },
          "metadata": {
            "needs_background": "light"
          }
        }
      ],
      "source": [
        "barWidth = 0.25\n",
        "br1 = np.arange(len(ENGLISH_HOF))\n",
        "br2 = [x + barWidth for x in br1]\n",
        "plt.bar(br1, ENGLISH_HOF, width=barWidth, label='HOF')\n",
        "plt.bar(br2, ENGLISH_NOT, width=barWidth, label='NOT')\n",
        "plt.legend()\n",
        "plt.xlabel('English Dataset')\n",
        "plt.ylabel('Count')\n",
        "plt.xticks([r + barWidth for r in range(len(br1))],\n",
        "        ['train 2019', 'test 2019'])"
      ]
    },
    {
      "cell_type": "markdown",
      "metadata": {
        "id": "53B0-lnL18sP"
      },
      "source": [
        "###SPANISH DATASET ANALYSIS"
      ]
    },
    {
      "cell_type": "code",
      "execution_count": 17,
      "metadata": {
        "id": "uRcUrwSc1-jO"
      },
      "outputs": [],
      "source": [
        "SPANISH_HOF = []\n",
        "SPANISH_NOT = []"
      ]
    },
    {
      "cell_type": "code",
      "execution_count": 18,
      "metadata": {
        "colab": {
          "base_uri": "https://localhost:8080/",
          "height": 0
        },
        "id": "VbyKHUy02CJk",
        "outputId": "82d8a075-2b74-4800-a13c-0d63d01b196c"
      },
      "outputs": [
        {
          "output_type": "stream",
          "name": "stdout",
          "text": [
            "(4450, 3)\n",
            "Counter({0: 2617, 1: 1833})\n",
            "Index(['id', 'text', 'HS'], dtype='object')\n"
          ]
        },
        {
          "output_type": "execute_result",
          "data": {
            "text/html": [
              "<div>\n",
              "<style scoped>\n",
              "    .dataframe tbody tr th:only-of-type {\n",
              "        vertical-align: middle;\n",
              "    }\n",
              "\n",
              "    .dataframe tbody tr th {\n",
              "        vertical-align: top;\n",
              "    }\n",
              "\n",
              "    .dataframe thead th {\n",
              "        text-align: right;\n",
              "    }\n",
              "</style>\n",
              "<table border=\"1\" class=\"dataframe\">\n",
              "  <thead>\n",
              "    <tr style=\"text-align: right;\">\n",
              "      <th></th>\n",
              "      <th>id</th>\n",
              "      <th>text</th>\n",
              "      <th>HS</th>\n",
              "    </tr>\n",
              "  </thead>\n",
              "  <tbody>\n",
              "    <tr>\n",
              "      <th>0</th>\n",
              "      <td>20001</td>\n",
              "      <td>Easyjet quiere duplicar el número de mujeres p...</td>\n",
              "      <td>1</td>\n",
              "    </tr>\n",
              "    <tr>\n",
              "      <th>1</th>\n",
              "      <td>20002</td>\n",
              "      <td>El gobierno debe crear un control estricto de ...</td>\n",
              "      <td>1</td>\n",
              "    </tr>\n",
              "    <tr>\n",
              "      <th>2</th>\n",
              "      <td>20003</td>\n",
              "      <td>Yo veo a mujeres destruidas por acoso laboral ...</td>\n",
              "      <td>0</td>\n",
              "    </tr>\n",
              "    <tr>\n",
              "      <th>3</th>\n",
              "      <td>20004</td>\n",
              "      <td>— Yo soy respetuoso con los demás, sólamente l...</td>\n",
              "      <td>0</td>\n",
              "    </tr>\n",
              "    <tr>\n",
              "      <th>4</th>\n",
              "      <td>20007</td>\n",
              "      <td>Antonio Caballero y como ser de mal gusto e ig...</td>\n",
              "      <td>0</td>\n",
              "    </tr>\n",
              "  </tbody>\n",
              "</table>\n",
              "</div>"
            ],
            "text/plain": [
              "      id                                               text  HS\n",
              "0  20001  Easyjet quiere duplicar el número de mujeres p...   1\n",
              "1  20002  El gobierno debe crear un control estricto de ...   1\n",
              "2  20003  Yo veo a mujeres destruidas por acoso laboral ...   0\n",
              "3  20004  — Yo soy respetuoso con los demás, sólamente l...   0\n",
              "4  20007  Antonio Caballero y como ser de mal gusto e ig...   0"
            ]
          },
          "metadata": {},
          "execution_count": 18
        }
      ],
      "source": [
        "spanish_df_2019 = pd.read_csv('/content/gdrive/My Drive/NLP Project/data/spanish_dataset/spanish_dataset.csv', error_bad_lines=False)\n",
        "# spanish_df_2019 = spanish_df_2019.drop(columns=['task_2'])\n",
        "print(spanish_df_2019.shape)\n",
        "labels = collections.Counter(spanish_df_2019['HS'])\n",
        "SPANISH_HOF.append(labels[1])\n",
        "SPANISH_NOT.append(labels[0])\n",
        "print(labels)\n",
        "print(spanish_df_2019.columns)\n",
        "spanish_df_2019.head()"
      ]
    },
    {
      "cell_type": "code",
      "execution_count": 19,
      "metadata": {
        "colab": {
          "base_uri": "https://localhost:8080/",
          "height": 0
        },
        "id": "BHXT3eSs2jVc",
        "outputId": "d07ef744-2607-436e-8154-593e6500cb26"
      },
      "outputs": [
        {
          "output_type": "stream",
          "name": "stdout",
          "text": [
            "(500, 3)\n",
            "Counter({0: 278, 1: 222})\n",
            "Index(['id', 'text', 'task_1'], dtype='object')\n"
          ]
        },
        {
          "output_type": "execute_result",
          "data": {
            "text/html": [
              "<div>\n",
              "<style scoped>\n",
              "    .dataframe tbody tr th:only-of-type {\n",
              "        vertical-align: middle;\n",
              "    }\n",
              "\n",
              "    .dataframe tbody tr th {\n",
              "        vertical-align: top;\n",
              "    }\n",
              "\n",
              "    .dataframe thead th {\n",
              "        text-align: right;\n",
              "    }\n",
              "</style>\n",
              "<table border=\"1\" class=\"dataframe\">\n",
              "  <thead>\n",
              "    <tr style=\"text-align: right;\">\n",
              "      <th></th>\n",
              "      <th>id</th>\n",
              "      <th>text</th>\n",
              "      <th>task_1</th>\n",
              "    </tr>\n",
              "  </thead>\n",
              "  <tbody>\n",
              "    <tr>\n",
              "      <th>0</th>\n",
              "      <td>20005</td>\n",
              "      <td>Me estoy comiendo la picada árabe más rica de ...</td>\n",
              "      <td>0</td>\n",
              "    </tr>\n",
              "    <tr>\n",
              "      <th>1</th>\n",
              "      <td>20006</td>\n",
              "      <td>@Haryachyzaychyk Callate zorra y mama duro! 😍</td>\n",
              "      <td>1</td>\n",
              "    </tr>\n",
              "    <tr>\n",
              "      <th>2</th>\n",
              "      <td>20011</td>\n",
              "      <td>Acabo de escuchar a Casado diciendo que hay DE...</td>\n",
              "      <td>0</td>\n",
              "    </tr>\n",
              "    <tr>\n",
              "      <th>3</th>\n",
              "      <td>20019</td>\n",
              "      <td>Y NADIE SE HA PREGUNTADO LO QUE LE VA A COSTAR...</td>\n",
              "      <td>1</td>\n",
              "    </tr>\n",
              "    <tr>\n",
              "      <th>4</th>\n",
              "      <td>20033</td>\n",
              "      <td>@Fed_Durand Callate come sobra, más zorra son ...</td>\n",
              "      <td>1</td>\n",
              "    </tr>\n",
              "  </tbody>\n",
              "</table>\n",
              "</div>"
            ],
            "text/plain": [
              "      id                                               text  task_1\n",
              "0  20005  Me estoy comiendo la picada árabe más rica de ...       0\n",
              "1  20006      @Haryachyzaychyk Callate zorra y mama duro! 😍       1\n",
              "2  20011  Acabo de escuchar a Casado diciendo que hay DE...       0\n",
              "3  20019  Y NADIE SE HA PREGUNTADO LO QUE LE VA A COSTAR...       1\n",
              "4  20033  @Fed_Durand Callate come sobra, más zorra son ...       1"
            ]
          },
          "metadata": {},
          "execution_count": 19
        }
      ],
      "source": [
        "spanish_df_2019t = pd.read_csv('/content/gdrive/My Drive/NLP Project/data/spanish_dataset/spanish_dataset_test.csv', error_bad_lines=False)\n",
        "# spanish_df_2019 = spanish_df_2019.drop(columns=['task_2'])\n",
        "print(spanish_df_2019t.shape)\n",
        "labels = collections.Counter(spanish_df_2019t['task_1'])\n",
        "SPANISH_HOF.append(labels[1])\n",
        "SPANISH_NOT.append(labels[0])\n",
        "print(labels)\n",
        "print(spanish_df_2019t.columns)\n",
        "spanish_df_2019t.head()"
      ]
    },
    {
      "cell_type": "code",
      "execution_count": 20,
      "metadata": {
        "colab": {
          "base_uri": "https://localhost:8080/",
          "height": 0
        },
        "id": "7ePmQxEe2458",
        "outputId": "c2fb54b8-34ed-4e87-cca0-b25d601d3c71"
      },
      "outputs": [
        {
          "output_type": "execute_result",
          "data": {
            "text/plain": [
              "([<matplotlib.axis.XTick at 0x7f1563ef23d0>,\n",
              "  <matplotlib.axis.XTick at 0x7f1563ef2390>],\n",
              " [Text(0, 0, 'train 2018'), Text(0, 0, 'test 2018')])"
            ]
          },
          "metadata": {},
          "execution_count": 20
        },
        {
          "output_type": "display_data",
          "data": {
            "image/png": "[encoded data removed]",
            "text/plain": [
              "<Figure size 432x288 with 1 Axes>"
            ]
          },
          "metadata": {
            "needs_background": "light"
          }
        }
      ],
      "source": [
        "barWidth = 0.25\n",
        "br1 = np.arange(len(SPANISH_HOF))\n",
        "br2 = [x + barWidth for x in br1]\n",
        "plt.bar(br1, SPANISH_HOF, width=barWidth, label='HOF')\n",
        "plt.bar(br2, SPANISH_NOT, width=barWidth, label='NOT')\n",
        "plt.legend()\n",
        "plt.xlabel('Spanish Dataset')\n",
        "plt.ylabel('Count')\n",
        "plt.xticks([r + barWidth for r in range(len(br1))],\n",
        "        ['train 2018', 'test 2018'])"
      ]
    },
    {
      "cell_type": "markdown",
      "metadata": {
        "id": "blgR0e9zfR2L"
      },
      "source": [
        "###GERMAN DATASET ANALYSIS"
      ]
    },
    {
      "cell_type": "code",
      "execution_count": 21,
      "metadata": {
        "id": "1JxibtZMdUwk"
      },
      "outputs": [],
      "source": [
        "GERMAN_HOF = []\n",
        "GERMAN_NOT = []"
      ]
    },
    {
      "cell_type": "code",
      "execution_count": 22,
      "metadata": {
        "colab": {
          "base_uri": "https://localhost:8080/",
          "height": 0
        },
        "id": "30kn7DrQfWJF",
        "outputId": "f3cce6f7-6456-4807-a96b-2fb4bd64965b"
      },
      "outputs": [
        {
          "output_type": "stream",
          "name": "stdout",
          "text": [
            "(3819, 3)\n",
            "Counter({'NOT': 3412, 'HOF': 407})\n",
            "Index(['text_id', 'text', 'task_1'], dtype='object')\n"
          ]
        },
        {
          "output_type": "execute_result",
          "data": {
            "text/html": [
              "<div>\n",
              "<style scoped>\n",
              "    .dataframe tbody tr th:only-of-type {\n",
              "        vertical-align: middle;\n",
              "    }\n",
              "\n",
              "    .dataframe tbody tr th {\n",
              "        vertical-align: top;\n",
              "    }\n",
              "\n",
              "    .dataframe thead th {\n",
              "        text-align: right;\n",
              "    }\n",
              "</style>\n",
              "<table border=\"1\" class=\"dataframe\">\n",
              "  <thead>\n",
              "    <tr style=\"text-align: right;\">\n",
              "      <th></th>\n",
              "      <th>text_id</th>\n",
              "      <th>text</th>\n",
              "      <th>task_1</th>\n",
              "    </tr>\n",
              "  </thead>\n",
              "  <tbody>\n",
              "    <tr>\n",
              "      <th>0</th>\n",
              "      <td>hasoc_de_1</td>\n",
              "      <td>Frank Rennicke – Ich bin stolz https://t.co/Cm...</td>\n",
              "      <td>NOT</td>\n",
              "    </tr>\n",
              "    <tr>\n",
              "      <th>1</th>\n",
              "      <td>hasoc_de_2</td>\n",
              "      <td>ANSEHEN.....und danach bitte TEILEN...TEILEN.....</td>\n",
              "      <td>NOT</td>\n",
              "    </tr>\n",
              "    <tr>\n",
              "      <th>2</th>\n",
              "      <td>hasoc_de_3</td>\n",
              "      <td>#Koeln Mohamed erkennt kein deutsches Recht so...</td>\n",
              "      <td>NOT</td>\n",
              "    </tr>\n",
              "    <tr>\n",
              "      <th>3</th>\n",
              "      <td>hasoc_de_4</td>\n",
              "      <td>#SaudiArabien ist eine brutale islamische Dikt...</td>\n",
              "      <td>NOT</td>\n",
              "    </tr>\n",
              "    <tr>\n",
              "      <th>4</th>\n",
              "      <td>hasoc_de_5</td>\n",
              "      <td>Bundespolizei #München hat im 1. Quartal 2019 ...</td>\n",
              "      <td>NOT</td>\n",
              "    </tr>\n",
              "  </tbody>\n",
              "</table>\n",
              "</div>"
            ],
            "text/plain": [
              "      text_id                                               text task_1\n",
              "0  hasoc_de_1  Frank Rennicke – Ich bin stolz https://t.co/Cm...    NOT\n",
              "1  hasoc_de_2  ANSEHEN.....und danach bitte TEILEN...TEILEN.....    NOT\n",
              "2  hasoc_de_3  #Koeln Mohamed erkennt kein deutsches Recht so...    NOT\n",
              "3  hasoc_de_4  #SaudiArabien ist eine brutale islamische Dikt...    NOT\n",
              "4  hasoc_de_5  Bundespolizei #München hat im 1. Quartal 2019 ...    NOT"
            ]
          },
          "metadata": {},
          "execution_count": 22
        }
      ],
      "source": [
        "german_df_2019 = pd.read_csv('/content/gdrive/My Drive/NLP Project/data/2019/german_dataset/german_dataset_2019.csv', error_bad_lines=False)\n",
        "german_df_2019 = german_df_2019.drop(columns=['task_2'])\n",
        "print(german_df_2019.shape)\n",
        "labels = collections.Counter(german_df_2019['task_1'])\n",
        "GERMAN_HOF.append(labels['HOF'])\n",
        "GERMAN_NOT.append(labels['NOT'])\n",
        "print(labels)\n",
        "print(german_df_2019.columns)\n",
        "german_df_2019.head()"
      ]
    },
    {
      "cell_type": "code",
      "execution_count": 23,
      "metadata": {
        "id": "dLEXsy4Dfdu1"
      },
      "outputs": [],
      "source": [
        "# german_df_2020 = pd.read_csv('/content/gdrive/My Drive/NLP Project/data/2020/german_dataset/german_dataset_2020.csv', error_bad_lines=False)\n",
        "# print(german_df_2020.columns)\n",
        "# german_df_2020 = german_df_2020.drop(columns=['task2'])\n",
        "# print(german_df_2020.shape)\n",
        "# labels = collections.Counter(german_df_2020['task1'])\n",
        "# GERMAN_HOF.append(labels['HOF'])\n",
        "# GERMAN_NOT.append(labels['NOT'])\n",
        "# print(labels)\n",
        "# german_df_2020.head()"
      ]
    },
    {
      "cell_type": "code",
      "execution_count": 24,
      "metadata": {
        "colab": {
          "base_uri": "https://localhost:8080/",
          "height": 0
        },
        "id": "qUVbhTHPfm9q",
        "outputId": "7ac8f75c-a372-46df-9411-de7a94beaf03"
      },
      "outputs": [
        {
          "output_type": "stream",
          "name": "stdout",
          "text": [
            "Index(['tweet_id', 'text', 'task1', 'task2', 'ID'], dtype='object')\n",
            "(526, 4)\n",
            "Counter({'NOT': 392, 'HOF': 134})\n"
          ]
        },
        {
          "output_type": "execute_result",
          "data": {
            "text/html": [
              "<div>\n",
              "<style scoped>\n",
              "    .dataframe tbody tr th:only-of-type {\n",
              "        vertical-align: middle;\n",
              "    }\n",
              "\n",
              "    .dataframe tbody tr th {\n",
              "        vertical-align: top;\n",
              "    }\n",
              "\n",
              "    .dataframe thead th {\n",
              "        text-align: right;\n",
              "    }\n",
              "</style>\n",
              "<table border=\"1\" class=\"dataframe\">\n",
              "  <thead>\n",
              "    <tr style=\"text-align: right;\">\n",
              "      <th></th>\n",
              "      <th>tweet_id</th>\n",
              "      <th>text</th>\n",
              "      <th>task1</th>\n",
              "      <th>ID</th>\n",
              "    </tr>\n",
              "  </thead>\n",
              "  <tbody>\n",
              "    <tr>\n",
              "      <th>0</th>\n",
              "      <td>1129095874242650112</td>\n",
              "      <td>@derCarsti Boykottieren hört sich besser an. 💙💙</td>\n",
              "      <td>NOT</td>\n",
              "      <td>hasoc_2020_de_1053</td>\n",
              "    </tr>\n",
              "    <tr>\n",
              "      <th>1</th>\n",
              "      <td>1129004308396236800</td>\n",
              "      <td>RT @ibikus31: Es wird spekuliert, ob Merkel ei...</td>\n",
              "      <td>NOT</td>\n",
              "      <td>hasoc_2020_de_671</td>\n",
              "    </tr>\n",
              "    <tr>\n",
              "      <th>2</th>\n",
              "      <td>1130896929355907080</td>\n",
              "      <td>Hat #Hitler wirklich den Krieg in der Wüste ve...</td>\n",
              "      <td>NOT</td>\n",
              "      <td>hasoc_2020_de_2977</td>\n",
              "    </tr>\n",
              "    <tr>\n",
              "      <th>3</th>\n",
              "      <td>1132251534329307136</td>\n",
              "      <td>RT @Beatrix_vStorch: #May tritt in UK unter Tr...</td>\n",
              "      <td>NOT</td>\n",
              "      <td>hasoc_2020_de_1746</td>\n",
              "    </tr>\n",
              "    <tr>\n",
              "      <th>4</th>\n",
              "      <td>1124941869115498496</td>\n",
              "      <td>@justmeDoro Eher nicht. Das Gänse hauen wieder...</td>\n",
              "      <td>NOT</td>\n",
              "      <td>hasoc_2020_de_2416</td>\n",
              "    </tr>\n",
              "  </tbody>\n",
              "</table>\n",
              "</div>"
            ],
            "text/plain": [
              "              tweet_id  ...                  ID\n",
              "0  1129095874242650112  ...  hasoc_2020_de_1053\n",
              "1  1129004308396236800  ...   hasoc_2020_de_671\n",
              "2  1130896929355907080  ...  hasoc_2020_de_2977\n",
              "3  1132251534329307136  ...  hasoc_2020_de_1746\n",
              "4  1124941869115498496  ...  hasoc_2020_de_2416\n",
              "\n",
              "[5 rows x 4 columns]"
            ]
          },
          "metadata": {},
          "execution_count": 24
        }
      ],
      "source": [
        "german_df_2019t = pd.read_csv('/content/gdrive/My Drive/NLP Project/data/2020/german_dataset/german_dataset_test_2020.csv', error_bad_lines=False)\n",
        "print(german_df_2019t.columns)\n",
        "german_df_2019t = german_df_2019t.drop(columns=['task2'])\n",
        "print(german_df_2019t.shape)\n",
        "labels = collections.Counter(german_df_2019t['task1'])\n",
        "GERMAN_HOF.append(labels['HOF'])\n",
        "GERMAN_NOT.append(labels['NOT'])\n",
        "print(labels)\n",
        "german_df_2019t.head()"
      ]
    },
    {
      "cell_type": "code",
      "execution_count": 25,
      "metadata": {
        "id": "e91sAGZSfprT"
      },
      "outputs": [],
      "source": [
        "# german_df_2020t = pd.read_csv('/content/gdrive/My Drive/NLP Project/data/2020/english_dataset/english_dataset_test_2020.csv', error_bad_lines=False)\n",
        "# german_df_2020t = german_df_2020t.drop(columns=['task2'])\n",
        "# print(german_df_2020t.shape)\n",
        "# print(german_df_2020t.columns)\n",
        "# labels = collections.Counter(german_df_2020t['task1'])\n",
        "# GERMAN_HOF.append(labels['HOF'])\n",
        "# GERMAN_NOT.append(labels['NOT'])\n",
        "# print(labels)\n",
        "# german_df_2020t.head()"
      ]
    },
    {
      "cell_type": "code",
      "execution_count": 26,
      "metadata": {
        "colab": {
          "base_uri": "https://localhost:8080/",
          "height": 0
        },
        "id": "fUmKTe_8ftay",
        "outputId": "467d7d4f-0ba9-42a2-bea4-87b0bcd06c9f"
      },
      "outputs": [
        {
          "output_type": "execute_result",
          "data": {
            "text/plain": [
              "([<matplotlib.axis.XTick at 0x7f1563ed19d0>,\n",
              "  <matplotlib.axis.XTick at 0x7f1564f51790>],\n",
              " [Text(0, 0, 'train 2019'), Text(0, 0, 'test 2019')])"
            ]
          },
          "metadata": {},
          "execution_count": 26
        },
        {
          "output_type": "display_data",
          "data": {
            "image/png": "[encoded data removed]",
            "text/plain": [
              "<Figure size 432x288 with 1 Axes>"
            ]
          },
          "metadata": {
            "needs_background": "light"
          }
        }
      ],
      "source": [
        "barWidth = 0.25\n",
        "br1 = np.arange(len(GERMAN_HOF))\n",
        "br2 = [x + barWidth for x in br1]\n",
        "plt.bar(br1, GERMAN_HOF, width=barWidth, label='HOF')\n",
        "plt.bar(br2, GERMAN_NOT, width=barWidth, label='NOT')\n",
        "plt.legend()\n",
        "plt.xlabel('German Dataset')\n",
        "plt.ylabel('Count')\n",
        "plt.xticks([r + barWidth for r in range(len(br1))],\n",
        "        ['train 2019', 'test 2019'])"
      ]
    },
    {
      "cell_type": "markdown",
      "metadata": {
        "id": "iQawXY3di4l5"
      },
      "source": [
        "###HINDI DATASET ANALYSIS"
      ]
    },
    {
      "cell_type": "code",
      "execution_count": 27,
      "metadata": {
        "id": "S7CBxZkHiw38"
      },
      "outputs": [],
      "source": [
        "# HINDI_HOF = []\n",
        "# HINDI_NOT = []"
      ]
    },
    {
      "cell_type": "code",
      "execution_count": 28,
      "metadata": {
        "id": "YlOk7cXUi-cO"
      },
      "outputs": [],
      "source": [
        "# hindi_df_2019 = pd.read_csv('/content/gdrive/My Drive/NLP Project/data/2019/hindi_dataset/hindi_dataset_2019.csv', error_bad_lines=False)\n",
        "# hindi_df_2019 = hindi_df_2019.drop(columns=['task_2', 'task_3'])\n",
        "# print(hindi_df_2019.shape)\n",
        "# labels = collections.Counter(hindi_df_2019['task_1'])\n",
        "# HINDI_HOF.append(labels['HOF'])\n",
        "# HINDI_NOT.append(labels['NOT'])\n",
        "# print(labels)\n",
        "# print(hindi_df_2019.columns)\n",
        "# hindi_df_2019.head()"
      ]
    },
    {
      "cell_type": "code",
      "execution_count": 29,
      "metadata": {
        "id": "WRhsISVAjAyZ"
      },
      "outputs": [],
      "source": [
        "# hindi_df_2020 = pd.read_csv('/content/gdrive/My Drive/NLP Project/data/2020/hindi_dataset/hindi_dataset_2020.csv', error_bad_lines=False)\n",
        "# print(hindi_df_2020.columns)\n",
        "# hindi_df_2020 = hindi_df_2020.drop(columns=['task2'])\n",
        "# print(hindi_df_2020.shape)\n",
        "# labels = collections.Counter(hindi_df_2020['task1'])\n",
        "# HINDI_HOF.append(labels['HOF'])\n",
        "# HINDI_NOT.append(labels['NOT'])\n",
        "# print(labels)\n",
        "# hindi_df_2020.head()"
      ]
    },
    {
      "cell_type": "code",
      "execution_count": 30,
      "metadata": {
        "id": "ZEl4r9DRjDIo"
      },
      "outputs": [],
      "source": [
        "# hindi_df_2019t = pd.read_csv('/content/gdrive/My Drive/NLP Project/data/2020/hindi_dataset/hindi_dataset_test_2020.csv', error_bad_lines=False)\n",
        "# print(hindi_df_2019t.columns)\n",
        "# hindi_df_2019t = hindi_df_2019t.drop(columns=['task2'])\n",
        "# print(hindi_df_2019t.shape)\n",
        "# labels = collections.Counter(hindi_df_2019t['task1'])\n",
        "# HINDI_HOF.append(labels['HOF'])\n",
        "# HINDI_NOT.append(labels['NOT'])\n",
        "# print(labels)\n",
        "# hindi_df_2019t.head()"
      ]
    },
    {
      "cell_type": "code",
      "execution_count": 31,
      "metadata": {
        "id": "prjeFkM-jFsx"
      },
      "outputs": [],
      "source": [
        "# # hindi_df_2020t = pd.read_csv('/content/gdrive/My Drive/NLP Project/data/2020/hindi_dataset/hindi_dataset_test_2020.csv', error_bad_lines=False)\n",
        "# hindi_df_2020t = hindi_df_2020t.drop(columns=['task2'])\n",
        "# print(hindi_df_2020t.shape)\n",
        "# print(hindi_df_2020t.columns)\n",
        "# labels = collections.Counter(hindi_df_2020t['task1'])\n",
        "# HINDI_HOF.append(labels['HOF'])\n",
        "# HINDI_NOT.append(labels['NOT'])\n",
        "# print(labels)\n",
        "# hindi_df_2020t.head()"
      ]
    },
    {
      "cell_type": "code",
      "execution_count": 32,
      "metadata": {
        "id": "qdyLEHXMjHyZ"
      },
      "outputs": [],
      "source": [
        "# barWidth = 0.25\n",
        "# br1 = np.arange(len(HINDI_HOF))\n",
        "# br2 = [x + barWidth for x in br1]\n",
        "# plt.bar(br1, HINDI_HOF, width=barWidth, label='HOF')\n",
        "# plt.bar(br2, HINDI_NOT, width=barWidth, label='NOT')\n",
        "# plt.legend()\n",
        "# plt.xlabel('Hindi Dataset')\n",
        "# plt.ylabel('Count')\n",
        "# plt.xticks([r + barWidth for r in range(len(br1))],\n",
        "#         ['train 2019', 'test 2019'])"
      ]
    },
    {
      "cell_type": "markdown",
      "metadata": {
        "id": "IyljbtiPkyKB"
      },
      "source": [
        "###COLLECTIVE DATASET ANALYSIS"
      ]
    },
    {
      "cell_type": "code",
      "execution_count": 33,
      "metadata": {
        "id": "jOYTAnFKjJ2s"
      },
      "outputs": [],
      "source": [
        "total_hof = [np.sum(ENGLISH_HOF), np.sum(GERMAN_HOF), np.sum(SPANISH_HOF), np.sum(FRENCH_HOF)]\n",
        "total_not = [np.sum(ENGLISH_NOT), np.sum(GERMAN_NOT), np.sum(SPANISH_HOF), np.sum(FRENCH_NOT)]"
      ]
    },
    {
      "cell_type": "code",
      "execution_count": 34,
      "metadata": {
        "colab": {
          "base_uri": "https://localhost:8080/",
          "height": 0
        },
        "id": "8PueQWqemx8j",
        "outputId": "bd323478-407b-4b09-e7a2-164018de0aeb"
      },
      "outputs": [
        {
          "output_type": "execute_result",
          "data": {
            "text/plain": [
              "Text(0.5, 1.0, 'Hate Tweets')"
            ]
          },
          "metadata": {},
          "execution_count": 34
        },
        {
          "output_type": "display_data",
          "data": {
            "image/png": "[encoded data removed]",
            "text/plain": [
              "<Figure size 720x576 with 1 Axes>"
            ]
          },
          "metadata": {}
        }
      ],
      "source": [
        "labels = ['English', 'German', 'Spanish', 'French']\n",
        "fig, ax = plt.subplots(figsize=(10, 8), subplot_kw=dict(aspect=\"equal\"))\n",
        "\n",
        "def func(pct, allvals):\n",
        "    absolute = int(round(pct/100.*np.sum(allvals)))\n",
        "    return \"{:.1f}%\\n({:d})\".format(pct, absolute)\n",
        "\n",
        "wedges, texts, autotexts = ax.pie(total_hof, autopct=lambda pct: func(pct, total_hof),textprops=dict(color=\"purple\", size=20), labels=labels)\n",
        "ax.legend(wedges, labels,\n",
        "          title=\"Language\",\n",
        "          loc=\"center left\",\n",
        "          bbox_to_anchor=(1, 0, 0.5, 1))\n",
        "plt.setp(autotexts, size=15, weight=\"bold\", color=\"white\")\n",
        "ax.set_title(\"Hate Tweets\")"
      ]
    },
    {
      "cell_type": "code",
      "execution_count": 35,
      "metadata": {
        "colab": {
          "base_uri": "https://localhost:8080/",
          "height": 0
        },
        "id": "nmbIbWwFnMpF",
        "outputId": "f327b6d4-6326-4a13-d84a-16f514b508fa"
      },
      "outputs": [
        {
          "output_type": "execute_result",
          "data": {
            "text/plain": [
              "Text(0.5, 1.0, 'Not Hate Tweets')"
            ]
          },
          "metadata": {},
          "execution_count": 35
        },
        {
          "output_type": "display_data",
          "data": {
            "image/png": "[encoded data removed]",
            "text/plain": [
              "<Figure size 720x576 with 1 Axes>"
            ]
          },
          "metadata": {}
        }
      ],
      "source": [
        "fig, ax = plt.subplots(figsize=(10, 8), subplot_kw=dict(aspect=\"equal\"))\n",
        "\n",
        "def func(pct, allvals):\n",
        "    absolute = int(round(pct/100.*np.sum(allvals)))\n",
        "    return \"{:.1f}%\\n({:d})\".format(pct, absolute)\n",
        "\n",
        "wedges, texts, autotexts = ax.pie(total_not, autopct=lambda pct: func(pct, total_not),textprops=dict(color=\"purple\", size=20), labels=labels)\n",
        "ax.legend(wedges, labels,\n",
        "          title=\"Language\",\n",
        "          loc=\"center left\",\n",
        "          bbox_to_anchor=(1, 0, 0.5, 1))\n",
        "plt.setp(autotexts, size=15, weight=\"bold\", color=\"white\")\n",
        "ax.set_title(\"Not Hate Tweets\")"
      ]
    },
    {
      "cell_type": "code",
      "execution_count": 36,
      "metadata": {
        "colab": {
          "base_uri": "https://localhost:8080/",
          "height": 0
        },
        "id": "3I9wi4jUsHPG",
        "outputId": "de10f8ca-8d6d-4360-9f3f-4bf4cc1dad48"
      },
      "outputs": [
        {
          "output_type": "execute_result",
          "data": {
            "text/plain": [
              "Text(0.5, 1.0, 'Language Distribution of Datasets')"
            ]
          },
          "metadata": {},
          "execution_count": 36
        },
        {
          "output_type": "display_data",
          "data": {
            "image/png": "[encoded data removed]",
            "text/plain": [
              "<Figure size 720x576 with 1 Axes>"
            ]
          },
          "metadata": {}
        }
      ],
      "source": [
        "data = [a + b for a, b in zip(total_hof, total_not)]\n",
        "fig, ax = plt.subplots(figsize=(10, 8), subplot_kw=dict(aspect=\"equal\"))\n",
        "\n",
        "def func(pct, allvals):\n",
        "    absolute = int(round(pct/100.*np.sum(allvals)))\n",
        "    return \"{:.1f}%\\n({:d})\".format(pct, absolute)\n",
        "\n",
        "wedges, texts, autotexts = ax.pie(data, autopct=lambda pct: func(pct, data),textprops=dict(color=\"purple\", size=20), labels=labels)\n",
        "ax.legend(wedges, labels,\n",
        "          title=\"Language\",\n",
        "          loc=\"center left\",\n",
        "          bbox_to_anchor=(1, 0, 0.5, 1))\n",
        "plt.setp(autotexts, size=15, weight=\"bold\", color=\"white\")\n",
        "ax.set_title(\"Language Distribution of Datasets\")"
      ]
    },
    {
      "cell_type": "markdown",
      "metadata": {
        "id": "a0pnHzf-tGc8"
      },
      "source": [
        "### CLEANING OF DATA - Remove STOP WORDS, tokens and twitter handles"
      ]
    },
    {
      "cell_type": "code",
      "execution_count": 37,
      "metadata": {
        "id": "6N5-c_QFsZaY"
      },
      "outputs": [],
      "source": [
        "def modify_tweets(data):\n",
        "  # print(data.columns)\n",
        "  modified_tweets = []\n",
        "  for text in data:\n",
        "\n",
        "      #To remove @AnyName from the tweets\n",
        "      text=re.sub(r\"@[a-zA-z0-9]*\\s+\",\"\",text) \n",
        "      text=re.sub(r\"@[a-zA-z0-9]*:\",\"\",text)\n",
        "      text=re.sub(r\"@[a-zA-z0-9]*\",\"\",text)  \n",
        "      text=re.sub(r\"@[a-zA-z0-9]*$\",\"\",text)\n",
        "      \n",
        "      #To remove links\n",
        "      text=re.sub(r\"^https://t.co/[a-zA-Z0-9]*\\s+\",\" \",text)    \n",
        "      text=re.sub(r\"\\s+https://t.co/[a-zA-Z0-9]*\\s+\",\" \",text)  \n",
        "      text=re.sub(r\"\\s+https://t.co/[a-zA-Z0-9]*$\",\" \",text)    \n",
        "      \n",
        "      #To Convert all the tweets to low.\n",
        "      # text=text.lower() \n",
        "      \n",
        "      #To remove the shorthands\n",
        "      text=re.sub(r\"that's\",\"that is \",text)\n",
        "      text=re.sub(r\"there's\",\"there is \",text)\n",
        "      text=re.sub(r\"what's\",\"what is \",text)\n",
        "      text=re.sub(r\"where's\",\"where is \",text)\n",
        "      text=re.sub(r\"it's\",\"it is \",text)\n",
        "      text=re.sub(r\"who's\",\"who is \",text)\n",
        "      text=re.sub(r\"i'm\",\"i am \",text)\n",
        "      text=re.sub(r\"she's\",\"she is \",text)\n",
        "      text=re.sub(r\"he's\",\"he is \",text)\n",
        "      text=re.sub(r\"they're\",\"they are \",text)\n",
        "      text=re.sub(r\"who're\",\"who are \",text)\n",
        "      text=re.sub(r\"ain't\",\"am not \",text)\n",
        "      text=re.sub(r\"wouldn't\",\"would not \",text)\n",
        "      text=re.sub(r\"shouldn't\",\"should not \",text)\n",
        "      text=re.sub(r\"can't\",\"cannot \",text)\n",
        "      text=re.sub(r\"couldn't\",\"could not \",text)\n",
        "      text=re.sub(r\"won't\",\"will not \",text)\n",
        "      \n",
        "      #To remove the single character\n",
        "      text=re.sub(r\"\\s+[a-z]\\s+\",\" \",text)\n",
        "      text=re.sub(r\"\\s+[a-z]$\",\" \",text)\n",
        "      text=re.sub(r\"^[a-z]\\s+\",\" \",text)\n",
        "      \n",
        "      #To remove non-word character\n",
        "      text=re.sub(r\"^[「人間はいわば感情に左右される生き物である」]*\\s+\",\" \",text)\n",
        "      text=re.sub(r\"\\s+[「人間はいわば感情に左右される生き物である」]*\\s+\",\" \",text)\n",
        "      text=re.sub(r\"\\s+[「人間はいわば感情に左右される生き物である」]*$\",\" \",text)\n",
        "      text=re.sub(r\"[!@$,%^&*\\\"><]*\",\"\",text)\n",
        "      text=re.sub(r\"\\.\",\" \",text)\n",
        "      \n",
        "      #To remove duplicate spaces\n",
        "      text=re.sub(r\"\\s+\",\" \",text)\n",
        "      \n",
        "      #To remove digits \n",
        "      text=re.sub(r\"\\d\",\" \",text)\n",
        "      \n",
        "      #To remove non-word characters\n",
        "      text=re.sub(r\"\\W\",\" \",text)\n",
        "      \n",
        "      modified_tweets.append(text)\n",
        "  return modified_tweets"
      ]
    },
    {
      "cell_type": "code",
      "execution_count": 38,
      "metadata": {
        "colab": {
          "base_uri": "https://localhost:8080/"
        },
        "id": "UitFLOWxuaXM",
        "outputId": "caa93acd-5722-4a14-c3c6-2c89f6b8a589"
      },
      "outputs": [
        {
          "output_type": "stream",
          "name": "stdout",
          "text": [
            "0    #DhoniKeepsTheGlove | WATCH: Sports Minister K...\n",
            "Name: text, dtype: object\n",
            "0     DhoniKeepsTheGlove   WATCH  Sports Minister K...\n",
            "Name: text, dtype: object\n",
            "0    West Bengal Doctor Crisis: Protesting doctors ...\n",
            "Name: text, dtype: object\n",
            "0    West Bengal Doctor Crisis  Protesting doctors ...\n",
            "Name: text, dtype: object\n"
          ]
        }
      ],
      "source": [
        "print(english_df_2019.head(1)['text'])\n",
        "english_df_2019['text'] = modify_tweets(english_df_2019['text'])\n",
        "print(english_df_2019.head(1)['text'])\n",
        "\n",
        "print(english_df_2019t.head(1)['text'])\n",
        "english_df_2019t['text'] = modify_tweets(english_df_2019t['text'])\n",
        "print(english_df_2019t.head(1)['text'])\n",
        "\n",
        "# print(english_df_2020.head(1)['text'])\n",
        "# english_df_2020['text'] = modify_tweets(english_df_2020['text'])\n",
        "# print(english_df_2020.head(1)['text'])\n",
        "\n",
        "# print(english_df_2020t.head(1)['text'])\n",
        "# english_df_2020t['text'] = modify_tweets(english_df_2020t['text'])\n",
        "# print(english_df_2020t.head(1)['text'])"
      ]
    },
    {
      "cell_type": "code",
      "execution_count": 39,
      "metadata": {
        "colab": {
          "base_uri": "https://localhost:8080/"
        },
        "id": "auKn-9nVvt1j",
        "outputId": "7e6e31f5-d8d0-4193-9c69-9e67512f22ea"
      },
      "outputs": [
        {
          "output_type": "stream",
          "name": "stdout",
          "text": [
            "0    Frank Rennicke – Ich bin stolz https://t.co/Cm...\n",
            "Name: text, dtype: object\n",
            "0    Frank Rennicke   Ich bin stolz \n",
            "Name: text, dtype: object\n",
            "0    @derCarsti Boykottieren hört sich besser an. 💙💙\n",
            "Name: text, dtype: object\n",
            "0    Boykottieren hört sich besser an   \n",
            "Name: text, dtype: object\n"
          ]
        }
      ],
      "source": [
        "print(german_df_2019.head(1)['text'])\n",
        "german_df_2019['text'] = modify_tweets(german_df_2019['text'])\n",
        "print(german_df_2019.head(1)['text'])\n",
        "\n",
        "print(german_df_2019t.head(1)['text'])\n",
        "german_df_2019t['text'] = modify_tweets(german_df_2019t['text'])\n",
        "print(german_df_2019t.head(1)['text'])\n",
        "\n",
        "# print(german_df_2020.head(1)['text'])\n",
        "# german_df_2020['text'] = modify_tweets(german_df_2020['text'])\n",
        "# print(german_df_2020.head(1)['text'])\n",
        "\n",
        "# print(german_df_2020t.head(1)['text'])\n",
        "# german_df_2020t['text'] = modify_tweets(german_df_2020t['text'])\n",
        "# print(german_df_2020t.head(1)['text'])"
      ]
    },
    {
      "cell_type": "code",
      "execution_count": 40,
      "metadata": {
        "colab": {
          "base_uri": "https://localhost:8080/"
        },
        "id": "yRMIKlWG3pqK",
        "outputId": "d4f8be93-42af-421d-8682-b64b00fb3105"
      },
      "outputs": [
        {
          "output_type": "stream",
          "name": "stdout",
          "text": [
            "0    Easyjet quiere duplicar el número de mujeres p...\n",
            "Name: text, dtype: object\n",
            "0    Easyjet quiere duplicar el número de mujeres p...\n",
            "Name: text, dtype: object\n",
            "0    Me estoy comiendo la picada árabe más rica de ...\n",
            "Name: text, dtype: object\n",
            "0    Me estoy comiendo la picada árabe más rica de ...\n",
            "Name: text, dtype: object\n"
          ]
        }
      ],
      "source": [
        "print(spanish_df_2019.head(1)['text'])\n",
        "spanish_df_2019['text'] = modify_tweets(spanish_df_2019['text'])\n",
        "print(spanish_df_2019.head(1)['text'])\n",
        "\n",
        "print(spanish_df_2019t.head(1)['text'])\n",
        "spanish_df_2019t['text'] = modify_tweets(spanish_df_2019t['text'])\n",
        "print(spanish_df_2019t.head(1)['text'])"
      ]
    },
    {
      "cell_type": "code",
      "execution_count": 41,
      "metadata": {
        "id": "OL58CKBqxNpL"
      },
      "outputs": [],
      "source": [
        "# def modify_hindi_tweets(data):\n",
        "#   # print(data.columns)\n",
        "#   modified_tweets = []\n",
        "#   for text in data:\n",
        "\n",
        "#       #To remove @AnyName from the tweets\n",
        "#       text=re.sub(r\"@[a-zA-z0-9]*\\s+\",\"\",text) \n",
        "#       text=re.sub(r\"@[a-zA-z0-9]*:\",\"\",text)\n",
        "#       text=re.sub(r\"@[a-zA-z0-9]*\",\"\",text)  \n",
        "#       text=re.sub(r\"@[a-zA-z0-9]*$\",\"\",text)\n",
        "      \n",
        "#       #To remove links\n",
        "#       text=re.sub(r\"^https://t.co/[a-zA-Z0-9]*\\s+\",\" \",text)    \n",
        "#       text=re.sub(r\"\\s+https://t.co/[a-zA-Z0-9]*\\s+\",\" \",text)  \n",
        "#       text=re.sub(r\"\\s+https://t.co/[a-zA-Z0-9]*$\",\" \",text) \n",
        "\n",
        "#       #To remove duplicate spaces\n",
        "#       text=re.sub(r\"\\s+\",\" \",text)\n",
        "      \n",
        "#       #To remove digits \n",
        "#       text=re.sub(r\"\\d\",\" \",text)\n",
        "      \n",
        "#       #To remove non-word characters\n",
        "#       text=re.sub(r\"\\#\",\" \",text)\n",
        "    \n",
        "#       modified_tweets.append(text)\n",
        "#   return modified_tweets\n",
        "\n",
        "# print(hindi_df_2019.head(1)['text'])\n",
        "# l = modify_hindi_tweets(hindi_df_2019['text'])\n",
        "# print(l[0])\n",
        "# hindi_df_2019['text'] = l\n",
        "# print(hindi_df_2019.head(1)['text'])\n",
        "\n",
        "# print(hindi_df_2019t.head(1)['text'])\n",
        "# hindi_df_2019t['text'] = modify_hindi_tweets(hindi_df_2019t['text'])\n",
        "# print(hindi_df_2019t.head(1)['text'])\n",
        "\n",
        "# # print(hindi_df_2020.head(1)['text'])\n",
        "# # hindi_df_2020['text'] = modify_hindi_tweets(hindi_df_2020['text'])\n",
        "# # print(hindi_df_2020.head(1)['text'])\n",
        "\n",
        "# # print(hindi_df_2020t.head(1)['text'])\n",
        "# # hindi_df_2020t['text'] = modify_hindi_tweets(hindi_df_2020t['text'])\n",
        "# # print(hindi_df_2020t.head(1)['text'])"
      ]
    },
    {
      "cell_type": "markdown",
      "metadata": {
        "id": "MRhzfl7iQCKE"
      },
      "source": [
        "## Utility functions\n",
        "\n",
        "\n",
        "\n",
        "1. encoder_generator(documents)\n",
        "2. predictions_labels(preds,labels)\n",
        "3. categorical_accuracy(preds, y)\n",
        "4. predictions_labels(preds,labels)\n",
        "5. train(model, train_data_loader)\n",
        "6. evaluate(model, valid_data_loader)\n",
        "7. evaluate_test(model, test_data_loader)\n",
        "8. epoch_time(start_time, end_time)\n",
        "9. plot_vc(acc_train, acc_val)\n",
        "10. plot_loss(loss_train, loss_val)\n",
        "\n"
      ]
    },
    {
      "cell_type": "code",
      "execution_count": 42,
      "metadata": {
        "id": "gt6SLGSSQEQO"
      },
      "outputs": [],
      "source": [
        "def encoder_generator(tokenizer, documents):\n",
        "    \n",
        "    doc_index = []\n",
        "    input_ids = []\n",
        "    attention_masks =[]\n",
        "\n",
        "    for index,doc in enumerate(documents):\n",
        "        \n",
        "        doc_index.append(index)\n",
        "        \n",
        "        encoded_dict = tokenizer.encode_plus(doc,\n",
        "                                             add_special_tokens=True,\n",
        "                                             max_length=128,\n",
        "                                             pad_to_max_length=True,\n",
        "                                             truncation = True,\n",
        "                                             return_attention_mask=True,\n",
        "                                             return_tensors='pt')\n",
        "        input_ids.append(encoded_dict['input_ids'])\n",
        "\n",
        "        attention_masks.append(encoded_dict['attention_mask'])\n",
        "\n",
        "    input_ids = torch.cat(input_ids,dim=0)\n",
        "    attention_masks = torch.cat(attention_masks,dim=0)\n",
        "    sent_index = torch.tensor(doc_index)\n",
        "\n",
        "    return sent_index,input_ids,attention_masks\n"
      ]
    },
    {
      "cell_type": "code",
      "execution_count": 43,
      "metadata": {
        "id": "e4tFY_UpQ_8F"
      },
      "outputs": [],
      "source": [
        "def predictions_labels(preds,labels):\n",
        "    pred = np.argmax(preds,axis=1).flatten()\n",
        "    label = labels.flatten()\n",
        "    return pred,label\n",
        "\n",
        "def categorical_accuracy(preds, y):\n",
        "    \"\"\"\n",
        "    Returns accuracy per batch, i.e. if you get 8/10 right, this returns 0.8, NOT 8\n",
        "    \"\"\"\n",
        "    max_preds = preds.argmax(dim = 1, keepdim = True) # get the index of the max probability\n",
        "    correct = max_preds.squeeze(1).eq(y)\n",
        "    return correct.sum() / torch.FloatTensor([y.shape[0]]).cuda()\n",
        "\n",
        "def predictions_labels(preds,labels):\n",
        "    pred = np.argmax(preds,axis=1).flatten()\n",
        "    label = labels.flatten()\n",
        "    return pred,label"
      ]
    },
    {
      "cell_type": "code",
      "execution_count": 44,
      "metadata": {
        "id": "ruQaR9DHRDtw"
      },
      "outputs": [],
      "source": [
        "def train(model, train_data_loader, optimizer):\n",
        "    total_train_loss = 0\n",
        "    total_train_acc = 0\n",
        "    \n",
        "    model.train() # set model in train mode for batchnorm and dropout layers in bert model\n",
        "    \n",
        "    for step,batch in enumerate(train_data_loader):\n",
        "        b_input_ids = batch[0].to(device)\n",
        "        b_input_mask = batch[1].to(device)\n",
        "        b_labels = batch[2].to(device)\n",
        "        model.zero_grad()\n",
        "            \n",
        "        output = model(b_input_ids,\n",
        "                            attention_mask=b_input_mask,\n",
        "                            labels=b_labels.long())\n",
        "        loss = output.loss\n",
        "        logits = output.logits\n",
        "\n",
        "        total_train_loss+=loss.item()\n",
        "        total_train_acc+=categorical_accuracy(logits,b_labels).item()\n",
        "            \n",
        "        loss.backward()\n",
        "            \n",
        "        torch.nn.utils.clip_grad_norm_(model.parameters(),1.0)\n",
        "            \n",
        "        optimizer.step()\n",
        "            \n",
        "        scheduler.step() #go ahead and update the learning rate\n",
        "            \n",
        "    avg_train_loss = total_train_loss/len(train_data_loader)\n",
        "    avg_train_acc = total_train_acc/len(train_data_loader)\n",
        "    \n",
        "    return avg_train_loss,avg_train_acc"
      ]
    },
    {
      "cell_type": "code",
      "execution_count": 45,
      "metadata": {
        "id": "gQwnub2hREND"
      },
      "outputs": [],
      "source": [
        "def evaluate(model, valid_data_loader):\n",
        "    model.eval()\n",
        "        \n",
        "    total_eval_accuracy = 0\n",
        "    total_eval_loss = 0\n",
        "    number_of_eval_steps= 0\n",
        "    \n",
        "    all_true_labels = []\n",
        "    all_pred_labels = []\n",
        "\n",
        "    for batch in valid_data_loader:\n",
        "        b_input_ids = batch[0].to(device)\n",
        "        b_input_mask = batch[1].to(device)\n",
        "        b_labels = batch[2].to(device)\n",
        "\n",
        "        with torch.no_grad():\n",
        "\n",
        "            output = model(b_input_ids,\n",
        "                                attention_mask= b_input_mask,\n",
        "                                labels = b_labels.long())\n",
        "        loss = output.loss\n",
        "        logits = output.logits\n",
        "\n",
        "        total_eval_loss+=loss.item()\n",
        "\n",
        "        logits = logits.detach().cpu().numpy()\n",
        "\n",
        "        label_ids = b_labels.to('cpu').numpy()\n",
        "\n",
        "        pred,true = predictions_labels(logits,label_ids)\n",
        "        \n",
        "        all_pred_labels.extend(pred)\n",
        "        all_true_labels.extend(true)\n",
        "\n",
        "    print(classification_report(all_pred_labels,all_true_labels))\n",
        "    avg_val_accuracy = accuracy_score(all_pred_labels,all_true_labels)\n",
        "    macro_f1_score = f1_score(all_pred_labels,all_true_labels,average='macro')\n",
        "    \n",
        "    avg_val_loss = total_eval_loss/len(valid_data_loader)\n",
        "\n",
        "    print(\"accuracy = {0:.2f}\".format(avg_val_accuracy))\n",
        "    \n",
        "    return avg_val_loss,avg_val_accuracy,macro_f1_score"
      ]
    },
    {
      "cell_type": "code",
      "execution_count": 46,
      "metadata": {
        "id": "SjkA0uTZRqQb"
      },
      "outputs": [],
      "source": [
        "def evaluate_test(model, test_data_loader):\n",
        "    model.eval()\n",
        "        \n",
        "    total_eval_accuracy = 0\n",
        "    total_eval_loss = 0\n",
        "    number_of_eval_steps= 0\n",
        "    \n",
        "    all_true_labels = []\n",
        "    all_pred_labels = []\n",
        "    \n",
        "    all_sentence_id=[]\n",
        "\n",
        "    for batch in test_data_loader:\n",
        "        b_sentence_id = batch[0].to(device)\n",
        "        b_input_ids = batch[1].to(device)\n",
        "        b_input_mask = batch[2].to(device)\n",
        "        b_labels = batch[3].to(device)\n",
        "\n",
        "        sent_ids = b_sentence_id.to('cpu').numpy()\n",
        "        all_sentence_id.extend(sent_ids)\n",
        "        \n",
        "        with torch.no_grad():\n",
        "\n",
        "            output = model(b_input_ids,\n",
        "                                attention_mask= b_input_mask,\n",
        "                                labels = b_labels.long())\n",
        "            \n",
        "        loss = output.loss\n",
        "        logits = output.logits\n",
        "        \n",
        "        total_eval_loss+=loss.item()\n",
        "\n",
        "        logits = logits.detach().cpu().numpy()\n",
        "\n",
        "        label_ids = b_labels.to('cpu').numpy()\n",
        "        \n",
        "\n",
        "        pred,true = predictions_labels(logits,label_ids)\n",
        "        \n",
        "        all_pred_labels.extend(pred)\n",
        "        \n",
        "        all_true_labels.extend(true)\n",
        "\n",
        "    print(classification_report(all_pred_labels,all_true_labels))\n",
        "    avg_val_accuracy = accuracy_score(all_pred_labels,all_true_labels)\n",
        "    \n",
        "    avg_val_loss = total_eval_loss/len(test_data_loader)\n",
        "\n",
        "    print(\"accuracy = {0:.2f}\".format(avg_val_accuracy))\n",
        "    \n",
        "    return avg_val_loss,avg_val_accuracy,all_sentence_id,all_pred_labels\n"
      ]
    },
    {
      "cell_type": "code",
      "execution_count": 47,
      "metadata": {
        "id": "lVKoIdY8RM5_"
      },
      "outputs": [],
      "source": [
        "def epoch_time(start_time, end_time):\n",
        "    elapsed_time = end_time - start_time\n",
        "    elapsed_mins = int(elapsed_time / 60)\n",
        "    elapsed_secs = int(elapsed_time - (elapsed_mins * 60))\n",
        "    return elapsed_mins, elapsed_secs\n"
      ]
    },
    {
      "cell_type": "code",
      "execution_count": 48,
      "metadata": {
        "id": "L4QH-fFvRXsO"
      },
      "outputs": [],
      "source": [
        "def plot_vc(acc_train, acc_val):\n",
        "  e = range(epochs)\n",
        "  plt.plot(e, acc_train, 'g', label='Training Accuracy')\n",
        "  plt.plot(e, acc_val, 'b', label='Validation Accuracy')\n",
        "  plt.title('Training and Validation Accuracy')\n",
        "  plt.xlabel('Epochs')\n",
        "  plt.ylabel('Accuracy')\n",
        "  plt.legend()\n",
        "  plt.show()"
      ]
    },
    {
      "cell_type": "code",
      "execution_count": 49,
      "metadata": {
        "id": "pf7kcXnXYwUC"
      },
      "outputs": [],
      "source": [
        "def plot_lc(loss_train, loss_val):\n",
        "  e = range(epochs)\n",
        "  plt.plot(e, loss_train, 'g', label='Training Loss')\n",
        "  plt.plot(e, loss_val, 'b', label='Validation Loss')\n",
        "  plt.title('Training and Validation Loss')\n",
        "  plt.xlabel('Epochs')\n",
        "  plt.ylabel('Loss')\n",
        "  plt.legend()\n",
        "  plt.show()"
      ]
    },
    {
      "cell_type": "markdown",
      "source": [
        "## SPANISH"
      ],
      "metadata": {
        "id": "dqZHEj0grSNA"
      }
    },
    {
      "cell_type": "markdown",
      "metadata": {
        "id": "OtQhFhKG-jxr"
      },
      "source": [
        "###Load Spanish Data"
      ]
    },
    {
      "cell_type": "code",
      "execution_count": 100,
      "metadata": {
        "colab": {
          "base_uri": "https://localhost:8080/"
        },
        "id": "h3rHPe8Ldv_9",
        "outputId": "2285846b-4b21-4c32-827e-e7cecbb23770"
      },
      "outputs": [
        {
          "output_type": "stream",
          "name": "stdout",
          "text": [
            "max token length in train_data is:  1229\n"
          ]
        },
        {
          "output_type": "stream",
          "name": "stderr",
          "text": [
            "/usr/local/lib/python3.7/dist-packages/transformers/tokenization_utils_base.py:2227: FutureWarning: The `pad_to_max_length` argument is deprecated and will be removed in a future version, use `padding=True` or `padding='longest'` to pad to the longest sequence in the batch, or use `padding='max_length'` to pad to a max length. In this case, you can give a specific length with `max_length` (e.g. `max_length=45`) or leave max_length to None to pad to the maximal input size of the model (e.g. 512 for Bert).\n",
            "  FutureWarning,\n"
          ]
        },
        {
          "output_type": "stream",
          "name": "stdout",
          "text": [
            "Original:  Easyjet quiere duplicar el número de mujeres piloto  Verás tú para aparcar el avión http   t co   NuLkm  x\n",
            "Token IDs: tensor([  101, 39878, 18533, 68448, 10168, 62932, 15983, 10125, 13197, 10104,\n",
            "        22354, 35635, 41357, 12299, 85777, 10220, 32500, 22549, 10129, 10125,\n",
            "        48537, 10556,   188, 11170, 28336, 11369, 23440,   192,   102,     0,\n",
            "            0,     0,     0,     0,     0,     0,     0,     0,     0,     0,\n",
            "            0,     0,     0,     0,     0,     0,     0,     0,     0,     0,\n",
            "            0,     0,     0,     0,     0,     0,     0,     0,     0,     0,\n",
            "            0,     0,     0,     0,     0,     0,     0,     0,     0,     0,\n",
            "            0,     0,     0,     0,     0,     0,     0,     0,     0,     0,\n",
            "            0,     0,     0,     0,     0,     0,     0,     0,     0,     0,\n",
            "            0,     0,     0,     0,     0,     0,     0,     0,     0,     0,\n",
            "            0,     0,     0,     0,     0,     0,     0,     0,     0,     0,\n",
            "            0,     0,     0,     0,     0,     0,     0,     0,     0,     0,\n",
            "            0,     0,     0,     0,     0,     0,     0,     0])\n",
            "train data samples is 3560\n",
            "valid data samples is 890\n",
            "test data samples is 500\n"
          ]
        }
      ],
      "source": [
        "train_data_sp = spanish_df_2019.copy()\n",
        "test_data_sp = spanish_df_2019t.copy()\n",
        "labels = {'HOF': 0, 'NOT': 1}\n",
        "\n",
        "# train_data['HS'] = train_data['HS'].apply(lambda x: labels[x])\n",
        "# test_data['task_1'] = test_data['task_1'].apply(lambda x: labels[x])\n",
        "\n",
        "tokenizer_sp = BertTokenizer.from_pretrained('bert-base-multilingual-cased')\n",
        "\n",
        "max_length = 0\n",
        "for sentence in train_data_sp['text']:\n",
        "    #print(sentence)\n",
        "    length = len(tokenizer_sp.tokenize(sentence))\n",
        "    if length > max_length:\n",
        "        max_length  = length\n",
        "print(\"max token length in train_data is: \",max_length)\n",
        "\n",
        "sent_index_sp,input_ids_sp,attention_masks_sp = encoder_generator(tokenizer_sp, list(train_data_sp['text']))\n",
        "test_sent_index_sp,test_input_ids_sp,test_attention_masks_sp = encoder_generator(tokenizer_sp, list(test_data_sp['text']))\n",
        "print('Original: ', train_data_sp['text'][0])\n",
        "print('Token IDs:', input_ids_sp[0])\n",
        "dataset_sp = TensorDataset(input_ids_sp,attention_masks_sp,torch.tensor(train_data_sp['HS']))\n",
        "test_dataset_sp = TensorDataset(test_sent_index_sp,test_input_ids_sp,test_attention_masks_sp,torch.tensor(test_data_sp['task_1']))\n",
        "\n",
        "train_size_sp = int(0.8*len(dataset_sp))\n",
        "\n",
        "val_size_sp = len(dataset_sp)-train_size_sp\n",
        "\n",
        "train_dataset_sp,val_dataset_sp = random_split(dataset_sp,[train_size_sp,val_size_sp])\n",
        "\n",
        "print('train data samples is {}'.format(len(train_dataset_sp)))\n",
        "print(\"valid data samples is {}\".format(len(val_dataset_sp)))\n",
        "print(\"test data samples is {}\".format(len(test_dataset_sp)))\n",
        "\n",
        "bs=8\n",
        "\n",
        "train_data_loader_sp = DataLoader(train_dataset_sp,\n",
        "                              sampler=RandomSampler(train_dataset_sp),\n",
        "                              batch_size=bs)\n",
        "valid_data_loader_sp = DataLoader(val_dataset_sp,\n",
        "                              sampler=SequentialSampler(val_dataset_sp),\n",
        "                              batch_size=bs)\n",
        "test_data_loader_sp = DataLoader(test_dataset_sp,\n",
        "                            sampler=SequentialSampler(test_dataset_sp),\n",
        "                            batch_size=bs)\n"
      ]
    },
    {
      "cell_type": "markdown",
      "metadata": {
        "id": "1e-3zzdHedgm"
      },
      "source": [
        "### Train Fine tuned BERT for Spanish\n"
      ]
    },
    {
      "cell_type": "code",
      "execution_count": 101,
      "metadata": {
        "colab": {
          "base_uri": "https://localhost:8080/",
          "height": 1000,
          "referenced_widgets": [
            "10a52766ac204167b68bb747a79743b5",
            "fe303b3941f946fe82becf5329750fd1",
            "da0c73d02f31423980f7485c240f4f46",
            "e048e3274f874ca6942fc19d4d538601",
            "0662b72e523d45a49acd9c536b2c008b",
            "e8e05c0c1ffd4c45a3cb5dfa5b1087ce",
            "2451ecf221c34a5eacb90763af092e50",
            "3aeed8376b31455bae31dd011a272988",
            "2f348344b2174a2ca5050988948fec85",
            "d7d1e03ecd054dad8507336ffb207a1e",
            "f5f16141ebc44a1c8336f12f34cdb561"
          ]
        },
        "id": "hs95oojQzgZZ",
        "outputId": "c28e708f-d003-4659-8770-9ba8b0b657d8"
      },
      "outputs": [
        {
          "output_type": "display_data",
          "data": {
            "application/vnd.jupyter.widget-view+json": {
              "model_id": "10a52766ac204167b68bb747a79743b5",
              "version_minor": 0,
              "version_major": 2
            },
            "text/plain": [
              "Downloading:   0%|          | 0.00/681M [00:00<?, ?B/s]"
            ]
          },
          "metadata": {}
        },
        {
          "output_type": "stream",
          "name": "stderr",
          "text": [
            "Some weights of the model checkpoint at bert-base-multilingual-cased were not used when initializing BertForSequenceClassification: ['cls.seq_relationship.weight', 'cls.predictions.decoder.weight', 'cls.predictions.bias', 'cls.seq_relationship.bias', 'cls.predictions.transform.dense.weight', 'cls.predictions.transform.LayerNorm.bias', 'cls.predictions.transform.dense.bias', 'cls.predictions.transform.LayerNorm.weight']\n",
            "- This IS expected if you are initializing BertForSequenceClassification from the checkpoint of a model trained on another task or with another architecture (e.g. initializing a BertForSequenceClassification model from a BertForPreTraining model).\n",
            "- This IS NOT expected if you are initializing BertForSequenceClassification from the checkpoint of a model that you expect to be exactly identical (initializing a BertForSequenceClassification model from a BertForSequenceClassification model).\n",
            "Some weights of BertForSequenceClassification were not initialized from the model checkpoint at bert-base-multilingual-cased and are newly initialized: ['classifier.weight', 'classifier.bias']\n",
            "You should probably TRAIN this model on a down-stream task to be able to use it for predictions and inference.\n"
          ]
        },
        {
          "output_type": "stream",
          "name": "stdout",
          "text": [
            "              precision    recall  f1-score   support\n",
            "\n",
            "           0       0.83      0.80      0.81       547\n",
            "           1       0.69      0.73      0.71       343\n",
            "\n",
            "    accuracy                           0.77       890\n",
            "   macro avg       0.76      0.76      0.76       890\n",
            "weighted avg       0.77      0.77      0.77       890\n",
            "\n",
            "accuracy = 0.77\n",
            "Epoch: 01 | Epoch Time: 1m 5s\n",
            "\tTrain Loss: 0.599 | Train Acc: 68.60%\n",
            "\t Val. Loss: 0.504 |  Val. Acc: 77.08%\n",
            "              precision    recall  f1-score   support\n",
            "\n",
            "           0       0.86      0.80      0.83       567\n",
            "           1       0.69      0.78      0.73       323\n",
            "\n",
            "    accuracy                           0.79       890\n",
            "   macro avg       0.78      0.79      0.78       890\n",
            "weighted avg       0.80      0.79      0.80       890\n",
            "\n",
            "accuracy = 0.79\n",
            "Epoch: 02 | Epoch Time: 1m 5s\n",
            "\tTrain Loss: 0.439 | Train Acc: 80.84%\n",
            "\t Val. Loss: 0.470 |  Val. Acc: 79.33%\n",
            "              precision    recall  f1-score   support\n",
            "\n",
            "           0       0.80      0.87      0.83       482\n",
            "           1       0.83      0.74      0.78       408\n",
            "\n",
            "    accuracy                           0.81       890\n",
            "   macro avg       0.81      0.80      0.80       890\n",
            "weighted avg       0.81      0.81      0.81       890\n",
            "\n",
            "accuracy = 0.81\n",
            "Epoch: 03 | Epoch Time: 1m 5s\n",
            "\tTrain Loss: 0.332 | Train Acc: 88.54%\n",
            "\t Val. Loss: 0.597 |  Val. Acc: 80.79%\n",
            "              precision    recall  f1-score   support\n",
            "\n",
            "           0       0.86      0.82      0.84       553\n",
            "           1       0.72      0.78      0.75       337\n",
            "\n",
            "    accuracy                           0.80       890\n",
            "   macro avg       0.79      0.80      0.80       890\n",
            "weighted avg       0.81      0.80      0.81       890\n",
            "\n",
            "accuracy = 0.80\n",
            "Epoch: 04 | Epoch Time: 1m 5s\n",
            "\tTrain Loss: 0.224 | Train Acc: 93.54%\n",
            "\t Val. Loss: 0.897 |  Val. Acc: 80.45%\n",
            "              precision    recall  f1-score   support\n",
            "\n",
            "           0       0.79      0.87      0.83       478\n",
            "           1       0.83      0.73      0.77       412\n",
            "\n",
            "    accuracy                           0.80       890\n",
            "   macro avg       0.81      0.80      0.80       890\n",
            "weighted avg       0.81      0.80      0.80       890\n",
            "\n",
            "accuracy = 0.80\n",
            "Epoch: 05 | Epoch Time: 1m 5s\n",
            "\tTrain Loss: 0.138 | Train Acc: 96.66%\n",
            "\t Val. Loss: 1.081 |  Val. Acc: 80.34%\n",
            "              precision    recall  f1-score   support\n",
            "\n",
            "           0       0.82      0.85      0.83       507\n",
            "           1       0.79      0.75      0.77       383\n",
            "\n",
            "    accuracy                           0.80       890\n",
            "   macro avg       0.80      0.80      0.80       890\n",
            "weighted avg       0.80      0.80      0.80       890\n",
            "\n",
            "accuracy = 0.80\n",
            "Epoch: 06 | Epoch Time: 1m 5s\n",
            "\tTrain Loss: 0.101 | Train Acc: 97.81%\n",
            "\t Val. Loss: 1.159 |  Val. Acc: 80.45%\n",
            "              precision    recall  f1-score   support\n",
            "\n",
            "           0       0.84      0.82      0.83       541\n",
            "           1       0.72      0.75      0.74       349\n",
            "\n",
            "    accuracy                           0.79       890\n",
            "   macro avg       0.78      0.78      0.78       890\n",
            "weighted avg       0.79      0.79      0.79       890\n",
            "\n",
            "accuracy = 0.79\n",
            "Epoch: 07 | Epoch Time: 1m 5s\n",
            "\tTrain Loss: 0.058 | Train Acc: 98.88%\n",
            "\t Val. Loss: 1.373 |  Val. Acc: 79.10%\n",
            "              precision    recall  f1-score   support\n",
            "\n",
            "           0       0.83      0.82      0.82       536\n",
            "           1       0.73      0.75      0.74       354\n",
            "\n",
            "    accuracy                           0.79       890\n",
            "   macro avg       0.78      0.78      0.78       890\n",
            "weighted avg       0.79      0.79      0.79       890\n",
            "\n",
            "accuracy = 0.79\n",
            "Epoch: 08 | Epoch Time: 1m 5s\n",
            "\tTrain Loss: 0.037 | Train Acc: 99.30%\n",
            "\t Val. Loss: 1.509 |  Val. Acc: 78.76%\n",
            "              precision    recall  f1-score   support\n",
            "\n",
            "           0       0.84      0.81      0.83       545\n",
            "           1       0.72      0.76      0.74       345\n",
            "\n",
            "    accuracy                           0.79       890\n",
            "   macro avg       0.78      0.78      0.78       890\n",
            "weighted avg       0.79      0.79      0.79       890\n",
            "\n",
            "accuracy = 0.79\n",
            "Epoch: 09 | Epoch Time: 1m 5s\n",
            "\tTrain Loss: 0.023 | Train Acc: 99.49%\n",
            "\t Val. Loss: 1.648 |  Val. Acc: 79.10%\n",
            "              precision    recall  f1-score   support\n",
            "\n",
            "           0       0.81      0.83      0.82       514\n",
            "           1       0.76      0.73      0.75       376\n",
            "\n",
            "    accuracy                           0.79       890\n",
            "   macro avg       0.79      0.78      0.78       890\n",
            "weighted avg       0.79      0.79      0.79       890\n",
            "\n",
            "accuracy = 0.79\n",
            "Epoch: 10 | Epoch Time: 1m 5s\n",
            "\tTrain Loss: 0.014 | Train Acc: 99.69%\n",
            "\t Val. Loss: 1.670 |  Val. Acc: 78.99%\n"
          ]
        }
      ],
      "source": [
        "if not FREEZE:\n",
        "  import gc\n",
        "  gc.collect()\n",
        "\n",
        "  model_sp = BertForSequenceClassification.from_pretrained('bert-base-multilingual-cased',\n",
        "                                                      num_labels=2,\n",
        "                                                      output_attentions=False,\n",
        "                                                      output_hidden_states=False,\n",
        "                                                      )\n",
        "  model_sp.cuda()\n",
        "\n",
        "\n",
        "  optimizer_sp = AdamW(model_sp.parameters(),lr=2e-5,eps=1e-8)\n",
        "\n",
        "  epochs=10\n",
        "  total_steps = len(train_data_loader_sp) * epochs\n",
        "\n",
        "  scheduler = get_linear_schedule_with_warmup(optimizer_sp,\n",
        "                                            num_warmup_steps=0,\n",
        "                                            num_training_steps=total_steps)\n",
        "\n",
        "  total_t0 = time.time()\n",
        "\n",
        "  seed_val = 42\n",
        "\n",
        "  random.seed(seed_val)\n",
        "  np.random.seed(seed_val)\n",
        "  torch.manual_seed(seed_val)\n",
        "  torch.cuda.manual_seed_all(seed_val)\n",
        "\n",
        "  epochs = 10\n",
        "\n",
        "  best_macro_f1 = float('0')\n",
        "  train_acc_eng_sp = []\n",
        "  val_acc_eng_sp = []\n",
        "  train_loss_eng_sp = []\n",
        "  val_loss_eng_sp = []\n",
        "\n",
        "  for epoch in range(epochs):\n",
        "      \n",
        "      start_time = time.time()\n",
        "      train_loss,train_acc = train(model_sp, train_data_loader_sp, optimizer_sp)\n",
        "      valid_loss,valid_acc,macro_f1 = evaluate(model_sp, valid_data_loader_sp)\n",
        "      \n",
        "      end_time = time.time()\n",
        "          \n",
        "      epoch_mins, epoch_secs = epoch_time(start_time, end_time)\n",
        "          \n",
        "      if macro_f1 > best_macro_f1:\n",
        "          best_macro_f1 = macro_f1\n",
        "          torch.save(model_sp,\"/content/gdrive/MyDrive/NLP Project/model_pt/model_spanish_task_a.pt\")\n",
        "      \n",
        "      print(f'Epoch: {epoch+1:02} | Epoch Time: {epoch_mins}m {epoch_secs}s')\n",
        "      print(f'\\tTrain Loss: {train_loss:.3f} | Train Acc: {train_acc*100:.2f}%')\n",
        "      print(f'\\t Val. Loss: {valid_loss:.3f} |  Val. Acc: {valid_acc*100:.2f}%')\n",
        "      train_acc_eng_sp.append(train_acc*100)\n",
        "      val_acc_eng_sp.append(valid_acc*100)\n",
        "      train_loss_eng_sp.append(train_loss*100)\n",
        "      val_loss_eng_sp.append(valid_loss*100)\n",
        "else:\n",
        "  model_sp = torch.load('/content/gdrive/MyDrive/NLP Project/model_pt/model_spanish_task_a.pt')\n",
        "  model_sp = model_sp.to(device)"
      ]
    },
    {
      "cell_type": "code",
      "execution_count": 102,
      "metadata": {
        "colab": {
          "base_uri": "https://localhost:8080/",
          "height": 642
        },
        "id": "LTTrcHTaAcVk",
        "outputId": "36c09809-a5dd-4e22-add4-53378b91e077"
      },
      "outputs": [
        {
          "output_type": "display_data",
          "data": {
            "image/png": "[encoded data removed]",
            "text/plain": [
              "<Figure size 432x288 with 1 Axes>"
            ]
          },
          "metadata": {
            "needs_background": "light"
          }
        },
        {
          "output_type": "stream",
          "name": "stdout",
          "text": [
            "92.33426966292134\n",
            "79.43820224719101\n"
          ]
        },
        {
          "output_type": "display_data",
          "data": {
            "image/png": "[encoded data removed]",
            "text/plain": [
              "<Figure size 432x288 with 1 Axes>"
            ]
          },
          "metadata": {
            "needs_background": "light"
          }
        },
        {
          "output_type": "stream",
          "name": "stdout",
          "text": [
            "19.65201180877561\n",
            "109.08409661954074\n"
          ]
        }
      ],
      "source": [
        "plot_vc(train_acc_eng_sp, val_acc_eng_sp)\n",
        "print(np.mean(train_acc_eng_sp))\n",
        "print(np.mean(val_acc_eng_sp))\n",
        "\n",
        "plot_lc(train_loss_eng_sp, val_loss_eng_sp)\n",
        "print(np.mean(train_loss_eng_sp))\n",
        "print(np.mean(val_loss_eng_sp))"
      ]
    },
    {
      "cell_type": "markdown",
      "metadata": {
        "id": "tHwL4iInEWQA"
      },
      "source": [
        "###Evaluate BERT Spanish"
      ]
    },
    {
      "cell_type": "code",
      "execution_count": 103,
      "metadata": {
        "colab": {
          "base_uri": "https://localhost:8080/"
        },
        "id": "gLmL1GV7ACvB",
        "outputId": "1533dd80-658b-4739-b10e-a54b58f770f0"
      },
      "outputs": [
        {
          "output_type": "stream",
          "name": "stdout",
          "text": [
            "              precision    recall  f1-score   support\n",
            "\n",
            "           0       0.74      0.88      0.81       236\n",
            "           1       0.87      0.73      0.79       264\n",
            "\n",
            "    accuracy                           0.80       500\n",
            "   macro avg       0.81      0.80      0.80       500\n",
            "weighted avg       0.81      0.80      0.80       500\n",
            "\n",
            "accuracy = 0.80\n"
          ]
        }
      ],
      "source": [
        "try:\n",
        "  del model_sp\n",
        "except NameError:\n",
        "  pass\n",
        "import gc\n",
        "gc.collect()\n",
        "\n",
        "model_sp = torch.load(\"/content/gdrive/MyDrive/NLP Project/model_pt/model_spanish_task_a.pt\")\n",
        "model_sp = model_sp.to(device)\n",
        "\n",
        "valid_loss_sp,valid_acc_sp,all_sentence_id_sp,all_pred_labels_sp = evaluate_test(model_sp, test_data_loader_sp)"
      ]
    },
    {
      "cell_type": "markdown",
      "source": [
        "## FRENCH"
      ],
      "metadata": {
        "id": "RIGJ15lerN1e"
      }
    },
    {
      "cell_type": "markdown",
      "metadata": {
        "id": "IjCXmZ_msEDM"
      },
      "source": [
        "###Load French Data"
      ]
    },
    {
      "cell_type": "code",
      "execution_count": 50,
      "metadata": {
        "colab": {
          "base_uri": "https://localhost:8080/",
          "height": 269,
          "referenced_widgets": [
            "727fafb188944a3089065a4c5d81feea",
            "58dd2eb6a5864c16a73e10ca58aa06a5",
            "13c377dfdf7744658903ff03c7a22f80",
            "5b36da1d9e8b4223bd0b96509fca7938",
            "ffa69bab4215409d9011548aa9eb0f33",
            "f34718a96bdd4380bd9f1c492cd089f6",
            "4071af3256034fdca77a18b4edbaf31a",
            "b6e3bdd684ea42da8a951be20d2b22c3",
            "cf89edaa02a54d82af343cf446ff17bf",
            "23c579eafdbe49c48dfbe744907b2e44",
            "9ac476c1cdd94bc1a2716a8dff7cf5d1",
            "f5668c589f274ca5bf94d613b434d980",
            "323418e3d47e4cd7a09b75fced373435",
            "2d58c729d7284c829aea369bb26ebfce",
            "a0bb3547c07d47b59ccd996db0656326",
            "ed9f60152ec54b7aa9d0b64030b55de7",
            "ef50b8c1c7b74cb19288837afd721016",
            "13d27700ea2d4de3910e95a8578c6793",
            "e7f2247b528749f9acdcef4d99461083",
            "97a1415f16fd487dbeb7a9b2440444a4",
            "2666b03433ca4c379a8a4fbf0497b337",
            "f2890ac3f1ed476d840efc114b2a2159",
            "3c68cf492ff2441c9afe9fc5a9d4884c",
            "8aeceaf603864ae0a8368e67c8c9510b",
            "749a6abe9c8d455ebf03f253f92178d7",
            "f06686386a9e4278bdb51becff14dac4",
            "550718e43d6a4a039ca8e6c09ffc7afa",
            "9a44b2728a884c7fbc147ef7c35a9139",
            "81e98ffedcef44d78898704f397b2078",
            "a3cae76d93d9489f996b5395dbc48d03",
            "47923888b09a4e1fb4bf32fa1538d45c",
            "9565208963424952b00fdf42e16599af",
            "fd08ad52b1ab40cda8d4b430726245ec",
            "733492cf71344a9ca2ed8bfb9bd5ff35",
            "f546b2ab83f84f049d075d3a518a3ead",
            "3fd8f3c938e448269df381b78fa27df3",
            "48e3d23d489d410aac565623598b6bf9",
            "c283b437e5144bbe84b8760fd1fca846",
            "91c6d9ef6a8744e2a5839b11bb3ee4c8",
            "387261b1d1554bc4b9bd3529347598ae",
            "b9399cd973004c78a5e8483ac3423fde",
            "e79e3141ebe24bc6908dc4a3b49f3172",
            "a9a38f2080a043a0ae48488c35e42b1b",
            "12b1276c384b4c058859813efd2329d9"
          ]
        },
        "id": "xBqNRl29sH6e",
        "outputId": "2e6170f0-eda9-4016-e1b8-355c1642b63f"
      },
      "outputs": [
        {
          "output_type": "display_data",
          "data": {
            "application/vnd.jupyter.widget-view+json": {
              "model_id": "727fafb188944a3089065a4c5d81feea",
              "version_minor": 0,
              "version_major": 2
            },
            "text/plain": [
              "Downloading:   0%|          | 0.00/972k [00:00<?, ?B/s]"
            ]
          },
          "metadata": {}
        },
        {
          "output_type": "display_data",
          "data": {
            "application/vnd.jupyter.widget-view+json": {
              "model_id": "f5668c589f274ca5bf94d613b434d980",
              "version_minor": 0,
              "version_major": 2
            },
            "text/plain": [
              "Downloading:   0%|          | 0.00/29.0 [00:00<?, ?B/s]"
            ]
          },
          "metadata": {}
        },
        {
          "output_type": "display_data",
          "data": {
            "application/vnd.jupyter.widget-view+json": {
              "model_id": "3c68cf492ff2441c9afe9fc5a9d4884c",
              "version_minor": 0,
              "version_major": 2
            },
            "text/plain": [
              "Downloading:   0%|          | 0.00/1.87M [00:00<?, ?B/s]"
            ]
          },
          "metadata": {}
        },
        {
          "output_type": "display_data",
          "data": {
            "application/vnd.jupyter.widget-view+json": {
              "model_id": "733492cf71344a9ca2ed8bfb9bd5ff35",
              "version_minor": 0,
              "version_major": 2
            },
            "text/plain": [
              "Downloading:   0%|          | 0.00/625 [00:00<?, ?B/s]"
            ]
          },
          "metadata": {}
        },
        {
          "output_type": "stream",
          "name": "stdout",
          "text": [
            "max token length in train_data is:  72\n"
          ]
        },
        {
          "output_type": "stream",
          "name": "stderr",
          "text": [
            "/usr/local/lib/python3.7/dist-packages/transformers/tokenization_utils_base.py:2227: FutureWarning: The `pad_to_max_length` argument is deprecated and will be removed in a future version, use `padding=True` or `padding='longest'` to pad to the longest sequence in the batch, or use `padding='max_length'` to pad to a max length. In this case, you can give a specific length with `max_length` (e.g. `max_length=45`) or leave max_length to None to pad to the maximal input size of the model (e.g. 512 for Bert).\n",
            "  FutureWarning,\n"
          ]
        },
        {
          "output_type": "stream",
          "name": "stdout",
          "text": [
            "train data samples is 3200\n",
            "valid data samples is 800\n",
            "test data samples is 1000\n"
          ]
        }
      ],
      "source": [
        "train_data_fr = french_df_2019.copy()\n",
        "test_data_fr = french_df_2019t.copy()\n",
        "# labels = {'HOF': 1, 'NOT': 0}\n",
        "\n",
        "# train_data['HS'] = train_data['HS'].apply(lambda x: labels[x])\n",
        "# test_data['task_1'] = test_data['task_1'].apply(lambda x: labels[x])\n",
        "\n",
        "tokenizer_fr = BertTokenizer.from_pretrained('bert-base-multilingual-cased')\n",
        "\n",
        "max_length = 0\n",
        "for sentence in train_data_fr['text']:\n",
        "    #print(sentence)\n",
        "    length = len(tokenizer_fr.tokenize(sentence))\n",
        "    if length > max_length:\n",
        "        max_length  = length\n",
        "print(\"max token length in train_data is: \",max_length)\n",
        "\n",
        "sent_index_fr,input_ids_fr,attention_masks_fr = encoder_generator(tokenizer_fr, list(train_data_fr['text']))\n",
        "test_sent_index_fr,test_input_ids_fr,test_attention_masks_fr = encoder_generator(tokenizer_fr, list(test_data_fr['text']))\n",
        "# print('Original: ', train_data_fr['text'][0])\n",
        "# print('Token IDs:', input_ids_fr[0])\n",
        "dataset_fr = TensorDataset(input_ids_fr,attention_masks_fr,torch.tensor(train_data_fr['label']))\n",
        "test_dataset_fr = TensorDataset(test_sent_index_fr,test_input_ids_fr,test_attention_masks_fr,torch.tensor(test_data_fr['label']))\n",
        "\n",
        "train_size_fr = int(0.8*len(dataset_fr))\n",
        "\n",
        "val_size_fr = len(dataset_fr)-train_size_fr\n",
        "\n",
        "train_dataset_fr,val_dataset_fr = random_split(dataset_fr,[train_size_fr,val_size_fr])\n",
        "\n",
        "print('train data samples is {}'.format(len(train_dataset_fr)))\n",
        "print(\"valid data samples is {}\".format(len(val_dataset_fr)))\n",
        "print(\"test data samples is {}\".format(len(test_dataset_fr)))\n",
        "\n",
        "bs=8\n",
        "\n",
        "train_data_loader_fr = DataLoader(train_dataset_fr,\n",
        "                              sampler=RandomSampler(train_dataset_fr),\n",
        "                              batch_size=bs)\n",
        "valid_data_loader_fr = DataLoader(val_dataset_fr,\n",
        "                              sampler=SequentialSampler(val_dataset_fr),\n",
        "                              batch_size=bs)\n",
        "test_data_loader_fr = DataLoader(test_dataset_fr,\n",
        "                            sampler=SequentialSampler(test_dataset_fr),\n",
        "                            batch_size=bs)\n"
      ]
    },
    {
      "cell_type": "markdown",
      "metadata": {
        "id": "xhv1afoZfZaf"
      },
      "source": [
        "### Evaluate BERT(Spanish) on French Val Data\n",
        "\n",
        "Bert trained on English and evaluated"
      ]
    },
    {
      "cell_type": "code",
      "execution_count": 105,
      "metadata": {
        "colab": {
          "base_uri": "https://localhost:8080/"
        },
        "id": "fb3lwerArgIx",
        "outputId": "68469b7d-a3ea-4a16-cc49-33b53c6ed679"
      },
      "outputs": [
        {
          "output_type": "stream",
          "name": "stdout",
          "text": [
            "              precision    recall  f1-score   support\n",
            "\n",
            "           0       0.92      0.85      0.88       923\n",
            "           1       0.07      0.13      0.09        77\n",
            "\n",
            "    accuracy                           0.79      1000\n",
            "   macro avg       0.49      0.49      0.48      1000\n",
            "weighted avg       0.86      0.79      0.82      1000\n",
            "\n",
            "accuracy = 0.79\n"
          ]
        }
      ],
      "source": [
        "import gc\n",
        "gc.collect()\n",
        "\n",
        "model_fr = torch.load(\"/content/gdrive/MyDrive/NLP Project/model_pt/model_spanish_task_a.pt\")\n",
        "model_fr = model_fr.to(device)\n",
        "\n",
        "valid_loss_fr,valid_acc_fr,all_sentence_id_fr,all_pred_labels_fr = evaluate_test(model_fr, test_data_loader_fr)"
      ]
    },
    {
      "cell_type": "markdown",
      "metadata": {
        "id": "qGbv_iHNs0P2"
      },
      "source": [
        "### Train BERT on FRENCH\n",
        "\n",
        "\n"
      ]
    },
    {
      "cell_type": "code",
      "execution_count": 52,
      "metadata": {
        "colab": {
          "base_uri": "https://localhost:8080/"
        },
        "id": "6MVB4ypzs80R",
        "outputId": "c3f4e2e8-d71d-41b6-cd77-79b8ff5e67e1"
      },
      "outputs": [
        {
          "output_type": "stream",
          "name": "stderr",
          "text": [
            "/usr/local/lib/python3.7/dist-packages/sklearn/metrics/_classification.py:1308: UndefinedMetricWarning: Recall and F-score are ill-defined and being set to 0.0 in labels with no true samples. Use `zero_division` parameter to control this behavior.\n",
            "  _warn_prf(average, modifier, msg_start, len(result))\n",
            "/usr/local/lib/python3.7/dist-packages/sklearn/metrics/_classification.py:1308: UndefinedMetricWarning: Recall and F-score are ill-defined and being set to 0.0 in labels with no true samples. Use `zero_division` parameter to control this behavior.\n",
            "  _warn_prf(average, modifier, msg_start, len(result))\n",
            "/usr/local/lib/python3.7/dist-packages/sklearn/metrics/_classification.py:1308: UndefinedMetricWarning: Recall and F-score are ill-defined and being set to 0.0 in labels with no true samples. Use `zero_division` parameter to control this behavior.\n",
            "  _warn_prf(average, modifier, msg_start, len(result))\n"
          ]
        },
        {
          "output_type": "stream",
          "name": "stdout",
          "text": [
            "              precision    recall  f1-score   support\n",
            "\n",
            "           0       1.00      0.86      0.93       800\n",
            "           1       0.00      0.00      0.00         0\n",
            "\n",
            "    accuracy                           0.86       800\n",
            "   macro avg       0.50      0.43      0.46       800\n",
            "weighted avg       1.00      0.86      0.93       800\n",
            "\n",
            "accuracy = 0.86\n",
            "Epoch: 01 | Epoch Time: 0m 59s\n",
            "\tTrain Loss: 0.411 | Train Acc: 86.59%\n",
            "\t Val. Loss: 0.392 |  Val. Acc: 86.38%\n",
            "              precision    recall  f1-score   support\n",
            "\n",
            "           0       1.00      0.87      0.93       796\n",
            "           1       0.02      0.50      0.04         4\n",
            "\n",
            "    accuracy                           0.86       800\n",
            "   macro avg       0.51      0.68      0.48       800\n",
            "weighted avg       0.99      0.86      0.92       800\n",
            "\n",
            "accuracy = 0.86\n",
            "Epoch: 02 | Epoch Time: 0m 59s\n",
            "\tTrain Loss: 0.381 | Train Acc: 87.16%\n",
            "\t Val. Loss: 0.444 |  Val. Acc: 86.38%\n",
            "              precision    recall  f1-score   support\n",
            "\n",
            "           0       0.96      0.91      0.93       731\n",
            "           1       0.39      0.61      0.47        69\n",
            "\n",
            "    accuracy                           0.88       800\n",
            "   macro avg       0.67      0.76      0.70       800\n",
            "weighted avg       0.91      0.88      0.89       800\n",
            "\n",
            "accuracy = 0.88\n",
            "Epoch: 03 | Epoch Time: 0m 58s\n",
            "\tTrain Loss: 0.289 | Train Acc: 91.84%\n",
            "\t Val. Loss: 0.453 |  Val. Acc: 88.25%\n",
            "              precision    recall  f1-score   support\n",
            "\n",
            "           0       0.95      0.90      0.93       724\n",
            "           1       0.37      0.53      0.43        76\n",
            "\n",
            "    accuracy                           0.87       800\n",
            "   macro avg       0.66      0.72      0.68       800\n",
            "weighted avg       0.89      0.87      0.88       800\n",
            "\n",
            "accuracy = 0.87\n",
            "Epoch: 04 | Epoch Time: 0m 58s\n",
            "\tTrain Loss: 0.213 | Train Acc: 94.50%\n",
            "\t Val. Loss: 0.585 |  Val. Acc: 86.88%\n",
            "              precision    recall  f1-score   support\n",
            "\n",
            "           0       0.95      0.90      0.93       723\n",
            "           1       0.37      0.52      0.43        77\n",
            "\n",
            "    accuracy                           0.87       800\n",
            "   macro avg       0.66      0.71      0.68       800\n",
            "weighted avg       0.89      0.87      0.88       800\n",
            "\n",
            "accuracy = 0.87\n",
            "Epoch: 05 | Epoch Time: 0m 58s\n",
            "\tTrain Loss: 0.133 | Train Acc: 96.78%\n",
            "\t Val. Loss: 0.656 |  Val. Acc: 86.75%\n"
          ]
        }
      ],
      "source": [
        "try:\n",
        "  del model_fr\n",
        "except NameError:\n",
        "  pass\n",
        "import gc\n",
        "gc.collect()\n",
        "\n",
        "from transformers import BertForSequenceClassification, AdamW\n",
        "\n",
        "\n",
        "model_fr = torch.load(\"/content/gdrive/MyDrive/NLP Project/model_pt/model_spanish_task_a.pt\")\n",
        "model_fr = model_fr.to(device)\n",
        "\n",
        "optimizer_fr = AdamW(model_fr.parameters(),lr=2e-5,eps=1e-8)\n",
        "\n",
        "epochs=5\n",
        "total_steps = len(train_data_loader_fr) * epochs\n",
        "\n",
        "scheduler = get_linear_schedule_with_warmup(optimizer_fr,\n",
        "                                           num_warmup_steps=0,\n",
        "                                           num_training_steps=total_steps)\n",
        "\n",
        "total_t0 = time.time()\n",
        "\n",
        "seed_val = 42\n",
        "\n",
        "random.seed(seed_val)\n",
        "np.random.seed(seed_val)\n",
        "torch.manual_seed(seed_val)\n",
        "torch.cuda.manual_seed_all(seed_val)\n",
        "\n",
        "best_macro_f1 = float('0')\n",
        "train_acc_eng_fr = []\n",
        "val_acc_eng_fr = []\n",
        "train_loss_eng_fr = []\n",
        "val_loss_eng_fr = []\n",
        "\n",
        "for epoch in range(epochs):\n",
        "    \n",
        "    start_time = time.time()\n",
        "    train_loss,train_acc = train(model_fr, train_data_loader_fr, optimizer_fr)\n",
        "    valid_loss,valid_acc,macro_f1 = evaluate(model_fr, valid_data_loader_fr)\n",
        "    \n",
        "    end_time = time.time()\n",
        "        \n",
        "    epoch_mins, epoch_secs = epoch_time(start_time, end_time)\n",
        "        \n",
        "    if macro_f1 > best_macro_f1:\n",
        "        best_macro_f1 = macro_f1\n",
        "        torch.save(model_fr,\"/content/gdrive/MyDrive/NLP Project/model_pt/model_spanish_french_task_a.pt\")\n",
        "    \n",
        "    print(f'Epoch: {epoch+1:02} | Epoch Time: {epoch_mins}m {epoch_secs}s')\n",
        "    print(f'\\tTrain Loss: {train_loss:.3f} | Train Acc: {train_acc*100:.2f}%')\n",
        "    print(f'\\t Val. Loss: {valid_loss:.3f} |  Val. Acc: {valid_acc*100:.2f}%')\n",
        "    train_acc_eng_fr.append(train_acc*100)\n",
        "    val_acc_eng_fr.append(valid_acc*100)\n",
        "    train_loss_eng_fr.append(train_loss*100)\n",
        "    val_loss_eng_fr.append(valid_loss*100)"
      ]
    },
    {
      "cell_type": "code",
      "execution_count": 53,
      "metadata": {
        "colab": {
          "base_uri": "https://localhost:8080/",
          "height": 642
        },
        "id": "F5O-kRLTtPdM",
        "outputId": "d8801d7d-a569-4e60-bf68-07b61be65994"
      },
      "outputs": [
        {
          "output_type": "display_data",
          "data": {
            "image/png": "[encoded data removed]",
            "text/plain": [
              "<Figure size 432x288 with 1 Axes>"
            ]
          },
          "metadata": {
            "needs_background": "light"
          }
        },
        {
          "output_type": "stream",
          "name": "stdout",
          "text": [
            "91.375\n",
            "86.925\n"
          ]
        },
        {
          "output_type": "display_data",
          "data": {
            "image/png": "[encoded data removed]",
            "text/plain": [
              "<Figure size 432x288 with 1 Axes>"
            ]
          },
          "metadata": {
            "needs_background": "light"
          }
        },
        {
          "output_type": "stream",
          "name": "stdout",
          "text": [
            "28.548825638124253\n",
            "50.59452072265558\n"
          ]
        }
      ],
      "source": [
        "plot_vc(train_acc_eng_fr, val_acc_eng_fr)\n",
        "print(np.mean(train_acc_eng_fr))\n",
        "print(np.mean(val_acc_eng_fr))\n",
        "\n",
        "plot_lc(train_loss_eng_fr, val_loss_eng_fr)\n",
        "print(np.mean(train_loss_eng_fr))\n",
        "print(np.mean(val_loss_eng_fr))"
      ]
    },
    {
      "cell_type": "markdown",
      "metadata": {
        "id": "3LkQfvdBtUhc"
      },
      "source": [
        "###Evaluate French"
      ]
    },
    {
      "cell_type": "code",
      "execution_count": 54,
      "metadata": {
        "colab": {
          "base_uri": "https://localhost:8080/"
        },
        "id": "hh-QagMwtaco",
        "outputId": "43d9547d-651f-4a8e-f88f-f25940fd28b0"
      },
      "outputs": [
        {
          "output_type": "stream",
          "name": "stdout",
          "text": [
            "              precision    recall  f1-score   support\n",
            "\n",
            "           0       0.96      0.91      0.93       932\n",
            "           1       0.29      0.51      0.37        68\n",
            "\n",
            "    accuracy                           0.88      1000\n",
            "   macro avg       0.63      0.71      0.65      1000\n",
            "weighted avg       0.92      0.88      0.90      1000\n",
            "\n",
            "accuracy = 0.88\n"
          ]
        }
      ],
      "source": [
        "del model_fr\n",
        "import gc\n",
        "gc.collect()\n",
        "\n",
        "model_fr = torch.load(\"/content/gdrive/MyDrive/NLP Project/model_pt/model_spanish_french_task_a.pt\")\n",
        "model_fr = model_fr.to(device)\n",
        "\n",
        "valid_loss_fr,valid_acc_fr,all_sentence_id_fr,all_pred_labels_fr = evaluate_test(model_fr, test_data_loader_fr)"
      ]
    },
    {
      "cell_type": "markdown",
      "source": [
        "## GERMAN"
      ],
      "metadata": {
        "id": "aPIN78PZrVu5"
      }
    },
    {
      "cell_type": "markdown",
      "metadata": {
        "id": "ZAsbOqBZG5Tk"
      },
      "source": [
        "### Load German data"
      ]
    },
    {
      "cell_type": "code",
      "execution_count": 117,
      "metadata": {
        "colab": {
          "base_uri": "https://localhost:8080/"
        },
        "id": "f9uwT6TLBUZI",
        "outputId": "9a79e8cc-77f7-44a8-89c7-3d02f035d369"
      },
      "outputs": [
        {
          "output_type": "stream",
          "name": "stdout",
          "text": [
            "max token length in train_data is:  132\n"
          ]
        },
        {
          "output_type": "stream",
          "name": "stderr",
          "text": [
            "/usr/local/lib/python3.7/dist-packages/transformers/tokenization_utils_base.py:2227: FutureWarning: The `pad_to_max_length` argument is deprecated and will be removed in a future version, use `padding=True` or `padding='longest'` to pad to the longest sequence in the batch, or use `padding='max_length'` to pad to a max length. In this case, you can give a specific length with `max_length` (e.g. `max_length=45`) or leave max_length to None to pad to the maximal input size of the model (e.g. 512 for Bert).\n",
            "  FutureWarning,\n"
          ]
        },
        {
          "output_type": "stream",
          "name": "stdout",
          "text": [
            "Original:  Frank Rennicke   Ich bin stolz \n",
            "Token IDs: tensor([  101, 11872, 52712, 71609, 10112, 21023, 16292, 47264, 48275,   102,\n",
            "            0,     0,     0,     0,     0,     0,     0,     0,     0,     0,\n",
            "            0,     0,     0,     0,     0,     0,     0,     0,     0,     0,\n",
            "            0,     0,     0,     0,     0,     0,     0,     0,     0,     0,\n",
            "            0,     0,     0,     0,     0,     0,     0,     0,     0,     0,\n",
            "            0,     0,     0,     0,     0,     0,     0,     0,     0,     0,\n",
            "            0,     0,     0,     0,     0,     0,     0,     0,     0,     0,\n",
            "            0,     0,     0,     0,     0,     0,     0,     0,     0,     0,\n",
            "            0,     0,     0,     0,     0,     0,     0,     0,     0,     0,\n",
            "            0,     0,     0,     0,     0,     0,     0,     0,     0,     0,\n",
            "            0,     0,     0,     0,     0,     0,     0,     0,     0,     0,\n",
            "            0,     0,     0,     0,     0,     0,     0,     0,     0,     0,\n",
            "            0,     0,     0,     0,     0,     0,     0,     0])\n",
            "train data samples is 3055\n",
            "valid data samples is 764\n",
            "test data samples is 526\n"
          ]
        }
      ],
      "source": [
        "train_data_ger = german_df_2019.copy()\n",
        "test_data_ger = german_df_2019t.copy()\n",
        "labels = {'HOF': 0, 'NOT': 1}\n",
        "\n",
        "train_data_ger['task_1'] = train_data_ger['task_1'].apply(lambda x: labels[x])\n",
        "test_data_ger['task1'] = test_data_ger['task1'].apply(lambda x: labels[x])\n",
        "\n",
        "tokenizer_ger = BertTokenizer.from_pretrained('bert-base-multilingual-cased')\n",
        "\n",
        "max_length = 0\n",
        "for sentence in train_data_ger['text']:\n",
        "    #print(sentence)\n",
        "    length = len(tokenizer_ger.tokenize(sentence))\n",
        "    if length > max_length:\n",
        "        max_length  = length\n",
        "print(\"max token length in train_data is: \",max_length)\n",
        "\n",
        "sent_index_ger,input_ids_ger,attention_masks_ger = encoder_generator(tokenizer_ger, list(train_data_ger['text']))\n",
        "test_sent_index_ger,test_input_ids_ger,test_attention_masks_ger = encoder_generator(tokenizer_ger, list(test_data_ger['text']))\n",
        "print('Original: ', train_data_ger['text'][0])\n",
        "print('Token IDs:', input_ids_ger[0])\n",
        "dataset_ger = TensorDataset(input_ids_ger,attention_masks_ger,torch.tensor(train_data_ger['task_1']))\n",
        "test_dataset_ger = TensorDataset(test_sent_index_ger,test_input_ids_ger,test_attention_masks_ger,torch.tensor(test_data_ger['task1']))\n",
        "\n",
        "train_size_ger = int(0.8*len(dataset_ger))\n",
        "\n",
        "val_size_ger = len(dataset_ger)-train_size_ger\n",
        "\n",
        "train_dataset_ger,val_dataset_ger = random_split(dataset_ger,[train_size_ger,val_size_ger])\n",
        "\n",
        "print('train data samples is {}'.format(len(train_dataset_ger)))\n",
        "print(\"valid data samples is {}\".format(len(val_dataset_ger)))\n",
        "print(\"test data samples is {}\".format(len(test_dataset_ger)))\n",
        "\n",
        "bs=8\n",
        "\n",
        "train_data_loader_ger = DataLoader(train_dataset_ger,\n",
        "                              sampler=RandomSampler(train_dataset_ger),\n",
        "                              batch_size=bs)\n",
        "valid_data_loader_ger = DataLoader(val_dataset_ger,\n",
        "                              sampler=SequentialSampler(val_dataset_ger),\n",
        "                              batch_size=bs)\n",
        "test_data_loader_ger = DataLoader(test_dataset_ger,\n",
        "                            sampler=SequentialSampler(test_dataset_ger),\n",
        "                            batch_size=bs)\n"
      ]
    },
    {
      "cell_type": "markdown",
      "metadata": {
        "id": "NjRGeYF6HeIc"
      },
      "source": [
        "### Evaluate BERT(Spanish) on German Val Data\n",
        "\n",
        "Bert trained on English and evaluated"
      ]
    },
    {
      "cell_type": "code",
      "execution_count": 118,
      "metadata": {
        "colab": {
          "base_uri": "https://localhost:8080/"
        },
        "id": "ovPASukFG1yA",
        "outputId": "86554a2c-2606-43df-8c83-e59f19504ba8"
      },
      "outputs": [
        {
          "output_type": "stream",
          "name": "stdout",
          "text": [
            "              precision    recall  f1-score   support\n",
            "\n",
            "           0       0.78      0.23      0.36       447\n",
            "           1       0.13      0.63      0.21        79\n",
            "\n",
            "    accuracy                           0.29       526\n",
            "   macro avg       0.46      0.43      0.29       526\n",
            "weighted avg       0.69      0.29      0.34       526\n",
            "\n",
            "accuracy = 0.29\n"
          ]
        }
      ],
      "source": [
        "# if model_ger:\n",
        "#   del model_ger\n",
        "import gc\n",
        "gc.collect()\n",
        "\n",
        "model_ger = torch.load(\"/content/gdrive/MyDrive/NLP Project/model_pt/model_spanish_task_a.pt\")\n",
        "model_ger = model_ger.to(device)\n",
        "\n",
        "valid_loss_ger,valid_acc_ger,all_sentence_id_ger,all_pred_labels_ger = evaluate_test(model_ger, test_data_loader_ger)"
      ]
    },
    {
      "cell_type": "markdown",
      "metadata": {
        "id": "OtoAnVFkHpsC"
      },
      "source": [
        "###Train Fine tuned BERT (Spanish) for German"
      ]
    },
    {
      "cell_type": "code",
      "execution_count": 120,
      "metadata": {
        "colab": {
          "base_uri": "https://localhost:8080/"
        },
        "id": "BcpIUX3FHrW0",
        "outputId": "ee1d6d41-148c-4ca1-baf3-8bf46b525920"
      },
      "outputs": [
        {
          "metadata": {
            "tags": null
          },
          "name": "stderr",
          "output_type": "stream",
          "text": [
            "/usr/local/lib/python3.7/dist-packages/sklearn/metrics/_classification.py:1308: UndefinedMetricWarning: Recall and F-score are ill-defined and being set to 0.0 in labels with no true samples. Use `zero_division` parameter to control this behavior.\n",
            "  _warn_prf(average, modifier, msg_start, len(result))\n",
            "/usr/local/lib/python3.7/dist-packages/sklearn/metrics/_classification.py:1308: UndefinedMetricWarning: Recall and F-score are ill-defined and being set to 0.0 in labels with no true samples. Use `zero_division` parameter to control this behavior.\n",
            "  _warn_prf(average, modifier, msg_start, len(result))\n",
            "/usr/local/lib/python3.7/dist-packages/sklearn/metrics/_classification.py:1308: UndefinedMetricWarning: Recall and F-score are ill-defined and being set to 0.0 in labels with no true samples. Use `zero_division` parameter to control this behavior.\n",
            "  _warn_prf(average, modifier, msg_start, len(result))\n"
          ]
        },
        {
          "metadata": {
            "tags": null
          },
          "name": "stdout",
          "output_type": "stream",
          "text": [
            "              precision    recall  f1-score   support\n",
            "\n",
            "           0       0.00      0.00      0.00         0\n",
            "           1       1.00      0.89      0.94       764\n",
            "\n",
            "    accuracy                           0.89       764\n",
            "   macro avg       0.50      0.44      0.47       764\n",
            "weighted avg       1.00      0.89      0.94       764\n",
            "\n",
            "accuracy = 0.89\n",
            "Epoch: 01 | Epoch Time: 0m 55s\n",
            "\tTrain Loss: 0.364 | Train Acc: 88.97%\n",
            "\t Val. Loss: 0.326 |  Val. Acc: 88.87%\n"
          ]
        },
        {
          "metadata": {
            "tags": null
          },
          "name": "stderr",
          "output_type": "stream",
          "text": [
            "/usr/local/lib/python3.7/dist-packages/sklearn/metrics/_classification.py:1308: UndefinedMetricWarning: Recall and F-score are ill-defined and being set to 0.0 in labels with no true samples. Use `zero_division` parameter to control this behavior.\n",
            "  _warn_prf(average, modifier, msg_start, len(result))\n",
            "/usr/local/lib/python3.7/dist-packages/sklearn/metrics/_classification.py:1308: UndefinedMetricWarning: Recall and F-score are ill-defined and being set to 0.0 in labels with no true samples. Use `zero_division` parameter to control this behavior.\n",
            "  _warn_prf(average, modifier, msg_start, len(result))\n",
            "/usr/local/lib/python3.7/dist-packages/sklearn/metrics/_classification.py:1308: UndefinedMetricWarning: Recall and F-score are ill-defined and being set to 0.0 in labels with no true samples. Use `zero_division` parameter to control this behavior.\n",
            "  _warn_prf(average, modifier, msg_start, len(result))\n"
          ]
        },
        {
          "metadata": {
            "tags": null
          },
          "name": "stdout",
          "output_type": "stream",
          "text": [
            "              precision    recall  f1-score   support\n",
            "\n",
            "           0       0.00      0.00      0.00         0\n",
            "           1       1.00      0.89      0.94       764\n",
            "\n",
            "    accuracy                           0.89       764\n",
            "   macro avg       0.50      0.44      0.47       764\n",
            "weighted avg       1.00      0.89      0.94       764\n",
            "\n",
            "accuracy = 0.89\n",
            "Epoch: 02 | Epoch Time: 0m 56s\n",
            "\tTrain Loss: 0.342 | Train Acc: 89.45%\n",
            "\t Val. Loss: 0.350 |  Val. Acc: 88.87%\n"
          ]
        },
        {
          "metadata": {
            "tags": null
          },
          "name": "stderr",
          "output_type": "stream",
          "text": [
            "/usr/local/lib/python3.7/dist-packages/sklearn/metrics/_classification.py:1308: UndefinedMetricWarning: Recall and F-score are ill-defined and being set to 0.0 in labels with no true samples. Use `zero_division` parameter to control this behavior.\n",
            "  _warn_prf(average, modifier, msg_start, len(result))\n",
            "/usr/local/lib/python3.7/dist-packages/sklearn/metrics/_classification.py:1308: UndefinedMetricWarning: Recall and F-score are ill-defined and being set to 0.0 in labels with no true samples. Use `zero_division` parameter to control this behavior.\n",
            "  _warn_prf(average, modifier, msg_start, len(result))\n",
            "/usr/local/lib/python3.7/dist-packages/sklearn/metrics/_classification.py:1308: UndefinedMetricWarning: Recall and F-score are ill-defined and being set to 0.0 in labels with no true samples. Use `zero_division` parameter to control this behavior.\n",
            "  _warn_prf(average, modifier, msg_start, len(result))\n"
          ]
        },
        {
          "output_type": "stream",
          "name": "stdout",
          "text": [
            "              precision    recall  f1-score   support\n",
            "\n",
            "           0       0.00      0.00      0.00         0\n",
            "           1       1.00      0.89      0.94       764\n",
            "\n",
            "    accuracy                           0.89       764\n",
            "   macro avg       0.50      0.44      0.47       764\n",
            "weighted avg       1.00      0.89      0.94       764\n",
            "\n",
            "accuracy = 0.89\n",
            "Epoch: 03 | Epoch Time: 0m 56s\n",
            "\tTrain Loss: 0.341 | Train Acc: 89.46%\n",
            "\t Val. Loss: 0.355 |  Val. Acc: 88.87%\n",
            "              precision    recall  f1-score   support\n",
            "\n",
            "           0       0.00      0.00      0.00         1\n",
            "           1       1.00      0.89      0.94       763\n",
            "\n",
            "    accuracy                           0.89       764\n",
            "   macro avg       0.50      0.44      0.47       764\n",
            "weighted avg       1.00      0.89      0.94       764\n",
            "\n",
            "accuracy = 0.89\n",
            "Epoch: 04 | Epoch Time: 0m 56s\n",
            "\tTrain Loss: 0.341 | Train Acc: 89.49%\n",
            "\t Val. Loss: 0.390 |  Val. Acc: 88.74%\n",
            "              precision    recall  f1-score   support\n",
            "\n",
            "           0       0.16      0.34      0.22        41\n",
            "           1       0.96      0.90      0.93       723\n",
            "\n",
            "    accuracy                           0.87       764\n",
            "   macro avg       0.56      0.62      0.58       764\n",
            "weighted avg       0.92      0.87      0.89       764\n",
            "\n",
            "accuracy = 0.87\n",
            "Epoch: 05 | Epoch Time: 0m 56s\n",
            "\tTrain Loss: 0.314 | Train Acc: 90.15%\n",
            "\t Val. Loss: 0.376 |  Val. Acc: 87.17%\n",
            "              precision    recall  f1-score   support\n",
            "\n",
            "           0       0.05      0.31      0.08        13\n",
            "           1       0.99      0.89      0.94       751\n",
            "\n",
            "    accuracy                           0.88       764\n",
            "   macro avg       0.52      0.60      0.51       764\n",
            "weighted avg       0.97      0.88      0.92       764\n",
            "\n",
            "accuracy = 0.88\n",
            "Epoch: 06 | Epoch Time: 0m 56s\n",
            "\tTrain Loss: 0.259 | Train Acc: 92.96%\n",
            "\t Val. Loss: 0.479 |  Val. Acc: 88.22%\n",
            "              precision    recall  f1-score   support\n",
            "\n",
            "           0       0.24      0.41      0.30        49\n",
            "           1       0.96      0.91      0.93       715\n",
            "\n",
            "    accuracy                           0.88       764\n",
            "   macro avg       0.60      0.66      0.62       764\n",
            "weighted avg       0.91      0.88      0.89       764\n",
            "\n",
            "accuracy = 0.88\n",
            "Epoch: 07 | Epoch Time: 0m 56s\n",
            "\tTrain Loss: 0.206 | Train Acc: 94.80%\n",
            "\t Val. Loss: 0.501 |  Val. Acc: 87.70%\n",
            "              precision    recall  f1-score   support\n",
            "\n",
            "           0       0.14      0.34      0.20        35\n",
            "           1       0.97      0.90      0.93       729\n",
            "\n",
            "    accuracy                           0.87       764\n",
            "   macro avg       0.55      0.62      0.57       764\n",
            "weighted avg       0.93      0.87      0.90       764\n",
            "\n",
            "accuracy = 0.87\n",
            "Epoch: 08 | Epoch Time: 0m 56s\n",
            "\tTrain Loss: 0.156 | Train Acc: 96.37%\n",
            "\t Val. Loss: 0.589 |  Val. Acc: 87.43%\n",
            "              precision    recall  f1-score   support\n",
            "\n",
            "           0       0.19      0.37      0.25        43\n",
            "           1       0.96      0.90      0.93       721\n",
            "\n",
            "    accuracy                           0.87       764\n",
            "   macro avg       0.57      0.64      0.59       764\n",
            "weighted avg       0.92      0.87      0.89       764\n",
            "\n",
            "accuracy = 0.87\n",
            "Epoch: 09 | Epoch Time: 0m 56s\n",
            "\tTrain Loss: 0.115 | Train Acc: 97.55%\n",
            "\t Val. Loss: 0.669 |  Val. Acc: 87.43%\n",
            "              precision    recall  f1-score   support\n",
            "\n",
            "           0       0.19      0.35      0.24        46\n",
            "           1       0.96      0.90      0.93       718\n",
            "\n",
            "    accuracy                           0.87       764\n",
            "   macro avg       0.57      0.63      0.59       764\n",
            "weighted avg       0.91      0.87      0.89       764\n",
            "\n",
            "accuracy = 0.87\n",
            "Epoch: 10 | Epoch Time: 0m 56s\n",
            "\tTrain Loss: 0.104 | Train Acc: 97.87%\n",
            "\t Val. Loss: 0.702 |  Val. Acc: 87.04%\n"
          ]
        }
      ],
      "source": [
        "# if model_eng:\n",
        "#   del model_eng\n",
        "import gc\n",
        "gc.collect()\n",
        "\n",
        "model_eng = torch.load('/content/gdrive/MyDrive/NLP Project/model_pt/model_spanish_task_a.pt')\n",
        "model_eng = model_eng.to(device)\n",
        "\n",
        "optimizer_ger = AdamW(model_eng.parameters(),lr=2e-5,eps=1e-8)\n",
        "\n",
        "epochs=10\n",
        "total_steps = len(train_data_loader_ger) * epochs\n",
        "\n",
        "scheduler = get_linear_schedule_with_warmup(optimizer_ger,\n",
        "                                           num_warmup_steps=0,\n",
        "                                           num_training_steps=total_steps)\n",
        "\n",
        "total_t0 = time.time()\n",
        "\n",
        "seed_val = 42\n",
        "\n",
        "random.seed(seed_val)\n",
        "np.random.seed(seed_val)\n",
        "torch.manual_seed(seed_val)\n",
        "torch.cuda.manual_seed_all(seed_val)\n",
        "\n",
        "epochs = 10\n",
        "\n",
        "best_macro_f1 = float('0')\n",
        "train_acc_eng_ger = []\n",
        "val_acc_eng_ger = []\n",
        "train_loss_eng_ger=[]\n",
        "val_loss_eng_ger=[]\n",
        "\n",
        "for epoch in range(epochs):\n",
        "    \n",
        "    start_time = time.time()\n",
        "    train_loss,train_acc = train(model_eng, train_data_loader_ger, optimizer_ger)\n",
        "    valid_loss,valid_acc,macro_f1 = evaluate(model_eng, valid_data_loader_ger)\n",
        "    \n",
        "    end_time = time.time()\n",
        "        \n",
        "    epoch_mins, epoch_secs = epoch_time(start_time, end_time)\n",
        "        \n",
        "    if macro_f1 > best_macro_f1:\n",
        "        best_macro_f1 = macro_f1\n",
        "        torch.save(model_eng,\"/content/gdrive/MyDrive/NLP Project/model_pt/model_spanish_german_task_a.pt\")\n",
        "    \n",
        "    print(f'Epoch: {epoch+1:02} | Epoch Time: {epoch_mins}m {epoch_secs}s')\n",
        "    print(f'\\tTrain Loss: {train_loss:.3f} | Train Acc: {train_acc*100:.2f}%')\n",
        "    print(f'\\t Val. Loss: {valid_loss:.3f} |  Val. Acc: {valid_acc*100:.2f}%')\n",
        "    train_acc_eng_ger.append(train_acc*100)\n",
        "    val_acc_eng_ger.append(valid_acc*100)\n",
        "    train_loss_eng_ger.append(train_loss*100)\n",
        "    val_loss_eng_ger.append(valid_loss*100)"
      ]
    },
    {
      "cell_type": "code",
      "execution_count": 121,
      "metadata": {
        "colab": {
          "base_uri": "https://localhost:8080/",
          "height": 642
        },
        "id": "LBKu1GuUJ-ul",
        "outputId": "83c980d5-61f8-4c61-e4ff-e3dfa37a8ffc"
      },
      "outputs": [
        {
          "output_type": "display_data",
          "data": {
            "image/png": "[encoded data removed]",
            "text/plain": [
              "<Figure size 432x288 with 1 Axes>"
            ]
          },
          "metadata": {
            "needs_background": "light"
          }
        },
        {
          "output_type": "stream",
          "name": "stdout",
          "text": [
            "92.70661929827085\n",
            "88.03664921465969\n"
          ]
        },
        {
          "output_type": "display_data",
          "data": {
            "image/png": "[encoded data removed]",
            "text/plain": [
              "<Figure size 432x288 with 1 Axes>"
            ]
          },
          "metadata": {
            "needs_background": "light"
          }
        },
        {
          "output_type": "stream",
          "name": "stdout",
          "text": [
            "25.41770083962023\n",
            "47.38302688480568\n"
          ]
        }
      ],
      "source": [
        "plot_vc(train_acc_eng_ger, val_acc_eng_ger)\n",
        "print(np.mean(train_acc_eng_ger))\n",
        "print(np.mean(val_acc_eng_ger))\n",
        "\n",
        "plot_lc(train_loss_eng_ger, val_loss_eng_ger)\n",
        "print(np.mean(train_loss_eng_ger))\n",
        "print(np.mean(val_loss_eng_ger))"
      ]
    },
    {
      "cell_type": "markdown",
      "metadata": {
        "id": "rKMRQRDvIAhM"
      },
      "source": [
        "###Evaluate BERT Spanish->GER"
      ]
    },
    {
      "cell_type": "code",
      "execution_count": 122,
      "metadata": {
        "colab": {
          "base_uri": "https://localhost:8080/"
        },
        "id": "YBGB05XFHqlW",
        "outputId": "dbc31605-a945-499a-89d8-98f6b6e614db"
      },
      "outputs": [
        {
          "output_type": "stream",
          "name": "stdout",
          "text": [
            "              precision    recall  f1-score   support\n",
            "\n",
            "           0       0.38      0.50      0.43       103\n",
            "           1       0.87      0.80      0.83       423\n",
            "\n",
            "    accuracy                           0.74       526\n",
            "   macro avg       0.62      0.65      0.63       526\n",
            "weighted avg       0.77      0.74      0.76       526\n",
            "\n",
            "accuracy = 0.74\n"
          ]
        }
      ],
      "source": [
        "# if model_ger:\n",
        "#   del model_ger\n",
        "import gc\n",
        "gc.collect()\n",
        "\n",
        "model_ger = torch.load(\"/content/gdrive/MyDrive/NLP Project/model_pt/model_french_german_task_a.pt\")\n",
        "model_ger = model_ger.to(device)\n",
        "\n",
        "valid_loss_ger,valid_acc_ger,all_sentence_id_ger,all_pred_labels_ger = evaluate_test(model_ger, test_data_loader_ger)"
      ]
    },
    {
      "cell_type": "markdown",
      "metadata": {
        "id": "oTwrKjVeNQlL"
      },
      "source": [
        "### TODO\n",
        "\n",
        "\n",
        "\n",
        "*   Plot loss curve instead of accuracy curve [DONE]\n",
        "*   Verify the code flow and variable names [DONE]\n",
        "*   Results not good? Analyze the tokens generated - how much similar and how not. [DONE]\n",
        "\n",
        "---\n",
        "\n",
        "*   Data Augmentation [TBD]\n",
        "\n",
        "\n",
        "\n",
        "\n",
        "\n"
      ]
    },
    {
      "cell_type": "code",
      "execution_count": 113,
      "metadata": {
        "id": "OWwtptsgNEbS"
      },
      "outputs": [],
      "source": [
        ""
      ]
    },
    {
      "cell_type": "code",
      "source": [
        ""
      ],
      "metadata": {
        "id": "T3DOpxd4hIBn"
      },
      "execution_count": null,
      "outputs": []
    }
  ],
  "metadata": {
    "accelerator": "GPU",
    "colab": {
      "collapsed_sections": [
        "53B0-lnL18sP",
        "blgR0e9zfR2L",
        "OtQhFhKG-jxr"
      ],
      "machine_shape": "hm",
      "name": "NLP_Project_Spa_French.ipynb",
      "provenance": []
    },
    "kernelspec": {
      "display_name": "Python 3",
      "name": "python3"
    },
    "language_info": {
      "name": "python"
    },
    "widgets": {
      "application/vnd.jupyter.widget-state+json": {
        "10a52766ac204167b68bb747a79743b5": {
          "model_module": "@jupyter-widgets/controls",
          "model_name": "HBoxModel",
          "model_module_version": "1.5.0",
          "state": {
            "_view_name": "HBoxView",
            "_dom_classes": [],
            "_model_name": "HBoxModel",
            "_view_module": "@jupyter-widgets/controls",
            "_model_module_version": "1.5.0",
            "_view_count": null,
            "_view_module_version": "1.5.0",
            "box_style": "",
            "layout": "IPY_MODEL_fe303b3941f946fe82becf5329750fd1",
            "_model_module": "@jupyter-widgets/controls",
            "children": [
              "IPY_MODEL_da0c73d02f31423980f7485c240f4f46",
              "IPY_MODEL_e048e3274f874ca6942fc19d4d538601",
              "IPY_MODEL_0662b72e523d45a49acd9c536b2c008b"
            ]
          }
        },
        "fe303b3941f946fe82becf5329750fd1": {
          "model_module": "@jupyter-widgets/base",
          "model_name": "LayoutModel",
          "model_module_version": "1.2.0",
          "state": {
            "_view_name": "LayoutView",
            "grid_template_rows": null,
            "right": null,
            "justify_content": null,
            "_view_module": "@jupyter-widgets/base",
            "overflow": null,
            "_model_module_version": "1.2.0",
            "_view_count": null,
            "flex_flow": null,
            "width": null,
            "min_width": null,
            "border": null,
            "align_items": null,
            "bottom": null,
            "_model_module": "@jupyter-widgets/base",
            "top": null,
            "grid_column": null,
            "overflow_y": null,
            "overflow_x": null,
            "grid_auto_flow": null,
            "grid_area": null,
            "grid_template_columns": null,
            "flex": null,
            "_model_name": "LayoutModel",
            "justify_items": null,
            "grid_row": null,
            "max_height": null,
            "align_content": null,
            "visibility": null,
            "align_self": null,
            "height": null,
            "min_height": null,
            "padding": null,
            "grid_auto_rows": null,
            "grid_gap": null,
            "max_width": null,
            "order": null,
            "_view_module_version": "1.2.0",
            "grid_template_areas": null,
            "object_position": null,
            "object_fit": null,
            "grid_auto_columns": null,
            "margin": null,
            "display": null,
            "left": null
          }
        },
        "da0c73d02f31423980f7485c240f4f46": {
          "model_module": "@jupyter-widgets/controls",
          "model_name": "HTMLModel",
          "model_module_version": "1.5.0",
          "state": {
            "_view_name": "HTMLView",
            "style": "IPY_MODEL_e8e05c0c1ffd4c45a3cb5dfa5b1087ce",
            "_dom_classes": [],
            "description": "",
            "_model_name": "HTMLModel",
            "placeholder": "​",
            "_view_module": "@jupyter-widgets/controls",
            "_model_module_version": "1.5.0",
            "value": "Downloading: 100%",
            "_view_count": null,
            "_view_module_version": "1.5.0",
            "description_tooltip": null,
            "_model_module": "@jupyter-widgets/controls",
            "layout": "IPY_MODEL_2451ecf221c34a5eacb90763af092e50"
          }
        },
        "e048e3274f874ca6942fc19d4d538601": {
          "model_module": "@jupyter-widgets/controls",
          "model_name": "FloatProgressModel",
          "model_module_version": "1.5.0",
          "state": {
            "_view_name": "ProgressView",
            "style": "IPY_MODEL_3aeed8376b31455bae31dd011a272988",
            "_dom_classes": [],
            "description": "",
            "_model_name": "FloatProgressModel",
            "bar_style": "success",
            "max": 714314041,
            "_view_module": "@jupyter-widgets/controls",
            "_model_module_version": "1.5.0",
            "value": 714314041,
            "_view_count": null,
            "_view_module_version": "1.5.0",
            "orientation": "horizontal",
            "min": 0,
            "description_tooltip": null,
            "_model_module": "@jupyter-widgets/controls",
            "layout": "IPY_MODEL_2f348344b2174a2ca5050988948fec85"
          }
        },
        "0662b72e523d45a49acd9c536b2c008b": {
          "model_module": "@jupyter-widgets/controls",
          "model_name": "HTMLModel",
          "model_module_version": "1.5.0",
          "state": {
            "_view_name": "HTMLView",
            "style": "IPY_MODEL_d7d1e03ecd054dad8507336ffb207a1e",
            "_dom_classes": [],
            "description": "",
            "_model_name": "HTMLModel",
            "placeholder": "​",
            "_view_module": "@jupyter-widgets/controls",
            "_model_module_version": "1.5.0",
            "value": " 681M/681M [00:37&lt;00:00, 22.0MB/s]",
            "_view_count": null,
            "_view_module_version": "1.5.0",
            "description_tooltip": null,
            "_model_module": "@jupyter-widgets/controls",
            "layout": "IPY_MODEL_f5f16141ebc44a1c8336f12f34cdb561"
          }
        },
        "e8e05c0c1ffd4c45a3cb5dfa5b1087ce": {
          "model_module": "@jupyter-widgets/controls",
          "model_name": "DescriptionStyleModel",
          "model_module_version": "1.5.0",
          "state": {
            "_view_name": "StyleView",
            "_model_name": "DescriptionStyleModel",
            "description_width": "",
            "_view_module": "@jupyter-widgets/base",
            "_model_module_version": "1.5.0",
            "_view_count": null,
            "_view_module_version": "1.2.0",
            "_model_module": "@jupyter-widgets/controls"
          }
        },
        "2451ecf221c34a5eacb90763af092e50": {
          "model_module": "@jupyter-widgets/base",
          "model_name": "LayoutModel",
          "model_module_version": "1.2.0",
          "state": {
            "_view_name": "LayoutView",
            "grid_template_rows": null,
            "right": null,
            "justify_content": null,
            "_view_module": "@jupyter-widgets/base",
            "overflow": null,
            "_model_module_version": "1.2.0",
            "_view_count": null,
            "flex_flow": null,
            "width": null,
            "min_width": null,
            "border": null,
            "align_items": null,
            "bottom": null,
            "_model_module": "@jupyter-widgets/base",
            "top": null,
            "grid_column": null,
            "overflow_y": null,
            "overflow_x": null,
            "grid_auto_flow": null,
            "grid_area": null,
            "grid_template_columns": null,
            "flex": null,
            "_model_name": "LayoutModel",
            "justify_items": null,
            "grid_row": null,
            "max_height": null,
            "align_content": null,
            "visibility": null,
            "align_self": null,
            "height": null,
            "min_height": null,
            "padding": null,
            "grid_auto_rows": null,
            "grid_gap": null,
            "max_width": null,
            "order": null,
            "_view_module_version": "1.2.0",
            "grid_template_areas": null,
            "object_position": null,
            "object_fit": null,
            "grid_auto_columns": null,
            "margin": null,
            "display": null,
            "left": null
          }
        },
        "3aeed8376b31455bae31dd011a272988": {
          "model_module": "@jupyter-widgets/controls",
          "model_name": "ProgressStyleModel",
          "model_module_version": "1.5.0",
          "state": {
            "_view_name": "StyleView",
            "_model_name": "ProgressStyleModel",
            "description_width": "",
            "_view_module": "@jupyter-widgets/base",
            "_model_module_version": "1.5.0",
            "_view_count": null,
            "_view_module_version": "1.2.0",
            "bar_color": null,
            "_model_module": "@jupyter-widgets/controls"
          }
        },
        "2f348344b2174a2ca5050988948fec85": {
          "model_module": "@jupyter-widgets/base",
          "model_name": "LayoutModel",
          "model_module_version": "1.2.0",
          "state": {
            "_view_name": "LayoutView",
            "grid_template_rows": null,
            "right": null,
            "justify_content": null,
            "_view_module": "@jupyter-widgets/base",
            "overflow": null,
            "_model_module_version": "1.2.0",
            "_view_count": null,
            "flex_flow": null,
            "width": null,
            "min_width": null,
            "border": null,
            "align_items": null,
            "bottom": null,
            "_model_module": "@jupyter-widgets/base",
            "top": null,
            "grid_column": null,
            "overflow_y": null,
            "overflow_x": null,
            "grid_auto_flow": null,
            "grid_area": null,
            "grid_template_columns": null,
            "flex": null,
            "_model_name": "LayoutModel",
            "justify_items": null,
            "grid_row": null,
            "max_height": null,
            "align_content": null,
            "visibility": null,
            "align_self": null,
            "height": null,
            "min_height": null,
            "padding": null,
            "grid_auto_rows": null,
            "grid_gap": null,
            "max_width": null,
            "order": null,
            "_view_module_version": "1.2.0",
            "grid_template_areas": null,
            "object_position": null,
            "object_fit": null,
            "grid_auto_columns": null,
            "margin": null,
            "display": null,
            "left": null
          }
        },
        "d7d1e03ecd054dad8507336ffb207a1e": {
          "model_module": "@jupyter-widgets/controls",
          "model_name": "DescriptionStyleModel",
          "model_module_version": "1.5.0",
          "state": {
            "_view_name": "StyleView",
            "_model_name": "DescriptionStyleModel",
            "description_width": "",
            "_view_module": "@jupyter-widgets/base",
            "_model_module_version": "1.5.0",
            "_view_count": null,
            "_view_module_version": "1.2.0",
            "_model_module": "@jupyter-widgets/controls"
          }
        },
        "f5f16141ebc44a1c8336f12f34cdb561": {
          "model_module": "@jupyter-widgets/base",
          "model_name": "LayoutModel",
          "model_module_version": "1.2.0",
          "state": {
            "_view_name": "LayoutView",
            "grid_template_rows": null,
            "right": null,
            "justify_content": null,
            "_view_module": "@jupyter-widgets/base",
            "overflow": null,
            "_model_module_version": "1.2.0",
            "_view_count": null,
            "flex_flow": null,
            "width": null,
            "min_width": null,
            "border": null,
            "align_items": null,
            "bottom": null,
            "_model_module": "@jupyter-widgets/base",
            "top": null,
            "grid_column": null,
            "overflow_y": null,
            "overflow_x": null,
            "grid_auto_flow": null,
            "grid_area": null,
            "grid_template_columns": null,
            "flex": null,
            "_model_name": "LayoutModel",
            "justify_items": null,
            "grid_row": null,
            "max_height": null,
            "align_content": null,
            "visibility": null,
            "align_self": null,
            "height": null,
            "min_height": null,
            "padding": null,
            "grid_auto_rows": null,
            "grid_gap": null,
            "max_width": null,
            "order": null,
            "_view_module_version": "1.2.0",
            "grid_template_areas": null,
            "object_position": null,
            "object_fit": null,
            "grid_auto_columns": null,
            "margin": null,
            "display": null,
            "left": null
          }
        },
        "727fafb188944a3089065a4c5d81feea": {
          "model_module": "@jupyter-widgets/controls",
          "model_name": "HBoxModel",
          "model_module_version": "1.5.0",
          "state": {
            "_view_name": "HBoxView",
            "_dom_classes": [],
            "_model_name": "HBoxModel",
            "_view_module": "@jupyter-widgets/controls",
            "_model_module_version": "1.5.0",
            "_view_count": null,
            "_view_module_version": "1.5.0",
            "box_style": "",
            "layout": "IPY_MODEL_58dd2eb6a5864c16a73e10ca58aa06a5",
            "_model_module": "@jupyter-widgets/controls",
            "children": [
              "IPY_MODEL_13c377dfdf7744658903ff03c7a22f80",
              "IPY_MODEL_5b36da1d9e8b4223bd0b96509fca7938",
              "IPY_MODEL_ffa69bab4215409d9011548aa9eb0f33"
            ]
          }
        },
        "58dd2eb6a5864c16a73e10ca58aa06a5": {
          "model_module": "@jupyter-widgets/base",
          "model_name": "LayoutModel",
          "model_module_version": "1.2.0",
          "state": {
            "_view_name": "LayoutView",
            "grid_template_rows": null,
            "right": null,
            "justify_content": null,
            "_view_module": "@jupyter-widgets/base",
            "overflow": null,
            "_model_module_version": "1.2.0",
            "_view_count": null,
            "flex_flow": null,
            "width": null,
            "min_width": null,
            "border": null,
            "align_items": null,
            "bottom": null,
            "_model_module": "@jupyter-widgets/base",
            "top": null,
            "grid_column": null,
            "overflow_y": null,
            "overflow_x": null,
            "grid_auto_flow": null,
            "grid_area": null,
            "grid_template_columns": null,
            "flex": null,
            "_model_name": "LayoutModel",
            "justify_items": null,
            "grid_row": null,
            "max_height": null,
            "align_content": null,
            "visibility": null,
            "align_self": null,
            "height": null,
            "min_height": null,
            "padding": null,
            "grid_auto_rows": null,
            "grid_gap": null,
            "max_width": null,
            "order": null,
            "_view_module_version": "1.2.0",
            "grid_template_areas": null,
            "object_position": null,
            "object_fit": null,
            "grid_auto_columns": null,
            "margin": null,
            "display": null,
            "left": null
          }
        },
        "13c377dfdf7744658903ff03c7a22f80": {
          "model_module": "@jupyter-widgets/controls",
          "model_name": "HTMLModel",
          "model_module_version": "1.5.0",
          "state": {
            "_view_name": "HTMLView",
            "style": "IPY_MODEL_f34718a96bdd4380bd9f1c492cd089f6",
            "_dom_classes": [],
            "description": "",
            "_model_name": "HTMLModel",
            "placeholder": "​",
            "_view_module": "@jupyter-widgets/controls",
            "_model_module_version": "1.5.0",
            "value": "Downloading: 100%",
            "_view_count": null,
            "_view_module_version": "1.5.0",
            "description_tooltip": null,
            "_model_module": "@jupyter-widgets/controls",
            "layout": "IPY_MODEL_4071af3256034fdca77a18b4edbaf31a"
          }
        },
        "5b36da1d9e8b4223bd0b96509fca7938": {
          "model_module": "@jupyter-widgets/controls",
          "model_name": "FloatProgressModel",
          "model_module_version": "1.5.0",
          "state": {
            "_view_name": "ProgressView",
            "style": "IPY_MODEL_b6e3bdd684ea42da8a951be20d2b22c3",
            "_dom_classes": [],
            "description": "",
            "_model_name": "FloatProgressModel",
            "bar_style": "success",
            "max": 995526,
            "_view_module": "@jupyter-widgets/controls",
            "_model_module_version": "1.5.0",
            "value": 995526,
            "_view_count": null,
            "_view_module_version": "1.5.0",
            "orientation": "horizontal",
            "min": 0,
            "description_tooltip": null,
            "_model_module": "@jupyter-widgets/controls",
            "layout": "IPY_MODEL_cf89edaa02a54d82af343cf446ff17bf"
          }
        },
        "ffa69bab4215409d9011548aa9eb0f33": {
          "model_module": "@jupyter-widgets/controls",
          "model_name": "HTMLModel",
          "model_module_version": "1.5.0",
          "state": {
            "_view_name": "HTMLView",
            "style": "IPY_MODEL_23c579eafdbe49c48dfbe744907b2e44",
            "_dom_classes": [],
            "description": "",
            "_model_name": "HTMLModel",
            "placeholder": "​",
            "_view_module": "@jupyter-widgets/controls",
            "_model_module_version": "1.5.0",
            "value": " 972k/972k [00:00&lt;00:00, 3.02MB/s]",
            "_view_count": null,
            "_view_module_version": "1.5.0",
            "description_tooltip": null,
            "_model_module": "@jupyter-widgets/controls",
            "layout": "IPY_MODEL_9ac476c1cdd94bc1a2716a8dff7cf5d1"
          }
        },
        "f34718a96bdd4380bd9f1c492cd089f6": {
          "model_module": "@jupyter-widgets/controls",
          "model_name": "DescriptionStyleModel",
          "model_module_version": "1.5.0",
          "state": {
            "_view_name": "StyleView",
            "_model_name": "DescriptionStyleModel",
            "description_width": "",
            "_view_module": "@jupyter-widgets/base",
            "_model_module_version": "1.5.0",
            "_view_count": null,
            "_view_module_version": "1.2.0",
            "_model_module": "@jupyter-widgets/controls"
          }
        },
        "4071af3256034fdca77a18b4edbaf31a": {
          "model_module": "@jupyter-widgets/base",
          "model_name": "LayoutModel",
          "model_module_version": "1.2.0",
          "state": {
            "_view_name": "LayoutView",
            "grid_template_rows": null,
            "right": null,
            "justify_content": null,
            "_view_module": "@jupyter-widgets/base",
            "overflow": null,
            "_model_module_version": "1.2.0",
            "_view_count": null,
            "flex_flow": null,
            "width": null,
            "min_width": null,
            "border": null,
            "align_items": null,
            "bottom": null,
            "_model_module": "@jupyter-widgets/base",
            "top": null,
            "grid_column": null,
            "overflow_y": null,
            "overflow_x": null,
            "grid_auto_flow": null,
            "grid_area": null,
            "grid_template_columns": null,
            "flex": null,
            "_model_name": "LayoutModel",
            "justify_items": null,
            "grid_row": null,
            "max_height": null,
            "align_content": null,
            "visibility": null,
            "align_self": null,
            "height": null,
            "min_height": null,
            "padding": null,
            "grid_auto_rows": null,
            "grid_gap": null,
            "max_width": null,
            "order": null,
            "_view_module_version": "1.2.0",
            "grid_template_areas": null,
            "object_position": null,
            "object_fit": null,
            "grid_auto_columns": null,
            "margin": null,
            "display": null,
            "left": null
          }
        },
        "b6e3bdd684ea42da8a951be20d2b22c3": {
          "model_module": "@jupyter-widgets/controls",
          "model_name": "ProgressStyleModel",
          "model_module_version": "1.5.0",
          "state": {
            "_view_name": "StyleView",
            "_model_name": "ProgressStyleModel",
            "description_width": "",
            "_view_module": "@jupyter-widgets/base",
            "_model_module_version": "1.5.0",
            "_view_count": null,
            "_view_module_version": "1.2.0",
            "bar_color": null,
            "_model_module": "@jupyter-widgets/controls"
          }
        },
        "cf89edaa02a54d82af343cf446ff17bf": {
          "model_module": "@jupyter-widgets/base",
          "model_name": "LayoutModel",
          "model_module_version": "1.2.0",
          "state": {
            "_view_name": "LayoutView",
            "grid_template_rows": null,
            "right": null,
            "justify_content": null,
            "_view_module": "@jupyter-widgets/base",
            "overflow": null,
            "_model_module_version": "1.2.0",
            "_view_count": null,
            "flex_flow": null,
            "width": null,
            "min_width": null,
            "border": null,
            "align_items": null,
            "bottom": null,
            "_model_module": "@jupyter-widgets/base",
            "top": null,
            "grid_column": null,
            "overflow_y": null,
            "overflow_x": null,
            "grid_auto_flow": null,
            "grid_area": null,
            "grid_template_columns": null,
            "flex": null,
            "_model_name": "LayoutModel",
            "justify_items": null,
            "grid_row": null,
            "max_height": null,
            "align_content": null,
            "visibility": null,
            "align_self": null,
            "height": null,
            "min_height": null,
            "padding": null,
            "grid_auto_rows": null,
            "grid_gap": null,
            "max_width": null,
            "order": null,
            "_view_module_version": "1.2.0",
            "grid_template_areas": null,
            "object_position": null,
            "object_fit": null,
            "grid_auto_columns": null,
            "margin": null,
            "display": null,
            "left": null
          }
        },
        "23c579eafdbe49c48dfbe744907b2e44": {
          "model_module": "@jupyter-widgets/controls",
          "model_name": "DescriptionStyleModel",
          "model_module_version": "1.5.0",
          "state": {
            "_view_name": "StyleView",
            "_model_name": "DescriptionStyleModel",
            "description_width": "",
            "_view_module": "@jupyter-widgets/base",
            "_model_module_version": "1.5.0",
            "_view_count": null,
            "_view_module_version": "1.2.0",
            "_model_module": "@jupyter-widgets/controls"
          }
        },
        "9ac476c1cdd94bc1a2716a8dff7cf5d1": {
          "model_module": "@jupyter-widgets/base",
          "model_name": "LayoutModel",
          "model_module_version": "1.2.0",
          "state": {
            "_view_name": "LayoutView",
            "grid_template_rows": null,
            "right": null,
            "justify_content": null,
            "_view_module": "@jupyter-widgets/base",
            "overflow": null,
            "_model_module_version": "1.2.0",
            "_view_count": null,
            "flex_flow": null,
            "width": null,
            "min_width": null,
            "border": null,
            "align_items": null,
            "bottom": null,
            "_model_module": "@jupyter-widgets/base",
            "top": null,
            "grid_column": null,
            "overflow_y": null,
            "overflow_x": null,
            "grid_auto_flow": null,
            "grid_area": null,
            "grid_template_columns": null,
            "flex": null,
            "_model_name": "LayoutModel",
            "justify_items": null,
            "grid_row": null,
            "max_height": null,
            "align_content": null,
            "visibility": null,
            "align_self": null,
            "height": null,
            "min_height": null,
            "padding": null,
            "grid_auto_rows": null,
            "grid_gap": null,
            "max_width": null,
            "order": null,
            "_view_module_version": "1.2.0",
            "grid_template_areas": null,
            "object_position": null,
            "object_fit": null,
            "grid_auto_columns": null,
            "margin": null,
            "display": null,
            "left": null
          }
        },
        "f5668c589f274ca5bf94d613b434d980": {
          "model_module": "@jupyter-widgets/controls",
          "model_name": "HBoxModel",
          "model_module_version": "1.5.0",
          "state": {
            "_view_name": "HBoxView",
            "_dom_classes": [],
            "_model_name": "HBoxModel",
            "_view_module": "@jupyter-widgets/controls",
            "_model_module_version": "1.5.0",
            "_view_count": null,
            "_view_module_version": "1.5.0",
            "box_style": "",
            "layout": "IPY_MODEL_323418e3d47e4cd7a09b75fced373435",
            "_model_module": "@jupyter-widgets/controls",
            "children": [
              "IPY_MODEL_2d58c729d7284c829aea369bb26ebfce",
              "IPY_MODEL_a0bb3547c07d47b59ccd996db0656326",
              "IPY_MODEL_ed9f60152ec54b7aa9d0b64030b55de7"
            ]
          }
        },
        "323418e3d47e4cd7a09b75fced373435": {
          "model_module": "@jupyter-widgets/base",
          "model_name": "LayoutModel",
          "model_module_version": "1.2.0",
          "state": {
            "_view_name": "LayoutView",
            "grid_template_rows": null,
            "right": null,
            "justify_content": null,
            "_view_module": "@jupyter-widgets/base",
            "overflow": null,
            "_model_module_version": "1.2.0",
            "_view_count": null,
            "flex_flow": null,
            "width": null,
            "min_width": null,
            "border": null,
            "align_items": null,
            "bottom": null,
            "_model_module": "@jupyter-widgets/base",
            "top": null,
            "grid_column": null,
            "overflow_y": null,
            "overflow_x": null,
            "grid_auto_flow": null,
            "grid_area": null,
            "grid_template_columns": null,
            "flex": null,
            "_model_name": "LayoutModel",
            "justify_items": null,
            "grid_row": null,
            "max_height": null,
            "align_content": null,
            "visibility": null,
            "align_self": null,
            "height": null,
            "min_height": null,
            "padding": null,
            "grid_auto_rows": null,
            "grid_gap": null,
            "max_width": null,
            "order": null,
            "_view_module_version": "1.2.0",
            "grid_template_areas": null,
            "object_position": null,
            "object_fit": null,
            "grid_auto_columns": null,
            "margin": null,
            "display": null,
            "left": null
          }
        },
        "2d58c729d7284c829aea369bb26ebfce": {
          "model_module": "@jupyter-widgets/controls",
          "model_name": "HTMLModel",
          "model_module_version": "1.5.0",
          "state": {
            "_view_name": "HTMLView",
            "style": "IPY_MODEL_ef50b8c1c7b74cb19288837afd721016",
            "_dom_classes": [],
            "description": "",
            "_model_name": "HTMLModel",
            "placeholder": "​",
            "_view_module": "@jupyter-widgets/controls",
            "_model_module_version": "1.5.0",
            "value": "Downloading: 100%",
            "_view_count": null,
            "_view_module_version": "1.5.0",
            "description_tooltip": null,
            "_model_module": "@jupyter-widgets/controls",
            "layout": "IPY_MODEL_13d27700ea2d4de3910e95a8578c6793"
          }
        },
        "a0bb3547c07d47b59ccd996db0656326": {
          "model_module": "@jupyter-widgets/controls",
          "model_name": "FloatProgressModel",
          "model_module_version": "1.5.0",
          "state": {
            "_view_name": "ProgressView",
            "style": "IPY_MODEL_e7f2247b528749f9acdcef4d99461083",
            "_dom_classes": [],
            "description": "",
            "_model_name": "FloatProgressModel",
            "bar_style": "success",
            "max": 29,
            "_view_module": "@jupyter-widgets/controls",
            "_model_module_version": "1.5.0",
            "value": 29,
            "_view_count": null,
            "_view_module_version": "1.5.0",
            "orientation": "horizontal",
            "min": 0,
            "description_tooltip": null,
            "_model_module": "@jupyter-widgets/controls",
            "layout": "IPY_MODEL_97a1415f16fd487dbeb7a9b2440444a4"
          }
        },
        "ed9f60152ec54b7aa9d0b64030b55de7": {
          "model_module": "@jupyter-widgets/controls",
          "model_name": "HTMLModel",
          "model_module_version": "1.5.0",
          "state": {
            "_view_name": "HTMLView",
            "style": "IPY_MODEL_2666b03433ca4c379a8a4fbf0497b337",
            "_dom_classes": [],
            "description": "",
            "_model_name": "HTMLModel",
            "placeholder": "​",
            "_view_module": "@jupyter-widgets/controls",
            "_model_module_version": "1.5.0",
            "value": " 29.0/29.0 [00:00&lt;00:00, 1.21kB/s]",
            "_view_count": null,
            "_view_module_version": "1.5.0",
            "description_tooltip": null,
            "_model_module": "@jupyter-widgets/controls",
            "layout": "IPY_MODEL_f2890ac3f1ed476d840efc114b2a2159"
          }
        },
        "ef50b8c1c7b74cb19288837afd721016": {
          "model_module": "@jupyter-widgets/controls",
          "model_name": "DescriptionStyleModel",
          "model_module_version": "1.5.0",
          "state": {
            "_view_name": "StyleView",
            "_model_name": "DescriptionStyleModel",
            "description_width": "",
            "_view_module": "@jupyter-widgets/base",
            "_model_module_version": "1.5.0",
            "_view_count": null,
            "_view_module_version": "1.2.0",
            "_model_module": "@jupyter-widgets/controls"
          }
        },
        "13d27700ea2d4de3910e95a8578c6793": {
          "model_module": "@jupyter-widgets/base",
          "model_name": "LayoutModel",
          "model_module_version": "1.2.0",
          "state": {
            "_view_name": "LayoutView",
            "grid_template_rows": null,
            "right": null,
            "justify_content": null,
            "_view_module": "@jupyter-widgets/base",
            "overflow": null,
            "_model_module_version": "1.2.0",
            "_view_count": null,
            "flex_flow": null,
            "width": null,
            "min_width": null,
            "border": null,
            "align_items": null,
            "bottom": null,
            "_model_module": "@jupyter-widgets/base",
            "top": null,
            "grid_column": null,
            "overflow_y": null,
            "overflow_x": null,
            "grid_auto_flow": null,
            "grid_area": null,
            "grid_template_columns": null,
            "flex": null,
            "_model_name": "LayoutModel",
            "justify_items": null,
            "grid_row": null,
            "max_height": null,
            "align_content": null,
            "visibility": null,
            "align_self": null,
            "height": null,
            "min_height": null,
            "padding": null,
            "grid_auto_rows": null,
            "grid_gap": null,
            "max_width": null,
            "order": null,
            "_view_module_version": "1.2.0",
            "grid_template_areas": null,
            "object_position": null,
            "object_fit": null,
            "grid_auto_columns": null,
            "margin": null,
            "display": null,
            "left": null
          }
        },
        "e7f2247b528749f9acdcef4d99461083": {
          "model_module": "@jupyter-widgets/controls",
          "model_name": "ProgressStyleModel",
          "model_module_version": "1.5.0",
          "state": {
            "_view_name": "StyleView",
            "_model_name": "ProgressStyleModel",
            "description_width": "",
            "_view_module": "@jupyter-widgets/base",
            "_model_module_version": "1.5.0",
            "_view_count": null,
            "_view_module_version": "1.2.0",
            "bar_color": null,
            "_model_module": "@jupyter-widgets/controls"
          }
        },
        "97a1415f16fd487dbeb7a9b2440444a4": {
          "model_module": "@jupyter-widgets/base",
          "model_name": "LayoutModel",
          "model_module_version": "1.2.0",
          "state": {
            "_view_name": "LayoutView",
            "grid_template_rows": null,
            "right": null,
            "justify_content": null,
            "_view_module": "@jupyter-widgets/base",
            "overflow": null,
            "_model_module_version": "1.2.0",
            "_view_count": null,
            "flex_flow": null,
            "width": null,
            "min_width": null,
            "border": null,
            "align_items": null,
            "bottom": null,
            "_model_module": "@jupyter-widgets/base",
            "top": null,
            "grid_column": null,
            "overflow_y": null,
            "overflow_x": null,
            "grid_auto_flow": null,
            "grid_area": null,
            "grid_template_columns": null,
            "flex": null,
            "_model_name": "LayoutModel",
            "justify_items": null,
            "grid_row": null,
            "max_height": null,
            "align_content": null,
            "visibility": null,
            "align_self": null,
            "height": null,
            "min_height": null,
            "padding": null,
            "grid_auto_rows": null,
            "grid_gap": null,
            "max_width": null,
            "order": null,
            "_view_module_version": "1.2.0",
            "grid_template_areas": null,
            "object_position": null,
            "object_fit": null,
            "grid_auto_columns": null,
            "margin": null,
            "display": null,
            "left": null
          }
        },
        "2666b03433ca4c379a8a4fbf0497b337": {
          "model_module": "@jupyter-widgets/controls",
          "model_name": "DescriptionStyleModel",
          "model_module_version": "1.5.0",
          "state": {
            "_view_name": "StyleView",
            "_model_name": "DescriptionStyleModel",
            "description_width": "",
            "_view_module": "@jupyter-widgets/base",
            "_model_module_version": "1.5.0",
            "_view_count": null,
            "_view_module_version": "1.2.0",
            "_model_module": "@jupyter-widgets/controls"
          }
        },
        "f2890ac3f1ed476d840efc114b2a2159": {
          "model_module": "@jupyter-widgets/base",
          "model_name": "LayoutModel",
          "model_module_version": "1.2.0",
          "state": {
            "_view_name": "LayoutView",
            "grid_template_rows": null,
            "right": null,
            "justify_content": null,
            "_view_module": "@jupyter-widgets/base",
            "overflow": null,
            "_model_module_version": "1.2.0",
            "_view_count": null,
            "flex_flow": null,
            "width": null,
            "min_width": null,
            "border": null,
            "align_items": null,
            "bottom": null,
            "_model_module": "@jupyter-widgets/base",
            "top": null,
            "grid_column": null,
            "overflow_y": null,
            "overflow_x": null,
            "grid_auto_flow": null,
            "grid_area": null,
            "grid_template_columns": null,
            "flex": null,
            "_model_name": "LayoutModel",
            "justify_items": null,
            "grid_row": null,
            "max_height": null,
            "align_content": null,
            "visibility": null,
            "align_self": null,
            "height": null,
            "min_height": null,
            "padding": null,
            "grid_auto_rows": null,
            "grid_gap": null,
            "max_width": null,
            "order": null,
            "_view_module_version": "1.2.0",
            "grid_template_areas": null,
            "object_position": null,
            "object_fit": null,
            "grid_auto_columns": null,
            "margin": null,
            "display": null,
            "left": null
          }
        },
        "3c68cf492ff2441c9afe9fc5a9d4884c": {
          "model_module": "@jupyter-widgets/controls",
          "model_name": "HBoxModel",
          "model_module_version": "1.5.0",
          "state": {
            "_view_name": "HBoxView",
            "_dom_classes": [],
            "_model_name": "HBoxModel",
            "_view_module": "@jupyter-widgets/controls",
            "_model_module_version": "1.5.0",
            "_view_count": null,
            "_view_module_version": "1.5.0",
            "box_style": "",
            "layout": "IPY_MODEL_8aeceaf603864ae0a8368e67c8c9510b",
            "_model_module": "@jupyter-widgets/controls",
            "children": [
              "IPY_MODEL_749a6abe9c8d455ebf03f253f92178d7",
              "IPY_MODEL_f06686386a9e4278bdb51becff14dac4",
              "IPY_MODEL_550718e43d6a4a039ca8e6c09ffc7afa"
            ]
          }
        },
        "8aeceaf603864ae0a8368e67c8c9510b": {
          "model_module": "@jupyter-widgets/base",
          "model_name": "LayoutModel",
          "model_module_version": "1.2.0",
          "state": {
            "_view_name": "LayoutView",
            "grid_template_rows": null,
            "right": null,
            "justify_content": null,
            "_view_module": "@jupyter-widgets/base",
            "overflow": null,
            "_model_module_version": "1.2.0",
            "_view_count": null,
            "flex_flow": null,
            "width": null,
            "min_width": null,
            "border": null,
            "align_items": null,
            "bottom": null,
            "_model_module": "@jupyter-widgets/base",
            "top": null,
            "grid_column": null,
            "overflow_y": null,
            "overflow_x": null,
            "grid_auto_flow": null,
            "grid_area": null,
            "grid_template_columns": null,
            "flex": null,
            "_model_name": "LayoutModel",
            "justify_items": null,
            "grid_row": null,
            "max_height": null,
            "align_content": null,
            "visibility": null,
            "align_self": null,
            "height": null,
            "min_height": null,
            "padding": null,
            "grid_auto_rows": null,
            "grid_gap": null,
            "max_width": null,
            "order": null,
            "_view_module_version": "1.2.0",
            "grid_template_areas": null,
            "object_position": null,
            "object_fit": null,
            "grid_auto_columns": null,
            "margin": null,
            "display": null,
            "left": null
          }
        },
        "749a6abe9c8d455ebf03f253f92178d7": {
          "model_module": "@jupyter-widgets/controls",
          "model_name": "HTMLModel",
          "model_module_version": "1.5.0",
          "state": {
            "_view_name": "HTMLView",
            "style": "IPY_MODEL_9a44b2728a884c7fbc147ef7c35a9139",
            "_dom_classes": [],
            "description": "",
            "_model_name": "HTMLModel",
            "placeholder": "​",
            "_view_module": "@jupyter-widgets/controls",
            "_model_module_version": "1.5.0",
            "value": "Downloading: 100%",
            "_view_count": null,
            "_view_module_version": "1.5.0",
            "description_tooltip": null,
            "_model_module": "@jupyter-widgets/controls",
            "layout": "IPY_MODEL_81e98ffedcef44d78898704f397b2078"
          }
        },
        "f06686386a9e4278bdb51becff14dac4": {
          "model_module": "@jupyter-widgets/controls",
          "model_name": "FloatProgressModel",
          "model_module_version": "1.5.0",
          "state": {
            "_view_name": "ProgressView",
            "style": "IPY_MODEL_a3cae76d93d9489f996b5395dbc48d03",
            "_dom_classes": [],
            "description": "",
            "_model_name": "FloatProgressModel",
            "bar_style": "success",
            "max": 1961828,
            "_view_module": "@jupyter-widgets/controls",
            "_model_module_version": "1.5.0",
            "value": 1961828,
            "_view_count": null,
            "_view_module_version": "1.5.0",
            "orientation": "horizontal",
            "min": 0,
            "description_tooltip": null,
            "_model_module": "@jupyter-widgets/controls",
            "layout": "IPY_MODEL_47923888b09a4e1fb4bf32fa1538d45c"
          }
        },
        "550718e43d6a4a039ca8e6c09ffc7afa": {
          "model_module": "@jupyter-widgets/controls",
          "model_name": "HTMLModel",
          "model_module_version": "1.5.0",
          "state": {
            "_view_name": "HTMLView",
            "style": "IPY_MODEL_9565208963424952b00fdf42e16599af",
            "_dom_classes": [],
            "description": "",
            "_model_name": "HTMLModel",
            "placeholder": "​",
            "_view_module": "@jupyter-widgets/controls",
            "_model_module_version": "1.5.0",
            "value": " 1.87M/1.87M [00:00&lt;00:00, 3.09MB/s]",
            "_view_count": null,
            "_view_module_version": "1.5.0",
            "description_tooltip": null,
            "_model_module": "@jupyter-widgets/controls",
            "layout": "IPY_MODEL_fd08ad52b1ab40cda8d4b430726245ec"
          }
        },
        "9a44b2728a884c7fbc147ef7c35a9139": {
          "model_module": "@jupyter-widgets/controls",
          "model_name": "DescriptionStyleModel",
          "model_module_version": "1.5.0",
          "state": {
            "_view_name": "StyleView",
            "_model_name": "DescriptionStyleModel",
            "description_width": "",
            "_view_module": "@jupyter-widgets/base",
            "_model_module_version": "1.5.0",
            "_view_count": null,
            "_view_module_version": "1.2.0",
            "_model_module": "@jupyter-widgets/controls"
          }
        },
        "81e98ffedcef44d78898704f397b2078": {
          "model_module": "@jupyter-widgets/base",
          "model_name": "LayoutModel",
          "model_module_version": "1.2.0",
          "state": {
            "_view_name": "LayoutView",
            "grid_template_rows": null,
            "right": null,
            "justify_content": null,
            "_view_module": "@jupyter-widgets/base",
            "overflow": null,
            "_model_module_version": "1.2.0",
            "_view_count": null,
            "flex_flow": null,
            "width": null,
            "min_width": null,
            "border": null,
            "align_items": null,
            "bottom": null,
            "_model_module": "@jupyter-widgets/base",
            "top": null,
            "grid_column": null,
            "overflow_y": null,
            "overflow_x": null,
            "grid_auto_flow": null,
            "grid_area": null,
            "grid_template_columns": null,
            "flex": null,
            "_model_name": "LayoutModel",
            "justify_items": null,
            "grid_row": null,
            "max_height": null,
            "align_content": null,
            "visibility": null,
            "align_self": null,
            "height": null,
            "min_height": null,
            "padding": null,
            "grid_auto_rows": null,
            "grid_gap": null,
            "max_width": null,
            "order": null,
            "_view_module_version": "1.2.0",
            "grid_template_areas": null,
            "object_position": null,
            "object_fit": null,
            "grid_auto_columns": null,
            "margin": null,
            "display": null,
            "left": null
          }
        },
        "a3cae76d93d9489f996b5395dbc48d03": {
          "model_module": "@jupyter-widgets/controls",
          "model_name": "ProgressStyleModel",
          "model_module_version": "1.5.0",
          "state": {
            "_view_name": "StyleView",
            "_model_name": "ProgressStyleModel",
            "description_width": "",
            "_view_module": "@jupyter-widgets/base",
            "_model_module_version": "1.5.0",
            "_view_count": null,
            "_view_module_version": "1.2.0",
            "bar_color": null,
            "_model_module": "@jupyter-widgets/controls"
          }
        },
        "47923888b09a4e1fb4bf32fa1538d45c": {
          "model_module": "@jupyter-widgets/base",
          "model_name": "LayoutModel",
          "model_module_version": "1.2.0",
          "state": {
            "_view_name": "LayoutView",
            "grid_template_rows": null,
            "right": null,
            "justify_content": null,
            "_view_module": "@jupyter-widgets/base",
            "overflow": null,
            "_model_module_version": "1.2.0",
            "_view_count": null,
            "flex_flow": null,
            "width": null,
            "min_width": null,
            "border": null,
            "align_items": null,
            "bottom": null,
            "_model_module": "@jupyter-widgets/base",
            "top": null,
            "grid_column": null,
            "overflow_y": null,
            "overflow_x": null,
            "grid_auto_flow": null,
            "grid_area": null,
            "grid_template_columns": null,
            "flex": null,
            "_model_name": "LayoutModel",
            "justify_items": null,
            "grid_row": null,
            "max_height": null,
            "align_content": null,
            "visibility": null,
            "align_self": null,
            "height": null,
            "min_height": null,
            "padding": null,
            "grid_auto_rows": null,
            "grid_gap": null,
            "max_width": null,
            "order": null,
            "_view_module_version": "1.2.0",
            "grid_template_areas": null,
            "object_position": null,
            "object_fit": null,
            "grid_auto_columns": null,
            "margin": null,
            "display": null,
            "left": null
          }
        },
        "9565208963424952b00fdf42e16599af": {
          "model_module": "@jupyter-widgets/controls",
          "model_name": "DescriptionStyleModel",
          "model_module_version": "1.5.0",
          "state": {
            "_view_name": "StyleView",
            "_model_name": "DescriptionStyleModel",
            "description_width": "",
            "_view_module": "@jupyter-widgets/base",
            "_model_module_version": "1.5.0",
            "_view_count": null,
            "_view_module_version": "1.2.0",
            "_model_module": "@jupyter-widgets/controls"
          }
        },
        "fd08ad52b1ab40cda8d4b430726245ec": {
          "model_module": "@jupyter-widgets/base",
          "model_name": "LayoutModel",
          "model_module_version": "1.2.0",
          "state": {
            "_view_name": "LayoutView",
            "grid_template_rows": null,
            "right": null,
            "justify_content": null,
            "_view_module": "@jupyter-widgets/base",
            "overflow": null,
            "_model_module_version": "1.2.0",
            "_view_count": null,
            "flex_flow": null,
            "width": null,
            "min_width": null,
            "border": null,
            "align_items": null,
            "bottom": null,
            "_model_module": "@jupyter-widgets/base",
            "top": null,
            "grid_column": null,
            "overflow_y": null,
            "overflow_x": null,
            "grid_auto_flow": null,
            "grid_area": null,
            "grid_template_columns": null,
            "flex": null,
            "_model_name": "LayoutModel",
            "justify_items": null,
            "grid_row": null,
            "max_height": null,
            "align_content": null,
            "visibility": null,
            "align_self": null,
            "height": null,
            "min_height": null,
            "padding": null,
            "grid_auto_rows": null,
            "grid_gap": null,
            "max_width": null,
            "order": null,
            "_view_module_version": "1.2.0",
            "grid_template_areas": null,
            "object_position": null,
            "object_fit": null,
            "grid_auto_columns": null,
            "margin": null,
            "display": null,
            "left": null
          }
        },
        "733492cf71344a9ca2ed8bfb9bd5ff35": {
          "model_module": "@jupyter-widgets/controls",
          "model_name": "HBoxModel",
          "model_module_version": "1.5.0",
          "state": {
            "_view_name": "HBoxView",
            "_dom_classes": [],
            "_model_name": "HBoxModel",
            "_view_module": "@jupyter-widgets/controls",
            "_model_module_version": "1.5.0",
            "_view_count": null,
            "_view_module_version": "1.5.0",
            "box_style": "",
            "layout": "IPY_MODEL_f546b2ab83f84f049d075d3a518a3ead",
            "_model_module": "@jupyter-widgets/controls",
            "children": [
              "IPY_MODEL_3fd8f3c938e448269df381b78fa27df3",
              "IPY_MODEL_48e3d23d489d410aac565623598b6bf9",
              "IPY_MODEL_c283b437e5144bbe84b8760fd1fca846"
            ]
          }
        },
        "f546b2ab83f84f049d075d3a518a3ead": {
          "model_module": "@jupyter-widgets/base",
          "model_name": "LayoutModel",
          "model_module_version": "1.2.0",
          "state": {
            "_view_name": "LayoutView",
            "grid_template_rows": null,
            "right": null,
            "justify_content": null,
            "_view_module": "@jupyter-widgets/base",
            "overflow": null,
            "_model_module_version": "1.2.0",
            "_view_count": null,
            "flex_flow": null,
            "width": null,
            "min_width": null,
            "border": null,
            "align_items": null,
            "bottom": null,
            "_model_module": "@jupyter-widgets/base",
            "top": null,
            "grid_column": null,
            "overflow_y": null,
            "overflow_x": null,
            "grid_auto_flow": null,
            "grid_area": null,
            "grid_template_columns": null,
            "flex": null,
            "_model_name": "LayoutModel",
            "justify_items": null,
            "grid_row": null,
            "max_height": null,
            "align_content": null,
            "visibility": null,
            "align_self": null,
            "height": null,
            "min_height": null,
            "padding": null,
            "grid_auto_rows": null,
            "grid_gap": null,
            "max_width": null,
            "order": null,
            "_view_module_version": "1.2.0",
            "grid_template_areas": null,
            "object_position": null,
            "object_fit": null,
            "grid_auto_columns": null,
            "margin": null,
            "display": null,
            "left": null
          }
        },
        "3fd8f3c938e448269df381b78fa27df3": {
          "model_module": "@jupyter-widgets/controls",
          "model_name": "HTMLModel",
          "model_module_version": "1.5.0",
          "state": {
            "_view_name": "HTMLView",
            "style": "IPY_MODEL_91c6d9ef6a8744e2a5839b11bb3ee4c8",
            "_dom_classes": [],
            "description": "",
            "_model_name": "HTMLModel",
            "placeholder": "​",
            "_view_module": "@jupyter-widgets/controls",
            "_model_module_version": "1.5.0",
            "value": "Downloading: 100%",
            "_view_count": null,
            "_view_module_version": "1.5.0",
            "description_tooltip": null,
            "_model_module": "@jupyter-widgets/controls",
            "layout": "IPY_MODEL_387261b1d1554bc4b9bd3529347598ae"
          }
        },
        "48e3d23d489d410aac565623598b6bf9": {
          "model_module": "@jupyter-widgets/controls",
          "model_name": "FloatProgressModel",
          "model_module_version": "1.5.0",
          "state": {
            "_view_name": "ProgressView",
            "style": "IPY_MODEL_b9399cd973004c78a5e8483ac3423fde",
            "_dom_classes": [],
            "description": "",
            "_model_name": "FloatProgressModel",
            "bar_style": "success",
            "max": 625,
            "_view_module": "@jupyter-widgets/controls",
            "_model_module_version": "1.5.0",
            "value": 625,
            "_view_count": null,
            "_view_module_version": "1.5.0",
            "orientation": "horizontal",
            "min": 0,
            "description_tooltip": null,
            "_model_module": "@jupyter-widgets/controls",
            "layout": "IPY_MODEL_e79e3141ebe24bc6908dc4a3b49f3172"
          }
        },
        "c283b437e5144bbe84b8760fd1fca846": {
          "model_module": "@jupyter-widgets/controls",
          "model_name": "HTMLModel",
          "model_module_version": "1.5.0",
          "state": {
            "_view_name": "HTMLView",
            "style": "IPY_MODEL_a9a38f2080a043a0ae48488c35e42b1b",
            "_dom_classes": [],
            "description": "",
            "_model_name": "HTMLModel",
            "placeholder": "​",
            "_view_module": "@jupyter-widgets/controls",
            "_model_module_version": "1.5.0",
            "value": " 625/625 [00:00&lt;00:00, 23.0kB/s]",
            "_view_count": null,
            "_view_module_version": "1.5.0",
            "description_tooltip": null,
            "_model_module": "@jupyter-widgets/controls",
            "layout": "IPY_MODEL_12b1276c384b4c058859813efd2329d9"
          }
        },
        "91c6d9ef6a8744e2a5839b11bb3ee4c8": {
          "model_module": "@jupyter-widgets/controls",
          "model_name": "DescriptionStyleModel",
          "model_module_version": "1.5.0",
          "state": {
            "_view_name": "StyleView",
            "_model_name": "DescriptionStyleModel",
            "description_width": "",
            "_view_module": "@jupyter-widgets/base",
            "_model_module_version": "1.5.0",
            "_view_count": null,
            "_view_module_version": "1.2.0",
            "_model_module": "@jupyter-widgets/controls"
          }
        },
        "387261b1d1554bc4b9bd3529347598ae": {
          "model_module": "@jupyter-widgets/base",
          "model_name": "LayoutModel",
          "model_module_version": "1.2.0",
          "state": {
            "_view_name": "LayoutView",
            "grid_template_rows": null,
            "right": null,
            "justify_content": null,
            "_view_module": "@jupyter-widgets/base",
            "overflow": null,
            "_model_module_version": "1.2.0",
            "_view_count": null,
            "flex_flow": null,
            "width": null,
            "min_width": null,
            "border": null,
            "align_items": null,
            "bottom": null,
            "_model_module": "@jupyter-widgets/base",
            "top": null,
            "grid_column": null,
            "overflow_y": null,
            "overflow_x": null,
            "grid_auto_flow": null,
            "grid_area": null,
            "grid_template_columns": null,
            "flex": null,
            "_model_name": "LayoutModel",
            "justify_items": null,
            "grid_row": null,
            "max_height": null,
            "align_content": null,
            "visibility": null,
            "align_self": null,
            "height": null,
            "min_height": null,
            "padding": null,
            "grid_auto_rows": null,
            "grid_gap": null,
            "max_width": null,
            "order": null,
            "_view_module_version": "1.2.0",
            "grid_template_areas": null,
            "object_position": null,
            "object_fit": null,
            "grid_auto_columns": null,
            "margin": null,
            "display": null,
            "left": null
          }
        },
        "b9399cd973004c78a5e8483ac3423fde": {
          "model_module": "@jupyter-widgets/controls",
          "model_name": "ProgressStyleModel",
          "model_module_version": "1.5.0",
          "state": {
            "_view_name": "StyleView",
            "_model_name": "ProgressStyleModel",
            "description_width": "",
            "_view_module": "@jupyter-widgets/base",
            "_model_module_version": "1.5.0",
            "_view_count": null,
            "_view_module_version": "1.2.0",
            "bar_color": null,
            "_model_module": "@jupyter-widgets/controls"
          }
        },
        "e79e3141ebe24bc6908dc4a3b49f3172": {
          "model_module": "@jupyter-widgets/base",
          "model_name": "LayoutModel",
          "model_module_version": "1.2.0",
          "state": {
            "_view_name": "LayoutView",
            "grid_template_rows": null,
            "right": null,
            "justify_content": null,
            "_view_module": "@jupyter-widgets/base",
            "overflow": null,
            "_model_module_version": "1.2.0",
            "_view_count": null,
            "flex_flow": null,
            "width": null,
            "min_width": null,
            "border": null,
            "align_items": null,
            "bottom": null,
            "_model_module": "@jupyter-widgets/base",
            "top": null,
            "grid_column": null,
            "overflow_y": null,
            "overflow_x": null,
            "grid_auto_flow": null,
            "grid_area": null,
            "grid_template_columns": null,
            "flex": null,
            "_model_name": "LayoutModel",
            "justify_items": null,
            "grid_row": null,
            "max_height": null,
            "align_content": null,
            "visibility": null,
            "align_self": null,
            "height": null,
            "min_height": null,
            "padding": null,
            "grid_auto_rows": null,
            "grid_gap": null,
            "max_width": null,
            "order": null,
            "_view_module_version": "1.2.0",
            "grid_template_areas": null,
            "object_position": null,
            "object_fit": null,
            "grid_auto_columns": null,
            "margin": null,
            "display": null,
            "left": null
          }
        },
        "a9a38f2080a043a0ae48488c35e42b1b": {
          "model_module": "@jupyter-widgets/controls",
          "model_name": "DescriptionStyleModel",
          "model_module_version": "1.5.0",
          "state": {
            "_view_name": "StyleView",
            "_model_name": "DescriptionStyleModel",
            "description_width": "",
            "_view_module": "@jupyter-widgets/base",
            "_model_module_version": "1.5.0",
            "_view_count": null,
            "_view_module_version": "1.2.0",
            "_model_module": "@jupyter-widgets/controls"
          }
        },
        "12b1276c384b4c058859813efd2329d9": {
          "model_module": "@jupyter-widgets/base",
          "model_name": "LayoutModel",
          "model_module_version": "1.2.0",
          "state": {
            "_view_name": "LayoutView",
            "grid_template_rows": null,
            "right": null,
            "justify_content": null,
            "_view_module": "@jupyter-widgets/base",
            "overflow": null,
            "_model_module_version": "1.2.0",
            "_view_count": null,
            "flex_flow": null,
            "width": null,
            "min_width": null,
            "border": null,
            "align_items": null,
            "bottom": null,
            "_model_module": "@jupyter-widgets/base",
            "top": null,
            "grid_column": null,
            "overflow_y": null,
            "overflow_x": null,
            "grid_auto_flow": null,
            "grid_area": null,
            "grid_template_columns": null,
            "flex": null,
            "_model_name": "LayoutModel",
            "justify_items": null,
            "grid_row": null,
            "max_height": null,
            "align_content": null,
            "visibility": null,
            "align_self": null,
            "height": null,
            "min_height": null,
            "padding": null,
            "grid_auto_rows": null,
            "grid_gap": null,
            "max_width": null,
            "order": null,
            "_view_module_version": "1.2.0",
            "grid_template_areas": null,
            "object_position": null,
            "object_fit": null,
            "grid_auto_columns": null,
            "margin": null,
            "display": null,
            "left": null
          }
        }
      }
    }
  },
  "nbformat": 4,
  "nbformat_minor": 0
}