{
  "cells": [
    {
      "cell_type": "code",
      "execution_count": 1,
      "metadata": {
        "colab": {
          "base_uri": "https://localhost:8080/"
        },
        "id": "GQppe-XiVE6F",
        "outputId": "76d6b16e-80f8-46d1-dd71-bef4310a9b9e"
      },
      "outputs": [
        {
          "output_type": "stream",
          "name": "stdout",
          "text": [
            "Collecting transformers\n",
            "  Downloading transformers-4.13.0-py3-none-any.whl (3.3 MB)\n",
            "\u001b[K     |████████████████████████████████| 3.3 MB 5.3 MB/s \n",
            "\u001b[?25hCollecting huggingface-hub<1.0,>=0.1.0\n",
            "  Downloading huggingface_hub-0.2.1-py3-none-any.whl (61 kB)\n",
            "\u001b[K     |████████████████████████████████| 61 kB 418 kB/s \n",
            "\u001b[?25hRequirement already satisfied: packaging>=20.0 in /usr/local/lib/python3.7/dist-packages (from transformers) (21.3)\n",
            "Collecting pyyaml>=5.1\n",
            "  Downloading PyYAML-6.0-cp37-cp37m-manylinux_2_5_x86_64.manylinux1_x86_64.manylinux_2_12_x86_64.manylinux2010_x86_64.whl (596 kB)\n",
            "\u001b[K     |████████████████████████████████| 596 kB 54.6 MB/s \n",
            "\u001b[?25hCollecting tokenizers<0.11,>=0.10.1\n",
            "  Downloading tokenizers-0.10.3-cp37-cp37m-manylinux_2_5_x86_64.manylinux1_x86_64.manylinux_2_12_x86_64.manylinux2010_x86_64.whl (3.3 MB)\n",
            "\u001b[K     |████████████████████████████████| 3.3 MB 52.5 MB/s \n",
            "\u001b[?25hRequirement already satisfied: tqdm>=4.27 in /usr/local/lib/python3.7/dist-packages (from transformers) (4.62.3)\n",
            "Requirement already satisfied: requests in /usr/local/lib/python3.7/dist-packages (from transformers) (2.23.0)\n",
            "Requirement already satisfied: importlib-metadata in /usr/local/lib/python3.7/dist-packages (from transformers) (4.8.2)\n",
            "Requirement already satisfied: filelock in /usr/local/lib/python3.7/dist-packages (from transformers) (3.4.0)\n",
            "Requirement already satisfied: regex!=2019.12.17 in /usr/local/lib/python3.7/dist-packages (from transformers) (2019.12.20)\n",
            "Requirement already satisfied: numpy>=1.17 in /usr/local/lib/python3.7/dist-packages (from transformers) (1.19.5)\n",
            "Collecting sacremoses\n",
            "  Downloading sacremoses-0.0.46-py3-none-any.whl (895 kB)\n",
            "\u001b[K     |████████████████████████████████| 895 kB 60.5 MB/s \n",
            "\u001b[?25hRequirement already satisfied: typing-extensions>=3.7.4.3 in /usr/local/lib/python3.7/dist-packages (from huggingface-hub<1.0,>=0.1.0->transformers) (3.10.0.2)\n",
            "Requirement already satisfied: pyparsing!=3.0.5,>=2.0.2 in /usr/local/lib/python3.7/dist-packages (from packaging>=20.0->transformers) (3.0.6)\n",
            "Requirement already satisfied: zipp>=0.5 in /usr/local/lib/python3.7/dist-packages (from importlib-metadata->transformers) (3.6.0)\n",
            "Requirement already satisfied: certifi>=2017.4.17 in /usr/local/lib/python3.7/dist-packages (from requests->transformers) (2021.10.8)\n",
            "Requirement already satisfied: urllib3!=1.25.0,!=1.25.1,<1.26,>=1.21.1 in /usr/local/lib/python3.7/dist-packages (from requests->transformers) (1.24.3)\n",
            "Requirement already satisfied: idna<3,>=2.5 in /usr/local/lib/python3.7/dist-packages (from requests->transformers) (2.10)\n",
            "Requirement already satisfied: chardet<4,>=3.0.2 in /usr/local/lib/python3.7/dist-packages (from requests->transformers) (3.0.4)\n",
            "Requirement already satisfied: six in /usr/local/lib/python3.7/dist-packages (from sacremoses->transformers) (1.15.0)\n",
            "Requirement already satisfied: click in /usr/local/lib/python3.7/dist-packages (from sacremoses->transformers) (7.1.2)\n",
            "Requirement already satisfied: joblib in /usr/local/lib/python3.7/dist-packages (from sacremoses->transformers) (1.1.0)\n",
            "Installing collected packages: pyyaml, tokenizers, sacremoses, huggingface-hub, transformers\n",
            "  Attempting uninstall: pyyaml\n",
            "    Found existing installation: PyYAML 3.13\n",
            "    Uninstalling PyYAML-3.13:\n",
            "      Successfully uninstalled PyYAML-3.13\n",
            "Successfully installed huggingface-hub-0.2.1 pyyaml-6.0 sacremoses-0.0.46 tokenizers-0.10.3 transformers-4.13.0\n"
          ]
        }
      ],
      "source": [
        "!pip install transformers"
      ]
    },
    {
      "cell_type": "code",
      "execution_count": 2,
      "metadata": {
        "id": "h7G26WwAY9aN"
      },
      "outputs": [],
      "source": [
        "FREEZE = False"
      ]
    },
    {
      "cell_type": "code",
      "execution_count": 3,
      "metadata": {
        "id": "1d8CZB1Ok8Pr"
      },
      "outputs": [],
      "source": [
        "import nltk\n",
        "import matplotlib.pyplot as plt\n",
        "import pandas as pd\n",
        "import collections\n",
        "import numpy as np\n",
        "import gc\n",
        "gc.collect()\n",
        "import re\n",
        "from nltk.corpus import stopwords\n",
        "import copy\n",
        "import torch\n",
        "\n",
        "from torch.utils.data import TensorDataset,random_split\n",
        "from transformers import BertTokenizer\n",
        "from torch.utils.data import DataLoader,RandomSampler,SequentialSampler\n",
        "from transformers import BertForSequenceClassification, AdamW\n",
        "from transformers import get_linear_schedule_with_warmup\n",
        "import numpy as np\n",
        "import random\n",
        "import time\n",
        "from sklearn.metrics import classification_report,accuracy_score,f1_score\n",
        "\n"
      ]
    },
    {
      "cell_type": "code",
      "execution_count": 4,
      "metadata": {
        "colab": {
          "base_uri": "https://localhost:8080/"
        },
        "id": "kE9pSBpDYdrW",
        "outputId": "09f2ee5b-7727-4705-f584-8341622dc4e1"
      },
      "outputs": [
        {
          "output_type": "stream",
          "name": "stdout",
          "text": [
            "cuda\n"
          ]
        }
      ],
      "source": [
        "if torch.cuda.is_available():    \n",
        "    device = torch.device(\"cuda\")\n",
        "else:\n",
        "    device = torch.device(\"cpu\")\n",
        "print(device)"
      ]
    },
    {
      "cell_type": "code",
      "execution_count": 5,
      "metadata": {
        "colab": {
          "base_uri": "https://localhost:8080/"
        },
        "id": "6n-pSxvaRNZk",
        "outputId": "d1f6183d-744b-457e-c867-2b2652a48d63"
      },
      "outputs": [
        {
          "output_type": "stream",
          "name": "stdout",
          "text": [
            "[nltk_data] Downloading package stopwords to /root/nltk_data...\n",
            "[nltk_data]   Unzipping corpora/stopwords.zip.\n"
          ]
        },
        {
          "output_type": "execute_result",
          "data": {
            "text/plain": [
              "True"
            ]
          },
          "metadata": {},
          "execution_count": 5
        }
      ],
      "source": [
        "nltk.download('stopwords')"
      ]
    },
    {
      "cell_type": "code",
      "execution_count": 6,
      "metadata": {
        "colab": {
          "base_uri": "https://localhost:8080/"
        },
        "id": "cLyrJ1tclbOz",
        "outputId": "58609832-111d-4803-90f9-8b3698a64722"
      },
      "outputs": [
        {
          "output_type": "stream",
          "name": "stdout",
          "text": [
            "Mounted at /content/gdrive\n"
          ]
        }
      ],
      "source": [
        "from google.colab import drive\n",
        "drive.mount('/content/gdrive')"
      ]
    },
    {
      "cell_type": "markdown",
      "source": [
        "## Dataset Preprocessing"
      ],
      "metadata": {
        "id": "j5f8wsIcTCTk"
      }
    },
    {
      "cell_type": "markdown",
      "metadata": {
        "id": "1q3aKOJVkPcF"
      },
      "source": [
        "### FRENCH DATASET ANALYSIS"
      ]
    },
    {
      "cell_type": "code",
      "execution_count": 7,
      "metadata": {
        "id": "CKC26dfCkSSB"
      },
      "outputs": [],
      "source": [
        "FRENCH_HOF = []\n",
        "FRENCH_NOT = []"
      ]
    },
    {
      "cell_type": "code",
      "execution_count": 8,
      "metadata": {
        "colab": {
          "base_uri": "https://localhost:8080/",
          "height": 0
        },
        "id": "hMdfHbBvkVzO",
        "outputId": "bceebade-66e3-4bf7-afdb-161da13fd46c"
      },
      "outputs": [
        {
          "output_type": "stream",
          "name": "stdout",
          "text": [
            "(199987, 2)\n",
            "(5000, 2)\n",
            "(4000, 3)\n",
            "    index  label                                               text\n",
            "0  163319      0  Je me demandais pourquoi vous changez votre av...\n",
            "1  117002      0  Se sent vraiment malade et est au lit en écoutant\n",
            "2  154473      0  Bummer à voir que vous ne pouvez pas faire - t...\n",
            "3  178561      1  Oh mon ninja! Au moins, vous serez prêt pour l...\n",
            "4   12605      0  Vous êtes comme une maman pour moi. (D'une man...\n",
            "Counter({0: 3431, 1: 569})\n",
            "Index(['index', 'label', 'text'], dtype='object')\n"
          ]
        },
        {
          "output_type": "execute_result",
          "data": {
            "text/html": [
              "<div>\n",
              "<style scoped>\n",
              "    .dataframe tbody tr th:only-of-type {\n",
              "        vertical-align: middle;\n",
              "    }\n",
              "\n",
              "    .dataframe tbody tr th {\n",
              "        vertical-align: top;\n",
              "    }\n",
              "\n",
              "    .dataframe thead th {\n",
              "        text-align: right;\n",
              "    }\n",
              "</style>\n",
              "<table border=\"1\" class=\"dataframe\">\n",
              "  <thead>\n",
              "    <tr style=\"text-align: right;\">\n",
              "      <th></th>\n",
              "      <th>index</th>\n",
              "      <th>label</th>\n",
              "      <th>text</th>\n",
              "    </tr>\n",
              "  </thead>\n",
              "  <tbody>\n",
              "    <tr>\n",
              "      <th>0</th>\n",
              "      <td>163319</td>\n",
              "      <td>0</td>\n",
              "      <td>Je me demandais pourquoi vous changez votre av...</td>\n",
              "    </tr>\n",
              "    <tr>\n",
              "      <th>1</th>\n",
              "      <td>117002</td>\n",
              "      <td>0</td>\n",
              "      <td>Se sent vraiment malade et est au lit en écoutant</td>\n",
              "    </tr>\n",
              "    <tr>\n",
              "      <th>2</th>\n",
              "      <td>154473</td>\n",
              "      <td>0</td>\n",
              "      <td>Bummer à voir que vous ne pouvez pas faire - t...</td>\n",
              "    </tr>\n",
              "    <tr>\n",
              "      <th>3</th>\n",
              "      <td>178561</td>\n",
              "      <td>1</td>\n",
              "      <td>Oh mon ninja! Au moins, vous serez prêt pour l...</td>\n",
              "    </tr>\n",
              "    <tr>\n",
              "      <th>4</th>\n",
              "      <td>12605</td>\n",
              "      <td>0</td>\n",
              "      <td>Vous êtes comme une maman pour moi. (D'une man...</td>\n",
              "    </tr>\n",
              "  </tbody>\n",
              "</table>\n",
              "</div>"
            ],
            "text/plain": [
              "    index  label                                               text\n",
              "0  163319      0  Je me demandais pourquoi vous changez votre av...\n",
              "1  117002      0  Se sent vraiment malade et est au lit en écoutant\n",
              "2  154473      0  Bummer à voir que vous ne pouvez pas faire - t...\n",
              "3  178561      1  Oh mon ninja! Au moins, vous serez prêt pour l...\n",
              "4   12605      0  Vous êtes comme une maman pour moi. (D'une man..."
            ]
          },
          "metadata": {},
          "execution_count": 8
        }
      ],
      "source": [
        "french_df_2019 = pd.read_csv('/content/gdrive/My Drive/NLP Project/data/french_tweets-003.csv', error_bad_lines=False)\n",
        "print(french_df_2019.shape)\n",
        "french_df_2019 = french_df_2019.sample(frac=0.025)\n",
        "print(french_df_2019.shape)\n",
        "from sklearn.model_selection import train_test_split\n",
        "french_df_2019, french_df_2019t = train_test_split(french_df_2019, test_size=0.2)\n",
        "\n",
        "french_df_2019.reset_index(inplace=True)\n",
        "french_df_2019t.reset_index(inplace=True)\n",
        "\n",
        "print(french_df_2019.shape)\n",
        "print(french_df_2019.head())\n",
        "labels = collections.Counter(french_df_2019['label'])\n",
        "FRENCH_HOF.append(labels[1])\n",
        "FRENCH_NOT.append(labels[0])\n",
        "print(labels)\n",
        "print(french_df_2019.columns)\n",
        "french_df_2019.head()"
      ]
    },
    {
      "cell_type": "code",
      "execution_count": 9,
      "metadata": {
        "colab": {
          "base_uri": "https://localhost:8080/",
          "height": 0
        },
        "id": "Rb65ud9lrAbm",
        "outputId": "9ac8c91d-5ea2-4bf3-fd44-cb3621116ab4"
      },
      "outputs": [
        {
          "output_type": "stream",
          "name": "stdout",
          "text": [
            "(1000, 3)\n",
            "    index  label                                               text\n",
            "0  197663      1  Sherrie !!! Suivez-vous les garçons nkotb ici?...\n",
            "1  197258      1  Hehe aime ce drapeau vert enthousiaste brandis...\n",
            "2   27025      0                                Est un baiser total\n",
            "3  162415      0            Je sais, j'ai marmonné désolé les gars!\n",
            "4  186053      1  Il suffit de se réveiller, car à 11 ans je vai...\n",
            "Counter({0: 845, 1: 155})\n",
            "Index(['index', 'label', 'text'], dtype='object')\n"
          ]
        },
        {
          "output_type": "execute_result",
          "data": {
            "text/html": [
              "<div>\n",
              "<style scoped>\n",
              "    .dataframe tbody tr th:only-of-type {\n",
              "        vertical-align: middle;\n",
              "    }\n",
              "\n",
              "    .dataframe tbody tr th {\n",
              "        vertical-align: top;\n",
              "    }\n",
              "\n",
              "    .dataframe thead th {\n",
              "        text-align: right;\n",
              "    }\n",
              "</style>\n",
              "<table border=\"1\" class=\"dataframe\">\n",
              "  <thead>\n",
              "    <tr style=\"text-align: right;\">\n",
              "      <th></th>\n",
              "      <th>index</th>\n",
              "      <th>label</th>\n",
              "      <th>text</th>\n",
              "    </tr>\n",
              "  </thead>\n",
              "  <tbody>\n",
              "    <tr>\n",
              "      <th>0</th>\n",
              "      <td>197663</td>\n",
              "      <td>1</td>\n",
              "      <td>Sherrie !!! Suivez-vous les garçons nkotb ici?...</td>\n",
              "    </tr>\n",
              "    <tr>\n",
              "      <th>1</th>\n",
              "      <td>197258</td>\n",
              "      <td>1</td>\n",
              "      <td>Hehe aime ce drapeau vert enthousiaste brandis...</td>\n",
              "    </tr>\n",
              "    <tr>\n",
              "      <th>2</th>\n",
              "      <td>27025</td>\n",
              "      <td>0</td>\n",
              "      <td>Est un baiser total</td>\n",
              "    </tr>\n",
              "    <tr>\n",
              "      <th>3</th>\n",
              "      <td>162415</td>\n",
              "      <td>0</td>\n",
              "      <td>Je sais, j'ai marmonné désolé les gars!</td>\n",
              "    </tr>\n",
              "    <tr>\n",
              "      <th>4</th>\n",
              "      <td>186053</td>\n",
              "      <td>1</td>\n",
              "      <td>Il suffit de se réveiller, car à 11 ans je vai...</td>\n",
              "    </tr>\n",
              "  </tbody>\n",
              "</table>\n",
              "</div>"
            ],
            "text/plain": [
              "    index  label                                               text\n",
              "0  197663      1  Sherrie !!! Suivez-vous les garçons nkotb ici?...\n",
              "1  197258      1  Hehe aime ce drapeau vert enthousiaste brandis...\n",
              "2   27025      0                                Est un baiser total\n",
              "3  162415      0            Je sais, j'ai marmonné désolé les gars!\n",
              "4  186053      1  Il suffit de se réveiller, car à 11 ans je vai..."
            ]
          },
          "metadata": {},
          "execution_count": 9
        }
      ],
      "source": [
        "print(french_df_2019t.shape)\n",
        "print(french_df_2019t.head())\n",
        "labels = collections.Counter(french_df_2019t['label'])\n",
        "FRENCH_HOF.append(labels[1])\n",
        "FRENCH_NOT.append(labels[0])\n",
        "print(labels)\n",
        "print(french_df_2019t.columns)\n",
        "french_df_2019t.head()"
      ]
    },
    {
      "cell_type": "code",
      "execution_count": 10,
      "metadata": {
        "colab": {
          "base_uri": "https://localhost:8080/",
          "height": 0
        },
        "id": "UgamPZIgrNiV",
        "outputId": "0fbaea56-d1cd-41e7-a1a1-8d82cafa6826"
      },
      "outputs": [
        {
          "output_type": "execute_result",
          "data": {
            "text/plain": [
              "([<matplotlib.axis.XTick at 0x7f4185399810>,\n",
              "  <matplotlib.axis.XTick at 0x7f4185399850>],\n",
              " [Text(0, 0, 'train 2019'), Text(0, 0, 'test 2019')])"
            ]
          },
          "metadata": {},
          "execution_count": 10
        },
        {
          "output_type": "display_data",
          "data": {
            "image/png": "[encoded data removed]",
            "text/plain": [
              "<Figure size 432x288 with 1 Axes>"
            ]
          },
          "metadata": {
            "needs_background": "light"
          }
        }
      ],
      "source": [
        "barWidth = 0.25\n",
        "br1 = np.arange(len(FRENCH_HOF))\n",
        "br2 = [x + barWidth for x in br1]\n",
        "plt.bar(br1, FRENCH_HOF, width=barWidth, label='HOF')\n",
        "plt.bar(br2, FRENCH_NOT, width=barWidth, label='NOT')\n",
        "plt.legend()\n",
        "plt.xlabel('French Dataset')\n",
        "plt.ylabel('Count')\n",
        "plt.xticks([r + barWidth for r in range(len(br1))],\n",
        "        ['train 2019', 'test 2019'])"
      ]
    },
    {
      "cell_type": "markdown",
      "metadata": {
        "id": "Xw1T9b8mZ5H4"
      },
      "source": [
        "###ENGLISH DATASET ANALYSIS"
      ]
    },
    {
      "cell_type": "code",
      "execution_count": 11,
      "metadata": {
        "id": "sU2DHLVtbaOd"
      },
      "outputs": [],
      "source": [
        "ENGLISH_HOF = []\n",
        "ENGLISH_NOT = []"
      ]
    },
    {
      "cell_type": "code",
      "execution_count": 12,
      "metadata": {
        "colab": {
          "base_uri": "https://localhost:8080/",
          "height": 0
        },
        "id": "eWTYYAd4q_bO",
        "outputId": "2b7ca67d-f076-44c4-8a7c-c1e930ba4c57"
      },
      "outputs": [
        {
          "output_type": "stream",
          "name": "stdout",
          "text": [
            "(5852, 3)\n",
            "Counter({'NOT': 3591, 'HOF': 2261})\n",
            "Index(['text_id', 'text', 'task_1'], dtype='object')\n"
          ]
        },
        {
          "output_type": "execute_result",
          "data": {
            "text/html": [
              "<div>\n",
              "<style scoped>\n",
              "    .dataframe tbody tr th:only-of-type {\n",
              "        vertical-align: middle;\n",
              "    }\n",
              "\n",
              "    .dataframe tbody tr th {\n",
              "        vertical-align: top;\n",
              "    }\n",
              "\n",
              "    .dataframe thead th {\n",
              "        text-align: right;\n",
              "    }\n",
              "</style>\n",
              "<table border=\"1\" class=\"dataframe\">\n",
              "  <thead>\n",
              "    <tr style=\"text-align: right;\">\n",
              "      <th></th>\n",
              "      <th>text_id</th>\n",
              "      <th>text</th>\n",
              "      <th>task_1</th>\n",
              "    </tr>\n",
              "  </thead>\n",
              "  <tbody>\n",
              "    <tr>\n",
              "      <th>0</th>\n",
              "      <td>hasoc_en_1</td>\n",
              "      <td>#DhoniKeepsTheGlove | WATCH: Sports Minister K...</td>\n",
              "      <td>NOT</td>\n",
              "    </tr>\n",
              "    <tr>\n",
              "      <th>1</th>\n",
              "      <td>hasoc_en_2</td>\n",
              "      <td>@politico No. We should remember very clearly ...</td>\n",
              "      <td>HOF</td>\n",
              "    </tr>\n",
              "    <tr>\n",
              "      <th>2</th>\n",
              "      <td>hasoc_en_3</td>\n",
              "      <td>@cricketworldcup Guess who would be the winner...</td>\n",
              "      <td>NOT</td>\n",
              "    </tr>\n",
              "    <tr>\n",
              "      <th>3</th>\n",
              "      <td>hasoc_en_4</td>\n",
              "      <td>Corbyn is too politically intellectual for #Bo...</td>\n",
              "      <td>NOT</td>\n",
              "    </tr>\n",
              "    <tr>\n",
              "      <th>4</th>\n",
              "      <td>hasoc_en_5</td>\n",
              "      <td>All the best to #TeamIndia for another swimmin...</td>\n",
              "      <td>NOT</td>\n",
              "    </tr>\n",
              "  </tbody>\n",
              "</table>\n",
              "</div>"
            ],
            "text/plain": [
              "      text_id                                               text task_1\n",
              "0  hasoc_en_1  #DhoniKeepsTheGlove | WATCH: Sports Minister K...    NOT\n",
              "1  hasoc_en_2  @politico No. We should remember very clearly ...    HOF\n",
              "2  hasoc_en_3  @cricketworldcup Guess who would be the winner...    NOT\n",
              "3  hasoc_en_4  Corbyn is too politically intellectual for #Bo...    NOT\n",
              "4  hasoc_en_5  All the best to #TeamIndia for another swimmin...    NOT"
            ]
          },
          "metadata": {},
          "execution_count": 12
        }
      ],
      "source": [
        "english_df_2019 = pd.read_csv('/content/gdrive/My Drive/NLP Project/data/2019/english_dataset/english_dataset_2019.csv', error_bad_lines=False)\n",
        "english_df_2019 = english_df_2019.drop(columns=['task_2', 'task_3'])\n",
        "print(english_df_2019.shape)\n",
        "labels = collections.Counter(english_df_2019['task_1'])\n",
        "ENGLISH_HOF.append(labels['HOF'])\n",
        "ENGLISH_NOT.append(labels['NOT'])\n",
        "print(labels)\n",
        "print(english_df_2019.columns)\n",
        "english_df_2019.head()"
      ]
    },
    {
      "cell_type": "code",
      "execution_count": 13,
      "metadata": {
        "id": "97PzLqQJYg4z"
      },
      "outputs": [],
      "source": [
        "# english_df_2020 = pd.read_csv('/content/gdrive/My Drive/NLP Project/data/2020/english_dataset/english_dataset_2020.csv', error_bad_lines=False)\n",
        "# english_df_2020 = english_df_2020.drop(columns=['task2'])\n",
        "# print(english_df_2020.shape)\n",
        "# print(english_df_2020.columns)\n",
        "# labels = collections.Counter(english_df_2020['task1'])\n",
        "# ENGLISH_HOF.append(labels['HOF'])\n",
        "# ENGLISH_NOT.append(labels['NOT'])\n",
        "# print(labels)\n",
        "# english_df_2020.head()"
      ]
    },
    {
      "cell_type": "code",
      "execution_count": 14,
      "metadata": {
        "colab": {
          "base_uri": "https://localhost:8080/",
          "height": 0
        },
        "id": "ODMjZEVTcfQx",
        "outputId": "f2734af8-b8ac-4741-c814-dec79c89d96d"
      },
      "outputs": [
        {
          "output_type": "stream",
          "name": "stdout",
          "text": [
            "Index(['text_id', 'text', 'task_1', 'task_2', 'task_3'], dtype='object')\n",
            "(1153, 3)\n",
            "Counter({'NOT': 865, 'HOF': 288})\n"
          ]
        },
        {
          "output_type": "execute_result",
          "data": {
            "text/html": [
              "<div>\n",
              "<style scoped>\n",
              "    .dataframe tbody tr th:only-of-type {\n",
              "        vertical-align: middle;\n",
              "    }\n",
              "\n",
              "    .dataframe tbody tr th {\n",
              "        vertical-align: top;\n",
              "    }\n",
              "\n",
              "    .dataframe thead th {\n",
              "        text-align: right;\n",
              "    }\n",
              "</style>\n",
              "<table border=\"1\" class=\"dataframe\">\n",
              "  <thead>\n",
              "    <tr style=\"text-align: right;\">\n",
              "      <th></th>\n",
              "      <th>text_id</th>\n",
              "      <th>text</th>\n",
              "      <th>task_1</th>\n",
              "    </tr>\n",
              "  </thead>\n",
              "  <tbody>\n",
              "    <tr>\n",
              "      <th>0</th>\n",
              "      <td>hasoc_en_902</td>\n",
              "      <td>West Bengal Doctor Crisis: Protesting doctors ...</td>\n",
              "      <td>NOT</td>\n",
              "    </tr>\n",
              "    <tr>\n",
              "      <th>1</th>\n",
              "      <td>hasoc_en_416</td>\n",
              "      <td>68.5 million people have been forced to leave ...</td>\n",
              "      <td>NOT</td>\n",
              "    </tr>\n",
              "    <tr>\n",
              "      <th>2</th>\n",
              "      <td>hasoc_en_207</td>\n",
              "      <td>You came, you saw .... we will look after the ...</td>\n",
              "      <td>NOT</td>\n",
              "    </tr>\n",
              "    <tr>\n",
              "      <th>3</th>\n",
              "      <td>hasoc_en_595</td>\n",
              "      <td>We'll get Brexit delivered by October 31st.   ...</td>\n",
              "      <td>NOT</td>\n",
              "    </tr>\n",
              "    <tr>\n",
              "      <th>4</th>\n",
              "      <td>hasoc_en_568</td>\n",
              "      <td>Fuck you. Go back to the dark ages you cow @IB...</td>\n",
              "      <td>HOF</td>\n",
              "    </tr>\n",
              "  </tbody>\n",
              "</table>\n",
              "</div>"
            ],
            "text/plain": [
              "        text_id                                               text task_1\n",
              "0  hasoc_en_902  West Bengal Doctor Crisis: Protesting doctors ...    NOT\n",
              "1  hasoc_en_416  68.5 million people have been forced to leave ...    NOT\n",
              "2  hasoc_en_207  You came, you saw .... we will look after the ...    NOT\n",
              "3  hasoc_en_595  We'll get Brexit delivered by October 31st.   ...    NOT\n",
              "4  hasoc_en_568  Fuck you. Go back to the dark ages you cow @IB...    HOF"
            ]
          },
          "metadata": {},
          "execution_count": 14
        }
      ],
      "source": [
        "english_df_2019t = pd.read_csv('/content/gdrive/My Drive/NLP Project/data/2019/english_dataset/english_dataset_test_2019.csv', error_bad_lines=False)\n",
        "print(english_df_2019t.columns)\n",
        "english_df_2019t = english_df_2019t.drop(columns=['task_2', 'task_3'])\n",
        "print(english_df_2019t.shape)\n",
        "labels = collections.Counter(english_df_2019t['task_1'])\n",
        "ENGLISH_HOF.append(labels['HOF'])\n",
        "ENGLISH_NOT.append(labels['NOT'])\n",
        "print(labels)\n",
        "english_df_2019t.head()"
      ]
    },
    {
      "cell_type": "code",
      "execution_count": 15,
      "metadata": {
        "id": "zhnpp6XVco1e"
      },
      "outputs": [],
      "source": [
        "# english_df_2020t = pd.read_csv('/content/gdrive/My Drive/NLP Project/data/2020/english_dataset/english_dataset_test_2020.csv', error_bad_lines=False)\n",
        "# english_df_2020t = english_df_2020t.drop(columns=['task2'])\n",
        "# print(english_df_2020t.shape)\n",
        "# print(english_df_2020t.columns)\n",
        "# labels = collections.Counter(english_df_2020t['task1'])\n",
        "# ENGLISH_HOF.append(labels['HOF'])\n",
        "# ENGLISH_NOT.append(labels['NOT'])\n",
        "# print(labels)\n",
        "# english_df_2020t.head()"
      ]
    },
    {
      "cell_type": "code",
      "execution_count": 16,
      "metadata": {
        "colab": {
          "base_uri": "https://localhost:8080/",
          "height": 0
        },
        "id": "FPrpbla7dAHK",
        "outputId": "a0e652db-82f0-458d-f466-22dd430762de"
      },
      "outputs": [
        {
          "output_type": "execute_result",
          "data": {
            "text/plain": [
              "([<matplotlib.axis.XTick at 0x7f4186101450>,\n",
              "  <matplotlib.axis.XTick at 0x7f4186101410>],\n",
              " [Text(0, 0, 'train 2019'), Text(0, 0, 'test 2019')])"
            ]
          },
          "metadata": {},
          "execution_count": 16
        },
        {
          "output_type": "display_data",
          "data": {
            "image/png": "[encoded data removed]",
            "text/plain": [
              "<Figure size 432x288 with 1 Axes>"
            ]
          },
          "metadata": {
            "needs_background": "light"
          }
        }
      ],
      "source": [
        "barWidth = 0.25\n",
        "br1 = np.arange(len(ENGLISH_HOF))\n",
        "br2 = [x + barWidth for x in br1]\n",
        "plt.bar(br1, ENGLISH_HOF, width=barWidth, label='HOF')\n",
        "plt.bar(br2, ENGLISH_NOT, width=barWidth, label='NOT')\n",
        "plt.legend()\n",
        "plt.xlabel('English Dataset')\n",
        "plt.ylabel('Count')\n",
        "plt.xticks([r + barWidth for r in range(len(br1))],\n",
        "        ['train 2019', 'test 2019'])"
      ]
    },
    {
      "cell_type": "markdown",
      "metadata": {
        "id": "53B0-lnL18sP"
      },
      "source": [
        "###SPANISH DATASET ANALYSIS"
      ]
    },
    {
      "cell_type": "code",
      "execution_count": 17,
      "metadata": {
        "id": "uRcUrwSc1-jO"
      },
      "outputs": [],
      "source": [
        "SPANISH_HOF = []\n",
        "SPANISH_NOT = []"
      ]
    },
    {
      "cell_type": "code",
      "execution_count": 18,
      "metadata": {
        "colab": {
          "base_uri": "https://localhost:8080/",
          "height": 0
        },
        "id": "VbyKHUy02CJk",
        "outputId": "163591b7-c7ff-43f6-a243-b1624b1fb285"
      },
      "outputs": [
        {
          "output_type": "stream",
          "name": "stdout",
          "text": [
            "(4450, 3)\n",
            "Counter({0: 2617, 1: 1833})\n",
            "Index(['id', 'text', 'HS'], dtype='object')\n"
          ]
        },
        {
          "output_type": "execute_result",
          "data": {
            "text/html": [
              "<div>\n",
              "<style scoped>\n",
              "    .dataframe tbody tr th:only-of-type {\n",
              "        vertical-align: middle;\n",
              "    }\n",
              "\n",
              "    .dataframe tbody tr th {\n",
              "        vertical-align: top;\n",
              "    }\n",
              "\n",
              "    .dataframe thead th {\n",
              "        text-align: right;\n",
              "    }\n",
              "</style>\n",
              "<table border=\"1\" class=\"dataframe\">\n",
              "  <thead>\n",
              "    <tr style=\"text-align: right;\">\n",
              "      <th></th>\n",
              "      <th>id</th>\n",
              "      <th>text</th>\n",
              "      <th>HS</th>\n",
              "    </tr>\n",
              "  </thead>\n",
              "  <tbody>\n",
              "    <tr>\n",
              "      <th>0</th>\n",
              "      <td>20001</td>\n",
              "      <td>Easyjet quiere duplicar el número de mujeres p...</td>\n",
              "      <td>1</td>\n",
              "    </tr>\n",
              "    <tr>\n",
              "      <th>1</th>\n",
              "      <td>20002</td>\n",
              "      <td>El gobierno debe crear un control estricto de ...</td>\n",
              "      <td>1</td>\n",
              "    </tr>\n",
              "    <tr>\n",
              "      <th>2</th>\n",
              "      <td>20003</td>\n",
              "      <td>Yo veo a mujeres destruidas por acoso laboral ...</td>\n",
              "      <td>0</td>\n",
              "    </tr>\n",
              "    <tr>\n",
              "      <th>3</th>\n",
              "      <td>20004</td>\n",
              "      <td>— Yo soy respetuoso con los demás, sólamente l...</td>\n",
              "      <td>0</td>\n",
              "    </tr>\n",
              "    <tr>\n",
              "      <th>4</th>\n",
              "      <td>20007</td>\n",
              "      <td>Antonio Caballero y como ser de mal gusto e ig...</td>\n",
              "      <td>0</td>\n",
              "    </tr>\n",
              "  </tbody>\n",
              "</table>\n",
              "</div>"
            ],
            "text/plain": [
              "      id                                               text  HS\n",
              "0  20001  Easyjet quiere duplicar el número de mujeres p...   1\n",
              "1  20002  El gobierno debe crear un control estricto de ...   1\n",
              "2  20003  Yo veo a mujeres destruidas por acoso laboral ...   0\n",
              "3  20004  — Yo soy respetuoso con los demás, sólamente l...   0\n",
              "4  20007  Antonio Caballero y como ser de mal gusto e ig...   0"
            ]
          },
          "metadata": {},
          "execution_count": 18
        }
      ],
      "source": [
        "spanish_df_2019 = pd.read_csv('/content/gdrive/My Drive/NLP Project/data/spanish_dataset/spanish_dataset.csv', error_bad_lines=False)\n",
        "# spanish_df_2019 = spanish_df_2019.drop(columns=['task_2'])\n",
        "print(spanish_df_2019.shape)\n",
        "labels = collections.Counter(spanish_df_2019['HS'])\n",
        "SPANISH_HOF.append(labels[1])\n",
        "SPANISH_NOT.append(labels[0])\n",
        "print(labels)\n",
        "print(spanish_df_2019.columns)\n",
        "spanish_df_2019.head()"
      ]
    },
    {
      "cell_type": "code",
      "execution_count": 19,
      "metadata": {
        "colab": {
          "base_uri": "https://localhost:8080/",
          "height": 0
        },
        "id": "BHXT3eSs2jVc",
        "outputId": "68357466-fd1a-4646-e6f9-3e26d3e06ef8"
      },
      "outputs": [
        {
          "output_type": "stream",
          "name": "stdout",
          "text": [
            "(500, 3)\n",
            "Counter({0: 278, 1: 222})\n",
            "Index(['id', 'text', 'task_1'], dtype='object')\n"
          ]
        },
        {
          "output_type": "execute_result",
          "data": {
            "text/html": [
              "<div>\n",
              "<style scoped>\n",
              "    .dataframe tbody tr th:only-of-type {\n",
              "        vertical-align: middle;\n",
              "    }\n",
              "\n",
              "    .dataframe tbody tr th {\n",
              "        vertical-align: top;\n",
              "    }\n",
              "\n",
              "    .dataframe thead th {\n",
              "        text-align: right;\n",
              "    }\n",
              "</style>\n",
              "<table border=\"1\" class=\"dataframe\">\n",
              "  <thead>\n",
              "    <tr style=\"text-align: right;\">\n",
              "      <th></th>\n",
              "      <th>id</th>\n",
              "      <th>text</th>\n",
              "      <th>task_1</th>\n",
              "    </tr>\n",
              "  </thead>\n",
              "  <tbody>\n",
              "    <tr>\n",
              "      <th>0</th>\n",
              "      <td>20005</td>\n",
              "      <td>Me estoy comiendo la picada árabe más rica de ...</td>\n",
              "      <td>0</td>\n",
              "    </tr>\n",
              "    <tr>\n",
              "      <th>1</th>\n",
              "      <td>20006</td>\n",
              "      <td>@Haryachyzaychyk Callate zorra y mama duro! 😍</td>\n",
              "      <td>1</td>\n",
              "    </tr>\n",
              "    <tr>\n",
              "      <th>2</th>\n",
              "      <td>20011</td>\n",
              "      <td>Acabo de escuchar a Casado diciendo que hay DE...</td>\n",
              "      <td>0</td>\n",
              "    </tr>\n",
              "    <tr>\n",
              "      <th>3</th>\n",
              "      <td>20019</td>\n",
              "      <td>Y NADIE SE HA PREGUNTADO LO QUE LE VA A COSTAR...</td>\n",
              "      <td>1</td>\n",
              "    </tr>\n",
              "    <tr>\n",
              "      <th>4</th>\n",
              "      <td>20033</td>\n",
              "      <td>@Fed_Durand Callate come sobra, más zorra son ...</td>\n",
              "      <td>1</td>\n",
              "    </tr>\n",
              "  </tbody>\n",
              "</table>\n",
              "</div>"
            ],
            "text/plain": [
              "      id                                               text  task_1\n",
              "0  20005  Me estoy comiendo la picada árabe más rica de ...       0\n",
              "1  20006      @Haryachyzaychyk Callate zorra y mama duro! 😍       1\n",
              "2  20011  Acabo de escuchar a Casado diciendo que hay DE...       0\n",
              "3  20019  Y NADIE SE HA PREGUNTADO LO QUE LE VA A COSTAR...       1\n",
              "4  20033  @Fed_Durand Callate come sobra, más zorra son ...       1"
            ]
          },
          "metadata": {},
          "execution_count": 19
        }
      ],
      "source": [
        "spanish_df_2019t = pd.read_csv('/content/gdrive/My Drive/NLP Project/data/spanish_dataset/spanish_dataset_test.csv', error_bad_lines=False)\n",
        "# spanish_df_2019 = spanish_df_2019.drop(columns=['task_2'])\n",
        "print(spanish_df_2019t.shape)\n",
        "labels = collections.Counter(spanish_df_2019t['task_1'])\n",
        "SPANISH_HOF.append(labels[1])\n",
        "SPANISH_NOT.append(labels[0])\n",
        "print(labels)\n",
        "print(spanish_df_2019t.columns)\n",
        "spanish_df_2019t.head()"
      ]
    },
    {
      "cell_type": "code",
      "execution_count": 20,
      "metadata": {
        "colab": {
          "base_uri": "https://localhost:8080/",
          "height": 0
        },
        "id": "7ePmQxEe2458",
        "outputId": "81e38287-5bfc-49b5-ec08-76ff2a52f542"
      },
      "outputs": [
        {
          "output_type": "execute_result",
          "data": {
            "text/plain": [
              "([<matplotlib.axis.XTick at 0x7f41867786d0>,\n",
              "  <matplotlib.axis.XTick at 0x7f4186778690>],\n",
              " [Text(0, 0, 'train 2018'), Text(0, 0, 'test 2018')])"
            ]
          },
          "metadata": {},
          "execution_count": 20
        },
        {
          "output_type": "display_data",
          "data": {
            "image/png": "[encoded data removed]",
            "text/plain": [
              "<Figure size 432x288 with 1 Axes>"
            ]
          },
          "metadata": {
            "needs_background": "light"
          }
        }
      ],
      "source": [
        "barWidth = 0.25\n",
        "br1 = np.arange(len(SPANISH_HOF))\n",
        "br2 = [x + barWidth for x in br1]\n",
        "plt.bar(br1, SPANISH_HOF, width=barWidth, label='HOF')\n",
        "plt.bar(br2, SPANISH_NOT, width=barWidth, label='NOT')\n",
        "plt.legend()\n",
        "plt.xlabel('Spanish Dataset')\n",
        "plt.ylabel('Count')\n",
        "plt.xticks([r + barWidth for r in range(len(br1))],\n",
        "        ['train 2018', 'test 2018'])"
      ]
    },
    {
      "cell_type": "markdown",
      "metadata": {
        "id": "blgR0e9zfR2L"
      },
      "source": [
        "###GERMAN DATASET ANALYSIS"
      ]
    },
    {
      "cell_type": "code",
      "execution_count": 21,
      "metadata": {
        "id": "1JxibtZMdUwk"
      },
      "outputs": [],
      "source": [
        "GERMAN_HOF = []\n",
        "GERMAN_NOT = []"
      ]
    },
    {
      "cell_type": "code",
      "execution_count": 22,
      "metadata": {
        "colab": {
          "base_uri": "https://localhost:8080/",
          "height": 0
        },
        "id": "30kn7DrQfWJF",
        "outputId": "fe6fbd95-c83d-4eef-b0a9-083123ebaa3e"
      },
      "outputs": [
        {
          "output_type": "stream",
          "name": "stdout",
          "text": [
            "(3819, 3)\n",
            "Counter({'NOT': 3412, 'HOF': 407})\n",
            "Index(['text_id', 'text', 'task_1'], dtype='object')\n"
          ]
        },
        {
          "output_type": "execute_result",
          "data": {
            "text/html": [
              "<div>\n",
              "<style scoped>\n",
              "    .dataframe tbody tr th:only-of-type {\n",
              "        vertical-align: middle;\n",
              "    }\n",
              "\n",
              "    .dataframe tbody tr th {\n",
              "        vertical-align: top;\n",
              "    }\n",
              "\n",
              "    .dataframe thead th {\n",
              "        text-align: right;\n",
              "    }\n",
              "</style>\n",
              "<table border=\"1\" class=\"dataframe\">\n",
              "  <thead>\n",
              "    <tr style=\"text-align: right;\">\n",
              "      <th></th>\n",
              "      <th>text_id</th>\n",
              "      <th>text</th>\n",
              "      <th>task_1</th>\n",
              "    </tr>\n",
              "  </thead>\n",
              "  <tbody>\n",
              "    <tr>\n",
              "      <th>0</th>\n",
              "      <td>hasoc_de_1</td>\n",
              "      <td>Frank Rennicke – Ich bin stolz https://t.co/Cm...</td>\n",
              "      <td>NOT</td>\n",
              "    </tr>\n",
              "    <tr>\n",
              "      <th>1</th>\n",
              "      <td>hasoc_de_2</td>\n",
              "      <td>ANSEHEN.....und danach bitte TEILEN...TEILEN.....</td>\n",
              "      <td>NOT</td>\n",
              "    </tr>\n",
              "    <tr>\n",
              "      <th>2</th>\n",
              "      <td>hasoc_de_3</td>\n",
              "      <td>#Koeln Mohamed erkennt kein deutsches Recht so...</td>\n",
              "      <td>NOT</td>\n",
              "    </tr>\n",
              "    <tr>\n",
              "      <th>3</th>\n",
              "      <td>hasoc_de_4</td>\n",
              "      <td>#SaudiArabien ist eine brutale islamische Dikt...</td>\n",
              "      <td>NOT</td>\n",
              "    </tr>\n",
              "    <tr>\n",
              "      <th>4</th>\n",
              "      <td>hasoc_de_5</td>\n",
              "      <td>Bundespolizei #München hat im 1. Quartal 2019 ...</td>\n",
              "      <td>NOT</td>\n",
              "    </tr>\n",
              "  </tbody>\n",
              "</table>\n",
              "</div>"
            ],
            "text/plain": [
              "      text_id                                               text task_1\n",
              "0  hasoc_de_1  Frank Rennicke – Ich bin stolz https://t.co/Cm...    NOT\n",
              "1  hasoc_de_2  ANSEHEN.....und danach bitte TEILEN...TEILEN.....    NOT\n",
              "2  hasoc_de_3  #Koeln Mohamed erkennt kein deutsches Recht so...    NOT\n",
              "3  hasoc_de_4  #SaudiArabien ist eine brutale islamische Dikt...    NOT\n",
              "4  hasoc_de_5  Bundespolizei #München hat im 1. Quartal 2019 ...    NOT"
            ]
          },
          "metadata": {},
          "execution_count": 22
        }
      ],
      "source": [
        "german_df_2019 = pd.read_csv('/content/gdrive/My Drive/NLP Project/data/2019/german_dataset/german_dataset_2019.csv', error_bad_lines=False)\n",
        "german_df_2019 = german_df_2019.drop(columns=['task_2'])\n",
        "print(german_df_2019.shape)\n",
        "labels = collections.Counter(german_df_2019['task_1'])\n",
        "GERMAN_HOF.append(labels['HOF'])\n",
        "GERMAN_NOT.append(labels['NOT'])\n",
        "print(labels)\n",
        "print(german_df_2019.columns)\n",
        "german_df_2019.head()"
      ]
    },
    {
      "cell_type": "code",
      "execution_count": 23,
      "metadata": {
        "id": "dLEXsy4Dfdu1"
      },
      "outputs": [],
      "source": [
        "# german_df_2020 = pd.read_csv('/content/gdrive/My Drive/NLP Project/data/2020/german_dataset/german_dataset_2020.csv', error_bad_lines=False)\n",
        "# print(german_df_2020.columns)\n",
        "# german_df_2020 = german_df_2020.drop(columns=['task2'])\n",
        "# print(german_df_2020.shape)\n",
        "# labels = collections.Counter(german_df_2020['task1'])\n",
        "# GERMAN_HOF.append(labels['HOF'])\n",
        "# GERMAN_NOT.append(labels['NOT'])\n",
        "# print(labels)\n",
        "# german_df_2020.head()"
      ]
    },
    {
      "cell_type": "code",
      "execution_count": 24,
      "metadata": {
        "colab": {
          "base_uri": "https://localhost:8080/",
          "height": 0
        },
        "id": "qUVbhTHPfm9q",
        "outputId": "fe413bf2-d522-4bc9-d24c-9a16ea84ab32"
      },
      "outputs": [
        {
          "output_type": "stream",
          "name": "stdout",
          "text": [
            "Index(['tweet_id', 'text', 'task1', 'task2', 'ID'], dtype='object')\n",
            "(526, 4)\n",
            "Counter({'NOT': 392, 'HOF': 134})\n"
          ]
        },
        {
          "output_type": "execute_result",
          "data": {
            "text/html": [
              "<div>\n",
              "<style scoped>\n",
              "    .dataframe tbody tr th:only-of-type {\n",
              "        vertical-align: middle;\n",
              "    }\n",
              "\n",
              "    .dataframe tbody tr th {\n",
              "        vertical-align: top;\n",
              "    }\n",
              "\n",
              "    .dataframe thead th {\n",
              "        text-align: right;\n",
              "    }\n",
              "</style>\n",
              "<table border=\"1\" class=\"dataframe\">\n",
              "  <thead>\n",
              "    <tr style=\"text-align: right;\">\n",
              "      <th></th>\n",
              "      <th>tweet_id</th>\n",
              "      <th>text</th>\n",
              "      <th>task1</th>\n",
              "      <th>ID</th>\n",
              "    </tr>\n",
              "  </thead>\n",
              "  <tbody>\n",
              "    <tr>\n",
              "      <th>0</th>\n",
              "      <td>1129095874242650112</td>\n",
              "      <td>@derCarsti Boykottieren hört sich besser an. 💙💙</td>\n",
              "      <td>NOT</td>\n",
              "      <td>hasoc_2020_de_1053</td>\n",
              "    </tr>\n",
              "    <tr>\n",
              "      <th>1</th>\n",
              "      <td>1129004308396236800</td>\n",
              "      <td>RT @ibikus31: Es wird spekuliert, ob Merkel ei...</td>\n",
              "      <td>NOT</td>\n",
              "      <td>hasoc_2020_de_671</td>\n",
              "    </tr>\n",
              "    <tr>\n",
              "      <th>2</th>\n",
              "      <td>1130896929355907080</td>\n",
              "      <td>Hat #Hitler wirklich den Krieg in der Wüste ve...</td>\n",
              "      <td>NOT</td>\n",
              "      <td>hasoc_2020_de_2977</td>\n",
              "    </tr>\n",
              "    <tr>\n",
              "      <th>3</th>\n",
              "      <td>1132251534329307136</td>\n",
              "      <td>RT @Beatrix_vStorch: #May tritt in UK unter Tr...</td>\n",
              "      <td>NOT</td>\n",
              "      <td>hasoc_2020_de_1746</td>\n",
              "    </tr>\n",
              "    <tr>\n",
              "      <th>4</th>\n",
              "      <td>1124941869115498496</td>\n",
              "      <td>@justmeDoro Eher nicht. Das Gänse hauen wieder...</td>\n",
              "      <td>NOT</td>\n",
              "      <td>hasoc_2020_de_2416</td>\n",
              "    </tr>\n",
              "  </tbody>\n",
              "</table>\n",
              "</div>"
            ],
            "text/plain": [
              "              tweet_id  ...                  ID\n",
              "0  1129095874242650112  ...  hasoc_2020_de_1053\n",
              "1  1129004308396236800  ...   hasoc_2020_de_671\n",
              "2  1130896929355907080  ...  hasoc_2020_de_2977\n",
              "3  1132251534329307136  ...  hasoc_2020_de_1746\n",
              "4  1124941869115498496  ...  hasoc_2020_de_2416\n",
              "\n",
              "[5 rows x 4 columns]"
            ]
          },
          "metadata": {},
          "execution_count": 24
        }
      ],
      "source": [
        "german_df_2019t = pd.read_csv('/content/gdrive/My Drive/NLP Project/data/2020/german_dataset/german_dataset_test_2020.csv', error_bad_lines=False)\n",
        "print(german_df_2019t.columns)\n",
        "german_df_2019t = german_df_2019t.drop(columns=['task2'])\n",
        "print(german_df_2019t.shape)\n",
        "labels = collections.Counter(german_df_2019t['task1'])\n",
        "GERMAN_HOF.append(labels['HOF'])\n",
        "GERMAN_NOT.append(labels['NOT'])\n",
        "print(labels)\n",
        "german_df_2019t.head()"
      ]
    },
    {
      "cell_type": "code",
      "execution_count": 25,
      "metadata": {
        "id": "e91sAGZSfprT"
      },
      "outputs": [],
      "source": [
        "# german_df_2020t = pd.read_csv('/content/gdrive/My Drive/NLP Project/data/2020/english_dataset/english_dataset_test_2020.csv', error_bad_lines=False)\n",
        "# german_df_2020t = german_df_2020t.drop(columns=['task2'])\n",
        "# print(german_df_2020t.shape)\n",
        "# print(german_df_2020t.columns)\n",
        "# labels = collections.Counter(german_df_2020t['task1'])\n",
        "# GERMAN_HOF.append(labels['HOF'])\n",
        "# GERMAN_NOT.append(labels['NOT'])\n",
        "# print(labels)\n",
        "# german_df_2020t.head()"
      ]
    },
    {
      "cell_type": "code",
      "execution_count": 26,
      "metadata": {
        "colab": {
          "base_uri": "https://localhost:8080/",
          "height": 0
        },
        "id": "fUmKTe_8ftay",
        "outputId": "fb32ea84-35f1-4122-b29c-5796923702d8"
      },
      "outputs": [
        {
          "output_type": "execute_result",
          "data": {
            "text/plain": [
              "([<matplotlib.axis.XTick at 0x7f4185f89a90>,\n",
              "  <matplotlib.axis.XTick at 0x7f4184f5ac10>],\n",
              " [Text(0, 0, 'train 2019'), Text(0, 0, 'test 2019')])"
            ]
          },
          "metadata": {},
          "execution_count": 26
        },
        {
          "output_type": "display_data",
          "data": {
            "image/png": "[encoded data removed]",
            "text/plain": [
              "<Figure size 432x288 with 1 Axes>"
            ]
          },
          "metadata": {
            "needs_background": "light"
          }
        }
      ],
      "source": [
        "barWidth = 0.25\n",
        "br1 = np.arange(len(GERMAN_HOF))\n",
        "br2 = [x + barWidth for x in br1]\n",
        "plt.bar(br1, GERMAN_HOF, width=barWidth, label='HOF')\n",
        "plt.bar(br2, GERMAN_NOT, width=barWidth, label='NOT')\n",
        "plt.legend()\n",
        "plt.xlabel('German Dataset')\n",
        "plt.ylabel('Count')\n",
        "plt.xticks([r + barWidth for r in range(len(br1))],\n",
        "        ['train 2019', 'test 2019'])"
      ]
    },
    {
      "cell_type": "markdown",
      "metadata": {
        "id": "iQawXY3di4l5"
      },
      "source": [
        "###HINDI DATASET ANALYSIS"
      ]
    },
    {
      "cell_type": "code",
      "execution_count": 27,
      "metadata": {
        "id": "S7CBxZkHiw38"
      },
      "outputs": [],
      "source": [
        "HINDI_HOF = []\n",
        "HINDI_NOT = []"
      ]
    },
    {
      "cell_type": "code",
      "execution_count": 28,
      "metadata": {
        "colab": {
          "base_uri": "https://localhost:8080/",
          "height": 0
        },
        "id": "YlOk7cXUi-cO",
        "outputId": "427ee84b-a9ce-4f1c-adf0-d8a61383c9f9"
      },
      "outputs": [
        {
          "output_type": "stream",
          "name": "stdout",
          "text": [
            "(4665, 3)\n",
            "Counter({'HOF': 2469, 'NOT': 2196})\n",
            "Index(['text_id', 'text', 'task_1'], dtype='object')\n"
          ]
        },
        {
          "output_type": "execute_result",
          "data": {
            "text/html": [
              "<div>\n",
              "<style scoped>\n",
              "    .dataframe tbody tr th:only-of-type {\n",
              "        vertical-align: middle;\n",
              "    }\n",
              "\n",
              "    .dataframe tbody tr th {\n",
              "        vertical-align: top;\n",
              "    }\n",
              "\n",
              "    .dataframe thead th {\n",
              "        text-align: right;\n",
              "    }\n",
              "</style>\n",
              "<table border=\"1\" class=\"dataframe\">\n",
              "  <thead>\n",
              "    <tr style=\"text-align: right;\">\n",
              "      <th></th>\n",
              "      <th>text_id</th>\n",
              "      <th>text</th>\n",
              "      <th>task_1</th>\n",
              "    </tr>\n",
              "  </thead>\n",
              "  <tbody>\n",
              "    <tr>\n",
              "      <th>0</th>\n",
              "      <td>hasoc_hi_5556</td>\n",
              "      <td>बांग्लादेश की शानदार वापसी, भारत को 314 रन पर ...</td>\n",
              "      <td>NOT</td>\n",
              "    </tr>\n",
              "    <tr>\n",
              "      <th>1</th>\n",
              "      <td>hasoc_hi_5648</td>\n",
              "      <td>सब रंडी नाच देखने मे व्यस्त जैसे ही कोई #शांती...</td>\n",
              "      <td>HOF</td>\n",
              "    </tr>\n",
              "    <tr>\n",
              "      <th>2</th>\n",
              "      <td>hasoc_hi_164</td>\n",
              "      <td>तुम जैसे हरामियों के लिए बस जूतों की कमी है शु...</td>\n",
              "      <td>HOF</td>\n",
              "    </tr>\n",
              "    <tr>\n",
              "      <th>3</th>\n",
              "      <td>hasoc_hi_3530</td>\n",
              "      <td>बीजेपी MLA आकाश विजयवर्गीय जेल से रिहा, जमानत ...</td>\n",
              "      <td>NOT</td>\n",
              "    </tr>\n",
              "    <tr>\n",
              "      <th>4</th>\n",
              "      <td>hasoc_hi_5206</td>\n",
              "      <td>चमकी बुखार: विधानसभा परिसर में आरजेडी का प्रदर...</td>\n",
              "      <td>NOT</td>\n",
              "    </tr>\n",
              "  </tbody>\n",
              "</table>\n",
              "</div>"
            ],
            "text/plain": [
              "         text_id                                               text task_1\n",
              "0  hasoc_hi_5556  बांग्लादेश की शानदार वापसी, भारत को 314 रन पर ...    NOT\n",
              "1  hasoc_hi_5648  सब रंडी नाच देखने मे व्यस्त जैसे ही कोई #शांती...    HOF\n",
              "2   hasoc_hi_164  तुम जैसे हरामियों के लिए बस जूतों की कमी है शु...    HOF\n",
              "3  hasoc_hi_3530  बीजेपी MLA आकाश विजयवर्गीय जेल से रिहा, जमानत ...    NOT\n",
              "4  hasoc_hi_5206  चमकी बुखार: विधानसभा परिसर में आरजेडी का प्रदर...    NOT"
            ]
          },
          "metadata": {},
          "execution_count": 28
        }
      ],
      "source": [
        "hindi_df_2019 = pd.read_csv('/content/gdrive/My Drive/NLP Project/data/2019/hindi_dataset/hindi_dataset_2019.csv', error_bad_lines=False)\n",
        "hindi_df_2019 = hindi_df_2019.drop(columns=['task_2', 'task_3'])\n",
        "print(hindi_df_2019.shape)\n",
        "labels = collections.Counter(hindi_df_2019['task_1'])\n",
        "HINDI_HOF.append(labels['HOF'])\n",
        "HINDI_NOT.append(labels['NOT'])\n",
        "print(labels)\n",
        "print(hindi_df_2019.columns)\n",
        "hindi_df_2019.head()"
      ]
    },
    {
      "cell_type": "code",
      "execution_count": 29,
      "metadata": {
        "id": "WRhsISVAjAyZ"
      },
      "outputs": [],
      "source": [
        "# hindi_df_2020 = pd.read_csv('/content/gdrive/My Drive/NLP Project/data/2020/hindi_dataset/hindi_dataset_2020.csv', error_bad_lines=False)\n",
        "# print(hindi_df_2020.columns)\n",
        "# hindi_df_2020 = hindi_df_2020.drop(columns=['task2'])\n",
        "# print(hindi_df_2020.shape)\n",
        "# labels = collections.Counter(hindi_df_2020['task1'])\n",
        "# HINDI_HOF.append(labels['HOF'])\n",
        "# HINDI_NOT.append(labels['NOT'])\n",
        "# print(labels)\n",
        "# hindi_df_2020.head()"
      ]
    },
    {
      "cell_type": "code",
      "execution_count": 30,
      "metadata": {
        "colab": {
          "base_uri": "https://localhost:8080/",
          "height": 0
        },
        "id": "ZEl4r9DRjDIo",
        "outputId": "924a9906-a967-4bda-b7df-d744202a0a86"
      },
      "outputs": [
        {
          "output_type": "stream",
          "name": "stdout",
          "text": [
            "Index(['tweet_id', 'text', 'task1', 'task2', 'ID'], dtype='object')\n",
            "(663, 4)\n",
            "Counter({'NOT': 466, 'HOF': 197})\n"
          ]
        },
        {
          "output_type": "execute_result",
          "data": {
            "text/html": [
              "<div>\n",
              "<style scoped>\n",
              "    .dataframe tbody tr th:only-of-type {\n",
              "        vertical-align: middle;\n",
              "    }\n",
              "\n",
              "    .dataframe tbody tr th {\n",
              "        vertical-align: top;\n",
              "    }\n",
              "\n",
              "    .dataframe thead th {\n",
              "        text-align: right;\n",
              "    }\n",
              "</style>\n",
              "<table border=\"1\" class=\"dataframe\">\n",
              "  <thead>\n",
              "    <tr style=\"text-align: right;\">\n",
              "      <th></th>\n",
              "      <th>tweet_id</th>\n",
              "      <th>text</th>\n",
              "      <th>task1</th>\n",
              "      <th>ID</th>\n",
              "    </tr>\n",
              "  </thead>\n",
              "  <tbody>\n",
              "    <tr>\n",
              "      <th>0</th>\n",
              "      <td>1127781647783301120</td>\n",
              "      <td>@Kinjal_Dubey_ इसके लिए तैयारी हो रखी है\\nआपको...</td>\n",
              "      <td>HOF</td>\n",
              "      <td>hasoc_2020_hi_1938</td>\n",
              "    </tr>\n",
              "    <tr>\n",
              "      <th>1</th>\n",
              "      <td>1127492853171535872</td>\n",
              "      <td>RT @pratimamishra04: दिल्ली के मुख्यमंत्री @Ar...</td>\n",
              "      <td>NOT</td>\n",
              "      <td>hasoc_2020_hi_1201</td>\n",
              "    </tr>\n",
              "    <tr>\n",
              "      <th>2</th>\n",
              "      <td>1123638375896903681</td>\n",
              "      <td>RT @nishantdabre2: आज एक तरफ खुशी है, तो एक तर...</td>\n",
              "      <td>NOT</td>\n",
              "      <td>hasoc_2020_hi_1628</td>\n",
              "    </tr>\n",
              "    <tr>\n",
              "      <th>3</th>\n",
              "      <td>1127496460310683648</td>\n",
              "      <td>@BJP4India @HardeepSPuri जिस कुनबे के लोग :-\\n...</td>\n",
              "      <td>NOT</td>\n",
              "      <td>hasoc_2020_hi_3257</td>\n",
              "    </tr>\n",
              "    <tr>\n",
              "      <th>4</th>\n",
              "      <td>1127667277535399937</td>\n",
              "      <td>@manakgupta बादल....😂😂😂</td>\n",
              "      <td>NOT</td>\n",
              "      <td>hasoc_2020_hi_4133</td>\n",
              "    </tr>\n",
              "  </tbody>\n",
              "</table>\n",
              "</div>"
            ],
            "text/plain": [
              "              tweet_id  ...                  ID\n",
              "0  1127781647783301120  ...  hasoc_2020_hi_1938\n",
              "1  1127492853171535872  ...  hasoc_2020_hi_1201\n",
              "2  1123638375896903681  ...  hasoc_2020_hi_1628\n",
              "3  1127496460310683648  ...  hasoc_2020_hi_3257\n",
              "4  1127667277535399937  ...  hasoc_2020_hi_4133\n",
              "\n",
              "[5 rows x 4 columns]"
            ]
          },
          "metadata": {},
          "execution_count": 30
        }
      ],
      "source": [
        "hindi_df_2019t = pd.read_csv('/content/gdrive/My Drive/NLP Project/data/2020/hindi_dataset/hindi_dataset_test_2020.csv', error_bad_lines=False)\n",
        "print(hindi_df_2019t.columns)\n",
        "hindi_df_2019t = hindi_df_2019t.drop(columns=['task2'])\n",
        "print(hindi_df_2019t.shape)\n",
        "labels = collections.Counter(hindi_df_2019t['task1'])\n",
        "HINDI_HOF.append(labels['HOF'])\n",
        "HINDI_NOT.append(labels['NOT'])\n",
        "print(labels)\n",
        "hindi_df_2019t.head()"
      ]
    },
    {
      "cell_type": "code",
      "execution_count": 31,
      "metadata": {
        "id": "prjeFkM-jFsx"
      },
      "outputs": [],
      "source": [
        "# # hindi_df_2020t = pd.read_csv('/content/gdrive/My Drive/NLP Project/data/2020/hindi_dataset/hindi_dataset_test_2020.csv', error_bad_lines=False)\n",
        "# hindi_df_2020t = hindi_df_2020t.drop(columns=['task2'])\n",
        "# print(hindi_df_2020t.shape)\n",
        "# print(hindi_df_2020t.columns)\n",
        "# labels = collections.Counter(hindi_df_2020t['task1'])\n",
        "# HINDI_HOF.append(labels['HOF'])\n",
        "# HINDI_NOT.append(labels['NOT'])\n",
        "# print(labels)\n",
        "# hindi_df_2020t.head()"
      ]
    },
    {
      "cell_type": "code",
      "execution_count": 32,
      "metadata": {
        "colab": {
          "base_uri": "https://localhost:8080/",
          "height": 0
        },
        "id": "qdyLEHXMjHyZ",
        "outputId": "58faf3ef-f15e-49aa-bfcc-c10b5eac2ec3"
      },
      "outputs": [
        {
          "output_type": "execute_result",
          "data": {
            "text/plain": [
              "([<matplotlib.axis.XTick at 0x7f4185c29e90>,\n",
              "  <matplotlib.axis.XTick at 0x7f4185c29e50>],\n",
              " [Text(0, 0, 'train 2019'), Text(0, 0, 'test 2019')])"
            ]
          },
          "metadata": {},
          "execution_count": 32
        },
        {
          "output_type": "display_data",
          "data": {
            "image/png": "[encoded data removed]",
            "text/plain": [
              "<Figure size 432x288 with 1 Axes>"
            ]
          },
          "metadata": {
            "needs_background": "light"
          }
        }
      ],
      "source": [
        "barWidth = 0.25\n",
        "br1 = np.arange(len(HINDI_HOF))\n",
        "br2 = [x + barWidth for x in br1]\n",
        "plt.bar(br1, HINDI_HOF, width=barWidth, label='HOF')\n",
        "plt.bar(br2, HINDI_NOT, width=barWidth, label='NOT')\n",
        "plt.legend()\n",
        "plt.xlabel('Hindi Dataset')\n",
        "plt.ylabel('Count')\n",
        "plt.xticks([r + barWidth for r in range(len(br1))],\n",
        "        ['train 2019', 'test 2019'])"
      ]
    },
    {
      "cell_type": "markdown",
      "metadata": {
        "id": "IyljbtiPkyKB"
      },
      "source": [
        "###COLLECTIVE DATASET ANALYSIS"
      ]
    },
    {
      "cell_type": "code",
      "execution_count": 33,
      "metadata": {
        "id": "jOYTAnFKjJ2s"
      },
      "outputs": [],
      "source": [
        "total_hof = [np.sum(ENGLISH_HOF), np.sum(GERMAN_HOF), np.sum(SPANISH_HOF), np.sum(HINDI_HOF), np.sum(FRENCH_HOF)]\n",
        "total_not = [np.sum(ENGLISH_NOT), np.sum(GERMAN_NOT), np.sum(SPANISH_HOF), np.sum(HINDI_NOT), np.sum(FRENCH_NOT)]"
      ]
    },
    {
      "cell_type": "code",
      "execution_count": 34,
      "metadata": {
        "colab": {
          "base_uri": "https://localhost:8080/",
          "height": 0
        },
        "id": "8PueQWqemx8j",
        "outputId": "283070f0-89e9-44a6-daa5-4687880f356f"
      },
      "outputs": [
        {
          "output_type": "execute_result",
          "data": {
            "text/plain": [
              "Text(0.5, 1.0, 'Hate Tweets')"
            ]
          },
          "metadata": {},
          "execution_count": 34
        },
        {
          "output_type": "display_data",
          "data": {
            "image/png": "[encoded data removed]",
            "text/plain": [
              "<Figure size 720x576 with 1 Axes>"
            ]
          },
          "metadata": {}
        }
      ],
      "source": [
        "labels = ['English', 'German', 'Spanish', 'Hindi', 'French']\n",
        "fig, ax = plt.subplots(figsize=(10, 8), subplot_kw=dict(aspect=\"equal\"))\n",
        "\n",
        "def func(pct, allvals):\n",
        "    absolute = int(round(pct/100.*np.sum(allvals)))\n",
        "    return \"{:.1f}%\\n({:d})\".format(pct, absolute)\n",
        "\n",
        "wedges, texts, autotexts = ax.pie(total_hof, autopct=lambda pct: func(pct, total_hof),textprops=dict(color=\"w\"), labels=labels)\n",
        "ax.legend(wedges, labels,\n",
        "          title=\"Language\",\n",
        "          loc=\"center left\",\n",
        "          bbox_to_anchor=(1, 0, 0.5, 1))\n",
        "plt.setp(autotexts, size=15, weight=\"bold\")\n",
        "ax.set_title(\"Hate Tweets\")"
      ]
    },
    {
      "cell_type": "code",
      "execution_count": 35,
      "metadata": {
        "colab": {
          "base_uri": "https://localhost:8080/",
          "height": 0
        },
        "id": "nmbIbWwFnMpF",
        "outputId": "60661242-d438-4bbf-f71b-f67c7d79d4ed"
      },
      "outputs": [
        {
          "output_type": "execute_result",
          "data": {
            "text/plain": [
              "Text(0.5, 1.0, 'Not Hate Tweets')"
            ]
          },
          "metadata": {},
          "execution_count": 35
        },
        {
          "output_type": "display_data",
          "data": {
            "image/png": "[encoded data removed]",
            "text/plain": [
              "<Figure size 720x576 with 1 Axes>"
            ]
          },
          "metadata": {}
        }
      ],
      "source": [
        "fig, ax = plt.subplots(figsize=(10, 8), subplot_kw=dict(aspect=\"equal\"))\n",
        "\n",
        "def func(pct, allvals):\n",
        "    absolute = int(round(pct/100.*np.sum(allvals)))\n",
        "    return \"{:.1f}%\\n({:d})\".format(pct, absolute)\n",
        "\n",
        "wedges, texts, autotexts = ax.pie(total_not, autopct=lambda pct: func(pct, total_not),textprops=dict(color=\"w\"), labels=labels)\n",
        "ax.legend(wedges, labels,\n",
        "          title=\"Language\",\n",
        "          loc=\"center left\",\n",
        "          bbox_to_anchor=(1, 0, 0.5, 1))\n",
        "plt.setp(autotexts, size=15, weight=\"bold\")\n",
        "ax.set_title(\"Not Hate Tweets\")"
      ]
    },
    {
      "cell_type": "code",
      "execution_count": 36,
      "metadata": {
        "colab": {
          "base_uri": "https://localhost:8080/",
          "height": 0
        },
        "id": "3I9wi4jUsHPG",
        "outputId": "9fe1b6aa-6b93-4757-ff49-5254d85b851c"
      },
      "outputs": [
        {
          "output_type": "execute_result",
          "data": {
            "text/plain": [
              "Text(0.5, 1.0, 'Language Distribution of Datasets')"
            ]
          },
          "metadata": {},
          "execution_count": 36
        },
        {
          "output_type": "display_data",
          "data": {
            "image/png": "[encoded data removed]",
            "text/plain": [
              "<Figure size 720x576 with 1 Axes>"
            ]
          },
          "metadata": {}
        }
      ],
      "source": [
        "data = [a + b for a, b in zip(total_hof, total_not)]\n",
        "fig, ax = plt.subplots(figsize=(10, 8), subplot_kw=dict(aspect=\"equal\"))\n",
        "\n",
        "def func(pct, allvals):\n",
        "    absolute = int(round(pct/100.*np.sum(allvals)))\n",
        "    return \"{:.1f}%\\n({:d})\".format(pct, absolute)\n",
        "\n",
        "wedges, texts, autotexts = ax.pie(data, autopct=lambda pct: func(pct, data),textprops=dict(color=\"w\"), labels=labels)\n",
        "ax.legend(wedges, labels,\n",
        "          title=\"Language\",\n",
        "          loc=\"center left\",\n",
        "          bbox_to_anchor=(1, 0, 0.5, 1))\n",
        "plt.setp(autotexts, size=15, weight=\"bold\")\n",
        "ax.set_title(\"Language Distribution of Datasets\")"
      ]
    },
    {
      "cell_type": "markdown",
      "metadata": {
        "id": "a0pnHzf-tGc8"
      },
      "source": [
        "### CLEANING OF DATA - Remove STOP WORDS, tokens and twitter handles"
      ]
    },
    {
      "cell_type": "code",
      "execution_count": 37,
      "metadata": {
        "id": "6N5-c_QFsZaY"
      },
      "outputs": [],
      "source": [
        "def modify_tweets(data):\n",
        "  # print(data.columns)\n",
        "  modified_tweets = []\n",
        "  for text in data:\n",
        "\n",
        "      #To remove @AnyName from the tweets\n",
        "      text=re.sub(r\"@[a-zA-z0-9]*\\s+\",\"\",text) \n",
        "      text=re.sub(r\"@[a-zA-z0-9]*:\",\"\",text)\n",
        "      text=re.sub(r\"@[a-zA-z0-9]*\",\"\",text)  \n",
        "      text=re.sub(r\"@[a-zA-z0-9]*$\",\"\",text)\n",
        "      \n",
        "      #To remove links\n",
        "      text=re.sub(r\"^https://t.co/[a-zA-Z0-9]*\\s+\",\" \",text)    \n",
        "      text=re.sub(r\"\\s+https://t.co/[a-zA-Z0-9]*\\s+\",\" \",text)  \n",
        "      text=re.sub(r\"\\s+https://t.co/[a-zA-Z0-9]*$\",\" \",text)    \n",
        "      \n",
        "      #To Convert all the tweets to low.\n",
        "      # text=text.lower() \n",
        "      \n",
        "      #To remove the shorthands\n",
        "      text=re.sub(r\"that's\",\"that is \",text)\n",
        "      text=re.sub(r\"there's\",\"there is \",text)\n",
        "      text=re.sub(r\"what's\",\"what is \",text)\n",
        "      text=re.sub(r\"where's\",\"where is \",text)\n",
        "      text=re.sub(r\"it's\",\"it is \",text)\n",
        "      text=re.sub(r\"who's\",\"who is \",text)\n",
        "      text=re.sub(r\"i'm\",\"i am \",text)\n",
        "      text=re.sub(r\"she's\",\"she is \",text)\n",
        "      text=re.sub(r\"he's\",\"he is \",text)\n",
        "      text=re.sub(r\"they're\",\"they are \",text)\n",
        "      text=re.sub(r\"who're\",\"who are \",text)\n",
        "      text=re.sub(r\"ain't\",\"am not \",text)\n",
        "      text=re.sub(r\"wouldn't\",\"would not \",text)\n",
        "      text=re.sub(r\"shouldn't\",\"should not \",text)\n",
        "      text=re.sub(r\"can't\",\"cannot \",text)\n",
        "      text=re.sub(r\"couldn't\",\"could not \",text)\n",
        "      text=re.sub(r\"won't\",\"will not \",text)\n",
        "      \n",
        "      #To remove the single character\n",
        "      text=re.sub(r\"\\s+[a-z]\\s+\",\" \",text)\n",
        "      text=re.sub(r\"\\s+[a-z]$\",\" \",text)\n",
        "      text=re.sub(r\"^[a-z]\\s+\",\" \",text)\n",
        "      \n",
        "      #To remove non-word character\n",
        "      text=re.sub(r\"^[「人間はいわば感情に左右される生き物である」]*\\s+\",\" \",text)\n",
        "      text=re.sub(r\"\\s+[「人間はいわば感情に左右される生き物である」]*\\s+\",\" \",text)\n",
        "      text=re.sub(r\"\\s+[「人間はいわば感情に左右される生き物である」]*$\",\" \",text)\n",
        "      text=re.sub(r\"[!@$,%^&*\\\"><]*\",\"\",text)\n",
        "      text=re.sub(r\"\\.\",\" \",text)\n",
        "      \n",
        "      #To remove duplicate spaces\n",
        "      text=re.sub(r\"\\s+\",\" \",text)\n",
        "      \n",
        "      #To remove digits \n",
        "      text=re.sub(r\"\\d\",\" \",text)\n",
        "      \n",
        "      #To remove non-word characters\n",
        "      text=re.sub(r\"\\W\",\" \",text)\n",
        "      \n",
        "      modified_tweets.append(text)\n",
        "  return modified_tweets"
      ]
    },
    {
      "cell_type": "code",
      "execution_count": 38,
      "metadata": {
        "colab": {
          "base_uri": "https://localhost:8080/"
        },
        "id": "UitFLOWxuaXM",
        "outputId": "ec8ef405-e867-4ff9-82a4-319397fdf9a5"
      },
      "outputs": [
        {
          "output_type": "stream",
          "name": "stdout",
          "text": [
            "0    #DhoniKeepsTheGlove | WATCH: Sports Minister K...\n",
            "Name: text, dtype: object\n",
            "0     DhoniKeepsTheGlove   WATCH  Sports Minister K...\n",
            "Name: text, dtype: object\n",
            "0    West Bengal Doctor Crisis: Protesting doctors ...\n",
            "Name: text, dtype: object\n",
            "0    West Bengal Doctor Crisis  Protesting doctors ...\n",
            "Name: text, dtype: object\n"
          ]
        }
      ],
      "source": [
        "print(english_df_2019.head(1)['text'])\n",
        "english_df_2019['text'] = modify_tweets(english_df_2019['text'])\n",
        "print(english_df_2019.head(1)['text'])\n",
        "\n",
        "print(english_df_2019t.head(1)['text'])\n",
        "english_df_2019t['text'] = modify_tweets(english_df_2019t['text'])\n",
        "print(english_df_2019t.head(1)['text'])\n",
        "\n",
        "# print(english_df_2020.head(1)['text'])\n",
        "# english_df_2020['text'] = modify_tweets(english_df_2020['text'])\n",
        "# print(english_df_2020.head(1)['text'])\n",
        "\n",
        "# print(english_df_2020t.head(1)['text'])\n",
        "# english_df_2020t['text'] = modify_tweets(english_df_2020t['text'])\n",
        "# print(english_df_2020t.head(1)['text'])"
      ]
    },
    {
      "cell_type": "code",
      "execution_count": 39,
      "metadata": {
        "colab": {
          "base_uri": "https://localhost:8080/"
        },
        "id": "auKn-9nVvt1j",
        "outputId": "db5f0222-e125-4ab0-8fd1-15db0699ef59"
      },
      "outputs": [
        {
          "output_type": "stream",
          "name": "stdout",
          "text": [
            "0    Frank Rennicke – Ich bin stolz https://t.co/Cm...\n",
            "Name: text, dtype: object\n",
            "0    Frank Rennicke   Ich bin stolz \n",
            "Name: text, dtype: object\n",
            "0    @derCarsti Boykottieren hört sich besser an. 💙💙\n",
            "Name: text, dtype: object\n",
            "0    Boykottieren hört sich besser an   \n",
            "Name: text, dtype: object\n"
          ]
        }
      ],
      "source": [
        "print(german_df_2019.head(1)['text'])\n",
        "german_df_2019['text'] = modify_tweets(german_df_2019['text'])\n",
        "print(german_df_2019.head(1)['text'])\n",
        "\n",
        "print(german_df_2019t.head(1)['text'])\n",
        "german_df_2019t['text'] = modify_tweets(german_df_2019t['text'])\n",
        "print(german_df_2019t.head(1)['text'])\n",
        "\n",
        "# print(german_df_2020.head(1)['text'])\n",
        "# german_df_2020['text'] = modify_tweets(german_df_2020['text'])\n",
        "# print(german_df_2020.head(1)['text'])\n",
        "\n",
        "# print(german_df_2020t.head(1)['text'])\n",
        "# german_df_2020t['text'] = modify_tweets(german_df_2020t['text'])\n",
        "# print(german_df_2020t.head(1)['text'])"
      ]
    },
    {
      "cell_type": "code",
      "execution_count": 40,
      "metadata": {
        "colab": {
          "base_uri": "https://localhost:8080/"
        },
        "id": "yRMIKlWG3pqK",
        "outputId": "30eb2fd6-0cda-4b61-9ecc-a22f81deddaa"
      },
      "outputs": [
        {
          "output_type": "stream",
          "name": "stdout",
          "text": [
            "0    Easyjet quiere duplicar el número de mujeres p...\n",
            "Name: text, dtype: object\n",
            "0    Easyjet quiere duplicar el número de mujeres p...\n",
            "Name: text, dtype: object\n",
            "0    Me estoy comiendo la picada árabe más rica de ...\n",
            "Name: text, dtype: object\n",
            "0    Me estoy comiendo la picada árabe más rica de ...\n",
            "Name: text, dtype: object\n"
          ]
        }
      ],
      "source": [
        "print(spanish_df_2019.head(1)['text'])\n",
        "spanish_df_2019['text'] = modify_tweets(spanish_df_2019['text'])\n",
        "print(spanish_df_2019.head(1)['text'])\n",
        "\n",
        "print(spanish_df_2019t.head(1)['text'])\n",
        "spanish_df_2019t['text'] = modify_tweets(spanish_df_2019t['text'])\n",
        "print(spanish_df_2019t.head(1)['text'])"
      ]
    },
    {
      "cell_type": "code",
      "execution_count": 41,
      "metadata": {
        "colab": {
          "base_uri": "https://localhost:8080/"
        },
        "id": "OL58CKBqxNpL",
        "outputId": "f3f48fd7-4351-4bd8-8934-accaf7fc4c78"
      },
      "outputs": [
        {
          "output_type": "stream",
          "name": "stdout",
          "text": [
            "0    बांग्लादेश की शानदार वापसी, भारत को 314 रन पर ...\n",
            "Name: text, dtype: object\n",
            "बांग्लादेश की शानदार वापसी, भारत को     रन पर रोका  INDvBAN  CWC  \n",
            "0    बांग्लादेश की शानदार वापसी, भारत को     रन पर ...\n",
            "Name: text, dtype: object\n",
            "0    @Kinjal_Dubey_ इसके लिए तैयारी हो रखी है\\nआपको...\n",
            "Name: text, dtype: object\n",
            "0    इसके लिए तैयारी हो रखी है आपको जान देने की जरू...\n",
            "Name: text, dtype: object\n"
          ]
        }
      ],
      "source": [
        "def modify_hindi_tweets(data):\n",
        "  # print(data.columns)\n",
        "  modified_tweets = []\n",
        "  for text in data:\n",
        "\n",
        "      #To remove @AnyName from the tweets\n",
        "      text=re.sub(r\"@[a-zA-z0-9]*\\s+\",\"\",text) \n",
        "      text=re.sub(r\"@[a-zA-z0-9]*:\",\"\",text)\n",
        "      text=re.sub(r\"@[a-zA-z0-9]*\",\"\",text)  \n",
        "      text=re.sub(r\"@[a-zA-z0-9]*$\",\"\",text)\n",
        "      \n",
        "      #To remove links\n",
        "      text=re.sub(r\"^https://t.co/[a-zA-Z0-9]*\\s+\",\" \",text)    \n",
        "      text=re.sub(r\"\\s+https://t.co/[a-zA-Z0-9]*\\s+\",\" \",text)  \n",
        "      text=re.sub(r\"\\s+https://t.co/[a-zA-Z0-9]*$\",\" \",text) \n",
        "\n",
        "      #To remove duplicate spaces\n",
        "      text=re.sub(r\"\\s+\",\" \",text)\n",
        "      \n",
        "      #To remove digits \n",
        "      text=re.sub(r\"\\d\",\" \",text)\n",
        "      \n",
        "      #To remove non-word characters\n",
        "      text=re.sub(r\"\\#\",\" \",text)\n",
        "    \n",
        "      modified_tweets.append(text)\n",
        "  return modified_tweets\n",
        "\n",
        "print(hindi_df_2019.head(1)['text'])\n",
        "l = modify_hindi_tweets(hindi_df_2019['text'])\n",
        "print(l[0])\n",
        "hindi_df_2019['text'] = l\n",
        "print(hindi_df_2019.head(1)['text'])\n",
        "\n",
        "print(hindi_df_2019t.head(1)['text'])\n",
        "hindi_df_2019t['text'] = modify_hindi_tweets(hindi_df_2019t['text'])\n",
        "print(hindi_df_2019t.head(1)['text'])\n",
        "\n",
        "# print(hindi_df_2020.head(1)['text'])\n",
        "# hindi_df_2020['text'] = modify_hindi_tweets(hindi_df_2020['text'])\n",
        "# print(hindi_df_2020.head(1)['text'])\n",
        "\n",
        "# print(hindi_df_2020t.head(1)['text'])\n",
        "# hindi_df_2020t['text'] = modify_hindi_tweets(hindi_df_2020t['text'])\n",
        "# print(hindi_df_2020t.head(1)['text'])"
      ]
    },
    {
      "cell_type": "markdown",
      "metadata": {
        "id": "MRhzfl7iQCKE"
      },
      "source": [
        "### Utility functions\n",
        "\n",
        "\n",
        "\n",
        "1. encoder_generator(documents)\n",
        "2. predictions_labels(preds,labels)\n",
        "3. categorical_accuracy(preds, y)\n",
        "4. predictions_labels(preds,labels)\n",
        "5. train(model, train_data_loader)\n",
        "6. evaluate(model, valid_data_loader)\n",
        "7. evaluate_test(model, test_data_loader)\n",
        "8. epoch_time(start_time, end_time)\n",
        "9. plot_vc(acc_train, acc_val)\n",
        "10. plot_loss(loss_train, loss_val)\n",
        "\n"
      ]
    },
    {
      "cell_type": "code",
      "execution_count": 42,
      "metadata": {
        "id": "gt6SLGSSQEQO"
      },
      "outputs": [],
      "source": [
        "def encoder_generator(tokenizer, documents):\n",
        "    \n",
        "    doc_index = []\n",
        "    input_ids = []\n",
        "    attention_masks =[]\n",
        "\n",
        "    for index,doc in enumerate(documents):\n",
        "        \n",
        "        doc_index.append(index)\n",
        "        \n",
        "        encoded_dict = tokenizer.encode_plus(doc,\n",
        "                                             add_special_tokens=True,\n",
        "                                             max_length=128,\n",
        "                                             pad_to_max_length=True,\n",
        "                                             truncation = True,\n",
        "                                             return_attention_mask=True,\n",
        "                                             return_tensors='pt')\n",
        "        input_ids.append(encoded_dict['input_ids'])\n",
        "\n",
        "        attention_masks.append(encoded_dict['attention_mask'])\n",
        "\n",
        "    input_ids = torch.cat(input_ids,dim=0)\n",
        "    attention_masks = torch.cat(attention_masks,dim=0)\n",
        "    sent_index = torch.tensor(doc_index)\n",
        "\n",
        "    return sent_index,input_ids,attention_masks\n"
      ]
    },
    {
      "cell_type": "code",
      "execution_count": 43,
      "metadata": {
        "id": "e4tFY_UpQ_8F"
      },
      "outputs": [],
      "source": [
        "def predictions_labels(preds,labels):\n",
        "    pred = np.argmax(preds,axis=1).flatten()\n",
        "    label = labels.flatten()\n",
        "    return pred,label\n",
        "\n",
        "def categorical_accuracy(preds, y):\n",
        "    \"\"\"\n",
        "    Returns accuracy per batch, i.e. if you get 8/10 right, this returns 0.8, NOT 8\n",
        "    \"\"\"\n",
        "    max_preds = preds.argmax(dim = 1, keepdim = True) # get the index of the max probability\n",
        "    correct = max_preds.squeeze(1).eq(y)\n",
        "    return correct.sum() / torch.FloatTensor([y.shape[0]]).cuda()\n",
        "\n",
        "def predictions_labels(preds,labels):\n",
        "    pred = np.argmax(preds,axis=1).flatten()\n",
        "    label = labels.flatten()\n",
        "    return pred,label"
      ]
    },
    {
      "cell_type": "code",
      "execution_count": 44,
      "metadata": {
        "id": "ruQaR9DHRDtw"
      },
      "outputs": [],
      "source": [
        "def train(model, train_data_loader, optimizer):\n",
        "    total_train_loss = 0\n",
        "    total_train_acc = 0\n",
        "    \n",
        "    model.train() # set model in train mode for batchnorm and dropout layers in bert model\n",
        "    \n",
        "    for step,batch in enumerate(train_data_loader):\n",
        "        b_input_ids = batch[0].to(device)\n",
        "        b_input_mask = batch[1].to(device)\n",
        "        b_labels = batch[2].to(device)\n",
        "        model.zero_grad()\n",
        "            \n",
        "        output = model(b_input_ids,\n",
        "                            attention_mask=b_input_mask,\n",
        "                            labels=b_labels.long())\n",
        "        loss = output.loss\n",
        "        logits = output.logits\n",
        "\n",
        "        total_train_loss+=loss.item()\n",
        "        total_train_acc+=categorical_accuracy(logits,b_labels).item()\n",
        "            \n",
        "        loss.backward()\n",
        "            \n",
        "        torch.nn.utils.clip_grad_norm_(model.parameters(),1.0)\n",
        "            \n",
        "        optimizer.step()\n",
        "            \n",
        "        scheduler.step() #go ahead and update the learning rate\n",
        "            \n",
        "    avg_train_loss = total_train_loss/len(train_data_loader)\n",
        "    avg_train_acc = total_train_acc/len(train_data_loader)\n",
        "    \n",
        "    return avg_train_loss,avg_train_acc"
      ]
    },
    {
      "cell_type": "code",
      "execution_count": 45,
      "metadata": {
        "id": "gQwnub2hREND"
      },
      "outputs": [],
      "source": [
        "def evaluate(model, valid_data_loader):\n",
        "    model.eval()\n",
        "        \n",
        "    total_eval_accuracy = 0\n",
        "    total_eval_loss = 0\n",
        "    number_of_eval_steps= 0\n",
        "    \n",
        "    all_true_labels = []\n",
        "    all_pred_labels = []\n",
        "\n",
        "    for batch in valid_data_loader:\n",
        "        b_input_ids = batch[0].to(device)\n",
        "        b_input_mask = batch[1].to(device)\n",
        "        b_labels = batch[2].to(device)\n",
        "\n",
        "        with torch.no_grad():\n",
        "\n",
        "            output = model(b_input_ids,\n",
        "                                attention_mask= b_input_mask,\n",
        "                                labels = b_labels.long())\n",
        "        loss = output.loss\n",
        "        logits = output.logits\n",
        "\n",
        "        total_eval_loss+=loss.item()\n",
        "\n",
        "        logits = logits.detach().cpu().numpy()\n",
        "\n",
        "        label_ids = b_labels.to('cpu').numpy()\n",
        "\n",
        "        pred,true = predictions_labels(logits,label_ids)\n",
        "        \n",
        "        all_pred_labels.extend(pred)\n",
        "        all_true_labels.extend(true)\n",
        "\n",
        "    print(classification_report(all_pred_labels,all_true_labels))\n",
        "    avg_val_accuracy = accuracy_score(all_pred_labels,all_true_labels)\n",
        "    macro_f1_score = f1_score(all_pred_labels,all_true_labels,average='macro')\n",
        "    \n",
        "    avg_val_loss = total_eval_loss/len(valid_data_loader)\n",
        "\n",
        "    print(\"accuracy = {0:.2f}\".format(avg_val_accuracy))\n",
        "    \n",
        "    return avg_val_loss,avg_val_accuracy,macro_f1_score"
      ]
    },
    {
      "cell_type": "code",
      "execution_count": 46,
      "metadata": {
        "id": "SjkA0uTZRqQb"
      },
      "outputs": [],
      "source": [
        "def evaluate_test(model, test_data_loader):\n",
        "    model.eval()\n",
        "        \n",
        "    total_eval_accuracy = 0\n",
        "    total_eval_loss = 0\n",
        "    number_of_eval_steps= 0\n",
        "    \n",
        "    all_true_labels = []\n",
        "    all_pred_labels = []\n",
        "    \n",
        "    all_sentence_id=[]\n",
        "\n",
        "    for batch in test_data_loader:\n",
        "        b_sentence_id = batch[0].to(device)\n",
        "        b_input_ids = batch[1].to(device)\n",
        "        b_input_mask = batch[2].to(device)\n",
        "        b_labels = batch[3].to(device)\n",
        "\n",
        "        sent_ids = b_sentence_id.to('cpu').numpy()\n",
        "        all_sentence_id.extend(sent_ids)\n",
        "        \n",
        "        with torch.no_grad():\n",
        "\n",
        "            output = model(b_input_ids,\n",
        "                                attention_mask= b_input_mask,\n",
        "                                labels = b_labels.long())\n",
        "            \n",
        "        loss = output.loss\n",
        "        logits = output.logits\n",
        "        \n",
        "        total_eval_loss+=loss.item()\n",
        "\n",
        "        logits = logits.detach().cpu().numpy()\n",
        "\n",
        "        label_ids = b_labels.to('cpu').numpy()\n",
        "        \n",
        "\n",
        "        pred,true = predictions_labels(logits,label_ids)\n",
        "        \n",
        "        all_pred_labels.extend(pred)\n",
        "        \n",
        "        all_true_labels.extend(true)\n",
        "\n",
        "    print(classification_report(all_pred_labels,all_true_labels))\n",
        "    avg_val_accuracy = accuracy_score(all_pred_labels,all_true_labels)\n",
        "    \n",
        "    avg_val_loss = total_eval_loss/len(test_data_loader)\n",
        "\n",
        "    print(\"accuracy = {0:.2f}\".format(avg_val_accuracy))\n",
        "    \n",
        "    return avg_val_loss,avg_val_accuracy,all_sentence_id,all_pred_labels\n"
      ]
    },
    {
      "cell_type": "code",
      "execution_count": 47,
      "metadata": {
        "id": "lVKoIdY8RM5_"
      },
      "outputs": [],
      "source": [
        "def epoch_time(start_time, end_time):\n",
        "    elapsed_time = end_time - start_time\n",
        "    elapsed_mins = int(elapsed_time / 60)\n",
        "    elapsed_secs = int(elapsed_time - (elapsed_mins * 60))\n",
        "    return elapsed_mins, elapsed_secs\n"
      ]
    },
    {
      "cell_type": "code",
      "execution_count": 48,
      "metadata": {
        "id": "L4QH-fFvRXsO"
      },
      "outputs": [],
      "source": [
        "def plot_vc(acc_train, acc_val):\n",
        "  e = range(epochs)\n",
        "  plt.plot(e, acc_train, 'g', label='Training Accuracy')\n",
        "  plt.plot(e, acc_val, 'b', label='Validation Accuracy')\n",
        "  plt.title('Training and Validation Accuracy')\n",
        "  plt.xlabel('Epochs')\n",
        "  plt.ylabel('Accuracy')\n",
        "  plt.legend()\n",
        "  plt.show()"
      ]
    },
    {
      "cell_type": "code",
      "execution_count": 49,
      "metadata": {
        "id": "pf7kcXnXYwUC"
      },
      "outputs": [],
      "source": [
        "def plot_lc(loss_train, loss_val):\n",
        "  e = range(epochs)\n",
        "  plt.plot(e, loss_train, 'g', label='Training Loss')\n",
        "  plt.plot(e, loss_val, 'b', label='Validation Loss')\n",
        "  plt.title('Training and Validation Loss')\n",
        "  plt.xlabel('Epochs')\n",
        "  plt.ylabel('Loss')\n",
        "  plt.legend()\n",
        "  plt.show()"
      ]
    },
    {
      "cell_type": "markdown",
      "source": [
        "## Train English"
      ],
      "metadata": {
        "id": "OtVjzg2eS7Pv"
      }
    },
    {
      "cell_type": "markdown",
      "metadata": {
        "id": "kJsOtGiO6u_S"
      },
      "source": [
        "### BERT BASED MODEL - TRAINED FOR ENGLISH "
      ]
    },
    {
      "cell_type": "code",
      "execution_count": 50,
      "metadata": {
        "id": "E_3cDsBvK_HH"
      },
      "outputs": [],
      "source": [
        "train_data = english_df_2019.copy()\n",
        "test_data = english_df_2019t.copy()\n",
        "labels = {'HOF': 0, 'NOT': 1}"
      ]
    },
    {
      "cell_type": "code",
      "execution_count": 51,
      "metadata": {
        "id": "dwVob3XRW3yV"
      },
      "outputs": [],
      "source": [
        "train_data['task_1'] = train_data['task_1'].apply(lambda x: labels[x])\n",
        "test_data['task_1'] = test_data['task_1'].apply(lambda x: labels[x])"
      ]
    },
    {
      "cell_type": "code",
      "execution_count": 52,
      "metadata": {
        "colab": {
          "base_uri": "https://localhost:8080/",
          "height": 512,
          "referenced_widgets": [
            "5a16d43f1bb145cf809c352a13feb47e",
            "8f0a0084b80241cdb79572c594d8a2e5",
            "963fad0bd5d5405b9070f1beafb0e4be",
            "5c2ab90cf54b423e8b5741f23e8dfef3",
            "c629e24cd3b14fd5b1f2806715bd5d03",
            "a6aa5fb618cf4ac6a8f69aafe2c6415f",
            "5739f6ce39d545bfafa3edb43c9586ba",
            "0d8472c216eb40efbec941e2b1f09c6e",
            "5a547fa6b4184b67a51ba2ee6bbdd8a5",
            "ffe532a687524ea78ad243cde04adb18",
            "3914a2896aeb43ab89f7a3074cf8d908",
            "ba5824c7c41e4bc4845b172cb90f8119",
            "63e44e88faa54572b2575c786a4c1828",
            "8c705de504c74e93adf825a3da151769",
            "8c5f90ff4c07467d97c96664b8e9d20c",
            "59a2cd74f68c484d8aef9e80aa805901",
            "f5fcc007dbd44daa90b4d9ae88ead6bb",
            "a65e7b75bef049ab93709b9c4926e950",
            "77ddfb0e6514424e9822d9fd40336af6",
            "3b2168d955ef4759a97982bdfa625c9a",
            "7dbc529076c64d9b8ed03906016f948f",
            "38cd233bc7944c46a3eefb7792d4263e",
            "da524d32fc924c36910aacd760ff5503",
            "c4c65019b16c4f9d88dbe367eb4e9bec",
            "fc5d371640af4ead9c042d23656d519c",
            "afdd7500178945d4b325793958e45406",
            "db1e53808a584570883bbebc5ce00a97",
            "ceb3bab4b8474e78b716bbe6ef915d9e",
            "e3c648b3f28d4bca98c99644519d6765",
            "2c026ab97dd44de3b05447b2697eb62d",
            "69b5680d30144b80a3552fcbaec59db6",
            "ff8b7599f46c422ea6c3bf8ed84d8501",
            "496b9dbe51f04b0a99b67922cf71befb",
            "3e9dcb7031d04105b33f652e5cd465dc",
            "ca7223c8c3aa4493aeddb5f0fe85ea22",
            "0059dd007abd4b489d2a1726148aaf48",
            "72c5184d31fd49e7860c66576f9f010a",
            "f02c88965f90401593168db3099ca6e9",
            "1eb1869deeff42feac7b1e45e2f8b685",
            "6cd0e74fe21c4ec29912f1aea1b07568",
            "d19d2ec2ecee4c8ca8c66e1b500749dc",
            "87e383a3969f45a3b24fec024c2b5392",
            "c948571a496347ff907976c8f69a226b",
            "4cfcf901df71424594b757fa18bc48f1"
          ]
        },
        "id": "Q9s4lW_c6uML",
        "outputId": "38bf62de-1b10-4a1d-dc77-2190c7b6d055"
      },
      "outputs": [
        {
          "output_type": "display_data",
          "data": {
            "application/vnd.jupyter.widget-view+json": {
              "model_id": "5a16d43f1bb145cf809c352a13feb47e",
              "version_minor": 0,
              "version_major": 2
            },
            "text/plain": [
              "Downloading:   0%|          | 0.00/226k [00:00<?, ?B/s]"
            ]
          },
          "metadata": {}
        },
        {
          "output_type": "display_data",
          "data": {
            "application/vnd.jupyter.widget-view+json": {
              "model_id": "ba5824c7c41e4bc4845b172cb90f8119",
              "version_minor": 0,
              "version_major": 2
            },
            "text/plain": [
              "Downloading:   0%|          | 0.00/28.0 [00:00<?, ?B/s]"
            ]
          },
          "metadata": {}
        },
        {
          "output_type": "display_data",
          "data": {
            "application/vnd.jupyter.widget-view+json": {
              "model_id": "da524d32fc924c36910aacd760ff5503",
              "version_minor": 0,
              "version_major": 2
            },
            "text/plain": [
              "Downloading:   0%|          | 0.00/455k [00:00<?, ?B/s]"
            ]
          },
          "metadata": {}
        },
        {
          "output_type": "display_data",
          "data": {
            "application/vnd.jupyter.widget-view+json": {
              "model_id": "3e9dcb7031d04105b33f652e5cd465dc",
              "version_minor": 0,
              "version_major": 2
            },
            "text/plain": [
              "Downloading:   0%|          | 0.00/570 [00:00<?, ?B/s]"
            ]
          },
          "metadata": {}
        },
        {
          "output_type": "stream",
          "name": "stdout",
          "text": [
            "max token length in train_data is:  85\n"
          ]
        },
        {
          "output_type": "stream",
          "name": "stderr",
          "text": [
            "/usr/local/lib/python3.7/dist-packages/transformers/tokenization_utils_base.py:2227: FutureWarning: The `pad_to_max_length` argument is deprecated and will be removed in a future version, use `padding=True` or `padding='longest'` to pad to the longest sequence in the batch, or use `padding='max_length'` to pad to a max length. In this case, you can give a specific length with `max_length` (e.g. `max_length=45`) or leave max_length to None to pad to the maximal input size of the model (e.g. 512 for Bert).\n",
            "  FutureWarning,\n"
          ]
        },
        {
          "output_type": "stream",
          "name": "stdout",
          "text": [
            "Original:   DhoniKeepsTheGlove   WATCH  Sports Minister Kiren Rijiju issues statement backing MS Dhoni over  Balidaan Badge  tells BCCI to take up the matter with ICC and keep government in the know as nation s pride is involved \n",
            "Token IDs: tensor([  101, 28144, 10698, 20553,  4523, 10760, 23296, 21818,  3422,  2998,\n",
            "         2704, 11382,  7389, 15544,  4478,  9103,  3314,  4861,  5150,  5796,\n",
            "        28144, 10698,  2058, 20222,  2850,  2319, 10780,  4136,  4647,  6895,\n",
            "         2000,  2202,  2039,  1996,  3043,  2007, 16461,  1998,  2562,  2231,\n",
            "         1999,  1996,  2113,  2004,  3842,  1055,  6620,  2003,  2920,   102,\n",
            "            0,     0,     0,     0,     0,     0,     0,     0,     0,     0,\n",
            "            0,     0,     0,     0,     0,     0,     0,     0,     0,     0,\n",
            "            0,     0,     0,     0,     0,     0,     0,     0,     0,     0,\n",
            "            0,     0,     0,     0,     0,     0,     0,     0,     0,     0,\n",
            "            0,     0,     0,     0,     0,     0,     0,     0,     0,     0,\n",
            "            0,     0,     0,     0,     0,     0,     0,     0,     0,     0,\n",
            "            0,     0,     0,     0,     0,     0,     0,     0,     0,     0,\n",
            "            0,     0,     0,     0,     0,     0,     0,     0])\n",
            "train data samples is 4681\n",
            "valid data samples is 1171\n",
            "test data samples is 1153\n"
          ]
        }
      ],
      "source": [
        "tokenizer_eng = BertTokenizer.from_pretrained('bert-base-uncased')\n",
        "\n",
        "max_length = 0\n",
        "for sentence in train_data['text']:\n",
        "    #print(sentence)\n",
        "    length = len(tokenizer_eng.tokenize(sentence))\n",
        "    if length > max_length:\n",
        "        max_length  = length\n",
        "print(\"max token length in train_data is: \",max_length)\n",
        "\n",
        "sent_index,input_ids,attention_masks = encoder_generator(tokenizer_eng, list(train_data['text']))\n",
        "test_sent_index,test_input_ids,test_attention_masks = encoder_generator(tokenizer_eng, list(test_data['text']))\n",
        "print('Original: ', train_data['text'][0])\n",
        "print('Token IDs:', input_ids[0])\n",
        "\n",
        "dataset = TensorDataset(input_ids,attention_masks,torch.tensor(train_data['task_1']))\n",
        "test_dataset = TensorDataset(test_sent_index,test_input_ids,test_attention_masks,torch.tensor(test_data['task_1']))\n",
        "train_size = int(0.8*len(dataset))\n",
        "val_size = len(dataset)-train_size\n",
        "train_dataset,val_dataset = random_split(dataset,[train_size,val_size])\n",
        "print('train data samples is {}'.format(len(train_dataset)))\n",
        "print(\"valid data samples is {}\".format(len(val_dataset)))\n",
        "print(\"test data samples is {}\".format(len(test_dataset)))\n",
        "\n",
        "bs=8\n",
        "\n",
        "train_data_loader_eng = DataLoader(train_dataset,\n",
        "                              sampler=RandomSampler(train_dataset),\n",
        "                              batch_size=bs)\n",
        "valid_data_loader_eng = DataLoader(val_dataset,\n",
        "                              sampler=SequentialSampler(val_dataset),\n",
        "                              batch_size=bs)\n",
        "test_data_loader_eng = DataLoader(test_dataset,\n",
        "                            sampler=SequentialSampler(test_dataset),\n",
        "                            batch_size=bs)"
      ]
    },
    {
      "cell_type": "markdown",
      "metadata": {
        "id": "3Q7jJwmxfUmI"
      },
      "source": [
        "### Train BERT on ENGLISH"
      ]
    },
    {
      "cell_type": "code",
      "execution_count": 53,
      "metadata": {
        "colab": {
          "base_uri": "https://localhost:8080/",
          "height": 1000,
          "referenced_widgets": [
            "7ff46011630c4884a63490f195dd7069",
            "b3c7c2994b344f14a507db5edc4fa22c",
            "8a47e48435204d27a38e5aa633eb7b61",
            "da57c2a317ae41728356fd7c396b63ef",
            "3df57a2b478c4462ba9186b6239dab65",
            "bc744c47f28e40e7adc753dba099eb14",
            "2b69d6bd88f84ca5afea2a1731b9ab5f",
            "76bb5e19326742aaac56ac2d1c9717db",
            "c017ced323f54bd3b9c0f2c9170b80a7",
            "bc8a69217a874200b8656be2c756bc5e",
            "e15c5a590ac84ff7ba9d0a94ff076b76"
          ]
        },
        "id": "-1RWKobQYZhx",
        "outputId": "b9293fc6-5e89-4413-f33b-c0a94fa0e6ae"
      },
      "outputs": [
        {
          "output_type": "display_data",
          "data": {
            "application/vnd.jupyter.widget-view+json": {
              "model_id": "7ff46011630c4884a63490f195dd7069",
              "version_minor": 0,
              "version_major": 2
            },
            "text/plain": [
              "Downloading:   0%|          | 0.00/420M [00:00<?, ?B/s]"
            ]
          },
          "metadata": {}
        },
        {
          "output_type": "stream",
          "name": "stderr",
          "text": [
            "Some weights of the model checkpoint at bert-base-uncased were not used when initializing BertForSequenceClassification: ['cls.seq_relationship.bias', 'cls.predictions.transform.LayerNorm.bias', 'cls.predictions.transform.LayerNorm.weight', 'cls.seq_relationship.weight', 'cls.predictions.bias', 'cls.predictions.transform.dense.bias', 'cls.predictions.transform.dense.weight', 'cls.predictions.decoder.weight']\n",
            "- This IS expected if you are initializing BertForSequenceClassification from the checkpoint of a model trained on another task or with another architecture (e.g. initializing a BertForSequenceClassification model from a BertForPreTraining model).\n",
            "- This IS NOT expected if you are initializing BertForSequenceClassification from the checkpoint of a model that you expect to be exactly identical (initializing a BertForSequenceClassification model from a BertForSequenceClassification model).\n",
            "Some weights of BertForSequenceClassification were not initialized from the model checkpoint at bert-base-uncased and are newly initialized: ['classifier.weight', 'classifier.bias']\n",
            "You should probably TRAIN this model on a down-stream task to be able to use it for predictions and inference.\n"
          ]
        },
        {
          "output_type": "execute_result",
          "data": {
            "text/plain": [
              "BertForSequenceClassification(\n",
              "  (bert): BertModel(\n",
              "    (embeddings): BertEmbeddings(\n",
              "      (word_embeddings): Embedding(30522, 768, padding_idx=0)\n",
              "      (position_embeddings): Embedding(512, 768)\n",
              "      (token_type_embeddings): Embedding(2, 768)\n",
              "      (LayerNorm): LayerNorm((768,), eps=1e-12, elementwise_affine=True)\n",
              "      (dropout): Dropout(p=0.1, inplace=False)\n",
              "    )\n",
              "    (encoder): BertEncoder(\n",
              "      (layer): ModuleList(\n",
              "        (0): BertLayer(\n",
              "          (attention): BertAttention(\n",
              "            (self): BertSelfAttention(\n",
              "              (query): Linear(in_features=768, out_features=768, bias=True)\n",
              "              (key): Linear(in_features=768, out_features=768, bias=True)\n",
              "              (value): Linear(in_features=768, out_features=768, bias=True)\n",
              "              (dropout): Dropout(p=0.1, inplace=False)\n",
              "            )\n",
              "            (output): BertSelfOutput(\n",
              "              (dense): Linear(in_features=768, out_features=768, bias=True)\n",
              "              (LayerNorm): LayerNorm((768,), eps=1e-12, elementwise_affine=True)\n",
              "              (dropout): Dropout(p=0.1, inplace=False)\n",
              "            )\n",
              "          )\n",
              "          (intermediate): BertIntermediate(\n",
              "            (dense): Linear(in_features=768, out_features=3072, bias=True)\n",
              "          )\n",
              "          (output): BertOutput(\n",
              "            (dense): Linear(in_features=3072, out_features=768, bias=True)\n",
              "            (LayerNorm): LayerNorm((768,), eps=1e-12, elementwise_affine=True)\n",
              "            (dropout): Dropout(p=0.1, inplace=False)\n",
              "          )\n",
              "        )\n",
              "        (1): BertLayer(\n",
              "          (attention): BertAttention(\n",
              "            (self): BertSelfAttention(\n",
              "              (query): Linear(in_features=768, out_features=768, bias=True)\n",
              "              (key): Linear(in_features=768, out_features=768, bias=True)\n",
              "              (value): Linear(in_features=768, out_features=768, bias=True)\n",
              "              (dropout): Dropout(p=0.1, inplace=False)\n",
              "            )\n",
              "            (output): BertSelfOutput(\n",
              "              (dense): Linear(in_features=768, out_features=768, bias=True)\n",
              "              (LayerNorm): LayerNorm((768,), eps=1e-12, elementwise_affine=True)\n",
              "              (dropout): Dropout(p=0.1, inplace=False)\n",
              "            )\n",
              "          )\n",
              "          (intermediate): BertIntermediate(\n",
              "            (dense): Linear(in_features=768, out_features=3072, bias=True)\n",
              "          )\n",
              "          (output): BertOutput(\n",
              "            (dense): Linear(in_features=3072, out_features=768, bias=True)\n",
              "            (LayerNorm): LayerNorm((768,), eps=1e-12, elementwise_affine=True)\n",
              "            (dropout): Dropout(p=0.1, inplace=False)\n",
              "          )\n",
              "        )\n",
              "        (2): BertLayer(\n",
              "          (attention): BertAttention(\n",
              "            (self): BertSelfAttention(\n",
              "              (query): Linear(in_features=768, out_features=768, bias=True)\n",
              "              (key): Linear(in_features=768, out_features=768, bias=True)\n",
              "              (value): Linear(in_features=768, out_features=768, bias=True)\n",
              "              (dropout): Dropout(p=0.1, inplace=False)\n",
              "            )\n",
              "            (output): BertSelfOutput(\n",
              "              (dense): Linear(in_features=768, out_features=768, bias=True)\n",
              "              (LayerNorm): LayerNorm((768,), eps=1e-12, elementwise_affine=True)\n",
              "              (dropout): Dropout(p=0.1, inplace=False)\n",
              "            )\n",
              "          )\n",
              "          (intermediate): BertIntermediate(\n",
              "            (dense): Linear(in_features=768, out_features=3072, bias=True)\n",
              "          )\n",
              "          (output): BertOutput(\n",
              "            (dense): Linear(in_features=3072, out_features=768, bias=True)\n",
              "            (LayerNorm): LayerNorm((768,), eps=1e-12, elementwise_affine=True)\n",
              "            (dropout): Dropout(p=0.1, inplace=False)\n",
              "          )\n",
              "        )\n",
              "        (3): BertLayer(\n",
              "          (attention): BertAttention(\n",
              "            (self): BertSelfAttention(\n",
              "              (query): Linear(in_features=768, out_features=768, bias=True)\n",
              "              (key): Linear(in_features=768, out_features=768, bias=True)\n",
              "              (value): Linear(in_features=768, out_features=768, bias=True)\n",
              "              (dropout): Dropout(p=0.1, inplace=False)\n",
              "            )\n",
              "            (output): BertSelfOutput(\n",
              "              (dense): Linear(in_features=768, out_features=768, bias=True)\n",
              "              (LayerNorm): LayerNorm((768,), eps=1e-12, elementwise_affine=True)\n",
              "              (dropout): Dropout(p=0.1, inplace=False)\n",
              "            )\n",
              "          )\n",
              "          (intermediate): BertIntermediate(\n",
              "            (dense): Linear(in_features=768, out_features=3072, bias=True)\n",
              "          )\n",
              "          (output): BertOutput(\n",
              "            (dense): Linear(in_features=3072, out_features=768, bias=True)\n",
              "            (LayerNorm): LayerNorm((768,), eps=1e-12, elementwise_affine=True)\n",
              "            (dropout): Dropout(p=0.1, inplace=False)\n",
              "          )\n",
              "        )\n",
              "        (4): BertLayer(\n",
              "          (attention): BertAttention(\n",
              "            (self): BertSelfAttention(\n",
              "              (query): Linear(in_features=768, out_features=768, bias=True)\n",
              "              (key): Linear(in_features=768, out_features=768, bias=True)\n",
              "              (value): Linear(in_features=768, out_features=768, bias=True)\n",
              "              (dropout): Dropout(p=0.1, inplace=False)\n",
              "            )\n",
              "            (output): BertSelfOutput(\n",
              "              (dense): Linear(in_features=768, out_features=768, bias=True)\n",
              "              (LayerNorm): LayerNorm((768,), eps=1e-12, elementwise_affine=True)\n",
              "              (dropout): Dropout(p=0.1, inplace=False)\n",
              "            )\n",
              "          )\n",
              "          (intermediate): BertIntermediate(\n",
              "            (dense): Linear(in_features=768, out_features=3072, bias=True)\n",
              "          )\n",
              "          (output): BertOutput(\n",
              "            (dense): Linear(in_features=3072, out_features=768, bias=True)\n",
              "            (LayerNorm): LayerNorm((768,), eps=1e-12, elementwise_affine=True)\n",
              "            (dropout): Dropout(p=0.1, inplace=False)\n",
              "          )\n",
              "        )\n",
              "        (5): BertLayer(\n",
              "          (attention): BertAttention(\n",
              "            (self): BertSelfAttention(\n",
              "              (query): Linear(in_features=768, out_features=768, bias=True)\n",
              "              (key): Linear(in_features=768, out_features=768, bias=True)\n",
              "              (value): Linear(in_features=768, out_features=768, bias=True)\n",
              "              (dropout): Dropout(p=0.1, inplace=False)\n",
              "            )\n",
              "            (output): BertSelfOutput(\n",
              "              (dense): Linear(in_features=768, out_features=768, bias=True)\n",
              "              (LayerNorm): LayerNorm((768,), eps=1e-12, elementwise_affine=True)\n",
              "              (dropout): Dropout(p=0.1, inplace=False)\n",
              "            )\n",
              "          )\n",
              "          (intermediate): BertIntermediate(\n",
              "            (dense): Linear(in_features=768, out_features=3072, bias=True)\n",
              "          )\n",
              "          (output): BertOutput(\n",
              "            (dense): Linear(in_features=3072, out_features=768, bias=True)\n",
              "            (LayerNorm): LayerNorm((768,), eps=1e-12, elementwise_affine=True)\n",
              "            (dropout): Dropout(p=0.1, inplace=False)\n",
              "          )\n",
              "        )\n",
              "        (6): BertLayer(\n",
              "          (attention): BertAttention(\n",
              "            (self): BertSelfAttention(\n",
              "              (query): Linear(in_features=768, out_features=768, bias=True)\n",
              "              (key): Linear(in_features=768, out_features=768, bias=True)\n",
              "              (value): Linear(in_features=768, out_features=768, bias=True)\n",
              "              (dropout): Dropout(p=0.1, inplace=False)\n",
              "            )\n",
              "            (output): BertSelfOutput(\n",
              "              (dense): Linear(in_features=768, out_features=768, bias=True)\n",
              "              (LayerNorm): LayerNorm((768,), eps=1e-12, elementwise_affine=True)\n",
              "              (dropout): Dropout(p=0.1, inplace=False)\n",
              "            )\n",
              "          )\n",
              "          (intermediate): BertIntermediate(\n",
              "            (dense): Linear(in_features=768, out_features=3072, bias=True)\n",
              "          )\n",
              "          (output): BertOutput(\n",
              "            (dense): Linear(in_features=3072, out_features=768, bias=True)\n",
              "            (LayerNorm): LayerNorm((768,), eps=1e-12, elementwise_affine=True)\n",
              "            (dropout): Dropout(p=0.1, inplace=False)\n",
              "          )\n",
              "        )\n",
              "        (7): BertLayer(\n",
              "          (attention): BertAttention(\n",
              "            (self): BertSelfAttention(\n",
              "              (query): Linear(in_features=768, out_features=768, bias=True)\n",
              "              (key): Linear(in_features=768, out_features=768, bias=True)\n",
              "              (value): Linear(in_features=768, out_features=768, bias=True)\n",
              "              (dropout): Dropout(p=0.1, inplace=False)\n",
              "            )\n",
              "            (output): BertSelfOutput(\n",
              "              (dense): Linear(in_features=768, out_features=768, bias=True)\n",
              "              (LayerNorm): LayerNorm((768,), eps=1e-12, elementwise_affine=True)\n",
              "              (dropout): Dropout(p=0.1, inplace=False)\n",
              "            )\n",
              "          )\n",
              "          (intermediate): BertIntermediate(\n",
              "            (dense): Linear(in_features=768, out_features=3072, bias=True)\n",
              "          )\n",
              "          (output): BertOutput(\n",
              "            (dense): Linear(in_features=3072, out_features=768, bias=True)\n",
              "            (LayerNorm): LayerNorm((768,), eps=1e-12, elementwise_affine=True)\n",
              "            (dropout): Dropout(p=0.1, inplace=False)\n",
              "          )\n",
              "        )\n",
              "        (8): BertLayer(\n",
              "          (attention): BertAttention(\n",
              "            (self): BertSelfAttention(\n",
              "              (query): Linear(in_features=768, out_features=768, bias=True)\n",
              "              (key): Linear(in_features=768, out_features=768, bias=True)\n",
              "              (value): Linear(in_features=768, out_features=768, bias=True)\n",
              "              (dropout): Dropout(p=0.1, inplace=False)\n",
              "            )\n",
              "            (output): BertSelfOutput(\n",
              "              (dense): Linear(in_features=768, out_features=768, bias=True)\n",
              "              (LayerNorm): LayerNorm((768,), eps=1e-12, elementwise_affine=True)\n",
              "              (dropout): Dropout(p=0.1, inplace=False)\n",
              "            )\n",
              "          )\n",
              "          (intermediate): BertIntermediate(\n",
              "            (dense): Linear(in_features=768, out_features=3072, bias=True)\n",
              "          )\n",
              "          (output): BertOutput(\n",
              "            (dense): Linear(in_features=3072, out_features=768, bias=True)\n",
              "            (LayerNorm): LayerNorm((768,), eps=1e-12, elementwise_affine=True)\n",
              "            (dropout): Dropout(p=0.1, inplace=False)\n",
              "          )\n",
              "        )\n",
              "        (9): BertLayer(\n",
              "          (attention): BertAttention(\n",
              "            (self): BertSelfAttention(\n",
              "              (query): Linear(in_features=768, out_features=768, bias=True)\n",
              "              (key): Linear(in_features=768, out_features=768, bias=True)\n",
              "              (value): Linear(in_features=768, out_features=768, bias=True)\n",
              "              (dropout): Dropout(p=0.1, inplace=False)\n",
              "            )\n",
              "            (output): BertSelfOutput(\n",
              "              (dense): Linear(in_features=768, out_features=768, bias=True)\n",
              "              (LayerNorm): LayerNorm((768,), eps=1e-12, elementwise_affine=True)\n",
              "              (dropout): Dropout(p=0.1, inplace=False)\n",
              "            )\n",
              "          )\n",
              "          (intermediate): BertIntermediate(\n",
              "            (dense): Linear(in_features=768, out_features=3072, bias=True)\n",
              "          )\n",
              "          (output): BertOutput(\n",
              "            (dense): Linear(in_features=3072, out_features=768, bias=True)\n",
              "            (LayerNorm): LayerNorm((768,), eps=1e-12, elementwise_affine=True)\n",
              "            (dropout): Dropout(p=0.1, inplace=False)\n",
              "          )\n",
              "        )\n",
              "        (10): BertLayer(\n",
              "          (attention): BertAttention(\n",
              "            (self): BertSelfAttention(\n",
              "              (query): Linear(in_features=768, out_features=768, bias=True)\n",
              "              (key): Linear(in_features=768, out_features=768, bias=True)\n",
              "              (value): Linear(in_features=768, out_features=768, bias=True)\n",
              "              (dropout): Dropout(p=0.1, inplace=False)\n",
              "            )\n",
              "            (output): BertSelfOutput(\n",
              "              (dense): Linear(in_features=768, out_features=768, bias=True)\n",
              "              (LayerNorm): LayerNorm((768,), eps=1e-12, elementwise_affine=True)\n",
              "              (dropout): Dropout(p=0.1, inplace=False)\n",
              "            )\n",
              "          )\n",
              "          (intermediate): BertIntermediate(\n",
              "            (dense): Linear(in_features=768, out_features=3072, bias=True)\n",
              "          )\n",
              "          (output): BertOutput(\n",
              "            (dense): Linear(in_features=3072, out_features=768, bias=True)\n",
              "            (LayerNorm): LayerNorm((768,), eps=1e-12, elementwise_affine=True)\n",
              "            (dropout): Dropout(p=0.1, inplace=False)\n",
              "          )\n",
              "        )\n",
              "        (11): BertLayer(\n",
              "          (attention): BertAttention(\n",
              "            (self): BertSelfAttention(\n",
              "              (query): Linear(in_features=768, out_features=768, bias=True)\n",
              "              (key): Linear(in_features=768, out_features=768, bias=True)\n",
              "              (value): Linear(in_features=768, out_features=768, bias=True)\n",
              "              (dropout): Dropout(p=0.1, inplace=False)\n",
              "            )\n",
              "            (output): BertSelfOutput(\n",
              "              (dense): Linear(in_features=768, out_features=768, bias=True)\n",
              "              (LayerNorm): LayerNorm((768,), eps=1e-12, elementwise_affine=True)\n",
              "              (dropout): Dropout(p=0.1, inplace=False)\n",
              "            )\n",
              "          )\n",
              "          (intermediate): BertIntermediate(\n",
              "            (dense): Linear(in_features=768, out_features=3072, bias=True)\n",
              "          )\n",
              "          (output): BertOutput(\n",
              "            (dense): Linear(in_features=3072, out_features=768, bias=True)\n",
              "            (LayerNorm): LayerNorm((768,), eps=1e-12, elementwise_affine=True)\n",
              "            (dropout): Dropout(p=0.1, inplace=False)\n",
              "          )\n",
              "        )\n",
              "      )\n",
              "    )\n",
              "    (pooler): BertPooler(\n",
              "      (dense): Linear(in_features=768, out_features=768, bias=True)\n",
              "      (activation): Tanh()\n",
              "    )\n",
              "  )\n",
              "  (dropout): Dropout(p=0.1, inplace=False)\n",
              "  (classifier): Linear(in_features=768, out_features=2, bias=True)\n",
              ")"
            ]
          },
          "metadata": {},
          "execution_count": 53
        }
      ],
      "source": [
        "model = BertForSequenceClassification.from_pretrained('bert-base-uncased',\n",
        "                                                     num_labels=2,\n",
        "                                                     output_attentions=False,\n",
        "                                                     output_hidden_states=False,\n",
        "                                                     )\n",
        "model.cuda()"
      ]
    },
    {
      "cell_type": "code",
      "execution_count": 54,
      "metadata": {
        "colab": {
          "base_uri": "https://localhost:8080/"
        },
        "id": "tMockGVvZ_70",
        "outputId": "94eaec50-3bc1-4215-e8c1-78faf6328ced"
      },
      "outputs": [
        {
          "output_type": "stream",
          "name": "stdout",
          "text": [
            "              precision    recall  f1-score   support\n",
            "\n",
            "           0       0.47      0.61      0.53       359\n",
            "           1       0.80      0.70      0.75       812\n",
            "\n",
            "    accuracy                           0.67      1171\n",
            "   macro avg       0.64      0.65      0.64      1171\n",
            "weighted avg       0.70      0.67      0.68      1171\n",
            "\n",
            "accuracy = 0.67\n",
            "Epoch: 01 | Epoch Time: 1m 18s\n",
            "\tTrain Loss: 0.620 | Train Acc: 66.38%\n",
            "\t Val. Loss: 0.608 |  Val. Acc: 66.95%\n",
            "              precision    recall  f1-score   support\n",
            "\n",
            "           0       0.56      0.61      0.58       424\n",
            "           1       0.77      0.72      0.74       747\n",
            "\n",
            "    accuracy                           0.68      1171\n",
            "   macro avg       0.66      0.67      0.66      1171\n",
            "weighted avg       0.69      0.68      0.69      1171\n",
            "\n",
            "accuracy = 0.68\n",
            "Epoch: 02 | Epoch Time: 1m 18s\n",
            "\tTrain Loss: 0.514 | Train Acc: 75.68%\n",
            "\t Val. Loss: 0.684 |  Val. Acc: 68.23%\n",
            "              precision    recall  f1-score   support\n",
            "\n",
            "           0       0.59      0.57      0.58       484\n",
            "           1       0.70      0.72      0.71       687\n",
            "\n",
            "    accuracy                           0.66      1171\n",
            "   macro avg       0.65      0.65      0.65      1171\n",
            "weighted avg       0.66      0.66      0.66      1171\n",
            "\n",
            "accuracy = 0.66\n",
            "Epoch: 03 | Epoch Time: 1m 18s\n",
            "\tTrain Loss: 0.353 | Train Acc: 86.16%\n",
            "\t Val. Loss: 1.070 |  Val. Acc: 66.01%\n",
            "              precision    recall  f1-score   support\n",
            "\n",
            "           0       0.57      0.56      0.56       473\n",
            "           1       0.70      0.71      0.71       698\n",
            "\n",
            "    accuracy                           0.65      1171\n",
            "   macro avg       0.63      0.63      0.63      1171\n",
            "weighted avg       0.65      0.65      0.65      1171\n",
            "\n",
            "accuracy = 0.65\n",
            "Epoch: 04 | Epoch Time: 1m 18s\n",
            "\tTrain Loss: 0.213 | Train Acc: 94.01%\n",
            "\t Val. Loss: 1.652 |  Val. Acc: 64.90%\n",
            "              precision    recall  f1-score   support\n",
            "\n",
            "           0       0.53      0.56      0.54       437\n",
            "           1       0.73      0.70      0.71       734\n",
            "\n",
            "    accuracy                           0.65      1171\n",
            "   macro avg       0.63      0.63      0.63      1171\n",
            "weighted avg       0.65      0.65      0.65      1171\n",
            "\n",
            "accuracy = 0.65\n",
            "Epoch: 05 | Epoch Time: 1m 18s\n",
            "\tTrain Loss: 0.135 | Train Acc: 96.54%\n",
            "\t Val. Loss: 1.762 |  Val. Acc: 64.90%\n",
            "              precision    recall  f1-score   support\n",
            "\n",
            "           0       0.59      0.55      0.57       498\n",
            "           1       0.68      0.72      0.70       673\n",
            "\n",
            "    accuracy                           0.65      1171\n",
            "   macro avg       0.64      0.64      0.64      1171\n",
            "weighted avg       0.65      0.65      0.65      1171\n",
            "\n",
            "accuracy = 0.65\n",
            "Epoch: 06 | Epoch Time: 1m 18s\n",
            "\tTrain Loss: 0.092 | Train Acc: 97.91%\n",
            "\t Val. Loss: 2.022 |  Val. Acc: 64.82%\n",
            "              precision    recall  f1-score   support\n",
            "\n",
            "           0       0.59      0.55      0.57       496\n",
            "           1       0.68      0.72      0.70       675\n",
            "\n",
            "    accuracy                           0.65      1171\n",
            "   macro avg       0.64      0.63      0.63      1171\n",
            "weighted avg       0.64      0.65      0.64      1171\n",
            "\n",
            "accuracy = 0.65\n",
            "Epoch: 07 | Epoch Time: 1m 18s\n",
            "\tTrain Loss: 0.067 | Train Acc: 98.31%\n",
            "\t Val. Loss: 2.235 |  Val. Acc: 64.65%\n",
            "              precision    recall  f1-score   support\n",
            "\n",
            "           0       0.53      0.56      0.54       435\n",
            "           1       0.73      0.70      0.72       736\n",
            "\n",
            "    accuracy                           0.65      1171\n",
            "   macro avg       0.63      0.63      0.63      1171\n",
            "weighted avg       0.65      0.65      0.65      1171\n",
            "\n",
            "accuracy = 0.65\n",
            "Epoch: 08 | Epoch Time: 1m 18s\n",
            "\tTrain Loss: 0.055 | Train Acc: 98.57%\n",
            "\t Val. Loss: 2.446 |  Val. Acc: 64.90%\n",
            "              precision    recall  f1-score   support\n",
            "\n",
            "           0       0.53      0.55      0.54       449\n",
            "           1       0.71      0.70      0.71       722\n",
            "\n",
            "    accuracy                           0.64      1171\n",
            "   macro avg       0.62      0.62      0.62      1171\n",
            "weighted avg       0.64      0.64      0.64      1171\n",
            "\n",
            "accuracy = 0.64\n",
            "Epoch: 09 | Epoch Time: 1m 18s\n",
            "\tTrain Loss: 0.044 | Train Acc: 98.78%\n",
            "\t Val. Loss: 2.514 |  Val. Acc: 64.22%\n",
            "              precision    recall  f1-score   support\n",
            "\n",
            "           0       0.54      0.55      0.55       452\n",
            "           1       0.71      0.70      0.71       719\n",
            "\n",
            "    accuracy                           0.64      1171\n",
            "   macro avg       0.63      0.63      0.63      1171\n",
            "weighted avg       0.65      0.64      0.65      1171\n",
            "\n",
            "accuracy = 0.64\n",
            "Epoch: 10 | Epoch Time: 1m 18s\n",
            "\tTrain Loss: 0.031 | Train Acc: 98.98%\n",
            "\t Val. Loss: 2.579 |  Val. Acc: 64.47%\n"
          ]
        }
      ],
      "source": [
        "if FREEZE:\n",
        "  del model\n",
        "  import gc\n",
        "  gc.collect()\n",
        "\n",
        "  model = torch.load(\"/content/gdrive/MyDrive/NLP Project/model_pt/model_english_bert-base-uncased.pt\")\n",
        "  model = model.to(device)\n",
        "\n",
        "else:\n",
        "\n",
        "  optimizer = AdamW(model.parameters(),lr=2e-5,eps=1e-8)\n",
        "\n",
        "  epochs=10\n",
        "  total_steps = len(train_data_loader_eng) * epochs\n",
        "\n",
        "  scheduler = get_linear_schedule_with_warmup(optimizer,\n",
        "                                            num_warmup_steps=0,\n",
        "                                            num_training_steps=total_steps)\n",
        "\n",
        "  total_t0 = time.time()\n",
        "\n",
        "  seed_val = 42\n",
        "\n",
        "  random.seed(seed_val)\n",
        "  np.random.seed(seed_val)\n",
        "  torch.manual_seed(seed_val)\n",
        "  torch.cuda.manual_seed_all(seed_val)\n",
        "\n",
        "  epochs = 10\n",
        "\n",
        "  best_macro_f1 = float('0')\n",
        "\n",
        "  train_acc_eng = []\n",
        "  val_acc_eng = []\n",
        "  train_loss_eng = []\n",
        "  val_loss_eng = []\n",
        "\n",
        "  for epoch in range(epochs):\n",
        "      \n",
        "      start_time = time.time()\n",
        "      train_loss,train_acc = train(model, train_data_loader_eng, optimizer)\n",
        "      valid_loss,valid_acc,macro_f1 = evaluate(model, valid_data_loader_eng)\n",
        "      \n",
        "      end_time = time.time()\n",
        "          \n",
        "      epoch_mins, epoch_secs = epoch_time(start_time, end_time)\n",
        "          \n",
        "      if macro_f1 > best_macro_f1:\n",
        "          best_macro_f1 = macro_f1\n",
        "          torch.save(model,'/content/gdrive/MyDrive/NLP Project/model_pt/model_english_bert-base-uncased.pt')\n",
        "      \n",
        "      print(f'Epoch: {epoch+1:02} | Epoch Time: {epoch_mins}m {epoch_secs}s')\n",
        "      print(f'\\tTrain Loss: {train_loss:.3f} | Train Acc: {train_acc*100:.2f}%')\n",
        "      print(f'\\t Val. Loss: {valid_loss:.3f} |  Val. Acc: {valid_acc*100:.2f}%')\n",
        "      train_acc_eng.append(train_acc*100)\n",
        "      val_acc_eng.append(valid_acc*100)\n",
        "      train_loss_eng.append(train_loss*100)\n",
        "      val_loss_eng.append(valid_loss*100)"
      ]
    },
    {
      "cell_type": "code",
      "execution_count": 55,
      "metadata": {
        "colab": {
          "base_uri": "https://localhost:8080/",
          "height": 642
        },
        "id": "pQXPsiuZxqse",
        "outputId": "974dc715-dce3-48f0-c875-3ec77cc90212"
      },
      "outputs": [
        {
          "output_type": "display_data",
          "data": {
            "image/png": "[encoded data removed]",
            "text/plain": [
              "<Figure size 432x288 with 1 Axes>"
            ]
          },
          "metadata": {
            "needs_background": "light"
          }
        },
        {
          "output_type": "stream",
          "name": "stdout",
          "text": [
            "91.13267918088737\n",
            "65.40563620836892\n"
          ]
        },
        {
          "output_type": "display_data",
          "data": {
            "image/png": "[encoded data removed]",
            "text/plain": [
              "<Figure size 432x288 with 1 Axes>"
            ]
          },
          "metadata": {
            "needs_background": "light"
          }
        },
        {
          "output_type": "stream",
          "name": "stdout",
          "text": [
            "21.248263548375615\n",
            "175.72111073684934\n"
          ]
        }
      ],
      "source": [
        "plot_vc(train_acc_eng, val_acc_eng)\n",
        "print(np.mean(train_acc_eng))\n",
        "print(np.mean(val_acc_eng))\n",
        "\n",
        "plot_lc(train_loss_eng, val_loss_eng)\n",
        "print(np.mean(train_loss_eng))\n",
        "print(np.mean(val_loss_eng))"
      ]
    },
    {
      "cell_type": "markdown",
      "metadata": {
        "id": "qsCA9oCY9CpN"
      },
      "source": [
        "### Evaluate English"
      ]
    },
    {
      "cell_type": "code",
      "execution_count": 56,
      "metadata": {
        "colab": {
          "base_uri": "https://localhost:8080/"
        },
        "id": "p6CC2m4HaZ3r",
        "outputId": "7fef09a4-027c-4b2c-d2f6-3b66d7f92d5d"
      },
      "outputs": [
        {
          "output_type": "stream",
          "name": "stdout",
          "text": [
            "              precision    recall  f1-score   support\n",
            "\n",
            "           0       0.64      0.62      0.63       296\n",
            "           1       0.87      0.88      0.88       857\n",
            "\n",
            "    accuracy                           0.81      1153\n",
            "   macro avg       0.76      0.75      0.75      1153\n",
            "weighted avg       0.81      0.81      0.81      1153\n",
            "\n",
            "accuracy = 0.81\n"
          ]
        }
      ],
      "source": [
        "# if model:\n",
        "#   del model\n",
        "import gc\n",
        "gc.collect()\n",
        "\n",
        "model = torch.load(\"/content/gdrive/MyDrive/NLP Project/model_pt/model_english_bert-base-uncased.pt\")\n",
        "model = model.to(device)\n",
        "\n",
        "valid_loss,valid_acc,all_sentence_id,all_pred_labels = evaluate_test(model, test_data_loader_eng)"
      ]
    },
    {
      "cell_type": "markdown",
      "source": [
        "## Train French"
      ],
      "metadata": {
        "id": "uUhPyecjSf4D"
      }
    },
    {
      "cell_type": "markdown",
      "metadata": {
        "id": "IjCXmZ_msEDM"
      },
      "source": [
        "###Load French Data"
      ]
    },
    {
      "cell_type": "code",
      "execution_count": 71,
      "metadata": {
        "colab": {
          "base_uri": "https://localhost:8080/",
          "height": 269,
          "referenced_widgets": [
            "f03b2b4a4b084605bb5c3debd578530a",
            "440b4a8f66f74599a20be1a9580bcae4",
            "5915f23249844ad2ac4850168a19a957",
            "848d2f35181042599edf04caf0ac7795",
            "8164a13a974f4b1495bc577b1f9e1304",
            "99cc582eef0a462f9282b713ba5dcb85",
            "e84de4f5945e408986eea95ac37b68b7",
            "d02170cb4a104ab1a0cb9083d74ed6be",
            "41f6e36539b74995906e1a50b85f679d",
            "faab5f8ecf5f41e7916ad44526e92ee5",
            "062d0ea566ff431e98e9de019232c522",
            "c243d809bbcb4ad1a9119e259ddb2bb8",
            "6e63cafe4c774899b89272fb1a915bf4",
            "12828ed5597f4291938d01f47ba24259",
            "2d8244eb2a9845b7b6e60ee1fd0e0630",
            "6158b769bb6a41d5a90f4896805aa6f5",
            "8ae58472350c4271bff69eb38e8ec251",
            "f369b76549c345d0884a0e51af2ca393",
            "d6b7ed9a7ca94a208b762cc42d1ba639",
            "8a6f11cdc0114509a9d8193fa3e80351",
            "fa635b1e38c94a4082dfb911ae78e68a",
            "772646d1e3e040a790e891ca40908186",
            "023693179aef40eb8f1bc6ddf48b6f09",
            "7e06ff7b0fbb469abbadba1b59103d7d",
            "ad4c06636bb94648bf675a21860b6d4b",
            "65cec99cb86b442a939dc442060be2f5",
            "6266002a43624c55a563a6af65fd2b2c",
            "16a99d0241b44037a2c9be5ced894659",
            "a1d20981fd334ec98ade9c6a515f454e",
            "ccfb588ac10a43fb88792c76770ede99",
            "2d9b2b21564f46ea8d2a6c58d009416b",
            "e4ca72a8972348329aecb218ea655340",
            "0594e6e982ba41568f38006c8ce0424a",
            "f99c13e70f954b64a754c6a8d603cb5b",
            "286b935755104e2b944c9d4360301c87",
            "bbe44ad35fc74d40910f6b5af88888d6",
            "73dc65e579e94385bcd02feb5e0a2e32",
            "f20606ea87c84ee78a672321b9dfe27e",
            "af69f995bafa458292366e38eb9d1f6a",
            "ba726a86fbf642d699b8ce20bd1e95be",
            "e6aadfa868914fb2884f873d2fd9c14f",
            "2c08f2823ec3448faaf33e923ae2e139",
            "cad5b4677c7b43b3b62b4653c053a84b",
            "6246500ae5734f1cb22575ddad325419"
          ]
        },
        "id": "xBqNRl29sH6e",
        "outputId": "8722e687-df10-49e8-96d4-d772f6e01e1a"
      },
      "outputs": [
        {
          "output_type": "display_data",
          "data": {
            "application/vnd.jupyter.widget-view+json": {
              "model_id": "f03b2b4a4b084605bb5c3debd578530a",
              "version_minor": 0,
              "version_major": 2
            },
            "text/plain": [
              "Downloading:   0%|          | 0.00/972k [00:00<?, ?B/s]"
            ]
          },
          "metadata": {}
        },
        {
          "output_type": "display_data",
          "data": {
            "application/vnd.jupyter.widget-view+json": {
              "model_id": "c243d809bbcb4ad1a9119e259ddb2bb8",
              "version_minor": 0,
              "version_major": 2
            },
            "text/plain": [
              "Downloading:   0%|          | 0.00/29.0 [00:00<?, ?B/s]"
            ]
          },
          "metadata": {}
        },
        {
          "output_type": "display_data",
          "data": {
            "application/vnd.jupyter.widget-view+json": {
              "model_id": "023693179aef40eb8f1bc6ddf48b6f09",
              "version_minor": 0,
              "version_major": 2
            },
            "text/plain": [
              "Downloading:   0%|          | 0.00/1.87M [00:00<?, ?B/s]"
            ]
          },
          "metadata": {}
        },
        {
          "output_type": "display_data",
          "data": {
            "application/vnd.jupyter.widget-view+json": {
              "model_id": "f99c13e70f954b64a754c6a8d603cb5b",
              "version_minor": 0,
              "version_major": 2
            },
            "text/plain": [
              "Downloading:   0%|          | 0.00/625 [00:00<?, ?B/s]"
            ]
          },
          "metadata": {}
        },
        {
          "output_type": "stream",
          "name": "stdout",
          "text": [
            "max token length in train_data is:  91\n"
          ]
        },
        {
          "output_type": "stream",
          "name": "stderr",
          "text": [
            "/usr/local/lib/python3.7/dist-packages/transformers/tokenization_utils_base.py:2227: FutureWarning: The `pad_to_max_length` argument is deprecated and will be removed in a future version, use `padding=True` or `padding='longest'` to pad to the longest sequence in the batch, or use `padding='max_length'` to pad to a max length. In this case, you can give a specific length with `max_length` (e.g. `max_length=45`) or leave max_length to None to pad to the maximal input size of the model (e.g. 512 for Bert).\n",
            "  FutureWarning,\n"
          ]
        },
        {
          "output_type": "stream",
          "name": "stdout",
          "text": [
            "train data samples is 3200\n",
            "valid data samples is 800\n",
            "test data samples is 1000\n"
          ]
        }
      ],
      "source": [
        "train_data_fr = french_df_2019.copy()\n",
        "test_data_fr = french_df_2019t.copy()\n",
        "# labels = {'HOF': 0, 'NOT': 1}\n",
        "\n",
        "# train_data['HS'] = train_data['HS'].apply(lambda x: labels[x])\n",
        "# test_data['task_1'] = test_data['task_1'].apply(lambda x: labels[x])\n",
        "\n",
        "tokenizer_fr = BertTokenizer.from_pretrained('bert-base-multilingual-cased')\n",
        "\n",
        "max_length = 0\n",
        "for sentence in train_data_fr['text']:\n",
        "    #print(sentence)\n",
        "    length = len(tokenizer_fr.tokenize(sentence))\n",
        "    if length > max_length:\n",
        "        max_length  = length\n",
        "print(\"max token length in train_data is: \",max_length)\n",
        "\n",
        "sent_index_fr,input_ids_fr,attention_masks_fr = encoder_generator(tokenizer_fr, list(train_data_fr['text']))\n",
        "test_sent_index_fr,test_input_ids_fr,test_attention_masks_fr = encoder_generator(tokenizer_fr, list(test_data_fr['text']))\n",
        "# print('Original: ', train_data_fr['text'][0])\n",
        "# print('Token IDs:', input_ids_fr[0])\n",
        "dataset_fr = TensorDataset(input_ids_fr,attention_masks_fr,torch.tensor(train_data_fr['label']))\n",
        "test_dataset_fr = TensorDataset(test_sent_index_fr,test_input_ids_fr,test_attention_masks_fr,torch.tensor(test_data_fr['label']))\n",
        "\n",
        "train_size_fr = int(0.8*len(dataset_fr))\n",
        "\n",
        "val_size_fr = len(dataset_fr)-train_size_fr\n",
        "\n",
        "train_dataset_fr,val_dataset_fr = random_split(dataset_fr,[train_size_fr,val_size_fr])\n",
        "\n",
        "print('train data samples is {}'.format(len(train_dataset_fr)))\n",
        "print(\"valid data samples is {}\".format(len(val_dataset_fr)))\n",
        "print(\"test data samples is {}\".format(len(test_dataset_fr)))\n",
        "\n",
        "bs=8\n",
        "\n",
        "train_data_loader_fr = DataLoader(train_dataset_fr,\n",
        "                              sampler=RandomSampler(train_dataset_fr),\n",
        "                              batch_size=bs)\n",
        "valid_data_loader_fr = DataLoader(val_dataset_fr,\n",
        "                              sampler=SequentialSampler(val_dataset_fr),\n",
        "                              batch_size=bs)\n",
        "test_data_loader_fr = DataLoader(test_dataset_fr,\n",
        "                            sampler=SequentialSampler(test_dataset_fr),\n",
        "                            batch_size=bs)\n"
      ]
    },
    {
      "cell_type": "markdown",
      "metadata": {
        "id": "71HxAShasqa-"
      },
      "source": [
        "### Evaluate BERT(English) on French Val Data\n",
        "\n",
        "Bert trained on English and evaluated"
      ]
    },
    {
      "cell_type": "code",
      "execution_count": 72,
      "metadata": {
        "colab": {
          "base_uri": "https://localhost:8080/"
        },
        "id": "LYYFyR3Ysw1E",
        "outputId": "9effae65-69bf-437a-da73-be0a92c0afcd"
      },
      "outputs": [
        {
          "output_type": "stream",
          "name": "stdout",
          "text": [
            "              precision    recall  f1-score   support\n",
            "\n",
            "           0       0.28      0.87      0.42       270\n",
            "           1       0.78      0.18      0.29       730\n",
            "\n",
            "    accuracy                           0.36      1000\n",
            "   macro avg       0.53      0.52      0.36      1000\n",
            "weighted avg       0.65      0.36      0.32      1000\n",
            "\n",
            "accuracy = 0.36\n"
          ]
        }
      ],
      "source": [
        "# if model_fr:\n",
        "#   del model_fr\n",
        "import gc\n",
        "gc.collect()\n",
        "\n",
        "model_fr = torch.load(\"/content/gdrive/MyDrive/NLP Project/model_pt/model_english_task_a.pt\")\n",
        "model_fr = model_fr.to(device)\n",
        "\n",
        "valid_loss_fr,valid_acc_fr,all_sentence_id_fr,all_pred_labels_fr = evaluate_test(model_fr, test_data_loader_fr)"
      ]
    },
    {
      "cell_type": "markdown",
      "metadata": {
        "id": "qGbv_iHNs0P2"
      },
      "source": [
        "### Train Fine tuned BERT (English) for French\n"
      ]
    },
    {
      "cell_type": "code",
      "execution_count": 73,
      "metadata": {
        "colab": {
          "base_uri": "https://localhost:8080/"
        },
        "id": "6MVB4ypzs80R",
        "outputId": "fd14599b-4207-475d-a43e-f4b3bb344ea3"
      },
      "outputs": [
        {
          "output_type": "stream",
          "name": "stdout",
          "text": [
            "              precision    recall  f1-score   support\n",
            "\n",
            "           0       1.00      0.86      0.92       799\n",
            "           1       0.01      1.00      0.02         1\n",
            "\n",
            "    accuracy                           0.86       800\n",
            "   macro avg       0.50      0.93      0.47       800\n",
            "weighted avg       1.00      0.86      0.92       800\n",
            "\n",
            "accuracy = 0.86\n",
            "Epoch: 01 | Epoch Time: 0m 58s\n",
            "\tTrain Loss: 0.404 | Train Acc: 85.91%\n",
            "\t Val. Loss: 0.399 |  Val. Acc: 85.62%\n",
            "              precision    recall  f1-score   support\n",
            "\n",
            "           0       0.97      0.87      0.92       756\n",
            "           1       0.18      0.48      0.26        44\n",
            "\n",
            "    accuracy                           0.85       800\n",
            "   macro avg       0.57      0.68      0.59       800\n",
            "weighted avg       0.92      0.85      0.88       800\n",
            "\n",
            "accuracy = 0.85\n",
            "Epoch: 02 | Epoch Time: 0m 58s\n",
            "\tTrain Loss: 0.359 | Train Acc: 88.22%\n",
            "\t Val. Loss: 0.485 |  Val. Acc: 85.25%\n",
            "              precision    recall  f1-score   support\n",
            "\n",
            "           0       0.99      0.87      0.93       776\n",
            "           1       0.15      0.71      0.24        24\n",
            "\n",
            "    accuracy                           0.87       800\n",
            "   macro avg       0.57      0.79      0.59       800\n",
            "weighted avg       0.96      0.87      0.91       800\n",
            "\n",
            "accuracy = 0.87\n",
            "Epoch: 03 | Epoch Time: 0m 58s\n",
            "\tTrain Loss: 0.308 | Train Acc: 91.38%\n",
            "\t Val. Loss: 0.472 |  Val. Acc: 86.75%\n",
            "              precision    recall  f1-score   support\n",
            "\n",
            "           0       0.96      0.89      0.92       741\n",
            "           1       0.28      0.54      0.37        59\n",
            "\n",
            "    accuracy                           0.86       800\n",
            "   macro avg       0.62      0.71      0.64       800\n",
            "weighted avg       0.91      0.86      0.88       800\n",
            "\n",
            "accuracy = 0.86\n",
            "Epoch: 04 | Epoch Time: 0m 58s\n",
            "\tTrain Loss: 0.230 | Train Acc: 94.09%\n",
            "\t Val. Loss: 0.601 |  Val. Acc: 86.12%\n",
            "              precision    recall  f1-score   support\n",
            "\n",
            "           0       0.98      0.88      0.93       765\n",
            "           1       0.21      0.69      0.32        35\n",
            "\n",
            "    accuracy                           0.87       800\n",
            "   macro avg       0.60      0.78      0.62       800\n",
            "weighted avg       0.95      0.87      0.90       800\n",
            "\n",
            "accuracy = 0.87\n",
            "Epoch: 05 | Epoch Time: 0m 58s\n",
            "\tTrain Loss: 0.170 | Train Acc: 96.16%\n",
            "\t Val. Loss: 0.512 |  Val. Acc: 87.12%\n",
            "              precision    recall  f1-score   support\n",
            "\n",
            "           0       0.90      0.90      0.90       678\n",
            "           1       0.44      0.42      0.43       122\n",
            "\n",
            "    accuracy                           0.83       800\n",
            "   macro avg       0.67      0.66      0.66       800\n",
            "weighted avg       0.83      0.83      0.83       800\n",
            "\n",
            "accuracy = 0.83\n",
            "Epoch: 06 | Epoch Time: 0m 58s\n",
            "\tTrain Loss: 0.117 | Train Acc: 97.53%\n",
            "\t Val. Loss: 0.927 |  Val. Acc: 83.00%\n",
            "              precision    recall  f1-score   support\n",
            "\n",
            "           0       0.95      0.89      0.92       732\n",
            "           1       0.32      0.54      0.40        68\n",
            "\n",
            "    accuracy                           0.86       800\n",
            "   macro avg       0.64      0.72      0.66       800\n",
            "weighted avg       0.90      0.86      0.88       800\n",
            "\n",
            "accuracy = 0.86\n",
            "Epoch: 07 | Epoch Time: 0m 58s\n",
            "\tTrain Loss: 0.093 | Train Acc: 98.25%\n",
            "\t Val. Loss: 0.753 |  Val. Acc: 86.25%\n",
            "              precision    recall  f1-score   support\n",
            "\n",
            "           0       0.95      0.89      0.92       726\n",
            "           1       0.33      0.51      0.40        74\n",
            "\n",
            "    accuracy                           0.86       800\n",
            "   macro avg       0.64      0.70      0.66       800\n",
            "weighted avg       0.89      0.86      0.87       800\n",
            "\n",
            "accuracy = 0.86\n",
            "Epoch: 08 | Epoch Time: 0m 58s\n",
            "\tTrain Loss: 0.063 | Train Acc: 98.88%\n",
            "\t Val. Loss: 0.844 |  Val. Acc: 85.75%\n",
            "              precision    recall  f1-score   support\n",
            "\n",
            "           0       0.95      0.90      0.92       726\n",
            "           1       0.34      0.54      0.42        74\n",
            "\n",
            "    accuracy                           0.86       800\n",
            "   macro avg       0.65      0.72      0.67       800\n",
            "weighted avg       0.89      0.86      0.88       800\n",
            "\n",
            "accuracy = 0.86\n",
            "Epoch: 09 | Epoch Time: 0m 58s\n",
            "\tTrain Loss: 0.066 | Train Acc: 98.88%\n",
            "\t Val. Loss: 0.813 |  Val. Acc: 86.25%\n",
            "              precision    recall  f1-score   support\n",
            "\n",
            "           0       0.95      0.90      0.92       728\n",
            "           1       0.34      0.56      0.43        72\n",
            "\n",
            "    accuracy                           0.86       800\n",
            "   macro avg       0.65      0.73      0.67       800\n",
            "weighted avg       0.90      0.86      0.88       800\n",
            "\n",
            "accuracy = 0.86\n",
            "Epoch: 10 | Epoch Time: 0m 58s\n",
            "\tTrain Loss: 0.054 | Train Acc: 99.06%\n",
            "\t Val. Loss: 0.809 |  Val. Acc: 86.50%\n"
          ]
        }
      ],
      "source": [
        "# if model_eng:\n",
        "#   del model_eng\n",
        "\n",
        "if not FREEZE:\n",
        "\n",
        "  import gc\n",
        "  gc.collect()\n",
        "\n",
        "  model_eng = torch.load('/content/gdrive/MyDrive/NLP Project/model_pt/model_english_task_a.pt')\n",
        "  model_eng = model_eng.to(device)\n",
        "\n",
        "  optimizer_fr = AdamW(model_eng.parameters(),lr=2e-5,eps=1e-8)\n",
        "\n",
        "  epochs=10\n",
        "  total_steps = len(train_data_loader_fr) * epochs\n",
        "\n",
        "  scheduler = get_linear_schedule_with_warmup(optimizer_fr,\n",
        "                                            num_warmup_steps=0,\n",
        "                                            num_training_steps=total_steps)\n",
        "\n",
        "  total_t0 = time.time()\n",
        "\n",
        "  seed_val = 42\n",
        "\n",
        "  random.seed(seed_val)\n",
        "  np.random.seed(seed_val)\n",
        "  torch.manual_seed(seed_val)\n",
        "  torch.cuda.manual_seed_all(seed_val)\n",
        "\n",
        "  epochs = 10\n",
        "\n",
        "  best_macro_f1 = float('0')\n",
        "  train_acc_eng_fr = []\n",
        "  val_acc_eng_fr = []\n",
        "  train_loss_eng_fr = []\n",
        "  val_loss_eng_fr = []\n",
        "\n",
        "  for epoch in range(epochs):\n",
        "      \n",
        "      start_time = time.time()\n",
        "      train_loss,train_acc = train(model_eng, train_data_loader_fr, optimizer_fr)\n",
        "      valid_loss,valid_acc,macro_f1 = evaluate(model_eng, valid_data_loader_fr)\n",
        "      \n",
        "      end_time = time.time()\n",
        "          \n",
        "      epoch_mins, epoch_secs = epoch_time(start_time, end_time)\n",
        "          \n",
        "      if macro_f1 > best_macro_f1:\n",
        "          best_macro_f1 = macro_f1\n",
        "          torch.save(model_eng,\"/content/gdrive/MyDrive/NLP Project/model_pt/model_english_french_task_a.pt\")\n",
        "      \n",
        "      print(f'Epoch: {epoch+1:02} | Epoch Time: {epoch_mins}m {epoch_secs}s')\n",
        "      print(f'\\tTrain Loss: {train_loss:.3f} | Train Acc: {train_acc*100:.2f}%')\n",
        "      print(f'\\t Val. Loss: {valid_loss:.3f} |  Val. Acc: {valid_acc*100:.2f}%')\n",
        "      train_acc_eng_fr.append(train_acc*100)\n",
        "      val_acc_eng_fr.append(valid_acc*100)\n",
        "      train_loss_eng_fr.append(train_loss*100)\n",
        "      val_loss_eng_fr.append(valid_loss*100)"
      ]
    },
    {
      "cell_type": "code",
      "execution_count": 74,
      "metadata": {
        "colab": {
          "base_uri": "https://localhost:8080/",
          "height": 642
        },
        "id": "F5O-kRLTtPdM",
        "outputId": "986347d4-88f8-498d-fe58-461b87f18d7c"
      },
      "outputs": [
        {
          "output_type": "display_data",
          "data": {
            "image/png": "[encoded data removed]",
            "text/plain": [
              "<Figure size 432x288 with 1 Axes>"
            ]
          },
          "metadata": {
            "needs_background": "light"
          }
        },
        {
          "output_type": "stream",
          "name": "stdout",
          "text": [
            "94.834375\n",
            "85.8625\n"
          ]
        },
        {
          "output_type": "display_data",
          "data": {
            "image/png": "[encoded data removed]",
            "text/plain": [
              "<Figure size 432x288 with 1 Axes>"
            ]
          },
          "metadata": {
            "needs_background": "light"
          }
        },
        {
          "output_type": "stream",
          "name": "stdout",
          "text": [
            "18.646710224397246\n",
            "66.1588559538126\n"
          ]
        }
      ],
      "source": [
        "if not FREEZE:\n",
        "  plot_vc(train_acc_eng_fr, val_acc_eng_fr)\n",
        "  print(np.mean(train_acc_eng_fr))\n",
        "  print(np.mean(val_acc_eng_fr))\n",
        "\n",
        "  plot_lc(train_loss_eng_fr, val_loss_eng_fr)\n",
        "  print(np.mean(train_loss_eng_fr))\n",
        "  print(np.mean(val_loss_eng_fr))"
      ]
    },
    {
      "cell_type": "markdown",
      "metadata": {
        "id": "3LkQfvdBtUhc"
      },
      "source": [
        "###Evaluate BERT Eng-> French"
      ]
    },
    {
      "cell_type": "code",
      "execution_count": 75,
      "metadata": {
        "colab": {
          "base_uri": "https://localhost:8080/"
        },
        "id": "hh-QagMwtaco",
        "outputId": "36dff78f-22cb-4768-f7b2-521636ee3066"
      },
      "outputs": [
        {
          "output_type": "stream",
          "name": "stdout",
          "text": [
            "              precision    recall  f1-score   support\n",
            "\n",
            "           0       0.95      0.87      0.91       906\n",
            "           1       0.31      0.54      0.39        94\n",
            "\n",
            "    accuracy                           0.84      1000\n",
            "   macro avg       0.63      0.71      0.65      1000\n",
            "weighted avg       0.89      0.84      0.86      1000\n",
            "\n",
            "accuracy = 0.84\n"
          ]
        }
      ],
      "source": [
        "# if model_fr:\n",
        "#   del model_fr\n",
        "import gc\n",
        "gc.collect()\n",
        "\n",
        "model_fr = torch.load(\"/content/gdrive/MyDrive/NLP Project/model_pt/model_english_french_task_a.pt\")\n",
        "model_fr = model_fr.to(device)\n",
        "\n",
        "valid_loss_fr,valid_acc_fr,all_sentence_id_fr,all_pred_labels_fr = evaluate_test(model_fr, test_data_loader_fr)"
      ]
    },
    {
      "cell_type": "markdown",
      "source": [
        "## Train Spanish"
      ],
      "metadata": {
        "id": "VesP1uWKSjvy"
      }
    },
    {
      "cell_type": "markdown",
      "metadata": {
        "id": "OtQhFhKG-jxr"
      },
      "source": [
        "###Load Spanish Data"
      ]
    },
    {
      "cell_type": "code",
      "execution_count": 51,
      "metadata": {
        "colab": {
          "base_uri": "https://localhost:8080/",
          "height": 512,
          "referenced_widgets": [
            "e67582c385c143f698afb8f006237062",
            "b89d15b338ba4376b1380048f9a65754",
            "c031a15c15244ef58cf3b9e246bf7bb9",
            "f7004defb0f5438a9e277c8a63c98b78",
            "dd896388255b4ad38fe19d913f7ba991",
            "f02b7832630d4a079f7206f1e254a923",
            "a498288052ed48c3b74d5b32757c0145",
            "4d2c62dcf947411f86123f79edaf52ec",
            "809e4d2eb80d4ac5980920bc03fffd1b",
            "efdb43a43a47425d8c85be9e8813b031",
            "a28629177e534e659a2914a896d839be",
            "a2cde79c958f4b429aab76cb58058c09",
            "db21c358859e467b87b4a5fe95ee37b0",
            "067eed4b146a4ce9a1ca869b00e511eb",
            "6a060ed66fc14747a960bfa4e6f59e03",
            "d94c9bd1401d493192c770ed334adfcf",
            "deeffddbd7b14ba282bf30945a96a17e",
            "bbac8e7f7b0244838c4573ea28c67565",
            "46f8e849109946db9c96ee6f7613d56f",
            "a87e0ef80c3046188177cc331319372d",
            "58700b2955b247a0815509e5e84d1e9a",
            "4fe4dbc4687e47f590af0ec8ae786fb7",
            "b08a0e55365d44928cdcb3886b1ea857",
            "6744e628b1ce4bbd8846a06504b8e014",
            "07a580b54c4d44e19dba1df0675c8b3c",
            "54dc6a315fef44c48f1146aa863ea70b",
            "ab22260dea004dd5bee81067e18bf5e9",
            "e9f7c6beaebe407fb1206b2a7ad4e015",
            "f50619209d43433db596377a32871127",
            "85dd7ab9f2b84fb78d935686111d1674",
            "0f89003966184372830f05325b4c3ec5",
            "bbf075b6fe4d455a9da4244eb3cc10ac",
            "21ac9ba736344a979248c5044a7d02ab",
            "dfeed157dac54be7bc865c673ac5c99f",
            "bb4867cb55b944029a8466150f1495ca",
            "7f99e45ded964695a9cf92910c16646b",
            "fa4efb64ba714954a50e69f9a260f9b0",
            "4ba60aa6ebff4685aa135b00ac641812",
            "94917ab5674c4c35bbda76015010e617",
            "6816a328242c469296c5050f69a0520b",
            "5a715ecfb774435db79afb791f3bf57d",
            "66e231b1f8a14c2fb7908f19b3cc5cd2",
            "8132fd764cea4389a443a2b408464bbd",
            "3315e1eeb6814b2bb1a9547e7d4facdb"
          ]
        },
        "id": "h3rHPe8Ldv_9",
        "outputId": "2895a35f-9ccd-4817-c15f-c275373ebf4a"
      },
      "outputs": [
        {
          "output_type": "display_data",
          "data": {
            "application/vnd.jupyter.widget-view+json": {
              "model_id": "e67582c385c143f698afb8f006237062",
              "version_minor": 0,
              "version_major": 2
            },
            "text/plain": [
              "Downloading:   0%|          | 0.00/972k [00:00<?, ?B/s]"
            ]
          },
          "metadata": {}
        },
        {
          "output_type": "display_data",
          "data": {
            "application/vnd.jupyter.widget-view+json": {
              "model_id": "a2cde79c958f4b429aab76cb58058c09",
              "version_minor": 0,
              "version_major": 2
            },
            "text/plain": [
              "Downloading:   0%|          | 0.00/29.0 [00:00<?, ?B/s]"
            ]
          },
          "metadata": {}
        },
        {
          "output_type": "display_data",
          "data": {
            "application/vnd.jupyter.widget-view+json": {
              "model_id": "b08a0e55365d44928cdcb3886b1ea857",
              "version_minor": 0,
              "version_major": 2
            },
            "text/plain": [
              "Downloading:   0%|          | 0.00/1.87M [00:00<?, ?B/s]"
            ]
          },
          "metadata": {}
        },
        {
          "output_type": "display_data",
          "data": {
            "application/vnd.jupyter.widget-view+json": {
              "model_id": "dfeed157dac54be7bc865c673ac5c99f",
              "version_minor": 0,
              "version_major": 2
            },
            "text/plain": [
              "Downloading:   0%|          | 0.00/625 [00:00<?, ?B/s]"
            ]
          },
          "metadata": {}
        },
        {
          "output_type": "stream",
          "name": "stdout",
          "text": [
            "max token length in train_data is:  1229\n"
          ]
        },
        {
          "output_type": "stream",
          "name": "stderr",
          "text": [
            "/usr/local/lib/python3.7/dist-packages/transformers/tokenization_utils_base.py:2227: FutureWarning: The `pad_to_max_length` argument is deprecated and will be removed in a future version, use `padding=True` or `padding='longest'` to pad to the longest sequence in the batch, or use `padding='max_length'` to pad to a max length. In this case, you can give a specific length with `max_length` (e.g. `max_length=45`) or leave max_length to None to pad to the maximal input size of the model (e.g. 512 for Bert).\n",
            "  FutureWarning,\n"
          ]
        },
        {
          "output_type": "stream",
          "name": "stdout",
          "text": [
            "Original:  Easyjet quiere duplicar el número de mujeres piloto  Verás tú para aparcar el avión http   t co   NuLkm  x\n",
            "Token IDs: tensor([  101, 39878, 18533, 68448, 10168, 62932, 15983, 10125, 13197, 10104,\n",
            "        22354, 35635, 41357, 12299, 85777, 10220, 32500, 22549, 10129, 10125,\n",
            "        48537, 10556,   188, 11170, 28336, 11369, 23440,   192,   102,     0,\n",
            "            0,     0,     0,     0,     0,     0,     0,     0,     0,     0,\n",
            "            0,     0,     0,     0,     0,     0,     0,     0,     0,     0,\n",
            "            0,     0,     0,     0,     0,     0,     0,     0,     0,     0,\n",
            "            0,     0,     0,     0,     0,     0,     0,     0,     0,     0,\n",
            "            0,     0,     0,     0,     0,     0,     0,     0,     0,     0,\n",
            "            0,     0,     0,     0,     0,     0,     0,     0,     0,     0,\n",
            "            0,     0,     0,     0,     0,     0,     0,     0,     0,     0,\n",
            "            0,     0,     0,     0,     0,     0,     0,     0,     0,     0,\n",
            "            0,     0,     0,     0,     0,     0,     0,     0,     0,     0,\n",
            "            0,     0,     0,     0,     0,     0,     0,     0])\n",
            "train data samples is 3560\n",
            "valid data samples is 890\n",
            "test data samples is 500\n"
          ]
        }
      ],
      "source": [
        "train_data_sp = spanish_df_2019.copy()\n",
        "test_data_sp = spanish_df_2019t.copy()\n",
        "labels = {'HOF': 0, 'NOT': 1}\n",
        "\n",
        "# train_data['HS'] = train_data['HS'].apply(lambda x: labels[x])\n",
        "# test_data['task_1'] = test_data['task_1'].apply(lambda x: labels[x])\n",
        "\n",
        "tokenizer_sp = BertTokenizer.from_pretrained('bert-base-multilingual-cased')\n",
        "\n",
        "max_length = 0\n",
        "for sentence in train_data_sp['text']:\n",
        "    #print(sentence)\n",
        "    length = len(tokenizer_sp.tokenize(sentence))\n",
        "    if length > max_length:\n",
        "        max_length  = length\n",
        "print(\"max token length in train_data is: \",max_length)\n",
        "\n",
        "sent_index_sp,input_ids_sp,attention_masks_sp = encoder_generator(tokenizer_sp, list(train_data_sp['text']))\n",
        "test_sent_index_sp,test_input_ids_sp,test_attention_masks_sp = encoder_generator(tokenizer_sp, list(test_data_sp['text']))\n",
        "print('Original: ', train_data_sp['text'][0])\n",
        "print('Token IDs:', input_ids_sp[0])\n",
        "dataset_sp = TensorDataset(input_ids_sp,attention_masks_sp,torch.tensor(train_data_sp['HS']))\n",
        "test_dataset_sp = TensorDataset(test_sent_index_sp,test_input_ids_sp,test_attention_masks_sp,torch.tensor(test_data_sp['task_1']))\n",
        "\n",
        "train_size_sp = int(0.8*len(dataset_sp))\n",
        "\n",
        "val_size_sp = len(dataset_sp)-train_size_sp\n",
        "\n",
        "train_dataset_sp,val_dataset_sp = random_split(dataset_sp,[train_size_sp,val_size_sp])\n",
        "\n",
        "print('train data samples is {}'.format(len(train_dataset_sp)))\n",
        "print(\"valid data samples is {}\".format(len(val_dataset_sp)))\n",
        "print(\"test data samples is {}\".format(len(test_dataset_sp)))\n",
        "\n",
        "bs=8\n",
        "\n",
        "train_data_loader_sp = DataLoader(train_dataset_sp,\n",
        "                              sampler=RandomSampler(train_dataset_sp),\n",
        "                              batch_size=bs)\n",
        "valid_data_loader_sp = DataLoader(val_dataset_sp,\n",
        "                              sampler=SequentialSampler(val_dataset_sp),\n",
        "                              batch_size=bs)\n",
        "test_data_loader_sp = DataLoader(test_dataset_sp,\n",
        "                            sampler=SequentialSampler(test_dataset_sp),\n",
        "                            batch_size=bs)\n"
      ]
    },
    {
      "cell_type": "markdown",
      "metadata": {
        "id": "xhv1afoZfZaf"
      },
      "source": [
        "### Evaluate BERT(English) on Spanish Val Data\n",
        "\n",
        "Bert trained on English and evaluated"
      ]
    },
    {
      "cell_type": "code",
      "execution_count": 52,
      "metadata": {
        "colab": {
          "base_uri": "https://localhost:8080/"
        },
        "id": "fb3lwerArgIx",
        "outputId": "d11e931b-bdab-4bbe-ab67-9602902b2d58"
      },
      "outputs": [
        {
          "output_type": "stream",
          "name": "stdout",
          "text": [
            "              precision    recall  f1-score   support\n",
            "\n",
            "           0       0.49      0.51      0.50       269\n",
            "           1       0.40      0.39      0.39       231\n",
            "\n",
            "    accuracy                           0.45       500\n",
            "   macro avg       0.45      0.45      0.45       500\n",
            "weighted avg       0.45      0.45      0.45       500\n",
            "\n",
            "accuracy = 0.45\n"
          ]
        }
      ],
      "source": [
        "# if model_sp:\n",
        "#   del model_sp\n",
        "import gc\n",
        "gc.collect()\n",
        "\n",
        "model_sp = torch.load(\"/content/gdrive/MyDrive/NLP Project/model_pt/model_english_task_a.pt\")\n",
        "model_sp = model_sp.to(device)\n",
        "\n",
        "valid_loss_sp,valid_acc_sp,all_sentence_id_sp,all_pred_labels_sp = evaluate_test(model_sp, test_data_loader_sp)"
      ]
    },
    {
      "cell_type": "markdown",
      "metadata": {
        "id": "1e-3zzdHedgm"
      },
      "source": [
        "### Train Fine tuned BERT (English) for Spanish\n"
      ]
    },
    {
      "cell_type": "code",
      "execution_count": 53,
      "metadata": {
        "colab": {
          "base_uri": "https://localhost:8080/"
        },
        "id": "hs95oojQzgZZ",
        "outputId": "d11544b5-e756-4c1b-8970-70b641b7f93f"
      },
      "outputs": [
        {
          "output_type": "stream",
          "name": "stdout",
          "text": [
            "              precision    recall  f1-score   support\n",
            "\n",
            "           0       0.85      0.80      0.82       585\n",
            "           1       0.65      0.72      0.69       305\n",
            "\n",
            "    accuracy                           0.77       890\n",
            "   macro avg       0.75      0.76      0.75       890\n",
            "weighted avg       0.78      0.77      0.77       890\n",
            "\n",
            "accuracy = 0.77\n",
            "Epoch: 01 | Epoch Time: 1m 5s\n",
            "\tTrain Loss: 0.578 | Train Acc: 70.81%\n",
            "\t Val. Loss: 0.503 |  Val. Acc: 77.19%\n",
            "              precision    recall  f1-score   support\n",
            "\n",
            "           0       0.76      0.86      0.81       483\n",
            "           1       0.80      0.67      0.73       407\n",
            "\n",
            "    accuracy                           0.77       890\n",
            "   macro avg       0.78      0.77      0.77       890\n",
            "weighted avg       0.78      0.77      0.77       890\n",
            "\n",
            "accuracy = 0.77\n",
            "Epoch: 02 | Epoch Time: 1m 5s\n",
            "\tTrain Loss: 0.416 | Train Acc: 82.28%\n",
            "\t Val. Loss: 0.595 |  Val. Acc: 77.42%\n",
            "              precision    recall  f1-score   support\n",
            "\n",
            "           0       0.82      0.86      0.84       526\n",
            "           1       0.78      0.73      0.75       364\n",
            "\n",
            "    accuracy                           0.80       890\n",
            "   macro avg       0.80      0.79      0.80       890\n",
            "weighted avg       0.80      0.80      0.80       890\n",
            "\n",
            "accuracy = 0.80\n",
            "Epoch: 03 | Epoch Time: 1m 5s\n",
            "\tTrain Loss: 0.336 | Train Acc: 88.85%\n",
            "\t Val. Loss: 0.618 |  Val. Acc: 80.45%\n",
            "              precision    recall  f1-score   support\n",
            "\n",
            "           0       0.83      0.86      0.84       528\n",
            "           1       0.78      0.73      0.76       362\n",
            "\n",
            "    accuracy                           0.81       890\n",
            "   macro avg       0.80      0.80      0.80       890\n",
            "weighted avg       0.81      0.81      0.81       890\n",
            "\n",
            "accuracy = 0.81\n",
            "Epoch: 04 | Epoch Time: 1m 5s\n",
            "\tTrain Loss: 0.238 | Train Acc: 93.65%\n",
            "\t Val. Loss: 0.798 |  Val. Acc: 80.90%\n",
            "              precision    recall  f1-score   support\n",
            "\n",
            "           0       0.80      0.86      0.83       508\n",
            "           1       0.79      0.71      0.75       382\n",
            "\n",
            "    accuracy                           0.80       890\n",
            "   macro avg       0.80      0.78      0.79       890\n",
            "weighted avg       0.80      0.80      0.79       890\n",
            "\n",
            "accuracy = 0.80\n",
            "Epoch: 05 | Epoch Time: 1m 5s\n",
            "\tTrain Loss: 0.167 | Train Acc: 96.07%\n",
            "\t Val. Loss: 1.040 |  Val. Acc: 79.55%\n",
            "              precision    recall  f1-score   support\n",
            "\n",
            "           0       0.91      0.80      0.85       622\n",
            "           1       0.64      0.81      0.71       268\n",
            "\n",
            "    accuracy                           0.80       890\n",
            "   macro avg       0.77      0.80      0.78       890\n",
            "weighted avg       0.82      0.80      0.81       890\n",
            "\n",
            "accuracy = 0.80\n",
            "Epoch: 06 | Epoch Time: 1m 5s\n",
            "\tTrain Loss: 0.127 | Train Acc: 97.22%\n",
            "\t Val. Loss: 1.112 |  Val. Acc: 80.22%\n",
            "              precision    recall  f1-score   support\n",
            "\n",
            "           0       0.85      0.84      0.84       555\n",
            "           1       0.74      0.75      0.74       335\n",
            "\n",
            "    accuracy                           0.81       890\n",
            "   macro avg       0.79      0.79      0.79       890\n",
            "weighted avg       0.81      0.81      0.81       890\n",
            "\n",
            "accuracy = 0.81\n",
            "Epoch: 07 | Epoch Time: 1m 5s\n",
            "\tTrain Loss: 0.081 | Train Acc: 98.43%\n",
            "\t Val. Loss: 1.230 |  Val. Acc: 80.56%\n",
            "              precision    recall  f1-score   support\n",
            "\n",
            "           0       0.85      0.85      0.85       546\n",
            "           1       0.76      0.75      0.76       344\n",
            "\n",
            "    accuracy                           0.81       890\n",
            "   macro avg       0.80      0.80      0.80       890\n",
            "weighted avg       0.81      0.81      0.81       890\n",
            "\n",
            "accuracy = 0.81\n",
            "Epoch: 08 | Epoch Time: 1m 5s\n",
            "\tTrain Loss: 0.051 | Train Acc: 98.99%\n",
            "\t Val. Loss: 1.221 |  Val. Acc: 81.35%\n",
            "              precision    recall  f1-score   support\n",
            "\n",
            "           0       0.83      0.85      0.84       539\n",
            "           1       0.76      0.74      0.75       351\n",
            "\n",
            "    accuracy                           0.81       890\n",
            "   macro avg       0.80      0.80      0.80       890\n",
            "weighted avg       0.81      0.81      0.81       890\n",
            "\n",
            "accuracy = 0.81\n",
            "Epoch: 09 | Epoch Time: 1m 5s\n",
            "\tTrain Loss: 0.037 | Train Acc: 99.33%\n",
            "\t Val. Loss: 1.288 |  Val. Acc: 80.79%\n",
            "              precision    recall  f1-score   support\n",
            "\n",
            "           0       0.83      0.85      0.84       538\n",
            "           1       0.76      0.74      0.75       352\n",
            "\n",
            "    accuracy                           0.80       890\n",
            "   macro avg       0.80      0.79      0.79       890\n",
            "weighted avg       0.80      0.80      0.80       890\n",
            "\n",
            "accuracy = 0.80\n",
            "Epoch: 10 | Epoch Time: 1m 5s\n",
            "\tTrain Loss: 0.031 | Train Acc: 99.38%\n",
            "\t Val. Loss: 1.320 |  Val. Acc: 80.45%\n"
          ]
        }
      ],
      "source": [
        "# if model_eng:\n",
        "#   del model_eng\n",
        "\n",
        "if not FREEZE:\n",
        "  import gc\n",
        "  gc.collect()\n",
        "\n",
        "  model_eng = torch.load('/content/gdrive/MyDrive/NLP Project/model_pt/model_english_task_a.pt')\n",
        "  model_eng = model_eng.to(device)\n",
        "\n",
        "  optimizer_sp = AdamW(model_eng.parameters(),lr=2e-5,eps=1e-8)\n",
        "\n",
        "  epochs=10\n",
        "  total_steps = len(train_data_loader_sp) * epochs\n",
        "\n",
        "  scheduler = get_linear_schedule_with_warmup(optimizer_sp,\n",
        "                                            num_warmup_steps=0,\n",
        "                                            num_training_steps=total_steps)\n",
        "\n",
        "  total_t0 = time.time()\n",
        "\n",
        "  seed_val = 42\n",
        "\n",
        "  random.seed(seed_val)\n",
        "  np.random.seed(seed_val)\n",
        "  torch.manual_seed(seed_val)\n",
        "  torch.cuda.manual_seed_all(seed_val)\n",
        "\n",
        "  epochs = 10\n",
        "\n",
        "  best_macro_f1 = float('0')\n",
        "  train_acc_eng_sp = []\n",
        "  val_acc_eng_sp = []\n",
        "  train_loss_eng_sp = []\n",
        "  val_loss_eng_sp = []\n",
        "\n",
        "  for epoch in range(epochs):\n",
        "      \n",
        "      start_time = time.time()\n",
        "      train_loss,train_acc = train(model_eng, train_data_loader_sp, optimizer_sp)\n",
        "      valid_loss,valid_acc,macro_f1 = evaluate(model_eng, valid_data_loader_sp)\n",
        "      \n",
        "      end_time = time.time()\n",
        "          \n",
        "      epoch_mins, epoch_secs = epoch_time(start_time, end_time)\n",
        "          \n",
        "      if macro_f1 > best_macro_f1:\n",
        "          best_macro_f1 = macro_f1\n",
        "          torch.save(model_eng,\"/content/gdrive/MyDrive/NLP Project/model_pt/model_english_spanish_task_a.pt\")\n",
        "      \n",
        "      print(f'Epoch: {epoch+1:02} | Epoch Time: {epoch_mins}m {epoch_secs}s')\n",
        "      print(f'\\tTrain Loss: {train_loss:.3f} | Train Acc: {train_acc*100:.2f}%')\n",
        "      print(f'\\t Val. Loss: {valid_loss:.3f} |  Val. Acc: {valid_acc*100:.2f}%')\n",
        "      train_acc_eng_sp.append(train_acc*100)\n",
        "      val_acc_eng_sp.append(valid_acc*100)\n",
        "      train_loss_eng_sp.append(train_loss*100)\n",
        "      val_loss_eng_sp.append(valid_loss*100)"
      ]
    },
    {
      "cell_type": "code",
      "execution_count": 54,
      "metadata": {
        "colab": {
          "base_uri": "https://localhost:8080/",
          "height": 642
        },
        "id": "LTTrcHTaAcVk",
        "outputId": "fb77abd4-26cc-41b6-da2b-1831135ef17e"
      },
      "outputs": [
        {
          "output_type": "display_data",
          "data": {
            "image/png": "[encoded data removed]",
            "text/plain": [
              "<Figure size 432x288 with 1 Axes>"
            ]
          },
          "metadata": {
            "needs_background": "light"
          }
        },
        {
          "output_type": "stream",
          "name": "stdout",
          "text": [
            "92.5\n",
            "79.8876404494382\n"
          ]
        },
        {
          "output_type": "display_data",
          "data": {
            "image/png": "[encoded data removed]",
            "text/plain": [
              "<Figure size 432x288 with 1 Axes>"
            ]
          },
          "metadata": {
            "needs_background": "light"
          }
        },
        {
          "output_type": "stream",
          "name": "stdout",
          "text": [
            "20.610118387955023\n",
            "97.24335172834148\n"
          ]
        }
      ],
      "source": [
        "if not FREEZE:\n",
        "  plot_vc(train_acc_eng_sp, val_acc_eng_sp)\n",
        "  print(np.mean(train_acc_eng_sp))\n",
        "  print(np.mean(val_acc_eng_sp))\n",
        "\n",
        "  plot_lc(train_loss_eng_sp, val_loss_eng_sp)\n",
        "  print(np.mean(train_loss_eng_sp))\n",
        "  print(np.mean(val_loss_eng_sp))"
      ]
    },
    {
      "cell_type": "markdown",
      "metadata": {
        "id": "tHwL4iInEWQA"
      },
      "source": [
        "###Evaluate BERT Eng-> Span"
      ]
    },
    {
      "cell_type": "code",
      "execution_count": 55,
      "metadata": {
        "colab": {
          "base_uri": "https://localhost:8080/"
        },
        "id": "gLmL1GV7ACvB",
        "outputId": "99c32ba9-52c6-4a3e-bae4-b7336473458c"
      },
      "outputs": [
        {
          "output_type": "stream",
          "name": "stdout",
          "text": [
            "              precision    recall  f1-score   support\n",
            "\n",
            "           0       0.76      0.80      0.78       263\n",
            "           1       0.77      0.72      0.74       237\n",
            "\n",
            "    accuracy                           0.76       500\n",
            "   macro avg       0.76      0.76      0.76       500\n",
            "weighted avg       0.76      0.76      0.76       500\n",
            "\n",
            "accuracy = 0.76\n"
          ]
        }
      ],
      "source": [
        "# if model_sp:\n",
        "#   del model_sp\n",
        "import gc\n",
        "gc.collect()\n",
        "\n",
        "model_sp = torch.load(\"/content/gdrive/MyDrive/NLP Project/model_pt/model_english_spanish_task_a.pt\")\n",
        "model_sp = model_sp.to(device)\n",
        "\n",
        "valid_loss_sp,valid_acc_sp,all_sentence_id_sp,all_pred_labels_sp = evaluate_test(model_sp, test_data_loader_sp)"
      ]
    },
    {
      "cell_type": "markdown",
      "source": [
        "##Train German"
      ],
      "metadata": {
        "id": "jFhpYJvYSmaz"
      }
    },
    {
      "cell_type": "markdown",
      "metadata": {
        "id": "ZAsbOqBZG5Tk"
      },
      "source": [
        "### Load German data"
      ]
    },
    {
      "cell_type": "code",
      "execution_count": 56,
      "metadata": {
        "colab": {
          "base_uri": "https://localhost:8080/"
        },
        "id": "f9uwT6TLBUZI",
        "outputId": "aa488a18-b081-49ce-b44f-d7e10b6fb634"
      },
      "outputs": [
        {
          "output_type": "stream",
          "name": "stdout",
          "text": [
            "max token length in train_data is:  132\n"
          ]
        },
        {
          "output_type": "stream",
          "name": "stderr",
          "text": [
            "/usr/local/lib/python3.7/dist-packages/transformers/tokenization_utils_base.py:2227: FutureWarning: The `pad_to_max_length` argument is deprecated and will be removed in a future version, use `padding=True` or `padding='longest'` to pad to the longest sequence in the batch, or use `padding='max_length'` to pad to a max length. In this case, you can give a specific length with `max_length` (e.g. `max_length=45`) or leave max_length to None to pad to the maximal input size of the model (e.g. 512 for Bert).\n",
            "  FutureWarning,\n"
          ]
        },
        {
          "output_type": "stream",
          "name": "stdout",
          "text": [
            "Original:  Frank Rennicke   Ich bin stolz \n",
            "Token IDs: tensor([  101, 11872, 52712, 71609, 10112, 21023, 16292, 47264, 48275,   102,\n",
            "            0,     0,     0,     0,     0,     0,     0,     0,     0,     0,\n",
            "            0,     0,     0,     0,     0,     0,     0,     0,     0,     0,\n",
            "            0,     0,     0,     0,     0,     0,     0,     0,     0,     0,\n",
            "            0,     0,     0,     0,     0,     0,     0,     0,     0,     0,\n",
            "            0,     0,     0,     0,     0,     0,     0,     0,     0,     0,\n",
            "            0,     0,     0,     0,     0,     0,     0,     0,     0,     0,\n",
            "            0,     0,     0,     0,     0,     0,     0,     0,     0,     0,\n",
            "            0,     0,     0,     0,     0,     0,     0,     0,     0,     0,\n",
            "            0,     0,     0,     0,     0,     0,     0,     0,     0,     0,\n",
            "            0,     0,     0,     0,     0,     0,     0,     0,     0,     0,\n",
            "            0,     0,     0,     0,     0,     0,     0,     0,     0,     0,\n",
            "            0,     0,     0,     0,     0,     0,     0,     0])\n",
            "train data samples is 3055\n",
            "valid data samples is 764\n",
            "test data samples is 526\n"
          ]
        }
      ],
      "source": [
        "train_data_ger = german_df_2019.copy()\n",
        "test_data_ger = german_df_2019t.copy()\n",
        "labels = {'HOF': 0, 'NOT': 1}\n",
        "\n",
        "train_data_ger['task_1'] = train_data_ger['task_1'].apply(lambda x: labels[x])\n",
        "test_data_ger['task1'] = test_data_ger['task1'].apply(lambda x: labels[x])\n",
        "\n",
        "tokenizer_ger = BertTokenizer.from_pretrained('bert-base-multilingual-cased')\n",
        "\n",
        "max_length = 0\n",
        "for sentence in train_data_ger['text']:\n",
        "    #print(sentence)\n",
        "    length = len(tokenizer_ger.tokenize(sentence))\n",
        "    if length > max_length:\n",
        "        max_length  = length\n",
        "print(\"max token length in train_data is: \",max_length)\n",
        "\n",
        "sent_index_ger,input_ids_ger,attention_masks_ger = encoder_generator(tokenizer_ger, list(train_data_ger['text']))\n",
        "test_sent_index_ger,test_input_ids_ger,test_attention_masks_ger = encoder_generator(tokenizer_ger, list(test_data_ger['text']))\n",
        "print('Original: ', train_data_ger['text'][0])\n",
        "print('Token IDs:', input_ids_ger[0])\n",
        "dataset_ger = TensorDataset(input_ids_ger,attention_masks_ger,torch.tensor(train_data_ger['task_1']))\n",
        "test_dataset_ger = TensorDataset(test_sent_index_ger,test_input_ids_ger,test_attention_masks_ger,torch.tensor(test_data_ger['task1']))\n",
        "\n",
        "train_size_ger = int(0.8*len(dataset_ger))\n",
        "\n",
        "val_size_ger = len(dataset_ger)-train_size_ger\n",
        "\n",
        "train_dataset_ger,val_dataset_ger = random_split(dataset_ger,[train_size_ger,val_size_ger])\n",
        "\n",
        "print('train data samples is {}'.format(len(train_dataset_ger)))\n",
        "print(\"valid data samples is {}\".format(len(val_dataset_ger)))\n",
        "print(\"test data samples is {}\".format(len(test_dataset_ger)))\n",
        "\n",
        "bs=8\n",
        "\n",
        "train_data_loader_ger = DataLoader(train_dataset_ger,\n",
        "                              sampler=RandomSampler(train_dataset_ger),\n",
        "                              batch_size=bs)\n",
        "valid_data_loader_ger = DataLoader(val_dataset_ger,\n",
        "                              sampler=SequentialSampler(val_dataset_ger),\n",
        "                              batch_size=bs)\n",
        "test_data_loader_ger = DataLoader(test_dataset_ger,\n",
        "                            sampler=SequentialSampler(test_dataset_ger),\n",
        "                            batch_size=bs)\n"
      ]
    },
    {
      "cell_type": "markdown",
      "metadata": {
        "id": "NjRGeYF6HeIc"
      },
      "source": [
        "### Evaluate BERT(English) on German Val Data\n",
        "\n",
        "Bert trained on English and evaluated"
      ]
    },
    {
      "cell_type": "code",
      "execution_count": 57,
      "metadata": {
        "colab": {
          "base_uri": "https://localhost:8080/"
        },
        "id": "ovPASukFG1yA",
        "outputId": "025744e9-4571-4794-9489-ba73d411392a"
      },
      "outputs": [
        {
          "output_type": "stream",
          "name": "stdout",
          "text": [
            "              precision    recall  f1-score   support\n",
            "\n",
            "           0       0.56      0.43      0.49       175\n",
            "           1       0.74      0.83      0.79       351\n",
            "\n",
            "    accuracy                           0.70       526\n",
            "   macro avg       0.65      0.63      0.64       526\n",
            "weighted avg       0.68      0.70      0.69       526\n",
            "\n",
            "accuracy = 0.70\n"
          ]
        }
      ],
      "source": [
        "# if model_ger:\n",
        "#   del model_ger\n",
        "import gc\n",
        "gc.collect()\n",
        "\n",
        "model_ger = torch.load(\"/content/gdrive/MyDrive/NLP Project/model_pt/model_english_task_a.pt\")\n",
        "model_ger = model_ger.to(device)\n",
        "\n",
        "valid_loss_ger,valid_acc_ger,all_sentence_id_ger,all_pred_labels_ger = evaluate_test(model_ger, test_data_loader_ger)"
      ]
    },
    {
      "cell_type": "markdown",
      "metadata": {
        "id": "OtoAnVFkHpsC"
      },
      "source": [
        "###Train Fine tuned BERT (English) for German"
      ]
    },
    {
      "cell_type": "code",
      "execution_count": 58,
      "metadata": {
        "colab": {
          "base_uri": "https://localhost:8080/"
        },
        "id": "BcpIUX3FHrW0",
        "outputId": "1591e1ee-aa97-4d2b-c7fd-34305be0969f"
      },
      "outputs": [
        {
          "output_type": "stream",
          "name": "stderr",
          "text": [
            "/usr/local/lib/python3.7/dist-packages/sklearn/metrics/_classification.py:1308: UndefinedMetricWarning: Recall and F-score are ill-defined and being set to 0.0 in labels with no true samples. Use `zero_division` parameter to control this behavior.\n",
            "  _warn_prf(average, modifier, msg_start, len(result))\n",
            "/usr/local/lib/python3.7/dist-packages/sklearn/metrics/_classification.py:1308: UndefinedMetricWarning: Recall and F-score are ill-defined and being set to 0.0 in labels with no true samples. Use `zero_division` parameter to control this behavior.\n",
            "  _warn_prf(average, modifier, msg_start, len(result))\n",
            "/usr/local/lib/python3.7/dist-packages/sklearn/metrics/_classification.py:1308: UndefinedMetricWarning: Recall and F-score are ill-defined and being set to 0.0 in labels with no true samples. Use `zero_division` parameter to control this behavior.\n",
            "  _warn_prf(average, modifier, msg_start, len(result))\n"
          ]
        },
        {
          "output_type": "stream",
          "name": "stdout",
          "text": [
            "              precision    recall  f1-score   support\n",
            "\n",
            "           0       0.00      0.00      0.00         0\n",
            "           1       1.00      0.90      0.95       764\n",
            "\n",
            "    accuracy                           0.90       764\n",
            "   macro avg       0.50      0.45      0.47       764\n",
            "weighted avg       1.00      0.90      0.95       764\n",
            "\n",
            "accuracy = 0.90\n",
            "Epoch: 01 | Epoch Time: 0m 56s\n",
            "\tTrain Loss: 0.357 | Train Acc: 89.10%\n",
            "\t Val. Loss: 0.330 |  Val. Acc: 90.05%\n"
          ]
        },
        {
          "output_type": "stream",
          "name": "stderr",
          "text": [
            "/usr/local/lib/python3.7/dist-packages/sklearn/metrics/_classification.py:1308: UndefinedMetricWarning: Recall and F-score are ill-defined and being set to 0.0 in labels with no true samples. Use `zero_division` parameter to control this behavior.\n",
            "  _warn_prf(average, modifier, msg_start, len(result))\n",
            "/usr/local/lib/python3.7/dist-packages/sklearn/metrics/_classification.py:1308: UndefinedMetricWarning: Recall and F-score are ill-defined and being set to 0.0 in labels with no true samples. Use `zero_division` parameter to control this behavior.\n",
            "  _warn_prf(average, modifier, msg_start, len(result))\n",
            "/usr/local/lib/python3.7/dist-packages/sklearn/metrics/_classification.py:1308: UndefinedMetricWarning: Recall and F-score are ill-defined and being set to 0.0 in labels with no true samples. Use `zero_division` parameter to control this behavior.\n",
            "  _warn_prf(average, modifier, msg_start, len(result))\n"
          ]
        },
        {
          "output_type": "stream",
          "name": "stdout",
          "text": [
            "              precision    recall  f1-score   support\n",
            "\n",
            "           0       0.00      0.00      0.00         0\n",
            "           1       1.00      0.90      0.95       764\n",
            "\n",
            "    accuracy                           0.90       764\n",
            "   macro avg       0.50      0.45      0.47       764\n",
            "weighted avg       1.00      0.90      0.95       764\n",
            "\n",
            "accuracy = 0.90\n",
            "Epoch: 02 | Epoch Time: 0m 56s\n",
            "\tTrain Loss: 0.349 | Train Acc: 89.17%\n",
            "\t Val. Loss: 0.350 |  Val. Acc: 90.05%\n"
          ]
        },
        {
          "output_type": "stream",
          "name": "stderr",
          "text": [
            "/usr/local/lib/python3.7/dist-packages/sklearn/metrics/_classification.py:1308: UndefinedMetricWarning: Recall and F-score are ill-defined and being set to 0.0 in labels with no true samples. Use `zero_division` parameter to control this behavior.\n",
            "  _warn_prf(average, modifier, msg_start, len(result))\n",
            "/usr/local/lib/python3.7/dist-packages/sklearn/metrics/_classification.py:1308: UndefinedMetricWarning: Recall and F-score are ill-defined and being set to 0.0 in labels with no true samples. Use `zero_division` parameter to control this behavior.\n",
            "  _warn_prf(average, modifier, msg_start, len(result))\n",
            "/usr/local/lib/python3.7/dist-packages/sklearn/metrics/_classification.py:1308: UndefinedMetricWarning: Recall and F-score are ill-defined and being set to 0.0 in labels with no true samples. Use `zero_division` parameter to control this behavior.\n",
            "  _warn_prf(average, modifier, msg_start, len(result))\n"
          ]
        },
        {
          "output_type": "stream",
          "name": "stdout",
          "text": [
            "              precision    recall  f1-score   support\n",
            "\n",
            "           0       0.00      0.00      0.00         0\n",
            "           1       1.00      0.90      0.95       764\n",
            "\n",
            "    accuracy                           0.90       764\n",
            "   macro avg       0.50      0.45      0.47       764\n",
            "weighted avg       1.00      0.90      0.95       764\n",
            "\n",
            "accuracy = 0.90\n",
            "Epoch: 03 | Epoch Time: 0m 56s\n",
            "\tTrain Loss: 0.351 | Train Acc: 89.17%\n",
            "\t Val. Loss: 0.346 |  Val. Acc: 90.05%\n"
          ]
        },
        {
          "output_type": "stream",
          "name": "stderr",
          "text": [
            "/usr/local/lib/python3.7/dist-packages/sklearn/metrics/_classification.py:1308: UndefinedMetricWarning: Recall and F-score are ill-defined and being set to 0.0 in labels with no true samples. Use `zero_division` parameter to control this behavior.\n",
            "  _warn_prf(average, modifier, msg_start, len(result))\n",
            "/usr/local/lib/python3.7/dist-packages/sklearn/metrics/_classification.py:1308: UndefinedMetricWarning: Recall and F-score are ill-defined and being set to 0.0 in labels with no true samples. Use `zero_division` parameter to control this behavior.\n",
            "  _warn_prf(average, modifier, msg_start, len(result))\n",
            "/usr/local/lib/python3.7/dist-packages/sklearn/metrics/_classification.py:1308: UndefinedMetricWarning: Recall and F-score are ill-defined and being set to 0.0 in labels with no true samples. Use `zero_division` parameter to control this behavior.\n",
            "  _warn_prf(average, modifier, msg_start, len(result))\n"
          ]
        },
        {
          "output_type": "stream",
          "name": "stdout",
          "text": [
            "              precision    recall  f1-score   support\n",
            "\n",
            "           0       0.00      0.00      0.00         0\n",
            "           1       1.00      0.90      0.95       764\n",
            "\n",
            "    accuracy                           0.90       764\n",
            "   macro avg       0.50      0.45      0.47       764\n",
            "weighted avg       1.00      0.90      0.95       764\n",
            "\n",
            "accuracy = 0.90\n",
            "Epoch: 04 | Epoch Time: 0m 56s\n",
            "\tTrain Loss: 0.352 | Train Acc: 89.16%\n",
            "\t Val. Loss: 0.338 |  Val. Acc: 90.05%\n"
          ]
        },
        {
          "output_type": "stream",
          "name": "stderr",
          "text": [
            "/usr/local/lib/python3.7/dist-packages/sklearn/metrics/_classification.py:1308: UndefinedMetricWarning: Recall and F-score are ill-defined and being set to 0.0 in labels with no true samples. Use `zero_division` parameter to control this behavior.\n",
            "  _warn_prf(average, modifier, msg_start, len(result))\n",
            "/usr/local/lib/python3.7/dist-packages/sklearn/metrics/_classification.py:1308: UndefinedMetricWarning: Recall and F-score are ill-defined and being set to 0.0 in labels with no true samples. Use `zero_division` parameter to control this behavior.\n",
            "  _warn_prf(average, modifier, msg_start, len(result))\n",
            "/usr/local/lib/python3.7/dist-packages/sklearn/metrics/_classification.py:1308: UndefinedMetricWarning: Recall and F-score are ill-defined and being set to 0.0 in labels with no true samples. Use `zero_division` parameter to control this behavior.\n",
            "  _warn_prf(average, modifier, msg_start, len(result))\n"
          ]
        },
        {
          "output_type": "stream",
          "name": "stdout",
          "text": [
            "              precision    recall  f1-score   support\n",
            "\n",
            "           0       0.00      0.00      0.00         0\n",
            "           1       1.00      0.90      0.95       764\n",
            "\n",
            "    accuracy                           0.90       764\n",
            "   macro avg       0.50      0.45      0.47       764\n",
            "weighted avg       1.00      0.90      0.95       764\n",
            "\n",
            "accuracy = 0.90\n",
            "Epoch: 05 | Epoch Time: 0m 56s\n",
            "\tTrain Loss: 0.346 | Train Acc: 89.17%\n",
            "\t Val. Loss: 0.329 |  Val. Acc: 90.05%\n"
          ]
        },
        {
          "output_type": "stream",
          "name": "stderr",
          "text": [
            "/usr/local/lib/python3.7/dist-packages/sklearn/metrics/_classification.py:1308: UndefinedMetricWarning: Recall and F-score are ill-defined and being set to 0.0 in labels with no true samples. Use `zero_division` parameter to control this behavior.\n",
            "  _warn_prf(average, modifier, msg_start, len(result))\n",
            "/usr/local/lib/python3.7/dist-packages/sklearn/metrics/_classification.py:1308: UndefinedMetricWarning: Recall and F-score are ill-defined and being set to 0.0 in labels with no true samples. Use `zero_division` parameter to control this behavior.\n",
            "  _warn_prf(average, modifier, msg_start, len(result))\n",
            "/usr/local/lib/python3.7/dist-packages/sklearn/metrics/_classification.py:1308: UndefinedMetricWarning: Recall and F-score are ill-defined and being set to 0.0 in labels with no true samples. Use `zero_division` parameter to control this behavior.\n",
            "  _warn_prf(average, modifier, msg_start, len(result))\n"
          ]
        },
        {
          "output_type": "stream",
          "name": "stdout",
          "text": [
            "              precision    recall  f1-score   support\n",
            "\n",
            "           0       0.00      0.00      0.00         0\n",
            "           1       1.00      0.90      0.95       764\n",
            "\n",
            "    accuracy                           0.90       764\n",
            "   macro avg       0.50      0.45      0.47       764\n",
            "weighted avg       1.00      0.90      0.95       764\n",
            "\n",
            "accuracy = 0.90\n",
            "Epoch: 06 | Epoch Time: 0m 56s\n",
            "\tTrain Loss: 0.347 | Train Acc: 89.17%\n",
            "\t Val. Loss: 0.329 |  Val. Acc: 90.05%\n"
          ]
        },
        {
          "output_type": "stream",
          "name": "stderr",
          "text": [
            "/usr/local/lib/python3.7/dist-packages/sklearn/metrics/_classification.py:1308: UndefinedMetricWarning: Recall and F-score are ill-defined and being set to 0.0 in labels with no true samples. Use `zero_division` parameter to control this behavior.\n",
            "  _warn_prf(average, modifier, msg_start, len(result))\n",
            "/usr/local/lib/python3.7/dist-packages/sklearn/metrics/_classification.py:1308: UndefinedMetricWarning: Recall and F-score are ill-defined and being set to 0.0 in labels with no true samples. Use `zero_division` parameter to control this behavior.\n",
            "  _warn_prf(average, modifier, msg_start, len(result))\n",
            "/usr/local/lib/python3.7/dist-packages/sklearn/metrics/_classification.py:1308: UndefinedMetricWarning: Recall and F-score are ill-defined and being set to 0.0 in labels with no true samples. Use `zero_division` parameter to control this behavior.\n",
            "  _warn_prf(average, modifier, msg_start, len(result))\n"
          ]
        },
        {
          "output_type": "stream",
          "name": "stdout",
          "text": [
            "              precision    recall  f1-score   support\n",
            "\n",
            "           0       0.00      0.00      0.00         0\n",
            "           1       1.00      0.90      0.95       764\n",
            "\n",
            "    accuracy                           0.90       764\n",
            "   macro avg       0.50      0.45      0.47       764\n",
            "weighted avg       1.00      0.90      0.95       764\n",
            "\n",
            "accuracy = 0.90\n",
            "Epoch: 07 | Epoch Time: 0m 56s\n",
            "\tTrain Loss: 0.348 | Train Acc: 89.17%\n",
            "\t Val. Loss: 0.329 |  Val. Acc: 90.05%\n"
          ]
        },
        {
          "output_type": "stream",
          "name": "stderr",
          "text": [
            "/usr/local/lib/python3.7/dist-packages/sklearn/metrics/_classification.py:1308: UndefinedMetricWarning: Recall and F-score are ill-defined and being set to 0.0 in labels with no true samples. Use `zero_division` parameter to control this behavior.\n",
            "  _warn_prf(average, modifier, msg_start, len(result))\n",
            "/usr/local/lib/python3.7/dist-packages/sklearn/metrics/_classification.py:1308: UndefinedMetricWarning: Recall and F-score are ill-defined and being set to 0.0 in labels with no true samples. Use `zero_division` parameter to control this behavior.\n",
            "  _warn_prf(average, modifier, msg_start, len(result))\n",
            "/usr/local/lib/python3.7/dist-packages/sklearn/metrics/_classification.py:1308: UndefinedMetricWarning: Recall and F-score are ill-defined and being set to 0.0 in labels with no true samples. Use `zero_division` parameter to control this behavior.\n",
            "  _warn_prf(average, modifier, msg_start, len(result))\n"
          ]
        },
        {
          "output_type": "stream",
          "name": "stdout",
          "text": [
            "              precision    recall  f1-score   support\n",
            "\n",
            "           0       0.00      0.00      0.00         0\n",
            "           1       1.00      0.90      0.95       764\n",
            "\n",
            "    accuracy                           0.90       764\n",
            "   macro avg       0.50      0.45      0.47       764\n",
            "weighted avg       1.00      0.90      0.95       764\n",
            "\n",
            "accuracy = 0.90\n",
            "Epoch: 08 | Epoch Time: 0m 56s\n",
            "\tTrain Loss: 0.346 | Train Acc: 89.16%\n",
            "\t Val. Loss: 0.329 |  Val. Acc: 90.05%\n"
          ]
        },
        {
          "output_type": "stream",
          "name": "stderr",
          "text": [
            "/usr/local/lib/python3.7/dist-packages/sklearn/metrics/_classification.py:1308: UndefinedMetricWarning: Recall and F-score are ill-defined and being set to 0.0 in labels with no true samples. Use `zero_division` parameter to control this behavior.\n",
            "  _warn_prf(average, modifier, msg_start, len(result))\n",
            "/usr/local/lib/python3.7/dist-packages/sklearn/metrics/_classification.py:1308: UndefinedMetricWarning: Recall and F-score are ill-defined and being set to 0.0 in labels with no true samples. Use `zero_division` parameter to control this behavior.\n",
            "  _warn_prf(average, modifier, msg_start, len(result))\n",
            "/usr/local/lib/python3.7/dist-packages/sklearn/metrics/_classification.py:1308: UndefinedMetricWarning: Recall and F-score are ill-defined and being set to 0.0 in labels with no true samples. Use `zero_division` parameter to control this behavior.\n",
            "  _warn_prf(average, modifier, msg_start, len(result))\n"
          ]
        },
        {
          "output_type": "stream",
          "name": "stdout",
          "text": [
            "              precision    recall  f1-score   support\n",
            "\n",
            "           0       0.00      0.00      0.00         0\n",
            "           1       1.00      0.90      0.95       764\n",
            "\n",
            "    accuracy                           0.90       764\n",
            "   macro avg       0.50      0.45      0.47       764\n",
            "weighted avg       1.00      0.90      0.95       764\n",
            "\n",
            "accuracy = 0.90\n",
            "Epoch: 09 | Epoch Time: 0m 56s\n",
            "\tTrain Loss: 0.346 | Train Acc: 89.16%\n",
            "\t Val. Loss: 0.329 |  Val. Acc: 90.05%\n",
            "              precision    recall  f1-score   support\n",
            "\n",
            "           0       0.00      0.00      0.00         0\n",
            "           1       1.00      0.90      0.95       764\n",
            "\n",
            "    accuracy                           0.90       764\n",
            "   macro avg       0.50      0.45      0.47       764\n",
            "weighted avg       1.00      0.90      0.95       764\n",
            "\n",
            "accuracy = 0.90\n",
            "Epoch: 10 | Epoch Time: 0m 56s\n",
            "\tTrain Loss: 0.346 | Train Acc: 89.16%\n",
            "\t Val. Loss: 0.329 |  Val. Acc: 90.05%\n"
          ]
        },
        {
          "output_type": "stream",
          "name": "stderr",
          "text": [
            "/usr/local/lib/python3.7/dist-packages/sklearn/metrics/_classification.py:1308: UndefinedMetricWarning: Recall and F-score are ill-defined and being set to 0.0 in labels with no true samples. Use `zero_division` parameter to control this behavior.\n",
            "  _warn_prf(average, modifier, msg_start, len(result))\n",
            "/usr/local/lib/python3.7/dist-packages/sklearn/metrics/_classification.py:1308: UndefinedMetricWarning: Recall and F-score are ill-defined and being set to 0.0 in labels with no true samples. Use `zero_division` parameter to control this behavior.\n",
            "  _warn_prf(average, modifier, msg_start, len(result))\n",
            "/usr/local/lib/python3.7/dist-packages/sklearn/metrics/_classification.py:1308: UndefinedMetricWarning: Recall and F-score are ill-defined and being set to 0.0 in labels with no true samples. Use `zero_division` parameter to control this behavior.\n",
            "  _warn_prf(average, modifier, msg_start, len(result))\n"
          ]
        }
      ],
      "source": [
        "# if model_eng:\n",
        "#   del model_eng\n",
        "\n",
        "if not FREEZE:\n",
        "\n",
        "  import gc\n",
        "  gc.collect()\n",
        "\n",
        "  model_eng = torch.load('/content/gdrive/MyDrive/NLP Project/model_pt/model_english_task_a.pt')\n",
        "  model_eng = model_eng.to(device)\n",
        "\n",
        "  optimizer_ger = AdamW(model_eng.parameters(),lr=2e-5,eps=1e-8)\n",
        "\n",
        "  epochs=10\n",
        "  total_steps = len(train_data_loader_ger) * epochs\n",
        "\n",
        "  scheduler = get_linear_schedule_with_warmup(optimizer_ger,\n",
        "                                            num_warmup_steps=0,\n",
        "                                            num_training_steps=total_steps)\n",
        "\n",
        "  total_t0 = time.time()\n",
        "\n",
        "  seed_val = 42\n",
        "\n",
        "  random.seed(seed_val)\n",
        "  np.random.seed(seed_val)\n",
        "  torch.manual_seed(seed_val)\n",
        "  torch.cuda.manual_seed_all(seed_val)\n",
        "\n",
        "  epochs = 10\n",
        "\n",
        "  best_macro_f1 = float('0')\n",
        "  train_acc_eng_ger = []\n",
        "  val_acc_eng_ger = []\n",
        "  train_loss_eng_ger=[]\n",
        "  val_loss_eng_ger=[]\n",
        "\n",
        "  for epoch in range(epochs):\n",
        "      \n",
        "      start_time = time.time()\n",
        "      train_loss,train_acc = train(model_eng, train_data_loader_ger, optimizer_ger)\n",
        "      valid_loss,valid_acc,macro_f1 = evaluate(model_eng, valid_data_loader_ger)\n",
        "      \n",
        "      end_time = time.time()\n",
        "          \n",
        "      epoch_mins, epoch_secs = epoch_time(start_time, end_time)\n",
        "          \n",
        "      if macro_f1 > best_macro_f1:\n",
        "          best_macro_f1 = macro_f1\n",
        "          torch.save(model_eng,\"/content/gdrive/MyDrive/NLP Project/model_pt/model_english_german_task_a.pt\")\n",
        "      \n",
        "      print(f'Epoch: {epoch+1:02} | Epoch Time: {epoch_mins}m {epoch_secs}s')\n",
        "      print(f'\\tTrain Loss: {train_loss:.3f} | Train Acc: {train_acc*100:.2f}%')\n",
        "      print(f'\\t Val. Loss: {valid_loss:.3f} |  Val. Acc: {valid_acc*100:.2f}%')\n",
        "      train_acc_eng_ger.append(train_acc*100)\n",
        "      val_acc_eng_ger.append(valid_acc*100)\n",
        "      train_loss_eng_ger.append(train_loss*100)\n",
        "      val_loss_eng_ger.append(valid_loss*100)"
      ]
    },
    {
      "cell_type": "code",
      "execution_count": 59,
      "metadata": {
        "colab": {
          "base_uri": "https://localhost:8080/",
          "height": 642
        },
        "id": "LBKu1GuUJ-ul",
        "outputId": "2279646f-3214-467a-92ee-894c9a05c310"
      },
      "outputs": [
        {
          "output_type": "display_data",
          "data": {
            "image/png": "[encoded data removed]",
            "text/plain": [
              "<Figure size 432x288 with 1 Axes>"
            ]
          },
          "metadata": {
            "needs_background": "light"
          }
        },
        {
          "output_type": "stream",
          "name": "stdout",
          "text": [
            "89.15996634367248\n",
            "90.0523560209424\n"
          ]
        },
        {
          "output_type": "display_data",
          "data": {
            "image/png": "[encoded data removed]",
            "text/plain": [
              "<Figure size 432x288 with 1 Axes>"
            ]
          },
          "metadata": {
            "needs_background": "light"
          }
        },
        {
          "output_type": "stream",
          "name": "stdout",
          "text": [
            "34.89639653599972\n",
            "33.366165184415884\n"
          ]
        }
      ],
      "source": [
        "if not FREEZE:\n",
        "  plot_vc(train_acc_eng_ger, val_acc_eng_ger)\n",
        "  print(np.mean(train_acc_eng_ger))\n",
        "  print(np.mean(val_acc_eng_ger))\n",
        "\n",
        "  plot_lc(train_loss_eng_ger, val_loss_eng_ger)\n",
        "  print(np.mean(train_loss_eng_ger))\n",
        "  print(np.mean(val_loss_eng_ger))"
      ]
    },
    {
      "cell_type": "markdown",
      "metadata": {
        "id": "rKMRQRDvIAhM"
      },
      "source": [
        "###Evaluate BERT Eng->GER"
      ]
    },
    {
      "cell_type": "code",
      "execution_count": 60,
      "metadata": {
        "colab": {
          "base_uri": "https://localhost:8080/"
        },
        "id": "YBGB05XFHqlW",
        "outputId": "75337c87-f945-41c3-c7cc-93ba2c6ff62c"
      },
      "outputs": [
        {
          "output_type": "stream",
          "name": "stdout",
          "text": [
            "              precision    recall  f1-score   support\n",
            "\n",
            "           0       0.00      0.00      0.00         0\n",
            "           1       1.00      0.75      0.85       526\n",
            "\n",
            "    accuracy                           0.75       526\n",
            "   macro avg       0.50      0.37      0.43       526\n",
            "weighted avg       1.00      0.75      0.85       526\n",
            "\n",
            "accuracy = 0.75\n"
          ]
        },
        {
          "output_type": "stream",
          "name": "stderr",
          "text": [
            "/usr/local/lib/python3.7/dist-packages/sklearn/metrics/_classification.py:1308: UndefinedMetricWarning: Recall and F-score are ill-defined and being set to 0.0 in labels with no true samples. Use `zero_division` parameter to control this behavior.\n",
            "  _warn_prf(average, modifier, msg_start, len(result))\n",
            "/usr/local/lib/python3.7/dist-packages/sklearn/metrics/_classification.py:1308: UndefinedMetricWarning: Recall and F-score are ill-defined and being set to 0.0 in labels with no true samples. Use `zero_division` parameter to control this behavior.\n",
            "  _warn_prf(average, modifier, msg_start, len(result))\n",
            "/usr/local/lib/python3.7/dist-packages/sklearn/metrics/_classification.py:1308: UndefinedMetricWarning: Recall and F-score are ill-defined and being set to 0.0 in labels with no true samples. Use `zero_division` parameter to control this behavior.\n",
            "  _warn_prf(average, modifier, msg_start, len(result))\n"
          ]
        }
      ],
      "source": [
        "# if model_ger:\n",
        "#   del model_ger\n",
        "import gc\n",
        "gc.collect()\n",
        "\n",
        "model_ger = torch.load(\"/content/gdrive/MyDrive/NLP Project/model_pt/model_english_german_task_a.pt\")\n",
        "model_ger = model_ger.to(device)\n",
        "\n",
        "valid_loss_ger,valid_acc_ger,all_sentence_id_ger,all_pred_labels_ger = evaluate_test(model_ger, test_data_loader_ger)"
      ]
    },
    {
      "cell_type": "markdown",
      "metadata": {
        "id": "oTwrKjVeNQlL"
      },
      "source": [
        "## TODO\n",
        "\n",
        "\n",
        "\n",
        "*   Plot loss curve instead of accuracy curve [DONE]\n",
        "*   Verify the code flow and variable names [DONE]\n",
        "\n",
        "---\n",
        "\n",
        "*   Data Augmentation [TBD]\n",
        "\n",
        "\n",
        "\n",
        "\n"
      ]
    },
    {
      "cell_type": "code",
      "execution_count": null,
      "metadata": {
        "id": "OWwtptsgNEbS"
      },
      "outputs": [],
      "source": [
        ""
      ]
    }
  ],
  "metadata": {
    "accelerator": "GPU",
    "colab": {
      "collapsed_sections": [
        "j5f8wsIcTCTk",
        "OtVjzg2eS7Pv",
        "zSA_yRx5Tv3H",
        "E3zT94M-XR0E",
        "X7LpwpajHZWV"
      ],
      "machine_shape": "hm",
      "name": "Copy of NLP_Project_Eng_Spa_Ger.ipynb",
      "provenance": []
    },
    "kernelspec": {
      "display_name": "Python 3",
      "name": "python3"
    },
    "language_info": {
      "name": "python"
    },
    "widgets": {
      "application/vnd.jupyter.widget-state+json": {
        "5a16d43f1bb145cf809c352a13feb47e": {
          "model_module": "@jupyter-widgets/controls",
          "model_name": "HBoxModel",
          "model_module_version": "1.5.0",
          "state": {
            "_view_name": "HBoxView",
            "_dom_classes": [],
            "_model_name": "HBoxModel",
            "_view_module": "@jupyter-widgets/controls",
            "_model_module_version": "1.5.0",
            "_view_count": null,
            "_view_module_version": "1.5.0",
            "box_style": "",
            "layout": "IPY_MODEL_8f0a0084b80241cdb79572c594d8a2e5",
            "_model_module": "@jupyter-widgets/controls",
            "children": [
              "IPY_MODEL_963fad0bd5d5405b9070f1beafb0e4be",
              "IPY_MODEL_5c2ab90cf54b423e8b5741f23e8dfef3",
              "IPY_MODEL_c629e24cd3b14fd5b1f2806715bd5d03"
            ]
          }
        },
        "8f0a0084b80241cdb79572c594d8a2e5": {
          "model_module": "@jupyter-widgets/base",
          "model_name": "LayoutModel",
          "model_module_version": "1.2.0",
          "state": {
            "_view_name": "LayoutView",
            "grid_template_rows": null,
            "right": null,
            "justify_content": null,
            "_view_module": "@jupyter-widgets/base",
            "overflow": null,
            "_model_module_version": "1.2.0",
            "_view_count": null,
            "flex_flow": null,
            "width": null,
            "min_width": null,
            "border": null,
            "align_items": null,
            "bottom": null,
            "_model_module": "@jupyter-widgets/base",
            "top": null,
            "grid_column": null,
            "overflow_y": null,
            "overflow_x": null,
            "grid_auto_flow": null,
            "grid_area": null,
            "grid_template_columns": null,
            "flex": null,
            "_model_name": "LayoutModel",
            "justify_items": null,
            "grid_row": null,
            "max_height": null,
            "align_content": null,
            "visibility": null,
            "align_self": null,
            "height": null,
            "min_height": null,
            "padding": null,
            "grid_auto_rows": null,
            "grid_gap": null,
            "max_width": null,
            "order": null,
            "_view_module_version": "1.2.0",
            "grid_template_areas": null,
            "object_position": null,
            "object_fit": null,
            "grid_auto_columns": null,
            "margin": null,
            "display": null,
            "left": null
          }
        },
        "963fad0bd5d5405b9070f1beafb0e4be": {
          "model_module": "@jupyter-widgets/controls",
          "model_name": "HTMLModel",
          "model_module_version": "1.5.0",
          "state": {
            "_view_name": "HTMLView",
            "style": "IPY_MODEL_a6aa5fb618cf4ac6a8f69aafe2c6415f",
            "_dom_classes": [],
            "description": "",
            "_model_name": "HTMLModel",
            "placeholder": "​",
            "_view_module": "@jupyter-widgets/controls",
            "_model_module_version": "1.5.0",
            "value": "Downloading: 100%",
            "_view_count": null,
            "_view_module_version": "1.5.0",
            "description_tooltip": null,
            "_model_module": "@jupyter-widgets/controls",
            "layout": "IPY_MODEL_5739f6ce39d545bfafa3edb43c9586ba"
          }
        },
        "5c2ab90cf54b423e8b5741f23e8dfef3": {
          "model_module": "@jupyter-widgets/controls",
          "model_name": "FloatProgressModel",
          "model_module_version": "1.5.0",
          "state": {
            "_view_name": "ProgressView",
            "style": "IPY_MODEL_0d8472c216eb40efbec941e2b1f09c6e",
            "_dom_classes": [],
            "description": "",
            "_model_name": "FloatProgressModel",
            "bar_style": "success",
            "max": 231508,
            "_view_module": "@jupyter-widgets/controls",
            "_model_module_version": "1.5.0",
            "value": 231508,
            "_view_count": null,
            "_view_module_version": "1.5.0",
            "orientation": "horizontal",
            "min": 0,
            "description_tooltip": null,
            "_model_module": "@jupyter-widgets/controls",
            "layout": "IPY_MODEL_5a547fa6b4184b67a51ba2ee6bbdd8a5"
          }
        },
        "c629e24cd3b14fd5b1f2806715bd5d03": {
          "model_module": "@jupyter-widgets/controls",
          "model_name": "HTMLModel",
          "model_module_version": "1.5.0",
          "state": {
            "_view_name": "HTMLView",
            "style": "IPY_MODEL_ffe532a687524ea78ad243cde04adb18",
            "_dom_classes": [],
            "description": "",
            "_model_name": "HTMLModel",
            "placeholder": "​",
            "_view_module": "@jupyter-widgets/controls",
            "_model_module_version": "1.5.0",
            "value": " 226k/226k [00:00&lt;00:00, 881kB/s]",
            "_view_count": null,
            "_view_module_version": "1.5.0",
            "description_tooltip": null,
            "_model_module": "@jupyter-widgets/controls",
            "layout": "IPY_MODEL_3914a2896aeb43ab89f7a3074cf8d908"
          }
        },
        "a6aa5fb618cf4ac6a8f69aafe2c6415f": {
          "model_module": "@jupyter-widgets/controls",
          "model_name": "DescriptionStyleModel",
          "model_module_version": "1.5.0",
          "state": {
            "_view_name": "StyleView",
            "_model_name": "DescriptionStyleModel",
            "description_width": "",
            "_view_module": "@jupyter-widgets/base",
            "_model_module_version": "1.5.0",
            "_view_count": null,
            "_view_module_version": "1.2.0",
            "_model_module": "@jupyter-widgets/controls"
          }
        },
        "5739f6ce39d545bfafa3edb43c9586ba": {
          "model_module": "@jupyter-widgets/base",
          "model_name": "LayoutModel",
          "model_module_version": "1.2.0",
          "state": {
            "_view_name": "LayoutView",
            "grid_template_rows": null,
            "right": null,
            "justify_content": null,
            "_view_module": "@jupyter-widgets/base",
            "overflow": null,
            "_model_module_version": "1.2.0",
            "_view_count": null,
            "flex_flow": null,
            "width": null,
            "min_width": null,
            "border": null,
            "align_items": null,
            "bottom": null,
            "_model_module": "@jupyter-widgets/base",
            "top": null,
            "grid_column": null,
            "overflow_y": null,
            "overflow_x": null,
            "grid_auto_flow": null,
            "grid_area": null,
            "grid_template_columns": null,
            "flex": null,
            "_model_name": "LayoutModel",
            "justify_items": null,
            "grid_row": null,
            "max_height": null,
            "align_content": null,
            "visibility": null,
            "align_self": null,
            "height": null,
            "min_height": null,
            "padding": null,
            "grid_auto_rows": null,
            "grid_gap": null,
            "max_width": null,
            "order": null,
            "_view_module_version": "1.2.0",
            "grid_template_areas": null,
            "object_position": null,
            "object_fit": null,
            "grid_auto_columns": null,
            "margin": null,
            "display": null,
            "left": null
          }
        },
        "0d8472c216eb40efbec941e2b1f09c6e": {
          "model_module": "@jupyter-widgets/controls",
          "model_name": "ProgressStyleModel",
          "model_module_version": "1.5.0",
          "state": {
            "_view_name": "StyleView",
            "_model_name": "ProgressStyleModel",
            "description_width": "",
            "_view_module": "@jupyter-widgets/base",
            "_model_module_version": "1.5.0",
            "_view_count": null,
            "_view_module_version": "1.2.0",
            "bar_color": null,
            "_model_module": "@jupyter-widgets/controls"
          }
        },
        "5a547fa6b4184b67a51ba2ee6bbdd8a5": {
          "model_module": "@jupyter-widgets/base",
          "model_name": "LayoutModel",
          "model_module_version": "1.2.0",
          "state": {
            "_view_name": "LayoutView",
            "grid_template_rows": null,
            "right": null,
            "justify_content": null,
            "_view_module": "@jupyter-widgets/base",
            "overflow": null,
            "_model_module_version": "1.2.0",
            "_view_count": null,
            "flex_flow": null,
            "width": null,
            "min_width": null,
            "border": null,
            "align_items": null,
            "bottom": null,
            "_model_module": "@jupyter-widgets/base",
            "top": null,
            "grid_column": null,
            "overflow_y": null,
            "overflow_x": null,
            "grid_auto_flow": null,
            "grid_area": null,
            "grid_template_columns": null,
            "flex": null,
            "_model_name": "LayoutModel",
            "justify_items": null,
            "grid_row": null,
            "max_height": null,
            "align_content": null,
            "visibility": null,
            "align_self": null,
            "height": null,
            "min_height": null,
            "padding": null,
            "grid_auto_rows": null,
            "grid_gap": null,
            "max_width": null,
            "order": null,
            "_view_module_version": "1.2.0",
            "grid_template_areas": null,
            "object_position": null,
            "object_fit": null,
            "grid_auto_columns": null,
            "margin": null,
            "display": null,
            "left": null
          }
        },
        "ffe532a687524ea78ad243cde04adb18": {
          "model_module": "@jupyter-widgets/controls",
          "model_name": "DescriptionStyleModel",
          "model_module_version": "1.5.0",
          "state": {
            "_view_name": "StyleView",
            "_model_name": "DescriptionStyleModel",
            "description_width": "",
            "_view_module": "@jupyter-widgets/base",
            "_model_module_version": "1.5.0",
            "_view_count": null,
            "_view_module_version": "1.2.0",
            "_model_module": "@jupyter-widgets/controls"
          }
        },
        "3914a2896aeb43ab89f7a3074cf8d908": {
          "model_module": "@jupyter-widgets/base",
          "model_name": "LayoutModel",
          "model_module_version": "1.2.0",
          "state": {
            "_view_name": "LayoutView",
            "grid_template_rows": null,
            "right": null,
            "justify_content": null,
            "_view_module": "@jupyter-widgets/base",
            "overflow": null,
            "_model_module_version": "1.2.0",
            "_view_count": null,
            "flex_flow": null,
            "width": null,
            "min_width": null,
            "border": null,
            "align_items": null,
            "bottom": null,
            "_model_module": "@jupyter-widgets/base",
            "top": null,
            "grid_column": null,
            "overflow_y": null,
            "overflow_x": null,
            "grid_auto_flow": null,
            "grid_area": null,
            "grid_template_columns": null,
            "flex": null,
            "_model_name": "LayoutModel",
            "justify_items": null,
            "grid_row": null,
            "max_height": null,
            "align_content": null,
            "visibility": null,
            "align_self": null,
            "height": null,
            "min_height": null,
            "padding": null,
            "grid_auto_rows": null,
            "grid_gap": null,
            "max_width": null,
            "order": null,
            "_view_module_version": "1.2.0",
            "grid_template_areas": null,
            "object_position": null,
            "object_fit": null,
            "grid_auto_columns": null,
            "margin": null,
            "display": null,
            "left": null
          }
        },
        "ba5824c7c41e4bc4845b172cb90f8119": {
          "model_module": "@jupyter-widgets/controls",
          "model_name": "HBoxModel",
          "model_module_version": "1.5.0",
          "state": {
            "_view_name": "HBoxView",
            "_dom_classes": [],
            "_model_name": "HBoxModel",
            "_view_module": "@jupyter-widgets/controls",
            "_model_module_version": "1.5.0",
            "_view_count": null,
            "_view_module_version": "1.5.0",
            "box_style": "",
            "layout": "IPY_MODEL_63e44e88faa54572b2575c786a4c1828",
            "_model_module": "@jupyter-widgets/controls",
            "children": [
              "IPY_MODEL_8c705de504c74e93adf825a3da151769",
              "IPY_MODEL_8c5f90ff4c07467d97c96664b8e9d20c",
              "IPY_MODEL_59a2cd74f68c484d8aef9e80aa805901"
            ]
          }
        },
        "63e44e88faa54572b2575c786a4c1828": {
          "model_module": "@jupyter-widgets/base",
          "model_name": "LayoutModel",
          "model_module_version": "1.2.0",
          "state": {
            "_view_name": "LayoutView",
            "grid_template_rows": null,
            "right": null,
            "justify_content": null,
            "_view_module": "@jupyter-widgets/base",
            "overflow": null,
            "_model_module_version": "1.2.0",
            "_view_count": null,
            "flex_flow": null,
            "width": null,
            "min_width": null,
            "border": null,
            "align_items": null,
            "bottom": null,
            "_model_module": "@jupyter-widgets/base",
            "top": null,
            "grid_column": null,
            "overflow_y": null,
            "overflow_x": null,
            "grid_auto_flow": null,
            "grid_area": null,
            "grid_template_columns": null,
            "flex": null,
            "_model_name": "LayoutModel",
            "justify_items": null,
            "grid_row": null,
            "max_height": null,
            "align_content": null,
            "visibility": null,
            "align_self": null,
            "height": null,
            "min_height": null,
            "padding": null,
            "grid_auto_rows": null,
            "grid_gap": null,
            "max_width": null,
            "order": null,
            "_view_module_version": "1.2.0",
            "grid_template_areas": null,
            "object_position": null,
            "object_fit": null,
            "grid_auto_columns": null,
            "margin": null,
            "display": null,
            "left": null
          }
        },
        "8c705de504c74e93adf825a3da151769": {
          "model_module": "@jupyter-widgets/controls",
          "model_name": "HTMLModel",
          "model_module_version": "1.5.0",
          "state": {
            "_view_name": "HTMLView",
            "style": "IPY_MODEL_f5fcc007dbd44daa90b4d9ae88ead6bb",
            "_dom_classes": [],
            "description": "",
            "_model_name": "HTMLModel",
            "placeholder": "​",
            "_view_module": "@jupyter-widgets/controls",
            "_model_module_version": "1.5.0",
            "value": "Downloading: 100%",
            "_view_count": null,
            "_view_module_version": "1.5.0",
            "description_tooltip": null,
            "_model_module": "@jupyter-widgets/controls",
            "layout": "IPY_MODEL_a65e7b75bef049ab93709b9c4926e950"
          }
        },
        "8c5f90ff4c07467d97c96664b8e9d20c": {
          "model_module": "@jupyter-widgets/controls",
          "model_name": "FloatProgressModel",
          "model_module_version": "1.5.0",
          "state": {
            "_view_name": "ProgressView",
            "style": "IPY_MODEL_77ddfb0e6514424e9822d9fd40336af6",
            "_dom_classes": [],
            "description": "",
            "_model_name": "FloatProgressModel",
            "bar_style": "success",
            "max": 28,
            "_view_module": "@jupyter-widgets/controls",
            "_model_module_version": "1.5.0",
            "value": 28,
            "_view_count": null,
            "_view_module_version": "1.5.0",
            "orientation": "horizontal",
            "min": 0,
            "description_tooltip": null,
            "_model_module": "@jupyter-widgets/controls",
            "layout": "IPY_MODEL_3b2168d955ef4759a97982bdfa625c9a"
          }
        },
        "59a2cd74f68c484d8aef9e80aa805901": {
          "model_module": "@jupyter-widgets/controls",
          "model_name": "HTMLModel",
          "model_module_version": "1.5.0",
          "state": {
            "_view_name": "HTMLView",
            "style": "IPY_MODEL_7dbc529076c64d9b8ed03906016f948f",
            "_dom_classes": [],
            "description": "",
            "_model_name": "HTMLModel",
            "placeholder": "​",
            "_view_module": "@jupyter-widgets/controls",
            "_model_module_version": "1.5.0",
            "value": " 28.0/28.0 [00:00&lt;00:00, 1.10kB/s]",
            "_view_count": null,
            "_view_module_version": "1.5.0",
            "description_tooltip": null,
            "_model_module": "@jupyter-widgets/controls",
            "layout": "IPY_MODEL_38cd233bc7944c46a3eefb7792d4263e"
          }
        },
        "f5fcc007dbd44daa90b4d9ae88ead6bb": {
          "model_module": "@jupyter-widgets/controls",
          "model_name": "DescriptionStyleModel",
          "model_module_version": "1.5.0",
          "state": {
            "_view_name": "StyleView",
            "_model_name": "DescriptionStyleModel",
            "description_width": "",
            "_view_module": "@jupyter-widgets/base",
            "_model_module_version": "1.5.0",
            "_view_count": null,
            "_view_module_version": "1.2.0",
            "_model_module": "@jupyter-widgets/controls"
          }
        },
        "a65e7b75bef049ab93709b9c4926e950": {
          "model_module": "@jupyter-widgets/base",
          "model_name": "LayoutModel",
          "model_module_version": "1.2.0",
          "state": {
            "_view_name": "LayoutView",
            "grid_template_rows": null,
            "right": null,
            "justify_content": null,
            "_view_module": "@jupyter-widgets/base",
            "overflow": null,
            "_model_module_version": "1.2.0",
            "_view_count": null,
            "flex_flow": null,
            "width": null,
            "min_width": null,
            "border": null,
            "align_items": null,
            "bottom": null,
            "_model_module": "@jupyter-widgets/base",
            "top": null,
            "grid_column": null,
            "overflow_y": null,
            "overflow_x": null,
            "grid_auto_flow": null,
            "grid_area": null,
            "grid_template_columns": null,
            "flex": null,
            "_model_name": "LayoutModel",
            "justify_items": null,
            "grid_row": null,
            "max_height": null,
            "align_content": null,
            "visibility": null,
            "align_self": null,
            "height": null,
            "min_height": null,
            "padding": null,
            "grid_auto_rows": null,
            "grid_gap": null,
            "max_width": null,
            "order": null,
            "_view_module_version": "1.2.0",
            "grid_template_areas": null,
            "object_position": null,
            "object_fit": null,
            "grid_auto_columns": null,
            "margin": null,
            "display": null,
            "left": null
          }
        },
        "77ddfb0e6514424e9822d9fd40336af6": {
          "model_module": "@jupyter-widgets/controls",
          "model_name": "ProgressStyleModel",
          "model_module_version": "1.5.0",
          "state": {
            "_view_name": "StyleView",
            "_model_name": "ProgressStyleModel",
            "description_width": "",
            "_view_module": "@jupyter-widgets/base",
            "_model_module_version": "1.5.0",
            "_view_count": null,
            "_view_module_version": "1.2.0",
            "bar_color": null,
            "_model_module": "@jupyter-widgets/controls"
          }
        },
        "3b2168d955ef4759a97982bdfa625c9a": {
          "model_module": "@jupyter-widgets/base",
          "model_name": "LayoutModel",
          "model_module_version": "1.2.0",
          "state": {
            "_view_name": "LayoutView",
            "grid_template_rows": null,
            "right": null,
            "justify_content": null,
            "_view_module": "@jupyter-widgets/base",
            "overflow": null,
            "_model_module_version": "1.2.0",
            "_view_count": null,
            "flex_flow": null,
            "width": null,
            "min_width": null,
            "border": null,
            "align_items": null,
            "bottom": null,
            "_model_module": "@jupyter-widgets/base",
            "top": null,
            "grid_column": null,
            "overflow_y": null,
            "overflow_x": null,
            "grid_auto_flow": null,
            "grid_area": null,
            "grid_template_columns": null,
            "flex": null,
            "_model_name": "LayoutModel",
            "justify_items": null,
            "grid_row": null,
            "max_height": null,
            "align_content": null,
            "visibility": null,
            "align_self": null,
            "height": null,
            "min_height": null,
            "padding": null,
            "grid_auto_rows": null,
            "grid_gap": null,
            "max_width": null,
            "order": null,
            "_view_module_version": "1.2.0",
            "grid_template_areas": null,
            "object_position": null,
            "object_fit": null,
            "grid_auto_columns": null,
            "margin": null,
            "display": null,
            "left": null
          }
        },
        "7dbc529076c64d9b8ed03906016f948f": {
          "model_module": "@jupyter-widgets/controls",
          "model_name": "DescriptionStyleModel",
          "model_module_version": "1.5.0",
          "state": {
            "_view_name": "StyleView",
            "_model_name": "DescriptionStyleModel",
            "description_width": "",
            "_view_module": "@jupyter-widgets/base",
            "_model_module_version": "1.5.0",
            "_view_count": null,
            "_view_module_version": "1.2.0",
            "_model_module": "@jupyter-widgets/controls"
          }
        },
        "38cd233bc7944c46a3eefb7792d4263e": {
          "model_module": "@jupyter-widgets/base",
          "model_name": "LayoutModel",
          "model_module_version": "1.2.0",
          "state": {
            "_view_name": "LayoutView",
            "grid_template_rows": null,
            "right": null,
            "justify_content": null,
            "_view_module": "@jupyter-widgets/base",
            "overflow": null,
            "_model_module_version": "1.2.0",
            "_view_count": null,
            "flex_flow": null,
            "width": null,
            "min_width": null,
            "border": null,
            "align_items": null,
            "bottom": null,
            "_model_module": "@jupyter-widgets/base",
            "top": null,
            "grid_column": null,
            "overflow_y": null,
            "overflow_x": null,
            "grid_auto_flow": null,
            "grid_area": null,
            "grid_template_columns": null,
            "flex": null,
            "_model_name": "LayoutModel",
            "justify_items": null,
            "grid_row": null,
            "max_height": null,
            "align_content": null,
            "visibility": null,
            "align_self": null,
            "height": null,
            "min_height": null,
            "padding": null,
            "grid_auto_rows": null,
            "grid_gap": null,
            "max_width": null,
            "order": null,
            "_view_module_version": "1.2.0",
            "grid_template_areas": null,
            "object_position": null,
            "object_fit": null,
            "grid_auto_columns": null,
            "margin": null,
            "display": null,
            "left": null
          }
        },
        "da524d32fc924c36910aacd760ff5503": {
          "model_module": "@jupyter-widgets/controls",
          "model_name": "HBoxModel",
          "model_module_version": "1.5.0",
          "state": {
            "_view_name": "HBoxView",
            "_dom_classes": [],
            "_model_name": "HBoxModel",
            "_view_module": "@jupyter-widgets/controls",
            "_model_module_version": "1.5.0",
            "_view_count": null,
            "_view_module_version": "1.5.0",
            "box_style": "",
            "layout": "IPY_MODEL_c4c65019b16c4f9d88dbe367eb4e9bec",
            "_model_module": "@jupyter-widgets/controls",
            "children": [
              "IPY_MODEL_fc5d371640af4ead9c042d23656d519c",
              "IPY_MODEL_afdd7500178945d4b325793958e45406",
              "IPY_MODEL_db1e53808a584570883bbebc5ce00a97"
            ]
          }
        },
        "c4c65019b16c4f9d88dbe367eb4e9bec": {
          "model_module": "@jupyter-widgets/base",
          "model_name": "LayoutModel",
          "model_module_version": "1.2.0",
          "state": {
            "_view_name": "LayoutView",
            "grid_template_rows": null,
            "right": null,
            "justify_content": null,
            "_view_module": "@jupyter-widgets/base",
            "overflow": null,
            "_model_module_version": "1.2.0",
            "_view_count": null,
            "flex_flow": null,
            "width": null,
            "min_width": null,
            "border": null,
            "align_items": null,
            "bottom": null,
            "_model_module": "@jupyter-widgets/base",
            "top": null,
            "grid_column": null,
            "overflow_y": null,
            "overflow_x": null,
            "grid_auto_flow": null,
            "grid_area": null,
            "grid_template_columns": null,
            "flex": null,
            "_model_name": "LayoutModel",
            "justify_items": null,
            "grid_row": null,
            "max_height": null,
            "align_content": null,
            "visibility": null,
            "align_self": null,
            "height": null,
            "min_height": null,
            "padding": null,
            "grid_auto_rows": null,
            "grid_gap": null,
            "max_width": null,
            "order": null,
            "_view_module_version": "1.2.0",
            "grid_template_areas": null,
            "object_position": null,
            "object_fit": null,
            "grid_auto_columns": null,
            "margin": null,
            "display": null,
            "left": null
          }
        },
        "fc5d371640af4ead9c042d23656d519c": {
          "model_module": "@jupyter-widgets/controls",
          "model_name": "HTMLModel",
          "model_module_version": "1.5.0",
          "state": {
            "_view_name": "HTMLView",
            "style": "IPY_MODEL_ceb3bab4b8474e78b716bbe6ef915d9e",
            "_dom_classes": [],
            "description": "",
            "_model_name": "HTMLModel",
            "placeholder": "​",
            "_view_module": "@jupyter-widgets/controls",
            "_model_module_version": "1.5.0",
            "value": "Downloading: 100%",
            "_view_count": null,
            "_view_module_version": "1.5.0",
            "description_tooltip": null,
            "_model_module": "@jupyter-widgets/controls",
            "layout": "IPY_MODEL_e3c648b3f28d4bca98c99644519d6765"
          }
        },
        "afdd7500178945d4b325793958e45406": {
          "model_module": "@jupyter-widgets/controls",
          "model_name": "FloatProgressModel",
          "model_module_version": "1.5.0",
          "state": {
            "_view_name": "ProgressView",
            "style": "IPY_MODEL_2c026ab97dd44de3b05447b2697eb62d",
            "_dom_classes": [],
            "description": "",
            "_model_name": "FloatProgressModel",
            "bar_style": "success",
            "max": 466062,
            "_view_module": "@jupyter-widgets/controls",
            "_model_module_version": "1.5.0",
            "value": 466062,
            "_view_count": null,
            "_view_module_version": "1.5.0",
            "orientation": "horizontal",
            "min": 0,
            "description_tooltip": null,
            "_model_module": "@jupyter-widgets/controls",
            "layout": "IPY_MODEL_69b5680d30144b80a3552fcbaec59db6"
          }
        },
        "db1e53808a584570883bbebc5ce00a97": {
          "model_module": "@jupyter-widgets/controls",
          "model_name": "HTMLModel",
          "model_module_version": "1.5.0",
          "state": {
            "_view_name": "HTMLView",
            "style": "IPY_MODEL_ff8b7599f46c422ea6c3bf8ed84d8501",
            "_dom_classes": [],
            "description": "",
            "_model_name": "HTMLModel",
            "placeholder": "​",
            "_view_module": "@jupyter-widgets/controls",
            "_model_module_version": "1.5.0",
            "value": " 455k/455k [00:00&lt;00:00, 848kB/s]",
            "_view_count": null,
            "_view_module_version": "1.5.0",
            "description_tooltip": null,
            "_model_module": "@jupyter-widgets/controls",
            "layout": "IPY_MODEL_496b9dbe51f04b0a99b67922cf71befb"
          }
        },
        "ceb3bab4b8474e78b716bbe6ef915d9e": {
          "model_module": "@jupyter-widgets/controls",
          "model_name": "DescriptionStyleModel",
          "model_module_version": "1.5.0",
          "state": {
            "_view_name": "StyleView",
            "_model_name": "DescriptionStyleModel",
            "description_width": "",
            "_view_module": "@jupyter-widgets/base",
            "_model_module_version": "1.5.0",
            "_view_count": null,
            "_view_module_version": "1.2.0",
            "_model_module": "@jupyter-widgets/controls"
          }
        },
        "e3c648b3f28d4bca98c99644519d6765": {
          "model_module": "@jupyter-widgets/base",
          "model_name": "LayoutModel",
          "model_module_version": "1.2.0",
          "state": {
            "_view_name": "LayoutView",
            "grid_template_rows": null,
            "right": null,
            "justify_content": null,
            "_view_module": "@jupyter-widgets/base",
            "overflow": null,
            "_model_module_version": "1.2.0",
            "_view_count": null,
            "flex_flow": null,
            "width": null,
            "min_width": null,
            "border": null,
            "align_items": null,
            "bottom": null,
            "_model_module": "@jupyter-widgets/base",
            "top": null,
            "grid_column": null,
            "overflow_y": null,
            "overflow_x": null,
            "grid_auto_flow": null,
            "grid_area": null,
            "grid_template_columns": null,
            "flex": null,
            "_model_name": "LayoutModel",
            "justify_items": null,
            "grid_row": null,
            "max_height": null,
            "align_content": null,
            "visibility": null,
            "align_self": null,
            "height": null,
            "min_height": null,
            "padding": null,
            "grid_auto_rows": null,
            "grid_gap": null,
            "max_width": null,
            "order": null,
            "_view_module_version": "1.2.0",
            "grid_template_areas": null,
            "object_position": null,
            "object_fit": null,
            "grid_auto_columns": null,
            "margin": null,
            "display": null,
            "left": null
          }
        },
        "2c026ab97dd44de3b05447b2697eb62d": {
          "model_module": "@jupyter-widgets/controls",
          "model_name": "ProgressStyleModel",
          "model_module_version": "1.5.0",
          "state": {
            "_view_name": "StyleView",
            "_model_name": "ProgressStyleModel",
            "description_width": "",
            "_view_module": "@jupyter-widgets/base",
            "_model_module_version": "1.5.0",
            "_view_count": null,
            "_view_module_version": "1.2.0",
            "bar_color": null,
            "_model_module": "@jupyter-widgets/controls"
          }
        },
        "69b5680d30144b80a3552fcbaec59db6": {
          "model_module": "@jupyter-widgets/base",
          "model_name": "LayoutModel",
          "model_module_version": "1.2.0",
          "state": {
            "_view_name": "LayoutView",
            "grid_template_rows": null,
            "right": null,
            "justify_content": null,
            "_view_module": "@jupyter-widgets/base",
            "overflow": null,
            "_model_module_version": "1.2.0",
            "_view_count": null,
            "flex_flow": null,
            "width": null,
            "min_width": null,
            "border": null,
            "align_items": null,
            "bottom": null,
            "_model_module": "@jupyter-widgets/base",
            "top": null,
            "grid_column": null,
            "overflow_y": null,
            "overflow_x": null,
            "grid_auto_flow": null,
            "grid_area": null,
            "grid_template_columns": null,
            "flex": null,
            "_model_name": "LayoutModel",
            "justify_items": null,
            "grid_row": null,
            "max_height": null,
            "align_content": null,
            "visibility": null,
            "align_self": null,
            "height": null,
            "min_height": null,
            "padding": null,
            "grid_auto_rows": null,
            "grid_gap": null,
            "max_width": null,
            "order": null,
            "_view_module_version": "1.2.0",
            "grid_template_areas": null,
            "object_position": null,
            "object_fit": null,
            "grid_auto_columns": null,
            "margin": null,
            "display": null,
            "left": null
          }
        },
        "ff8b7599f46c422ea6c3bf8ed84d8501": {
          "model_module": "@jupyter-widgets/controls",
          "model_name": "DescriptionStyleModel",
          "model_module_version": "1.5.0",
          "state": {
            "_view_name": "StyleView",
            "_model_name": "DescriptionStyleModel",
            "description_width": "",
            "_view_module": "@jupyter-widgets/base",
            "_model_module_version": "1.5.0",
            "_view_count": null,
            "_view_module_version": "1.2.0",
            "_model_module": "@jupyter-widgets/controls"
          }
        },
        "496b9dbe51f04b0a99b67922cf71befb": {
          "model_module": "@jupyter-widgets/base",
          "model_name": "LayoutModel",
          "model_module_version": "1.2.0",
          "state": {
            "_view_name": "LayoutView",
            "grid_template_rows": null,
            "right": null,
            "justify_content": null,
            "_view_module": "@jupyter-widgets/base",
            "overflow": null,
            "_model_module_version": "1.2.0",
            "_view_count": null,
            "flex_flow": null,
            "width": null,
            "min_width": null,
            "border": null,
            "align_items": null,
            "bottom": null,
            "_model_module": "@jupyter-widgets/base",
            "top": null,
            "grid_column": null,
            "overflow_y": null,
            "overflow_x": null,
            "grid_auto_flow": null,
            "grid_area": null,
            "grid_template_columns": null,
            "flex": null,
            "_model_name": "LayoutModel",
            "justify_items": null,
            "grid_row": null,
            "max_height": null,
            "align_content": null,
            "visibility": null,
            "align_self": null,
            "height": null,
            "min_height": null,
            "padding": null,
            "grid_auto_rows": null,
            "grid_gap": null,
            "max_width": null,
            "order": null,
            "_view_module_version": "1.2.0",
            "grid_template_areas": null,
            "object_position": null,
            "object_fit": null,
            "grid_auto_columns": null,
            "margin": null,
            "display": null,
            "left": null
          }
        },
        "3e9dcb7031d04105b33f652e5cd465dc": {
          "model_module": "@jupyter-widgets/controls",
          "model_name": "HBoxModel",
          "model_module_version": "1.5.0",
          "state": {
            "_view_name": "HBoxView",
            "_dom_classes": [],
            "_model_name": "HBoxModel",
            "_view_module": "@jupyter-widgets/controls",
            "_model_module_version": "1.5.0",
            "_view_count": null,
            "_view_module_version": "1.5.0",
            "box_style": "",
            "layout": "IPY_MODEL_ca7223c8c3aa4493aeddb5f0fe85ea22",
            "_model_module": "@jupyter-widgets/controls",
            "children": [
              "IPY_MODEL_0059dd007abd4b489d2a1726148aaf48",
              "IPY_MODEL_72c5184d31fd49e7860c66576f9f010a",
              "IPY_MODEL_f02c88965f90401593168db3099ca6e9"
            ]
          }
        },
        "ca7223c8c3aa4493aeddb5f0fe85ea22": {
          "model_module": "@jupyter-widgets/base",
          "model_name": "LayoutModel",
          "model_module_version": "1.2.0",
          "state": {
            "_view_name": "LayoutView",
            "grid_template_rows": null,
            "right": null,
            "justify_content": null,
            "_view_module": "@jupyter-widgets/base",
            "overflow": null,
            "_model_module_version": "1.2.0",
            "_view_count": null,
            "flex_flow": null,
            "width": null,
            "min_width": null,
            "border": null,
            "align_items": null,
            "bottom": null,
            "_model_module": "@jupyter-widgets/base",
            "top": null,
            "grid_column": null,
            "overflow_y": null,
            "overflow_x": null,
            "grid_auto_flow": null,
            "grid_area": null,
            "grid_template_columns": null,
            "flex": null,
            "_model_name": "LayoutModel",
            "justify_items": null,
            "grid_row": null,
            "max_height": null,
            "align_content": null,
            "visibility": null,
            "align_self": null,
            "height": null,
            "min_height": null,
            "padding": null,
            "grid_auto_rows": null,
            "grid_gap": null,
            "max_width": null,
            "order": null,
            "_view_module_version": "1.2.0",
            "grid_template_areas": null,
            "object_position": null,
            "object_fit": null,
            "grid_auto_columns": null,
            "margin": null,
            "display": null,
            "left": null
          }
        },
        "0059dd007abd4b489d2a1726148aaf48": {
          "model_module": "@jupyter-widgets/controls",
          "model_name": "HTMLModel",
          "model_module_version": "1.5.0",
          "state": {
            "_view_name": "HTMLView",
            "style": "IPY_MODEL_1eb1869deeff42feac7b1e45e2f8b685",
            "_dom_classes": [],
            "description": "",
            "_model_name": "HTMLModel",
            "placeholder": "​",
            "_view_module": "@jupyter-widgets/controls",
            "_model_module_version": "1.5.0",
            "value": "Downloading: 100%",
            "_view_count": null,
            "_view_module_version": "1.5.0",
            "description_tooltip": null,
            "_model_module": "@jupyter-widgets/controls",
            "layout": "IPY_MODEL_6cd0e74fe21c4ec29912f1aea1b07568"
          }
        },
        "72c5184d31fd49e7860c66576f9f010a": {
          "model_module": "@jupyter-widgets/controls",
          "model_name": "FloatProgressModel",
          "model_module_version": "1.5.0",
          "state": {
            "_view_name": "ProgressView",
            "style": "IPY_MODEL_d19d2ec2ecee4c8ca8c66e1b500749dc",
            "_dom_classes": [],
            "description": "",
            "_model_name": "FloatProgressModel",
            "bar_style": "success",
            "max": 570,
            "_view_module": "@jupyter-widgets/controls",
            "_model_module_version": "1.5.0",
            "value": 570,
            "_view_count": null,
            "_view_module_version": "1.5.0",
            "orientation": "horizontal",
            "min": 0,
            "description_tooltip": null,
            "_model_module": "@jupyter-widgets/controls",
            "layout": "IPY_MODEL_87e383a3969f45a3b24fec024c2b5392"
          }
        },
        "f02c88965f90401593168db3099ca6e9": {
          "model_module": "@jupyter-widgets/controls",
          "model_name": "HTMLModel",
          "model_module_version": "1.5.0",
          "state": {
            "_view_name": "HTMLView",
            "style": "IPY_MODEL_c948571a496347ff907976c8f69a226b",
            "_dom_classes": [],
            "description": "",
            "_model_name": "HTMLModel",
            "placeholder": "​",
            "_view_module": "@jupyter-widgets/controls",
            "_model_module_version": "1.5.0",
            "value": " 570/570 [00:00&lt;00:00, 22.0kB/s]",
            "_view_count": null,
            "_view_module_version": "1.5.0",
            "description_tooltip": null,
            "_model_module": "@jupyter-widgets/controls",
            "layout": "IPY_MODEL_4cfcf901df71424594b757fa18bc48f1"
          }
        },
        "1eb1869deeff42feac7b1e45e2f8b685": {
          "model_module": "@jupyter-widgets/controls",
          "model_name": "DescriptionStyleModel",
          "model_module_version": "1.5.0",
          "state": {
            "_view_name": "StyleView",
            "_model_name": "DescriptionStyleModel",
            "description_width": "",
            "_view_module": "@jupyter-widgets/base",
            "_model_module_version": "1.5.0",
            "_view_count": null,
            "_view_module_version": "1.2.0",
            "_model_module": "@jupyter-widgets/controls"
          }
        },
        "6cd0e74fe21c4ec29912f1aea1b07568": {
          "model_module": "@jupyter-widgets/base",
          "model_name": "LayoutModel",
          "model_module_version": "1.2.0",
          "state": {
            "_view_name": "LayoutView",
            "grid_template_rows": null,
            "right": null,
            "justify_content": null,
            "_view_module": "@jupyter-widgets/base",
            "overflow": null,
            "_model_module_version": "1.2.0",
            "_view_count": null,
            "flex_flow": null,
            "width": null,
            "min_width": null,
            "border": null,
            "align_items": null,
            "bottom": null,
            "_model_module": "@jupyter-widgets/base",
            "top": null,
            "grid_column": null,
            "overflow_y": null,
            "overflow_x": null,
            "grid_auto_flow": null,
            "grid_area": null,
            "grid_template_columns": null,
            "flex": null,
            "_model_name": "LayoutModel",
            "justify_items": null,
            "grid_row": null,
            "max_height": null,
            "align_content": null,
            "visibility": null,
            "align_self": null,
            "height": null,
            "min_height": null,
            "padding": null,
            "grid_auto_rows": null,
            "grid_gap": null,
            "max_width": null,
            "order": null,
            "_view_module_version": "1.2.0",
            "grid_template_areas": null,
            "object_position": null,
            "object_fit": null,
            "grid_auto_columns": null,
            "margin": null,
            "display": null,
            "left": null
          }
        },
        "d19d2ec2ecee4c8ca8c66e1b500749dc": {
          "model_module": "@jupyter-widgets/controls",
          "model_name": "ProgressStyleModel",
          "model_module_version": "1.5.0",
          "state": {
            "_view_name": "StyleView",
            "_model_name": "ProgressStyleModel",
            "description_width": "",
            "_view_module": "@jupyter-widgets/base",
            "_model_module_version": "1.5.0",
            "_view_count": null,
            "_view_module_version": "1.2.0",
            "bar_color": null,
            "_model_module": "@jupyter-widgets/controls"
          }
        },
        "87e383a3969f45a3b24fec024c2b5392": {
          "model_module": "@jupyter-widgets/base",
          "model_name": "LayoutModel",
          "model_module_version": "1.2.0",
          "state": {
            "_view_name": "LayoutView",
            "grid_template_rows": null,
            "right": null,
            "justify_content": null,
            "_view_module": "@jupyter-widgets/base",
            "overflow": null,
            "_model_module_version": "1.2.0",
            "_view_count": null,
            "flex_flow": null,
            "width": null,
            "min_width": null,
            "border": null,
            "align_items": null,
            "bottom": null,
            "_model_module": "@jupyter-widgets/base",
            "top": null,
            "grid_column": null,
            "overflow_y": null,
            "overflow_x": null,
            "grid_auto_flow": null,
            "grid_area": null,
            "grid_template_columns": null,
            "flex": null,
            "_model_name": "LayoutModel",
            "justify_items": null,
            "grid_row": null,
            "max_height": null,
            "align_content": null,
            "visibility": null,
            "align_self": null,
            "height": null,
            "min_height": null,
            "padding": null,
            "grid_auto_rows": null,
            "grid_gap": null,
            "max_width": null,
            "order": null,
            "_view_module_version": "1.2.0",
            "grid_template_areas": null,
            "object_position": null,
            "object_fit": null,
            "grid_auto_columns": null,
            "margin": null,
            "display": null,
            "left": null
          }
        },
        "c948571a496347ff907976c8f69a226b": {
          "model_module": "@jupyter-widgets/controls",
          "model_name": "DescriptionStyleModel",
          "model_module_version": "1.5.0",
          "state": {
            "_view_name": "StyleView",
            "_model_name": "DescriptionStyleModel",
            "description_width": "",
            "_view_module": "@jupyter-widgets/base",
            "_model_module_version": "1.5.0",
            "_view_count": null,
            "_view_module_version": "1.2.0",
            "_model_module": "@jupyter-widgets/controls"
          }
        },
        "4cfcf901df71424594b757fa18bc48f1": {
          "model_module": "@jupyter-widgets/base",
          "model_name": "LayoutModel",
          "model_module_version": "1.2.0",
          "state": {
            "_view_name": "LayoutView",
            "grid_template_rows": null,
            "right": null,
            "justify_content": null,
            "_view_module": "@jupyter-widgets/base",
            "overflow": null,
            "_model_module_version": "1.2.0",
            "_view_count": null,
            "flex_flow": null,
            "width": null,
            "min_width": null,
            "border": null,
            "align_items": null,
            "bottom": null,
            "_model_module": "@jupyter-widgets/base",
            "top": null,
            "grid_column": null,
            "overflow_y": null,
            "overflow_x": null,
            "grid_auto_flow": null,
            "grid_area": null,
            "grid_template_columns": null,
            "flex": null,
            "_model_name": "LayoutModel",
            "justify_items": null,
            "grid_row": null,
            "max_height": null,
            "align_content": null,
            "visibility": null,
            "align_self": null,
            "height": null,
            "min_height": null,
            "padding": null,
            "grid_auto_rows": null,
            "grid_gap": null,
            "max_width": null,
            "order": null,
            "_view_module_version": "1.2.0",
            "grid_template_areas": null,
            "object_position": null,
            "object_fit": null,
            "grid_auto_columns": null,
            "margin": null,
            "display": null,
            "left": null
          }
        },
        "7ff46011630c4884a63490f195dd7069": {
          "model_module": "@jupyter-widgets/controls",
          "model_name": "HBoxModel",
          "model_module_version": "1.5.0",
          "state": {
            "_view_name": "HBoxView",
            "_dom_classes": [],
            "_model_name": "HBoxModel",
            "_view_module": "@jupyter-widgets/controls",
            "_model_module_version": "1.5.0",
            "_view_count": null,
            "_view_module_version": "1.5.0",
            "box_style": "",
            "layout": "IPY_MODEL_b3c7c2994b344f14a507db5edc4fa22c",
            "_model_module": "@jupyter-widgets/controls",
            "children": [
              "IPY_MODEL_8a47e48435204d27a38e5aa633eb7b61",
              "IPY_MODEL_da57c2a317ae41728356fd7c396b63ef",
              "IPY_MODEL_3df57a2b478c4462ba9186b6239dab65"
            ]
          }
        },
        "b3c7c2994b344f14a507db5edc4fa22c": {
          "model_module": "@jupyter-widgets/base",
          "model_name": "LayoutModel",
          "model_module_version": "1.2.0",
          "state": {
            "_view_name": "LayoutView",
            "grid_template_rows": null,
            "right": null,
            "justify_content": null,
            "_view_module": "@jupyter-widgets/base",
            "overflow": null,
            "_model_module_version": "1.2.0",
            "_view_count": null,
            "flex_flow": null,
            "width": null,
            "min_width": null,
            "border": null,
            "align_items": null,
            "bottom": null,
            "_model_module": "@jupyter-widgets/base",
            "top": null,
            "grid_column": null,
            "overflow_y": null,
            "overflow_x": null,
            "grid_auto_flow": null,
            "grid_area": null,
            "grid_template_columns": null,
            "flex": null,
            "_model_name": "LayoutModel",
            "justify_items": null,
            "grid_row": null,
            "max_height": null,
            "align_content": null,
            "visibility": null,
            "align_self": null,
            "height": null,
            "min_height": null,
            "padding": null,
            "grid_auto_rows": null,
            "grid_gap": null,
            "max_width": null,
            "order": null,
            "_view_module_version": "1.2.0",
            "grid_template_areas": null,
            "object_position": null,
            "object_fit": null,
            "grid_auto_columns": null,
            "margin": null,
            "display": null,
            "left": null
          }
        },
        "8a47e48435204d27a38e5aa633eb7b61": {
          "model_module": "@jupyter-widgets/controls",
          "model_name": "HTMLModel",
          "model_module_version": "1.5.0",
          "state": {
            "_view_name": "HTMLView",
            "style": "IPY_MODEL_bc744c47f28e40e7adc753dba099eb14",
            "_dom_classes": [],
            "description": "",
            "_model_name": "HTMLModel",
            "placeholder": "​",
            "_view_module": "@jupyter-widgets/controls",
            "_model_module_version": "1.5.0",
            "value": "Downloading: 100%",
            "_view_count": null,
            "_view_module_version": "1.5.0",
            "description_tooltip": null,
            "_model_module": "@jupyter-widgets/controls",
            "layout": "IPY_MODEL_2b69d6bd88f84ca5afea2a1731b9ab5f"
          }
        },
        "da57c2a317ae41728356fd7c396b63ef": {
          "model_module": "@jupyter-widgets/controls",
          "model_name": "FloatProgressModel",
          "model_module_version": "1.5.0",
          "state": {
            "_view_name": "ProgressView",
            "style": "IPY_MODEL_76bb5e19326742aaac56ac2d1c9717db",
            "_dom_classes": [],
            "description": "",
            "_model_name": "FloatProgressModel",
            "bar_style": "success",
            "max": 440473133,
            "_view_module": "@jupyter-widgets/controls",
            "_model_module_version": "1.5.0",
            "value": 440473133,
            "_view_count": null,
            "_view_module_version": "1.5.0",
            "orientation": "horizontal",
            "min": 0,
            "description_tooltip": null,
            "_model_module": "@jupyter-widgets/controls",
            "layout": "IPY_MODEL_c017ced323f54bd3b9c0f2c9170b80a7"
          }
        },
        "3df57a2b478c4462ba9186b6239dab65": {
          "model_module": "@jupyter-widgets/controls",
          "model_name": "HTMLModel",
          "model_module_version": "1.5.0",
          "state": {
            "_view_name": "HTMLView",
            "style": "IPY_MODEL_bc8a69217a874200b8656be2c756bc5e",
            "_dom_classes": [],
            "description": "",
            "_model_name": "HTMLModel",
            "placeholder": "​",
            "_view_module": "@jupyter-widgets/controls",
            "_model_module_version": "1.5.0",
            "value": " 420M/420M [00:16&lt;00:00, 14.6MB/s]",
            "_view_count": null,
            "_view_module_version": "1.5.0",
            "description_tooltip": null,
            "_model_module": "@jupyter-widgets/controls",
            "layout": "IPY_MODEL_e15c5a590ac84ff7ba9d0a94ff076b76"
          }
        },
        "bc744c47f28e40e7adc753dba099eb14": {
          "model_module": "@jupyter-widgets/controls",
          "model_name": "DescriptionStyleModel",
          "model_module_version": "1.5.0",
          "state": {
            "_view_name": "StyleView",
            "_model_name": "DescriptionStyleModel",
            "description_width": "",
            "_view_module": "@jupyter-widgets/base",
            "_model_module_version": "1.5.0",
            "_view_count": null,
            "_view_module_version": "1.2.0",
            "_model_module": "@jupyter-widgets/controls"
          }
        },
        "2b69d6bd88f84ca5afea2a1731b9ab5f": {
          "model_module": "@jupyter-widgets/base",
          "model_name": "LayoutModel",
          "model_module_version": "1.2.0",
          "state": {
            "_view_name": "LayoutView",
            "grid_template_rows": null,
            "right": null,
            "justify_content": null,
            "_view_module": "@jupyter-widgets/base",
            "overflow": null,
            "_model_module_version": "1.2.0",
            "_view_count": null,
            "flex_flow": null,
            "width": null,
            "min_width": null,
            "border": null,
            "align_items": null,
            "bottom": null,
            "_model_module": "@jupyter-widgets/base",
            "top": null,
            "grid_column": null,
            "overflow_y": null,
            "overflow_x": null,
            "grid_auto_flow": null,
            "grid_area": null,
            "grid_template_columns": null,
            "flex": null,
            "_model_name": "LayoutModel",
            "justify_items": null,
            "grid_row": null,
            "max_height": null,
            "align_content": null,
            "visibility": null,
            "align_self": null,
            "height": null,
            "min_height": null,
            "padding": null,
            "grid_auto_rows": null,
            "grid_gap": null,
            "max_width": null,
            "order": null,
            "_view_module_version": "1.2.0",
            "grid_template_areas": null,
            "object_position": null,
            "object_fit": null,
            "grid_auto_columns": null,
            "margin": null,
            "display": null,
            "left": null
          }
        },
        "76bb5e19326742aaac56ac2d1c9717db": {
          "model_module": "@jupyter-widgets/controls",
          "model_name": "ProgressStyleModel",
          "model_module_version": "1.5.0",
          "state": {
            "_view_name": "StyleView",
            "_model_name": "ProgressStyleModel",
            "description_width": "",
            "_view_module": "@jupyter-widgets/base",
            "_model_module_version": "1.5.0",
            "_view_count": null,
            "_view_module_version": "1.2.0",
            "bar_color": null,
            "_model_module": "@jupyter-widgets/controls"
          }
        },
        "c017ced323f54bd3b9c0f2c9170b80a7": {
          "model_module": "@jupyter-widgets/base",
          "model_name": "LayoutModel",
          "model_module_version": "1.2.0",
          "state": {
            "_view_name": "LayoutView",
            "grid_template_rows": null,
            "right": null,
            "justify_content": null,
            "_view_module": "@jupyter-widgets/base",
            "overflow": null,
            "_model_module_version": "1.2.0",
            "_view_count": null,
            "flex_flow": null,
            "width": null,
            "min_width": null,
            "border": null,
            "align_items": null,
            "bottom": null,
            "_model_module": "@jupyter-widgets/base",
            "top": null,
            "grid_column": null,
            "overflow_y": null,
            "overflow_x": null,
            "grid_auto_flow": null,
            "grid_area": null,
            "grid_template_columns": null,
            "flex": null,
            "_model_name": "LayoutModel",
            "justify_items": null,
            "grid_row": null,
            "max_height": null,
            "align_content": null,
            "visibility": null,
            "align_self": null,
            "height": null,
            "min_height": null,
            "padding": null,
            "grid_auto_rows": null,
            "grid_gap": null,
            "max_width": null,
            "order": null,
            "_view_module_version": "1.2.0",
            "grid_template_areas": null,
            "object_position": null,
            "object_fit": null,
            "grid_auto_columns": null,
            "margin": null,
            "display": null,
            "left": null
          }
        },
        "bc8a69217a874200b8656be2c756bc5e": {
          "model_module": "@jupyter-widgets/controls",
          "model_name": "DescriptionStyleModel",
          "model_module_version": "1.5.0",
          "state": {
            "_view_name": "StyleView",
            "_model_name": "DescriptionStyleModel",
            "description_width": "",
            "_view_module": "@jupyter-widgets/base",
            "_model_module_version": "1.5.0",
            "_view_count": null,
            "_view_module_version": "1.2.0",
            "_model_module": "@jupyter-widgets/controls"
          }
        },
        "e15c5a590ac84ff7ba9d0a94ff076b76": {
          "model_module": "@jupyter-widgets/base",
          "model_name": "LayoutModel",
          "model_module_version": "1.2.0",
          "state": {
            "_view_name": "LayoutView",
            "grid_template_rows": null,
            "right": null,
            "justify_content": null,
            "_view_module": "@jupyter-widgets/base",
            "overflow": null,
            "_model_module_version": "1.2.0",
            "_view_count": null,
            "flex_flow": null,
            "width": null,
            "min_width": null,
            "border": null,
            "align_items": null,
            "bottom": null,
            "_model_module": "@jupyter-widgets/base",
            "top": null,
            "grid_column": null,
            "overflow_y": null,
            "overflow_x": null,
            "grid_auto_flow": null,
            "grid_area": null,
            "grid_template_columns": null,
            "flex": null,
            "_model_name": "LayoutModel",
            "justify_items": null,
            "grid_row": null,
            "max_height": null,
            "align_content": null,
            "visibility": null,
            "align_self": null,
            "height": null,
            "min_height": null,
            "padding": null,
            "grid_auto_rows": null,
            "grid_gap": null,
            "max_width": null,
            "order": null,
            "_view_module_version": "1.2.0",
            "grid_template_areas": null,
            "object_position": null,
            "object_fit": null,
            "grid_auto_columns": null,
            "margin": null,
            "display": null,
            "left": null
          }
        },
        "f03b2b4a4b084605bb5c3debd578530a": {
          "model_module": "@jupyter-widgets/controls",
          "model_name": "HBoxModel",
          "model_module_version": "1.5.0",
          "state": {
            "_view_name": "HBoxView",
            "_dom_classes": [],
            "_model_name": "HBoxModel",
            "_view_module": "@jupyter-widgets/controls",
            "_model_module_version": "1.5.0",
            "_view_count": null,
            "_view_module_version": "1.5.0",
            "box_style": "",
            "layout": "IPY_MODEL_440b4a8f66f74599a20be1a9580bcae4",
            "_model_module": "@jupyter-widgets/controls",
            "children": [
              "IPY_MODEL_5915f23249844ad2ac4850168a19a957",
              "IPY_MODEL_848d2f35181042599edf04caf0ac7795",
              "IPY_MODEL_8164a13a974f4b1495bc577b1f9e1304"
            ]
          }
        },
        "440b4a8f66f74599a20be1a9580bcae4": {
          "model_module": "@jupyter-widgets/base",
          "model_name": "LayoutModel",
          "model_module_version": "1.2.0",
          "state": {
            "_view_name": "LayoutView",
            "grid_template_rows": null,
            "right": null,
            "justify_content": null,
            "_view_module": "@jupyter-widgets/base",
            "overflow": null,
            "_model_module_version": "1.2.0",
            "_view_count": null,
            "flex_flow": null,
            "width": null,
            "min_width": null,
            "border": null,
            "align_items": null,
            "bottom": null,
            "_model_module": "@jupyter-widgets/base",
            "top": null,
            "grid_column": null,
            "overflow_y": null,
            "overflow_x": null,
            "grid_auto_flow": null,
            "grid_area": null,
            "grid_template_columns": null,
            "flex": null,
            "_model_name": "LayoutModel",
            "justify_items": null,
            "grid_row": null,
            "max_height": null,
            "align_content": null,
            "visibility": null,
            "align_self": null,
            "height": null,
            "min_height": null,
            "padding": null,
            "grid_auto_rows": null,
            "grid_gap": null,
            "max_width": null,
            "order": null,
            "_view_module_version": "1.2.0",
            "grid_template_areas": null,
            "object_position": null,
            "object_fit": null,
            "grid_auto_columns": null,
            "margin": null,
            "display": null,
            "left": null
          }
        },
        "5915f23249844ad2ac4850168a19a957": {
          "model_module": "@jupyter-widgets/controls",
          "model_name": "HTMLModel",
          "model_module_version": "1.5.0",
          "state": {
            "_view_name": "HTMLView",
            "style": "IPY_MODEL_99cc582eef0a462f9282b713ba5dcb85",
            "_dom_classes": [],
            "description": "",
            "_model_name": "HTMLModel",
            "placeholder": "​",
            "_view_module": "@jupyter-widgets/controls",
            "_model_module_version": "1.5.0",
            "value": "Downloading: 100%",
            "_view_count": null,
            "_view_module_version": "1.5.0",
            "description_tooltip": null,
            "_model_module": "@jupyter-widgets/controls",
            "layout": "IPY_MODEL_e84de4f5945e408986eea95ac37b68b7"
          }
        },
        "848d2f35181042599edf04caf0ac7795": {
          "model_module": "@jupyter-widgets/controls",
          "model_name": "FloatProgressModel",
          "model_module_version": "1.5.0",
          "state": {
            "_view_name": "ProgressView",
            "style": "IPY_MODEL_d02170cb4a104ab1a0cb9083d74ed6be",
            "_dom_classes": [],
            "description": "",
            "_model_name": "FloatProgressModel",
            "bar_style": "success",
            "max": 995526,
            "_view_module": "@jupyter-widgets/controls",
            "_model_module_version": "1.5.0",
            "value": 995526,
            "_view_count": null,
            "_view_module_version": "1.5.0",
            "orientation": "horizontal",
            "min": 0,
            "description_tooltip": null,
            "_model_module": "@jupyter-widgets/controls",
            "layout": "IPY_MODEL_41f6e36539b74995906e1a50b85f679d"
          }
        },
        "8164a13a974f4b1495bc577b1f9e1304": {
          "model_module": "@jupyter-widgets/controls",
          "model_name": "HTMLModel",
          "model_module_version": "1.5.0",
          "state": {
            "_view_name": "HTMLView",
            "style": "IPY_MODEL_faab5f8ecf5f41e7916ad44526e92ee5",
            "_dom_classes": [],
            "description": "",
            "_model_name": "HTMLModel",
            "placeholder": "​",
            "_view_module": "@jupyter-widgets/controls",
            "_model_module_version": "1.5.0",
            "value": " 972k/972k [00:00&lt;00:00, 2.72MB/s]",
            "_view_count": null,
            "_view_module_version": "1.5.0",
            "description_tooltip": null,
            "_model_module": "@jupyter-widgets/controls",
            "layout": "IPY_MODEL_062d0ea566ff431e98e9de019232c522"
          }
        },
        "99cc582eef0a462f9282b713ba5dcb85": {
          "model_module": "@jupyter-widgets/controls",
          "model_name": "DescriptionStyleModel",
          "model_module_version": "1.5.0",
          "state": {
            "_view_name": "StyleView",
            "_model_name": "DescriptionStyleModel",
            "description_width": "",
            "_view_module": "@jupyter-widgets/base",
            "_model_module_version": "1.5.0",
            "_view_count": null,
            "_view_module_version": "1.2.0",
            "_model_module": "@jupyter-widgets/controls"
          }
        },
        "e84de4f5945e408986eea95ac37b68b7": {
          "model_module": "@jupyter-widgets/base",
          "model_name": "LayoutModel",
          "model_module_version": "1.2.0",
          "state": {
            "_view_name": "LayoutView",
            "grid_template_rows": null,
            "right": null,
            "justify_content": null,
            "_view_module": "@jupyter-widgets/base",
            "overflow": null,
            "_model_module_version": "1.2.0",
            "_view_count": null,
            "flex_flow": null,
            "width": null,
            "min_width": null,
            "border": null,
            "align_items": null,
            "bottom": null,
            "_model_module": "@jupyter-widgets/base",
            "top": null,
            "grid_column": null,
            "overflow_y": null,
            "overflow_x": null,
            "grid_auto_flow": null,
            "grid_area": null,
            "grid_template_columns": null,
            "flex": null,
            "_model_name": "LayoutModel",
            "justify_items": null,
            "grid_row": null,
            "max_height": null,
            "align_content": null,
            "visibility": null,
            "align_self": null,
            "height": null,
            "min_height": null,
            "padding": null,
            "grid_auto_rows": null,
            "grid_gap": null,
            "max_width": null,
            "order": null,
            "_view_module_version": "1.2.0",
            "grid_template_areas": null,
            "object_position": null,
            "object_fit": null,
            "grid_auto_columns": null,
            "margin": null,
            "display": null,
            "left": null
          }
        },
        "d02170cb4a104ab1a0cb9083d74ed6be": {
          "model_module": "@jupyter-widgets/controls",
          "model_name": "ProgressStyleModel",
          "model_module_version": "1.5.0",
          "state": {
            "_view_name": "StyleView",
            "_model_name": "ProgressStyleModel",
            "description_width": "",
            "_view_module": "@jupyter-widgets/base",
            "_model_module_version": "1.5.0",
            "_view_count": null,
            "_view_module_version": "1.2.0",
            "bar_color": null,
            "_model_module": "@jupyter-widgets/controls"
          }
        },
        "41f6e36539b74995906e1a50b85f679d": {
          "model_module": "@jupyter-widgets/base",
          "model_name": "LayoutModel",
          "model_module_version": "1.2.0",
          "state": {
            "_view_name": "LayoutView",
            "grid_template_rows": null,
            "right": null,
            "justify_content": null,
            "_view_module": "@jupyter-widgets/base",
            "overflow": null,
            "_model_module_version": "1.2.0",
            "_view_count": null,
            "flex_flow": null,
            "width": null,
            "min_width": null,
            "border": null,
            "align_items": null,
            "bottom": null,
            "_model_module": "@jupyter-widgets/base",
            "top": null,
            "grid_column": null,
            "overflow_y": null,
            "overflow_x": null,
            "grid_auto_flow": null,
            "grid_area": null,
            "grid_template_columns": null,
            "flex": null,
            "_model_name": "LayoutModel",
            "justify_items": null,
            "grid_row": null,
            "max_height": null,
            "align_content": null,
            "visibility": null,
            "align_self": null,
            "height": null,
            "min_height": null,
            "padding": null,
            "grid_auto_rows": null,
            "grid_gap": null,
            "max_width": null,
            "order": null,
            "_view_module_version": "1.2.0",
            "grid_template_areas": null,
            "object_position": null,
            "object_fit": null,
            "grid_auto_columns": null,
            "margin": null,
            "display": null,
            "left": null
          }
        },
        "faab5f8ecf5f41e7916ad44526e92ee5": {
          "model_module": "@jupyter-widgets/controls",
          "model_name": "DescriptionStyleModel",
          "model_module_version": "1.5.0",
          "state": {
            "_view_name": "StyleView",
            "_model_name": "DescriptionStyleModel",
            "description_width": "",
            "_view_module": "@jupyter-widgets/base",
            "_model_module_version": "1.5.0",
            "_view_count": null,
            "_view_module_version": "1.2.0",
            "_model_module": "@jupyter-widgets/controls"
          }
        },
        "062d0ea566ff431e98e9de019232c522": {
          "model_module": "@jupyter-widgets/base",
          "model_name": "LayoutModel",
          "model_module_version": "1.2.0",
          "state": {
            "_view_name": "LayoutView",
            "grid_template_rows": null,
            "right": null,
            "justify_content": null,
            "_view_module": "@jupyter-widgets/base",
            "overflow": null,
            "_model_module_version": "1.2.0",
            "_view_count": null,
            "flex_flow": null,
            "width": null,
            "min_width": null,
            "border": null,
            "align_items": null,
            "bottom": null,
            "_model_module": "@jupyter-widgets/base",
            "top": null,
            "grid_column": null,
            "overflow_y": null,
            "overflow_x": null,
            "grid_auto_flow": null,
            "grid_area": null,
            "grid_template_columns": null,
            "flex": null,
            "_model_name": "LayoutModel",
            "justify_items": null,
            "grid_row": null,
            "max_height": null,
            "align_content": null,
            "visibility": null,
            "align_self": null,
            "height": null,
            "min_height": null,
            "padding": null,
            "grid_auto_rows": null,
            "grid_gap": null,
            "max_width": null,
            "order": null,
            "_view_module_version": "1.2.0",
            "grid_template_areas": null,
            "object_position": null,
            "object_fit": null,
            "grid_auto_columns": null,
            "margin": null,
            "display": null,
            "left": null
          }
        },
        "c243d809bbcb4ad1a9119e259ddb2bb8": {
          "model_module": "@jupyter-widgets/controls",
          "model_name": "HBoxModel",
          "model_module_version": "1.5.0",
          "state": {
            "_view_name": "HBoxView",
            "_dom_classes": [],
            "_model_name": "HBoxModel",
            "_view_module": "@jupyter-widgets/controls",
            "_model_module_version": "1.5.0",
            "_view_count": null,
            "_view_module_version": "1.5.0",
            "box_style": "",
            "layout": "IPY_MODEL_6e63cafe4c774899b89272fb1a915bf4",
            "_model_module": "@jupyter-widgets/controls",
            "children": [
              "IPY_MODEL_12828ed5597f4291938d01f47ba24259",
              "IPY_MODEL_2d8244eb2a9845b7b6e60ee1fd0e0630",
              "IPY_MODEL_6158b769bb6a41d5a90f4896805aa6f5"
            ]
          }
        },
        "6e63cafe4c774899b89272fb1a915bf4": {
          "model_module": "@jupyter-widgets/base",
          "model_name": "LayoutModel",
          "model_module_version": "1.2.0",
          "state": {
            "_view_name": "LayoutView",
            "grid_template_rows": null,
            "right": null,
            "justify_content": null,
            "_view_module": "@jupyter-widgets/base",
            "overflow": null,
            "_model_module_version": "1.2.0",
            "_view_count": null,
            "flex_flow": null,
            "width": null,
            "min_width": null,
            "border": null,
            "align_items": null,
            "bottom": null,
            "_model_module": "@jupyter-widgets/base",
            "top": null,
            "grid_column": null,
            "overflow_y": null,
            "overflow_x": null,
            "grid_auto_flow": null,
            "grid_area": null,
            "grid_template_columns": null,
            "flex": null,
            "_model_name": "LayoutModel",
            "justify_items": null,
            "grid_row": null,
            "max_height": null,
            "align_content": null,
            "visibility": null,
            "align_self": null,
            "height": null,
            "min_height": null,
            "padding": null,
            "grid_auto_rows": null,
            "grid_gap": null,
            "max_width": null,
            "order": null,
            "_view_module_version": "1.2.0",
            "grid_template_areas": null,
            "object_position": null,
            "object_fit": null,
            "grid_auto_columns": null,
            "margin": null,
            "display": null,
            "left": null
          }
        },
        "12828ed5597f4291938d01f47ba24259": {
          "model_module": "@jupyter-widgets/controls",
          "model_name": "HTMLModel",
          "model_module_version": "1.5.0",
          "state": {
            "_view_name": "HTMLView",
            "style": "IPY_MODEL_8ae58472350c4271bff69eb38e8ec251",
            "_dom_classes": [],
            "description": "",
            "_model_name": "HTMLModel",
            "placeholder": "​",
            "_view_module": "@jupyter-widgets/controls",
            "_model_module_version": "1.5.0",
            "value": "Downloading: 100%",
            "_view_count": null,
            "_view_module_version": "1.5.0",
            "description_tooltip": null,
            "_model_module": "@jupyter-widgets/controls",
            "layout": "IPY_MODEL_f369b76549c345d0884a0e51af2ca393"
          }
        },
        "2d8244eb2a9845b7b6e60ee1fd0e0630": {
          "model_module": "@jupyter-widgets/controls",
          "model_name": "FloatProgressModel",
          "model_module_version": "1.5.0",
          "state": {
            "_view_name": "ProgressView",
            "style": "IPY_MODEL_d6b7ed9a7ca94a208b762cc42d1ba639",
            "_dom_classes": [],
            "description": "",
            "_model_name": "FloatProgressModel",
            "bar_style": "success",
            "max": 29,
            "_view_module": "@jupyter-widgets/controls",
            "_model_module_version": "1.5.0",
            "value": 29,
            "_view_count": null,
            "_view_module_version": "1.5.0",
            "orientation": "horizontal",
            "min": 0,
            "description_tooltip": null,
            "_model_module": "@jupyter-widgets/controls",
            "layout": "IPY_MODEL_8a6f11cdc0114509a9d8193fa3e80351"
          }
        },
        "6158b769bb6a41d5a90f4896805aa6f5": {
          "model_module": "@jupyter-widgets/controls",
          "model_name": "HTMLModel",
          "model_module_version": "1.5.0",
          "state": {
            "_view_name": "HTMLView",
            "style": "IPY_MODEL_fa635b1e38c94a4082dfb911ae78e68a",
            "_dom_classes": [],
            "description": "",
            "_model_name": "HTMLModel",
            "placeholder": "​",
            "_view_module": "@jupyter-widgets/controls",
            "_model_module_version": "1.5.0",
            "value": " 29.0/29.0 [00:00&lt;00:00, 1.23kB/s]",
            "_view_count": null,
            "_view_module_version": "1.5.0",
            "description_tooltip": null,
            "_model_module": "@jupyter-widgets/controls",
            "layout": "IPY_MODEL_772646d1e3e040a790e891ca40908186"
          }
        },
        "8ae58472350c4271bff69eb38e8ec251": {
          "model_module": "@jupyter-widgets/controls",
          "model_name": "DescriptionStyleModel",
          "model_module_version": "1.5.0",
          "state": {
            "_view_name": "StyleView",
            "_model_name": "DescriptionStyleModel",
            "description_width": "",
            "_view_module": "@jupyter-widgets/base",
            "_model_module_version": "1.5.0",
            "_view_count": null,
            "_view_module_version": "1.2.0",
            "_model_module": "@jupyter-widgets/controls"
          }
        },
        "f369b76549c345d0884a0e51af2ca393": {
          "model_module": "@jupyter-widgets/base",
          "model_name": "LayoutModel",
          "model_module_version": "1.2.0",
          "state": {
            "_view_name": "LayoutView",
            "grid_template_rows": null,
            "right": null,
            "justify_content": null,
            "_view_module": "@jupyter-widgets/base",
            "overflow": null,
            "_model_module_version": "1.2.0",
            "_view_count": null,
            "flex_flow": null,
            "width": null,
            "min_width": null,
            "border": null,
            "align_items": null,
            "bottom": null,
            "_model_module": "@jupyter-widgets/base",
            "top": null,
            "grid_column": null,
            "overflow_y": null,
            "overflow_x": null,
            "grid_auto_flow": null,
            "grid_area": null,
            "grid_template_columns": null,
            "flex": null,
            "_model_name": "LayoutModel",
            "justify_items": null,
            "grid_row": null,
            "max_height": null,
            "align_content": null,
            "visibility": null,
            "align_self": null,
            "height": null,
            "min_height": null,
            "padding": null,
            "grid_auto_rows": null,
            "grid_gap": null,
            "max_width": null,
            "order": null,
            "_view_module_version": "1.2.0",
            "grid_template_areas": null,
            "object_position": null,
            "object_fit": null,
            "grid_auto_columns": null,
            "margin": null,
            "display": null,
            "left": null
          }
        },
        "d6b7ed9a7ca94a208b762cc42d1ba639": {
          "model_module": "@jupyter-widgets/controls",
          "model_name": "ProgressStyleModel",
          "model_module_version": "1.5.0",
          "state": {
            "_view_name": "StyleView",
            "_model_name": "ProgressStyleModel",
            "description_width": "",
            "_view_module": "@jupyter-widgets/base",
            "_model_module_version": "1.5.0",
            "_view_count": null,
            "_view_module_version": "1.2.0",
            "bar_color": null,
            "_model_module": "@jupyter-widgets/controls"
          }
        },
        "8a6f11cdc0114509a9d8193fa3e80351": {
          "model_module": "@jupyter-widgets/base",
          "model_name": "LayoutModel",
          "model_module_version": "1.2.0",
          "state": {
            "_view_name": "LayoutView",
            "grid_template_rows": null,
            "right": null,
            "justify_content": null,
            "_view_module": "@jupyter-widgets/base",
            "overflow": null,
            "_model_module_version": "1.2.0",
            "_view_count": null,
            "flex_flow": null,
            "width": null,
            "min_width": null,
            "border": null,
            "align_items": null,
            "bottom": null,
            "_model_module": "@jupyter-widgets/base",
            "top": null,
            "grid_column": null,
            "overflow_y": null,
            "overflow_x": null,
            "grid_auto_flow": null,
            "grid_area": null,
            "grid_template_columns": null,
            "flex": null,
            "_model_name": "LayoutModel",
            "justify_items": null,
            "grid_row": null,
            "max_height": null,
            "align_content": null,
            "visibility": null,
            "align_self": null,
            "height": null,
            "min_height": null,
            "padding": null,
            "grid_auto_rows": null,
            "grid_gap": null,
            "max_width": null,
            "order": null,
            "_view_module_version": "1.2.0",
            "grid_template_areas": null,
            "object_position": null,
            "object_fit": null,
            "grid_auto_columns": null,
            "margin": null,
            "display": null,
            "left": null
          }
        },
        "fa635b1e38c94a4082dfb911ae78e68a": {
          "model_module": "@jupyter-widgets/controls",
          "model_name": "DescriptionStyleModel",
          "model_module_version": "1.5.0",
          "state": {
            "_view_name": "StyleView",
            "_model_name": "DescriptionStyleModel",
            "description_width": "",
            "_view_module": "@jupyter-widgets/base",
            "_model_module_version": "1.5.0",
            "_view_count": null,
            "_view_module_version": "1.2.0",
            "_model_module": "@jupyter-widgets/controls"
          }
        },
        "772646d1e3e040a790e891ca40908186": {
          "model_module": "@jupyter-widgets/base",
          "model_name": "LayoutModel",
          "model_module_version": "1.2.0",
          "state": {
            "_view_name": "LayoutView",
            "grid_template_rows": null,
            "right": null,
            "justify_content": null,
            "_view_module": "@jupyter-widgets/base",
            "overflow": null,
            "_model_module_version": "1.2.0",
            "_view_count": null,
            "flex_flow": null,
            "width": null,
            "min_width": null,
            "border": null,
            "align_items": null,
            "bottom": null,
            "_model_module": "@jupyter-widgets/base",
            "top": null,
            "grid_column": null,
            "overflow_y": null,
            "overflow_x": null,
            "grid_auto_flow": null,
            "grid_area": null,
            "grid_template_columns": null,
            "flex": null,
            "_model_name": "LayoutModel",
            "justify_items": null,
            "grid_row": null,
            "max_height": null,
            "align_content": null,
            "visibility": null,
            "align_self": null,
            "height": null,
            "min_height": null,
            "padding": null,
            "grid_auto_rows": null,
            "grid_gap": null,
            "max_width": null,
            "order": null,
            "_view_module_version": "1.2.0",
            "grid_template_areas": null,
            "object_position": null,
            "object_fit": null,
            "grid_auto_columns": null,
            "margin": null,
            "display": null,
            "left": null
          }
        },
        "023693179aef40eb8f1bc6ddf48b6f09": {
          "model_module": "@jupyter-widgets/controls",
          "model_name": "HBoxModel",
          "model_module_version": "1.5.0",
          "state": {
            "_view_name": "HBoxView",
            "_dom_classes": [],
            "_model_name": "HBoxModel",
            "_view_module": "@jupyter-widgets/controls",
            "_model_module_version": "1.5.0",
            "_view_count": null,
            "_view_module_version": "1.5.0",
            "box_style": "",
            "layout": "IPY_MODEL_7e06ff7b0fbb469abbadba1b59103d7d",
            "_model_module": "@jupyter-widgets/controls",
            "children": [
              "IPY_MODEL_ad4c06636bb94648bf675a21860b6d4b",
              "IPY_MODEL_65cec99cb86b442a939dc442060be2f5",
              "IPY_MODEL_6266002a43624c55a563a6af65fd2b2c"
            ]
          }
        },
        "7e06ff7b0fbb469abbadba1b59103d7d": {
          "model_module": "@jupyter-widgets/base",
          "model_name": "LayoutModel",
          "model_module_version": "1.2.0",
          "state": {
            "_view_name": "LayoutView",
            "grid_template_rows": null,
            "right": null,
            "justify_content": null,
            "_view_module": "@jupyter-widgets/base",
            "overflow": null,
            "_model_module_version": "1.2.0",
            "_view_count": null,
            "flex_flow": null,
            "width": null,
            "min_width": null,
            "border": null,
            "align_items": null,
            "bottom": null,
            "_model_module": "@jupyter-widgets/base",
            "top": null,
            "grid_column": null,
            "overflow_y": null,
            "overflow_x": null,
            "grid_auto_flow": null,
            "grid_area": null,
            "grid_template_columns": null,
            "flex": null,
            "_model_name": "LayoutModel",
            "justify_items": null,
            "grid_row": null,
            "max_height": null,
            "align_content": null,
            "visibility": null,
            "align_self": null,
            "height": null,
            "min_height": null,
            "padding": null,
            "grid_auto_rows": null,
            "grid_gap": null,
            "max_width": null,
            "order": null,
            "_view_module_version": "1.2.0",
            "grid_template_areas": null,
            "object_position": null,
            "object_fit": null,
            "grid_auto_columns": null,
            "margin": null,
            "display": null,
            "left": null
          }
        },
        "ad4c06636bb94648bf675a21860b6d4b": {
          "model_module": "@jupyter-widgets/controls",
          "model_name": "HTMLModel",
          "model_module_version": "1.5.0",
          "state": {
            "_view_name": "HTMLView",
            "style": "IPY_MODEL_16a99d0241b44037a2c9be5ced894659",
            "_dom_classes": [],
            "description": "",
            "_model_name": "HTMLModel",
            "placeholder": "​",
            "_view_module": "@jupyter-widgets/controls",
            "_model_module_version": "1.5.0",
            "value": "Downloading: 100%",
            "_view_count": null,
            "_view_module_version": "1.5.0",
            "description_tooltip": null,
            "_model_module": "@jupyter-widgets/controls",
            "layout": "IPY_MODEL_a1d20981fd334ec98ade9c6a515f454e"
          }
        },
        "65cec99cb86b442a939dc442060be2f5": {
          "model_module": "@jupyter-widgets/controls",
          "model_name": "FloatProgressModel",
          "model_module_version": "1.5.0",
          "state": {
            "_view_name": "ProgressView",
            "style": "IPY_MODEL_ccfb588ac10a43fb88792c76770ede99",
            "_dom_classes": [],
            "description": "",
            "_model_name": "FloatProgressModel",
            "bar_style": "success",
            "max": 1961828,
            "_view_module": "@jupyter-widgets/controls",
            "_model_module_version": "1.5.0",
            "value": 1961828,
            "_view_count": null,
            "_view_module_version": "1.5.0",
            "orientation": "horizontal",
            "min": 0,
            "description_tooltip": null,
            "_model_module": "@jupyter-widgets/controls",
            "layout": "IPY_MODEL_2d9b2b21564f46ea8d2a6c58d009416b"
          }
        },
        "6266002a43624c55a563a6af65fd2b2c": {
          "model_module": "@jupyter-widgets/controls",
          "model_name": "HTMLModel",
          "model_module_version": "1.5.0",
          "state": {
            "_view_name": "HTMLView",
            "style": "IPY_MODEL_e4ca72a8972348329aecb218ea655340",
            "_dom_classes": [],
            "description": "",
            "_model_name": "HTMLModel",
            "placeholder": "​",
            "_view_module": "@jupyter-widgets/controls",
            "_model_module_version": "1.5.0",
            "value": " 1.87M/1.87M [00:00&lt;00:00, 2.77MB/s]",
            "_view_count": null,
            "_view_module_version": "1.5.0",
            "description_tooltip": null,
            "_model_module": "@jupyter-widgets/controls",
            "layout": "IPY_MODEL_0594e6e982ba41568f38006c8ce0424a"
          }
        },
        "16a99d0241b44037a2c9be5ced894659": {
          "model_module": "@jupyter-widgets/controls",
          "model_name": "DescriptionStyleModel",
          "model_module_version": "1.5.0",
          "state": {
            "_view_name": "StyleView",
            "_model_name": "DescriptionStyleModel",
            "description_width": "",
            "_view_module": "@jupyter-widgets/base",
            "_model_module_version": "1.5.0",
            "_view_count": null,
            "_view_module_version": "1.2.0",
            "_model_module": "@jupyter-widgets/controls"
          }
        },
        "a1d20981fd334ec98ade9c6a515f454e": {
          "model_module": "@jupyter-widgets/base",
          "model_name": "LayoutModel",
          "model_module_version": "1.2.0",
          "state": {
            "_view_name": "LayoutView",
            "grid_template_rows": null,
            "right": null,
            "justify_content": null,
            "_view_module": "@jupyter-widgets/base",
            "overflow": null,
            "_model_module_version": "1.2.0",
            "_view_count": null,
            "flex_flow": null,
            "width": null,
            "min_width": null,
            "border": null,
            "align_items": null,
            "bottom": null,
            "_model_module": "@jupyter-widgets/base",
            "top": null,
            "grid_column": null,
            "overflow_y": null,
            "overflow_x": null,
            "grid_auto_flow": null,
            "grid_area": null,
            "grid_template_columns": null,
            "flex": null,
            "_model_name": "LayoutModel",
            "justify_items": null,
            "grid_row": null,
            "max_height": null,
            "align_content": null,
            "visibility": null,
            "align_self": null,
            "height": null,
            "min_height": null,
            "padding": null,
            "grid_auto_rows": null,
            "grid_gap": null,
            "max_width": null,
            "order": null,
            "_view_module_version": "1.2.0",
            "grid_template_areas": null,
            "object_position": null,
            "object_fit": null,
            "grid_auto_columns": null,
            "margin": null,
            "display": null,
            "left": null
          }
        },
        "ccfb588ac10a43fb88792c76770ede99": {
          "model_module": "@jupyter-widgets/controls",
          "model_name": "ProgressStyleModel",
          "model_module_version": "1.5.0",
          "state": {
            "_view_name": "StyleView",
            "_model_name": "ProgressStyleModel",
            "description_width": "",
            "_view_module": "@jupyter-widgets/base",
            "_model_module_version": "1.5.0",
            "_view_count": null,
            "_view_module_version": "1.2.0",
            "bar_color": null,
            "_model_module": "@jupyter-widgets/controls"
          }
        },
        "2d9b2b21564f46ea8d2a6c58d009416b": {
          "model_module": "@jupyter-widgets/base",
          "model_name": "LayoutModel",
          "model_module_version": "1.2.0",
          "state": {
            "_view_name": "LayoutView",
            "grid_template_rows": null,
            "right": null,
            "justify_content": null,
            "_view_module": "@jupyter-widgets/base",
            "overflow": null,
            "_model_module_version": "1.2.0",
            "_view_count": null,
            "flex_flow": null,
            "width": null,
            "min_width": null,
            "border": null,
            "align_items": null,
            "bottom": null,
            "_model_module": "@jupyter-widgets/base",
            "top": null,
            "grid_column": null,
            "overflow_y": null,
            "overflow_x": null,
            "grid_auto_flow": null,
            "grid_area": null,
            "grid_template_columns": null,
            "flex": null,
            "_model_name": "LayoutModel",
            "justify_items": null,
            "grid_row": null,
            "max_height": null,
            "align_content": null,
            "visibility": null,
            "align_self": null,
            "height": null,
            "min_height": null,
            "padding": null,
            "grid_auto_rows": null,
            "grid_gap": null,
            "max_width": null,
            "order": null,
            "_view_module_version": "1.2.0",
            "grid_template_areas": null,
            "object_position": null,
            "object_fit": null,
            "grid_auto_columns": null,
            "margin": null,
            "display": null,
            "left": null
          }
        },
        "e4ca72a8972348329aecb218ea655340": {
          "model_module": "@jupyter-widgets/controls",
          "model_name": "DescriptionStyleModel",
          "model_module_version": "1.5.0",
          "state": {
            "_view_name": "StyleView",
            "_model_name": "DescriptionStyleModel",
            "description_width": "",
            "_view_module": "@jupyter-widgets/base",
            "_model_module_version": "1.5.0",
            "_view_count": null,
            "_view_module_version": "1.2.0",
            "_model_module": "@jupyter-widgets/controls"
          }
        },
        "0594e6e982ba41568f38006c8ce0424a": {
          "model_module": "@jupyter-widgets/base",
          "model_name": "LayoutModel",
          "model_module_version": "1.2.0",
          "state": {
            "_view_name": "LayoutView",
            "grid_template_rows": null,
            "right": null,
            "justify_content": null,
            "_view_module": "@jupyter-widgets/base",
            "overflow": null,
            "_model_module_version": "1.2.0",
            "_view_count": null,
            "flex_flow": null,
            "width": null,
            "min_width": null,
            "border": null,
            "align_items": null,
            "bottom": null,
            "_model_module": "@jupyter-widgets/base",
            "top": null,
            "grid_column": null,
            "overflow_y": null,
            "overflow_x": null,
            "grid_auto_flow": null,
            "grid_area": null,
            "grid_template_columns": null,
            "flex": null,
            "_model_name": "LayoutModel",
            "justify_items": null,
            "grid_row": null,
            "max_height": null,
            "align_content": null,
            "visibility": null,
            "align_self": null,
            "height": null,
            "min_height": null,
            "padding": null,
            "grid_auto_rows": null,
            "grid_gap": null,
            "max_width": null,
            "order": null,
            "_view_module_version": "1.2.0",
            "grid_template_areas": null,
            "object_position": null,
            "object_fit": null,
            "grid_auto_columns": null,
            "margin": null,
            "display": null,
            "left": null
          }
        },
        "f99c13e70f954b64a754c6a8d603cb5b": {
          "model_module": "@jupyter-widgets/controls",
          "model_name": "HBoxModel",
          "model_module_version": "1.5.0",
          "state": {
            "_view_name": "HBoxView",
            "_dom_classes": [],
            "_model_name": "HBoxModel",
            "_view_module": "@jupyter-widgets/controls",
            "_model_module_version": "1.5.0",
            "_view_count": null,
            "_view_module_version": "1.5.0",
            "box_style": "",
            "layout": "IPY_MODEL_286b935755104e2b944c9d4360301c87",
            "_model_module": "@jupyter-widgets/controls",
            "children": [
              "IPY_MODEL_bbe44ad35fc74d40910f6b5af88888d6",
              "IPY_MODEL_73dc65e579e94385bcd02feb5e0a2e32",
              "IPY_MODEL_f20606ea87c84ee78a672321b9dfe27e"
            ]
          }
        },
        "286b935755104e2b944c9d4360301c87": {
          "model_module": "@jupyter-widgets/base",
          "model_name": "LayoutModel",
          "model_module_version": "1.2.0",
          "state": {
            "_view_name": "LayoutView",
            "grid_template_rows": null,
            "right": null,
            "justify_content": null,
            "_view_module": "@jupyter-widgets/base",
            "overflow": null,
            "_model_module_version": "1.2.0",
            "_view_count": null,
            "flex_flow": null,
            "width": null,
            "min_width": null,
            "border": null,
            "align_items": null,
            "bottom": null,
            "_model_module": "@jupyter-widgets/base",
            "top": null,
            "grid_column": null,
            "overflow_y": null,
            "overflow_x": null,
            "grid_auto_flow": null,
            "grid_area": null,
            "grid_template_columns": null,
            "flex": null,
            "_model_name": "LayoutModel",
            "justify_items": null,
            "grid_row": null,
            "max_height": null,
            "align_content": null,
            "visibility": null,
            "align_self": null,
            "height": null,
            "min_height": null,
            "padding": null,
            "grid_auto_rows": null,
            "grid_gap": null,
            "max_width": null,
            "order": null,
            "_view_module_version": "1.2.0",
            "grid_template_areas": null,
            "object_position": null,
            "object_fit": null,
            "grid_auto_columns": null,
            "margin": null,
            "display": null,
            "left": null
          }
        },
        "bbe44ad35fc74d40910f6b5af88888d6": {
          "model_module": "@jupyter-widgets/controls",
          "model_name": "HTMLModel",
          "model_module_version": "1.5.0",
          "state": {
            "_view_name": "HTMLView",
            "style": "IPY_MODEL_af69f995bafa458292366e38eb9d1f6a",
            "_dom_classes": [],
            "description": "",
            "_model_name": "HTMLModel",
            "placeholder": "​",
            "_view_module": "@jupyter-widgets/controls",
            "_model_module_version": "1.5.0",
            "value": "Downloading: 100%",
            "_view_count": null,
            "_view_module_version": "1.5.0",
            "description_tooltip": null,
            "_model_module": "@jupyter-widgets/controls",
            "layout": "IPY_MODEL_ba726a86fbf642d699b8ce20bd1e95be"
          }
        },
        "73dc65e579e94385bcd02feb5e0a2e32": {
          "model_module": "@jupyter-widgets/controls",
          "model_name": "FloatProgressModel",
          "model_module_version": "1.5.0",
          "state": {
            "_view_name": "ProgressView",
            "style": "IPY_MODEL_e6aadfa868914fb2884f873d2fd9c14f",
            "_dom_classes": [],
            "description": "",
            "_model_name": "FloatProgressModel",
            "bar_style": "success",
            "max": 625,
            "_view_module": "@jupyter-widgets/controls",
            "_model_module_version": "1.5.0",
            "value": 625,
            "_view_count": null,
            "_view_module_version": "1.5.0",
            "orientation": "horizontal",
            "min": 0,
            "description_tooltip": null,
            "_model_module": "@jupyter-widgets/controls",
            "layout": "IPY_MODEL_2c08f2823ec3448faaf33e923ae2e139"
          }
        },
        "f20606ea87c84ee78a672321b9dfe27e": {
          "model_module": "@jupyter-widgets/controls",
          "model_name": "HTMLModel",
          "model_module_version": "1.5.0",
          "state": {
            "_view_name": "HTMLView",
            "style": "IPY_MODEL_cad5b4677c7b43b3b62b4653c053a84b",
            "_dom_classes": [],
            "description": "",
            "_model_name": "HTMLModel",
            "placeholder": "​",
            "_view_module": "@jupyter-widgets/controls",
            "_model_module_version": "1.5.0",
            "value": " 625/625 [00:00&lt;00:00, 26.1kB/s]",
            "_view_count": null,
            "_view_module_version": "1.5.0",
            "description_tooltip": null,
            "_model_module": "@jupyter-widgets/controls",
            "layout": "IPY_MODEL_6246500ae5734f1cb22575ddad325419"
          }
        },
        "af69f995bafa458292366e38eb9d1f6a": {
          "model_module": "@jupyter-widgets/controls",
          "model_name": "DescriptionStyleModel",
          "model_module_version": "1.5.0",
          "state": {
            "_view_name": "StyleView",
            "_model_name": "DescriptionStyleModel",
            "description_width": "",
            "_view_module": "@jupyter-widgets/base",
            "_model_module_version": "1.5.0",
            "_view_count": null,
            "_view_module_version": "1.2.0",
            "_model_module": "@jupyter-widgets/controls"
          }
        },
        "ba726a86fbf642d699b8ce20bd1e95be": {
          "model_module": "@jupyter-widgets/base",
          "model_name": "LayoutModel",
          "model_module_version": "1.2.0",
          "state": {
            "_view_name": "LayoutView",
            "grid_template_rows": null,
            "right": null,
            "justify_content": null,
            "_view_module": "@jupyter-widgets/base",
            "overflow": null,
            "_model_module_version": "1.2.0",
            "_view_count": null,
            "flex_flow": null,
            "width": null,
            "min_width": null,
            "border": null,
            "align_items": null,
            "bottom": null,
            "_model_module": "@jupyter-widgets/base",
            "top": null,
            "grid_column": null,
            "overflow_y": null,
            "overflow_x": null,
            "grid_auto_flow": null,
            "grid_area": null,
            "grid_template_columns": null,
            "flex": null,
            "_model_name": "LayoutModel",
            "justify_items": null,
            "grid_row": null,
            "max_height": null,
            "align_content": null,
            "visibility": null,
            "align_self": null,
            "height": null,
            "min_height": null,
            "padding": null,
            "grid_auto_rows": null,
            "grid_gap": null,
            "max_width": null,
            "order": null,
            "_view_module_version": "1.2.0",
            "grid_template_areas": null,
            "object_position": null,
            "object_fit": null,
            "grid_auto_columns": null,
            "margin": null,
            "display": null,
            "left": null
          }
        },
        "e6aadfa868914fb2884f873d2fd9c14f": {
          "model_module": "@jupyter-widgets/controls",
          "model_name": "ProgressStyleModel",
          "model_module_version": "1.5.0",
          "state": {
            "_view_name": "StyleView",
            "_model_name": "ProgressStyleModel",
            "description_width": "",
            "_view_module": "@jupyter-widgets/base",
            "_model_module_version": "1.5.0",
            "_view_count": null,
            "_view_module_version": "1.2.0",
            "bar_color": null,
            "_model_module": "@jupyter-widgets/controls"
          }
        },
        "2c08f2823ec3448faaf33e923ae2e139": {
          "model_module": "@jupyter-widgets/base",
          "model_name": "LayoutModel",
          "model_module_version": "1.2.0",
          "state": {
            "_view_name": "LayoutView",
            "grid_template_rows": null,
            "right": null,
            "justify_content": null,
            "_view_module": "@jupyter-widgets/base",
            "overflow": null,
            "_model_module_version": "1.2.0",
            "_view_count": null,
            "flex_flow": null,
            "width": null,
            "min_width": null,
            "border": null,
            "align_items": null,
            "bottom": null,
            "_model_module": "@jupyter-widgets/base",
            "top": null,
            "grid_column": null,
            "overflow_y": null,
            "overflow_x": null,
            "grid_auto_flow": null,
            "grid_area": null,
            "grid_template_columns": null,
            "flex": null,
            "_model_name": "LayoutModel",
            "justify_items": null,
            "grid_row": null,
            "max_height": null,
            "align_content": null,
            "visibility": null,
            "align_self": null,
            "height": null,
            "min_height": null,
            "padding": null,
            "grid_auto_rows": null,
            "grid_gap": null,
            "max_width": null,
            "order": null,
            "_view_module_version": "1.2.0",
            "grid_template_areas": null,
            "object_position": null,
            "object_fit": null,
            "grid_auto_columns": null,
            "margin": null,
            "display": null,
            "left": null
          }
        },
        "cad5b4677c7b43b3b62b4653c053a84b": {
          "model_module": "@jupyter-widgets/controls",
          "model_name": "DescriptionStyleModel",
          "model_module_version": "1.5.0",
          "state": {
            "_view_name": "StyleView",
            "_model_name": "DescriptionStyleModel",
            "description_width": "",
            "_view_module": "@jupyter-widgets/base",
            "_model_module_version": "1.5.0",
            "_view_count": null,
            "_view_module_version": "1.2.0",
            "_model_module": "@jupyter-widgets/controls"
          }
        },
        "6246500ae5734f1cb22575ddad325419": {
          "model_module": "@jupyter-widgets/base",
          "model_name": "LayoutModel",
          "model_module_version": "1.2.0",
          "state": {
            "_view_name": "LayoutView",
            "grid_template_rows": null,
            "right": null,
            "justify_content": null,
            "_view_module": "@jupyter-widgets/base",
            "overflow": null,
            "_model_module_version": "1.2.0",
            "_view_count": null,
            "flex_flow": null,
            "width": null,
            "min_width": null,
            "border": null,
            "align_items": null,
            "bottom": null,
            "_model_module": "@jupyter-widgets/base",
            "top": null,
            "grid_column": null,
            "overflow_y": null,
            "overflow_x": null,
            "grid_auto_flow": null,
            "grid_area": null,
            "grid_template_columns": null,
            "flex": null,
            "_model_name": "LayoutModel",
            "justify_items": null,
            "grid_row": null,
            "max_height": null,
            "align_content": null,
            "visibility": null,
            "align_self": null,
            "height": null,
            "min_height": null,
            "padding": null,
            "grid_auto_rows": null,
            "grid_gap": null,
            "max_width": null,
            "order": null,
            "_view_module_version": "1.2.0",
            "grid_template_areas": null,
            "object_position": null,
            "object_fit": null,
            "grid_auto_columns": null,
            "margin": null,
            "display": null,
            "left": null
          }
        },
        "e67582c385c143f698afb8f006237062": {
          "model_module": "@jupyter-widgets/controls",
          "model_name": "HBoxModel",
          "model_module_version": "1.5.0",
          "state": {
            "_view_name": "HBoxView",
            "_dom_classes": [],
            "_model_name": "HBoxModel",
            "_view_module": "@jupyter-widgets/controls",
            "_model_module_version": "1.5.0",
            "_view_count": null,
            "_view_module_version": "1.5.0",
            "box_style": "",
            "layout": "IPY_MODEL_b89d15b338ba4376b1380048f9a65754",
            "_model_module": "@jupyter-widgets/controls",
            "children": [
              "IPY_MODEL_c031a15c15244ef58cf3b9e246bf7bb9",
              "IPY_MODEL_f7004defb0f5438a9e277c8a63c98b78",
              "IPY_MODEL_dd896388255b4ad38fe19d913f7ba991"
            ]
          }
        },
        "b89d15b338ba4376b1380048f9a65754": {
          "model_module": "@jupyter-widgets/base",
          "model_name": "LayoutModel",
          "model_module_version": "1.2.0",
          "state": {
            "_view_name": "LayoutView",
            "grid_template_rows": null,
            "right": null,
            "justify_content": null,
            "_view_module": "@jupyter-widgets/base",
            "overflow": null,
            "_model_module_version": "1.2.0",
            "_view_count": null,
            "flex_flow": null,
            "width": null,
            "min_width": null,
            "border": null,
            "align_items": null,
            "bottom": null,
            "_model_module": "@jupyter-widgets/base",
            "top": null,
            "grid_column": null,
            "overflow_y": null,
            "overflow_x": null,
            "grid_auto_flow": null,
            "grid_area": null,
            "grid_template_columns": null,
            "flex": null,
            "_model_name": "LayoutModel",
            "justify_items": null,
            "grid_row": null,
            "max_height": null,
            "align_content": null,
            "visibility": null,
            "align_self": null,
            "height": null,
            "min_height": null,
            "padding": null,
            "grid_auto_rows": null,
            "grid_gap": null,
            "max_width": null,
            "order": null,
            "_view_module_version": "1.2.0",
            "grid_template_areas": null,
            "object_position": null,
            "object_fit": null,
            "grid_auto_columns": null,
            "margin": null,
            "display": null,
            "left": null
          }
        },
        "c031a15c15244ef58cf3b9e246bf7bb9": {
          "model_module": "@jupyter-widgets/controls",
          "model_name": "HTMLModel",
          "model_module_version": "1.5.0",
          "state": {
            "_view_name": "HTMLView",
            "style": "IPY_MODEL_f02b7832630d4a079f7206f1e254a923",
            "_dom_classes": [],
            "description": "",
            "_model_name": "HTMLModel",
            "placeholder": "​",
            "_view_module": "@jupyter-widgets/controls",
            "_model_module_version": "1.5.0",
            "value": "Downloading: 100%",
            "_view_count": null,
            "_view_module_version": "1.5.0",
            "description_tooltip": null,
            "_model_module": "@jupyter-widgets/controls",
            "layout": "IPY_MODEL_a498288052ed48c3b74d5b32757c0145"
          }
        },
        "f7004defb0f5438a9e277c8a63c98b78": {
          "model_module": "@jupyter-widgets/controls",
          "model_name": "FloatProgressModel",
          "model_module_version": "1.5.0",
          "state": {
            "_view_name": "ProgressView",
            "style": "IPY_MODEL_4d2c62dcf947411f86123f79edaf52ec",
            "_dom_classes": [],
            "description": "",
            "_model_name": "FloatProgressModel",
            "bar_style": "success",
            "max": 995526,
            "_view_module": "@jupyter-widgets/controls",
            "_model_module_version": "1.5.0",
            "value": 995526,
            "_view_count": null,
            "_view_module_version": "1.5.0",
            "orientation": "horizontal",
            "min": 0,
            "description_tooltip": null,
            "_model_module": "@jupyter-widgets/controls",
            "layout": "IPY_MODEL_809e4d2eb80d4ac5980920bc03fffd1b"
          }
        },
        "dd896388255b4ad38fe19d913f7ba991": {
          "model_module": "@jupyter-widgets/controls",
          "model_name": "HTMLModel",
          "model_module_version": "1.5.0",
          "state": {
            "_view_name": "HTMLView",
            "style": "IPY_MODEL_efdb43a43a47425d8c85be9e8813b031",
            "_dom_classes": [],
            "description": "",
            "_model_name": "HTMLModel",
            "placeholder": "​",
            "_view_module": "@jupyter-widgets/controls",
            "_model_module_version": "1.5.0",
            "value": " 972k/972k [00:00&lt;00:00, 3.47MB/s]",
            "_view_count": null,
            "_view_module_version": "1.5.0",
            "description_tooltip": null,
            "_model_module": "@jupyter-widgets/controls",
            "layout": "IPY_MODEL_a28629177e534e659a2914a896d839be"
          }
        },
        "f02b7832630d4a079f7206f1e254a923": {
          "model_module": "@jupyter-widgets/controls",
          "model_name": "DescriptionStyleModel",
          "model_module_version": "1.5.0",
          "state": {
            "_view_name": "StyleView",
            "_model_name": "DescriptionStyleModel",
            "description_width": "",
            "_view_module": "@jupyter-widgets/base",
            "_model_module_version": "1.5.0",
            "_view_count": null,
            "_view_module_version": "1.2.0",
            "_model_module": "@jupyter-widgets/controls"
          }
        },
        "a498288052ed48c3b74d5b32757c0145": {
          "model_module": "@jupyter-widgets/base",
          "model_name": "LayoutModel",
          "model_module_version": "1.2.0",
          "state": {
            "_view_name": "LayoutView",
            "grid_template_rows": null,
            "right": null,
            "justify_content": null,
            "_view_module": "@jupyter-widgets/base",
            "overflow": null,
            "_model_module_version": "1.2.0",
            "_view_count": null,
            "flex_flow": null,
            "width": null,
            "min_width": null,
            "border": null,
            "align_items": null,
            "bottom": null,
            "_model_module": "@jupyter-widgets/base",
            "top": null,
            "grid_column": null,
            "overflow_y": null,
            "overflow_x": null,
            "grid_auto_flow": null,
            "grid_area": null,
            "grid_template_columns": null,
            "flex": null,
            "_model_name": "LayoutModel",
            "justify_items": null,
            "grid_row": null,
            "max_height": null,
            "align_content": null,
            "visibility": null,
            "align_self": null,
            "height": null,
            "min_height": null,
            "padding": null,
            "grid_auto_rows": null,
            "grid_gap": null,
            "max_width": null,
            "order": null,
            "_view_module_version": "1.2.0",
            "grid_template_areas": null,
            "object_position": null,
            "object_fit": null,
            "grid_auto_columns": null,
            "margin": null,
            "display": null,
            "left": null
          }
        },
        "4d2c62dcf947411f86123f79edaf52ec": {
          "model_module": "@jupyter-widgets/controls",
          "model_name": "ProgressStyleModel",
          "model_module_version": "1.5.0",
          "state": {
            "_view_name": "StyleView",
            "_model_name": "ProgressStyleModel",
            "description_width": "",
            "_view_module": "@jupyter-widgets/base",
            "_model_module_version": "1.5.0",
            "_view_count": null,
            "_view_module_version": "1.2.0",
            "bar_color": null,
            "_model_module": "@jupyter-widgets/controls"
          }
        },
        "809e4d2eb80d4ac5980920bc03fffd1b": {
          "model_module": "@jupyter-widgets/base",
          "model_name": "LayoutModel",
          "model_module_version": "1.2.0",
          "state": {
            "_view_name": "LayoutView",
            "grid_template_rows": null,
            "right": null,
            "justify_content": null,
            "_view_module": "@jupyter-widgets/base",
            "overflow": null,
            "_model_module_version": "1.2.0",
            "_view_count": null,
            "flex_flow": null,
            "width": null,
            "min_width": null,
            "border": null,
            "align_items": null,
            "bottom": null,
            "_model_module": "@jupyter-widgets/base",
            "top": null,
            "grid_column": null,
            "overflow_y": null,
            "overflow_x": null,
            "grid_auto_flow": null,
            "grid_area": null,
            "grid_template_columns": null,
            "flex": null,
            "_model_name": "LayoutModel",
            "justify_items": null,
            "grid_row": null,
            "max_height": null,
            "align_content": null,
            "visibility": null,
            "align_self": null,
            "height": null,
            "min_height": null,
            "padding": null,
            "grid_auto_rows": null,
            "grid_gap": null,
            "max_width": null,
            "order": null,
            "_view_module_version": "1.2.0",
            "grid_template_areas": null,
            "object_position": null,
            "object_fit": null,
            "grid_auto_columns": null,
            "margin": null,
            "display": null,
            "left": null
          }
        },
        "efdb43a43a47425d8c85be9e8813b031": {
          "model_module": "@jupyter-widgets/controls",
          "model_name": "DescriptionStyleModel",
          "model_module_version": "1.5.0",
          "state": {
            "_view_name": "StyleView",
            "_model_name": "DescriptionStyleModel",
            "description_width": "",
            "_view_module": "@jupyter-widgets/base",
            "_model_module_version": "1.5.0",
            "_view_count": null,
            "_view_module_version": "1.2.0",
            "_model_module": "@jupyter-widgets/controls"
          }
        },
        "a28629177e534e659a2914a896d839be": {
          "model_module": "@jupyter-widgets/base",
          "model_name": "LayoutModel",
          "model_module_version": "1.2.0",
          "state": {
            "_view_name": "LayoutView",
            "grid_template_rows": null,
            "right": null,
            "justify_content": null,
            "_view_module": "@jupyter-widgets/base",
            "overflow": null,
            "_model_module_version": "1.2.0",
            "_view_count": null,
            "flex_flow": null,
            "width": null,
            "min_width": null,
            "border": null,
            "align_items": null,
            "bottom": null,
            "_model_module": "@jupyter-widgets/base",
            "top": null,
            "grid_column": null,
            "overflow_y": null,
            "overflow_x": null,
            "grid_auto_flow": null,
            "grid_area": null,
            "grid_template_columns": null,
            "flex": null,
            "_model_name": "LayoutModel",
            "justify_items": null,
            "grid_row": null,
            "max_height": null,
            "align_content": null,
            "visibility": null,
            "align_self": null,
            "height": null,
            "min_height": null,
            "padding": null,
            "grid_auto_rows": null,
            "grid_gap": null,
            "max_width": null,
            "order": null,
            "_view_module_version": "1.2.0",
            "grid_template_areas": null,
            "object_position": null,
            "object_fit": null,
            "grid_auto_columns": null,
            "margin": null,
            "display": null,
            "left": null
          }
        },
        "a2cde79c958f4b429aab76cb58058c09": {
          "model_module": "@jupyter-widgets/controls",
          "model_name": "HBoxModel",
          "model_module_version": "1.5.0",
          "state": {
            "_view_name": "HBoxView",
            "_dom_classes": [],
            "_model_name": "HBoxModel",
            "_view_module": "@jupyter-widgets/controls",
            "_model_module_version": "1.5.0",
            "_view_count": null,
            "_view_module_version": "1.5.0",
            "box_style": "",
            "layout": "IPY_MODEL_db21c358859e467b87b4a5fe95ee37b0",
            "_model_module": "@jupyter-widgets/controls",
            "children": [
              "IPY_MODEL_067eed4b146a4ce9a1ca869b00e511eb",
              "IPY_MODEL_6a060ed66fc14747a960bfa4e6f59e03",
              "IPY_MODEL_d94c9bd1401d493192c770ed334adfcf"
            ]
          }
        },
        "db21c358859e467b87b4a5fe95ee37b0": {
          "model_module": "@jupyter-widgets/base",
          "model_name": "LayoutModel",
          "model_module_version": "1.2.0",
          "state": {
            "_view_name": "LayoutView",
            "grid_template_rows": null,
            "right": null,
            "justify_content": null,
            "_view_module": "@jupyter-widgets/base",
            "overflow": null,
            "_model_module_version": "1.2.0",
            "_view_count": null,
            "flex_flow": null,
            "width": null,
            "min_width": null,
            "border": null,
            "align_items": null,
            "bottom": null,
            "_model_module": "@jupyter-widgets/base",
            "top": null,
            "grid_column": null,
            "overflow_y": null,
            "overflow_x": null,
            "grid_auto_flow": null,
            "grid_area": null,
            "grid_template_columns": null,
            "flex": null,
            "_model_name": "LayoutModel",
            "justify_items": null,
            "grid_row": null,
            "max_height": null,
            "align_content": null,
            "visibility": null,
            "align_self": null,
            "height": null,
            "min_height": null,
            "padding": null,
            "grid_auto_rows": null,
            "grid_gap": null,
            "max_width": null,
            "order": null,
            "_view_module_version": "1.2.0",
            "grid_template_areas": null,
            "object_position": null,
            "object_fit": null,
            "grid_auto_columns": null,
            "margin": null,
            "display": null,
            "left": null
          }
        },
        "067eed4b146a4ce9a1ca869b00e511eb": {
          "model_module": "@jupyter-widgets/controls",
          "model_name": "HTMLModel",
          "model_module_version": "1.5.0",
          "state": {
            "_view_name": "HTMLView",
            "style": "IPY_MODEL_deeffddbd7b14ba282bf30945a96a17e",
            "_dom_classes": [],
            "description": "",
            "_model_name": "HTMLModel",
            "placeholder": "​",
            "_view_module": "@jupyter-widgets/controls",
            "_model_module_version": "1.5.0",
            "value": "Downloading: 100%",
            "_view_count": null,
            "_view_module_version": "1.5.0",
            "description_tooltip": null,
            "_model_module": "@jupyter-widgets/controls",
            "layout": "IPY_MODEL_bbac8e7f7b0244838c4573ea28c67565"
          }
        },
        "6a060ed66fc14747a960bfa4e6f59e03": {
          "model_module": "@jupyter-widgets/controls",
          "model_name": "FloatProgressModel",
          "model_module_version": "1.5.0",
          "state": {
            "_view_name": "ProgressView",
            "style": "IPY_MODEL_46f8e849109946db9c96ee6f7613d56f",
            "_dom_classes": [],
            "description": "",
            "_model_name": "FloatProgressModel",
            "bar_style": "success",
            "max": 29,
            "_view_module": "@jupyter-widgets/controls",
            "_model_module_version": "1.5.0",
            "value": 29,
            "_view_count": null,
            "_view_module_version": "1.5.0",
            "orientation": "horizontal",
            "min": 0,
            "description_tooltip": null,
            "_model_module": "@jupyter-widgets/controls",
            "layout": "IPY_MODEL_a87e0ef80c3046188177cc331319372d"
          }
        },
        "d94c9bd1401d493192c770ed334adfcf": {
          "model_module": "@jupyter-widgets/controls",
          "model_name": "HTMLModel",
          "model_module_version": "1.5.0",
          "state": {
            "_view_name": "HTMLView",
            "style": "IPY_MODEL_58700b2955b247a0815509e5e84d1e9a",
            "_dom_classes": [],
            "description": "",
            "_model_name": "HTMLModel",
            "placeholder": "​",
            "_view_module": "@jupyter-widgets/controls",
            "_model_module_version": "1.5.0",
            "value": " 29.0/29.0 [00:00&lt;00:00, 1.16kB/s]",
            "_view_count": null,
            "_view_module_version": "1.5.0",
            "description_tooltip": null,
            "_model_module": "@jupyter-widgets/controls",
            "layout": "IPY_MODEL_4fe4dbc4687e47f590af0ec8ae786fb7"
          }
        },
        "deeffddbd7b14ba282bf30945a96a17e": {
          "model_module": "@jupyter-widgets/controls",
          "model_name": "DescriptionStyleModel",
          "model_module_version": "1.5.0",
          "state": {
            "_view_name": "StyleView",
            "_model_name": "DescriptionStyleModel",
            "description_width": "",
            "_view_module": "@jupyter-widgets/base",
            "_model_module_version": "1.5.0",
            "_view_count": null,
            "_view_module_version": "1.2.0",
            "_model_module": "@jupyter-widgets/controls"
          }
        },
        "bbac8e7f7b0244838c4573ea28c67565": {
          "model_module": "@jupyter-widgets/base",
          "model_name": "LayoutModel",
          "model_module_version": "1.2.0",
          "state": {
            "_view_name": "LayoutView",
            "grid_template_rows": null,
            "right": null,
            "justify_content": null,
            "_view_module": "@jupyter-widgets/base",
            "overflow": null,
            "_model_module_version": "1.2.0",
            "_view_count": null,
            "flex_flow": null,
            "width": null,
            "min_width": null,
            "border": null,
            "align_items": null,
            "bottom": null,
            "_model_module": "@jupyter-widgets/base",
            "top": null,
            "grid_column": null,
            "overflow_y": null,
            "overflow_x": null,
            "grid_auto_flow": null,
            "grid_area": null,
            "grid_template_columns": null,
            "flex": null,
            "_model_name": "LayoutModel",
            "justify_items": null,
            "grid_row": null,
            "max_height": null,
            "align_content": null,
            "visibility": null,
            "align_self": null,
            "height": null,
            "min_height": null,
            "padding": null,
            "grid_auto_rows": null,
            "grid_gap": null,
            "max_width": null,
            "order": null,
            "_view_module_version": "1.2.0",
            "grid_template_areas": null,
            "object_position": null,
            "object_fit": null,
            "grid_auto_columns": null,
            "margin": null,
            "display": null,
            "left": null
          }
        },
        "46f8e849109946db9c96ee6f7613d56f": {
          "model_module": "@jupyter-widgets/controls",
          "model_name": "ProgressStyleModel",
          "model_module_version": "1.5.0",
          "state": {
            "_view_name": "StyleView",
            "_model_name": "ProgressStyleModel",
            "description_width": "",
            "_view_module": "@jupyter-widgets/base",
            "_model_module_version": "1.5.0",
            "_view_count": null,
            "_view_module_version": "1.2.0",
            "bar_color": null,
            "_model_module": "@jupyter-widgets/controls"
          }
        },
        "a87e0ef80c3046188177cc331319372d": {
          "model_module": "@jupyter-widgets/base",
          "model_name": "LayoutModel",
          "model_module_version": "1.2.0",
          "state": {
            "_view_name": "LayoutView",
            "grid_template_rows": null,
            "right": null,
            "justify_content": null,
            "_view_module": "@jupyter-widgets/base",
            "overflow": null,
            "_model_module_version": "1.2.0",
            "_view_count": null,
            "flex_flow": null,
            "width": null,
            "min_width": null,
            "border": null,
            "align_items": null,
            "bottom": null,
            "_model_module": "@jupyter-widgets/base",
            "top": null,
            "grid_column": null,
            "overflow_y": null,
            "overflow_x": null,
            "grid_auto_flow": null,
            "grid_area": null,
            "grid_template_columns": null,
            "flex": null,
            "_model_name": "LayoutModel",
            "justify_items": null,
            "grid_row": null,
            "max_height": null,
            "align_content": null,
            "visibility": null,
            "align_self": null,
            "height": null,
            "min_height": null,
            "padding": null,
            "grid_auto_rows": null,
            "grid_gap": null,
            "max_width": null,
            "order": null,
            "_view_module_version": "1.2.0",
            "grid_template_areas": null,
            "object_position": null,
            "object_fit": null,
            "grid_auto_columns": null,
            "margin": null,
            "display": null,
            "left": null
          }
        },
        "58700b2955b247a0815509e5e84d1e9a": {
          "model_module": "@jupyter-widgets/controls",
          "model_name": "DescriptionStyleModel",
          "model_module_version": "1.5.0",
          "state": {
            "_view_name": "StyleView",
            "_model_name": "DescriptionStyleModel",
            "description_width": "",
            "_view_module": "@jupyter-widgets/base",
            "_model_module_version": "1.5.0",
            "_view_count": null,
            "_view_module_version": "1.2.0",
            "_model_module": "@jupyter-widgets/controls"
          }
        },
        "4fe4dbc4687e47f590af0ec8ae786fb7": {
          "model_module": "@jupyter-widgets/base",
          "model_name": "LayoutModel",
          "model_module_version": "1.2.0",
          "state": {
            "_view_name": "LayoutView",
            "grid_template_rows": null,
            "right": null,
            "justify_content": null,
            "_view_module": "@jupyter-widgets/base",
            "overflow": null,
            "_model_module_version": "1.2.0",
            "_view_count": null,
            "flex_flow": null,
            "width": null,
            "min_width": null,
            "border": null,
            "align_items": null,
            "bottom": null,
            "_model_module": "@jupyter-widgets/base",
            "top": null,
            "grid_column": null,
            "overflow_y": null,
            "overflow_x": null,
            "grid_auto_flow": null,
            "grid_area": null,
            "grid_template_columns": null,
            "flex": null,
            "_model_name": "LayoutModel",
            "justify_items": null,
            "grid_row": null,
            "max_height": null,
            "align_content": null,
            "visibility": null,
            "align_self": null,
            "height": null,
            "min_height": null,
            "padding": null,
            "grid_auto_rows": null,
            "grid_gap": null,
            "max_width": null,
            "order": null,
            "_view_module_version": "1.2.0",
            "grid_template_areas": null,
            "object_position": null,
            "object_fit": null,
            "grid_auto_columns": null,
            "margin": null,
            "display": null,
            "left": null
          }
        },
        "b08a0e55365d44928cdcb3886b1ea857": {
          "model_module": "@jupyter-widgets/controls",
          "model_name": "HBoxModel",
          "model_module_version": "1.5.0",
          "state": {
            "_view_name": "HBoxView",
            "_dom_classes": [],
            "_model_name": "HBoxModel",
            "_view_module": "@jupyter-widgets/controls",
            "_model_module_version": "1.5.0",
            "_view_count": null,
            "_view_module_version": "1.5.0",
            "box_style": "",
            "layout": "IPY_MODEL_6744e628b1ce4bbd8846a06504b8e014",
            "_model_module": "@jupyter-widgets/controls",
            "children": [
              "IPY_MODEL_07a580b54c4d44e19dba1df0675c8b3c",
              "IPY_MODEL_54dc6a315fef44c48f1146aa863ea70b",
              "IPY_MODEL_ab22260dea004dd5bee81067e18bf5e9"
            ]
          }
        },
        "6744e628b1ce4bbd8846a06504b8e014": {
          "model_module": "@jupyter-widgets/base",
          "model_name": "LayoutModel",
          "model_module_version": "1.2.0",
          "state": {
            "_view_name": "LayoutView",
            "grid_template_rows": null,
            "right": null,
            "justify_content": null,
            "_view_module": "@jupyter-widgets/base",
            "overflow": null,
            "_model_module_version": "1.2.0",
            "_view_count": null,
            "flex_flow": null,
            "width": null,
            "min_width": null,
            "border": null,
            "align_items": null,
            "bottom": null,
            "_model_module": "@jupyter-widgets/base",
            "top": null,
            "grid_column": null,
            "overflow_y": null,
            "overflow_x": null,
            "grid_auto_flow": null,
            "grid_area": null,
            "grid_template_columns": null,
            "flex": null,
            "_model_name": "LayoutModel",
            "justify_items": null,
            "grid_row": null,
            "max_height": null,
            "align_content": null,
            "visibility": null,
            "align_self": null,
            "height": null,
            "min_height": null,
            "padding": null,
            "grid_auto_rows": null,
            "grid_gap": null,
            "max_width": null,
            "order": null,
            "_view_module_version": "1.2.0",
            "grid_template_areas": null,
            "object_position": null,
            "object_fit": null,
            "grid_auto_columns": null,
            "margin": null,
            "display": null,
            "left": null
          }
        },
        "07a580b54c4d44e19dba1df0675c8b3c": {
          "model_module": "@jupyter-widgets/controls",
          "model_name": "HTMLModel",
          "model_module_version": "1.5.0",
          "state": {
            "_view_name": "HTMLView",
            "style": "IPY_MODEL_e9f7c6beaebe407fb1206b2a7ad4e015",
            "_dom_classes": [],
            "description": "",
            "_model_name": "HTMLModel",
            "placeholder": "​",
            "_view_module": "@jupyter-widgets/controls",
            "_model_module_version": "1.5.0",
            "value": "Downloading: 100%",
            "_view_count": null,
            "_view_module_version": "1.5.0",
            "description_tooltip": null,
            "_model_module": "@jupyter-widgets/controls",
            "layout": "IPY_MODEL_f50619209d43433db596377a32871127"
          }
        },
        "54dc6a315fef44c48f1146aa863ea70b": {
          "model_module": "@jupyter-widgets/controls",
          "model_name": "FloatProgressModel",
          "model_module_version": "1.5.0",
          "state": {
            "_view_name": "ProgressView",
            "style": "IPY_MODEL_85dd7ab9f2b84fb78d935686111d1674",
            "_dom_classes": [],
            "description": "",
            "_model_name": "FloatProgressModel",
            "bar_style": "success",
            "max": 1961828,
            "_view_module": "@jupyter-widgets/controls",
            "_model_module_version": "1.5.0",
            "value": 1961828,
            "_view_count": null,
            "_view_module_version": "1.5.0",
            "orientation": "horizontal",
            "min": 0,
            "description_tooltip": null,
            "_model_module": "@jupyter-widgets/controls",
            "layout": "IPY_MODEL_0f89003966184372830f05325b4c3ec5"
          }
        },
        "ab22260dea004dd5bee81067e18bf5e9": {
          "model_module": "@jupyter-widgets/controls",
          "model_name": "HTMLModel",
          "model_module_version": "1.5.0",
          "state": {
            "_view_name": "HTMLView",
            "style": "IPY_MODEL_bbf075b6fe4d455a9da4244eb3cc10ac",
            "_dom_classes": [],
            "description": "",
            "_model_name": "HTMLModel",
            "placeholder": "​",
            "_view_module": "@jupyter-widgets/controls",
            "_model_module_version": "1.5.0",
            "value": " 1.87M/1.87M [00:00&lt;00:00, 3.64MB/s]",
            "_view_count": null,
            "_view_module_version": "1.5.0",
            "description_tooltip": null,
            "_model_module": "@jupyter-widgets/controls",
            "layout": "IPY_MODEL_21ac9ba736344a979248c5044a7d02ab"
          }
        },
        "e9f7c6beaebe407fb1206b2a7ad4e015": {
          "model_module": "@jupyter-widgets/controls",
          "model_name": "DescriptionStyleModel",
          "model_module_version": "1.5.0",
          "state": {
            "_view_name": "StyleView",
            "_model_name": "DescriptionStyleModel",
            "description_width": "",
            "_view_module": "@jupyter-widgets/base",
            "_model_module_version": "1.5.0",
            "_view_count": null,
            "_view_module_version": "1.2.0",
            "_model_module": "@jupyter-widgets/controls"
          }
        },
        "f50619209d43433db596377a32871127": {
          "model_module": "@jupyter-widgets/base",
          "model_name": "LayoutModel",
          "model_module_version": "1.2.0",
          "state": {
            "_view_name": "LayoutView",
            "grid_template_rows": null,
            "right": null,
            "justify_content": null,
            "_view_module": "@jupyter-widgets/base",
            "overflow": null,
            "_model_module_version": "1.2.0",
            "_view_count": null,
            "flex_flow": null,
            "width": null,
            "min_width": null,
            "border": null,
            "align_items": null,
            "bottom": null,
            "_model_module": "@jupyter-widgets/base",
            "top": null,
            "grid_column": null,
            "overflow_y": null,
            "overflow_x": null,
            "grid_auto_flow": null,
            "grid_area": null,
            "grid_template_columns": null,
            "flex": null,
            "_model_name": "LayoutModel",
            "justify_items": null,
            "grid_row": null,
            "max_height": null,
            "align_content": null,
            "visibility": null,
            "align_self": null,
            "height": null,
            "min_height": null,
            "padding": null,
            "grid_auto_rows": null,
            "grid_gap": null,
            "max_width": null,
            "order": null,
            "_view_module_version": "1.2.0",
            "grid_template_areas": null,
            "object_position": null,
            "object_fit": null,
            "grid_auto_columns": null,
            "margin": null,
            "display": null,
            "left": null
          }
        },
        "85dd7ab9f2b84fb78d935686111d1674": {
          "model_module": "@jupyter-widgets/controls",
          "model_name": "ProgressStyleModel",
          "model_module_version": "1.5.0",
          "state": {
            "_view_name": "StyleView",
            "_model_name": "ProgressStyleModel",
            "description_width": "",
            "_view_module": "@jupyter-widgets/base",
            "_model_module_version": "1.5.0",
            "_view_count": null,
            "_view_module_version": "1.2.0",
            "bar_color": null,
            "_model_module": "@jupyter-widgets/controls"
          }
        },
        "0f89003966184372830f05325b4c3ec5": {
          "model_module": "@jupyter-widgets/base",
          "model_name": "LayoutModel",
          "model_module_version": "1.2.0",
          "state": {
            "_view_name": "LayoutView",
            "grid_template_rows": null,
            "right": null,
            "justify_content": null,
            "_view_module": "@jupyter-widgets/base",
            "overflow": null,
            "_model_module_version": "1.2.0",
            "_view_count": null,
            "flex_flow": null,
            "width": null,
            "min_width": null,
            "border": null,
            "align_items": null,
            "bottom": null,
            "_model_module": "@jupyter-widgets/base",
            "top": null,
            "grid_column": null,
            "overflow_y": null,
            "overflow_x": null,
            "grid_auto_flow": null,
            "grid_area": null,
            "grid_template_columns": null,
            "flex": null,
            "_model_name": "LayoutModel",
            "justify_items": null,
            "grid_row": null,
            "max_height": null,
            "align_content": null,
            "visibility": null,
            "align_self": null,
            "height": null,
            "min_height": null,
            "padding": null,
            "grid_auto_rows": null,
            "grid_gap": null,
            "max_width": null,
            "order": null,
            "_view_module_version": "1.2.0",
            "grid_template_areas": null,
            "object_position": null,
            "object_fit": null,
            "grid_auto_columns": null,
            "margin": null,
            "display": null,
            "left": null
          }
        },
        "bbf075b6fe4d455a9da4244eb3cc10ac": {
          "model_module": "@jupyter-widgets/controls",
          "model_name": "DescriptionStyleModel",
          "model_module_version": "1.5.0",
          "state": {
            "_view_name": "StyleView",
            "_model_name": "DescriptionStyleModel",
            "description_width": "",
            "_view_module": "@jupyter-widgets/base",
            "_model_module_version": "1.5.0",
            "_view_count": null,
            "_view_module_version": "1.2.0",
            "_model_module": "@jupyter-widgets/controls"
          }
        },
        "21ac9ba736344a979248c5044a7d02ab": {
          "model_module": "@jupyter-widgets/base",
          "model_name": "LayoutModel",
          "model_module_version": "1.2.0",
          "state": {
            "_view_name": "LayoutView",
            "grid_template_rows": null,
            "right": null,
            "justify_content": null,
            "_view_module": "@jupyter-widgets/base",
            "overflow": null,
            "_model_module_version": "1.2.0",
            "_view_count": null,
            "flex_flow": null,
            "width": null,
            "min_width": null,
            "border": null,
            "align_items": null,
            "bottom": null,
            "_model_module": "@jupyter-widgets/base",
            "top": null,
            "grid_column": null,
            "overflow_y": null,
            "overflow_x": null,
            "grid_auto_flow": null,
            "grid_area": null,
            "grid_template_columns": null,
            "flex": null,
            "_model_name": "LayoutModel",
            "justify_items": null,
            "grid_row": null,
            "max_height": null,
            "align_content": null,
            "visibility": null,
            "align_self": null,
            "height": null,
            "min_height": null,
            "padding": null,
            "grid_auto_rows": null,
            "grid_gap": null,
            "max_width": null,
            "order": null,
            "_view_module_version": "1.2.0",
            "grid_template_areas": null,
            "object_position": null,
            "object_fit": null,
            "grid_auto_columns": null,
            "margin": null,
            "display": null,
            "left": null
          }
        },
        "dfeed157dac54be7bc865c673ac5c99f": {
          "model_module": "@jupyter-widgets/controls",
          "model_name": "HBoxModel",
          "model_module_version": "1.5.0",
          "state": {
            "_view_name": "HBoxView",
            "_dom_classes": [],
            "_model_name": "HBoxModel",
            "_view_module": "@jupyter-widgets/controls",
            "_model_module_version": "1.5.0",
            "_view_count": null,
            "_view_module_version": "1.5.0",
            "box_style": "",
            "layout": "IPY_MODEL_bb4867cb55b944029a8466150f1495ca",
            "_model_module": "@jupyter-widgets/controls",
            "children": [
              "IPY_MODEL_7f99e45ded964695a9cf92910c16646b",
              "IPY_MODEL_fa4efb64ba714954a50e69f9a260f9b0",
              "IPY_MODEL_4ba60aa6ebff4685aa135b00ac641812"
            ]
          }
        },
        "bb4867cb55b944029a8466150f1495ca": {
          "model_module": "@jupyter-widgets/base",
          "model_name": "LayoutModel",
          "model_module_version": "1.2.0",
          "state": {
            "_view_name": "LayoutView",
            "grid_template_rows": null,
            "right": null,
            "justify_content": null,
            "_view_module": "@jupyter-widgets/base",
            "overflow": null,
            "_model_module_version": "1.2.0",
            "_view_count": null,
            "flex_flow": null,
            "width": null,
            "min_width": null,
            "border": null,
            "align_items": null,
            "bottom": null,
            "_model_module": "@jupyter-widgets/base",
            "top": null,
            "grid_column": null,
            "overflow_y": null,
            "overflow_x": null,
            "grid_auto_flow": null,
            "grid_area": null,
            "grid_template_columns": null,
            "flex": null,
            "_model_name": "LayoutModel",
            "justify_items": null,
            "grid_row": null,
            "max_height": null,
            "align_content": null,
            "visibility": null,
            "align_self": null,
            "height": null,
            "min_height": null,
            "padding": null,
            "grid_auto_rows": null,
            "grid_gap": null,
            "max_width": null,
            "order": null,
            "_view_module_version": "1.2.0",
            "grid_template_areas": null,
            "object_position": null,
            "object_fit": null,
            "grid_auto_columns": null,
            "margin": null,
            "display": null,
            "left": null
          }
        },
        "7f99e45ded964695a9cf92910c16646b": {
          "model_module": "@jupyter-widgets/controls",
          "model_name": "HTMLModel",
          "model_module_version": "1.5.0",
          "state": {
            "_view_name": "HTMLView",
            "style": "IPY_MODEL_94917ab5674c4c35bbda76015010e617",
            "_dom_classes": [],
            "description": "",
            "_model_name": "HTMLModel",
            "placeholder": "​",
            "_view_module": "@jupyter-widgets/controls",
            "_model_module_version": "1.5.0",
            "value": "Downloading: 100%",
            "_view_count": null,
            "_view_module_version": "1.5.0",
            "description_tooltip": null,
            "_model_module": "@jupyter-widgets/controls",
            "layout": "IPY_MODEL_6816a328242c469296c5050f69a0520b"
          }
        },
        "fa4efb64ba714954a50e69f9a260f9b0": {
          "model_module": "@jupyter-widgets/controls",
          "model_name": "FloatProgressModel",
          "model_module_version": "1.5.0",
          "state": {
            "_view_name": "ProgressView",
            "style": "IPY_MODEL_5a715ecfb774435db79afb791f3bf57d",
            "_dom_classes": [],
            "description": "",
            "_model_name": "FloatProgressModel",
            "bar_style": "success",
            "max": 625,
            "_view_module": "@jupyter-widgets/controls",
            "_model_module_version": "1.5.0",
            "value": 625,
            "_view_count": null,
            "_view_module_version": "1.5.0",
            "orientation": "horizontal",
            "min": 0,
            "description_tooltip": null,
            "_model_module": "@jupyter-widgets/controls",
            "layout": "IPY_MODEL_66e231b1f8a14c2fb7908f19b3cc5cd2"
          }
        },
        "4ba60aa6ebff4685aa135b00ac641812": {
          "model_module": "@jupyter-widgets/controls",
          "model_name": "HTMLModel",
          "model_module_version": "1.5.0",
          "state": {
            "_view_name": "HTMLView",
            "style": "IPY_MODEL_8132fd764cea4389a443a2b408464bbd",
            "_dom_classes": [],
            "description": "",
            "_model_name": "HTMLModel",
            "placeholder": "​",
            "_view_module": "@jupyter-widgets/controls",
            "_model_module_version": "1.5.0",
            "value": " 625/625 [00:00&lt;00:00, 26.7kB/s]",
            "_view_count": null,
            "_view_module_version": "1.5.0",
            "description_tooltip": null,
            "_model_module": "@jupyter-widgets/controls",
            "layout": "IPY_MODEL_3315e1eeb6814b2bb1a9547e7d4facdb"
          }
        },
        "94917ab5674c4c35bbda76015010e617": {
          "model_module": "@jupyter-widgets/controls",
          "model_name": "DescriptionStyleModel",
          "model_module_version": "1.5.0",
          "state": {
            "_view_name": "StyleView",
            "_model_name": "DescriptionStyleModel",
            "description_width": "",
            "_view_module": "@jupyter-widgets/base",
            "_model_module_version": "1.5.0",
            "_view_count": null,
            "_view_module_version": "1.2.0",
            "_model_module": "@jupyter-widgets/controls"
          }
        },
        "6816a328242c469296c5050f69a0520b": {
          "model_module": "@jupyter-widgets/base",
          "model_name": "LayoutModel",
          "model_module_version": "1.2.0",
          "state": {
            "_view_name": "LayoutView",
            "grid_template_rows": null,
            "right": null,
            "justify_content": null,
            "_view_module": "@jupyter-widgets/base",
            "overflow": null,
            "_model_module_version": "1.2.0",
            "_view_count": null,
            "flex_flow": null,
            "width": null,
            "min_width": null,
            "border": null,
            "align_items": null,
            "bottom": null,
            "_model_module": "@jupyter-widgets/base",
            "top": null,
            "grid_column": null,
            "overflow_y": null,
            "overflow_x": null,
            "grid_auto_flow": null,
            "grid_area": null,
            "grid_template_columns": null,
            "flex": null,
            "_model_name": "LayoutModel",
            "justify_items": null,
            "grid_row": null,
            "max_height": null,
            "align_content": null,
            "visibility": null,
            "align_self": null,
            "height": null,
            "min_height": null,
            "padding": null,
            "grid_auto_rows": null,
            "grid_gap": null,
            "max_width": null,
            "order": null,
            "_view_module_version": "1.2.0",
            "grid_template_areas": null,
            "object_position": null,
            "object_fit": null,
            "grid_auto_columns": null,
            "margin": null,
            "display": null,
            "left": null
          }
        },
        "5a715ecfb774435db79afb791f3bf57d": {
          "model_module": "@jupyter-widgets/controls",
          "model_name": "ProgressStyleModel",
          "model_module_version": "1.5.0",
          "state": {
            "_view_name": "StyleView",
            "_model_name": "ProgressStyleModel",
            "description_width": "",
            "_view_module": "@jupyter-widgets/base",
            "_model_module_version": "1.5.0",
            "_view_count": null,
            "_view_module_version": "1.2.0",
            "bar_color": null,
            "_model_module": "@jupyter-widgets/controls"
          }
        },
        "66e231b1f8a14c2fb7908f19b3cc5cd2": {
          "model_module": "@jupyter-widgets/base",
          "model_name": "LayoutModel",
          "model_module_version": "1.2.0",
          "state": {
            "_view_name": "LayoutView",
            "grid_template_rows": null,
            "right": null,
            "justify_content": null,
            "_view_module": "@jupyter-widgets/base",
            "overflow": null,
            "_model_module_version": "1.2.0",
            "_view_count": null,
            "flex_flow": null,
            "width": null,
            "min_width": null,
            "border": null,
            "align_items": null,
            "bottom": null,
            "_model_module": "@jupyter-widgets/base",
            "top": null,
            "grid_column": null,
            "overflow_y": null,
            "overflow_x": null,
            "grid_auto_flow": null,
            "grid_area": null,
            "grid_template_columns": null,
            "flex": null,
            "_model_name": "LayoutModel",
            "justify_items": null,
            "grid_row": null,
            "max_height": null,
            "align_content": null,
            "visibility": null,
            "align_self": null,
            "height": null,
            "min_height": null,
            "padding": null,
            "grid_auto_rows": null,
            "grid_gap": null,
            "max_width": null,
            "order": null,
            "_view_module_version": "1.2.0",
            "grid_template_areas": null,
            "object_position": null,
            "object_fit": null,
            "grid_auto_columns": null,
            "margin": null,
            "display": null,
            "left": null
          }
        },
        "8132fd764cea4389a443a2b408464bbd": {
          "model_module": "@jupyter-widgets/controls",
          "model_name": "DescriptionStyleModel",
          "model_module_version": "1.5.0",
          "state": {
            "_view_name": "StyleView",
            "_model_name": "DescriptionStyleModel",
            "description_width": "",
            "_view_module": "@jupyter-widgets/base",
            "_model_module_version": "1.5.0",
            "_view_count": null,
            "_view_module_version": "1.2.0",
            "_model_module": "@jupyter-widgets/controls"
          }
        },
        "3315e1eeb6814b2bb1a9547e7d4facdb": {
          "model_module": "@jupyter-widgets/base",
          "model_name": "LayoutModel",
          "model_module_version": "1.2.0",
          "state": {
            "_view_name": "LayoutView",
            "grid_template_rows": null,
            "right": null,
            "justify_content": null,
            "_view_module": "@jupyter-widgets/base",
            "overflow": null,
            "_model_module_version": "1.2.0",
            "_view_count": null,
            "flex_flow": null,
            "width": null,
            "min_width": null,
            "border": null,
            "align_items": null,
            "bottom": null,
            "_model_module": "@jupyter-widgets/base",
            "top": null,
            "grid_column": null,
            "overflow_y": null,
            "overflow_x": null,
            "grid_auto_flow": null,
            "grid_area": null,
            "grid_template_columns": null,
            "flex": null,
            "_model_name": "LayoutModel",
            "justify_items": null,
            "grid_row": null,
            "max_height": null,
            "align_content": null,
            "visibility": null,
            "align_self": null,
            "height": null,
            "min_height": null,
            "padding": null,
            "grid_auto_rows": null,
            "grid_gap": null,
            "max_width": null,
            "order": null,
            "_view_module_version": "1.2.0",
            "grid_template_areas": null,
            "object_position": null,
            "object_fit": null,
            "grid_auto_columns": null,
            "margin": null,
            "display": null,
            "left": null
          }
        }
      }
    }
  },
  "nbformat": 4,
  "nbformat_minor": 0
}