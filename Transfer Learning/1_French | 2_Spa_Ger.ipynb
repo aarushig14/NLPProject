{
  "cells": [
    {
      "cell_type": "code",
      "execution_count": 1,
      "metadata": {
        "colab": {
          "base_uri": "https://localhost:8080/"
        },
        "id": "GQppe-XiVE6F",
        "outputId": "c5104634-c708-4682-953e-035433d960af"
      },
      "outputs": [
        {
          "output_type": "stream",
          "name": "stdout",
          "text": [
            "Collecting transformers\n",
            "  Downloading transformers-4.13.0-py3-none-any.whl (3.3 MB)\n",
            "\u001b[K     |████████████████████████████████| 3.3 MB 6.8 MB/s \n",
            "\u001b[?25hRequirement already satisfied: numpy>=1.17 in /usr/local/lib/python3.7/dist-packages (from transformers) (1.19.5)\n",
            "Requirement already satisfied: requests in /usr/local/lib/python3.7/dist-packages (from transformers) (2.23.0)\n",
            "Requirement already satisfied: importlib-metadata in /usr/local/lib/python3.7/dist-packages (from transformers) (4.8.2)\n",
            "Collecting sacremoses\n",
            "  Downloading sacremoses-0.0.46-py3-none-any.whl (895 kB)\n",
            "\u001b[K     |████████████████████████████████| 895 kB 63.3 MB/s \n",
            "\u001b[?25hRequirement already satisfied: regex!=2019.12.17 in /usr/local/lib/python3.7/dist-packages (from transformers) (2019.12.20)\n",
            "Collecting huggingface-hub<1.0,>=0.1.0\n",
            "  Downloading huggingface_hub-0.2.1-py3-none-any.whl (61 kB)\n",
            "\u001b[K     |████████████████████████████████| 61 kB 649 kB/s \n",
            "\u001b[?25hRequirement already satisfied: packaging>=20.0 in /usr/local/lib/python3.7/dist-packages (from transformers) (21.3)\n",
            "Collecting tokenizers<0.11,>=0.10.1\n",
            "  Downloading tokenizers-0.10.3-cp37-cp37m-manylinux_2_5_x86_64.manylinux1_x86_64.manylinux_2_12_x86_64.manylinux2010_x86_64.whl (3.3 MB)\n",
            "\u001b[K     |████████████████████████████████| 3.3 MB 23.4 MB/s \n",
            "\u001b[?25hCollecting pyyaml>=5.1\n",
            "  Downloading PyYAML-6.0-cp37-cp37m-manylinux_2_5_x86_64.manylinux1_x86_64.manylinux_2_12_x86_64.manylinux2010_x86_64.whl (596 kB)\n",
            "\u001b[K     |████████████████████████████████| 596 kB 91.7 MB/s \n",
            "\u001b[?25hRequirement already satisfied: tqdm>=4.27 in /usr/local/lib/python3.7/dist-packages (from transformers) (4.62.3)\n",
            "Requirement already satisfied: filelock in /usr/local/lib/python3.7/dist-packages (from transformers) (3.4.0)\n",
            "Requirement already satisfied: typing-extensions>=3.7.4.3 in /usr/local/lib/python3.7/dist-packages (from huggingface-hub<1.0,>=0.1.0->transformers) (3.10.0.2)\n",
            "Requirement already satisfied: pyparsing!=3.0.5,>=2.0.2 in /usr/local/lib/python3.7/dist-packages (from packaging>=20.0->transformers) (3.0.6)\n",
            "Requirement already satisfied: zipp>=0.5 in /usr/local/lib/python3.7/dist-packages (from importlib-metadata->transformers) (3.6.0)\n",
            "Requirement already satisfied: urllib3!=1.25.0,!=1.25.1,<1.26,>=1.21.1 in /usr/local/lib/python3.7/dist-packages (from requests->transformers) (1.24.3)\n",
            "Requirement already satisfied: certifi>=2017.4.17 in /usr/local/lib/python3.7/dist-packages (from requests->transformers) (2021.10.8)\n",
            "Requirement already satisfied: idna<3,>=2.5 in /usr/local/lib/python3.7/dist-packages (from requests->transformers) (2.10)\n",
            "Requirement already satisfied: chardet<4,>=3.0.2 in /usr/local/lib/python3.7/dist-packages (from requests->transformers) (3.0.4)\n",
            "Requirement already satisfied: six in /usr/local/lib/python3.7/dist-packages (from sacremoses->transformers) (1.15.0)\n",
            "Requirement already satisfied: click in /usr/local/lib/python3.7/dist-packages (from sacremoses->transformers) (7.1.2)\n",
            "Requirement already satisfied: joblib in /usr/local/lib/python3.7/dist-packages (from sacremoses->transformers) (1.1.0)\n",
            "Installing collected packages: pyyaml, tokenizers, sacremoses, huggingface-hub, transformers\n",
            "  Attempting uninstall: pyyaml\n",
            "    Found existing installation: PyYAML 3.13\n",
            "    Uninstalling PyYAML-3.13:\n",
            "      Successfully uninstalled PyYAML-3.13\n",
            "Successfully installed huggingface-hub-0.2.1 pyyaml-6.0 sacremoses-0.0.46 tokenizers-0.10.3 transformers-4.13.0\n"
          ]
        }
      ],
      "source": [
        "!pip install transformers"
      ]
    },
    {
      "cell_type": "code",
      "execution_count": 2,
      "metadata": {
        "id": "1d8CZB1Ok8Pr"
      },
      "outputs": [],
      "source": [
        "import nltk\n",
        "import matplotlib.pyplot as plt\n",
        "import pandas as pd\n",
        "import collections\n",
        "import numpy as np\n",
        "import re\n",
        "from nltk.corpus import stopwords\n",
        "import copy\n",
        "import torch\n",
        "\n",
        "from torch.utils.data import TensorDataset,random_split\n",
        "from transformers import BertTokenizer\n",
        "from torch.utils.data import DataLoader,RandomSampler,SequentialSampler\n",
        "from transformers import BertForSequenceClassification, AdamW\n",
        "from transformers import get_linear_schedule_with_warmup\n",
        "import numpy as np\n",
        "import random\n",
        "import time\n",
        "from sklearn.metrics import classification_report,accuracy_score,f1_score\n",
        "\n"
      ]
    },
    {
      "cell_type": "code",
      "execution_count": 3,
      "metadata": {
        "colab": {
          "base_uri": "https://localhost:8080/"
        },
        "id": "kE9pSBpDYdrW",
        "outputId": "7cb4f61d-af24-4d15-ce6b-f9d3d9252856"
      },
      "outputs": [
        {
          "output_type": "stream",
          "name": "stdout",
          "text": [
            "cuda\n"
          ]
        }
      ],
      "source": [
        "if torch.cuda.is_available():    \n",
        "    device = torch.device(\"cuda\")\n",
        "else:\n",
        "    device = torch.device(\"cpu\")\n",
        "print(device)"
      ]
    },
    {
      "cell_type": "code",
      "execution_count": 4,
      "metadata": {
        "colab": {
          "base_uri": "https://localhost:8080/"
        },
        "id": "6n-pSxvaRNZk",
        "outputId": "add4a944-ef0c-4254-e0fc-b5f75b587528"
      },
      "outputs": [
        {
          "output_type": "stream",
          "name": "stdout",
          "text": [
            "[nltk_data] Downloading package stopwords to /root/nltk_data...\n",
            "[nltk_data]   Unzipping corpora/stopwords.zip.\n"
          ]
        },
        {
          "output_type": "execute_result",
          "data": {
            "text/plain": [
              "True"
            ]
          },
          "metadata": {},
          "execution_count": 4
        }
      ],
      "source": [
        "nltk.download('stopwords')"
      ]
    },
    {
      "cell_type": "code",
      "execution_count": 5,
      "metadata": {
        "colab": {
          "base_uri": "https://localhost:8080/"
        },
        "id": "cLyrJ1tclbOz",
        "outputId": "71717b25-25d0-4100-d846-63d270adbd8e"
      },
      "outputs": [
        {
          "output_type": "stream",
          "name": "stdout",
          "text": [
            "Mounted at /content/gdrive\n"
          ]
        }
      ],
      "source": [
        "from google.colab import drive\n",
        "drive.mount('/content/gdrive')"
      ]
    },
    {
      "cell_type": "markdown",
      "metadata": {
        "id": "1q3aKOJVkPcF"
      },
      "source": [
        "### FRENCH DATASET ANALYSIS"
      ]
    },
    {
      "cell_type": "code",
      "execution_count": 6,
      "metadata": {
        "id": "CKC26dfCkSSB"
      },
      "outputs": [],
      "source": [
        "FRENCH_HOF = []\n",
        "FRENCH_NOT = []"
      ]
    },
    {
      "cell_type": "code",
      "execution_count": 7,
      "metadata": {
        "colab": {
          "base_uri": "https://localhost:8080/",
          "height": 0
        },
        "id": "hMdfHbBvkVzO",
        "outputId": "568ddab8-ac65-468e-80cb-665f25582428"
      },
      "outputs": [
        {
          "output_type": "stream",
          "name": "stdout",
          "text": [
            "(199987, 2)\n",
            "(5000, 2)\n",
            "(4000, 3)\n",
            "    index  label                                               text\n",
            "0   28990      0                     Ne peut pas le faire. travail.\n",
            "1   13525      0  Aw! Je veux un chiot ... appelle-la quelque ch...\n",
            "2   71945      0  On dirait qu'il veut pleuvoir ici, mais je sai...\n",
            "3  114318      0  Joyeux jour papa papa je t'aime! Travailler au...\n",
            "4  105232      0  Pourquoi suis-je en train de nourrir les enfan...\n",
            "Counter({0: 3470, 1: 530})\n",
            "Index(['index', 'label', 'text'], dtype='object')\n",
            "Counter({0: 3470, 1: 530})\n"
          ]
        },
        {
          "output_type": "execute_result",
          "data": {
            "text/html": [
              "<div>\n",
              "<style scoped>\n",
              "    .dataframe tbody tr th:only-of-type {\n",
              "        vertical-align: middle;\n",
              "    }\n",
              "\n",
              "    .dataframe tbody tr th {\n",
              "        vertical-align: top;\n",
              "    }\n",
              "\n",
              "    .dataframe thead th {\n",
              "        text-align: right;\n",
              "    }\n",
              "</style>\n",
              "<table border=\"1\" class=\"dataframe\">\n",
              "  <thead>\n",
              "    <tr style=\"text-align: right;\">\n",
              "      <th></th>\n",
              "      <th>index</th>\n",
              "      <th>label</th>\n",
              "      <th>text</th>\n",
              "    </tr>\n",
              "  </thead>\n",
              "  <tbody>\n",
              "    <tr>\n",
              "      <th>0</th>\n",
              "      <td>28990</td>\n",
              "      <td>0</td>\n",
              "      <td>Ne peut pas le faire. travail.</td>\n",
              "    </tr>\n",
              "    <tr>\n",
              "      <th>1</th>\n",
              "      <td>13525</td>\n",
              "      <td>0</td>\n",
              "      <td>Aw! Je veux un chiot ... appelle-la quelque ch...</td>\n",
              "    </tr>\n",
              "    <tr>\n",
              "      <th>2</th>\n",
              "      <td>71945</td>\n",
              "      <td>0</td>\n",
              "      <td>On dirait qu'il veut pleuvoir ici, mais je sai...</td>\n",
              "    </tr>\n",
              "    <tr>\n",
              "      <th>3</th>\n",
              "      <td>114318</td>\n",
              "      <td>0</td>\n",
              "      <td>Joyeux jour papa papa je t'aime! Travailler au...</td>\n",
              "    </tr>\n",
              "    <tr>\n",
              "      <th>4</th>\n",
              "      <td>105232</td>\n",
              "      <td>0</td>\n",
              "      <td>Pourquoi suis-je en train de nourrir les enfan...</td>\n",
              "    </tr>\n",
              "  </tbody>\n",
              "</table>\n",
              "</div>"
            ],
            "text/plain": [
              "    index  label                                               text\n",
              "0   28990      0                     Ne peut pas le faire. travail.\n",
              "1   13525      0  Aw! Je veux un chiot ... appelle-la quelque ch...\n",
              "2   71945      0  On dirait qu'il veut pleuvoir ici, mais je sai...\n",
              "3  114318      0  Joyeux jour papa papa je t'aime! Travailler au...\n",
              "4  105232      0  Pourquoi suis-je en train de nourrir les enfan..."
            ]
          },
          "metadata": {},
          "execution_count": 7
        }
      ],
      "source": [
        "french_df_2019 = pd.read_csv('/content/gdrive/My Drive/NLP Project/data/french_tweets-003.csv', error_bad_lines=False)\n",
        "print(french_df_2019.shape)\n",
        "french_df_2019 = french_df_2019.sample(frac=0.025)\n",
        "print(french_df_2019.shape)\n",
        "from sklearn.model_selection import train_test_split\n",
        "french_df_2019, french_df_2019t = train_test_split(french_df_2019, test_size=0.2)\n",
        "\n",
        "french_df_2019.reset_index(inplace=True)\n",
        "french_df_2019t.reset_index(inplace=True)\n",
        "\n",
        "print(french_df_2019.shape)\n",
        "print(french_df_2019.head())\n",
        "labels = collections.Counter(french_df_2019['label'])\n",
        "FRENCH_HOF.append(labels[1])\n",
        "FRENCH_NOT.append(labels[0])\n",
        "print(labels)\n",
        "print(french_df_2019.columns)\n",
        "\n",
        "labels = collections.Counter(french_df_2019['label'])\n",
        "print(labels)\n",
        "french_df_2019.head()"
      ]
    },
    {
      "cell_type": "code",
      "execution_count": 8,
      "metadata": {
        "colab": {
          "base_uri": "https://localhost:8080/"
        },
        "id": "Em9JiSol4jwh",
        "outputId": "efde77e7-29ba-4100-a6d4-2ff6e84bb19d"
      },
      "outputs": [
        {
          "output_type": "stream",
          "name": "stdout",
          "text": [
            "Bonjour, allez sur twitter. Beaucoup de gens vraiment drôles à suivre, alors allez-y. Tu me manques à la télé (je suis la soeur de nina et bien)\n",
            "En Allemagne, au moins, je peux aller faire du shopping et avoir un Schnitzel wiener ... je manque mes chien\n"
          ]
        }
      ],
      "source": [
        "print(french_df_2019[french_df_2019['label'] == 1]['text'].iloc[10])\n",
        "print(french_df_2019[french_df_2019['label'] == 0]['text'].iloc[10])"
      ]
    },
    {
      "cell_type": "code",
      "execution_count": 9,
      "metadata": {
        "colab": {
          "base_uri": "https://localhost:8080/",
          "height": 0
        },
        "id": "Rb65ud9lrAbm",
        "outputId": "30aed899-4ec9-442e-9654-98d421bee6cf"
      },
      "outputs": [
        {
          "output_type": "stream",
          "name": "stdout",
          "text": [
            "(1000, 3)\n",
            "    index  label                                               text\n",
            "0  162677      0  Woooooooo a mis mes collines saison 4 dvd box ...\n",
            "1   70796      0      Je suis si jaloux ... J'aimerais avoir 19 ans\n",
            "2  130047      0   Wow midterms est brutal. Seulement 5 ans de plus\n",
            "3  137225      0  Mon PC est en train de mourir ... doit acheter...\n",
            "4  170124      0  Tout n'est pas bien dans jailbreakland, appare...\n",
            "Counter({0: 852, 1: 148})\n",
            "Index(['index', 'label', 'text'], dtype='object')\n"
          ]
        },
        {
          "output_type": "execute_result",
          "data": {
            "text/html": [
              "<div>\n",
              "<style scoped>\n",
              "    .dataframe tbody tr th:only-of-type {\n",
              "        vertical-align: middle;\n",
              "    }\n",
              "\n",
              "    .dataframe tbody tr th {\n",
              "        vertical-align: top;\n",
              "    }\n",
              "\n",
              "    .dataframe thead th {\n",
              "        text-align: right;\n",
              "    }\n",
              "</style>\n",
              "<table border=\"1\" class=\"dataframe\">\n",
              "  <thead>\n",
              "    <tr style=\"text-align: right;\">\n",
              "      <th></th>\n",
              "      <th>index</th>\n",
              "      <th>label</th>\n",
              "      <th>text</th>\n",
              "    </tr>\n",
              "  </thead>\n",
              "  <tbody>\n",
              "    <tr>\n",
              "      <th>0</th>\n",
              "      <td>162677</td>\n",
              "      <td>0</td>\n",
              "      <td>Woooooooo a mis mes collines saison 4 dvd box ...</td>\n",
              "    </tr>\n",
              "    <tr>\n",
              "      <th>1</th>\n",
              "      <td>70796</td>\n",
              "      <td>0</td>\n",
              "      <td>Je suis si jaloux ... J'aimerais avoir 19 ans</td>\n",
              "    </tr>\n",
              "    <tr>\n",
              "      <th>2</th>\n",
              "      <td>130047</td>\n",
              "      <td>0</td>\n",
              "      <td>Wow midterms est brutal. Seulement 5 ans de plus</td>\n",
              "    </tr>\n",
              "    <tr>\n",
              "      <th>3</th>\n",
              "      <td>137225</td>\n",
              "      <td>0</td>\n",
              "      <td>Mon PC est en train de mourir ... doit acheter...</td>\n",
              "    </tr>\n",
              "    <tr>\n",
              "      <th>4</th>\n",
              "      <td>170124</td>\n",
              "      <td>0</td>\n",
              "      <td>Tout n'est pas bien dans jailbreakland, appare...</td>\n",
              "    </tr>\n",
              "  </tbody>\n",
              "</table>\n",
              "</div>"
            ],
            "text/plain": [
              "    index  label                                               text\n",
              "0  162677      0  Woooooooo a mis mes collines saison 4 dvd box ...\n",
              "1   70796      0      Je suis si jaloux ... J'aimerais avoir 19 ans\n",
              "2  130047      0   Wow midterms est brutal. Seulement 5 ans de plus\n",
              "3  137225      0  Mon PC est en train de mourir ... doit acheter...\n",
              "4  170124      0  Tout n'est pas bien dans jailbreakland, appare..."
            ]
          },
          "metadata": {},
          "execution_count": 9
        }
      ],
      "source": [
        "print(french_df_2019t.shape)\n",
        "print(french_df_2019t.head())\n",
        "labels = collections.Counter(french_df_2019t['label'])\n",
        "FRENCH_HOF.append(labels[1])\n",
        "FRENCH_NOT.append(labels[0])\n",
        "print(labels)\n",
        "print(french_df_2019t.columns)\n",
        "french_df_2019t.head()"
      ]
    },
    {
      "cell_type": "code",
      "execution_count": 10,
      "metadata": {
        "colab": {
          "base_uri": "https://localhost:8080/",
          "height": 0
        },
        "id": "UgamPZIgrNiV",
        "outputId": "454fdb4f-eb22-440d-80dc-7b98a0b8466d"
      },
      "outputs": [
        {
          "output_type": "execute_result",
          "data": {
            "text/plain": [
              "([<matplotlib.axis.XTick at 0x7f132ac35f90>,\n",
              "  <matplotlib.axis.XTick at 0x7f132ac35fd0>],\n",
              " [Text(0, 0, 'train 2019'), Text(0, 0, 'test 2019')])"
            ]
          },
          "metadata": {},
          "execution_count": 10
        },
        {
          "output_type": "display_data",
          "data": {
            "image/png": "[encoded data removed]",
            "text/plain": [
              "<Figure size 432x288 with 1 Axes>"
            ]
          },
          "metadata": {
            "needs_background": "light"
          }
        }
      ],
      "source": [
        "barWidth = 0.25\n",
        "br1 = np.arange(len(FRENCH_HOF))\n",
        "br2 = [x + barWidth for x in br1]\n",
        "plt.bar(br1, FRENCH_HOF, width=barWidth, label='HOF')\n",
        "plt.bar(br2, FRENCH_NOT, width=barWidth, label='NOT')\n",
        "plt.legend()\n",
        "plt.xlabel('French Dataset')\n",
        "plt.ylabel('Count')\n",
        "plt.xticks([r + barWidth for r in range(len(br1))],\n",
        "        ['train 2019', 'test 2019'])"
      ]
    },
    {
      "cell_type": "markdown",
      "metadata": {
        "id": "Xw1T9b8mZ5H4"
      },
      "source": [
        "###ENGLISH DATASET ANALYSIS"
      ]
    },
    {
      "cell_type": "code",
      "execution_count": 11,
      "metadata": {
        "id": "sU2DHLVtbaOd"
      },
      "outputs": [],
      "source": [
        "ENGLISH_HOF = []\n",
        "ENGLISH_NOT = []"
      ]
    },
    {
      "cell_type": "code",
      "execution_count": 12,
      "metadata": {
        "colab": {
          "base_uri": "https://localhost:8080/",
          "height": 0
        },
        "id": "eWTYYAd4q_bO",
        "outputId": "8bf8629f-f12e-45ca-cc5e-a6e57ecf5149"
      },
      "outputs": [
        {
          "output_type": "stream",
          "name": "stdout",
          "text": [
            "(5852, 3)\n",
            "Counter({'NOT': 3591, 'HOF': 2261})\n",
            "Index(['text_id', 'text', 'task_1'], dtype='object')\n"
          ]
        },
        {
          "output_type": "execute_result",
          "data": {
            "text/html": [
              "<div>\n",
              "<style scoped>\n",
              "    .dataframe tbody tr th:only-of-type {\n",
              "        vertical-align: middle;\n",
              "    }\n",
              "\n",
              "    .dataframe tbody tr th {\n",
              "        vertical-align: top;\n",
              "    }\n",
              "\n",
              "    .dataframe thead th {\n",
              "        text-align: right;\n",
              "    }\n",
              "</style>\n",
              "<table border=\"1\" class=\"dataframe\">\n",
              "  <thead>\n",
              "    <tr style=\"text-align: right;\">\n",
              "      <th></th>\n",
              "      <th>text_id</th>\n",
              "      <th>text</th>\n",
              "      <th>task_1</th>\n",
              "    </tr>\n",
              "  </thead>\n",
              "  <tbody>\n",
              "    <tr>\n",
              "      <th>0</th>\n",
              "      <td>hasoc_en_1</td>\n",
              "      <td>#DhoniKeepsTheGlove | WATCH: Sports Minister K...</td>\n",
              "      <td>NOT</td>\n",
              "    </tr>\n",
              "    <tr>\n",
              "      <th>1</th>\n",
              "      <td>hasoc_en_2</td>\n",
              "      <td>@politico No. We should remember very clearly ...</td>\n",
              "      <td>HOF</td>\n",
              "    </tr>\n",
              "    <tr>\n",
              "      <th>2</th>\n",
              "      <td>hasoc_en_3</td>\n",
              "      <td>@cricketworldcup Guess who would be the winner...</td>\n",
              "      <td>NOT</td>\n",
              "    </tr>\n",
              "    <tr>\n",
              "      <th>3</th>\n",
              "      <td>hasoc_en_4</td>\n",
              "      <td>Corbyn is too politically intellectual for #Bo...</td>\n",
              "      <td>NOT</td>\n",
              "    </tr>\n",
              "    <tr>\n",
              "      <th>4</th>\n",
              "      <td>hasoc_en_5</td>\n",
              "      <td>All the best to #TeamIndia for another swimmin...</td>\n",
              "      <td>NOT</td>\n",
              "    </tr>\n",
              "  </tbody>\n",
              "</table>\n",
              "</div>"
            ],
            "text/plain": [
              "      text_id                                               text task_1\n",
              "0  hasoc_en_1  #DhoniKeepsTheGlove | WATCH: Sports Minister K...    NOT\n",
              "1  hasoc_en_2  @politico No. We should remember very clearly ...    HOF\n",
              "2  hasoc_en_3  @cricketworldcup Guess who would be the winner...    NOT\n",
              "3  hasoc_en_4  Corbyn is too politically intellectual for #Bo...    NOT\n",
              "4  hasoc_en_5  All the best to #TeamIndia for another swimmin...    NOT"
            ]
          },
          "metadata": {},
          "execution_count": 12
        }
      ],
      "source": [
        "english_df_2019 = pd.read_csv('/content/gdrive/My Drive/NLP Project/data/2019/english_dataset/english_dataset_2019.csv', error_bad_lines=False)\n",
        "english_df_2019 = english_df_2019.drop(columns=['task_2', 'task_3'])\n",
        "print(english_df_2019.shape)\n",
        "labels = collections.Counter(english_df_2019['task_1'])\n",
        "ENGLISH_HOF.append(labels['HOF'])\n",
        "ENGLISH_NOT.append(labels['NOT'])\n",
        "print(labels)\n",
        "print(english_df_2019.columns)\n",
        "english_df_2019.head()"
      ]
    },
    {
      "cell_type": "code",
      "execution_count": 13,
      "metadata": {
        "id": "97PzLqQJYg4z"
      },
      "outputs": [],
      "source": [
        "# english_df_2020 = pd.read_csv('/content/gdrive/My Drive/NLP Project/data/2020/english_dataset/english_dataset_2020.csv', error_bad_lines=False)\n",
        "# english_df_2020 = english_df_2020.drop(columns=['task2'])\n",
        "# print(english_df_2020.shape)\n",
        "# print(english_df_2020.columns)\n",
        "# labels = collections.Counter(english_df_2020['task1'])\n",
        "# ENGLISH_HOF.append(labels['HOF'])\n",
        "# ENGLISH_NOT.append(labels['NOT'])\n",
        "# print(labels)\n",
        "# english_df_2020.head()"
      ]
    },
    {
      "cell_type": "code",
      "execution_count": 14,
      "metadata": {
        "colab": {
          "base_uri": "https://localhost:8080/",
          "height": 0
        },
        "id": "ODMjZEVTcfQx",
        "outputId": "9ad339f2-2af0-4d75-fec3-6ec40e9ccbb0"
      },
      "outputs": [
        {
          "output_type": "stream",
          "name": "stdout",
          "text": [
            "Index(['text_id', 'text', 'task_1', 'task_2', 'task_3'], dtype='object')\n",
            "(1153, 3)\n",
            "Counter({'NOT': 865, 'HOF': 288})\n"
          ]
        },
        {
          "output_type": "execute_result",
          "data": {
            "text/html": [
              "<div>\n",
              "<style scoped>\n",
              "    .dataframe tbody tr th:only-of-type {\n",
              "        vertical-align: middle;\n",
              "    }\n",
              "\n",
              "    .dataframe tbody tr th {\n",
              "        vertical-align: top;\n",
              "    }\n",
              "\n",
              "    .dataframe thead th {\n",
              "        text-align: right;\n",
              "    }\n",
              "</style>\n",
              "<table border=\"1\" class=\"dataframe\">\n",
              "  <thead>\n",
              "    <tr style=\"text-align: right;\">\n",
              "      <th></th>\n",
              "      <th>text_id</th>\n",
              "      <th>text</th>\n",
              "      <th>task_1</th>\n",
              "    </tr>\n",
              "  </thead>\n",
              "  <tbody>\n",
              "    <tr>\n",
              "      <th>0</th>\n",
              "      <td>hasoc_en_902</td>\n",
              "      <td>West Bengal Doctor Crisis: Protesting doctors ...</td>\n",
              "      <td>NOT</td>\n",
              "    </tr>\n",
              "    <tr>\n",
              "      <th>1</th>\n",
              "      <td>hasoc_en_416</td>\n",
              "      <td>68.5 million people have been forced to leave ...</td>\n",
              "      <td>NOT</td>\n",
              "    </tr>\n",
              "    <tr>\n",
              "      <th>2</th>\n",
              "      <td>hasoc_en_207</td>\n",
              "      <td>You came, you saw .... we will look after the ...</td>\n",
              "      <td>NOT</td>\n",
              "    </tr>\n",
              "    <tr>\n",
              "      <th>3</th>\n",
              "      <td>hasoc_en_595</td>\n",
              "      <td>We'll get Brexit delivered by October 31st.   ...</td>\n",
              "      <td>NOT</td>\n",
              "    </tr>\n",
              "    <tr>\n",
              "      <th>4</th>\n",
              "      <td>hasoc_en_568</td>\n",
              "      <td>Fuck you. Go back to the dark ages you cow @IB...</td>\n",
              "      <td>HOF</td>\n",
              "    </tr>\n",
              "  </tbody>\n",
              "</table>\n",
              "</div>"
            ],
            "text/plain": [
              "        text_id                                               text task_1\n",
              "0  hasoc_en_902  West Bengal Doctor Crisis: Protesting doctors ...    NOT\n",
              "1  hasoc_en_416  68.5 million people have been forced to leave ...    NOT\n",
              "2  hasoc_en_207  You came, you saw .... we will look after the ...    NOT\n",
              "3  hasoc_en_595  We'll get Brexit delivered by October 31st.   ...    NOT\n",
              "4  hasoc_en_568  Fuck you. Go back to the dark ages you cow @IB...    HOF"
            ]
          },
          "metadata": {},
          "execution_count": 14
        }
      ],
      "source": [
        "english_df_2019t = pd.read_csv('/content/gdrive/My Drive/NLP Project/data/2019/english_dataset/english_dataset_test_2019.csv', error_bad_lines=False)\n",
        "print(english_df_2019t.columns)\n",
        "english_df_2019t = english_df_2019t.drop(columns=['task_2', 'task_3'])\n",
        "print(english_df_2019t.shape)\n",
        "labels = collections.Counter(english_df_2019t['task_1'])\n",
        "ENGLISH_HOF.append(labels['HOF'])\n",
        "ENGLISH_NOT.append(labels['NOT'])\n",
        "print(labels)\n",
        "english_df_2019t.head()"
      ]
    },
    {
      "cell_type": "code",
      "execution_count": 15,
      "metadata": {
        "id": "zhnpp6XVco1e"
      },
      "outputs": [],
      "source": [
        "# english_df_2020t = pd.read_csv('/content/gdrive/My Drive/NLP Project/data/2020/english_dataset/english_dataset_test_2020.csv', error_bad_lines=False)\n",
        "# english_df_2020t = english_df_2020t.drop(columns=['task2'])\n",
        "# print(english_df_2020t.shape)\n",
        "# print(english_df_2020t.columns)\n",
        "# labels = collections.Counter(english_df_2020t['task1'])\n",
        "# ENGLISH_HOF.append(labels['HOF'])\n",
        "# ENGLISH_NOT.append(labels['NOT'])\n",
        "# print(labels)\n",
        "# english_df_2020t.head()"
      ]
    },
    {
      "cell_type": "code",
      "execution_count": 16,
      "metadata": {
        "colab": {
          "base_uri": "https://localhost:8080/",
          "height": 0
        },
        "id": "FPrpbla7dAHK",
        "outputId": "d7fb0871-baff-4a49-a5bc-9eb805c14d1a"
      },
      "outputs": [
        {
          "output_type": "execute_result",
          "data": {
            "text/plain": [
              "([<matplotlib.axis.XTick at 0x7f132aea7110>,\n",
              "  <matplotlib.axis.XTick at 0x7f132aea70d0>],\n",
              " [Text(0, 0, 'train 2019'), Text(0, 0, 'test 2019')])"
            ]
          },
          "metadata": {},
          "execution_count": 16
        },
        {
          "output_type": "display_data",
          "data": {
            "image/png": "[encoded data removed]",
            "text/plain": [
              "<Figure size 432x288 with 1 Axes>"
            ]
          },
          "metadata": {
            "needs_background": "light"
          }
        }
      ],
      "source": [
        "barWidth = 0.25\n",
        "br1 = np.arange(len(ENGLISH_HOF))\n",
        "br2 = [x + barWidth for x in br1]\n",
        "plt.bar(br1, ENGLISH_HOF, width=barWidth, label='HOF')\n",
        "plt.bar(br2, ENGLISH_NOT, width=barWidth, label='NOT')\n",
        "plt.legend()\n",
        "plt.xlabel('English Dataset')\n",
        "plt.ylabel('Count')\n",
        "plt.xticks([r + barWidth for r in range(len(br1))],\n",
        "        ['train 2019', 'test 2019'])"
      ]
    },
    {
      "cell_type": "code",
      "source": [
        "print(english_df_2019[english_df_2019['task_1'] == 'HOF']['text'].iloc[20])\n",
        "print(english_df_2019t[english_df_2019t['task_1'] == 'NOT']['text'].iloc[10])"
      ],
      "metadata": {
        "colab": {
          "base_uri": "https://localhost:8080/"
        },
        "id": "Y6NqFgL5U8rZ",
        "outputId": "10f6a576-7ce2-4993-83e2-daab06de4183"
      },
      "execution_count": 17,
      "outputs": [
        {
          "output_type": "stream",
          "name": "stdout",
          "text": [
            "@UROCKlive1 He’s had the worst numbers of any president ever. Theres not much “Lower” to go. #TrumpIsATraitor\n",
            "Kathy Zhu, a supporter of President Trump, was stripped of her title because of comments about African-Americans and Muslims.\n"
          ]
        }
      ]
    },
    {
      "cell_type": "markdown",
      "metadata": {
        "id": "53B0-lnL18sP"
      },
      "source": [
        "###SPANISH DATASET ANALYSIS"
      ]
    },
    {
      "cell_type": "code",
      "execution_count": 18,
      "metadata": {
        "id": "uRcUrwSc1-jO"
      },
      "outputs": [],
      "source": [
        "SPANISH_HOF = []\n",
        "SPANISH_NOT = []"
      ]
    },
    {
      "cell_type": "code",
      "execution_count": 19,
      "metadata": {
        "colab": {
          "base_uri": "https://localhost:8080/",
          "height": 0
        },
        "id": "VbyKHUy02CJk",
        "outputId": "eb99c8c5-a3ca-49dd-8109-426aa8dea37e"
      },
      "outputs": [
        {
          "output_type": "stream",
          "name": "stdout",
          "text": [
            "(4450, 3)\n",
            "Counter({0: 2617, 1: 1833})\n",
            "Index(['id', 'text', 'HS'], dtype='object')\n"
          ]
        },
        {
          "output_type": "execute_result",
          "data": {
            "text/html": [
              "<div>\n",
              "<style scoped>\n",
              "    .dataframe tbody tr th:only-of-type {\n",
              "        vertical-align: middle;\n",
              "    }\n",
              "\n",
              "    .dataframe tbody tr th {\n",
              "        vertical-align: top;\n",
              "    }\n",
              "\n",
              "    .dataframe thead th {\n",
              "        text-align: right;\n",
              "    }\n",
              "</style>\n",
              "<table border=\"1\" class=\"dataframe\">\n",
              "  <thead>\n",
              "    <tr style=\"text-align: right;\">\n",
              "      <th></th>\n",
              "      <th>id</th>\n",
              "      <th>text</th>\n",
              "      <th>HS</th>\n",
              "    </tr>\n",
              "  </thead>\n",
              "  <tbody>\n",
              "    <tr>\n",
              "      <th>0</th>\n",
              "      <td>20001</td>\n",
              "      <td>Easyjet quiere duplicar el número de mujeres p...</td>\n",
              "      <td>1</td>\n",
              "    </tr>\n",
              "    <tr>\n",
              "      <th>1</th>\n",
              "      <td>20002</td>\n",
              "      <td>El gobierno debe crear un control estricto de ...</td>\n",
              "      <td>1</td>\n",
              "    </tr>\n",
              "    <tr>\n",
              "      <th>2</th>\n",
              "      <td>20003</td>\n",
              "      <td>Yo veo a mujeres destruidas por acoso laboral ...</td>\n",
              "      <td>0</td>\n",
              "    </tr>\n",
              "    <tr>\n",
              "      <th>3</th>\n",
              "      <td>20004</td>\n",
              "      <td>— Yo soy respetuoso con los demás, sólamente l...</td>\n",
              "      <td>0</td>\n",
              "    </tr>\n",
              "    <tr>\n",
              "      <th>4</th>\n",
              "      <td>20007</td>\n",
              "      <td>Antonio Caballero y como ser de mal gusto e ig...</td>\n",
              "      <td>0</td>\n",
              "    </tr>\n",
              "  </tbody>\n",
              "</table>\n",
              "</div>"
            ],
            "text/plain": [
              "      id                                               text  HS\n",
              "0  20001  Easyjet quiere duplicar el número de mujeres p...   1\n",
              "1  20002  El gobierno debe crear un control estricto de ...   1\n",
              "2  20003  Yo veo a mujeres destruidas por acoso laboral ...   0\n",
              "3  20004  — Yo soy respetuoso con los demás, sólamente l...   0\n",
              "4  20007  Antonio Caballero y como ser de mal gusto e ig...   0"
            ]
          },
          "metadata": {},
          "execution_count": 19
        }
      ],
      "source": [
        "spanish_df_2019 = pd.read_csv('/content/gdrive/My Drive/NLP Project/data/spanish_dataset/spanish_dataset.csv', error_bad_lines=False)\n",
        "# spanish_df_2019 = spanish_df_2019.drop(columns=['task_2'])\n",
        "print(spanish_df_2019.shape)\n",
        "labels = collections.Counter(spanish_df_2019['HS'])\n",
        "SPANISH_HOF.append(labels[1])\n",
        "SPANISH_NOT.append(labels[0])\n",
        "print(labels)\n",
        "print(spanish_df_2019.columns)\n",
        "spanish_df_2019.head()"
      ]
    },
    {
      "cell_type": "code",
      "execution_count": 20,
      "metadata": {
        "colab": {
          "base_uri": "https://localhost:8080/",
          "height": 0
        },
        "id": "BHXT3eSs2jVc",
        "outputId": "6a447d31-4a99-4d44-8994-571633084a49"
      },
      "outputs": [
        {
          "output_type": "stream",
          "name": "stdout",
          "text": [
            "(500, 3)\n",
            "Counter({0: 278, 1: 222})\n",
            "Index(['id', 'text', 'task_1'], dtype='object')\n"
          ]
        },
        {
          "output_type": "execute_result",
          "data": {
            "text/html": [
              "<div>\n",
              "<style scoped>\n",
              "    .dataframe tbody tr th:only-of-type {\n",
              "        vertical-align: middle;\n",
              "    }\n",
              "\n",
              "    .dataframe tbody tr th {\n",
              "        vertical-align: top;\n",
              "    }\n",
              "\n",
              "    .dataframe thead th {\n",
              "        text-align: right;\n",
              "    }\n",
              "</style>\n",
              "<table border=\"1\" class=\"dataframe\">\n",
              "  <thead>\n",
              "    <tr style=\"text-align: right;\">\n",
              "      <th></th>\n",
              "      <th>id</th>\n",
              "      <th>text</th>\n",
              "      <th>task_1</th>\n",
              "    </tr>\n",
              "  </thead>\n",
              "  <tbody>\n",
              "    <tr>\n",
              "      <th>0</th>\n",
              "      <td>20005</td>\n",
              "      <td>Me estoy comiendo la picada árabe más rica de ...</td>\n",
              "      <td>0</td>\n",
              "    </tr>\n",
              "    <tr>\n",
              "      <th>1</th>\n",
              "      <td>20006</td>\n",
              "      <td>@Haryachyzaychyk Callate zorra y mama duro! 😍</td>\n",
              "      <td>1</td>\n",
              "    </tr>\n",
              "    <tr>\n",
              "      <th>2</th>\n",
              "      <td>20011</td>\n",
              "      <td>Acabo de escuchar a Casado diciendo que hay DE...</td>\n",
              "      <td>0</td>\n",
              "    </tr>\n",
              "    <tr>\n",
              "      <th>3</th>\n",
              "      <td>20019</td>\n",
              "      <td>Y NADIE SE HA PREGUNTADO LO QUE LE VA A COSTAR...</td>\n",
              "      <td>1</td>\n",
              "    </tr>\n",
              "    <tr>\n",
              "      <th>4</th>\n",
              "      <td>20033</td>\n",
              "      <td>@Fed_Durand Callate come sobra, más zorra son ...</td>\n",
              "      <td>1</td>\n",
              "    </tr>\n",
              "  </tbody>\n",
              "</table>\n",
              "</div>"
            ],
            "text/plain": [
              "      id                                               text  task_1\n",
              "0  20005  Me estoy comiendo la picada árabe más rica de ...       0\n",
              "1  20006      @Haryachyzaychyk Callate zorra y mama duro! 😍       1\n",
              "2  20011  Acabo de escuchar a Casado diciendo que hay DE...       0\n",
              "3  20019  Y NADIE SE HA PREGUNTADO LO QUE LE VA A COSTAR...       1\n",
              "4  20033  @Fed_Durand Callate come sobra, más zorra son ...       1"
            ]
          },
          "metadata": {},
          "execution_count": 20
        }
      ],
      "source": [
        "spanish_df_2019t = pd.read_csv('/content/gdrive/My Drive/NLP Project/data/spanish_dataset/spanish_dataset_test.csv', error_bad_lines=False)\n",
        "# spanish_df_2019 = spanish_df_2019.drop(columns=['task_2'])\n",
        "print(spanish_df_2019t.shape)\n",
        "labels = collections.Counter(spanish_df_2019t['task_1'])\n",
        "SPANISH_HOF.append(labels[1])\n",
        "SPANISH_NOT.append(labels[0])\n",
        "print(labels)\n",
        "print(spanish_df_2019t.columns)\n",
        "spanish_df_2019t.head()"
      ]
    },
    {
      "cell_type": "code",
      "execution_count": 21,
      "metadata": {
        "colab": {
          "base_uri": "https://localhost:8080/",
          "height": 0
        },
        "id": "7ePmQxEe2458",
        "outputId": "49761966-1ed7-4864-f12f-d9b4e29ce8fa"
      },
      "outputs": [
        {
          "output_type": "execute_result",
          "data": {
            "text/plain": [
              "([<matplotlib.axis.XTick at 0x7f132ae6d210>,\n",
              "  <matplotlib.axis.XTick at 0x7f132ae6d1d0>],\n",
              " [Text(0, 0, 'train 2018'), Text(0, 0, 'test 2018')])"
            ]
          },
          "metadata": {},
          "execution_count": 21
        },
        {
          "output_type": "display_data",
          "data": {
            "image/png": "[encoded data removed]",
            "text/plain": [
              "<Figure size 432x288 with 1 Axes>"
            ]
          },
          "metadata": {
            "needs_background": "light"
          }
        }
      ],
      "source": [
        "barWidth = 0.25\n",
        "br1 = np.arange(len(SPANISH_HOF))\n",
        "br2 = [x + barWidth for x in br1]\n",
        "plt.bar(br1, SPANISH_HOF, width=barWidth, label='HOF')\n",
        "plt.bar(br2, SPANISH_NOT, width=barWidth, label='NOT')\n",
        "plt.legend()\n",
        "plt.xlabel('Spanish Dataset')\n",
        "plt.ylabel('Count')\n",
        "plt.xticks([r + barWidth for r in range(len(br1))],\n",
        "        ['train 2018', 'test 2018'])"
      ]
    },
    {
      "cell_type": "code",
      "source": [
        "print(spanish_df_2019t[spanish_df_2019t['task_1'] == 0]['text'].iloc[39])\n",
        "print(spanish_df_2019t[spanish_df_2019t['task_1'] == 1]['text'].iloc[10])"
      ],
      "metadata": {
        "colab": {
          "base_uri": "https://localhost:8080/"
        },
        "id": "8-sJNoEpViCF",
        "outputId": "7e459c63-bda7-415e-a9db-86143e2dc1d3"
      },
      "execution_count": 22,
      "outputs": [
        {
          "output_type": "stream",
          "name": "stdout",
          "text": [
            "#Ciberactivismo por la Revolución y los #DerechosHumanos en #Túnez. #Mujeres en primera línea de la #revolución árabe.  https://t.co/2uFl6wUBD3\n",
            "@VidalSieteDiez Tú eres la perra, no te dejes engañar.\n"
          ]
        }
      ]
    },
    {
      "cell_type": "markdown",
      "metadata": {
        "id": "blgR0e9zfR2L"
      },
      "source": [
        "###GERMAN DATASET ANALYSIS"
      ]
    },
    {
      "cell_type": "code",
      "execution_count": 23,
      "metadata": {
        "id": "1JxibtZMdUwk"
      },
      "outputs": [],
      "source": [
        "GERMAN_HOF = []\n",
        "GERMAN_NOT = []"
      ]
    },
    {
      "cell_type": "code",
      "execution_count": 24,
      "metadata": {
        "colab": {
          "base_uri": "https://localhost:8080/",
          "height": 0
        },
        "id": "30kn7DrQfWJF",
        "outputId": "a0ab4ca2-19c7-4ff6-9731-142b843a7371"
      },
      "outputs": [
        {
          "output_type": "stream",
          "name": "stdout",
          "text": [
            "(3819, 3)\n",
            "Counter({'NOT': 3412, 'HOF': 407})\n",
            "Index(['text_id', 'text', 'task_1'], dtype='object')\n"
          ]
        },
        {
          "output_type": "execute_result",
          "data": {
            "text/html": [
              "<div>\n",
              "<style scoped>\n",
              "    .dataframe tbody tr th:only-of-type {\n",
              "        vertical-align: middle;\n",
              "    }\n",
              "\n",
              "    .dataframe tbody tr th {\n",
              "        vertical-align: top;\n",
              "    }\n",
              "\n",
              "    .dataframe thead th {\n",
              "        text-align: right;\n",
              "    }\n",
              "</style>\n",
              "<table border=\"1\" class=\"dataframe\">\n",
              "  <thead>\n",
              "    <tr style=\"text-align: right;\">\n",
              "      <th></th>\n",
              "      <th>text_id</th>\n",
              "      <th>text</th>\n",
              "      <th>task_1</th>\n",
              "    </tr>\n",
              "  </thead>\n",
              "  <tbody>\n",
              "    <tr>\n",
              "      <th>0</th>\n",
              "      <td>hasoc_de_1</td>\n",
              "      <td>Frank Rennicke – Ich bin stolz https://t.co/Cm...</td>\n",
              "      <td>NOT</td>\n",
              "    </tr>\n",
              "    <tr>\n",
              "      <th>1</th>\n",
              "      <td>hasoc_de_2</td>\n",
              "      <td>ANSEHEN.....und danach bitte TEILEN...TEILEN.....</td>\n",
              "      <td>NOT</td>\n",
              "    </tr>\n",
              "    <tr>\n",
              "      <th>2</th>\n",
              "      <td>hasoc_de_3</td>\n",
              "      <td>#Koeln Mohamed erkennt kein deutsches Recht so...</td>\n",
              "      <td>NOT</td>\n",
              "    </tr>\n",
              "    <tr>\n",
              "      <th>3</th>\n",
              "      <td>hasoc_de_4</td>\n",
              "      <td>#SaudiArabien ist eine brutale islamische Dikt...</td>\n",
              "      <td>NOT</td>\n",
              "    </tr>\n",
              "    <tr>\n",
              "      <th>4</th>\n",
              "      <td>hasoc_de_5</td>\n",
              "      <td>Bundespolizei #München hat im 1. Quartal 2019 ...</td>\n",
              "      <td>NOT</td>\n",
              "    </tr>\n",
              "  </tbody>\n",
              "</table>\n",
              "</div>"
            ],
            "text/plain": [
              "      text_id                                               text task_1\n",
              "0  hasoc_de_1  Frank Rennicke – Ich bin stolz https://t.co/Cm...    NOT\n",
              "1  hasoc_de_2  ANSEHEN.....und danach bitte TEILEN...TEILEN.....    NOT\n",
              "2  hasoc_de_3  #Koeln Mohamed erkennt kein deutsches Recht so...    NOT\n",
              "3  hasoc_de_4  #SaudiArabien ist eine brutale islamische Dikt...    NOT\n",
              "4  hasoc_de_5  Bundespolizei #München hat im 1. Quartal 2019 ...    NOT"
            ]
          },
          "metadata": {},
          "execution_count": 24
        }
      ],
      "source": [
        "german_df_2019 = pd.read_csv('/content/gdrive/My Drive/NLP Project/data/2019/german_dataset/german_dataset_2019.csv', error_bad_lines=False)\n",
        "german_df_2019 = german_df_2019.drop(columns=['task_2'])\n",
        "print(german_df_2019.shape)\n",
        "labels = collections.Counter(german_df_2019['task_1'])\n",
        "GERMAN_HOF.append(labels['HOF'])\n",
        "GERMAN_NOT.append(labels['NOT'])\n",
        "print(labels)\n",
        "print(german_df_2019.columns)\n",
        "german_df_2019.head()"
      ]
    },
    {
      "cell_type": "code",
      "execution_count": 25,
      "metadata": {
        "id": "dLEXsy4Dfdu1"
      },
      "outputs": [],
      "source": [
        "# german_df_2020 = pd.read_csv('/content/gdrive/My Drive/NLP Project/data/2020/german_dataset/german_dataset_2020.csv', error_bad_lines=False)\n",
        "# print(german_df_2020.columns)\n",
        "# german_df_2020 = german_df_2020.drop(columns=['task2'])\n",
        "# print(german_df_2020.shape)\n",
        "# labels = collections.Counter(german_df_2020['task1'])\n",
        "# GERMAN_HOF.append(labels['HOF'])\n",
        "# GERMAN_NOT.append(labels['NOT'])\n",
        "# print(labels)\n",
        "# german_df_2020.head()"
      ]
    },
    {
      "cell_type": "code",
      "execution_count": 26,
      "metadata": {
        "colab": {
          "base_uri": "https://localhost:8080/",
          "height": 0
        },
        "id": "qUVbhTHPfm9q",
        "outputId": "31e4d24e-4749-49eb-85ee-7ab424dc5f03"
      },
      "outputs": [
        {
          "output_type": "stream",
          "name": "stdout",
          "text": [
            "Index(['tweet_id', 'text', 'task1', 'task2', 'ID'], dtype='object')\n",
            "(526, 4)\n",
            "Counter({'NOT': 392, 'HOF': 134})\n"
          ]
        },
        {
          "output_type": "execute_result",
          "data": {
            "text/html": [
              "<div>\n",
              "<style scoped>\n",
              "    .dataframe tbody tr th:only-of-type {\n",
              "        vertical-align: middle;\n",
              "    }\n",
              "\n",
              "    .dataframe tbody tr th {\n",
              "        vertical-align: top;\n",
              "    }\n",
              "\n",
              "    .dataframe thead th {\n",
              "        text-align: right;\n",
              "    }\n",
              "</style>\n",
              "<table border=\"1\" class=\"dataframe\">\n",
              "  <thead>\n",
              "    <tr style=\"text-align: right;\">\n",
              "      <th></th>\n",
              "      <th>tweet_id</th>\n",
              "      <th>text</th>\n",
              "      <th>task1</th>\n",
              "      <th>ID</th>\n",
              "    </tr>\n",
              "  </thead>\n",
              "  <tbody>\n",
              "    <tr>\n",
              "      <th>0</th>\n",
              "      <td>1129095874242650112</td>\n",
              "      <td>@derCarsti Boykottieren hört sich besser an. 💙💙</td>\n",
              "      <td>NOT</td>\n",
              "      <td>hasoc_2020_de_1053</td>\n",
              "    </tr>\n",
              "    <tr>\n",
              "      <th>1</th>\n",
              "      <td>1129004308396236800</td>\n",
              "      <td>RT @ibikus31: Es wird spekuliert, ob Merkel ei...</td>\n",
              "      <td>NOT</td>\n",
              "      <td>hasoc_2020_de_671</td>\n",
              "    </tr>\n",
              "    <tr>\n",
              "      <th>2</th>\n",
              "      <td>1130896929355907080</td>\n",
              "      <td>Hat #Hitler wirklich den Krieg in der Wüste ve...</td>\n",
              "      <td>NOT</td>\n",
              "      <td>hasoc_2020_de_2977</td>\n",
              "    </tr>\n",
              "    <tr>\n",
              "      <th>3</th>\n",
              "      <td>1132251534329307136</td>\n",
              "      <td>RT @Beatrix_vStorch: #May tritt in UK unter Tr...</td>\n",
              "      <td>NOT</td>\n",
              "      <td>hasoc_2020_de_1746</td>\n",
              "    </tr>\n",
              "    <tr>\n",
              "      <th>4</th>\n",
              "      <td>1124941869115498496</td>\n",
              "      <td>@justmeDoro Eher nicht. Das Gänse hauen wieder...</td>\n",
              "      <td>NOT</td>\n",
              "      <td>hasoc_2020_de_2416</td>\n",
              "    </tr>\n",
              "  </tbody>\n",
              "</table>\n",
              "</div>"
            ],
            "text/plain": [
              "              tweet_id  ...                  ID\n",
              "0  1129095874242650112  ...  hasoc_2020_de_1053\n",
              "1  1129004308396236800  ...   hasoc_2020_de_671\n",
              "2  1130896929355907080  ...  hasoc_2020_de_2977\n",
              "3  1132251534329307136  ...  hasoc_2020_de_1746\n",
              "4  1124941869115498496  ...  hasoc_2020_de_2416\n",
              "\n",
              "[5 rows x 4 columns]"
            ]
          },
          "metadata": {},
          "execution_count": 26
        }
      ],
      "source": [
        "german_df_2019t = pd.read_csv('/content/gdrive/My Drive/NLP Project/data/2020/german_dataset/german_dataset_test_2020.csv', error_bad_lines=False)\n",
        "print(german_df_2019t.columns)\n",
        "german_df_2019t = german_df_2019t.drop(columns=['task2'])\n",
        "print(german_df_2019t.shape)\n",
        "labels = collections.Counter(german_df_2019t['task1'])\n",
        "GERMAN_HOF.append(labels['HOF'])\n",
        "GERMAN_NOT.append(labels['NOT'])\n",
        "print(labels)\n",
        "german_df_2019t.head()"
      ]
    },
    {
      "cell_type": "code",
      "execution_count": 27,
      "metadata": {
        "id": "e91sAGZSfprT"
      },
      "outputs": [],
      "source": [
        "# german_df_2020t = pd.read_csv('/content/gdrive/My Drive/NLP Project/data/2020/english_dataset/english_dataset_test_2020.csv', error_bad_lines=False)\n",
        "# german_df_2020t = german_df_2020t.drop(columns=['task2'])\n",
        "# print(german_df_2020t.shape)\n",
        "# print(german_df_2020t.columns)\n",
        "# labels = collections.Counter(german_df_2020t['task1'])\n",
        "# GERMAN_HOF.append(labels['HOF'])\n",
        "# GERMAN_NOT.append(labels['NOT'])\n",
        "# print(labels)\n",
        "# german_df_2020t.head()"
      ]
    },
    {
      "cell_type": "code",
      "execution_count": 28,
      "metadata": {
        "colab": {
          "base_uri": "https://localhost:8080/",
          "height": 0
        },
        "id": "fUmKTe_8ftay",
        "outputId": "d4ec95aa-7be4-4349-9c5b-502bdee05b3d"
      },
      "outputs": [
        {
          "output_type": "execute_result",
          "data": {
            "text/plain": [
              "([<matplotlib.axis.XTick at 0x7f132a229550>,\n",
              "  <matplotlib.axis.XTick at 0x7f132b3a56d0>],\n",
              " [Text(0, 0, 'train 2019'), Text(0, 0, 'test 2019')])"
            ]
          },
          "metadata": {},
          "execution_count": 28
        },
        {
          "output_type": "display_data",
          "data": {
            "image/png": "[encoded data removed]",
            "text/plain": [
              "<Figure size 432x288 with 1 Axes>"
            ]
          },
          "metadata": {
            "needs_background": "light"
          }
        }
      ],
      "source": [
        "barWidth = 0.25\n",
        "br1 = np.arange(len(GERMAN_HOF))\n",
        "br2 = [x + barWidth for x in br1]\n",
        "plt.bar(br1, GERMAN_HOF, width=barWidth, label='HOF')\n",
        "plt.bar(br2, GERMAN_NOT, width=barWidth, label='NOT')\n",
        "plt.legend()\n",
        "plt.xlabel('German Dataset')\n",
        "plt.ylabel('Count')\n",
        "plt.xticks([r + barWidth for r in range(len(br1))],\n",
        "        ['train 2019', 'test 2019'])"
      ]
    },
    {
      "cell_type": "code",
      "source": [
        "print(german_df_2019t[german_df_2019t['task1'] == 'HOF']['text'].iloc[39])\n",
        "print(german_df_2019t[german_df_2019t['task1'] == 'NOT']['text'].iloc[150])"
      ],
      "metadata": {
        "colab": {
          "base_uri": "https://localhost:8080/"
        },
        "id": "-iONhXX6WMfh",
        "outputId": "765b46b5-1f44-4334-eef3-0da7408329b3"
      },
      "execution_count": 29,
      "outputs": [
        {
          "output_type": "stream",
          "name": "stdout",
          "text": [
            "RT @yasinaygan: @TDoernb @alican_2023 @ProvoMed @welt Halts Maul du hurensohn deine Mutter ist stolz auf mich\n",
            "#zdf was ist denn da bei euch los????\n"
          ]
        }
      ]
    },
    {
      "cell_type": "markdown",
      "metadata": {
        "id": "iQawXY3di4l5"
      },
      "source": [
        "###HINDI DATASET ANALYSIS"
      ]
    },
    {
      "cell_type": "code",
      "execution_count": 30,
      "metadata": {
        "id": "S7CBxZkHiw38"
      },
      "outputs": [],
      "source": [
        "# HINDI_HOF = []\n",
        "# HINDI_NOT = []"
      ]
    },
    {
      "cell_type": "code",
      "execution_count": 31,
      "metadata": {
        "id": "YlOk7cXUi-cO"
      },
      "outputs": [],
      "source": [
        "# hindi_df_2019 = pd.read_csv('/content/gdrive/My Drive/NLP Project/data/2019/hindi_dataset/hindi_dataset_2019.csv', error_bad_lines=False)\n",
        "# hindi_df_2019 = hindi_df_2019.drop(columns=['task_2', 'task_3'])\n",
        "# print(hindi_df_2019.shape)\n",
        "# labels = collections.Counter(hindi_df_2019['task_1'])\n",
        "# HINDI_HOF.append(labels['HOF'])\n",
        "# HINDI_NOT.append(labels['NOT'])\n",
        "# print(labels)\n",
        "# print(hindi_df_2019.columns)\n",
        "# hindi_df_2019.head()"
      ]
    },
    {
      "cell_type": "code",
      "execution_count": 32,
      "metadata": {
        "id": "WRhsISVAjAyZ"
      },
      "outputs": [],
      "source": [
        "# hindi_df_2020 = pd.read_csv('/content/gdrive/My Drive/NLP Project/data/2020/hindi_dataset/hindi_dataset_2020.csv', error_bad_lines=False)\n",
        "# print(hindi_df_2020.columns)\n",
        "# hindi_df_2020 = hindi_df_2020.drop(columns=['task2'])\n",
        "# print(hindi_df_2020.shape)\n",
        "# labels = collections.Counter(hindi_df_2020['task1'])\n",
        "# HINDI_HOF.append(labels['HOF'])\n",
        "# HINDI_NOT.append(labels['NOT'])\n",
        "# print(labels)\n",
        "# hindi_df_2020.head()"
      ]
    },
    {
      "cell_type": "code",
      "execution_count": 33,
      "metadata": {
        "id": "ZEl4r9DRjDIo"
      },
      "outputs": [],
      "source": [
        "# hindi_df_2019t = pd.read_csv('/content/gdrive/My Drive/NLP Project/data/2020/hindi_dataset/hindi_dataset_test_2020.csv', error_bad_lines=False)\n",
        "# print(hindi_df_2019t.columns)\n",
        "# hindi_df_2019t = hindi_df_2019t.drop(columns=['task2'])\n",
        "# print(hindi_df_2019t.shape)\n",
        "# labels = collections.Counter(hindi_df_2019t['task1'])\n",
        "# HINDI_HOF.append(labels['HOF'])\n",
        "# HINDI_NOT.append(labels['NOT'])\n",
        "# print(labels)\n",
        "# hindi_df_2019t.head()"
      ]
    },
    {
      "cell_type": "code",
      "execution_count": 34,
      "metadata": {
        "id": "prjeFkM-jFsx"
      },
      "outputs": [],
      "source": [
        "# # hindi_df_2020t = pd.read_csv('/content/gdrive/My Drive/NLP Project/data/2020/hindi_dataset/hindi_dataset_test_2020.csv', error_bad_lines=False)\n",
        "# hindi_df_2020t = hindi_df_2020t.drop(columns=['task2'])\n",
        "# print(hindi_df_2020t.shape)\n",
        "# print(hindi_df_2020t.columns)\n",
        "# labels = collections.Counter(hindi_df_2020t['task1'])\n",
        "# HINDI_HOF.append(labels['HOF'])\n",
        "# HINDI_NOT.append(labels['NOT'])\n",
        "# print(labels)\n",
        "# hindi_df_2020t.head()"
      ]
    },
    {
      "cell_type": "code",
      "execution_count": 35,
      "metadata": {
        "id": "qdyLEHXMjHyZ"
      },
      "outputs": [],
      "source": [
        "# barWidth = 0.25\n",
        "# br1 = np.arange(len(HINDI_HOF))\n",
        "# br2 = [x + barWidth for x in br1]\n",
        "# plt.bar(br1, HINDI_HOF, width=barWidth, label='HOF')\n",
        "# plt.bar(br2, HINDI_NOT, width=barWidth, label='NOT')\n",
        "# plt.legend()\n",
        "# plt.xlabel('Hindi Dataset')\n",
        "# plt.ylabel('Count')\n",
        "# plt.xticks([r + barWidth for r in range(len(br1))],\n",
        "#         ['train 2019', 'test 2019'])"
      ]
    },
    {
      "cell_type": "markdown",
      "metadata": {
        "id": "IyljbtiPkyKB"
      },
      "source": [
        "###COLLECTIVE DATASET ANALYSIS"
      ]
    },
    {
      "cell_type": "code",
      "execution_count": 36,
      "metadata": {
        "id": "jOYTAnFKjJ2s"
      },
      "outputs": [],
      "source": [
        "total_hof = [np.sum(ENGLISH_HOF), np.sum(GERMAN_HOF), np.sum(SPANISH_HOF), np.sum(FRENCH_HOF)]\n",
        "total_not = [np.sum(ENGLISH_NOT), np.sum(GERMAN_NOT), np.sum(SPANISH_HOF), np.sum(FRENCH_NOT)]"
      ]
    },
    {
      "cell_type": "code",
      "execution_count": 37,
      "metadata": {
        "colab": {
          "base_uri": "https://localhost:8080/",
          "height": 0
        },
        "id": "8PueQWqemx8j",
        "outputId": "507de053-2d37-4eaf-a79b-b2549708045c"
      },
      "outputs": [
        {
          "output_type": "execute_result",
          "data": {
            "text/plain": [
              "Text(0.5, 1.0, 'Hate Tweets')"
            ]
          },
          "metadata": {},
          "execution_count": 37
        },
        {
          "output_type": "display_data",
          "data": {
            "image/png": "[encoded data removed]",
            "text/plain": [
              "<Figure size 720x576 with 1 Axes>"
            ]
          },
          "metadata": {}
        }
      ],
      "source": [
        "labels = ['English', 'German', 'Spanish', 'French']\n",
        "fig, ax = plt.subplots(figsize=(10, 8), subplot_kw=dict(aspect=\"equal\"))\n",
        "\n",
        "def func(pct, allvals):\n",
        "    absolute = int(round(pct/100.*np.sum(allvals)))\n",
        "    return \"{:.1f}%\\n({:d})\".format(pct, absolute)\n",
        "\n",
        "wedges, texts, autotexts = ax.pie(total_hof, autopct=lambda pct: func(pct, total_hof),textprops=dict(color=\"purple\", size=20), labels=labels)\n",
        "ax.legend(wedges, labels,\n",
        "          title=\"Language\",\n",
        "          loc=\"center left\",\n",
        "          bbox_to_anchor=(1, 0, 0.5, 1))\n",
        "plt.setp(autotexts, size=15, weight=\"bold\", color=\"white\")\n",
        "ax.set_title(\"Hate Tweets\")"
      ]
    },
    {
      "cell_type": "code",
      "execution_count": 38,
      "metadata": {
        "colab": {
          "base_uri": "https://localhost:8080/",
          "height": 0
        },
        "id": "nmbIbWwFnMpF",
        "outputId": "6da2229b-726b-4f76-a372-5df4abb21174"
      },
      "outputs": [
        {
          "output_type": "execute_result",
          "data": {
            "text/plain": [
              "Text(0.5, 1.0, 'Not Hate Tweets')"
            ]
          },
          "metadata": {},
          "execution_count": 38
        },
        {
          "output_type": "display_data",
          "data": {
            "image/png": "[encoded data removed]",
            "text/plain": [
              "<Figure size 720x576 with 1 Axes>"
            ]
          },
          "metadata": {}
        }
      ],
      "source": [
        "fig, ax = plt.subplots(figsize=(10, 8), subplot_kw=dict(aspect=\"equal\"))\n",
        "\n",
        "def func(pct, allvals):\n",
        "    absolute = int(round(pct/100.*np.sum(allvals)))\n",
        "    return \"{:.1f}%\\n({:d})\".format(pct, absolute)\n",
        "\n",
        "wedges, texts, autotexts = ax.pie(total_not, autopct=lambda pct: func(pct, total_not),textprops=dict(color=\"purple\", size=20), labels=labels)\n",
        "ax.legend(wedges, labels,\n",
        "          title=\"Language\",\n",
        "          loc=\"center left\",\n",
        "          bbox_to_anchor=(1, 0, 0.5, 1))\n",
        "plt.setp(autotexts, size=15, weight=\"bold\", color=\"white\")\n",
        "ax.set_title(\"Not Hate Tweets\")"
      ]
    },
    {
      "cell_type": "code",
      "execution_count": 39,
      "metadata": {
        "colab": {
          "base_uri": "https://localhost:8080/",
          "height": 0
        },
        "id": "3I9wi4jUsHPG",
        "outputId": "a0b8eb8e-b2a4-46ef-8fe8-35ebbf0d1e46"
      },
      "outputs": [
        {
          "output_type": "execute_result",
          "data": {
            "text/plain": [
              "Text(0.5, 1.0, 'Language Distribution of Datasets')"
            ]
          },
          "metadata": {},
          "execution_count": 39
        },
        {
          "output_type": "display_data",
          "data": {
            "image/png": "[encoded data removed]",
            "text/plain": [
              "<Figure size 720x576 with 1 Axes>"
            ]
          },
          "metadata": {}
        }
      ],
      "source": [
        "data = [a + b for a, b in zip(total_hof, total_not)]\n",
        "fig, ax = plt.subplots(figsize=(10, 8), subplot_kw=dict(aspect=\"equal\"))\n",
        "\n",
        "def func(pct, allvals):\n",
        "    absolute = int(round(pct/100.*np.sum(allvals)))\n",
        "    return \"{:.1f}%\\n({:d})\".format(pct, absolute)\n",
        "\n",
        "wedges, texts, autotexts = ax.pie(data, autopct=lambda pct: func(pct, data),textprops=dict(color=\"purple\", size=20), labels=labels)\n",
        "ax.legend(wedges, labels,\n",
        "          title=\"Language\",\n",
        "          loc=\"center left\",\n",
        "          bbox_to_anchor=(1, 0, 0.5, 1))\n",
        "plt.setp(autotexts, size=15, weight=\"bold\", color=\"white\")\n",
        "ax.set_title(\"Language Distribution of Datasets\")"
      ]
    },
    {
      "cell_type": "markdown",
      "metadata": {
        "id": "a0pnHzf-tGc8"
      },
      "source": [
        "### CLEANING OF DATA - Remove STOP WORDS, tokens and twitter handles"
      ]
    },
    {
      "cell_type": "code",
      "execution_count": 40,
      "metadata": {
        "id": "6N5-c_QFsZaY"
      },
      "outputs": [],
      "source": [
        "def modify_tweets(data):\n",
        "  # print(data.columns)\n",
        "  modified_tweets = []\n",
        "  for text in data:\n",
        "\n",
        "      #To remove @AnyName from the tweets\n",
        "      text=re.sub(r\"@[a-zA-z0-9]*\\s+\",\"\",text) \n",
        "      text=re.sub(r\"@[a-zA-z0-9]*:\",\"\",text)\n",
        "      text=re.sub(r\"@[a-zA-z0-9]*\",\"\",text)  \n",
        "      text=re.sub(r\"@[a-zA-z0-9]*$\",\"\",text)\n",
        "      \n",
        "      #To remove links\n",
        "      text=re.sub(r\"^https://t.co/[a-zA-Z0-9]*\\s+\",\" \",text)    \n",
        "      text=re.sub(r\"\\s+https://t.co/[a-zA-Z0-9]*\\s+\",\" \",text)  \n",
        "      text=re.sub(r\"\\s+https://t.co/[a-zA-Z0-9]*$\",\" \",text)    \n",
        "      \n",
        "      #To Convert all the tweets to low.\n",
        "      # text=text.lower() \n",
        "      \n",
        "      #To remove the shorthands\n",
        "      text=re.sub(r\"that's\",\"that is \",text)\n",
        "      text=re.sub(r\"there's\",\"there is \",text)\n",
        "      text=re.sub(r\"what's\",\"what is \",text)\n",
        "      text=re.sub(r\"where's\",\"where is \",text)\n",
        "      text=re.sub(r\"it's\",\"it is \",text)\n",
        "      text=re.sub(r\"who's\",\"who is \",text)\n",
        "      text=re.sub(r\"i'm\",\"i am \",text)\n",
        "      text=re.sub(r\"she's\",\"she is \",text)\n",
        "      text=re.sub(r\"he's\",\"he is \",text)\n",
        "      text=re.sub(r\"they're\",\"they are \",text)\n",
        "      text=re.sub(r\"who're\",\"who are \",text)\n",
        "      text=re.sub(r\"ain't\",\"am not \",text)\n",
        "      text=re.sub(r\"wouldn't\",\"would not \",text)\n",
        "      text=re.sub(r\"shouldn't\",\"should not \",text)\n",
        "      text=re.sub(r\"can't\",\"cannot \",text)\n",
        "      text=re.sub(r\"couldn't\",\"could not \",text)\n",
        "      text=re.sub(r\"won't\",\"will not \",text)\n",
        "      \n",
        "      #To remove the single character\n",
        "      text=re.sub(r\"\\s+[a-z]\\s+\",\" \",text)\n",
        "      text=re.sub(r\"\\s+[a-z]$\",\" \",text)\n",
        "      text=re.sub(r\"^[a-z]\\s+\",\" \",text)\n",
        "      \n",
        "      #To remove non-word character\n",
        "      text=re.sub(r\"^[「人間はいわば感情に左右される生き物である」]*\\s+\",\" \",text)\n",
        "      text=re.sub(r\"\\s+[「人間はいわば感情に左右される生き物である」]*\\s+\",\" \",text)\n",
        "      text=re.sub(r\"\\s+[「人間はいわば感情に左右される生き物である」]*$\",\" \",text)\n",
        "      text=re.sub(r\"[!@$,%^&*\\\"><]*\",\"\",text)\n",
        "      text=re.sub(r\"\\.\",\" \",text)\n",
        "      \n",
        "      #To remove duplicate spaces\n",
        "      text=re.sub(r\"\\s+\",\" \",text)\n",
        "      \n",
        "      #To remove digits \n",
        "      text=re.sub(r\"\\d\",\" \",text)\n",
        "      \n",
        "      #To remove non-word characters\n",
        "      text=re.sub(r\"\\W\",\" \",text)\n",
        "      \n",
        "      modified_tweets.append(text)\n",
        "  return modified_tweets"
      ]
    },
    {
      "cell_type": "code",
      "execution_count": 41,
      "metadata": {
        "colab": {
          "base_uri": "https://localhost:8080/"
        },
        "id": "UitFLOWxuaXM",
        "outputId": "8128feb8-a358-465a-e3a4-56119f0632d0"
      },
      "outputs": [
        {
          "output_type": "stream",
          "name": "stdout",
          "text": [
            "0    #DhoniKeepsTheGlove | WATCH: Sports Minister K...\n",
            "Name: text, dtype: object\n",
            "0     DhoniKeepsTheGlove   WATCH  Sports Minister K...\n",
            "Name: text, dtype: object\n",
            "0    West Bengal Doctor Crisis: Protesting doctors ...\n",
            "Name: text, dtype: object\n",
            "0    West Bengal Doctor Crisis  Protesting doctors ...\n",
            "Name: text, dtype: object\n"
          ]
        }
      ],
      "source": [
        "print(english_df_2019.head(1)['text'])\n",
        "english_df_2019['text'] = modify_tweets(english_df_2019['text'])\n",
        "print(english_df_2019.head(1)['text'])\n",
        "\n",
        "print(english_df_2019t.head(1)['text'])\n",
        "english_df_2019t['text'] = modify_tweets(english_df_2019t['text'])\n",
        "print(english_df_2019t.head(1)['text'])\n",
        "\n",
        "# print(english_df_2020.head(1)['text'])\n",
        "# english_df_2020['text'] = modify_tweets(english_df_2020['text'])\n",
        "# print(english_df_2020.head(1)['text'])\n",
        "\n",
        "# print(english_df_2020t.head(1)['text'])\n",
        "# english_df_2020t['text'] = modify_tweets(english_df_2020t['text'])\n",
        "# print(english_df_2020t.head(1)['text'])"
      ]
    },
    {
      "cell_type": "code",
      "execution_count": 42,
      "metadata": {
        "colab": {
          "base_uri": "https://localhost:8080/"
        },
        "id": "auKn-9nVvt1j",
        "outputId": "b86d1967-daa4-4e75-d7e9-a52a92f46245"
      },
      "outputs": [
        {
          "output_type": "stream",
          "name": "stdout",
          "text": [
            "0    Frank Rennicke – Ich bin stolz https://t.co/Cm...\n",
            "Name: text, dtype: object\n",
            "0    Frank Rennicke   Ich bin stolz \n",
            "Name: text, dtype: object\n",
            "0    @derCarsti Boykottieren hört sich besser an. 💙💙\n",
            "Name: text, dtype: object\n",
            "0    Boykottieren hört sich besser an   \n",
            "Name: text, dtype: object\n"
          ]
        }
      ],
      "source": [
        "print(german_df_2019.head(1)['text'])\n",
        "german_df_2019['text'] = modify_tweets(german_df_2019['text'])\n",
        "print(german_df_2019.head(1)['text'])\n",
        "\n",
        "print(german_df_2019t.head(1)['text'])\n",
        "german_df_2019t['text'] = modify_tweets(german_df_2019t['text'])\n",
        "print(german_df_2019t.head(1)['text'])\n",
        "\n",
        "# print(german_df_2020.head(1)['text'])\n",
        "# german_df_2020['text'] = modify_tweets(german_df_2020['text'])\n",
        "# print(german_df_2020.head(1)['text'])\n",
        "\n",
        "# print(german_df_2020t.head(1)['text'])\n",
        "# german_df_2020t['text'] = modify_tweets(german_df_2020t['text'])\n",
        "# print(german_df_2020t.head(1)['text'])"
      ]
    },
    {
      "cell_type": "code",
      "execution_count": 43,
      "metadata": {
        "colab": {
          "base_uri": "https://localhost:8080/"
        },
        "id": "yRMIKlWG3pqK",
        "outputId": "dd56b0df-e412-454d-9c82-f007cbc46acf"
      },
      "outputs": [
        {
          "output_type": "stream",
          "name": "stdout",
          "text": [
            "0    Easyjet quiere duplicar el número de mujeres p...\n",
            "Name: text, dtype: object\n",
            "0    Easyjet quiere duplicar el número de mujeres p...\n",
            "Name: text, dtype: object\n",
            "0    Me estoy comiendo la picada árabe más rica de ...\n",
            "Name: text, dtype: object\n",
            "0    Me estoy comiendo la picada árabe más rica de ...\n",
            "Name: text, dtype: object\n"
          ]
        }
      ],
      "source": [
        "print(spanish_df_2019.head(1)['text'])\n",
        "spanish_df_2019['text'] = modify_tweets(spanish_df_2019['text'])\n",
        "print(spanish_df_2019.head(1)['text'])\n",
        "\n",
        "print(spanish_df_2019t.head(1)['text'])\n",
        "spanish_df_2019t['text'] = modify_tweets(spanish_df_2019t['text'])\n",
        "print(spanish_df_2019t.head(1)['text'])"
      ]
    },
    {
      "cell_type": "code",
      "execution_count": 44,
      "metadata": {
        "id": "OL58CKBqxNpL"
      },
      "outputs": [],
      "source": [
        "# def modify_hindi_tweets(data):\n",
        "#   # print(data.columns)\n",
        "#   modified_tweets = []\n",
        "#   for text in data:\n",
        "\n",
        "#       #To remove @AnyName from the tweets\n",
        "#       text=re.sub(r\"@[a-zA-z0-9]*\\s+\",\"\",text) \n",
        "#       text=re.sub(r\"@[a-zA-z0-9]*:\",\"\",text)\n",
        "#       text=re.sub(r\"@[a-zA-z0-9]*\",\"\",text)  \n",
        "#       text=re.sub(r\"@[a-zA-z0-9]*$\",\"\",text)\n",
        "      \n",
        "#       #To remove links\n",
        "#       text=re.sub(r\"^https://t.co/[a-zA-Z0-9]*\\s+\",\" \",text)    \n",
        "#       text=re.sub(r\"\\s+https://t.co/[a-zA-Z0-9]*\\s+\",\" \",text)  \n",
        "#       text=re.sub(r\"\\s+https://t.co/[a-zA-Z0-9]*$\",\" \",text) \n",
        "\n",
        "#       #To remove duplicate spaces\n",
        "#       text=re.sub(r\"\\s+\",\" \",text)\n",
        "      \n",
        "#       #To remove digits \n",
        "#       text=re.sub(r\"\\d\",\" \",text)\n",
        "      \n",
        "#       #To remove non-word characters\n",
        "#       text=re.sub(r\"\\#\",\" \",text)\n",
        "    \n",
        "#       modified_tweets.append(text)\n",
        "#   return modified_tweets\n",
        "\n",
        "# print(hindi_df_2019.head(1)['text'])\n",
        "# l = modify_hindi_tweets(hindi_df_2019['text'])\n",
        "# print(l[0])\n",
        "# hindi_df_2019['text'] = l\n",
        "# print(hindi_df_2019.head(1)['text'])\n",
        "\n",
        "# print(hindi_df_2019t.head(1)['text'])\n",
        "# hindi_df_2019t['text'] = modify_hindi_tweets(hindi_df_2019t['text'])\n",
        "# print(hindi_df_2019t.head(1)['text'])\n",
        "\n",
        "# # print(hindi_df_2020.head(1)['text'])\n",
        "# # hindi_df_2020['text'] = modify_hindi_tweets(hindi_df_2020['text'])\n",
        "# # print(hindi_df_2020.head(1)['text'])\n",
        "\n",
        "# # print(hindi_df_2020t.head(1)['text'])\n",
        "# # hindi_df_2020t['text'] = modify_hindi_tweets(hindi_df_2020t['text'])\n",
        "# # print(hindi_df_2020t.head(1)['text'])"
      ]
    },
    {
      "cell_type": "markdown",
      "metadata": {
        "id": "MRhzfl7iQCKE"
      },
      "source": [
        "### Utility functions\n",
        "\n",
        "\n",
        "\n",
        "1. encoder_generator(documents)\n",
        "2. predictions_labels(preds,labels)\n",
        "3. categorical_accuracy(preds, y)\n",
        "4. predictions_labels(preds,labels)\n",
        "5. train(model, train_data_loader)\n",
        "6. evaluate(model, valid_data_loader)\n",
        "7. evaluate_test(model, test_data_loader)\n",
        "8. epoch_time(start_time, end_time)\n",
        "9. plot_vc(acc_train, acc_val)\n",
        "10. plot_loss(loss_train, loss_val)\n",
        "\n"
      ]
    },
    {
      "cell_type": "code",
      "execution_count": 45,
      "metadata": {
        "id": "gt6SLGSSQEQO"
      },
      "outputs": [],
      "source": [
        "def encoder_generator(tokenizer, documents):\n",
        "    \n",
        "    doc_index = []\n",
        "    input_ids = []\n",
        "    attention_masks =[]\n",
        "\n",
        "    for index,doc in enumerate(documents):\n",
        "        \n",
        "        doc_index.append(index)\n",
        "        \n",
        "        encoded_dict = tokenizer.encode_plus(doc,\n",
        "                                             add_special_tokens=True,\n",
        "                                             max_length=128,\n",
        "                                             pad_to_max_length=True,\n",
        "                                             truncation = True,\n",
        "                                             return_attention_mask=True,\n",
        "                                             return_tensors='pt')\n",
        "        input_ids.append(encoded_dict['input_ids'])\n",
        "\n",
        "        attention_masks.append(encoded_dict['attention_mask'])\n",
        "\n",
        "    input_ids = torch.cat(input_ids,dim=0)\n",
        "    attention_masks = torch.cat(attention_masks,dim=0)\n",
        "    sent_index = torch.tensor(doc_index)\n",
        "\n",
        "    return sent_index,input_ids,attention_masks\n"
      ]
    },
    {
      "cell_type": "code",
      "execution_count": 46,
      "metadata": {
        "id": "e4tFY_UpQ_8F"
      },
      "outputs": [],
      "source": [
        "def predictions_labels(preds,labels):\n",
        "    pred = np.argmax(preds,axis=1).flatten()\n",
        "    label = labels.flatten()\n",
        "    return pred,label\n",
        "\n",
        "def categorical_accuracy(preds, y):\n",
        "    \"\"\"\n",
        "    Returns accuracy per batch, i.e. if you get 8/10 right, this returns 0.8, NOT 8\n",
        "    \"\"\"\n",
        "    max_preds = preds.argmax(dim = 1, keepdim = True) # get the index of the max probability\n",
        "    correct = max_preds.squeeze(1).eq(y)\n",
        "    return correct.sum() / torch.FloatTensor([y.shape[0]]).cuda()\n",
        "\n",
        "def predictions_labels(preds,labels):\n",
        "    pred = np.argmax(preds,axis=1).flatten()\n",
        "    label = labels.flatten()\n",
        "    return pred,label"
      ]
    },
    {
      "cell_type": "code",
      "execution_count": 47,
      "metadata": {
        "id": "ruQaR9DHRDtw"
      },
      "outputs": [],
      "source": [
        "def train(model, train_data_loader, optimizer):\n",
        "    total_train_loss = 0\n",
        "    total_train_acc = 0\n",
        "    \n",
        "    model.train() # set model in train mode for batchnorm and dropout layers in bert model\n",
        "    \n",
        "    for step,batch in enumerate(train_data_loader):\n",
        "        b_input_ids = batch[0].to(device)\n",
        "        b_input_mask = batch[1].to(device)\n",
        "        b_labels = batch[2].to(device)\n",
        "        model.zero_grad()\n",
        "            \n",
        "        output = model(b_input_ids,\n",
        "                            attention_mask=b_input_mask,\n",
        "                            labels=b_labels.long())\n",
        "        loss = output.loss\n",
        "        logits = output.logits\n",
        "\n",
        "        total_train_loss+=loss.item()\n",
        "        total_train_acc+=categorical_accuracy(logits,b_labels).item()\n",
        "            \n",
        "        loss.backward()\n",
        "            \n",
        "        torch.nn.utils.clip_grad_norm_(model.parameters(),1.0)\n",
        "            \n",
        "        optimizer.step()\n",
        "            \n",
        "        scheduler.step() #go ahead and update the learning rate\n",
        "            \n",
        "    avg_train_loss = total_train_loss/len(train_data_loader)\n",
        "    avg_train_acc = total_train_acc/len(train_data_loader)\n",
        "    \n",
        "    return avg_train_loss,avg_train_acc"
      ]
    },
    {
      "cell_type": "code",
      "execution_count": 48,
      "metadata": {
        "id": "gQwnub2hREND"
      },
      "outputs": [],
      "source": [
        "def evaluate(model, valid_data_loader):\n",
        "    model.eval()\n",
        "        \n",
        "    total_eval_accuracy = 0\n",
        "    total_eval_loss = 0\n",
        "    number_of_eval_steps= 0\n",
        "    \n",
        "    all_true_labels = []\n",
        "    all_pred_labels = []\n",
        "\n",
        "    for batch in valid_data_loader:\n",
        "        b_input_ids = batch[0].to(device)\n",
        "        b_input_mask = batch[1].to(device)\n",
        "        b_labels = batch[2].to(device)\n",
        "\n",
        "        with torch.no_grad():\n",
        "\n",
        "            output = model(b_input_ids,\n",
        "                                attention_mask= b_input_mask,\n",
        "                                labels = b_labels.long())\n",
        "        loss = output.loss\n",
        "        logits = output.logits\n",
        "\n",
        "        total_eval_loss+=loss.item()\n",
        "\n",
        "        logits = logits.detach().cpu().numpy()\n",
        "\n",
        "        label_ids = b_labels.to('cpu').numpy()\n",
        "\n",
        "        pred,true = predictions_labels(logits,label_ids)\n",
        "        \n",
        "        all_pred_labels.extend(pred)\n",
        "        all_true_labels.extend(true)\n",
        "\n",
        "    print(classification_report(all_pred_labels,all_true_labels))\n",
        "    avg_val_accuracy = accuracy_score(all_pred_labels,all_true_labels)\n",
        "    macro_f1_score = f1_score(all_pred_labels,all_true_labels,average='macro')\n",
        "    \n",
        "    avg_val_loss = total_eval_loss/len(valid_data_loader)\n",
        "\n",
        "    print(\"accuracy = {0:.2f}\".format(avg_val_accuracy))\n",
        "    \n",
        "    return avg_val_loss,avg_val_accuracy,macro_f1_score"
      ]
    },
    {
      "cell_type": "code",
      "execution_count": 49,
      "metadata": {
        "id": "SjkA0uTZRqQb"
      },
      "outputs": [],
      "source": [
        "def evaluate_test(model, test_data_loader):\n",
        "    model.eval()\n",
        "        \n",
        "    total_eval_accuracy = 0\n",
        "    total_eval_loss = 0\n",
        "    number_of_eval_steps= 0\n",
        "    \n",
        "    all_true_labels = []\n",
        "    all_pred_labels = []\n",
        "    \n",
        "    all_sentence_id=[]\n",
        "\n",
        "    for batch in test_data_loader:\n",
        "        b_sentence_id = batch[0].to(device)\n",
        "        b_input_ids = batch[1].to(device)\n",
        "        b_input_mask = batch[2].to(device)\n",
        "        b_labels = batch[3].to(device)\n",
        "\n",
        "        sent_ids = b_sentence_id.to('cpu').numpy()\n",
        "        all_sentence_id.extend(sent_ids)\n",
        "        \n",
        "        with torch.no_grad():\n",
        "\n",
        "            output = model(b_input_ids,\n",
        "                                attention_mask= b_input_mask,\n",
        "                                labels = b_labels.long())\n",
        "            \n",
        "        loss = output.loss\n",
        "        logits = output.logits\n",
        "        \n",
        "        total_eval_loss+=loss.item()\n",
        "\n",
        "        logits = logits.detach().cpu().numpy()\n",
        "\n",
        "        label_ids = b_labels.to('cpu').numpy()\n",
        "        \n",
        "\n",
        "        pred,true = predictions_labels(logits,label_ids)\n",
        "        \n",
        "        all_pred_labels.extend(pred)\n",
        "        \n",
        "        all_true_labels.extend(true)\n",
        "\n",
        "    print(classification_report(all_pred_labels,all_true_labels))\n",
        "    avg_val_accuracy = accuracy_score(all_pred_labels,all_true_labels)\n",
        "    \n",
        "    avg_val_loss = total_eval_loss/len(test_data_loader)\n",
        "\n",
        "    print(\"accuracy = {0:.2f}\".format(avg_val_accuracy))\n",
        "    \n",
        "    return avg_val_loss,avg_val_accuracy,all_sentence_id,all_pred_labels\n"
      ]
    },
    {
      "cell_type": "code",
      "execution_count": 50,
      "metadata": {
        "id": "lVKoIdY8RM5_"
      },
      "outputs": [],
      "source": [
        "def epoch_time(start_time, end_time):\n",
        "    elapsed_time = end_time - start_time\n",
        "    elapsed_mins = int(elapsed_time / 60)\n",
        "    elapsed_secs = int(elapsed_time - (elapsed_mins * 60))\n",
        "    return elapsed_mins, elapsed_secs\n"
      ]
    },
    {
      "cell_type": "code",
      "execution_count": 51,
      "metadata": {
        "id": "L4QH-fFvRXsO"
      },
      "outputs": [],
      "source": [
        "def plot_vc(acc_train, acc_val):\n",
        "  e = range(epochs)\n",
        "  plt.plot(e, acc_train, 'g', label='Training Accuracy')\n",
        "  plt.plot(e, acc_val, 'b', label='Validation Accuracy')\n",
        "  plt.title('Training and Validation Accuracy')\n",
        "  plt.xlabel('Epochs')\n",
        "  plt.ylabel('Accuracy')\n",
        "  plt.legend()\n",
        "  plt.show()"
      ]
    },
    {
      "cell_type": "code",
      "execution_count": 52,
      "metadata": {
        "id": "pf7kcXnXYwUC"
      },
      "outputs": [],
      "source": [
        "def plot_lc(loss_train, loss_val):\n",
        "  e = range(epochs)\n",
        "  plt.plot(e, loss_train, 'g', label='Training Loss')\n",
        "  plt.plot(e, loss_val, 'b', label='Validation Loss')\n",
        "  plt.title('Training and Validation Loss')\n",
        "  plt.xlabel('Epochs')\n",
        "  plt.ylabel('Loss')\n",
        "  plt.legend()\n",
        "  plt.show()"
      ]
    },
    {
      "cell_type": "markdown",
      "source": [
        "## FRENCH TUNING"
      ],
      "metadata": {
        "id": "MNERKHJzK_o1"
      }
    },
    {
      "cell_type": "markdown",
      "metadata": {
        "id": "IjCXmZ_msEDM"
      },
      "source": [
        "###Load French Data"
      ]
    },
    {
      "cell_type": "code",
      "execution_count": null,
      "metadata": {
        "colab": {
          "base_uri": "https://localhost:8080/",
          "height": 269,
          "referenced_widgets": [
            "2c12216338264ffaa7afec9eefe92667",
            "c80ba34de9844dd7a144f7e0d2ac1b0c",
            "21c01d271c694304b9744aa9c291d00f",
            "ed92056014284edc94969b8449ae29f5",
            "fbc70b3facab48a38922d3a1996f509d",
            "6a7e4a1ae4634a6c8f668a2d78291c20",
            "a682711727cf48a3b5e66a61ec4292ef",
            "93c015bb93f64498910f63428373490b",
            "6dc4b64e8d364f0e89515c7c7591fca4",
            "a9939d43c64f47a8b0ca203779a85d18",
            "c9d3a6975f06468d9ee6d825376830c0",
            "64f1800bdb7449f0824e13c721dbb5bd",
            "abbe6549c32b4be992a9a57650299fb6",
            "2b4f54798f65469881c58f2cf94e930b",
            "5d8d4898a1754371bf976c530d9f5bf9",
            "fbf8e96b693444839524dce0560d06fc",
            "bb8135ef99e3486b9672a8c5ea6ec0d2",
            "ec10d2b69a054643889b1616be7c80d7",
            "08b3b6f9348e4242b05893208d3a987f",
            "a17b8f799c914722b6c6a09c12d03e7b",
            "773a6e4d57684bafbc525e0237c5847f",
            "45141e9fbd3f48989fc36a163c535169",
            "f993805a60fe4fe981bb1af2dd8288a9",
            "c84b1c9c1ded4f5aa1cf11967c0f415d",
            "c329fbe3cb1046b9a2154bd780f92061",
            "b4d28a20fccb4c28bc6004d73519ddb6",
            "f82250286c9b4d8094404ac4f056d84e",
            "071dac6c69194f07ba1fffa2b51c523a",
            "d46bc8413a994f97b54c9568a680f124",
            "3e076f9ae24f46719e511fdfd8fe04c2",
            "12fdde0a653447eb8fdfd2fe1f210ab0",
            "137c7e09581147048d808049ed4545f1",
            "7f05c49909b04ca6a32d35e2e06ddf8e",
            "58b09e8434604ba6a2921602042d4f33",
            "bb68d0cdb3f54e8aa71738dfb4bd6476",
            "f1494339511248859b72565fe4464b86",
            "7d4471f395c8494da6e4615c9d18631e",
            "0912b414891c490aa65b5b82b342c6b7",
            "b9dd010df9fc400da1c5b9dcb4fde7e9",
            "b34f0f64109e47ac8d0eec54e31556f8",
            "8268a7f37a184a468c1daf8ec3aedff8",
            "ffa674bc9ea04acdb44dfeae630c7965",
            "ff58fb2c11f646cea2512b58018369a4",
            "15be88538bb24f0c9cb946899e57319a"
          ]
        },
        "id": "xBqNRl29sH6e",
        "outputId": "8faaaa52-0f16-4708-ef2c-219a946e4923"
      },
      "outputs": [
        {
          "data": {
            "application/vnd.jupyter.widget-view+json": {
              "model_id": "2c12216338264ffaa7afec9eefe92667",
              "version_major": 2,
              "version_minor": 0
            },
            "text/plain": [
              "Downloading:   0%|          | 0.00/972k [00:00<?, ?B/s]"
            ]
          },
          "metadata": {},
          "output_type": "display_data"
        },
        {
          "data": {
            "application/vnd.jupyter.widget-view+json": {
              "model_id": "64f1800bdb7449f0824e13c721dbb5bd",
              "version_major": 2,
              "version_minor": 0
            },
            "text/plain": [
              "Downloading:   0%|          | 0.00/29.0 [00:00<?, ?B/s]"
            ]
          },
          "metadata": {},
          "output_type": "display_data"
        },
        {
          "data": {
            "application/vnd.jupyter.widget-view+json": {
              "model_id": "f993805a60fe4fe981bb1af2dd8288a9",
              "version_major": 2,
              "version_minor": 0
            },
            "text/plain": [
              "Downloading:   0%|          | 0.00/1.87M [00:00<?, ?B/s]"
            ]
          },
          "metadata": {},
          "output_type": "display_data"
        },
        {
          "data": {
            "application/vnd.jupyter.widget-view+json": {
              "model_id": "58b09e8434604ba6a2921602042d4f33",
              "version_major": 2,
              "version_minor": 0
            },
            "text/plain": [
              "Downloading:   0%|          | 0.00/625 [00:00<?, ?B/s]"
            ]
          },
          "metadata": {},
          "output_type": "display_data"
        },
        {
          "name": "stdout",
          "output_type": "stream",
          "text": [
            "max token length in train_data is:  66\n"
          ]
        },
        {
          "name": "stderr",
          "output_type": "stream",
          "text": [
            "/usr/local/lib/python3.7/dist-packages/transformers/tokenization_utils_base.py:2218: FutureWarning: The `pad_to_max_length` argument is deprecated and will be removed in a future version, use `padding=True` or `padding='longest'` to pad to the longest sequence in the batch, or use `padding='max_length'` to pad to a max length. In this case, you can give a specific length with `max_length` (e.g. `max_length=45`) or leave max_length to None to pad to the maximal input size of the model (e.g. 512 for Bert).\n",
            "  FutureWarning,\n"
          ]
        },
        {
          "name": "stdout",
          "output_type": "stream",
          "text": [
            "train data samples is 3200\n",
            "valid data samples is 800\n",
            "test data samples is 1000\n"
          ]
        }
      ],
      "source": [
        "train_data_fr = french_df_2019.copy()\n",
        "test_data_fr = french_df_2019t.copy()\n",
        "# labels = {'HOF': 1, 'NOT': 0}\n",
        "\n",
        "# train_data['HS'] = train_data['HS'].apply(lambda x: labels[x])\n",
        "# test_data['task_1'] = test_data['task_1'].apply(lambda x: labels[x])\n",
        "\n",
        "tokenizer_fr = BertTokenizer.from_pretrained('bert-base-multilingual-cased')\n",
        "\n",
        "max_length = 0\n",
        "for sentence in train_data_fr['text']:\n",
        "    #print(sentence)\n",
        "    length = len(tokenizer_fr.tokenize(sentence))\n",
        "    if length > max_length:\n",
        "        max_length  = length\n",
        "print(\"max token length in train_data is: \",max_length)\n",
        "\n",
        "sent_index_fr,input_ids_fr,attention_masks_fr = encoder_generator(tokenizer_fr, list(train_data_fr['text']))\n",
        "test_sent_index_fr,test_input_ids_fr,test_attention_masks_fr = encoder_generator(tokenizer_fr, list(test_data_fr['text']))\n",
        "# print('Original: ', train_data_fr['text'][0])\n",
        "# print('Token IDs:', input_ids_fr[0])\n",
        "dataset_fr = TensorDataset(input_ids_fr,attention_masks_fr,torch.tensor(train_data_fr['label']))\n",
        "test_dataset_fr = TensorDataset(test_sent_index_fr,test_input_ids_fr,test_attention_masks_fr,torch.tensor(test_data_fr['label']))\n",
        "\n",
        "train_size_fr = int(0.8*len(dataset_fr))\n",
        "\n",
        "val_size_fr = len(dataset_fr)-train_size_fr\n",
        "\n",
        "train_dataset_fr,val_dataset_fr = random_split(dataset_fr,[train_size_fr,val_size_fr])\n",
        "\n",
        "print('train data samples is {}'.format(len(train_dataset_fr)))\n",
        "print(\"valid data samples is {}\".format(len(val_dataset_fr)))\n",
        "print(\"test data samples is {}\".format(len(test_dataset_fr)))\n",
        "\n",
        "bs=8\n",
        "\n",
        "train_data_loader_fr = DataLoader(train_dataset_fr,\n",
        "                              sampler=RandomSampler(train_dataset_fr),\n",
        "                              batch_size=bs)\n",
        "valid_data_loader_fr = DataLoader(val_dataset_fr,\n",
        "                              sampler=SequentialSampler(val_dataset_fr),\n",
        "                              batch_size=bs)\n",
        "test_data_loader_fr = DataLoader(test_dataset_fr,\n",
        "                            sampler=SequentialSampler(test_dataset_fr),\n",
        "                            batch_size=bs)\n"
      ]
    },
    {
      "cell_type": "markdown",
      "metadata": {
        "id": "qGbv_iHNs0P2"
      },
      "source": [
        "### Train BERT on FRENCH\n",
        "\n",
        "\n"
      ]
    },
    {
      "cell_type": "code",
      "execution_count": null,
      "metadata": {
        "colab": {
          "base_uri": "https://localhost:8080/",
          "height": 1000,
          "referenced_widgets": [
            "12b978159b954d20b02901c2509409e2",
            "7dc3dfc64f604443b1a3839ecc5809e1",
            "c1a901c8afc44ac2bddcdce5e8052a51",
            "f0101984fcf7489797da766cb32db6b7",
            "91918e2b0386499b8d4be4432dfd479e",
            "accdc332c6304ccbb9345b5987069651",
            "991ffd34f89045c391c60b5e05bb3be0",
            "955ee7a1f4b045198cd048fa4ebbec59",
            "8b1a82c0396c43ee8b98008f87427069",
            "dc078df4fed943a3a8042efe9a339ace",
            "6eef718657f94f74a3077510aefba70e"
          ]
        },
        "id": "6MVB4ypzs80R",
        "outputId": "cba88a9a-cd2a-406f-d645-87d38945eafc"
      },
      "outputs": [
        {
          "data": {
            "application/vnd.jupyter.widget-view+json": {
              "model_id": "12b978159b954d20b02901c2509409e2",
              "version_major": 2,
              "version_minor": 0
            },
            "text/plain": [
              "Downloading:   0%|          | 0.00/681M [00:00<?, ?B/s]"
            ]
          },
          "metadata": {},
          "output_type": "display_data"
        },
        {
          "name": "stderr",
          "output_type": "stream",
          "text": [
            "Some weights of the model checkpoint at bert-base-multilingual-cased were not used when initializing BertForSequenceClassification: ['cls.predictions.decoder.weight', 'cls.predictions.transform.LayerNorm.bias', 'cls.predictions.bias', 'cls.seq_relationship.weight', 'cls.predictions.transform.dense.bias', 'cls.predictions.transform.LayerNorm.weight', 'cls.predictions.transform.dense.weight', 'cls.seq_relationship.bias']\n",
            "- This IS expected if you are initializing BertForSequenceClassification from the checkpoint of a model trained on another task or with another architecture (e.g. initializing a BertForSequenceClassification model from a BertForPreTraining model).\n",
            "- This IS NOT expected if you are initializing BertForSequenceClassification from the checkpoint of a model that you expect to be exactly identical (initializing a BertForSequenceClassification model from a BertForSequenceClassification model).\n",
            "Some weights of BertForSequenceClassification were not initialized from the model checkpoint at bert-base-multilingual-cased and are newly initialized: ['classifier.weight', 'classifier.bias']\n",
            "You should probably TRAIN this model on a down-stream task to be able to use it for predictions and inference.\n",
            "/usr/local/lib/python3.7/dist-packages/sklearn/metrics/_classification.py:1308: UndefinedMetricWarning: Recall and F-score are ill-defined and being set to 0.0 in labels with no true samples. Use `zero_division` parameter to control this behavior.\n",
            "  _warn_prf(average, modifier, msg_start, len(result))\n",
            "/usr/local/lib/python3.7/dist-packages/sklearn/metrics/_classification.py:1308: UndefinedMetricWarning: Recall and F-score are ill-defined and being set to 0.0 in labels with no true samples. Use `zero_division` parameter to control this behavior.\n",
            "  _warn_prf(average, modifier, msg_start, len(result))\n",
            "/usr/local/lib/python3.7/dist-packages/sklearn/metrics/_classification.py:1308: UndefinedMetricWarning: Recall and F-score are ill-defined and being set to 0.0 in labels with no true samples. Use `zero_division` parameter to control this behavior.\n",
            "  _warn_prf(average, modifier, msg_start, len(result))\n"
          ]
        },
        {
          "name": "stdout",
          "output_type": "stream",
          "text": [
            "              precision    recall  f1-score   support\n",
            "\n",
            "           0       1.00      0.83      0.91       800\n",
            "           1       0.00      0.00      0.00         0\n",
            "\n",
            "    accuracy                           0.83       800\n",
            "   macro avg       0.50      0.42      0.45       800\n",
            "weighted avg       1.00      0.83      0.91       800\n",
            "\n",
            "accuracy = 0.83\n",
            "Epoch: 01 | Epoch Time: 0m 59s\n",
            "\tTrain Loss: 0.422 | Train Acc: 85.38%\n",
            "\t Val. Loss: 0.465 |  Val. Acc: 83.25%\n",
            "              precision    recall  f1-score   support\n",
            "\n",
            "           0       0.97      0.86      0.91       754\n",
            "           1       0.21      0.61      0.31        46\n",
            "\n",
            "    accuracy                           0.84       800\n",
            "   macro avg       0.59      0.73      0.61       800\n",
            "weighted avg       0.93      0.84      0.88       800\n",
            "\n",
            "accuracy = 0.84\n",
            "Epoch: 02 | Epoch Time: 0m 59s\n",
            "\tTrain Loss: 0.374 | Train Acc: 86.72%\n",
            "\t Val. Loss: 0.499 |  Val. Acc: 84.50%\n",
            "              precision    recall  f1-score   support\n",
            "\n",
            "           0       0.98      0.84      0.91       777\n",
            "           1       0.10      0.57      0.17        23\n",
            "\n",
            "    accuracy                           0.84       800\n",
            "   macro avg       0.54      0.70      0.54       800\n",
            "weighted avg       0.96      0.84      0.89       800\n",
            "\n",
            "accuracy = 0.84\n",
            "Epoch: 03 | Epoch Time: 0m 59s\n",
            "\tTrain Loss: 0.280 | Train Acc: 92.06%\n",
            "\t Val. Loss: 0.729 |  Val. Acc: 83.62%\n",
            "              precision    recall  f1-score   support\n",
            "\n",
            "           0       0.94      0.87      0.90       718\n",
            "           1       0.31      0.50      0.38        82\n",
            "\n",
            "    accuracy                           0.83       800\n",
            "   macro avg       0.62      0.69      0.64       800\n",
            "weighted avg       0.87      0.83      0.85       800\n",
            "\n",
            "accuracy = 0.83\n",
            "Epoch: 04 | Epoch Time: 0m 59s\n",
            "\tTrain Loss: 0.189 | Train Acc: 95.22%\n",
            "\t Val. Loss: 0.791 |  Val. Acc: 83.25%\n",
            "              precision    recall  f1-score   support\n",
            "\n",
            "           0       0.95      0.86      0.90       733\n",
            "           1       0.25      0.51      0.34        67\n",
            "\n",
            "    accuracy                           0.83       800\n",
            "   macro avg       0.60      0.69      0.62       800\n",
            "weighted avg       0.89      0.83      0.86       800\n",
            "\n",
            "accuracy = 0.83\n",
            "Epoch: 05 | Epoch Time: 0m 59s\n",
            "\tTrain Loss: 0.099 | Train Acc: 97.78%\n",
            "\t Val. Loss: 0.910 |  Val. Acc: 83.38%\n",
            "              precision    recall  f1-score   support\n",
            "\n",
            "           0       0.94      0.87      0.91       724\n",
            "           1       0.29      0.51      0.37        76\n",
            "\n",
            "    accuracy                           0.83       800\n",
            "   macro avg       0.62      0.69      0.64       800\n",
            "weighted avg       0.88      0.83      0.85       800\n",
            "\n",
            "accuracy = 0.83\n",
            "Epoch: 06 | Epoch Time: 0m 59s\n",
            "\tTrain Loss: 0.061 | Train Acc: 98.88%\n",
            "\t Val. Loss: 0.998 |  Val. Acc: 83.50%\n",
            "              precision    recall  f1-score   support\n",
            "\n",
            "           0       0.94      0.87      0.90       724\n",
            "           1       0.28      0.49      0.35        76\n",
            "\n",
            "    accuracy                           0.83       800\n",
            "   macro avg       0.61      0.68      0.63       800\n",
            "weighted avg       0.88      0.83      0.85       800\n",
            "\n",
            "accuracy = 0.83\n",
            "Epoch: 07 | Epoch Time: 0m 59s\n",
            "\tTrain Loss: 0.043 | Train Acc: 99.25%\n",
            "\t Val. Loss: 1.102 |  Val. Acc: 83.00%\n",
            "              precision    recall  f1-score   support\n",
            "\n",
            "           0       0.94      0.87      0.90       724\n",
            "           1       0.28      0.49      0.35        76\n",
            "\n",
            "    accuracy                           0.83       800\n",
            "   macro avg       0.61      0.68      0.63       800\n",
            "weighted avg       0.88      0.83      0.85       800\n",
            "\n",
            "accuracy = 0.83\n",
            "Epoch: 08 | Epoch Time: 0m 59s\n",
            "\tTrain Loss: 0.027 | Train Acc: 99.47%\n",
            "\t Val. Loss: 1.182 |  Val. Acc: 83.00%\n",
            "              precision    recall  f1-score   support\n",
            "\n",
            "           0       0.95      0.86      0.91       735\n",
            "           1       0.25      0.51      0.33        65\n",
            "\n",
            "    accuracy                           0.83       800\n",
            "   macro avg       0.60      0.69      0.62       800\n",
            "weighted avg       0.89      0.83      0.86       800\n",
            "\n",
            "accuracy = 0.83\n",
            "Epoch: 09 | Epoch Time: 0m 59s\n",
            "\tTrain Loss: 0.024 | Train Acc: 99.56%\n",
            "\t Val. Loss: 1.207 |  Val. Acc: 83.38%\n",
            "              precision    recall  f1-score   support\n",
            "\n",
            "           0       0.94      0.87      0.90       726\n",
            "           1       0.28      0.50      0.36        74\n",
            "\n",
            "    accuracy                           0.83       800\n",
            "   macro avg       0.61      0.68      0.63       800\n",
            "weighted avg       0.88      0.83      0.85       800\n",
            "\n",
            "accuracy = 0.83\n",
            "Epoch: 10 | Epoch Time: 0m 59s\n",
            "\tTrain Loss: 0.016 | Train Acc: 99.72%\n",
            "\t Val. Loss: 1.222 |  Val. Acc: 83.25%\n"
          ]
        }
      ],
      "source": [
        "# if model_eng:\n",
        "# del model_fr\n",
        "import gc\n",
        "gc.collect()\n",
        "\n",
        "from transformers import BertForSequenceClassification, AdamW\n",
        "\n",
        "\n",
        "model_fr = BertForSequenceClassification.from_pretrained('bert-base-multilingual-cased',\n",
        "                                                     num_labels=2,\n",
        "                                                     output_attentions=False,\n",
        "                                                     output_hidden_states=False,\n",
        "                                                     )\n",
        "model_fr.cuda()\n",
        "\n",
        "optimizer_fr = AdamW(model_fr.parameters(),lr=2e-5,eps=1e-8)\n",
        "\n",
        "epochs=10\n",
        "total_steps = len(train_data_loader_fr) * epochs\n",
        "\n",
        "scheduler = get_linear_schedule_with_warmup(optimizer_fr,\n",
        "                                           num_warmup_steps=0,\n",
        "                                           num_training_steps=total_steps)\n",
        "\n",
        "total_t0 = time.time()\n",
        "\n",
        "seed_val = 42\n",
        "\n",
        "random.seed(seed_val)\n",
        "np.random.seed(seed_val)\n",
        "torch.manual_seed(seed_val)\n",
        "torch.cuda.manual_seed_all(seed_val)\n",
        "\n",
        "epochs = 10\n",
        "\n",
        "best_macro_f1 = float('0')\n",
        "train_acc_eng_fr = []\n",
        "val_acc_eng_fr = []\n",
        "train_loss_eng_fr = []\n",
        "val_loss_eng_fr = []\n",
        "\n",
        "for epoch in range(epochs):\n",
        "    \n",
        "    start_time = time.time()\n",
        "    train_loss,train_acc = train(model_fr, train_data_loader_fr, optimizer_fr)\n",
        "    valid_loss,valid_acc,macro_f1 = evaluate(model_fr, valid_data_loader_fr)\n",
        "    \n",
        "    end_time = time.time()\n",
        "        \n",
        "    epoch_mins, epoch_secs = epoch_time(start_time, end_time)\n",
        "        \n",
        "    if macro_f1 > best_macro_f1:\n",
        "        best_macro_f1 = macro_f1\n",
        "        torch.save(model_fr,\"/content/gdrive/MyDrive/NLP Project/model_pt/model_french_task_a.pt\")\n",
        "    \n",
        "    print(f'Epoch: {epoch+1:02} | Epoch Time: {epoch_mins}m {epoch_secs}s')\n",
        "    print(f'\\tTrain Loss: {train_loss:.3f} | Train Acc: {train_acc*100:.2f}%')\n",
        "    print(f'\\t Val. Loss: {valid_loss:.3f} |  Val. Acc: {valid_acc*100:.2f}%')\n",
        "    train_acc_eng_fr.append(train_acc*100)\n",
        "    val_acc_eng_fr.append(valid_acc*100)\n",
        "    train_loss_eng_fr.append(train_loss*100)\n",
        "    val_loss_eng_fr.append(valid_loss*100)"
      ]
    },
    {
      "cell_type": "code",
      "execution_count": null,
      "metadata": {
        "colab": {
          "base_uri": "https://localhost:8080/",
          "height": 642
        },
        "id": "F5O-kRLTtPdM",
        "outputId": "0ff5fee2-ace1-427d-c93e-27eff8c7d41a"
      },
      "outputs": [
        {
          "data": {
            "image/png": "[encoded data removed]",
            "text/plain": [
              "<Figure size 432x288 with 1 Axes>"
            ]
          },
          "metadata": {},
          "output_type": "display_data"
        },
        {
          "name": "stdout",
          "output_type": "stream",
          "text": [
            "95.403125\n",
            "83.4125\n"
          ]
        },
        {
          "data": {
            "image/png": "[encoded data removed]",
            "text/plain": [
              "<Figure size 432x288 with 1 Axes>"
            ]
          },
          "metadata": {},
          "output_type": "display_data"
        },
        {
          "name": "stdout",
          "output_type": "stream",
          "text": [
            "15.368400997666322\n",
            "91.0500078084413\n"
          ]
        }
      ],
      "source": [
        "plot_vc(train_acc_eng_fr, val_acc_eng_fr)\n",
        "print(np.mean(train_acc_eng_fr))\n",
        "print(np.mean(val_acc_eng_fr))\n",
        "\n",
        "plot_lc(train_loss_eng_fr, val_loss_eng_fr)\n",
        "print(np.mean(train_loss_eng_fr))\n",
        "print(np.mean(val_loss_eng_fr))"
      ]
    },
    {
      "cell_type": "markdown",
      "metadata": {
        "id": "3LkQfvdBtUhc"
      },
      "source": [
        "###Evaluate French"
      ]
    },
    {
      "cell_type": "code",
      "execution_count": null,
      "metadata": {
        "colab": {
          "base_uri": "https://localhost:8080/"
        },
        "id": "hh-QagMwtaco",
        "outputId": "3795ab09-1aea-4340-89d8-8ddf7d819cd9"
      },
      "outputs": [
        {
          "name": "stdout",
          "output_type": "stream",
          "text": [
            "              precision    recall  f1-score   support\n",
            "\n",
            "           0       0.95      0.89      0.92       911\n",
            "           1       0.31      0.49      0.38        89\n",
            "\n",
            "    accuracy                           0.86      1000\n",
            "   macro avg       0.63      0.69      0.65      1000\n",
            "weighted avg       0.89      0.86      0.87      1000\n",
            "\n",
            "accuracy = 0.86\n"
          ]
        }
      ],
      "source": [
        "del model_fr\n",
        "import gc\n",
        "gc.collect()\n",
        "\n",
        "model_fr = torch.load(\"/content/gdrive/MyDrive/NLP Project/model_pt/model_french_task_a.pt\")\n",
        "model_fr = model_fr.to(device)\n",
        "\n",
        "valid_loss_fr,valid_acc_fr,all_sentence_id_fr,all_pred_labels_fr = evaluate_test(model_fr, test_data_loader_fr)"
      ]
    },
    {
      "cell_type": "markdown",
      "source": [
        "##SPANISH TUNING"
      ],
      "metadata": {
        "id": "kpz0WK77LCSw"
      }
    },
    {
      "cell_type": "markdown",
      "metadata": {
        "id": "OtQhFhKG-jxr"
      },
      "source": [
        "###Load Spanish Data"
      ]
    },
    {
      "cell_type": "code",
      "execution_count": null,
      "metadata": {
        "colab": {
          "base_uri": "https://localhost:8080/"
        },
        "id": "h3rHPe8Ldv_9",
        "outputId": "74646901-8360-4a2d-811f-7fb5b779ed9b"
      },
      "outputs": [
        {
          "name": "stdout",
          "output_type": "stream",
          "text": [
            "max token length in train_data is:  1229\n"
          ]
        },
        {
          "name": "stderr",
          "output_type": "stream",
          "text": [
            "/usr/local/lib/python3.7/dist-packages/transformers/tokenization_utils_base.py:2218: FutureWarning: The `pad_to_max_length` argument is deprecated and will be removed in a future version, use `padding=True` or `padding='longest'` to pad to the longest sequence in the batch, or use `padding='max_length'` to pad to a max length. In this case, you can give a specific length with `max_length` (e.g. `max_length=45`) or leave max_length to None to pad to the maximal input size of the model (e.g. 512 for Bert).\n",
            "  FutureWarning,\n"
          ]
        },
        {
          "name": "stdout",
          "output_type": "stream",
          "text": [
            "Original:  Easyjet quiere duplicar el número de mujeres piloto  Verás tú para aparcar el avión http   t co   NuLkm  x\n",
            "Token IDs: tensor([  101, 39878, 18533, 68448, 10168, 62932, 15983, 10125, 13197, 10104,\n",
            "        22354, 35635, 41357, 12299, 85777, 10220, 32500, 22549, 10129, 10125,\n",
            "        48537, 10556,   188, 11170, 28336, 11369, 23440,   192,   102,     0,\n",
            "            0,     0,     0,     0,     0,     0,     0,     0,     0,     0,\n",
            "            0,     0,     0,     0,     0,     0,     0,     0,     0,     0,\n",
            "            0,     0,     0,     0,     0,     0,     0,     0,     0,     0,\n",
            "            0,     0,     0,     0,     0,     0,     0,     0,     0,     0,\n",
            "            0,     0,     0,     0,     0,     0,     0,     0,     0,     0,\n",
            "            0,     0,     0,     0,     0,     0,     0,     0,     0,     0,\n",
            "            0,     0,     0,     0,     0,     0,     0,     0,     0,     0,\n",
            "            0,     0,     0,     0,     0,     0,     0,     0,     0,     0,\n",
            "            0,     0,     0,     0,     0,     0,     0,     0,     0,     0,\n",
            "            0,     0,     0,     0,     0,     0,     0,     0])\n",
            "train data samples is 3560\n",
            "valid data samples is 890\n",
            "test data samples is 500\n"
          ]
        }
      ],
      "source": [
        "train_data_sp = spanish_df_2019.copy()\n",
        "test_data_sp = spanish_df_2019t.copy()\n",
        "labels = {'HOF': 0, 'NOT': 1}\n",
        "\n",
        "# train_data['HS'] = train_data['HS'].apply(lambda x: labels[x])\n",
        "# test_data['task_1'] = test_data['task_1'].apply(lambda x: labels[x])\n",
        "\n",
        "tokenizer_sp = BertTokenizer.from_pretrained('bert-base-multilingual-cased')\n",
        "\n",
        "max_length = 0\n",
        "for sentence in train_data_sp['text']:\n",
        "    #print(sentence)\n",
        "    length = len(tokenizer_sp.tokenize(sentence))\n",
        "    if length > max_length:\n",
        "        max_length  = length\n",
        "print(\"max token length in train_data is: \",max_length)\n",
        "\n",
        "sent_index_sp,input_ids_sp,attention_masks_sp = encoder_generator(tokenizer_sp, list(train_data_sp['text']))\n",
        "test_sent_index_sp,test_input_ids_sp,test_attention_masks_sp = encoder_generator(tokenizer_sp, list(test_data_sp['text']))\n",
        "print('Original: ', train_data_sp['text'][0])\n",
        "print('Token IDs:', input_ids_sp[0])\n",
        "dataset_sp = TensorDataset(input_ids_sp,attention_masks_sp,torch.tensor(train_data_sp['HS']))\n",
        "test_dataset_sp = TensorDataset(test_sent_index_sp,test_input_ids_sp,test_attention_masks_sp,torch.tensor(test_data_sp['task_1']))\n",
        "\n",
        "train_size_sp = int(0.8*len(dataset_sp))\n",
        "\n",
        "val_size_sp = len(dataset_sp)-train_size_sp\n",
        "\n",
        "train_dataset_sp,val_dataset_sp = random_split(dataset_sp,[train_size_sp,val_size_sp])\n",
        "\n",
        "print('train data samples is {}'.format(len(train_dataset_sp)))\n",
        "print(\"valid data samples is {}\".format(len(val_dataset_sp)))\n",
        "print(\"test data samples is {}\".format(len(test_dataset_sp)))\n",
        "\n",
        "bs=8\n",
        "\n",
        "train_data_loader_sp = DataLoader(train_dataset_sp,\n",
        "                              sampler=RandomSampler(train_dataset_sp),\n",
        "                              batch_size=bs)\n",
        "valid_data_loader_sp = DataLoader(val_dataset_sp,\n",
        "                              sampler=SequentialSampler(val_dataset_sp),\n",
        "                              batch_size=bs)\n",
        "test_data_loader_sp = DataLoader(test_dataset_sp,\n",
        "                            sampler=SequentialSampler(test_dataset_sp),\n",
        "                            batch_size=bs)\n"
      ]
    },
    {
      "cell_type": "markdown",
      "metadata": {
        "id": "xhv1afoZfZaf"
      },
      "source": [
        "### Evaluate BERT(French) on Spanish Val Data\n",
        "\n",
        "Bert trained on English and evaluated"
      ]
    },
    {
      "cell_type": "code",
      "execution_count": null,
      "metadata": {
        "colab": {
          "base_uri": "https://localhost:8080/"
        },
        "id": "fb3lwerArgIx",
        "outputId": "85189df3-24d0-40fb-b085-b75d9d0ababe"
      },
      "outputs": [
        {
          "name": "stdout",
          "output_type": "stream",
          "text": [
            "              precision    recall  f1-score   support\n",
            "\n",
            "           0       0.87      0.55      0.68       440\n",
            "           1       0.11      0.42      0.18        60\n",
            "\n",
            "    accuracy                           0.54       500\n",
            "   macro avg       0.49      0.48      0.43       500\n",
            "weighted avg       0.78      0.54      0.62       500\n",
            "\n",
            "accuracy = 0.54\n"
          ]
        }
      ],
      "source": [
        "# if model_sp:\n",
        "#   del model_sp\n",
        "import gc\n",
        "gc.collect()\n",
        "\n",
        "model_sp = torch.load(\"/content/gdrive/MyDrive/NLP Project/model_pt/model_french_task_a.pt\")\n",
        "model_sp = model_sp.to(device)\n",
        "\n",
        "valid_loss_sp,valid_acc_sp,all_sentence_id_sp,all_pred_labels_sp = evaluate_test(model_sp, test_data_loader_sp)"
      ]
    },
    {
      "cell_type": "markdown",
      "metadata": {
        "id": "1e-3zzdHedgm"
      },
      "source": [
        "### Train Fine tuned BERT (French) for Spanish\n"
      ]
    },
    {
      "cell_type": "code",
      "execution_count": null,
      "metadata": {
        "colab": {
          "base_uri": "https://localhost:8080/"
        },
        "id": "hs95oojQzgZZ",
        "outputId": "ad74f4a2-d1e0-489e-dacd-33b178062143"
      },
      "outputs": [
        {
          "name": "stdout",
          "output_type": "stream",
          "text": [
            "              precision    recall  f1-score   support\n",
            "\n",
            "           0       0.75      0.88      0.81       466\n",
            "           1       0.84      0.69      0.75       424\n",
            "\n",
            "    accuracy                           0.79       890\n",
            "   macro avg       0.80      0.78      0.78       890\n",
            "weighted avg       0.79      0.79      0.78       890\n",
            "\n",
            "accuracy = 0.79\n",
            "Epoch: 01 | Epoch Time: 1m 6s\n",
            "\tTrain Loss: 0.617 | Train Acc: 68.60%\n",
            "\t Val. Loss: 0.493 |  Val. Acc: 78.65%\n",
            "              precision    recall  f1-score   support\n",
            "\n",
            "           0       0.68      0.93      0.79       396\n",
            "           1       0.92      0.65      0.76       494\n",
            "\n",
            "    accuracy                           0.78       890\n",
            "   macro avg       0.80      0.79      0.77       890\n",
            "weighted avg       0.81      0.78      0.77       890\n",
            "\n",
            "accuracy = 0.78\n",
            "Epoch: 02 | Epoch Time: 1m 6s\n",
            "\tTrain Loss: 0.446 | Train Acc: 82.87%\n",
            "\t Val. Loss: 0.613 |  Val. Acc: 77.53%\n",
            "              precision    recall  f1-score   support\n",
            "\n",
            "           0       0.81      0.85      0.83       518\n",
            "           1       0.78      0.73      0.75       372\n",
            "\n",
            "    accuracy                           0.80       890\n",
            "   macro avg       0.79      0.79      0.79       890\n",
            "weighted avg       0.80      0.80      0.80       890\n",
            "\n",
            "accuracy = 0.80\n",
            "Epoch: 03 | Epoch Time: 1m 6s\n",
            "\tTrain Loss: 0.361 | Train Acc: 87.58%\n",
            "\t Val. Loss: 0.565 |  Val. Acc: 79.78%\n",
            "              precision    recall  f1-score   support\n",
            "\n",
            "           0       0.80      0.87      0.83       499\n",
            "           1       0.81      0.72      0.76       391\n",
            "\n",
            "    accuracy                           0.80       890\n",
            "   macro avg       0.80      0.79      0.80       890\n",
            "weighted avg       0.80      0.80      0.80       890\n",
            "\n",
            "accuracy = 0.80\n",
            "Epoch: 04 | Epoch Time: 1m 6s\n",
            "\tTrain Loss: 0.259 | Train Acc: 93.06%\n",
            "\t Val. Loss: 0.703 |  Val. Acc: 80.34%\n",
            "              precision    recall  f1-score   support\n",
            "\n",
            "           0       0.87      0.82      0.84       573\n",
            "           1       0.71      0.78      0.74       317\n",
            "\n",
            "    accuracy                           0.81       890\n",
            "   macro avg       0.79      0.80      0.79       890\n",
            "weighted avg       0.81      0.81      0.81       890\n",
            "\n",
            "accuracy = 0.81\n",
            "Epoch: 05 | Epoch Time: 1m 6s\n",
            "\tTrain Loss: 0.187 | Train Acc: 95.59%\n",
            "\t Val. Loss: 0.873 |  Val. Acc: 80.56%\n",
            "              precision    recall  f1-score   support\n",
            "\n",
            "           0       0.86      0.83      0.85       558\n",
            "           1       0.73      0.77      0.75       332\n",
            "\n",
            "    accuracy                           0.81       890\n",
            "   macro avg       0.80      0.80      0.80       890\n",
            "weighted avg       0.81      0.81      0.81       890\n",
            "\n",
            "accuracy = 0.81\n",
            "Epoch: 06 | Epoch Time: 1m 6s\n",
            "\tTrain Loss: 0.142 | Train Acc: 96.85%\n",
            "\t Val. Loss: 0.941 |  Val. Acc: 80.90%\n",
            "              precision    recall  f1-score   support\n",
            "\n",
            "           0       0.80      0.87      0.84       501\n",
            "           1       0.81      0.73      0.77       389\n",
            "\n",
            "    accuracy                           0.81       890\n",
            "   macro avg       0.81      0.80      0.80       890\n",
            "weighted avg       0.81      0.81      0.81       890\n",
            "\n",
            "accuracy = 0.81\n",
            "Epoch: 07 | Epoch Time: 1m 6s\n",
            "\tTrain Loss: 0.106 | Train Acc: 97.78%\n",
            "\t Val. Loss: 0.967 |  Val. Acc: 80.79%\n",
            "              precision    recall  f1-score   support\n",
            "\n",
            "           0       0.83      0.85      0.84       526\n",
            "           1       0.78      0.74      0.76       364\n",
            "\n",
            "    accuracy                           0.81       890\n",
            "   macro avg       0.80      0.80      0.80       890\n",
            "weighted avg       0.81      0.81      0.81       890\n",
            "\n",
            "accuracy = 0.81\n",
            "Epoch: 08 | Epoch Time: 1m 6s\n",
            "\tTrain Loss: 0.059 | Train Acc: 98.90%\n",
            "\t Val. Loss: 1.168 |  Val. Acc: 80.90%\n",
            "              precision    recall  f1-score   support\n",
            "\n",
            "           0       0.85      0.84      0.84       544\n",
            "           1       0.75      0.76      0.76       346\n",
            "\n",
            "    accuracy                           0.81       890\n",
            "   macro avg       0.80      0.80      0.80       890\n",
            "weighted avg       0.81      0.81      0.81       890\n",
            "\n",
            "accuracy = 0.81\n",
            "Epoch: 09 | Epoch Time: 1m 6s\n",
            "\tTrain Loss: 0.040 | Train Acc: 99.30%\n",
            "\t Val. Loss: 1.224 |  Val. Acc: 80.90%\n",
            "              precision    recall  f1-score   support\n",
            "\n",
            "           0       0.83      0.84      0.84       535\n",
            "           1       0.76      0.75      0.75       355\n",
            "\n",
            "    accuracy                           0.81       890\n",
            "   macro avg       0.80      0.80      0.80       890\n",
            "weighted avg       0.81      0.81      0.81       890\n",
            "\n",
            "accuracy = 0.81\n",
            "Epoch: 10 | Epoch Time: 1m 6s\n",
            "\tTrain Loss: 0.027 | Train Acc: 99.49%\n",
            "\t Val. Loss: 1.264 |  Val. Acc: 80.56%\n"
          ]
        }
      ],
      "source": [
        "del model_fr\n",
        "import gc\n",
        "gc.collect()\n",
        "\n",
        "model_fr = torch.load('/content/gdrive/MyDrive/NLP Project/model_pt/model_french_task_a.pt')\n",
        "model_fr = model_fr.to(device)\n",
        "\n",
        "optimizer_sp = AdamW(model_fr.parameters(),lr=2e-5,eps=1e-8)\n",
        "\n",
        "epochs=10\n",
        "total_steps = len(train_data_loader_sp) * epochs\n",
        "\n",
        "scheduler = get_linear_schedule_with_warmup(optimizer_sp,\n",
        "                                           num_warmup_steps=0,\n",
        "                                           num_training_steps=total_steps)\n",
        "\n",
        "total_t0 = time.time()\n",
        "\n",
        "seed_val = 42\n",
        "\n",
        "random.seed(seed_val)\n",
        "np.random.seed(seed_val)\n",
        "torch.manual_seed(seed_val)\n",
        "torch.cuda.manual_seed_all(seed_val)\n",
        "\n",
        "epochs = 10\n",
        "\n",
        "best_macro_f1 = float('0')\n",
        "train_acc_eng_sp = []\n",
        "val_acc_eng_sp = []\n",
        "train_loss_eng_sp = []\n",
        "val_loss_eng_sp = []\n",
        "\n",
        "for epoch in range(epochs):\n",
        "    \n",
        "    start_time = time.time()\n",
        "    train_loss,train_acc = train(model_fr, train_data_loader_sp, optimizer_sp)\n",
        "    valid_loss,valid_acc,macro_f1 = evaluate(model_fr, valid_data_loader_sp)\n",
        "    \n",
        "    end_time = time.time()\n",
        "        \n",
        "    epoch_mins, epoch_secs = epoch_time(start_time, end_time)\n",
        "        \n",
        "    if macro_f1 > best_macro_f1:\n",
        "        best_macro_f1 = macro_f1\n",
        "        torch.save(model_fr,\"/content/gdrive/MyDrive/NLP Project/model_pt/model_french_spanish_task_a.pt\")\n",
        "    \n",
        "    print(f'Epoch: {epoch+1:02} | Epoch Time: {epoch_mins}m {epoch_secs}s')\n",
        "    print(f'\\tTrain Loss: {train_loss:.3f} | Train Acc: {train_acc*100:.2f}%')\n",
        "    print(f'\\t Val. Loss: {valid_loss:.3f} |  Val. Acc: {valid_acc*100:.2f}%')\n",
        "    train_acc_eng_sp.append(train_acc*100)\n",
        "    val_acc_eng_sp.append(valid_acc*100)\n",
        "    train_loss_eng_sp.append(train_loss*100)\n",
        "    val_loss_eng_sp.append(valid_loss*100)"
      ]
    },
    {
      "cell_type": "code",
      "execution_count": null,
      "metadata": {
        "colab": {
          "base_uri": "https://localhost:8080/",
          "height": 642
        },
        "id": "LTTrcHTaAcVk",
        "outputId": "800021f0-9c62-4de3-929d-8903c18f6c06"
      },
      "outputs": [
        {
          "data": {
            "image/png": "[encoded data removed]",
            "text/plain": [
              "<Figure size 432x288 with 1 Axes>"
            ]
          },
          "metadata": {},
          "output_type": "display_data"
        },
        {
          "name": "stdout",
          "output_type": "stream",
          "text": [
            "92.00280898876403\n",
            "80.08988764044942\n"
          ]
        },
        {
          "data": {
            "image/png": "[encoded data removed]",
            "text/plain": [
              "<Figure size 432x288 with 1 Axes>"
            ]
          },
          "metadata": {},
          "output_type": "display_data"
        },
        {
          "name": "stdout",
          "output_type": "stream",
          "text": [
            "22.449450615620812\n",
            "88.13136611124719\n"
          ]
        }
      ],
      "source": [
        "plot_vc(train_acc_eng_sp, val_acc_eng_sp)\n",
        "print(np.mean(train_acc_eng_sp))\n",
        "print(np.mean(val_acc_eng_sp))\n",
        "\n",
        "plot_lc(train_loss_eng_sp, val_loss_eng_sp)\n",
        "print(np.mean(train_loss_eng_sp))\n",
        "print(np.mean(val_loss_eng_sp))"
      ]
    },
    {
      "cell_type": "markdown",
      "metadata": {
        "id": "tHwL4iInEWQA"
      },
      "source": [
        "###Evaluate BERT french-> Span"
      ]
    },
    {
      "cell_type": "code",
      "execution_count": null,
      "metadata": {
        "colab": {
          "base_uri": "https://localhost:8080/"
        },
        "id": "gLmL1GV7ACvB",
        "outputId": "391ca916-40bb-4aee-e258-875d3c290a2e"
      },
      "outputs": [
        {
          "name": "stdout",
          "output_type": "stream",
          "text": [
            "              precision    recall  f1-score   support\n",
            "\n",
            "           0       0.76      0.85      0.80       248\n",
            "           1       0.83      0.73      0.78       252\n",
            "\n",
            "    accuracy                           0.79       500\n",
            "   macro avg       0.79      0.79      0.79       500\n",
            "weighted avg       0.79      0.79      0.79       500\n",
            "\n",
            "accuracy = 0.79\n"
          ]
        }
      ],
      "source": [
        "# if model_sp:\n",
        "#   del model_sp\n",
        "import gc\n",
        "gc.collect()\n",
        "\n",
        "model_sp = torch.load(\"/content/gdrive/MyDrive/NLP Project/model_pt/model_french_spanish_task_a.pt\")\n",
        "model_sp = model_sp.to(device)\n",
        "\n",
        "valid_loss_sp,valid_acc_sp,all_sentence_id_sp,all_pred_labels_sp = evaluate_test(model_sp, test_data_loader_sp)"
      ]
    },
    {
      "cell_type": "markdown",
      "source": [
        "##GERMAN TUNING"
      ],
      "metadata": {
        "id": "qTXn0ed1LFCb"
      }
    },
    {
      "cell_type": "markdown",
      "metadata": {
        "id": "ZAsbOqBZG5Tk"
      },
      "source": [
        "### Load German data"
      ]
    },
    {
      "cell_type": "code",
      "execution_count": null,
      "metadata": {
        "colab": {
          "base_uri": "https://localhost:8080/"
        },
        "id": "f9uwT6TLBUZI",
        "outputId": "2325d340-900f-45bf-c29c-b6613e1ab70f"
      },
      "outputs": [
        {
          "name": "stdout",
          "output_type": "stream",
          "text": [
            "max token length in train_data is:  132\n"
          ]
        },
        {
          "name": "stderr",
          "output_type": "stream",
          "text": [
            "/usr/local/lib/python3.7/dist-packages/transformers/tokenization_utils_base.py:2218: FutureWarning: The `pad_to_max_length` argument is deprecated and will be removed in a future version, use `padding=True` or `padding='longest'` to pad to the longest sequence in the batch, or use `padding='max_length'` to pad to a max length. In this case, you can give a specific length with `max_length` (e.g. `max_length=45`) or leave max_length to None to pad to the maximal input size of the model (e.g. 512 for Bert).\n",
            "  FutureWarning,\n"
          ]
        },
        {
          "name": "stdout",
          "output_type": "stream",
          "text": [
            "Original:  Frank Rennicke   Ich bin stolz \n",
            "Token IDs: tensor([  101, 11872, 52712, 71609, 10112, 21023, 16292, 47264, 48275,   102,\n",
            "            0,     0,     0,     0,     0,     0,     0,     0,     0,     0,\n",
            "            0,     0,     0,     0,     0,     0,     0,     0,     0,     0,\n",
            "            0,     0,     0,     0,     0,     0,     0,     0,     0,     0,\n",
            "            0,     0,     0,     0,     0,     0,     0,     0,     0,     0,\n",
            "            0,     0,     0,     0,     0,     0,     0,     0,     0,     0,\n",
            "            0,     0,     0,     0,     0,     0,     0,     0,     0,     0,\n",
            "            0,     0,     0,     0,     0,     0,     0,     0,     0,     0,\n",
            "            0,     0,     0,     0,     0,     0,     0,     0,     0,     0,\n",
            "            0,     0,     0,     0,     0,     0,     0,     0,     0,     0,\n",
            "            0,     0,     0,     0,     0,     0,     0,     0,     0,     0,\n",
            "            0,     0,     0,     0,     0,     0,     0,     0,     0,     0,\n",
            "            0,     0,     0,     0,     0,     0,     0,     0])\n",
            "train data samples is 3055\n",
            "valid data samples is 764\n",
            "test data samples is 526\n"
          ]
        }
      ],
      "source": [
        "train_data_ger = german_df_2019.copy()\n",
        "test_data_ger = german_df_2019t.copy()\n",
        "labels = {'HOF': 0, 'NOT': 1}\n",
        "\n",
        "train_data_ger['task_1'] = train_data_ger['task_1'].apply(lambda x: labels[x])\n",
        "test_data_ger['task1'] = test_data_ger['task1'].apply(lambda x: labels[x])\n",
        "\n",
        "tokenizer_ger = BertTokenizer.from_pretrained('bert-base-multilingual-cased')\n",
        "\n",
        "max_length = 0\n",
        "for sentence in train_data_ger['text']:\n",
        "    #print(sentence)\n",
        "    length = len(tokenizer_ger.tokenize(sentence))\n",
        "    if length > max_length:\n",
        "        max_length  = length\n",
        "print(\"max token length in train_data is: \",max_length)\n",
        "\n",
        "sent_index_ger,input_ids_ger,attention_masks_ger = encoder_generator(tokenizer_ger, list(train_data_ger['text']))\n",
        "test_sent_index_ger,test_input_ids_ger,test_attention_masks_ger = encoder_generator(tokenizer_ger, list(test_data_ger['text']))\n",
        "print('Original: ', train_data_ger['text'][0])\n",
        "print('Token IDs:', input_ids_ger[0])\n",
        "dataset_ger = TensorDataset(input_ids_ger,attention_masks_ger,torch.tensor(train_data_ger['task_1']))\n",
        "test_dataset_ger = TensorDataset(test_sent_index_ger,test_input_ids_ger,test_attention_masks_ger,torch.tensor(test_data_ger['task1']))\n",
        "\n",
        "train_size_ger = int(0.8*len(dataset_ger))\n",
        "\n",
        "val_size_ger = len(dataset_ger)-train_size_ger\n",
        "\n",
        "train_dataset_ger,val_dataset_ger = random_split(dataset_ger,[train_size_ger,val_size_ger])\n",
        "\n",
        "print('train data samples is {}'.format(len(train_dataset_ger)))\n",
        "print(\"valid data samples is {}\".format(len(val_dataset_ger)))\n",
        "print(\"test data samples is {}\".format(len(test_dataset_ger)))\n",
        "\n",
        "bs=8\n",
        "\n",
        "train_data_loader_ger = DataLoader(train_dataset_ger,\n",
        "                              sampler=RandomSampler(train_dataset_ger),\n",
        "                              batch_size=bs)\n",
        "valid_data_loader_ger = DataLoader(val_dataset_ger,\n",
        "                              sampler=SequentialSampler(val_dataset_ger),\n",
        "                              batch_size=bs)\n",
        "test_data_loader_ger = DataLoader(test_dataset_ger,\n",
        "                            sampler=SequentialSampler(test_dataset_ger),\n",
        "                            batch_size=bs)\n"
      ]
    },
    {
      "cell_type": "markdown",
      "metadata": {
        "id": "NjRGeYF6HeIc"
      },
      "source": [
        "### Evaluate BERT(French) on German Val Data\n",
        "\n",
        "Bert trained on English and evaluated"
      ]
    },
    {
      "cell_type": "code",
      "execution_count": null,
      "metadata": {
        "colab": {
          "base_uri": "https://localhost:8080/"
        },
        "id": "ovPASukFG1yA",
        "outputId": "edef63d2-cb7e-4e3c-e5c3-49bbb7601214"
      },
      "outputs": [
        {
          "name": "stdout",
          "output_type": "stream",
          "text": [
            "              precision    recall  f1-score   support\n",
            "\n",
            "           0       0.90      0.27      0.42       449\n",
            "           1       0.16      0.83      0.27        77\n",
            "\n",
            "    accuracy                           0.35       526\n",
            "   macro avg       0.53      0.55      0.34       526\n",
            "weighted avg       0.79      0.35      0.39       526\n",
            "\n",
            "accuracy = 0.35\n"
          ]
        }
      ],
      "source": [
        "# if model_ger:\n",
        "#   del model_ger\n",
        "import gc\n",
        "gc.collect()\n",
        "\n",
        "model_ger = torch.load(\"/content/gdrive/MyDrive/NLP Project/model_pt/model_french_task_a.pt\")\n",
        "model_ger = model_ger.to(device)\n",
        "\n",
        "valid_loss_ger,valid_acc_ger,all_sentence_id_ger,all_pred_labels_ger = evaluate_test(model_ger, test_data_loader_ger)"
      ]
    },
    {
      "cell_type": "markdown",
      "metadata": {
        "id": "OtoAnVFkHpsC"
      },
      "source": [
        "###Train Fine tuned BERT (French) for German"
      ]
    },
    {
      "cell_type": "code",
      "execution_count": null,
      "metadata": {
        "colab": {
          "background_save": true,
          "base_uri": "https://localhost:8080/"
        },
        "id": "BcpIUX3FHrW0",
        "outputId": "0ad80edf-b4dd-4366-caae-234eb63e82da"
      },
      "outputs": [
        {
          "name": "stderr",
          "output_type": "stream",
          "text": [
            "/usr/local/lib/python3.7/dist-packages/sklearn/metrics/_classification.py:1308: UndefinedMetricWarning: Recall and F-score are ill-defined and being set to 0.0 in labels with no true samples. Use `zero_division` parameter to control this behavior.\n",
            "  _warn_prf(average, modifier, msg_start, len(result))\n",
            "/usr/local/lib/python3.7/dist-packages/sklearn/metrics/_classification.py:1308: UndefinedMetricWarning: Recall and F-score are ill-defined and being set to 0.0 in labels with no true samples. Use `zero_division` parameter to control this behavior.\n",
            "  _warn_prf(average, modifier, msg_start, len(result))\n",
            "/usr/local/lib/python3.7/dist-packages/sklearn/metrics/_classification.py:1308: UndefinedMetricWarning: Recall and F-score are ill-defined and being set to 0.0 in labels with no true samples. Use `zero_division` parameter to control this behavior.\n",
            "  _warn_prf(average, modifier, msg_start, len(result))\n"
          ]
        },
        {
          "name": "stdout",
          "output_type": "stream",
          "text": [
            "              precision    recall  f1-score   support\n",
            "\n",
            "           0       0.00      0.00      0.00         0\n",
            "           1       1.00      0.90      0.95       764\n",
            "\n",
            "    accuracy                           0.90       764\n",
            "   macro avg       0.50      0.45      0.47       764\n",
            "weighted avg       1.00      0.90      0.95       764\n",
            "\n",
            "accuracy = 0.90\n",
            "Epoch: 01 | Epoch Time: 0m 56s\n",
            "\tTrain Loss: 0.382 | Train Acc: 88.58%\n",
            "\t Val. Loss: 0.335 |  Val. Acc: 90.05%\n"
          ]
        },
        {
          "name": "stderr",
          "output_type": "stream",
          "text": [
            "/usr/local/lib/python3.7/dist-packages/sklearn/metrics/_classification.py:1308: UndefinedMetricWarning: Recall and F-score are ill-defined and being set to 0.0 in labels with no true samples. Use `zero_division` parameter to control this behavior.\n",
            "  _warn_prf(average, modifier, msg_start, len(result))\n",
            "/usr/local/lib/python3.7/dist-packages/sklearn/metrics/_classification.py:1308: UndefinedMetricWarning: Recall and F-score are ill-defined and being set to 0.0 in labels with no true samples. Use `zero_division` parameter to control this behavior.\n",
            "  _warn_prf(average, modifier, msg_start, len(result))\n",
            "/usr/local/lib/python3.7/dist-packages/sklearn/metrics/_classification.py:1308: UndefinedMetricWarning: Recall and F-score are ill-defined and being set to 0.0 in labels with no true samples. Use `zero_division` parameter to control this behavior.\n",
            "  _warn_prf(average, modifier, msg_start, len(result))\n"
          ]
        },
        {
          "name": "stdout",
          "output_type": "stream",
          "text": [
            "              precision    recall  f1-score   support\n",
            "\n",
            "           0       0.00      0.00      0.00         0\n",
            "           1       1.00      0.90      0.95       764\n",
            "\n",
            "    accuracy                           0.90       764\n",
            "   macro avg       0.50      0.45      0.47       764\n",
            "weighted avg       1.00      0.90      0.95       764\n",
            "\n",
            "accuracy = 0.90\n",
            "Epoch: 02 | Epoch Time: 0m 57s\n",
            "\tTrain Loss: 0.351 | Train Acc: 89.17%\n",
            "\t Val. Loss: 0.413 |  Val. Acc: 90.05%\n"
          ]
        },
        {
          "name": "stderr",
          "output_type": "stream",
          "text": [
            "/usr/local/lib/python3.7/dist-packages/sklearn/metrics/_classification.py:1308: UndefinedMetricWarning: Recall and F-score are ill-defined and being set to 0.0 in labels with no true samples. Use `zero_division` parameter to control this behavior.\n",
            "  _warn_prf(average, modifier, msg_start, len(result))\n",
            "/usr/local/lib/python3.7/dist-packages/sklearn/metrics/_classification.py:1308: UndefinedMetricWarning: Recall and F-score are ill-defined and being set to 0.0 in labels with no true samples. Use `zero_division` parameter to control this behavior.\n",
            "  _warn_prf(average, modifier, msg_start, len(result))\n",
            "/usr/local/lib/python3.7/dist-packages/sklearn/metrics/_classification.py:1308: UndefinedMetricWarning: Recall and F-score are ill-defined and being set to 0.0 in labels with no true samples. Use `zero_division` parameter to control this behavior.\n",
            "  _warn_prf(average, modifier, msg_start, len(result))\n"
          ]
        },
        {
          "name": "stdout",
          "output_type": "stream",
          "text": [
            "              precision    recall  f1-score   support\n",
            "\n",
            "           0       0.00      0.00      0.00         0\n",
            "           1       1.00      0.90      0.95       764\n",
            "\n",
            "    accuracy                           0.90       764\n",
            "   macro avg       0.50      0.45      0.47       764\n",
            "weighted avg       1.00      0.90      0.95       764\n",
            "\n",
            "accuracy = 0.90\n",
            "Epoch: 03 | Epoch Time: 0m 56s\n",
            "\tTrain Loss: 0.359 | Train Acc: 89.17%\n",
            "\t Val. Loss: 0.358 |  Val. Acc: 90.05%\n"
          ]
        },
        {
          "name": "stderr",
          "output_type": "stream",
          "text": [
            "/usr/local/lib/python3.7/dist-packages/sklearn/metrics/_classification.py:1308: UndefinedMetricWarning: Recall and F-score are ill-defined and being set to 0.0 in labels with no true samples. Use `zero_division` parameter to control this behavior.\n",
            "  _warn_prf(average, modifier, msg_start, len(result))\n",
            "/usr/local/lib/python3.7/dist-packages/sklearn/metrics/_classification.py:1308: UndefinedMetricWarning: Recall and F-score are ill-defined and being set to 0.0 in labels with no true samples. Use `zero_division` parameter to control this behavior.\n",
            "  _warn_prf(average, modifier, msg_start, len(result))\n",
            "/usr/local/lib/python3.7/dist-packages/sklearn/metrics/_classification.py:1308: UndefinedMetricWarning: Recall and F-score are ill-defined and being set to 0.0 in labels with no true samples. Use `zero_division` parameter to control this behavior.\n",
            "  _warn_prf(average, modifier, msg_start, len(result))\n"
          ]
        },
        {
          "name": "stdout",
          "output_type": "stream",
          "text": [
            "              precision    recall  f1-score   support\n",
            "\n",
            "           0       0.00      0.00      0.00         0\n",
            "           1       1.00      0.90      0.95       764\n",
            "\n",
            "    accuracy                           0.90       764\n",
            "   macro avg       0.50      0.45      0.47       764\n",
            "weighted avg       1.00      0.90      0.95       764\n",
            "\n",
            "accuracy = 0.90\n",
            "Epoch: 04 | Epoch Time: 0m 56s\n",
            "\tTrain Loss: 0.354 | Train Acc: 89.16%\n",
            "\t Val. Loss: 0.337 |  Val. Acc: 90.05%\n",
            "              precision    recall  f1-score   support\n",
            "\n",
            "           0       0.17      0.27      0.21        49\n",
            "           1       0.95      0.91      0.93       715\n",
            "\n",
            "    accuracy                           0.87       764\n",
            "   macro avg       0.56      0.59      0.57       764\n",
            "weighted avg       0.90      0.87      0.88       764\n",
            "\n",
            "accuracy = 0.87\n",
            "Epoch: 05 | Epoch Time: 0m 56s\n",
            "\tTrain Loss: 0.339 | Train Acc: 88.80%\n",
            "\t Val. Loss: 0.324 |  Val. Acc: 87.04%\n",
            "              precision    recall  f1-score   support\n",
            "\n",
            "           0       0.05      0.36      0.09        11\n",
            "           1       0.99      0.90      0.95       753\n",
            "\n",
            "    accuracy                           0.90       764\n",
            "   macro avg       0.52      0.63      0.52       764\n",
            "weighted avg       0.98      0.90      0.93       764\n",
            "\n",
            "accuracy = 0.90\n",
            "Epoch: 06 | Epoch Time: 0m 57s\n",
            "\tTrain Loss: 0.316 | Train Acc: 89.86%\n",
            "\t Val. Loss: 0.362 |  Val. Acc: 89.66%\n",
            "              precision    recall  f1-score   support\n",
            "\n",
            "           0       0.12      0.25      0.16        36\n",
            "           1       0.96      0.91      0.93       728\n",
            "\n",
            "    accuracy                           0.88       764\n",
            "   macro avg       0.54      0.58      0.55       764\n",
            "weighted avg       0.92      0.88      0.90       764\n",
            "\n",
            "accuracy = 0.88\n",
            "Epoch: 07 | Epoch Time: 0m 56s\n",
            "\tTrain Loss: 0.261 | Train Acc: 92.51%\n",
            "\t Val. Loss: 0.445 |  Val. Acc: 87.70%\n",
            "              precision    recall  f1-score   support\n",
            "\n",
            "           0       0.25      0.24      0.24        80\n",
            "           1       0.91      0.92      0.91       684\n",
            "\n",
            "    accuracy                           0.85       764\n",
            "   macro avg       0.58      0.58      0.58       764\n",
            "weighted avg       0.84      0.85      0.84       764\n",
            "\n",
            "accuracy = 0.85\n",
            "Epoch: 08 | Epoch Time: 0m 56s\n",
            "\tTrain Loss: 0.222 | Train Acc: 94.60%\n",
            "\t Val. Loss: 0.524 |  Val. Acc: 84.55%\n",
            "              precision    recall  f1-score   support\n",
            "\n",
            "           0       0.14      0.24      0.18        45\n",
            "           1       0.95      0.91      0.93       719\n",
            "\n",
            "    accuracy                           0.87       764\n",
            "   macro avg       0.55      0.58      0.56       764\n",
            "weighted avg       0.90      0.87      0.89       764\n",
            "\n",
            "accuracy = 0.87\n",
            "Epoch: 09 | Epoch Time: 0m 56s\n",
            "\tTrain Loss: 0.174 | Train Acc: 95.91%\n",
            "\t Val. Loss: 0.584 |  Val. Acc: 87.04%\n",
            "              precision    recall  f1-score   support\n",
            "\n",
            "           0       0.20      0.25      0.22        59\n",
            "           1       0.94      0.91      0.92       705\n",
            "\n",
            "    accuracy                           0.86       764\n",
            "   macro avg       0.57      0.58      0.57       764\n",
            "weighted avg       0.88      0.86      0.87       764\n",
            "\n",
            "accuracy = 0.86\n",
            "Epoch: 10 | Epoch Time: 0m 56s\n",
            "\tTrain Loss: 0.156 | Train Acc: 96.60%\n",
            "\t Val. Loss: 0.627 |  Val. Acc: 86.26%\n"
          ]
        }
      ],
      "source": [
        "# if model_eng:\n",
        "#   del model_eng\n",
        "import gc\n",
        "gc.collect()\n",
        "\n",
        "model_eng = torch.load('/content/gdrive/MyDrive/NLP Project/model_pt/model_french_task_a.pt')\n",
        "model_eng = model_eng.to(device)\n",
        "\n",
        "optimizer_ger = AdamW(model_eng.parameters(),lr=2e-5,eps=1e-8)\n",
        "\n",
        "epochs=10\n",
        "total_steps = len(train_data_loader_ger) * epochs\n",
        "\n",
        "scheduler = get_linear_schedule_with_warmup(optimizer_ger,\n",
        "                                           num_warmup_steps=0,\n",
        "                                           num_training_steps=total_steps)\n",
        "\n",
        "total_t0 = time.time()\n",
        "\n",
        "seed_val = 42\n",
        "\n",
        "random.seed(seed_val)\n",
        "np.random.seed(seed_val)\n",
        "torch.manual_seed(seed_val)\n",
        "torch.cuda.manual_seed_all(seed_val)\n",
        "\n",
        "epochs = 10\n",
        "\n",
        "best_macro_f1 = float('0')\n",
        "train_acc_eng_ger = []\n",
        "val_acc_eng_ger = []\n",
        "train_loss_eng_ger=[]\n",
        "val_loss_eng_ger=[]\n",
        "\n",
        "for epoch in range(epochs):\n",
        "    \n",
        "    start_time = time.time()\n",
        "    train_loss,train_acc = train(model_eng, train_data_loader_ger, optimizer_ger)\n",
        "    valid_loss,valid_acc,macro_f1 = evaluate(model_eng, valid_data_loader_ger)\n",
        "    \n",
        "    end_time = time.time()\n",
        "        \n",
        "    epoch_mins, epoch_secs = epoch_time(start_time, end_time)\n",
        "        \n",
        "    if macro_f1 > best_macro_f1:\n",
        "        best_macro_f1 = macro_f1\n",
        "        torch.save(model_eng,\"/content/gdrive/MyDrive/NLP Project/model_pt/model_french_german_task_a.pt\")\n",
        "    \n",
        "    print(f'Epoch: {epoch+1:02} | Epoch Time: {epoch_mins}m {epoch_secs}s')\n",
        "    print(f'\\tTrain Loss: {train_loss:.3f} | Train Acc: {train_acc*100:.2f}%')\n",
        "    print(f'\\t Val. Loss: {valid_loss:.3f} |  Val. Acc: {valid_acc*100:.2f}%')\n",
        "    train_acc_eng_ger.append(train_acc*100)\n",
        "    val_acc_eng_ger.append(valid_acc*100)\n",
        "    train_loss_eng_ger.append(train_loss*100)\n",
        "    val_loss_eng_ger.append(valid_loss*100)"
      ]
    },
    {
      "cell_type": "code",
      "execution_count": null,
      "metadata": {
        "colab": {
          "background_save": true
        },
        "id": "LBKu1GuUJ-ul",
        "outputId": "b6849c97-1bb8-4ec7-b59d-e53677409deb"
      },
      "outputs": [
        {
          "data": {
            "image/png": "[encoded data removed]",
            "text/plain": [
              "<Figure size 432x288 with 1 Axes>"
            ]
          },
          "metadata": {},
          "output_type": "display_data"
        },
        {
          "name": "stdout",
          "output_type": "stream",
          "text": [
            "91.43464846760814\n",
            "88.24607329842931\n"
          ]
        },
        {
          "data": {
            "image/png": "[encoded data removed]",
            "text/plain": [
              "<Figure size 432x288 with 1 Axes>"
            ]
          },
          "metadata": {},
          "output_type": "display_data"
        },
        {
          "name": "stdout",
          "output_type": "stream",
          "text": [
            "29.13815866006265\n",
            "43.094042387335016\n"
          ]
        }
      ],
      "source": [
        "plot_vc(train_acc_eng_ger, val_acc_eng_ger)\n",
        "print(np.mean(train_acc_eng_ger))\n",
        "print(np.mean(val_acc_eng_ger))\n",
        "\n",
        "plot_lc(train_loss_eng_ger, val_loss_eng_ger)\n",
        "print(np.mean(train_loss_eng_ger))\n",
        "print(np.mean(val_loss_eng_ger))"
      ]
    },
    {
      "cell_type": "markdown",
      "metadata": {
        "id": "rKMRQRDvIAhM"
      },
      "source": [
        "###Evaluate BERT French->GER"
      ]
    },
    {
      "cell_type": "code",
      "execution_count": null,
      "metadata": {
        "colab": {
          "background_save": true
        },
        "id": "YBGB05XFHqlW",
        "outputId": "907e4fa8-197d-41a3-c7a7-4b5edd50f3ed"
      },
      "outputs": [
        {
          "name": "stdout",
          "output_type": "stream",
          "text": [
            "              precision    recall  f1-score   support\n",
            "\n",
            "           0       0.38      0.50      0.43       103\n",
            "           1       0.87      0.80      0.83       423\n",
            "\n",
            "    accuracy                           0.74       526\n",
            "   macro avg       0.62      0.65      0.63       526\n",
            "weighted avg       0.77      0.74      0.76       526\n",
            "\n",
            "accuracy = 0.74\n"
          ]
        }
      ],
      "source": [
        "# if model_ger:\n",
        "#   del model_ger\n",
        "import gc\n",
        "gc.collect()\n",
        "\n",
        "model_ger = torch.load(\"/content/gdrive/MyDrive/NLP Project/model_pt/model_french_german_task_a.pt\")\n",
        "model_ger = model_ger.to(device)\n",
        "\n",
        "valid_loss_ger,valid_acc_ger,all_sentence_id_ger,all_pred_labels_ger = evaluate_test(model_ger, test_data_loader_ger)"
      ]
    },
    {
      "cell_type": "markdown",
      "metadata": {
        "id": "oTwrKjVeNQlL"
      },
      "source": [
        "### TODO\n",
        "\n",
        "\n",
        "\n",
        "*   Plot loss curve instead of accuracy curve [DONE]\n",
        "*   Verify the code flow and variable names [DONE]\n",
        "*   Results not good? Analyze the tokens generated - how much similar and how not. [DONE]\n",
        "\n",
        "---\n",
        "\n",
        "*   Data Augmentation [TBD]\n",
        "\n",
        "\n",
        "\n",
        "\n",
        "\n"
      ]
    },
    {
      "cell_type": "code",
      "execution_count": null,
      "metadata": {
        "id": "OWwtptsgNEbS"
      },
      "outputs": [],
      "source": [
        ""
      ]
    }
  ],
  "metadata": {
    "accelerator": "GPU",
    "colab": {
      "collapsed_sections": [
        "iQawXY3di4l5",
        "IyljbtiPkyKB",
        "MRhzfl7iQCKE",
        "zSA_yRx5Tv3H",
        "E3zT94M-XR0E",
        "Wml4GYNgXGO2",
        "rYLhxX6SYOVJ",
        "IjCXmZ_msEDM",
        "OtQhFhKG-jxr",
        "xhv1afoZfZaf",
        "1e-3zzdHedgm"
      ],
      "machine_shape": "hm",
      "name": "NLP_Project_French_Spa_Ger.ipynb",
      "provenance": []
    },
    "kernelspec": {
      "display_name": "Python 3",
      "name": "python3"
    },
    "language_info": {
      "name": "python"
    },
    "widgets": {
      "application/vnd.jupyter.widget-state+json": {
        "071dac6c69194f07ba1fffa2b51c523a": {
          "model_module": "@jupyter-widgets/base",
          "model_module_version": "1.2.0",
          "model_name": "LayoutModel",
          "state": {
            "_model_module": "@jupyter-widgets/base",
            "_model_module_version": "1.2.0",
            "_model_name": "LayoutModel",
            "_view_count": null,
            "_view_module": "@jupyter-widgets/base",
            "_view_module_version": "1.2.0",
            "_view_name": "LayoutView",
            "align_content": null,
            "align_items": null,
            "align_self": null,
            "border": null,
            "bottom": null,
            "display": null,
            "flex": null,
            "flex_flow": null,
            "grid_area": null,
            "grid_auto_columns": null,
            "grid_auto_flow": null,
            "grid_auto_rows": null,
            "grid_column": null,
            "grid_gap": null,
            "grid_row": null,
            "grid_template_areas": null,
            "grid_template_columns": null,
            "grid_template_rows": null,
            "height": null,
            "justify_content": null,
            "justify_items": null,
            "left": null,
            "margin": null,
            "max_height": null,
            "max_width": null,
            "min_height": null,
            "min_width": null,
            "object_fit": null,
            "object_position": null,
            "order": null,
            "overflow": null,
            "overflow_x": null,
            "overflow_y": null,
            "padding": null,
            "right": null,
            "top": null,
            "visibility": null,
            "width": null
          }
        },
        "08b3b6f9348e4242b05893208d3a987f": {
          "model_module": "@jupyter-widgets/base",
          "model_module_version": "1.2.0",
          "model_name": "LayoutModel",
          "state": {
            "_model_module": "@jupyter-widgets/base",
            "_model_module_version": "1.2.0",
            "_model_name": "LayoutModel",
            "_view_count": null,
            "_view_module": "@jupyter-widgets/base",
            "_view_module_version": "1.2.0",
            "_view_name": "LayoutView",
            "align_content": null,
            "align_items": null,
            "align_self": null,
            "border": null,
            "bottom": null,
            "display": null,
            "flex": null,
            "flex_flow": null,
            "grid_area": null,
            "grid_auto_columns": null,
            "grid_auto_flow": null,
            "grid_auto_rows": null,
            "grid_column": null,
            "grid_gap": null,
            "grid_row": null,
            "grid_template_areas": null,
            "grid_template_columns": null,
            "grid_template_rows": null,
            "height": null,
            "justify_content": null,
            "justify_items": null,
            "left": null,
            "margin": null,
            "max_height": null,
            "max_width": null,
            "min_height": null,
            "min_width": null,
            "object_fit": null,
            "object_position": null,
            "order": null,
            "overflow": null,
            "overflow_x": null,
            "overflow_y": null,
            "padding": null,
            "right": null,
            "top": null,
            "visibility": null,
            "width": null
          }
        },
        "0912b414891c490aa65b5b82b342c6b7": {
          "model_module": "@jupyter-widgets/base",
          "model_module_version": "1.2.0",
          "model_name": "LayoutModel",
          "state": {
            "_model_module": "@jupyter-widgets/base",
            "_model_module_version": "1.2.0",
            "_model_name": "LayoutModel",
            "_view_count": null,
            "_view_module": "@jupyter-widgets/base",
            "_view_module_version": "1.2.0",
            "_view_name": "LayoutView",
            "align_content": null,
            "align_items": null,
            "align_self": null,
            "border": null,
            "bottom": null,
            "display": null,
            "flex": null,
            "flex_flow": null,
            "grid_area": null,
            "grid_auto_columns": null,
            "grid_auto_flow": null,
            "grid_auto_rows": null,
            "grid_column": null,
            "grid_gap": null,
            "grid_row": null,
            "grid_template_areas": null,
            "grid_template_columns": null,
            "grid_template_rows": null,
            "height": null,
            "justify_content": null,
            "justify_items": null,
            "left": null,
            "margin": null,
            "max_height": null,
            "max_width": null,
            "min_height": null,
            "min_width": null,
            "object_fit": null,
            "object_position": null,
            "order": null,
            "overflow": null,
            "overflow_x": null,
            "overflow_y": null,
            "padding": null,
            "right": null,
            "top": null,
            "visibility": null,
            "width": null
          }
        },
        "12b978159b954d20b02901c2509409e2": {
          "model_module": "@jupyter-widgets/controls",
          "model_module_version": "1.5.0",
          "model_name": "HBoxModel",
          "state": {
            "_dom_classes": [],
            "_model_module": "@jupyter-widgets/controls",
            "_model_module_version": "1.5.0",
            "_model_name": "HBoxModel",
            "_view_count": null,
            "_view_module": "@jupyter-widgets/controls",
            "_view_module_version": "1.5.0",
            "_view_name": "HBoxView",
            "box_style": "",
            "children": [
              "IPY_MODEL_7dc3dfc64f604443b1a3839ecc5809e1",
              "IPY_MODEL_c1a901c8afc44ac2bddcdce5e8052a51",
              "IPY_MODEL_f0101984fcf7489797da766cb32db6b7"
            ],
            "layout": "IPY_MODEL_91918e2b0386499b8d4be4432dfd479e"
          }
        },
        "12fdde0a653447eb8fdfd2fe1f210ab0": {
          "model_module": "@jupyter-widgets/controls",
          "model_module_version": "1.5.0",
          "model_name": "ProgressStyleModel",
          "state": {
            "_model_module": "@jupyter-widgets/controls",
            "_model_module_version": "1.5.0",
            "_model_name": "ProgressStyleModel",
            "_view_count": null,
            "_view_module": "@jupyter-widgets/base",
            "_view_module_version": "1.2.0",
            "_view_name": "StyleView",
            "bar_color": null,
            "description_width": ""
          }
        },
        "137c7e09581147048d808049ed4545f1": {
          "model_module": "@jupyter-widgets/base",
          "model_module_version": "1.2.0",
          "model_name": "LayoutModel",
          "state": {
            "_model_module": "@jupyter-widgets/base",
            "_model_module_version": "1.2.0",
            "_model_name": "LayoutModel",
            "_view_count": null,
            "_view_module": "@jupyter-widgets/base",
            "_view_module_version": "1.2.0",
            "_view_name": "LayoutView",
            "align_content": null,
            "align_items": null,
            "align_self": null,
            "border": null,
            "bottom": null,
            "display": null,
            "flex": null,
            "flex_flow": null,
            "grid_area": null,
            "grid_auto_columns": null,
            "grid_auto_flow": null,
            "grid_auto_rows": null,
            "grid_column": null,
            "grid_gap": null,
            "grid_row": null,
            "grid_template_areas": null,
            "grid_template_columns": null,
            "grid_template_rows": null,
            "height": null,
            "justify_content": null,
            "justify_items": null,
            "left": null,
            "margin": null,
            "max_height": null,
            "max_width": null,
            "min_height": null,
            "min_width": null,
            "object_fit": null,
            "object_position": null,
            "order": null,
            "overflow": null,
            "overflow_x": null,
            "overflow_y": null,
            "padding": null,
            "right": null,
            "top": null,
            "visibility": null,
            "width": null
          }
        },
        "15be88538bb24f0c9cb946899e57319a": {
          "model_module": "@jupyter-widgets/controls",
          "model_module_version": "1.5.0",
          "model_name": "DescriptionStyleModel",
          "state": {
            "_model_module": "@jupyter-widgets/controls",
            "_model_module_version": "1.5.0",
            "_model_name": "DescriptionStyleModel",
            "_view_count": null,
            "_view_module": "@jupyter-widgets/base",
            "_view_module_version": "1.2.0",
            "_view_name": "StyleView",
            "description_width": ""
          }
        },
        "21c01d271c694304b9744aa9c291d00f": {
          "model_module": "@jupyter-widgets/controls",
          "model_module_version": "1.5.0",
          "model_name": "FloatProgressModel",
          "state": {
            "_dom_classes": [],
            "_model_module": "@jupyter-widgets/controls",
            "_model_module_version": "1.5.0",
            "_model_name": "FloatProgressModel",
            "_view_count": null,
            "_view_module": "@jupyter-widgets/controls",
            "_view_module_version": "1.5.0",
            "_view_name": "ProgressView",
            "bar_style": "success",
            "description": "",
            "description_tooltip": null,
            "layout": "IPY_MODEL_93c015bb93f64498910f63428373490b",
            "max": 995526,
            "min": 0,
            "orientation": "horizontal",
            "style": "IPY_MODEL_6dc4b64e8d364f0e89515c7c7591fca4",
            "value": 995526
          }
        },
        "2b4f54798f65469881c58f2cf94e930b": {
          "model_module": "@jupyter-widgets/controls",
          "model_module_version": "1.5.0",
          "model_name": "FloatProgressModel",
          "state": {
            "_dom_classes": [],
            "_model_module": "@jupyter-widgets/controls",
            "_model_module_version": "1.5.0",
            "_model_name": "FloatProgressModel",
            "_view_count": null,
            "_view_module": "@jupyter-widgets/controls",
            "_view_module_version": "1.5.0",
            "_view_name": "ProgressView",
            "bar_style": "success",
            "description": "",
            "description_tooltip": null,
            "layout": "IPY_MODEL_08b3b6f9348e4242b05893208d3a987f",
            "max": 29,
            "min": 0,
            "orientation": "horizontal",
            "style": "IPY_MODEL_a17b8f799c914722b6c6a09c12d03e7b",
            "value": 29
          }
        },
        "2c12216338264ffaa7afec9eefe92667": {
          "model_module": "@jupyter-widgets/controls",
          "model_module_version": "1.5.0",
          "model_name": "HBoxModel",
          "state": {
            "_dom_classes": [],
            "_model_module": "@jupyter-widgets/controls",
            "_model_module_version": "1.5.0",
            "_model_name": "HBoxModel",
            "_view_count": null,
            "_view_module": "@jupyter-widgets/controls",
            "_view_module_version": "1.5.0",
            "_view_name": "HBoxView",
            "box_style": "",
            "children": [
              "IPY_MODEL_c80ba34de9844dd7a144f7e0d2ac1b0c",
              "IPY_MODEL_21c01d271c694304b9744aa9c291d00f",
              "IPY_MODEL_ed92056014284edc94969b8449ae29f5"
            ],
            "layout": "IPY_MODEL_fbc70b3facab48a38922d3a1996f509d"
          }
        },
        "3e076f9ae24f46719e511fdfd8fe04c2": {
          "model_module": "@jupyter-widgets/base",
          "model_module_version": "1.2.0",
          "model_name": "LayoutModel",
          "state": {
            "_model_module": "@jupyter-widgets/base",
            "_model_module_version": "1.2.0",
            "_model_name": "LayoutModel",
            "_view_count": null,
            "_view_module": "@jupyter-widgets/base",
            "_view_module_version": "1.2.0",
            "_view_name": "LayoutView",
            "align_content": null,
            "align_items": null,
            "align_self": null,
            "border": null,
            "bottom": null,
            "display": null,
            "flex": null,
            "flex_flow": null,
            "grid_area": null,
            "grid_auto_columns": null,
            "grid_auto_flow": null,
            "grid_auto_rows": null,
            "grid_column": null,
            "grid_gap": null,
            "grid_row": null,
            "grid_template_areas": null,
            "grid_template_columns": null,
            "grid_template_rows": null,
            "height": null,
            "justify_content": null,
            "justify_items": null,
            "left": null,
            "margin": null,
            "max_height": null,
            "max_width": null,
            "min_height": null,
            "min_width": null,
            "object_fit": null,
            "object_position": null,
            "order": null,
            "overflow": null,
            "overflow_x": null,
            "overflow_y": null,
            "padding": null,
            "right": null,
            "top": null,
            "visibility": null,
            "width": null
          }
        },
        "45141e9fbd3f48989fc36a163c535169": {
          "model_module": "@jupyter-widgets/controls",
          "model_module_version": "1.5.0",
          "model_name": "DescriptionStyleModel",
          "state": {
            "_model_module": "@jupyter-widgets/controls",
            "_model_module_version": "1.5.0",
            "_model_name": "DescriptionStyleModel",
            "_view_count": null,
            "_view_module": "@jupyter-widgets/base",
            "_view_module_version": "1.2.0",
            "_view_name": "StyleView",
            "description_width": ""
          }
        },
        "58b09e8434604ba6a2921602042d4f33": {
          "model_module": "@jupyter-widgets/controls",
          "model_module_version": "1.5.0",
          "model_name": "HBoxModel",
          "state": {
            "_dom_classes": [],
            "_model_module": "@jupyter-widgets/controls",
            "_model_module_version": "1.5.0",
            "_model_name": "HBoxModel",
            "_view_count": null,
            "_view_module": "@jupyter-widgets/controls",
            "_view_module_version": "1.5.0",
            "_view_name": "HBoxView",
            "box_style": "",
            "children": [
              "IPY_MODEL_bb68d0cdb3f54e8aa71738dfb4bd6476",
              "IPY_MODEL_f1494339511248859b72565fe4464b86",
              "IPY_MODEL_7d4471f395c8494da6e4615c9d18631e"
            ],
            "layout": "IPY_MODEL_0912b414891c490aa65b5b82b342c6b7"
          }
        },
        "5d8d4898a1754371bf976c530d9f5bf9": {
          "model_module": "@jupyter-widgets/controls",
          "model_module_version": "1.5.0",
          "model_name": "HTMLModel",
          "state": {
            "_dom_classes": [],
            "_model_module": "@jupyter-widgets/controls",
            "_model_module_version": "1.5.0",
            "_model_name": "HTMLModel",
            "_view_count": null,
            "_view_module": "@jupyter-widgets/controls",
            "_view_module_version": "1.5.0",
            "_view_name": "HTMLView",
            "description": "",
            "description_tooltip": null,
            "layout": "IPY_MODEL_773a6e4d57684bafbc525e0237c5847f",
            "placeholder": "​",
            "style": "IPY_MODEL_45141e9fbd3f48989fc36a163c535169",
            "value": " 29.0/29.0 [00:00&lt;00:00, 996B/s]"
          }
        },
        "64f1800bdb7449f0824e13c721dbb5bd": {
          "model_module": "@jupyter-widgets/controls",
          "model_module_version": "1.5.0",
          "model_name": "HBoxModel",
          "state": {
            "_dom_classes": [],
            "_model_module": "@jupyter-widgets/controls",
            "_model_module_version": "1.5.0",
            "_model_name": "HBoxModel",
            "_view_count": null,
            "_view_module": "@jupyter-widgets/controls",
            "_view_module_version": "1.5.0",
            "_view_name": "HBoxView",
            "box_style": "",
            "children": [
              "IPY_MODEL_abbe6549c32b4be992a9a57650299fb6",
              "IPY_MODEL_2b4f54798f65469881c58f2cf94e930b",
              "IPY_MODEL_5d8d4898a1754371bf976c530d9f5bf9"
            ],
            "layout": "IPY_MODEL_fbf8e96b693444839524dce0560d06fc"
          }
        },
        "6a7e4a1ae4634a6c8f668a2d78291c20": {
          "model_module": "@jupyter-widgets/base",
          "model_module_version": "1.2.0",
          "model_name": "LayoutModel",
          "state": {
            "_model_module": "@jupyter-widgets/base",
            "_model_module_version": "1.2.0",
            "_model_name": "LayoutModel",
            "_view_count": null,
            "_view_module": "@jupyter-widgets/base",
            "_view_module_version": "1.2.0",
            "_view_name": "LayoutView",
            "align_content": null,
            "align_items": null,
            "align_self": null,
            "border": null,
            "bottom": null,
            "display": null,
            "flex": null,
            "flex_flow": null,
            "grid_area": null,
            "grid_auto_columns": null,
            "grid_auto_flow": null,
            "grid_auto_rows": null,
            "grid_column": null,
            "grid_gap": null,
            "grid_row": null,
            "grid_template_areas": null,
            "grid_template_columns": null,
            "grid_template_rows": null,
            "height": null,
            "justify_content": null,
            "justify_items": null,
            "left": null,
            "margin": null,
            "max_height": null,
            "max_width": null,
            "min_height": null,
            "min_width": null,
            "object_fit": null,
            "object_position": null,
            "order": null,
            "overflow": null,
            "overflow_x": null,
            "overflow_y": null,
            "padding": null,
            "right": null,
            "top": null,
            "visibility": null,
            "width": null
          }
        },
        "6dc4b64e8d364f0e89515c7c7591fca4": {
          "model_module": "@jupyter-widgets/controls",
          "model_module_version": "1.5.0",
          "model_name": "ProgressStyleModel",
          "state": {
            "_model_module": "@jupyter-widgets/controls",
            "_model_module_version": "1.5.0",
            "_model_name": "ProgressStyleModel",
            "_view_count": null,
            "_view_module": "@jupyter-widgets/base",
            "_view_module_version": "1.2.0",
            "_view_name": "StyleView",
            "bar_color": null,
            "description_width": ""
          }
        },
        "6eef718657f94f74a3077510aefba70e": {
          "model_module": "@jupyter-widgets/controls",
          "model_module_version": "1.5.0",
          "model_name": "DescriptionStyleModel",
          "state": {
            "_model_module": "@jupyter-widgets/controls",
            "_model_module_version": "1.5.0",
            "_model_name": "DescriptionStyleModel",
            "_view_count": null,
            "_view_module": "@jupyter-widgets/base",
            "_view_module_version": "1.2.0",
            "_view_name": "StyleView",
            "description_width": ""
          }
        },
        "773a6e4d57684bafbc525e0237c5847f": {
          "model_module": "@jupyter-widgets/base",
          "model_module_version": "1.2.0",
          "model_name": "LayoutModel",
          "state": {
            "_model_module": "@jupyter-widgets/base",
            "_model_module_version": "1.2.0",
            "_model_name": "LayoutModel",
            "_view_count": null,
            "_view_module": "@jupyter-widgets/base",
            "_view_module_version": "1.2.0",
            "_view_name": "LayoutView",
            "align_content": null,
            "align_items": null,
            "align_self": null,
            "border": null,
            "bottom": null,
            "display": null,
            "flex": null,
            "flex_flow": null,
            "grid_area": null,
            "grid_auto_columns": null,
            "grid_auto_flow": null,
            "grid_auto_rows": null,
            "grid_column": null,
            "grid_gap": null,
            "grid_row": null,
            "grid_template_areas": null,
            "grid_template_columns": null,
            "grid_template_rows": null,
            "height": null,
            "justify_content": null,
            "justify_items": null,
            "left": null,
            "margin": null,
            "max_height": null,
            "max_width": null,
            "min_height": null,
            "min_width": null,
            "object_fit": null,
            "object_position": null,
            "order": null,
            "overflow": null,
            "overflow_x": null,
            "overflow_y": null,
            "padding": null,
            "right": null,
            "top": null,
            "visibility": null,
            "width": null
          }
        },
        "7d4471f395c8494da6e4615c9d18631e": {
          "model_module": "@jupyter-widgets/controls",
          "model_module_version": "1.5.0",
          "model_name": "HTMLModel",
          "state": {
            "_dom_classes": [],
            "_model_module": "@jupyter-widgets/controls",
            "_model_module_version": "1.5.0",
            "_model_name": "HTMLModel",
            "_view_count": null,
            "_view_module": "@jupyter-widgets/controls",
            "_view_module_version": "1.5.0",
            "_view_name": "HTMLView",
            "description": "",
            "description_tooltip": null,
            "layout": "IPY_MODEL_ff58fb2c11f646cea2512b58018369a4",
            "placeholder": "​",
            "style": "IPY_MODEL_15be88538bb24f0c9cb946899e57319a",
            "value": " 625/625 [00:00&lt;00:00, 20.2kB/s]"
          }
        },
        "7dc3dfc64f604443b1a3839ecc5809e1": {
          "model_module": "@jupyter-widgets/controls",
          "model_module_version": "1.5.0",
          "model_name": "HTMLModel",
          "state": {
            "_dom_classes": [],
            "_model_module": "@jupyter-widgets/controls",
            "_model_module_version": "1.5.0",
            "_model_name": "HTMLModel",
            "_view_count": null,
            "_view_module": "@jupyter-widgets/controls",
            "_view_module_version": "1.5.0",
            "_view_name": "HTMLView",
            "description": "",
            "description_tooltip": null,
            "layout": "IPY_MODEL_accdc332c6304ccbb9345b5987069651",
            "placeholder": "​",
            "style": "IPY_MODEL_991ffd34f89045c391c60b5e05bb3be0",
            "value": "Downloading: 100%"
          }
        },
        "7f05c49909b04ca6a32d35e2e06ddf8e": {
          "model_module": "@jupyter-widgets/controls",
          "model_module_version": "1.5.0",
          "model_name": "DescriptionStyleModel",
          "state": {
            "_model_module": "@jupyter-widgets/controls",
            "_model_module_version": "1.5.0",
            "_model_name": "DescriptionStyleModel",
            "_view_count": null,
            "_view_module": "@jupyter-widgets/base",
            "_view_module_version": "1.2.0",
            "_view_name": "StyleView",
            "description_width": ""
          }
        },
        "8268a7f37a184a468c1daf8ec3aedff8": {
          "model_module": "@jupyter-widgets/base",
          "model_module_version": "1.2.0",
          "model_name": "LayoutModel",
          "state": {
            "_model_module": "@jupyter-widgets/base",
            "_model_module_version": "1.2.0",
            "_model_name": "LayoutModel",
            "_view_count": null,
            "_view_module": "@jupyter-widgets/base",
            "_view_module_version": "1.2.0",
            "_view_name": "LayoutView",
            "align_content": null,
            "align_items": null,
            "align_self": null,
            "border": null,
            "bottom": null,
            "display": null,
            "flex": null,
            "flex_flow": null,
            "grid_area": null,
            "grid_auto_columns": null,
            "grid_auto_flow": null,
            "grid_auto_rows": null,
            "grid_column": null,
            "grid_gap": null,
            "grid_row": null,
            "grid_template_areas": null,
            "grid_template_columns": null,
            "grid_template_rows": null,
            "height": null,
            "justify_content": null,
            "justify_items": null,
            "left": null,
            "margin": null,
            "max_height": null,
            "max_width": null,
            "min_height": null,
            "min_width": null,
            "object_fit": null,
            "object_position": null,
            "order": null,
            "overflow": null,
            "overflow_x": null,
            "overflow_y": null,
            "padding": null,
            "right": null,
            "top": null,
            "visibility": null,
            "width": null
          }
        },
        "8b1a82c0396c43ee8b98008f87427069": {
          "model_module": "@jupyter-widgets/controls",
          "model_module_version": "1.5.0",
          "model_name": "ProgressStyleModel",
          "state": {
            "_model_module": "@jupyter-widgets/controls",
            "_model_module_version": "1.5.0",
            "_model_name": "ProgressStyleModel",
            "_view_count": null,
            "_view_module": "@jupyter-widgets/base",
            "_view_module_version": "1.2.0",
            "_view_name": "StyleView",
            "bar_color": null,
            "description_width": ""
          }
        },
        "91918e2b0386499b8d4be4432dfd479e": {
          "model_module": "@jupyter-widgets/base",
          "model_module_version": "1.2.0",
          "model_name": "LayoutModel",
          "state": {
            "_model_module": "@jupyter-widgets/base",
            "_model_module_version": "1.2.0",
            "_model_name": "LayoutModel",
            "_view_count": null,
            "_view_module": "@jupyter-widgets/base",
            "_view_module_version": "1.2.0",
            "_view_name": "LayoutView",
            "align_content": null,
            "align_items": null,
            "align_self": null,
            "border": null,
            "bottom": null,
            "display": null,
            "flex": null,
            "flex_flow": null,
            "grid_area": null,
            "grid_auto_columns": null,
            "grid_auto_flow": null,
            "grid_auto_rows": null,
            "grid_column": null,
            "grid_gap": null,
            "grid_row": null,
            "grid_template_areas": null,
            "grid_template_columns": null,
            "grid_template_rows": null,
            "height": null,
            "justify_content": null,
            "justify_items": null,
            "left": null,
            "margin": null,
            "max_height": null,
            "max_width": null,
            "min_height": null,
            "min_width": null,
            "object_fit": null,
            "object_position": null,
            "order": null,
            "overflow": null,
            "overflow_x": null,
            "overflow_y": null,
            "padding": null,
            "right": null,
            "top": null,
            "visibility": null,
            "width": null
          }
        },
        "93c015bb93f64498910f63428373490b": {
          "model_module": "@jupyter-widgets/base",
          "model_module_version": "1.2.0",
          "model_name": "LayoutModel",
          "state": {
            "_model_module": "@jupyter-widgets/base",
            "_model_module_version": "1.2.0",
            "_model_name": "LayoutModel",
            "_view_count": null,
            "_view_module": "@jupyter-widgets/base",
            "_view_module_version": "1.2.0",
            "_view_name": "LayoutView",
            "align_content": null,
            "align_items": null,
            "align_self": null,
            "border": null,
            "bottom": null,
            "display": null,
            "flex": null,
            "flex_flow": null,
            "grid_area": null,
            "grid_auto_columns": null,
            "grid_auto_flow": null,
            "grid_auto_rows": null,
            "grid_column": null,
            "grid_gap": null,
            "grid_row": null,
            "grid_template_areas": null,
            "grid_template_columns": null,
            "grid_template_rows": null,
            "height": null,
            "justify_content": null,
            "justify_items": null,
            "left": null,
            "margin": null,
            "max_height": null,
            "max_width": null,
            "min_height": null,
            "min_width": null,
            "object_fit": null,
            "object_position": null,
            "order": null,
            "overflow": null,
            "overflow_x": null,
            "overflow_y": null,
            "padding": null,
            "right": null,
            "top": null,
            "visibility": null,
            "width": null
          }
        },
        "955ee7a1f4b045198cd048fa4ebbec59": {
          "model_module": "@jupyter-widgets/base",
          "model_module_version": "1.2.0",
          "model_name": "LayoutModel",
          "state": {
            "_model_module": "@jupyter-widgets/base",
            "_model_module_version": "1.2.0",
            "_model_name": "LayoutModel",
            "_view_count": null,
            "_view_module": "@jupyter-widgets/base",
            "_view_module_version": "1.2.0",
            "_view_name": "LayoutView",
            "align_content": null,
            "align_items": null,
            "align_self": null,
            "border": null,
            "bottom": null,
            "display": null,
            "flex": null,
            "flex_flow": null,
            "grid_area": null,
            "grid_auto_columns": null,
            "grid_auto_flow": null,
            "grid_auto_rows": null,
            "grid_column": null,
            "grid_gap": null,
            "grid_row": null,
            "grid_template_areas": null,
            "grid_template_columns": null,
            "grid_template_rows": null,
            "height": null,
            "justify_content": null,
            "justify_items": null,
            "left": null,
            "margin": null,
            "max_height": null,
            "max_width": null,
            "min_height": null,
            "min_width": null,
            "object_fit": null,
            "object_position": null,
            "order": null,
            "overflow": null,
            "overflow_x": null,
            "overflow_y": null,
            "padding": null,
            "right": null,
            "top": null,
            "visibility": null,
            "width": null
          }
        },
        "991ffd34f89045c391c60b5e05bb3be0": {
          "model_module": "@jupyter-widgets/controls",
          "model_module_version": "1.5.0",
          "model_name": "DescriptionStyleModel",
          "state": {
            "_model_module": "@jupyter-widgets/controls",
            "_model_module_version": "1.5.0",
            "_model_name": "DescriptionStyleModel",
            "_view_count": null,
            "_view_module": "@jupyter-widgets/base",
            "_view_module_version": "1.2.0",
            "_view_name": "StyleView",
            "description_width": ""
          }
        },
        "a17b8f799c914722b6c6a09c12d03e7b": {
          "model_module": "@jupyter-widgets/controls",
          "model_module_version": "1.5.0",
          "model_name": "ProgressStyleModel",
          "state": {
            "_model_module": "@jupyter-widgets/controls",
            "_model_module_version": "1.5.0",
            "_model_name": "ProgressStyleModel",
            "_view_count": null,
            "_view_module": "@jupyter-widgets/base",
            "_view_module_version": "1.2.0",
            "_view_name": "StyleView",
            "bar_color": null,
            "description_width": ""
          }
        },
        "a682711727cf48a3b5e66a61ec4292ef": {
          "model_module": "@jupyter-widgets/controls",
          "model_module_version": "1.5.0",
          "model_name": "DescriptionStyleModel",
          "state": {
            "_model_module": "@jupyter-widgets/controls",
            "_model_module_version": "1.5.0",
            "_model_name": "DescriptionStyleModel",
            "_view_count": null,
            "_view_module": "@jupyter-widgets/base",
            "_view_module_version": "1.2.0",
            "_view_name": "StyleView",
            "description_width": ""
          }
        },
        "a9939d43c64f47a8b0ca203779a85d18": {
          "model_module": "@jupyter-widgets/base",
          "model_module_version": "1.2.0",
          "model_name": "LayoutModel",
          "state": {
            "_model_module": "@jupyter-widgets/base",
            "_model_module_version": "1.2.0",
            "_model_name": "LayoutModel",
            "_view_count": null,
            "_view_module": "@jupyter-widgets/base",
            "_view_module_version": "1.2.0",
            "_view_name": "LayoutView",
            "align_content": null,
            "align_items": null,
            "align_self": null,
            "border": null,
            "bottom": null,
            "display": null,
            "flex": null,
            "flex_flow": null,
            "grid_area": null,
            "grid_auto_columns": null,
            "grid_auto_flow": null,
            "grid_auto_rows": null,
            "grid_column": null,
            "grid_gap": null,
            "grid_row": null,
            "grid_template_areas": null,
            "grid_template_columns": null,
            "grid_template_rows": null,
            "height": null,
            "justify_content": null,
            "justify_items": null,
            "left": null,
            "margin": null,
            "max_height": null,
            "max_width": null,
            "min_height": null,
            "min_width": null,
            "object_fit": null,
            "object_position": null,
            "order": null,
            "overflow": null,
            "overflow_x": null,
            "overflow_y": null,
            "padding": null,
            "right": null,
            "top": null,
            "visibility": null,
            "width": null
          }
        },
        "abbe6549c32b4be992a9a57650299fb6": {
          "model_module": "@jupyter-widgets/controls",
          "model_module_version": "1.5.0",
          "model_name": "HTMLModel",
          "state": {
            "_dom_classes": [],
            "_model_module": "@jupyter-widgets/controls",
            "_model_module_version": "1.5.0",
            "_model_name": "HTMLModel",
            "_view_count": null,
            "_view_module": "@jupyter-widgets/controls",
            "_view_module_version": "1.5.0",
            "_view_name": "HTMLView",
            "description": "",
            "description_tooltip": null,
            "layout": "IPY_MODEL_bb8135ef99e3486b9672a8c5ea6ec0d2",
            "placeholder": "​",
            "style": "IPY_MODEL_ec10d2b69a054643889b1616be7c80d7",
            "value": "Downloading: 100%"
          }
        },
        "accdc332c6304ccbb9345b5987069651": {
          "model_module": "@jupyter-widgets/base",
          "model_module_version": "1.2.0",
          "model_name": "LayoutModel",
          "state": {
            "_model_module": "@jupyter-widgets/base",
            "_model_module_version": "1.2.0",
            "_model_name": "LayoutModel",
            "_view_count": null,
            "_view_module": "@jupyter-widgets/base",
            "_view_module_version": "1.2.0",
            "_view_name": "LayoutView",
            "align_content": null,
            "align_items": null,
            "align_self": null,
            "border": null,
            "bottom": null,
            "display": null,
            "flex": null,
            "flex_flow": null,
            "grid_area": null,
            "grid_auto_columns": null,
            "grid_auto_flow": null,
            "grid_auto_rows": null,
            "grid_column": null,
            "grid_gap": null,
            "grid_row": null,
            "grid_template_areas": null,
            "grid_template_columns": null,
            "grid_template_rows": null,
            "height": null,
            "justify_content": null,
            "justify_items": null,
            "left": null,
            "margin": null,
            "max_height": null,
            "max_width": null,
            "min_height": null,
            "min_width": null,
            "object_fit": null,
            "object_position": null,
            "order": null,
            "overflow": null,
            "overflow_x": null,
            "overflow_y": null,
            "padding": null,
            "right": null,
            "top": null,
            "visibility": null,
            "width": null
          }
        },
        "b34f0f64109e47ac8d0eec54e31556f8": {
          "model_module": "@jupyter-widgets/controls",
          "model_module_version": "1.5.0",
          "model_name": "DescriptionStyleModel",
          "state": {
            "_model_module": "@jupyter-widgets/controls",
            "_model_module_version": "1.5.0",
            "_model_name": "DescriptionStyleModel",
            "_view_count": null,
            "_view_module": "@jupyter-widgets/base",
            "_view_module_version": "1.2.0",
            "_view_name": "StyleView",
            "description_width": ""
          }
        },
        "b4d28a20fccb4c28bc6004d73519ddb6": {
          "model_module": "@jupyter-widgets/controls",
          "model_module_version": "1.5.0",
          "model_name": "HTMLModel",
          "state": {
            "_dom_classes": [],
            "_model_module": "@jupyter-widgets/controls",
            "_model_module_version": "1.5.0",
            "_model_name": "HTMLModel",
            "_view_count": null,
            "_view_module": "@jupyter-widgets/controls",
            "_view_module_version": "1.5.0",
            "_view_name": "HTMLView",
            "description": "",
            "description_tooltip": null,
            "layout": "IPY_MODEL_137c7e09581147048d808049ed4545f1",
            "placeholder": "​",
            "style": "IPY_MODEL_7f05c49909b04ca6a32d35e2e06ddf8e",
            "value": " 1.87M/1.87M [00:00&lt;00:00, 3.10MB/s]"
          }
        },
        "b9dd010df9fc400da1c5b9dcb4fde7e9": {
          "model_module": "@jupyter-widgets/base",
          "model_module_version": "1.2.0",
          "model_name": "LayoutModel",
          "state": {
            "_model_module": "@jupyter-widgets/base",
            "_model_module_version": "1.2.0",
            "_model_name": "LayoutModel",
            "_view_count": null,
            "_view_module": "@jupyter-widgets/base",
            "_view_module_version": "1.2.0",
            "_view_name": "LayoutView",
            "align_content": null,
            "align_items": null,
            "align_self": null,
            "border": null,
            "bottom": null,
            "display": null,
            "flex": null,
            "flex_flow": null,
            "grid_area": null,
            "grid_auto_columns": null,
            "grid_auto_flow": null,
            "grid_auto_rows": null,
            "grid_column": null,
            "grid_gap": null,
            "grid_row": null,
            "grid_template_areas": null,
            "grid_template_columns": null,
            "grid_template_rows": null,
            "height": null,
            "justify_content": null,
            "justify_items": null,
            "left": null,
            "margin": null,
            "max_height": null,
            "max_width": null,
            "min_height": null,
            "min_width": null,
            "object_fit": null,
            "object_position": null,
            "order": null,
            "overflow": null,
            "overflow_x": null,
            "overflow_y": null,
            "padding": null,
            "right": null,
            "top": null,
            "visibility": null,
            "width": null
          }
        },
        "bb68d0cdb3f54e8aa71738dfb4bd6476": {
          "model_module": "@jupyter-widgets/controls",
          "model_module_version": "1.5.0",
          "model_name": "HTMLModel",
          "state": {
            "_dom_classes": [],
            "_model_module": "@jupyter-widgets/controls",
            "_model_module_version": "1.5.0",
            "_model_name": "HTMLModel",
            "_view_count": null,
            "_view_module": "@jupyter-widgets/controls",
            "_view_module_version": "1.5.0",
            "_view_name": "HTMLView",
            "description": "",
            "description_tooltip": null,
            "layout": "IPY_MODEL_b9dd010df9fc400da1c5b9dcb4fde7e9",
            "placeholder": "​",
            "style": "IPY_MODEL_b34f0f64109e47ac8d0eec54e31556f8",
            "value": "Downloading: 100%"
          }
        },
        "bb8135ef99e3486b9672a8c5ea6ec0d2": {
          "model_module": "@jupyter-widgets/base",
          "model_module_version": "1.2.0",
          "model_name": "LayoutModel",
          "state": {
            "_model_module": "@jupyter-widgets/base",
            "_model_module_version": "1.2.0",
            "_model_name": "LayoutModel",
            "_view_count": null,
            "_view_module": "@jupyter-widgets/base",
            "_view_module_version": "1.2.0",
            "_view_name": "LayoutView",
            "align_content": null,
            "align_items": null,
            "align_self": null,
            "border": null,
            "bottom": null,
            "display": null,
            "flex": null,
            "flex_flow": null,
            "grid_area": null,
            "grid_auto_columns": null,
            "grid_auto_flow": null,
            "grid_auto_rows": null,
            "grid_column": null,
            "grid_gap": null,
            "grid_row": null,
            "grid_template_areas": null,
            "grid_template_columns": null,
            "grid_template_rows": null,
            "height": null,
            "justify_content": null,
            "justify_items": null,
            "left": null,
            "margin": null,
            "max_height": null,
            "max_width": null,
            "min_height": null,
            "min_width": null,
            "object_fit": null,
            "object_position": null,
            "order": null,
            "overflow": null,
            "overflow_x": null,
            "overflow_y": null,
            "padding": null,
            "right": null,
            "top": null,
            "visibility": null,
            "width": null
          }
        },
        "c1a901c8afc44ac2bddcdce5e8052a51": {
          "model_module": "@jupyter-widgets/controls",
          "model_module_version": "1.5.0",
          "model_name": "FloatProgressModel",
          "state": {
            "_dom_classes": [],
            "_model_module": "@jupyter-widgets/controls",
            "_model_module_version": "1.5.0",
            "_model_name": "FloatProgressModel",
            "_view_count": null,
            "_view_module": "@jupyter-widgets/controls",
            "_view_module_version": "1.5.0",
            "_view_name": "ProgressView",
            "bar_style": "success",
            "description": "",
            "description_tooltip": null,
            "layout": "IPY_MODEL_955ee7a1f4b045198cd048fa4ebbec59",
            "max": 714314041,
            "min": 0,
            "orientation": "horizontal",
            "style": "IPY_MODEL_8b1a82c0396c43ee8b98008f87427069",
            "value": 714314041
          }
        },
        "c329fbe3cb1046b9a2154bd780f92061": {
          "model_module": "@jupyter-widgets/controls",
          "model_module_version": "1.5.0",
          "model_name": "FloatProgressModel",
          "state": {
            "_dom_classes": [],
            "_model_module": "@jupyter-widgets/controls",
            "_model_module_version": "1.5.0",
            "_model_name": "FloatProgressModel",
            "_view_count": null,
            "_view_module": "@jupyter-widgets/controls",
            "_view_module_version": "1.5.0",
            "_view_name": "ProgressView",
            "bar_style": "success",
            "description": "",
            "description_tooltip": null,
            "layout": "IPY_MODEL_3e076f9ae24f46719e511fdfd8fe04c2",
            "max": 1961828,
            "min": 0,
            "orientation": "horizontal",
            "style": "IPY_MODEL_12fdde0a653447eb8fdfd2fe1f210ab0",
            "value": 1961828
          }
        },
        "c80ba34de9844dd7a144f7e0d2ac1b0c": {
          "model_module": "@jupyter-widgets/controls",
          "model_module_version": "1.5.0",
          "model_name": "HTMLModel",
          "state": {
            "_dom_classes": [],
            "_model_module": "@jupyter-widgets/controls",
            "_model_module_version": "1.5.0",
            "_model_name": "HTMLModel",
            "_view_count": null,
            "_view_module": "@jupyter-widgets/controls",
            "_view_module_version": "1.5.0",
            "_view_name": "HTMLView",
            "description": "",
            "description_tooltip": null,
            "layout": "IPY_MODEL_6a7e4a1ae4634a6c8f668a2d78291c20",
            "placeholder": "​",
            "style": "IPY_MODEL_a682711727cf48a3b5e66a61ec4292ef",
            "value": "Downloading: 100%"
          }
        },
        "c84b1c9c1ded4f5aa1cf11967c0f415d": {
          "model_module": "@jupyter-widgets/controls",
          "model_module_version": "1.5.0",
          "model_name": "HTMLModel",
          "state": {
            "_dom_classes": [],
            "_model_module": "@jupyter-widgets/controls",
            "_model_module_version": "1.5.0",
            "_model_name": "HTMLModel",
            "_view_count": null,
            "_view_module": "@jupyter-widgets/controls",
            "_view_module_version": "1.5.0",
            "_view_name": "HTMLView",
            "description": "",
            "description_tooltip": null,
            "layout": "IPY_MODEL_071dac6c69194f07ba1fffa2b51c523a",
            "placeholder": "​",
            "style": "IPY_MODEL_d46bc8413a994f97b54c9568a680f124",
            "value": "Downloading: 100%"
          }
        },
        "c9d3a6975f06468d9ee6d825376830c0": {
          "model_module": "@jupyter-widgets/controls",
          "model_module_version": "1.5.0",
          "model_name": "DescriptionStyleModel",
          "state": {
            "_model_module": "@jupyter-widgets/controls",
            "_model_module_version": "1.5.0",
            "_model_name": "DescriptionStyleModel",
            "_view_count": null,
            "_view_module": "@jupyter-widgets/base",
            "_view_module_version": "1.2.0",
            "_view_name": "StyleView",
            "description_width": ""
          }
        },
        "d46bc8413a994f97b54c9568a680f124": {
          "model_module": "@jupyter-widgets/controls",
          "model_module_version": "1.5.0",
          "model_name": "DescriptionStyleModel",
          "state": {
            "_model_module": "@jupyter-widgets/controls",
            "_model_module_version": "1.5.0",
            "_model_name": "DescriptionStyleModel",
            "_view_count": null,
            "_view_module": "@jupyter-widgets/base",
            "_view_module_version": "1.2.0",
            "_view_name": "StyleView",
            "description_width": ""
          }
        },
        "dc078df4fed943a3a8042efe9a339ace": {
          "model_module": "@jupyter-widgets/base",
          "model_module_version": "1.2.0",
          "model_name": "LayoutModel",
          "state": {
            "_model_module": "@jupyter-widgets/base",
            "_model_module_version": "1.2.0",
            "_model_name": "LayoutModel",
            "_view_count": null,
            "_view_module": "@jupyter-widgets/base",
            "_view_module_version": "1.2.0",
            "_view_name": "LayoutView",
            "align_content": null,
            "align_items": null,
            "align_self": null,
            "border": null,
            "bottom": null,
            "display": null,
            "flex": null,
            "flex_flow": null,
            "grid_area": null,
            "grid_auto_columns": null,
            "grid_auto_flow": null,
            "grid_auto_rows": null,
            "grid_column": null,
            "grid_gap": null,
            "grid_row": null,
            "grid_template_areas": null,
            "grid_template_columns": null,
            "grid_template_rows": null,
            "height": null,
            "justify_content": null,
            "justify_items": null,
            "left": null,
            "margin": null,
            "max_height": null,
            "max_width": null,
            "min_height": null,
            "min_width": null,
            "object_fit": null,
            "object_position": null,
            "order": null,
            "overflow": null,
            "overflow_x": null,
            "overflow_y": null,
            "padding": null,
            "right": null,
            "top": null,
            "visibility": null,
            "width": null
          }
        },
        "ec10d2b69a054643889b1616be7c80d7": {
          "model_module": "@jupyter-widgets/controls",
          "model_module_version": "1.5.0",
          "model_name": "DescriptionStyleModel",
          "state": {
            "_model_module": "@jupyter-widgets/controls",
            "_model_module_version": "1.5.0",
            "_model_name": "DescriptionStyleModel",
            "_view_count": null,
            "_view_module": "@jupyter-widgets/base",
            "_view_module_version": "1.2.0",
            "_view_name": "StyleView",
            "description_width": ""
          }
        },
        "ed92056014284edc94969b8449ae29f5": {
          "model_module": "@jupyter-widgets/controls",
          "model_module_version": "1.5.0",
          "model_name": "HTMLModel",
          "state": {
            "_dom_classes": [],
            "_model_module": "@jupyter-widgets/controls",
            "_model_module_version": "1.5.0",
            "_model_name": "HTMLModel",
            "_view_count": null,
            "_view_module": "@jupyter-widgets/controls",
            "_view_module_version": "1.5.0",
            "_view_name": "HTMLView",
            "description": "",
            "description_tooltip": null,
            "layout": "IPY_MODEL_a9939d43c64f47a8b0ca203779a85d18",
            "placeholder": "​",
            "style": "IPY_MODEL_c9d3a6975f06468d9ee6d825376830c0",
            "value": " 972k/972k [00:00&lt;00:00, 2.99MB/s]"
          }
        },
        "f0101984fcf7489797da766cb32db6b7": {
          "model_module": "@jupyter-widgets/controls",
          "model_module_version": "1.5.0",
          "model_name": "HTMLModel",
          "state": {
            "_dom_classes": [],
            "_model_module": "@jupyter-widgets/controls",
            "_model_module_version": "1.5.0",
            "_model_name": "HTMLModel",
            "_view_count": null,
            "_view_module": "@jupyter-widgets/controls",
            "_view_module_version": "1.5.0",
            "_view_name": "HTMLView",
            "description": "",
            "description_tooltip": null,
            "layout": "IPY_MODEL_dc078df4fed943a3a8042efe9a339ace",
            "placeholder": "​",
            "style": "IPY_MODEL_6eef718657f94f74a3077510aefba70e",
            "value": " 681M/681M [00:19&lt;00:00, 40.4MB/s]"
          }
        },
        "f1494339511248859b72565fe4464b86": {
          "model_module": "@jupyter-widgets/controls",
          "model_module_version": "1.5.0",
          "model_name": "FloatProgressModel",
          "state": {
            "_dom_classes": [],
            "_model_module": "@jupyter-widgets/controls",
            "_model_module_version": "1.5.0",
            "_model_name": "FloatProgressModel",
            "_view_count": null,
            "_view_module": "@jupyter-widgets/controls",
            "_view_module_version": "1.5.0",
            "_view_name": "ProgressView",
            "bar_style": "success",
            "description": "",
            "description_tooltip": null,
            "layout": "IPY_MODEL_8268a7f37a184a468c1daf8ec3aedff8",
            "max": 625,
            "min": 0,
            "orientation": "horizontal",
            "style": "IPY_MODEL_ffa674bc9ea04acdb44dfeae630c7965",
            "value": 625
          }
        },
        "f82250286c9b4d8094404ac4f056d84e": {
          "model_module": "@jupyter-widgets/base",
          "model_module_version": "1.2.0",
          "model_name": "LayoutModel",
          "state": {
            "_model_module": "@jupyter-widgets/base",
            "_model_module_version": "1.2.0",
            "_model_name": "LayoutModel",
            "_view_count": null,
            "_view_module": "@jupyter-widgets/base",
            "_view_module_version": "1.2.0",
            "_view_name": "LayoutView",
            "align_content": null,
            "align_items": null,
            "align_self": null,
            "border": null,
            "bottom": null,
            "display": null,
            "flex": null,
            "flex_flow": null,
            "grid_area": null,
            "grid_auto_columns": null,
            "grid_auto_flow": null,
            "grid_auto_rows": null,
            "grid_column": null,
            "grid_gap": null,
            "grid_row": null,
            "grid_template_areas": null,
            "grid_template_columns": null,
            "grid_template_rows": null,
            "height": null,
            "justify_content": null,
            "justify_items": null,
            "left": null,
            "margin": null,
            "max_height": null,
            "max_width": null,
            "min_height": null,
            "min_width": null,
            "object_fit": null,
            "object_position": null,
            "order": null,
            "overflow": null,
            "overflow_x": null,
            "overflow_y": null,
            "padding": null,
            "right": null,
            "top": null,
            "visibility": null,
            "width": null
          }
        },
        "f993805a60fe4fe981bb1af2dd8288a9": {
          "model_module": "@jupyter-widgets/controls",
          "model_module_version": "1.5.0",
          "model_name": "HBoxModel",
          "state": {
            "_dom_classes": [],
            "_model_module": "@jupyter-widgets/controls",
            "_model_module_version": "1.5.0",
            "_model_name": "HBoxModel",
            "_view_count": null,
            "_view_module": "@jupyter-widgets/controls",
            "_view_module_version": "1.5.0",
            "_view_name": "HBoxView",
            "box_style": "",
            "children": [
              "IPY_MODEL_c84b1c9c1ded4f5aa1cf11967c0f415d",
              "IPY_MODEL_c329fbe3cb1046b9a2154bd780f92061",
              "IPY_MODEL_b4d28a20fccb4c28bc6004d73519ddb6"
            ],
            "layout": "IPY_MODEL_f82250286c9b4d8094404ac4f056d84e"
          }
        },
        "fbc70b3facab48a38922d3a1996f509d": {
          "model_module": "@jupyter-widgets/base",
          "model_module_version": "1.2.0",
          "model_name": "LayoutModel",
          "state": {
            "_model_module": "@jupyter-widgets/base",
            "_model_module_version": "1.2.0",
            "_model_name": "LayoutModel",
            "_view_count": null,
            "_view_module": "@jupyter-widgets/base",
            "_view_module_version": "1.2.0",
            "_view_name": "LayoutView",
            "align_content": null,
            "align_items": null,
            "align_self": null,
            "border": null,
            "bottom": null,
            "display": null,
            "flex": null,
            "flex_flow": null,
            "grid_area": null,
            "grid_auto_columns": null,
            "grid_auto_flow": null,
            "grid_auto_rows": null,
            "grid_column": null,
            "grid_gap": null,
            "grid_row": null,
            "grid_template_areas": null,
            "grid_template_columns": null,
            "grid_template_rows": null,
            "height": null,
            "justify_content": null,
            "justify_items": null,
            "left": null,
            "margin": null,
            "max_height": null,
            "max_width": null,
            "min_height": null,
            "min_width": null,
            "object_fit": null,
            "object_position": null,
            "order": null,
            "overflow": null,
            "overflow_x": null,
            "overflow_y": null,
            "padding": null,
            "right": null,
            "top": null,
            "visibility": null,
            "width": null
          }
        },
        "fbf8e96b693444839524dce0560d06fc": {
          "model_module": "@jupyter-widgets/base",
          "model_module_version": "1.2.0",
          "model_name": "LayoutModel",
          "state": {
            "_model_module": "@jupyter-widgets/base",
            "_model_module_version": "1.2.0",
            "_model_name": "LayoutModel",
            "_view_count": null,
            "_view_module": "@jupyter-widgets/base",
            "_view_module_version": "1.2.0",
            "_view_name": "LayoutView",
            "align_content": null,
            "align_items": null,
            "align_self": null,
            "border": null,
            "bottom": null,
            "display": null,
            "flex": null,
            "flex_flow": null,
            "grid_area": null,
            "grid_auto_columns": null,
            "grid_auto_flow": null,
            "grid_auto_rows": null,
            "grid_column": null,
            "grid_gap": null,
            "grid_row": null,
            "grid_template_areas": null,
            "grid_template_columns": null,
            "grid_template_rows": null,
            "height": null,
            "justify_content": null,
            "justify_items": null,
            "left": null,
            "margin": null,
            "max_height": null,
            "max_width": null,
            "min_height": null,
            "min_width": null,
            "object_fit": null,
            "object_position": null,
            "order": null,
            "overflow": null,
            "overflow_x": null,
            "overflow_y": null,
            "padding": null,
            "right": null,
            "top": null,
            "visibility": null,
            "width": null
          }
        },
        "ff58fb2c11f646cea2512b58018369a4": {
          "model_module": "@jupyter-widgets/base",
          "model_module_version": "1.2.0",
          "model_name": "LayoutModel",
          "state": {
            "_model_module": "@jupyter-widgets/base",
            "_model_module_version": "1.2.0",
            "_model_name": "LayoutModel",
            "_view_count": null,
            "_view_module": "@jupyter-widgets/base",
            "_view_module_version": "1.2.0",
            "_view_name": "LayoutView",
            "align_content": null,
            "align_items": null,
            "align_self": null,
            "border": null,
            "bottom": null,
            "display": null,
            "flex": null,
            "flex_flow": null,
            "grid_area": null,
            "grid_auto_columns": null,
            "grid_auto_flow": null,
            "grid_auto_rows": null,
            "grid_column": null,
            "grid_gap": null,
            "grid_row": null,
            "grid_template_areas": null,
            "grid_template_columns": null,
            "grid_template_rows": null,
            "height": null,
            "justify_content": null,
            "justify_items": null,
            "left": null,
            "margin": null,
            "max_height": null,
            "max_width": null,
            "min_height": null,
            "min_width": null,
            "object_fit": null,
            "object_position": null,
            "order": null,
            "overflow": null,
            "overflow_x": null,
            "overflow_y": null,
            "padding": null,
            "right": null,
            "top": null,
            "visibility": null,
            "width": null
          }
        },
        "ffa674bc9ea04acdb44dfeae630c7965": {
          "model_module": "@jupyter-widgets/controls",
          "model_module_version": "1.5.0",
          "model_name": "ProgressStyleModel",
          "state": {
            "_model_module": "@jupyter-widgets/controls",
            "_model_module_version": "1.5.0",
            "_model_name": "ProgressStyleModel",
            "_view_count": null,
            "_view_module": "@jupyter-widgets/base",
            "_view_module_version": "1.2.0",
            "_view_name": "StyleView",
            "bar_color": null,
            "description_width": ""
          }
        }
      }
    }
  },
  "nbformat": 4,
  "nbformat_minor": 0
}